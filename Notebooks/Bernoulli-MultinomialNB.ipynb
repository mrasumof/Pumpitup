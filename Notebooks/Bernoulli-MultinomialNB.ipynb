{
 "cells": [
  {
   "cell_type": "code",
   "execution_count": 40,
   "metadata": {
    "collapsed": false
   },
   "outputs": [],
   "source": [
    "'''Try BernoulliNB and MultinomialNB with X = np.array([[1],[1],[0],[0]]) and y = np.array([1,1,0,0]) and \n",
    "then understand why you get what you do for .predict_proba(X).\n",
    "\n",
    "Try it!\n",
    "\n",
    "You will likely want to refer to the sklearn documentation for Naive Bayes.\n",
    "\n",
    "Why is it the way it is?'''\n",
    "\n",
    "import numpy as np\n",
    "from sklearn.naive_bayes import BernoulliNB\n",
    "from sklearn.naive_bayes import MultinomialNB\n",
    "\n",
    "X = np.array([[1],[1],[3],[0],[0],[0]])\n",
    "y = np.array([1,1,3,0,0,0])"
   ]
  },
  {
   "cell_type": "code",
   "execution_count": 41,
   "metadata": {
    "collapsed": false
   },
   "outputs": [
    {
     "name": "stdout",
     "output_type": "stream",
     "text": [
      "[[1]\n",
      " [1]\n",
      " [3]\n",
      " [0]\n",
      " [0]\n",
      " [0]]\n"
     ]
    }
   ],
   "source": [
    "print X"
   ]
  },
  {
   "cell_type": "code",
   "execution_count": 42,
   "metadata": {
    "collapsed": false
   },
   "outputs": [
    {
     "name": "stdout",
     "output_type": "stream",
     "text": [
      "[1 1 3 0 0 0]\n"
     ]
    }
   ],
   "source": [
    "print y"
   ]
  },
  {
   "cell_type": "code",
   "execution_count": 50,
   "metadata": {
    "collapsed": false
   },
   "outputs": [
    {
     "name": "stdout",
     "output_type": "stream",
     "text": [
      "BernoulliNB(alpha=1.0, binarize=4.0, class_prior=None, fit_prior=True)\n",
      "[[ 0.52554745  0.32846715  0.1459854 ]\n",
      " [ 0.52554745  0.32846715  0.1459854 ]\n",
      " [ 0.52554745  0.32846715  0.1459854 ]\n",
      " [ 0.52554745  0.32846715  0.1459854 ]\n",
      " [ 0.52554745  0.32846715  0.1459854 ]\n",
      " [ 0.52554745  0.32846715  0.1459854 ]]\n"
     ]
    }
   ],
   "source": [
    "clf = BernoulliNB(binarize=4.0)\n",
    "print clf.fit(X, y)\n",
    "print clf.predict_proba(X)"
   ]
  },
  {
   "cell_type": "code",
   "execution_count": 44,
   "metadata": {
    "collapsed": false
   },
   "outputs": [
    {
     "name": "stdout",
     "output_type": "stream",
     "text": [
      "[[ 0.5         0.33333333  0.16666667]\n",
      " [ 0.5         0.33333333  0.16666667]\n",
      " [ 0.5         0.33333333  0.16666667]\n",
      " [ 0.5         0.33333333  0.16666667]\n",
      " [ 0.5         0.33333333  0.16666667]\n",
      " [ 0.5         0.33333333  0.16666667]]\n"
     ]
    }
   ],
   "source": [
    "mnb = MultinomialNB()\n",
    "mnb.fit(X, y)\n",
    "print mnb.predict_proba(X)"
   ]
  },
  {
   "cell_type": "raw",
   "metadata": {},
   "source": []
  },
  {
   "cell_type": "code",
   "execution_count": null,
   "metadata": {
    "collapsed": true
   },
   "outputs": [],
   "source": []
  },
  {
   "cell_type": "code",
   "execution_count": null,
   "metadata": {
    "collapsed": true
   },
   "outputs": [],
   "source": []
  }
 ],
 "metadata": {
  "kernelspec": {
   "display_name": "Python 2",
   "language": "python",
   "name": "python2"
  },
  "language_info": {
   "codemirror_mode": {
    "name": "ipython",
    "version": 2
   },
   "file_extension": ".py",
   "mimetype": "text/x-python",
   "name": "python",
   "nbconvert_exporter": "python",
   "pygments_lexer": "ipython2",
   "version": "2.7.10"
  }
 },
 "nbformat": 4,
 "nbformat_minor": 0
}
