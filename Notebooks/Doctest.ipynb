{
 "cells": [
  {
   "cell_type": "code",
   "execution_count": null,
   "metadata": {
    "collapsed": true
   },
   "outputs": [],
   "source": [
    "import doctest\n",
    "\n",
    "def fibonacci(pos):\n",
    "    \"\"\"\n",
    "    >>> fibonacci(0)\n",
    "    False\n",
    "    >>> fibonacci(1)\n",
    "    1\n",
    "    >>> fibonacci(2)\n",
    "    1\n",
    "    >>> fibonacci(3)\n",
    "    2\n",
    "    >>> fibonacci(4)\n",
    "    3\n",
    "    >>> fibonacci(5)\n",
    "    5\n",
    "    >>> fibonacci(6)\n",
    "    8\n",
    "    >>> fibonacci(12)\n",
    "    144\n",
    "    \"\"\"\n",
    "    if pos <= 0:\n",
    "        return False\n",
    "    a, b = 1, 1\n",
    "    for i in range(pos-1):\n",
    "        a,b = b, a+b\n",
    "    return a"
   ]
  }
 ],
 "metadata": {
  "kernelspec": {
   "display_name": "Python 2",
   "language": "python",
   "name": "python2"
  },
  "language_info": {
   "codemirror_mode": {
    "name": "ipython",
    "version": 2
   },
   "file_extension": ".py",
   "mimetype": "text/x-python",
   "name": "python",
   "nbconvert_exporter": "python",
   "pygments_lexer": "ipython2",
   "version": "2.7.10"
  }
 },
 "nbformat": 4,
 "nbformat_minor": 0
}
