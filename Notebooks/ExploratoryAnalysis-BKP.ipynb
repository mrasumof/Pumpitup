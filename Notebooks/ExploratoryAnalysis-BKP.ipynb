{
 "cells": [
  {
   "cell_type": "code",
   "execution_count": 11,
   "metadata": {
    "collapsed": false
   },
   "outputs": [
    {
     "name": "stdout",
     "output_type": "stream",
     "text": [
      "['functional' 'non functional' 'functional needs repair']\n",
      "      id           label\n",
      "0  69572      functional\n",
      "1   8776      functional\n",
      "2  34310      functional\n",
      "3  67743  non functional\n",
      "4  19728      functional\n",
      "          id       label\n",
      "59395  60739  functional\n",
      "59396  27263  functional\n",
      "59397  37057  functional\n",
      "59398  31282  functional\n",
      "59399  26348  functional\n"
     ]
    }
   ],
   "source": [
    "import psycopg2\n",
    "import pandas as pd\n",
    "from sklearn.cross_validation import train_test_split\n",
    "\n",
    "def load_labels():\n",
    "    db = psycopg2.connect(database='martinrasumoff')\n",
    "    cursor = db.cursor()\n",
    "\n",
    "    #Loading Labels\n",
    "    cursor.execute(\"select * from labels_water_pumps;\")\n",
    "    list_labels = cursor.fetchall()\n",
    "\n",
    "    series_labels = pd.DataFrame(list_labels)\n",
    "\n",
    "    return series_labels\n",
    "\n",
    "df_labels = load_labels()\n",
    "\n",
    "df_labels.columns = ['id','label']\n",
    "\n",
    "print df_labels['label'].unique()\n",
    "\n",
    "print df_labels.head()\n",
    "print df_labels.tail()"
   ]
  },
  {
   "cell_type": "code",
   "execution_count": 2,
   "metadata": {
    "collapsed": false,
    "scrolled": true
   },
   "outputs": [
    {
     "name": "stdout",
     "output_type": "stream",
     "text": [
      "      id  amount_tsh date_recorded        funder  gps_height     installer  \\\n",
      "0  69572        6000    2011-03-14         Roman        1390         Roman   \n",
      "1   8776           0    2013-03-06       Grumeti        1399       GRUMETI   \n",
      "2  34310          25    2013-02-25  Lottery Club         686  World vision   \n",
      "3  67743           0    2013-01-28        Unicef         263        UNICEF   \n",
      "4  19728           0    2011-07-13   Action In A           0       Artisan   \n",
      "\n",
      "   longitude   latitude              wpt_name num_private  \\\n",
      "0  34.938093  -9.856322                  none           0   \n",
      "1  34.698766  -2.147466              Zahanati           0   \n",
      "2  37.460664  -3.821329           Kwa Mahundi           0   \n",
      "3  38.486161 -11.155298  Zahanati Ya Nanyumbu           0   \n",
      "4  31.130847  -1.825359               Shuleni           0   \n",
      "\n",
      "           ...          payment_type water_quality quality_group  \\\n",
      "0          ...              annually          soft          good   \n",
      "1          ...             never pay          soft          good   \n",
      "2          ...            per bucket          soft          good   \n",
      "3          ...             never pay          soft          good   \n",
      "4          ...             never pay          soft          good   \n",
      "\n",
      "       quantity  quantity_group                source           source_type  \\\n",
      "0        enough          enough                spring                spring   \n",
      "1  insufficient    insufficient  rainwater harvesting  rainwater harvesting   \n",
      "2        enough          enough                   dam                   dam   \n",
      "3           dry             dry           machine dbh              borehole   \n",
      "4      seasonal        seasonal  rainwater harvesting  rainwater harvesting   \n",
      "\n",
      "   source_class              waterpoint_type waterpoint_type_group  \n",
      "0   groundwater           communal standpipe    communal standpipe  \n",
      "1       surface           communal standpipe    communal standpipe  \n",
      "2       surface  communal standpipe multiple    communal standpipe  \n",
      "3   groundwater  communal standpipe multiple    communal standpipe  \n",
      "4       surface           communal standpipe    communal standpipe  \n",
      "\n",
      "[5 rows x 40 columns]\n",
      "          id  amount_tsh date_recorded           funder  gps_height installer  \\\n",
      "59395  60739          10    2013-05-03  Germany Republi        1210       CES   \n",
      "59396  27263        4700    2011-05-07      Cefa-njombe        1212      Cefa   \n",
      "59397  37057           0    2011-04-11             None           0      None   \n",
      "59398  31282           0    2011-03-08            Malec           0      Musa   \n",
      "59399  26348           0    2011-03-23       World Bank         191     World   \n",
      "\n",
      "       longitude  latitude             wpt_name num_private  \\\n",
      "59395  37.169807 -3.253847  Area Three Namba 27           0   \n",
      "59396  35.249991 -9.070629    Kwa Yahona Kuvala           0   \n",
      "59397  34.017087 -8.750434              Mashine           0   \n",
      "59398  35.861315 -6.378573               Mshoro           0   \n",
      "59399  38.104048 -6.747464      Kwa Mzee Lugawa           0   \n",
      "\n",
      "               ...          payment_type water_quality quality_group  \\\n",
      "59395          ...            per bucket          soft          good   \n",
      "59396          ...              annually          soft          good   \n",
      "59397          ...               monthly      fluoride      fluoride   \n",
      "59398          ...             never pay          soft          good   \n",
      "59399          ...            on failure         salty         salty   \n",
      "\n",
      "           quantity  quantity_group        source   source_type  source_class  \\\n",
      "59395        enough          enough        spring        spring   groundwater   \n",
      "59396        enough          enough         river    river/lake       surface   \n",
      "59397        enough          enough   machine dbh      borehole   groundwater   \n",
      "59398  insufficient    insufficient  shallow well  shallow well   groundwater   \n",
      "59399        enough          enough  shallow well  shallow well   groundwater   \n",
      "\n",
      "          waterpoint_type waterpoint_type_group  \n",
      "59395  communal standpipe    communal standpipe  \n",
      "59396  communal standpipe    communal standpipe  \n",
      "59397           hand pump             hand pump  \n",
      "59398           hand pump             hand pump  \n",
      "59399           hand pump             hand pump  \n",
      "\n",
      "[5 rows x 40 columns]\n"
     ]
    }
   ],
   "source": [
    "\n",
    "def load_wells():\n",
    "    db = psycopg2.connect(database='martinrasumoff')\n",
    "    cursor = db.cursor()\n",
    "\n",
    "    #Loading Pump Data\n",
    "    cursor.execute(\"select * from water_pumps;\")\n",
    "    list_pumps = cursor.fetchall()\n",
    "\n",
    "    #Converting wells data into a pandas Data Frame\n",
    "    df_pumps = pd.DataFrame(list_pumps)\n",
    "\n",
    "    return df_pumps\n",
    "\n",
    "df_data = load_wells()\n",
    "\n",
    "df_data.columns = ['id','amount_tsh',\n",
    "                    'date_recorded',\n",
    "                    'funder',\n",
    "                    'gps_height',\n",
    "                    'installer',\n",
    "                    'longitude',\n",
    "                    'latitude',\n",
    "                    'wpt_name',\n",
    "                    'num_private',\n",
    "                    'basin',\n",
    "                    'subvillage',\n",
    "                    'region',\n",
    "                    'region_code',\n",
    "                    'district_code',\n",
    "                    'lga',\n",
    "                    'ward',\n",
    "                    'population',\n",
    "                    'public_meeting',\n",
    "                    'recorded_by',\n",
    "                    'scheme_management',\n",
    "                    'scheme_name',\n",
    "                    'permit',\n",
    "                    'construction_year',\n",
    "                    'extraction_type',\n",
    "                    'extraction_type_group',\n",
    "                    'extraction_type_class',\n",
    "                    'management',\n",
    "                    'management_group',\n",
    "                    'payment',\n",
    "                    'payment_type',\n",
    "                    'water_quality',\n",
    "                    'quality_group',\n",
    "                    'quantity',\n",
    "                    'quantity_group',\n",
    "                    'source',\n",
    "                    'source_type',\n",
    "                    'source_class',\n",
    "                    'waterpoint_type',\n",
    "                    'waterpoint_type_group']\n",
    "\n",
    "print df_data.head()\n",
    "print df_data.tail()"
   ]
  },
  {
   "cell_type": "code",
   "execution_count": 3,
   "metadata": {
    "collapsed": false
   },
   "outputs": [
    {
     "name": "stdout",
     "output_type": "stream",
     "text": [
      "      id           label\n",
      "0  69572      functional\n",
      "1   8776      functional\n",
      "2  34310      functional\n",
      "3  67743  non functional\n",
      "4  19728      functional\n",
      "          id       label\n",
      "59395  60739  functional\n",
      "59396  27263  functional\n",
      "59397  37057  functional\n",
      "59398  31282  functional\n",
      "59399  26348  functional\n"
     ]
    }
   ],
   "source": [
    "df_labels = load_labels()\n",
    "\n",
    "df_labels.columns = ['id','label']\n",
    "\n",
    "print df_labels.head()\n",
    "print df_labels.tail()"
   ]
  },
  {
   "cell_type": "code",
   "execution_count": 4,
   "metadata": {
    "collapsed": false
   },
   "outputs": [
    {
     "name": "stdout",
     "output_type": "stream",
     "text": [
      "       id           label\n",
      "9410    0  non functional\n",
      "18428   1      functional\n",
      "12119   2      functional\n",
      "10629   3      functional\n",
      "2343    4  non functional\n",
      "          id           label\n",
      "15137  74240      functional\n",
      "8667   74242      functional\n",
      "22584  74243  non functional\n",
      "108    74246  non functional\n",
      "39131  74247  non functional\n"
     ]
    }
   ],
   "source": [
    "df_labels = df_labels.sort(['id'])\n",
    "\n",
    "print df_labels.head()\n",
    "print df_labels.tail()"
   ]
  },
  {
   "cell_type": "code",
   "execution_count": 5,
   "metadata": {
    "collapsed": false,
    "scrolled": true
   },
   "outputs": [
    {
     "name": "stdout",
     "output_type": "stream",
     "text": [
      "      id  amount_tsh date_recorded        funder  gps_height     installer  \\\n",
      "0  69572        6000    2011-03-14         Roman        1390         Roman   \n",
      "1   8776           0    2013-03-06       Grumeti        1399       GRUMETI   \n",
      "2  34310          25    2013-02-25  Lottery Club         686  World vision   \n",
      "3  67743           0    2013-01-28        Unicef         263        UNICEF   \n",
      "4  19728           0    2011-07-13   Action In A           0       Artisan   \n",
      "\n",
      "   longitude   latitude              wpt_name num_private  \\\n",
      "0  34.938093  -9.856322                  none           0   \n",
      "1  34.698766  -2.147466              Zahanati           0   \n",
      "2  37.460664  -3.821329           Kwa Mahundi           0   \n",
      "3  38.486161 -11.155298  Zahanati Ya Nanyumbu           0   \n",
      "4  31.130847  -1.825359               Shuleni           0   \n",
      "\n",
      "           ...          payment_type water_quality quality_group  \\\n",
      "0          ...              annually          soft          good   \n",
      "1          ...             never pay          soft          good   \n",
      "2          ...            per bucket          soft          good   \n",
      "3          ...             never pay          soft          good   \n",
      "4          ...             never pay          soft          good   \n",
      "\n",
      "       quantity  quantity_group                source           source_type  \\\n",
      "0        enough          enough                spring                spring   \n",
      "1  insufficient    insufficient  rainwater harvesting  rainwater harvesting   \n",
      "2        enough          enough                   dam                   dam   \n",
      "3           dry             dry           machine dbh              borehole   \n",
      "4      seasonal        seasonal  rainwater harvesting  rainwater harvesting   \n",
      "\n",
      "   source_class              waterpoint_type waterpoint_type_group  \n",
      "0   groundwater           communal standpipe    communal standpipe  \n",
      "1       surface           communal standpipe    communal standpipe  \n",
      "2       surface  communal standpipe multiple    communal standpipe  \n",
      "3   groundwater  communal standpipe multiple    communal standpipe  \n",
      "4       surface           communal standpipe    communal standpipe  \n",
      "\n",
      "[5 rows x 40 columns]\n"
     ]
    }
   ],
   "source": [
    "print df_data.head()"
   ]
  },
  {
   "cell_type": "code",
   "execution_count": 6,
   "metadata": {
    "collapsed": false,
    "scrolled": true
   },
   "outputs": [
    {
     "name": "stdout",
     "output_type": "stream",
     "text": [
      "       id  amount_tsh date_recorded           funder  gps_height installer  \\\n",
      "9425    0           0    2012-11-13            Tasaf           0     TASAF   \n",
      "18440   1           0    2011-03-05            Shipo        1978     SHIPO   \n",
      "12134   2           0    2011-03-27             Lvia           0      LVIA   \n",
      "10644   3          10    2013-06-03  Germany Republi        1639       CES   \n",
      "2350    4           0    2011-03-22             Cmsr           0      CMSR   \n",
      "\n",
      "       longitude  latitude        wpt_name num_private          ...           \\\n",
      "9425   33.125828 -5.118154         Mratibu           0          ...            \n",
      "18440  34.770717 -9.395642            none           0          ...            \n",
      "12134  36.115056 -6.279268         Bombani           0          ...            \n",
      "10644  37.147432 -3.187555  Area 7 Namba 5           0          ...            \n",
      "2350   36.164893 -6.099289         Ezeleda           0          ...            \n",
      "\n",
      "      payment_type water_quality quality_group      quantity  quantity_group  \\\n",
      "9425       unknown         milky         milky        enough          enough   \n",
      "18440    never pay          soft          good        enough          enough   \n",
      "12134   per bucket          soft          good  insufficient    insufficient   \n",
      "10644   per bucket          soft          good        enough          enough   \n",
      "2350       unknown          soft          good           dry             dry   \n",
      "\n",
      "             source   source_type  source_class              waterpoint_type  \\\n",
      "9425   shallow well  shallow well   groundwater                    hand pump   \n",
      "18440  shallow well  shallow well   groundwater                    hand pump   \n",
      "12134   machine dbh      borehole   groundwater  communal standpipe multiple   \n",
      "10644        spring        spring   groundwater           communal standpipe   \n",
      "2350   shallow well  shallow well   groundwater                    hand pump   \n",
      "\n",
      "      waterpoint_type_group  \n",
      "9425              hand pump  \n",
      "18440             hand pump  \n",
      "12134    communal standpipe  \n",
      "10644    communal standpipe  \n",
      "2350              hand pump  \n",
      "\n",
      "[5 rows x 40 columns]\n",
      "          id  amount_tsh date_recorded             funder  gps_height  \\\n",
      "15151  74240           0    2013-03-22       World Vision        1183   \n",
      "8682   74242           0    2011-04-12             Danida           0   \n",
      "22597  74243           0    2012-11-13  Ministry Of Water        1188   \n",
      "108    74246          50    2011-03-07              Ruthe        1428   \n",
      "39138  74247          50    2013-02-16            Mission         965   \n",
      "\n",
      "          installer  longitude   latitude               wpt_name num_private  \\\n",
      "15151  World vision  37.007726  -3.280868  Upendo Primary School           0   \n",
      "8682         DANIDA  33.724987  -8.940758            Kwa Mvulula           0   \n",
      "22597        Hesawa  33.963539  -1.429477      Kwa Wambura Msege           0   \n",
      "108           Ruthe  35.630481  -7.710549                   none           0   \n",
      "39138           DWE  35.432998 -10.639270            Kwa Mapunda           0   \n",
      "\n",
      "               ...          payment_type water_quality quality_group  \\\n",
      "15151          ...               unknown          soft          good   \n",
      "8682           ...            on failure          soft          good   \n",
      "22597          ...             never pay          soft          good   \n",
      "108            ...            per bucket          soft          good   \n",
      "39138          ...            per bucket          soft          good   \n",
      "\n",
      "           quantity  quantity_group                source  \\\n",
      "15151  insufficient    insufficient  rainwater harvesting   \n",
      "8682         enough          enough                 river   \n",
      "22597        enough          enough                  lake   \n",
      "108             dry             dry                spring   \n",
      "39138           dry             dry                 river   \n",
      "\n",
      "                source_type  source_class              waterpoint_type  \\\n",
      "15151  rainwater harvesting       surface           communal standpipe   \n",
      "8682             river/lake       surface           communal standpipe   \n",
      "22597            river/lake       surface  communal standpipe multiple   \n",
      "108                  spring   groundwater           communal standpipe   \n",
      "39138            river/lake       surface           communal standpipe   \n",
      "\n",
      "      waterpoint_type_group  \n",
      "15151    communal standpipe  \n",
      "8682     communal standpipe  \n",
      "22597    communal standpipe  \n",
      "108      communal standpipe  \n",
      "39138    communal standpipe  \n",
      "\n",
      "[5 rows x 40 columns]\n"
     ]
    }
   ],
   "source": [
    "df_data = df_data.sort(['id'])\n",
    "\n",
    "print df_data.head()\n",
    "print df_data.tail()"
   ]
  },
  {
   "cell_type": "code",
   "execution_count": 35,
   "metadata": {
    "collapsed": false
   },
   "outputs": [
    {
     "name": "stdout",
     "output_type": "stream",
     "text": [
      "      id  label     id  amount_tsh date_recorded        funder  gps_height  \\\n",
      "0  69572      1  69572        6000    2011-03-14         Roman        1390   \n",
      "1   8776      1   8776           0    2013-03-06       Grumeti        1399   \n",
      "2  34310      1  34310          25    2013-02-25  Lottery Club         686   \n",
      "3  67743      2  67743           0    2013-01-28        Unicef         263   \n",
      "4  19728      1  19728           0    2011-07-13   Action In A           0   \n",
      "\n",
      "      installer  longitude   latitude          ...           payment_type  \\\n",
      "0         Roman  34.938093  -9.856322          ...               annually   \n",
      "1       GRUMETI  34.698766  -2.147466          ...              never pay   \n",
      "2  World vision  37.460664  -3.821329          ...             per bucket   \n",
      "3        UNICEF  38.486161 -11.155298          ...              never pay   \n",
      "4       Artisan  31.130847  -1.825359          ...              never pay   \n",
      "\n",
      "  water_quality  quality_group quantity quantity_group  source  \\\n",
      "0             1           good        0         enough       2   \n",
      "1             1           good        1   insufficient       3   \n",
      "2             1           good        0         enough       7   \n",
      "3             1           good        2            dry       1   \n",
      "4             1           good        3       seasonal       3   \n",
      "\n",
      "            source_type source_class waterpoint_type  waterpoint_type_group  \n",
      "0                spring            0               2     communal standpipe  \n",
      "1  rainwater harvesting            1               2     communal standpipe  \n",
      "2                   dam            1               1     communal standpipe  \n",
      "3              borehole            0               1     communal standpipe  \n",
      "4  rainwater harvesting            1               2     communal standpipe  \n",
      "\n",
      "[5 rows x 42 columns]\n",
      "(59400, 42)\n"
     ]
    }
   ],
   "source": [
    "\n",
    "df_complete = pd.concat([df_labels,df_data],axis=1)\n",
    "\n",
    "print df_complete.head()\n",
    "print df_complete.shape"
   ]
  },
  {
   "cell_type": "code",
   "execution_count": 37,
   "metadata": {
    "collapsed": false,
    "scrolled": true
   },
   "outputs": [
    {
     "name": "stdout",
     "output_type": "stream",
     "text": [
      "      id  label     id  amount_tsh date_recorded        funder  gps_height  \\\n",
      "0  69572      1  69572        6000    2011-03-14         Roman        1390   \n",
      "1   8776      1   8776           0    2013-03-06       Grumeti        1399   \n",
      "2  34310      1  34310          25    2013-02-25  Lottery Club         686   \n",
      "3  67743      2  67743           0    2013-01-28        Unicef         263   \n",
      "4  19728      1  19728           0    2011-07-13   Action In A           0   \n",
      "\n",
      "      installer  longitude   latitude          ...           payment_type  \\\n",
      "0         Roman  34.938093  -9.856322          ...               annually   \n",
      "1       GRUMETI  34.698766  -2.147466          ...              never pay   \n",
      "2  World vision  37.460664  -3.821329          ...             per bucket   \n",
      "3        UNICEF  38.486161 -11.155298          ...              never pay   \n",
      "4       Artisan  31.130847  -1.825359          ...              never pay   \n",
      "\n",
      "  water_quality  quality_group quantity quantity_group  source  \\\n",
      "0             1           good        0         enough       2   \n",
      "1             1           good        1   insufficient       3   \n",
      "2             1           good        0         enough       7   \n",
      "3             1           good        2            dry       1   \n",
      "4             1           good        3       seasonal       3   \n",
      "\n",
      "            source_type source_class waterpoint_type  waterpoint_type_group  \n",
      "0                spring            0               2     communal standpipe  \n",
      "1  rainwater harvesting            1               2     communal standpipe  \n",
      "2                   dam            1               1     communal standpipe  \n",
      "3              borehole            0               1     communal standpipe  \n",
      "4  rainwater harvesting            1               2     communal standpipe  \n",
      "\n",
      "[5 rows x 42 columns]\n",
      "          id  label     id  amount_tsh date_recorded           funder  \\\n",
      "59395  60739      1  60739          10    2013-05-03  Germany Republi   \n",
      "59396  27263      1  27263        4700    2011-05-07      Cefa-njombe   \n",
      "59397  37057      1  37057           0    2011-04-11             None   \n",
      "59398  31282      1  31282           0    2011-03-08            Malec   \n",
      "59399  26348      1  26348           0    2011-03-23       World Bank   \n",
      "\n",
      "       gps_height installer  longitude  latitude          ...            \\\n",
      "59395        1210       CES  37.169807 -3.253847          ...             \n",
      "59396        1212      Cefa  35.249991 -9.070629          ...             \n",
      "59397           0      None  34.017087 -8.750434          ...             \n",
      "59398           0      Musa  35.861315 -6.378573          ...             \n",
      "59399         191     World  38.104048 -6.747464          ...             \n",
      "\n",
      "      payment_type water_quality  quality_group quantity quantity_group  \\\n",
      "59395   per bucket             1           good        0         enough   \n",
      "59396     annually             1           good        0         enough   \n",
      "59397      monthly             6       fluoride        0         enough   \n",
      "59398    never pay             1           good        1   insufficient   \n",
      "59399   on failure             2          salty        0         enough   \n",
      "\n",
      "       source   source_type source_class waterpoint_type  \\\n",
      "59395       2        spring            0               2   \n",
      "59396       4    river/lake            1               2   \n",
      "59397       1      borehole            0               0   \n",
      "59398       0  shallow well            0               0   \n",
      "59399       0  shallow well            0               0   \n",
      "\n",
      "       waterpoint_type_group  \n",
      "59395     communal standpipe  \n",
      "59396     communal standpipe  \n",
      "59397              hand pump  \n",
      "59398              hand pump  \n",
      "59399              hand pump  \n",
      "\n",
      "[5 rows x 42 columns]\n",
      "(59400, 42)\n"
     ]
    }
   ],
   "source": [
    "def code_df(df):\n",
    "    a = df.basin.unique()\n",
    "    df.basin.replace(a,(1,2,3,4,5,6,7,8,9),inplace=True)\n",
    "\n",
    "    b = df.scheme_management.unique()\n",
    "    df.scheme_management.replace(b,range(len(b)),inplace=True)\n",
    "\n",
    "    c = df.extraction_type_class.unique()\n",
    "    df.extraction_type_class.replace(c,range(len(c)),inplace=True)\n",
    "\n",
    "    d = df.management_group.unique()\n",
    "    df.management_group.replace(d,range(len(d)),inplace=True)\n",
    "\n",
    "    e = df.payment.unique()\n",
    "    df.payment.replace(e,range(len(e)),inplace=True)\n",
    "\n",
    "    f = df.water_quality.unique()\n",
    "    df.water_quality.replace(f,range(len(f)),inplace=True)\n",
    "\n",
    "    g = df.quantity.unique()\n",
    "    df.quantity.replace(g,range(len(g)),inplace=True)\n",
    "\n",
    "    h = df.source.unique()\n",
    "    df.source.replace(h,range(len(h)),inplace=True)\n",
    "\n",
    "    i = df.source_class.unique()\n",
    "    df.source_class.replace(i,range(len(i)),inplace=True)\n",
    "\n",
    "    j = df.waterpoint_type.unique()\n",
    "    df.waterpoint_type.replace(j,range(len(j)),inplace=True)\n",
    "\n",
    "    return df\n",
    "\n",
    "df_coded = code_df(df_complete)\n",
    "print df_coded.head()\n",
    "print df_coded.tail()\n",
    "\n",
    "print df_coded.shape"
   ]
  },
  {
   "cell_type": "code",
   "execution_count": 24,
   "metadata": {
    "collapsed": false
   },
   "outputs": [
    {
     "name": "stdout",
     "output_type": "stream",
     "text": [
      "[1 2 3]\n",
      "[1 2 3]\n"
     ]
    },
    {
     "data": {
      "image/png": "[encoded data removed]",
      "text/plain": [
       "<matplotlib.figure.Figure at 0x1138e5110>"
      ]
     },
     "metadata": {},
     "output_type": "display_data"
    }
   ],
   "source": [
    "import numpy as np\n",
    "import matplotlib.pyplot as plt\n",
    "import statsmodels\n",
    "\n",
    "%matplotlib inline\n",
    "\n",
    "\n",
    "y = df_coded['amount_tsh']\n",
    "x = df_labels['label']\n",
    "\n",
    "print df_labels['label'].unique()\n",
    "print x.unique()\n",
    "\n",
    "plt.plot(x, y, '.',markersize=20)\n",
    "plt.legend(['TSH'])\n",
    "plt.ylabel('Amount TSH')\n",
    "plt.xlabel('Y (F/NF/NR)')\n",
    "plt.title('Class vs. TSH')\n",
    "\n",
    "plt.show()"
   ]
  },
  {
   "cell_type": "code",
   "execution_count": 109,
   "metadata": {
    "collapsed": false,
    "scrolled": true
   },
   "outputs": [
    {
     "name": "stdout",
     "output_type": "stream",
     "text": [
      "       id  amount_tsh date_recorded           funder  gps_height installer  \\\n",
      "9425    0           0    2012-11-13            Tasaf           0     TASAF   \n",
      "18440   1           0    2011-03-05            Shipo        1978     SHIPO   \n",
      "12134   2           0    2011-03-27             Lvia           0      LVIA   \n",
      "10644   3          10    2013-06-03  Germany Republi        1639       CES   \n",
      "2350    4           0    2011-03-22             Cmsr           0      CMSR   \n",
      "\n",
      "       longitude  latitude        wpt_name num_private          ...           \\\n",
      "9425   33.125828 -5.118154         Mratibu           0          ...            \n",
      "18440  34.770717 -9.395642            none           0          ...            \n",
      "12134  36.115056 -6.279268         Bombani           0          ...            \n",
      "10644  37.147432 -3.187555  Area 7 Namba 5           0          ...            \n",
      "2350   36.164893 -6.099289         Ezeleda           0          ...            \n",
      "\n",
      "      payment_type water_quality quality_group      quantity  quantity_group  \\\n",
      "9425       unknown         milky         milky        enough          enough   \n",
      "18440    never pay          soft          good        enough          enough   \n",
      "12134   per bucket          soft          good  insufficient    insufficient   \n",
      "10644   per bucket          soft          good        enough          enough   \n",
      "2350       unknown          soft          good           dry             dry   \n",
      "\n",
      "             source   source_type  source_class              waterpoint_type  \\\n",
      "9425   shallow well  shallow well   groundwater                    hand pump   \n",
      "18440  shallow well  shallow well   groundwater                    hand pump   \n",
      "12134   machine dbh      borehole   groundwater  communal standpipe multiple   \n",
      "10644        spring        spring   groundwater           communal standpipe   \n",
      "2350   shallow well  shallow well   groundwater                    hand pump   \n",
      "\n",
      "      waterpoint_type_group  \n",
      "9425              hand pump  \n",
      "18440             hand pump  \n",
      "12134    communal standpipe  \n",
      "10644    communal standpipe  \n",
      "2350              hand pump  \n",
      "\n",
      "[5 rows x 40 columns]\n",
      "          id  amount_tsh date_recorded             funder  gps_height  \\\n",
      "15151  74240           0    2013-03-22       World Vision        1183   \n",
      "8682   74242           0    2011-04-12             Danida           0   \n",
      "22597  74243           0    2012-11-13  Ministry Of Water        1188   \n",
      "108    74246          50    2011-03-07              Ruthe        1428   \n",
      "39138  74247          50    2013-02-16            Mission         965   \n",
      "\n",
      "          installer  longitude   latitude               wpt_name num_private  \\\n",
      "15151  World vision  37.007726  -3.280868  Upendo Primary School           0   \n",
      "8682         DANIDA  33.724987  -8.940758            Kwa Mvulula           0   \n",
      "22597        Hesawa  33.963539  -1.429477      Kwa Wambura Msege           0   \n",
      "108           Ruthe  35.630481  -7.710549                   none           0   \n",
      "39138           DWE  35.432998 -10.639270            Kwa Mapunda           0   \n",
      "\n",
      "               ...          payment_type water_quality quality_group  \\\n",
      "15151          ...               unknown          soft          good   \n",
      "8682           ...            on failure          soft          good   \n",
      "22597          ...             never pay          soft          good   \n",
      "108            ...            per bucket          soft          good   \n",
      "39138          ...            per bucket          soft          good   \n",
      "\n",
      "           quantity  quantity_group                source  \\\n",
      "15151  insufficient    insufficient  rainwater harvesting   \n",
      "8682         enough          enough                 river   \n",
      "22597        enough          enough                  lake   \n",
      "108             dry             dry                spring   \n",
      "39138           dry             dry                 river   \n",
      "\n",
      "                source_type  source_class              waterpoint_type  \\\n",
      "15151  rainwater harvesting       surface           communal standpipe   \n",
      "8682             river/lake       surface           communal standpipe   \n",
      "22597            river/lake       surface  communal standpipe multiple   \n",
      "108                  spring   groundwater           communal standpipe   \n",
      "39138            river/lake       surface           communal standpipe   \n",
      "\n",
      "      waterpoint_type_group  \n",
      "15151    communal standpipe  \n",
      "8682     communal standpipe  \n",
      "22597    communal standpipe  \n",
      "108      communal standpipe  \n",
      "39138    communal standpipe  \n",
      "\n",
      "[5 rows x 40 columns]\n"
     ]
    },
    {
     "data": {
      "text/plain": [
       "\"\\nbasin_functioning = df_complete.groupby(['label','basin'])\\na = basin_functioning.size()\\nprint a\\nx1 = a[0:9]\\nx2 = a[9:18]\\nx3 = a[18:27]\\n\""
      ]
     },
     "execution_count": 109,
     "metadata": {},
     "output_type": "execute_result"
    }
   ],
   "source": [
    "import numpy as np\n",
    "import matplotlib.pyplot as plt\n",
    "\n",
    "df_labels_2 = load_labels()\n",
    "df_labels_2.columns = ['id','label']\n",
    "df_labels_2 = df_labels_2.sort(['id'])\n",
    "\n",
    "df_data_2 = load_wells()\n",
    "\n",
    "df_data_2.columns = ['id','amount_tsh',\n",
    "                    'date_recorded',\n",
    "                    'funder',\n",
    "                    'gps_height',\n",
    "                    'installer',\n",
    "                    'longitude',\n",
    "                    'latitude',\n",
    "                    'wpt_name',\n",
    "                    'num_private',\n",
    "                    'basin',\n",
    "                    'subvillage',\n",
    "                    'region',\n",
    "                    'region_code',\n",
    "                    'district_code',\n",
    "                    'lga',\n",
    "                    'ward',\n",
    "                    'population',\n",
    "                    'public_meeting',\n",
    "                    'recorded_by',\n",
    "                    'scheme_management',\n",
    "                    'scheme_name',\n",
    "                    'permit',\n",
    "                    'construction_year',\n",
    "                    'extraction_type',\n",
    "                    'extraction_type_group',\n",
    "                    'extraction_type_class',\n",
    "                    'management',\n",
    "                    'management_group',\n",
    "                    'payment',\n",
    "                    'payment_type',\n",
    "                    'water_quality',\n",
    "                    'quality_group',\n",
    "                    'quantity',\n",
    "                    'quantity_group',\n",
    "                    'source',\n",
    "                    'source_type',\n",
    "                    'source_class',\n",
    "                    'waterpoint_type',\n",
    "                    'waterpoint_type_group']\n",
    "\n",
    "df_data_2 = df_data_2.sort(['id'])\n",
    "print df_data_2.head()\n",
    "print df_data_2.tail()"
   ]
  },
  {
   "cell_type": "code",
   "execution_count": null,
   "metadata": {
    "collapsed": true
   },
   "outputs": [],
   "source": []
  },
  {
   "cell_type": "code",
   "execution_count": 110,
   "metadata": {
    "collapsed": false,
    "scrolled": true
   },
   "outputs": [
    {
     "name": "stdout",
     "output_type": "stream",
     "text": [
      "      id           label     id  amount_tsh date_recorded        funder  \\\n",
      "0  69572      functional  69572        6000    2011-03-14         Roman   \n",
      "1   8776      functional   8776           0    2013-03-06       Grumeti   \n",
      "2  34310      functional  34310          25    2013-02-25  Lottery Club   \n",
      "3  67743  non functional  67743           0    2013-01-28        Unicef   \n",
      "4  19728      functional  19728           0    2011-07-13   Action In A   \n",
      "\n",
      "   gps_height     installer  longitude   latitude          ...            \\\n",
      "0        1390         Roman  34.938093  -9.856322          ...             \n",
      "1        1399       GRUMETI  34.698766  -2.147466          ...             \n",
      "2         686  World vision  37.460664  -3.821329          ...             \n",
      "3         263        UNICEF  38.486161 -11.155298          ...             \n",
      "4           0       Artisan  31.130847  -1.825359          ...             \n",
      "\n",
      "  payment_type water_quality quality_group      quantity quantity_group  \\\n",
      "0     annually          soft          good        enough         enough   \n",
      "1    never pay          soft          good  insufficient   insufficient   \n",
      "2   per bucket          soft          good        enough         enough   \n",
      "3    never pay          soft          good           dry            dry   \n",
      "4    never pay          soft          good      seasonal       seasonal   \n",
      "\n",
      "                 source           source_type source_class  \\\n",
      "0                spring                spring  groundwater   \n",
      "1  rainwater harvesting  rainwater harvesting      surface   \n",
      "2                   dam                   dam      surface   \n",
      "3           machine dbh              borehole  groundwater   \n",
      "4  rainwater harvesting  rainwater harvesting      surface   \n",
      "\n",
      "               waterpoint_type  waterpoint_type_group  \n",
      "0           communal standpipe     communal standpipe  \n",
      "1           communal standpipe     communal standpipe  \n",
      "2  communal standpipe multiple     communal standpipe  \n",
      "3  communal standpipe multiple     communal standpipe  \n",
      "4           communal standpipe     communal standpipe  \n",
      "\n",
      "[5 rows x 42 columns]\n",
      "(59400, 42)\n"
     ]
    }
   ],
   "source": [
    "df_complete_2 = pd.concat([df_labels_2,df_data_2],axis=1)\n",
    "\n",
    "print df_complete_2.head()\n",
    "print df_complete_2.shape"
   ]
  },
  {
   "cell_type": "code",
   "execution_count": 114,
   "metadata": {
    "collapsed": false,
    "scrolled": true
   },
   "outputs": [
    {
     "name": "stdout",
     "output_type": "stream",
     "text": [
      "['Lake Nyasa' 'Lake Victoria' 'Pangani' 'Ruvuma / Southern Coast'\n",
      " 'Internal' 'Lake Tanganyika' 'Wami / Ruvu' 'Rufiji' 'Lake Rukwa']\n",
      "label                    basin                  \n",
      "functional               Internal                   4234\n",
      "                         Lake Nyasa                 2817\n",
      "                         Lake Rukwa                 1311\n",
      "                         Lake Tanganyika            3494\n",
      "                         Lake Victoria              5557\n",
      "                         Pangani                    4916\n",
      "                         Rufiji                     4367\n",
      "                         Ruvuma / Southern Coast    2345\n",
      "                         Wami / Ruvu                3218\n",
      "functional needs repair  Internal                    572\n",
      "                         Lake Nyasa                  344\n",
      "                         Lake Rukwa                  207\n",
      "                         Lake Tanganyika             499\n",
      "                         Lake Victoria               758\n",
      "                         Pangani                     585\n",
      "                         Rufiji                      564\n",
      "                         Ruvuma / Southern Coast     343\n",
      "                         Wami / Ruvu                 445\n",
      "non functional           Internal                   2979\n",
      "                         Lake Nyasa                 1924\n",
      "                         Lake Rukwa                  936\n",
      "                         Lake Tanganyika            2439\n",
      "                         Lake Victoria              3933\n",
      "                         Pangani                    3439\n",
      "                         Rufiji                     3045\n",
      "                         Ruvuma / Southern Coast    1805\n",
      "                         Wami / Ruvu                2324\n",
      "dtype: int64\n"
     ]
    }
   ],
   "source": [
    "basin_functioning = df_complete_2.groupby(['label','basin'])\n",
    "basin_codes = df_complete_2['basin'].unique()\n",
    "\n",
    "print basin_codes\n",
    "a = basin_functioning.size()\n",
    "print a\n",
    "x1 = a[0:9]\n",
    "x2 = a[9:18]\n",
    "x3 = a[18:27]"
   ]
  },
  {
   "cell_type": "code",
   "execution_count": 117,
   "metadata": {
    "collapsed": false
   },
   "outputs": [
    {
     "data": {
      "image/png": "[encoded data removed]",
      "text/plain": [
       "<matplotlib.figure.Figure at 0x10f8ff210>"
      ]
     },
     "metadata": {},
     "output_type": "display_data"
    }
   ],
   "source": [
    "import numpy as np\n",
    "import matplotlib.pyplot as plt\n",
    "\n",
    "\n",
    "n_groups = 9\n",
    "\n",
    "fig, ax = plt.subplots(figsize=(10,10))\n",
    "\n",
    "index = np.arange(n_groups)\n",
    "bar_width = 0.25\n",
    "\n",
    "opacity = 0.4\n",
    "error_config = {'ecolor': '0.3'}\n",
    "\n",
    "rects1 = plt.bar(index, x1, bar_width,\n",
    "                 alpha=opacity,\n",
    "                 color='b',\n",
    "                 label='Functioning')\n",
    "\n",
    "rects2 = plt.bar(index + bar_width, x2, bar_width,\n",
    "                 alpha=opacity,\n",
    "                 color='r',\n",
    "                 label='Non-Functioning')\n",
    "\n",
    "rects3 = plt.bar(index + bar_width*2, x3, bar_width,\n",
    "                 alpha=opacity,\n",
    "                 color='g',\n",
    "                 label='Needs Repair')\n",
    "\n",
    "\n",
    "plt.xlabel('Basin')\n",
    "plt.ylabel('Count')\n",
    "plt.title('Counts of Basin by Status')\n",
    "plt.xticks(index + bar_width, basin_codes,rotation='vertical')\n",
    "plt.legend()\n",
    "\n",
    "plt.tight_layout()\n",
    "plt.show()"
   ]
  },
  {
   "cell_type": "code",
   "execution_count": 119,
   "metadata": {
    "collapsed": false
   },
   "outputs": [
    {
     "name": "stdout",
     "output_type": "stream",
     "text": [
      "['VWC' 'Other' None 'Private operator' 'WUG' 'Water Board' 'WUA'\n",
      " 'Water authority' 'Company' 'Parastatal' 'Trust' 'SWC' 'None']\n"
     ]
    }
   ],
   "source": [
    "schm_functioning = df_complete_2.groupby(['label','scheme_management'])\n",
    "x = schm_functioning.size()\n",
    "schm_codes = df_complete_2['scheme_management'].unique()\n",
    "print df_complete_2.scheme_management.unique()"
   ]
  },
  {
   "cell_type": "code",
   "execution_count": 122,
   "metadata": {
    "collapsed": false
   },
   "outputs": [
    {
     "data": {
      "image/png": "[encoded data removed]",
      "text/plain": [
       "<matplotlib.figure.Figure at 0x11474cd50>"
      ]
     },
     "metadata": {},
     "output_type": "display_data"
    }
   ],
   "source": [
    "x1 = x[0:11]\n",
    "x2 = x[11:22]\n",
    "x3 = x[22:33]\n",
    "\n",
    "n_groups = 11\n",
    "\n",
    "fig, ax = plt.subplots(figsize=(10,10))\n",
    "\n",
    "index = np.arange(n_groups)\n",
    "bar_width = 0.25\n",
    "\n",
    "opacity = 0.4\n",
    "\n",
    "rects1 = plt.bar(index, x1, bar_width,\n",
    "                 alpha=opacity,\n",
    "                 color='b',\n",
    "                 label='Functioning')\n",
    "\n",
    "rects2 = plt.bar(index + bar_width, x2, bar_width,\n",
    "                 alpha=opacity,\n",
    "                 color='r',\n",
    "                 label='Non-Functioning')\n",
    "\n",
    "rects3 = plt.bar(index + bar_width*2, x3, bar_width,\n",
    "                 alpha=opacity,\n",
    "                 color='g',\n",
    "                 label='Needs Repair')\n",
    "\n",
    "plt.xlabel('Scheme Management')\n",
    "plt.ylabel('Count')\n",
    "plt.title('Counts of Scheme Management by Status')\n",
    "plt.xticks(index + bar_width, schm_codes, rotation='vertical')\n",
    "plt.legend()\n",
    "\n",
    "plt.tight_layout()\n",
    "plt.show()"
   ]
  },
  {
   "cell_type": "code",
   "execution_count": 81,
   "metadata": {
    "collapsed": false
   },
   "outputs": [
    {
     "data": {
      "image/png": "[encoded data removed]",
      "text/plain": [
       "<matplotlib.figure.Figure at 0x113379c50>"
      ]
     },
     "metadata": {},
     "output_type": "display_data"
    }
   ],
   "source": [
    "basin_functioning = df_coded.groupby(['label','basin'])\n",
    "a = basin_functioning.size()\n",
    "\n",
    "x1 = a[0:9]\n",
    "x2 = a[9:18]\n",
    "x3 = a[18:27]\n",
    "\n",
    "import numpy as np\n",
    "import matplotlib.pyplot as plt\n",
    "\n",
    "\n",
    "n_groups = 9\n",
    "\n",
    "fig, ax = plt.subplots()\n",
    "\n",
    "index = np.arange(n_groups)\n",
    "bar_width = 0.25\n",
    "\n",
    "opacity = 0.4\n",
    "error_config = {'ecolor': '0.3'}\n",
    "\n",
    "rects1 = plt.bar(index, x1, bar_width,\n",
    "                 alpha=opacity,\n",
    "                 color='b',\n",
    "                 label='Functioning')\n",
    "\n",
    "rects2 = plt.bar(index + bar_width, x2, bar_width,\n",
    "                 alpha=opacity,\n",
    "                 color='r',\n",
    "                 label='Non-Functioning')\n",
    "\n",
    "rects3 = plt.bar(index + bar_width*2, x3, bar_width,\n",
    "                 alpha=opacity,\n",
    "                 color='g',\n",
    "                 label='Needs Repair')\n",
    "\n",
    "plt.xlabel('Basin')\n",
    "plt.ylabel('Count')\n",
    "plt.title('Counts of Basin by Status')\n",
    "plt.xticks(index + bar_width, ('1', '2', '3', '4', '5','6','7','8','9'))\n",
    "plt.legend()\n",
    "\n",
    "plt.tight_layout()\n",
    "plt.show()"
   ]
  },
  {
   "cell_type": "code",
   "execution_count": 86,
   "metadata": {
    "collapsed": false
   },
   "outputs": [
    {
     "name": "stdout",
     "output_type": "stream",
     "text": [
      "[ 0  7  1  3  6  2  4  5  8  9 11 10 12]\n"
     ]
    }
   ],
   "source": [
    "schm_functioning = df_coded.groupby(['label','scheme_management'])\n",
    "x = schm_functioning.size()\n",
    "print df_coded.scheme_management.unique()"
   ]
  },
  {
   "cell_type": "code",
   "execution_count": 88,
   "metadata": {
    "collapsed": false
   },
   "outputs": [
    {
     "data": {
      "image/png": "[encoded data removed]",
      "text/plain": [
       "<matplotlib.figure.Figure at 0x112440e50>"
      ]
     },
     "metadata": {},
     "output_type": "display_data"
    }
   ],
   "source": [
    "schm_functioning = df_coded.groupby(['label','scheme_management'])\n",
    "a = schm_functioning.size()\n",
    "\n",
    "x1 = a[0:11]\n",
    "x2 = a[11:22]\n",
    "x3 = a[22:33]\n",
    "\n",
    "n_groups = 11\n",
    "\n",
    "fig, ax = plt.subplots()\n",
    "\n",
    "index = np.arange(n_groups)\n",
    "bar_width = 0.25\n",
    "\n",
    "opacity = 0.4\n",
    "\n",
    "rects1 = plt.bar(index, x1, bar_width,\n",
    "                 alpha=opacity,\n",
    "                 color='b',\n",
    "                 label='Functioning')\n",
    "\n",
    "rects2 = plt.bar(index + bar_width, x2, bar_width,\n",
    "                 alpha=opacity,\n",
    "                 color='r',\n",
    "                 label='Non-Functioning')\n",
    "\n",
    "rects3 = plt.bar(index + bar_width*2, x3, bar_width,\n",
    "                 alpha=opacity,\n",
    "                 color='g',\n",
    "                 label='Needs Repair')\n",
    "\n",
    "plt.xlabel('Scheme Management')\n",
    "plt.ylabel('Count')\n",
    "plt.title('Counts of Scheme Management by Status')\n",
    "plt.xticks(index + bar_width, ('1', '2', '3', '4', '5','6','7','8','9','10','11'))\n",
    "plt.legend()\n",
    "\n",
    "plt.tight_layout()\n",
    "plt.show()"
   ]
  },
  {
   "cell_type": "code",
   "execution_count": 87,
   "metadata": {
    "collapsed": false
   },
   "outputs": [
    {
     "name": "stdout",
     "output_type": "stream",
     "text": [
      "label  extraction_type_class\n",
      "1      0                         9109\n",
      "       1                          248\n",
      "       2                         1594\n",
      "       3                        14664\n",
      "       4                         3288\n",
      "       5                         3300\n",
      "       6                           56\n",
      "2      0                         6198\n",
      "       1                          176\n",
      "       2                         1195\n",
      "       3                        10147\n",
      "       4                         2402\n",
      "       5                         2655\n",
      "       6                           51\n",
      "3      0                         1149\n",
      "       1                           27\n",
      "       2                          198\n",
      "       3                         1969\n",
      "       4                          489\n",
      "       5                          475\n",
      "       6                           10\n",
      "dtype: int64\n"
     ]
    }
   ],
   "source": [
    "etc_functioning = df_coded.groupby(['label','extraction_type_class'])\n",
    "x = etc_functioning.size()\n",
    "print x"
   ]
  },
  {
   "cell_type": "code",
   "execution_count": 89,
   "metadata": {
    "collapsed": false
   },
   "outputs": [
    {
     "data": {
      "image/png": "[encoded data removed]",
      "text/plain": [
       "<matplotlib.figure.Figure at 0x110e28650>"
      ]
     },
     "metadata": {},
     "output_type": "display_data"
    }
   ],
   "source": [
    "schm_functioning = df_coded.groupby(['label','scheme_management'])\n",
    "a = schm_functioning.size()\n",
    "\n",
    "x1 = a[0:7]\n",
    "x2 = a[7:14]\n",
    "x3 = a[14:21]\n",
    "\n",
    "n_groups = 7\n",
    "\n",
    "fig, ax = plt.subplots()\n",
    "\n",
    "index = np.arange(n_groups)\n",
    "bar_width = 0.25\n",
    "\n",
    "opacity = 0.4\n",
    "\n",
    "rects1 = plt.bar(index, x1, bar_width,\n",
    "                 alpha=opacity,\n",
    "                 color='b',\n",
    "                 label='Functioning')\n",
    "\n",
    "rects2 = plt.bar(index + bar_width, x2, bar_width,\n",
    "                 alpha=opacity,\n",
    "                 color='r',\n",
    "                 label='Non-Functioning')\n",
    "\n",
    "rects3 = plt.bar(index + bar_width*2, x3, bar_width,\n",
    "                 alpha=opacity,\n",
    "                 color='g',\n",
    "                 label='Needs Repair')\n",
    "\n",
    "plt.xlabel('Scheme Management')\n",
    "plt.ylabel('Count')\n",
    "plt.title('Counts of Scheme Management by Status')\n",
    "plt.xticks(index + bar_width, ('1', '2', '3', '4', '5','6','7'))\n",
    "plt.legend()\n",
    "\n",
    "plt.tight_layout()\n",
    "plt.show()"
   ]
  },
  {
   "cell_type": "code",
   "execution_count": 90,
   "metadata": {
    "collapsed": false
   },
   "outputs": [
    {
     "name": "stdout",
     "output_type": "stream",
     "text": [
      "[0 2 1 4 3]\n",
      "label  management_group\n",
      "1      0                   28487\n",
      "       1                    1993\n",
      "       2                     509\n",
      "       3                     294\n",
      "       4                     976\n",
      "2      0                   20189\n",
      "       1                    1375\n",
      "       2                     366\n",
      "       3                     230\n",
      "       4                     664\n",
      "3      0                    3814\n",
      "       1                     270\n",
      "       2                      68\n",
      "       3                      37\n",
      "       4                     128\n",
      "dtype: int64\n"
     ]
    }
   ],
   "source": [
    "mgg_functioning = df_coded.groupby(['label','management_group'])\n",
    "x = mgg_functioning.size()\n",
    "print df_coded.management_group.unique()\n",
    "print x"
   ]
  },
  {
   "cell_type": "code",
   "execution_count": 91,
   "metadata": {
    "collapsed": false
   },
   "outputs": [
    {
     "data": {
      "image/png": "[encoded data removed]",
      "text/plain": [
       "<matplotlib.figure.Figure at 0x113a62950>"
      ]
     },
     "metadata": {},
     "output_type": "display_data"
    }
   ],
   "source": [
    "x1 = x[0:5]\n",
    "x2 = x[5:10]\n",
    "x3 = x[10:15]\n",
    "\n",
    "n_groups = 5\n",
    "\n",
    "fig, ax = plt.subplots()\n",
    "\n",
    "index = np.arange(n_groups)\n",
    "bar_width = 0.25\n",
    "\n",
    "opacity = 0.4\n",
    "\n",
    "rects1 = plt.bar(index, x1, bar_width,\n",
    "                 alpha=opacity,\n",
    "                 color='b',\n",
    "                 label='Functioning')\n",
    "\n",
    "rects2 = plt.bar(index + bar_width, x2, bar_width,\n",
    "                 alpha=opacity,\n",
    "                 color='r',\n",
    "                 label='Non-Functioning')\n",
    "\n",
    "rects3 = plt.bar(index + bar_width*2, x3, bar_width,\n",
    "                 alpha=opacity,\n",
    "                 color='g',\n",
    "                 label='Needs Repair')\n",
    "\n",
    "plt.xlabel('Scheme Management')\n",
    "plt.ylabel('Count')\n",
    "plt.title('Counts of Management Group by Status')\n",
    "plt.xticks(index + bar_width, ('1', '2', '3', '4', '5','6','7'))\n",
    "plt.legend()\n",
    "\n",
    "plt.tight_layout()\n",
    "plt.show()"
   ]
  },
  {
   "cell_type": "code",
   "execution_count": 92,
   "metadata": {
    "collapsed": false
   },
   "outputs": [
    {
     "name": "stdout",
     "output_type": "stream",
     "text": [
      "[5 1 2 0 3 6 4]\n",
      "label  payment\n",
      "1      0           4389\n",
      "       1          13670\n",
      "       2           4873\n",
      "       3           2132\n",
      "       4           4604\n",
      "       5           2013\n",
      "       6            578\n",
      "2      0           3198\n",
      "       1           9810\n",
      "       2           3457\n",
      "       3           1507\n",
      "       4           3086\n",
      "       5           1370\n",
      "       6            396\n",
      "3      0            570\n",
      "       1           1868\n",
      "       2            655\n",
      "       3            275\n",
      "       4            610\n",
      "       5            259\n",
      "       6             80\n",
      "dtype: int64\n"
     ]
    }
   ],
   "source": [
    "pay_functioning = df_coded.groupby(['label','payment'])\n",
    "x = pay_functioning.size()\n",
    "print df_coded.payment.unique()\n",
    "print x"
   ]
  },
  {
   "cell_type": "code",
   "execution_count": 93,
   "metadata": {
    "collapsed": false
   },
   "outputs": [
    {
     "data": {
      "image/png": "[encoded data removed]",
      "text/plain": [
       "<matplotlib.figure.Figure at 0x112450790>"
      ]
     },
     "metadata": {},
     "output_type": "display_data"
    }
   ],
   "source": [
    "x1 = x[0:7]\n",
    "x2 = x[7:14]\n",
    "x3 = x[14:21]\n",
    "\n",
    "n_groups = 7\n",
    "\n",
    "fig, ax = plt.subplots()\n",
    "\n",
    "index = np.arange(n_groups)\n",
    "bar_width = 0.25\n",
    "\n",
    "opacity = 0.4\n",
    "\n",
    "rects1 = plt.bar(index, x1, bar_width,\n",
    "                 alpha=opacity,\n",
    "                 color='b',\n",
    "                 label='Functioning')\n",
    "\n",
    "rects2 = plt.bar(index + bar_width, x2, bar_width,\n",
    "                 alpha=opacity,\n",
    "                 color='r',\n",
    "                 label='Non-Functioning')\n",
    "\n",
    "rects3 = plt.bar(index + bar_width*2, x3, bar_width,\n",
    "                 alpha=opacity,\n",
    "                 color='g',\n",
    "                 label='Needs Repair')\n",
    "\n",
    "plt.xlabel('Payment')\n",
    "plt.ylabel('Count')\n",
    "plt.title('Counts of Payment by Status')\n",
    "plt.xticks(index + bar_width, ('1', '2', '3', '4', '5','6','7'))\n",
    "plt.legend()\n",
    "\n",
    "plt.tight_layout()\n",
    "plt.show()"
   ]
  },
  {
   "cell_type": "code",
   "execution_count": 94,
   "metadata": {
    "collapsed": false
   },
   "outputs": [
    {
     "name": "stdout",
     "output_type": "stream",
     "text": [
      "[1 2 0 5 6 4 3 7]\n",
      "label  water_quality\n",
      "1      0                  427\n",
      "       1                27762\n",
      "       2                 2569\n",
      "       3                  173\n",
      "       4                  275\n",
      "       5                  943\n",
      "       6                   99\n",
      "       7                   11\n",
      "2      0                  314\n",
      "       1                19373\n",
      "       2                 1958\n",
      "       3                  128\n",
      "       4                  179\n",
      "       5                  785\n",
      "       6                   82\n",
      "       7                    5\n",
      "3      0                   63\n",
      "       1                 3683\n",
      "       2                  329\n",
      "       3                   38\n",
      "       4                   36\n",
      "       5                  148\n",
      "       6                   19\n",
      "       7                    1\n",
      "dtype: int64\n"
     ]
    }
   ],
   "source": [
    "wtq_functioning = df_coded.groupby(['label','water_quality'])\n",
    "x = wtq_functioning.size()\n",
    "print df_coded.water_quality.unique()\n",
    "print x"
   ]
  },
  {
   "cell_type": "code",
   "execution_count": 95,
   "metadata": {
    "collapsed": false
   },
   "outputs": [
    {
     "data": {
      "image/png": "[encoded data removed]",
      "text/plain": [
       "<matplotlib.figure.Figure at 0x111ef33d0>"
      ]
     },
     "metadata": {},
     "output_type": "display_data"
    }
   ],
   "source": [
    "x1 = x[0:8]\n",
    "x2 = x[8:16]\n",
    "x3 = x[16:24]\n",
    "\n",
    "n_groups = 8\n",
    "\n",
    "fig, ax = plt.subplots()\n",
    "\n",
    "index = np.arange(n_groups)\n",
    "bar_width = 0.25\n",
    "\n",
    "opacity = 0.4\n",
    "\n",
    "rects1 = plt.bar(index, x1, bar_width,\n",
    "                 alpha=opacity,\n",
    "                 color='b',\n",
    "                 label='Functioning')\n",
    "\n",
    "rects2 = plt.bar(index + bar_width, x2, bar_width,\n",
    "                 alpha=opacity,\n",
    "                 color='r',\n",
    "                 label='Non-Functioning')\n",
    "\n",
    "rects3 = plt.bar(index + bar_width*2, x3, bar_width,\n",
    "                 alpha=opacity,\n",
    "                 color='g',\n",
    "                 label='Needs Repair')\n",
    "\n",
    "plt.xlabel('Water Quality')\n",
    "plt.ylabel('Count')\n",
    "plt.title('Counts of Water Quality by Status')\n",
    "plt.xticks(index + bar_width, ('1', '2', '3', '4', '5','6','7'))\n",
    "plt.legend()\n",
    "\n",
    "plt.tight_layout()\n",
    "plt.show()"
   ]
  },
  {
   "cell_type": "code",
   "execution_count": 96,
   "metadata": {
    "collapsed": false
   },
   "outputs": [
    {
     "name": "stdout",
     "output_type": "stream",
     "text": [
      "[0 1 2 3 4]\n",
      "label  quantity\n",
      "1      0           18212\n",
      "       1            8230\n",
      "       2            3176\n",
      "       3            2244\n",
      "       4             397\n",
      "2      0           12539\n",
      "       1            5801\n",
      "       2            2653\n",
      "       3            1492\n",
      "       4             339\n",
      "3      0            2435\n",
      "       1            1098\n",
      "       2             417\n",
      "       3             314\n",
      "       4              53\n",
      "dtype: int64\n"
     ]
    }
   ],
   "source": [
    "qty_functioning = df_coded.groupby(['label','quantity'])\n",
    "x = qty_functioning.size()\n",
    "print df_coded.quantity.unique()\n",
    "print x"
   ]
  },
  {
   "cell_type": "code",
   "execution_count": 97,
   "metadata": {
    "collapsed": false
   },
   "outputs": [
    {
     "data": {
      "image/png": "[encoded data removed]",
      "text/plain": [
       "<matplotlib.figure.Figure at 0x112f79f90>"
      ]
     },
     "metadata": {},
     "output_type": "display_data"
    }
   ],
   "source": [
    "x1 = x[0:5]\n",
    "x2 = x[5:10]\n",
    "x3 = x[10:15]\n",
    "\n",
    "n_groups = 5\n",
    "\n",
    "fig, ax = plt.subplots()\n",
    "\n",
    "index = np.arange(n_groups)\n",
    "bar_width = 0.25\n",
    "\n",
    "opacity = 0.4\n",
    "\n",
    "rects1 = plt.bar(index, x1, bar_width,\n",
    "                 alpha=opacity,\n",
    "                 color='b',\n",
    "                 label='Functioning')\n",
    "\n",
    "rects2 = plt.bar(index + bar_width, x2, bar_width,\n",
    "                 alpha=opacity,\n",
    "                 color='r',\n",
    "                 label='Non-Functioning')\n",
    "\n",
    "rects3 = plt.bar(index + bar_width*2, x3, bar_width,\n",
    "                 alpha=opacity,\n",
    "                 color='g',\n",
    "                 label='Needs Repair')\n",
    "\n",
    "plt.xlabel('Water Quantity')\n",
    "plt.ylabel('Count')\n",
    "plt.title('Counts of Water Quantity by Status')\n",
    "plt.xticks(index + bar_width, ('1', '2', '3', '4', '5'))\n",
    "plt.legend()\n",
    "\n",
    "plt.tight_layout()\n",
    "plt.show()"
   ]
  },
  {
   "cell_type": "code",
   "execution_count": 98,
   "metadata": {
    "collapsed": false
   },
   "outputs": [
    {
     "name": "stdout",
     "output_type": "stream",
     "text": [
      "[2 3 7 1 6 0 4 8 5 9]\n",
      "label  source\n",
      "1      0         9167\n",
      "       1         5946\n",
      "       2         9397\n",
      "       3         1230\n",
      "       4         5171\n",
      "       5          380\n",
      "       6          120\n",
      "       7          339\n",
      "       8          477\n",
      "       9           32\n",
      "2      0         6481\n",
      "       1         4307\n",
      "       2         6406\n",
      "       3          888\n",
      "       4         3708\n",
      "       5          322\n",
      "       6           72\n",
      "       7          278\n",
      "       8          330\n",
      "       9           32\n",
      "3      0         1176\n",
      "       1          822\n",
      "       2         1218\n",
      "       3          177\n",
      "       4          733\n",
      "       5           63\n",
      "       6           20\n",
      "       7           39\n",
      "       8           67\n",
      "       9            2\n",
      "dtype: int64\n"
     ]
    }
   ],
   "source": [
    "src_functioning = df_coded.groupby(['label','source'])\n",
    "x = src_functioning.size()\n",
    "print df_coded.source.unique()\n",
    "print x"
   ]
  },
  {
   "cell_type": "code",
   "execution_count": 99,
   "metadata": {
    "collapsed": false
   },
   "outputs": [
    {
     "data": {
      "image/png": "[encoded data removed]",
      "text/plain": [
       "<matplotlib.figure.Figure at 0x11123a210>"
      ]
     },
     "metadata": {},
     "output_type": "display_data"
    }
   ],
   "source": [
    "x1 = x[0:10]\n",
    "x2 = x[10:20]\n",
    "x3 = x[20:30]\n",
    "\n",
    "n_groups = 10\n",
    "\n",
    "fig, ax = plt.subplots()\n",
    "\n",
    "index = np.arange(n_groups)\n",
    "bar_width = 0.25\n",
    "\n",
    "opacity = 0.4\n",
    "\n",
    "rects1 = plt.bar(index, x1, bar_width,\n",
    "                 alpha=opacity,\n",
    "                 color='b',\n",
    "                 label='Functioning')\n",
    "\n",
    "rects2 = plt.bar(index + bar_width, x2, bar_width,\n",
    "                 alpha=opacity,\n",
    "                 color='r',\n",
    "                 label='Non-Functioning')\n",
    "\n",
    "rects3 = plt.bar(index + bar_width*2, x3, bar_width,\n",
    "                 alpha=opacity,\n",
    "                 color='g',\n",
    "                 label='Needs Repair')\n",
    "\n",
    "plt.xlabel('Water Source')\n",
    "plt.ylabel('Count')\n",
    "plt.title('Counts of Water Source by Status')\n",
    "plt.xticks(index + bar_width, ('0','1', '2', '3', '4', '5','6','7','8','9'))\n",
    "plt.legend()\n",
    "\n",
    "plt.tight_layout()\n",
    "plt.show()"
   ]
  },
  {
   "cell_type": "code",
   "execution_count": 100,
   "metadata": {
    "collapsed": false
   },
   "outputs": [
    {
     "name": "stdout",
     "output_type": "stream",
     "text": [
      "[0 1 2]\n",
      "label  source_class\n",
      "1      0               24987\n",
      "       1                7120\n",
      "       2                 152\n",
      "2      0               17524\n",
      "       1                5196\n",
      "       2                 104\n",
      "3      0                3283\n",
      "       1                1012\n",
      "       2                  22\n",
      "dtype: int64\n"
     ]
    }
   ],
   "source": [
    "srcl_functioning = df_coded.groupby(['label','source_class'])\n",
    "x = srcl_functioning.size()\n",
    "print df_coded.source_class.unique()\n",
    "print x"
   ]
  },
  {
   "cell_type": "code",
   "execution_count": 101,
   "metadata": {
    "collapsed": false
   },
   "outputs": [
    {
     "data": {
      "image/png": "[encoded data removed]",
      "text/plain": [
       "<matplotlib.figure.Figure at 0x110c89250>"
      ]
     },
     "metadata": {},
     "output_type": "display_data"
    }
   ],
   "source": [
    "x1 = x[0:3]\n",
    "x2 = x[3:6]\n",
    "x3 = x[6:9]\n",
    "\n",
    "n_groups = 3\n",
    "\n",
    "fig, ax = plt.subplots()\n",
    "\n",
    "index = np.arange(n_groups)\n",
    "bar_width = 0.25\n",
    "\n",
    "opacity = 0.4\n",
    "\n",
    "rects1 = plt.bar(index, x1, bar_width,\n",
    "                 alpha=opacity,\n",
    "                 color='b',\n",
    "                 label='Functioning')\n",
    "\n",
    "rects2 = plt.bar(index + bar_width, x2, bar_width,\n",
    "                 alpha=opacity,\n",
    "                 color='r',\n",
    "                 label='Non-Functioning')\n",
    "\n",
    "rects3 = plt.bar(index + bar_width*2, x3, bar_width,\n",
    "                 alpha=opacity,\n",
    "                 color='g',\n",
    "                 label='Needs Repair')\n",
    "\n",
    "plt.xlabel('Source Class')\n",
    "plt.ylabel('Count')\n",
    "plt.title('Counts of Source Class by Status')\n",
    "plt.xticks(index + bar_width, ('0','1', '2', '3'))\n",
    "plt.legend()\n",
    "\n",
    "plt.tight_layout()\n",
    "plt.show()"
   ]
  },
  {
   "cell_type": "code",
   "execution_count": 102,
   "metadata": {
    "collapsed": false
   },
   "outputs": [
    {
     "name": "stdout",
     "output_type": "stream",
     "text": [
      "[2 1 0 3 4 5 6]\n",
      "label  waterpoint_type\n",
      "1      0                   9647\n",
      "       1                   3213\n",
      "       2                  15556\n",
      "       3                   3298\n",
      "       4                    466\n",
      "       5                     75\n",
      "       6                      4\n",
      "2      0                   6638\n",
      "       1                   2422\n",
      "       2                  10862\n",
      "       3                   2606\n",
      "       4                    257\n",
      "       5                     36\n",
      "       6                      3\n",
      "3      0                   1203\n",
      "       1                    468\n",
      "       2                   2104\n",
      "       3                    476\n",
      "       4                     61\n",
      "       5                      5\n",
      "dtype: int64\n"
     ]
    }
   ],
   "source": [
    "wtp_functioning = df_coded.groupby(['label','waterpoint_type'])\n",
    "x = wtp_functioning.size()\n",
    "print df_coded.waterpoint_type.unique()\n",
    "print x"
   ]
  },
  {
   "cell_type": "code",
   "execution_count": 104,
   "metadata": {
    "collapsed": false
   },
   "outputs": [
    {
     "ename": "AssertionError",
     "evalue": "incompatible sizes: argument 'height' must be length 7 or scalar",
     "output_type": "error",
     "traceback": [
      "\u001b[0;31m---------------------------------------------------------------------------\u001b[0m",
      "\u001b[0;31mAssertionError\u001b[0m                            Traceback (most recent call last)",
      "\u001b[0;32m<ipython-input-104-4ae8a7b07af7>\u001b[0m in \u001b[0;36m<module>\u001b[0;34m()\u001b[0m\n\u001b[1;32m     25\u001b[0m                  \u001b[0malpha\u001b[0m\u001b[0;34m=\u001b[0m\u001b[0mopacity\u001b[0m\u001b[0;34m,\u001b[0m\u001b[0;34m\u001b[0m\u001b[0m\n\u001b[1;32m     26\u001b[0m                  \u001b[0mcolor\u001b[0m\u001b[0;34m=\u001b[0m\u001b[0;34m'g'\u001b[0m\u001b[0;34m,\u001b[0m\u001b[0;34m\u001b[0m\u001b[0m\n\u001b[0;32m---> 27\u001b[0;31m                  label='Needs Repair')\n\u001b[0m\u001b[1;32m     28\u001b[0m \u001b[0;34m\u001b[0m\u001b[0m\n\u001b[1;32m     29\u001b[0m \u001b[0mplt\u001b[0m\u001b[0;34m.\u001b[0m\u001b[0mxlabel\u001b[0m\u001b[0;34m(\u001b[0m\u001b[0;34m'Waterpoint Type'\u001b[0m\u001b[0;34m)\u001b[0m\u001b[0;34m\u001b[0m\u001b[0m\n",
      "\u001b[0;32m//anaconda/lib/python2.7/site-packages/matplotlib/pyplot.pyc\u001b[0m in \u001b[0;36mbar\u001b[0;34m(left, height, width, bottom, hold, **kwargs)\u001b[0m\n\u001b[1;32m   2571\u001b[0m         \u001b[0max\u001b[0m\u001b[0;34m.\u001b[0m\u001b[0mhold\u001b[0m\u001b[0;34m(\u001b[0m\u001b[0mhold\u001b[0m\u001b[0;34m)\u001b[0m\u001b[0;34m\u001b[0m\u001b[0m\n\u001b[1;32m   2572\u001b[0m     \u001b[0;32mtry\u001b[0m\u001b[0;34m:\u001b[0m\u001b[0;34m\u001b[0m\u001b[0m\n\u001b[0;32m-> 2573\u001b[0;31m         \u001b[0mret\u001b[0m \u001b[0;34m=\u001b[0m \u001b[0max\u001b[0m\u001b[0;34m.\u001b[0m\u001b[0mbar\u001b[0m\u001b[0;34m(\u001b[0m\u001b[0mleft\u001b[0m\u001b[0;34m,\u001b[0m \u001b[0mheight\u001b[0m\u001b[0;34m,\u001b[0m \u001b[0mwidth\u001b[0m\u001b[0;34m=\u001b[0m\u001b[0mwidth\u001b[0m\u001b[0;34m,\u001b[0m \u001b[0mbottom\u001b[0m\u001b[0;34m=\u001b[0m\u001b[0mbottom\u001b[0m\u001b[0;34m,\u001b[0m \u001b[0;34m**\u001b[0m\u001b[0mkwargs\u001b[0m\u001b[0;34m)\u001b[0m\u001b[0;34m\u001b[0m\u001b[0m\n\u001b[0m\u001b[1;32m   2574\u001b[0m         \u001b[0mdraw_if_interactive\u001b[0m\u001b[0;34m(\u001b[0m\u001b[0;34m)\u001b[0m\u001b[0;34m\u001b[0m\u001b[0m\n\u001b[1;32m   2575\u001b[0m     \u001b[0;32mfinally\u001b[0m\u001b[0;34m:\u001b[0m\u001b[0;34m\u001b[0m\u001b[0m\n",
      "\u001b[0;32m//anaconda/lib/python2.7/site-packages/matplotlib/axes/_axes.pyc\u001b[0m in \u001b[0;36mbar\u001b[0;34m(self, left, height, width, bottom, **kwargs)\u001b[0m\n\u001b[1;32m   1989\u001b[0m         assert len(height) == nbars, (\"incompatible sizes: argument 'height' \"\n\u001b[1;32m   1990\u001b[0m                                       \u001b[0;34m\"must be length %d or scalar\"\u001b[0m \u001b[0;34m%\u001b[0m\u001b[0;34m\u001b[0m\u001b[0m\n\u001b[0;32m-> 1991\u001b[0;31m                                       nbars)\n\u001b[0m\u001b[1;32m   1992\u001b[0m         assert len(width) == nbars, (\"incompatible sizes: argument 'width' \"\n\u001b[1;32m   1993\u001b[0m                                      \u001b[0;34m\"must be length %d or scalar\"\u001b[0m \u001b[0;34m%\u001b[0m\u001b[0;34m\u001b[0m\u001b[0m\n",
      "\u001b[0;31mAssertionError\u001b[0m: incompatible sizes: argument 'height' must be length 7 or scalar"
     ]
    },
    {
     "data": {
      "image/png": "[encoded data removed]",
      "text/plain": [
       "<matplotlib.figure.Figure at 0x1144ac390>"
      ]
     },
     "metadata": {},
     "output_type": "display_data"
    }
   ],
   "source": [
    "x1 = x[0:7]\n",
    "x2 = x[7:14]\n",
    "x3 = x[14:21]\n",
    "\n",
    "n_groups = 7\n",
    "\n",
    "fig, ax = plt.subplots()\n",
    "\n",
    "index = np.arange(n_groups)\n",
    "bar_width = 0.25\n",
    "\n",
    "opacity = 0.4\n",
    "\n",
    "rects1 = plt.bar(index, x1, bar_width,\n",
    "                 alpha=opacity,\n",
    "                 color='b',\n",
    "                 label='Functioning')\n",
    "\n",
    "rects2 = plt.bar(index + bar_width, x2, bar_width,\n",
    "                 alpha=opacity,\n",
    "                 color='r',\n",
    "                 label='Non-Functioning')\n",
    "\n",
    "rects3 = plt.bar(index + bar_width*2, x3, bar_width,\n",
    "                 alpha=opacity,\n",
    "                 color='g',\n",
    "                 label='Needs Repair')\n",
    "\n",
    "plt.xlabel('Waterpoint Type')\n",
    "plt.ylabel('Count')\n",
    "plt.title('Counts of Water Point Type by Status')\n",
    "plt.xticks(index + bar_width, ('0','1', '2', '3','4','5', '6','7'))\n",
    "plt.legend()\n",
    "\n",
    "plt.tight_layout()\n",
    "plt.show()"
   ]
  },
  {
   "cell_type": "code",
   "execution_count": 72,
   "metadata": {
    "collapsed": false
   },
   "outputs": [
    {
     "name": "stdout",
     "output_type": "stream",
     "text": [
      "<class 'pandas.core.series.Series'>\n",
      "label  basin\n",
      "1      1        3494\n",
      "       2        4367\n",
      "       3        3218\n",
      "       4        4916\n",
      "       5        4234\n",
      "       6        5557\n",
      "       7        2817\n",
      "       8        2345\n",
      "       9        1311\n",
      "dtype: int64\n",
      "<class 'pandas.core.series.Series'>\n",
      "0        7\n",
      "1        6\n",
      "2        4\n",
      "3        8\n",
      "4        6\n",
      "5        4\n",
      "6        5\n",
      "7        1\n",
      "8        1\n",
      "9        6\n",
      "10       3\n",
      "11       7\n",
      "12       5\n",
      "13       4\n",
      "14       5\n",
      "15       1\n",
      "16       2\n",
      "17       2\n",
      "18       6\n",
      "19       7\n",
      "20       7\n",
      "21       6\n",
      "22       2\n",
      "23       4\n",
      "24       1\n",
      "25       4\n",
      "26       8\n",
      "27       6\n",
      "28       4\n",
      "29       4\n",
      "        ..\n",
      "59370    1\n",
      "59371    6\n",
      "59372    1\n",
      "59373    9\n",
      "59374    6\n",
      "59375    4\n",
      "59376    5\n",
      "59377    5\n",
      "59378    2\n",
      "59379    6\n",
      "59380    7\n",
      "59381    4\n",
      "59382    4\n",
      "59383    8\n",
      "59384    6\n",
      "59385    6\n",
      "59386    9\n",
      "59387    3\n",
      "59388    1\n",
      "59389    1\n",
      "59390    1\n",
      "59391    4\n",
      "59392    9\n",
      "59393    5\n",
      "59394    3\n",
      "59395    4\n",
      "59396    2\n",
      "59397    2\n",
      "59398    2\n",
      "59399    3\n",
      "Name: basin, dtype: int64\n"
     ]
    },
    {
     "ename": "ValueError",
     "evalue": "x and y must have same first dimension",
     "output_type": "error",
     "traceback": [
      "\u001b[0;31m---------------------------------------------------------------------------\u001b[0m",
      "\u001b[0;31mValueError\u001b[0m                                Traceback (most recent call last)",
      "\u001b[0;32m<ipython-input-72-1522fbe62f61>\u001b[0m in \u001b[0;36m<module>\u001b[0;34m()\u001b[0m\n\u001b[1;32m     10\u001b[0m \u001b[0;32mprint\u001b[0m \u001b[0mtype\u001b[0m\u001b[0;34m(\u001b[0m\u001b[0my\u001b[0m\u001b[0;34m)\u001b[0m\u001b[0;34m\u001b[0m\u001b[0m\n\u001b[1;32m     11\u001b[0m \u001b[0;32mprint\u001b[0m \u001b[0my\u001b[0m\u001b[0;34m\u001b[0m\u001b[0m\n\u001b[0;32m---> 12\u001b[0;31m \u001b[0mplt\u001b[0m\u001b[0;34m.\u001b[0m\u001b[0mplot\u001b[0m\u001b[0;34m(\u001b[0m\u001b[0mx1\u001b[0m\u001b[0;34m,\u001b[0m \u001b[0my\u001b[0m\u001b[0;34m,\u001b[0m \u001b[0;34m'.'\u001b[0m\u001b[0;34m,\u001b[0m\u001b[0mmarkersize\u001b[0m\u001b[0;34m=\u001b[0m\u001b[0;36m10\u001b[0m\u001b[0;34m)\u001b[0m\u001b[0;34m\u001b[0m\u001b[0m\n\u001b[0m\u001b[1;32m     13\u001b[0m \u001b[0mplt\u001b[0m\u001b[0;34m.\u001b[0m\u001b[0mlegend\u001b[0m\u001b[0;34m(\u001b[0m\u001b[0;34m[\u001b[0m\u001b[0;34m'Basin'\u001b[0m\u001b[0;34m]\u001b[0m\u001b[0;34m)\u001b[0m\u001b[0;34m\u001b[0m\u001b[0m\n\u001b[1;32m     14\u001b[0m \u001b[0mplt\u001b[0m\u001b[0;34m.\u001b[0m\u001b[0mylabel\u001b[0m\u001b[0;34m(\u001b[0m\u001b[0;34m'Basin'\u001b[0m\u001b[0;34m)\u001b[0m\u001b[0;34m\u001b[0m\u001b[0m\n",
      "\u001b[0;32m//anaconda/lib/python2.7/site-packages/matplotlib/pyplot.pyc\u001b[0m in \u001b[0;36mplot\u001b[0;34m(*args, **kwargs)\u001b[0m\n\u001b[1;32m   3097\u001b[0m         \u001b[0max\u001b[0m\u001b[0;34m.\u001b[0m\u001b[0mhold\u001b[0m\u001b[0;34m(\u001b[0m\u001b[0mhold\u001b[0m\u001b[0;34m)\u001b[0m\u001b[0;34m\u001b[0m\u001b[0m\n\u001b[1;32m   3098\u001b[0m     \u001b[0;32mtry\u001b[0m\u001b[0;34m:\u001b[0m\u001b[0;34m\u001b[0m\u001b[0m\n\u001b[0;32m-> 3099\u001b[0;31m         \u001b[0mret\u001b[0m \u001b[0;34m=\u001b[0m \u001b[0max\u001b[0m\u001b[0;34m.\u001b[0m\u001b[0mplot\u001b[0m\u001b[0;34m(\u001b[0m\u001b[0;34m*\u001b[0m\u001b[0margs\u001b[0m\u001b[0;34m,\u001b[0m \u001b[0;34m**\u001b[0m\u001b[0mkwargs\u001b[0m\u001b[0;34m)\u001b[0m\u001b[0;34m\u001b[0m\u001b[0m\n\u001b[0m\u001b[1;32m   3100\u001b[0m         \u001b[0mdraw_if_interactive\u001b[0m\u001b[0;34m(\u001b[0m\u001b[0;34m)\u001b[0m\u001b[0;34m\u001b[0m\u001b[0m\n\u001b[1;32m   3101\u001b[0m     \u001b[0;32mfinally\u001b[0m\u001b[0;34m:\u001b[0m\u001b[0;34m\u001b[0m\u001b[0m\n",
      "\u001b[0;32m//anaconda/lib/python2.7/site-packages/matplotlib/axes/_axes.pyc\u001b[0m in \u001b[0;36mplot\u001b[0;34m(self, *args, **kwargs)\u001b[0m\n\u001b[1;32m   1371\u001b[0m         \u001b[0mlines\u001b[0m \u001b[0;34m=\u001b[0m \u001b[0;34m[\u001b[0m\u001b[0;34m]\u001b[0m\u001b[0;34m\u001b[0m\u001b[0m\n\u001b[1;32m   1372\u001b[0m \u001b[0;34m\u001b[0m\u001b[0m\n\u001b[0;32m-> 1373\u001b[0;31m         \u001b[0;32mfor\u001b[0m \u001b[0mline\u001b[0m \u001b[0;32min\u001b[0m \u001b[0mself\u001b[0m\u001b[0;34m.\u001b[0m\u001b[0m_get_lines\u001b[0m\u001b[0;34m(\u001b[0m\u001b[0;34m*\u001b[0m\u001b[0margs\u001b[0m\u001b[0;34m,\u001b[0m \u001b[0;34m**\u001b[0m\u001b[0mkwargs\u001b[0m\u001b[0;34m)\u001b[0m\u001b[0;34m:\u001b[0m\u001b[0;34m\u001b[0m\u001b[0m\n\u001b[0m\u001b[1;32m   1374\u001b[0m             \u001b[0mself\u001b[0m\u001b[0;34m.\u001b[0m\u001b[0madd_line\u001b[0m\u001b[0;34m(\u001b[0m\u001b[0mline\u001b[0m\u001b[0;34m)\u001b[0m\u001b[0;34m\u001b[0m\u001b[0m\n\u001b[1;32m   1375\u001b[0m             \u001b[0mlines\u001b[0m\u001b[0;34m.\u001b[0m\u001b[0mappend\u001b[0m\u001b[0;34m(\u001b[0m\u001b[0mline\u001b[0m\u001b[0;34m)\u001b[0m\u001b[0;34m\u001b[0m\u001b[0m\n",
      "\u001b[0;32m//anaconda/lib/python2.7/site-packages/matplotlib/axes/_base.pyc\u001b[0m in \u001b[0;36m_grab_next_args\u001b[0;34m(self, *args, **kwargs)\u001b[0m\n\u001b[1;32m    302\u001b[0m                 \u001b[0;32mreturn\u001b[0m\u001b[0;34m\u001b[0m\u001b[0m\n\u001b[1;32m    303\u001b[0m             \u001b[0;32mif\u001b[0m \u001b[0mlen\u001b[0m\u001b[0;34m(\u001b[0m\u001b[0mremaining\u001b[0m\u001b[0;34m)\u001b[0m \u001b[0;34m<=\u001b[0m \u001b[0;36m3\u001b[0m\u001b[0;34m:\u001b[0m\u001b[0;34m\u001b[0m\u001b[0m\n\u001b[0;32m--> 304\u001b[0;31m                 \u001b[0;32mfor\u001b[0m \u001b[0mseg\u001b[0m \u001b[0;32min\u001b[0m \u001b[0mself\u001b[0m\u001b[0;34m.\u001b[0m\u001b[0m_plot_args\u001b[0m\u001b[0;34m(\u001b[0m\u001b[0mremaining\u001b[0m\u001b[0;34m,\u001b[0m \u001b[0mkwargs\u001b[0m\u001b[0;34m)\u001b[0m\u001b[0;34m:\u001b[0m\u001b[0;34m\u001b[0m\u001b[0m\n\u001b[0m\u001b[1;32m    305\u001b[0m                     \u001b[0;32myield\u001b[0m \u001b[0mseg\u001b[0m\u001b[0;34m\u001b[0m\u001b[0m\n\u001b[1;32m    306\u001b[0m                 \u001b[0;32mreturn\u001b[0m\u001b[0;34m\u001b[0m\u001b[0m\n",
      "\u001b[0;32m//anaconda/lib/python2.7/site-packages/matplotlib/axes/_base.pyc\u001b[0m in \u001b[0;36m_plot_args\u001b[0;34m(self, tup, kwargs)\u001b[0m\n\u001b[1;32m    280\u001b[0m             \u001b[0mx\u001b[0m \u001b[0;34m=\u001b[0m \u001b[0mnp\u001b[0m\u001b[0;34m.\u001b[0m\u001b[0marange\u001b[0m\u001b[0;34m(\u001b[0m\u001b[0my\u001b[0m\u001b[0;34m.\u001b[0m\u001b[0mshape\u001b[0m\u001b[0;34m[\u001b[0m\u001b[0;36m0\u001b[0m\u001b[0;34m]\u001b[0m\u001b[0;34m,\u001b[0m \u001b[0mdtype\u001b[0m\u001b[0;34m=\u001b[0m\u001b[0mfloat\u001b[0m\u001b[0;34m)\u001b[0m\u001b[0;34m\u001b[0m\u001b[0m\n\u001b[1;32m    281\u001b[0m \u001b[0;34m\u001b[0m\u001b[0m\n\u001b[0;32m--> 282\u001b[0;31m         \u001b[0mx\u001b[0m\u001b[0;34m,\u001b[0m \u001b[0my\u001b[0m \u001b[0;34m=\u001b[0m \u001b[0mself\u001b[0m\u001b[0;34m.\u001b[0m\u001b[0m_xy_from_xy\u001b[0m\u001b[0;34m(\u001b[0m\u001b[0mx\u001b[0m\u001b[0;34m,\u001b[0m \u001b[0my\u001b[0m\u001b[0;34m)\u001b[0m\u001b[0;34m\u001b[0m\u001b[0m\n\u001b[0m\u001b[1;32m    283\u001b[0m \u001b[0;34m\u001b[0m\u001b[0m\n\u001b[1;32m    284\u001b[0m         \u001b[0;32mif\u001b[0m \u001b[0mself\u001b[0m\u001b[0;34m.\u001b[0m\u001b[0mcommand\u001b[0m \u001b[0;34m==\u001b[0m \u001b[0;34m'plot'\u001b[0m\u001b[0;34m:\u001b[0m\u001b[0;34m\u001b[0m\u001b[0m\n",
      "\u001b[0;32m//anaconda/lib/python2.7/site-packages/matplotlib/axes/_base.pyc\u001b[0m in \u001b[0;36m_xy_from_xy\u001b[0;34m(self, x, y)\u001b[0m\n\u001b[1;32m    221\u001b[0m         \u001b[0my\u001b[0m \u001b[0;34m=\u001b[0m \u001b[0mnp\u001b[0m\u001b[0;34m.\u001b[0m\u001b[0matleast_1d\u001b[0m\u001b[0;34m(\u001b[0m\u001b[0my\u001b[0m\u001b[0;34m)\u001b[0m\u001b[0;34m\u001b[0m\u001b[0m\n\u001b[1;32m    222\u001b[0m         \u001b[0;32mif\u001b[0m \u001b[0mx\u001b[0m\u001b[0;34m.\u001b[0m\u001b[0mshape\u001b[0m\u001b[0;34m[\u001b[0m\u001b[0;36m0\u001b[0m\u001b[0;34m]\u001b[0m \u001b[0;34m!=\u001b[0m \u001b[0my\u001b[0m\u001b[0;34m.\u001b[0m\u001b[0mshape\u001b[0m\u001b[0;34m[\u001b[0m\u001b[0;36m0\u001b[0m\u001b[0;34m]\u001b[0m\u001b[0;34m:\u001b[0m\u001b[0;34m\u001b[0m\u001b[0m\n\u001b[0;32m--> 223\u001b[0;31m             \u001b[0;32mraise\u001b[0m \u001b[0mValueError\u001b[0m\u001b[0;34m(\u001b[0m\u001b[0;34m\"x and y must have same first dimension\"\u001b[0m\u001b[0;34m)\u001b[0m\u001b[0;34m\u001b[0m\u001b[0m\n\u001b[0m\u001b[1;32m    224\u001b[0m         \u001b[0;32mif\u001b[0m \u001b[0mx\u001b[0m\u001b[0;34m.\u001b[0m\u001b[0mndim\u001b[0m \u001b[0;34m>\u001b[0m \u001b[0;36m2\u001b[0m \u001b[0;32mor\u001b[0m \u001b[0my\u001b[0m\u001b[0;34m.\u001b[0m\u001b[0mndim\u001b[0m \u001b[0;34m>\u001b[0m \u001b[0;36m2\u001b[0m\u001b[0;34m:\u001b[0m\u001b[0;34m\u001b[0m\u001b[0m\n\u001b[1;32m    225\u001b[0m             \u001b[0;32mraise\u001b[0m \u001b[0mValueError\u001b[0m\u001b[0;34m(\u001b[0m\u001b[0;34m\"x and y can be no greater than 2-D\"\u001b[0m\u001b[0;34m)\u001b[0m\u001b[0;34m\u001b[0m\u001b[0m\n",
      "\u001b[0;31mValueError\u001b[0m: x and y must have same first dimension"
     ]
    },
    {
     "data": {
      "image/png": "[encoded data removed]",
      "text/plain": [
       "<matplotlib.figure.Figure at 0x1112186d0>"
      ]
     },
     "metadata": {},
     "output_type": "display_data"
    }
   ],
   "source": [
    "\n",
    "\n",
    "\n",
    "\n",
    "print type(x1)\n",
    "print x1\n",
    "y = df_coded['basin']\n",
    "x = df_labels['label']\n",
    "\n",
    "print type(y)\n",
    "print y\n",
    "plt.plot(x1, y, '.',markersize=10)\n",
    "plt.legend(['Basin'])\n",
    "plt.ylabel('Basin')\n",
    "plt.xlabel('(Functioning/NonFunctioning/NeedsRepair)')\n",
    "plt.title('Class vs. Basin')\n",
    "\n",
    "plt.show()\n",
    "\n",
    "plt.figure()\n",
    "plt.hist(y, bins=9);\n",
    "plt.title('Histogram of standardized deviance residuals')\n",
    "plt.show()"
   ]
  },
  {
   "cell_type": "code",
   "execution_count": 26,
   "metadata": {
    "collapsed": false
   },
   "outputs": [
    {
     "name": "stdout",
     "output_type": "stream",
     "text": [
      "[1 2 3]\n",
      "[1 2 3]\n"
     ]
    },
    {
     "data": {
      "image/png": "[encoded data removed]",
      "text/plain": [
       "<matplotlib.figure.Figure at 0x1141a8150>"
      ]
     },
     "metadata": {},
     "output_type": "display_data"
    }
   ],
   "source": [
    "y = df_coded['scheme_management']\n",
    "x = df_labels['label']\n",
    "\n",
    "print df_labels['label'].unique()\n",
    "print x.unique()\n",
    "\n",
    "plt.plot(x, y, '.',markersize=20)\n",
    "plt.legend(['scheme_management'])\n",
    "plt.ylabel('Scheme Management')\n",
    "plt.xlabel('(Functioning/NonFunctioning/NeedsRepair)')\n",
    "plt.title('Class vs. scheme_management')\n",
    "\n",
    "plt.show()"
   ]
  },
  {
   "cell_type": "code",
   "execution_count": null,
   "metadata": {
    "collapsed": true
   },
   "outputs": [],
   "source": [
    "y = df_coded['scheme_management']\n",
    "x = df_labels['label']\n",
    "\n",
    "print df_labels['label'].unique()\n",
    "print x.unique()\n",
    "\n",
    "plt.plot(x, y, '.',markersize=20)\n",
    "plt.legend(['scheme_management'])\n",
    "plt.ylabel('Scheme Management')\n",
    "plt.xlabel('(Functioning/NonFunctioning/NeedsRepair)')\n",
    "plt.title('Class vs. scheme_management')\n",
    "\n",
    "plt.show()"
   ]
  }
 ],
 "metadata": {
  "kernelspec": {
   "display_name": "Python 2",
   "language": "python",
   "name": "python2"
  },
  "language_info": {
   "codemirror_mode": {
    "name": "ipython",
    "version": 2
   },
   "file_extension": ".py",
   "mimetype": "text/x-python",
   "name": "python",
   "nbconvert_exporter": "python",
   "pygments_lexer": "ipython2",
   "version": "2.7.10"
  }
 },
 "nbformat": 4,
 "nbformat_minor": 0
}
