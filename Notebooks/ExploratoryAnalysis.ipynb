{
 "cells": [
  {
   "cell_type": "code",
   "execution_count": 2,
   "metadata": {
    "collapsed": false
   },
   "outputs": [
    {
     "name": "stdout",
     "output_type": "stream",
     "text": [
      "['functional' 'non functional' 'functional needs repair']\n",
      "      id           label\n",
      "0  69572      functional\n",
      "1   8776      functional\n",
      "2  34310      functional\n",
      "3  67743  non functional\n",
      "4  19728      functional\n",
      "          id       label\n",
      "59395  60739  functional\n",
      "59396  27263  functional\n",
      "59397  37057  functional\n",
      "59398  31282  functional\n",
      "59399  26348  functional\n"
     ]
    }
   ],
   "source": [
    "import psycopg2\n",
    "import pandas as pd\n",
    "from sklearn.cross_validation import train_test_split\n",
    "\n",
    "def load_labels():\n",
    "    db = psycopg2.connect(database='martinrasumoff')\n",
    "    cursor = db.cursor()\n",
    "\n",
    "    #Loading Labels\n",
    "    cursor.execute(\"select * from labels_water_pumps;\")\n",
    "    list_labels = cursor.fetchall()\n",
    "\n",
    "    series_labels = pd.DataFrame(list_labels)\n",
    "\n",
    "    return series_labels\n",
    "\n",
    "df_labels = load_labels()\n",
    "\n",
    "df_labels.columns = ['id','label']\n",
    "\n",
    "print df_labels['label'].unique()\n",
    "\n",
    "print df_labels.head()\n",
    "print df_labels.tail()"
   ]
  },
  {
   "cell_type": "code",
   "execution_count": 3,
   "metadata": {
    "collapsed": false,
    "scrolled": true
   },
   "outputs": [
    {
     "name": "stdout",
     "output_type": "stream",
     "text": [
      "      id  amount_tsh date_recorded        funder  gps_height     installer  \\\n",
      "0  69572        6000    2011-03-14         Roman        1390         Roman   \n",
      "1   8776           0    2013-03-06       Grumeti        1399       GRUMETI   \n",
      "2  34310          25    2013-02-25  Lottery Club         686  World vision   \n",
      "3  67743           0    2013-01-28        Unicef         263        UNICEF   \n",
      "4  19728           0    2011-07-13   Action In A           0       Artisan   \n",
      "\n",
      "   longitude   latitude              wpt_name num_private  \\\n",
      "0  34.938093  -9.856322                  none           0   \n",
      "1  34.698766  -2.147466              Zahanati           0   \n",
      "2  37.460664  -3.821329           Kwa Mahundi           0   \n",
      "3  38.486161 -11.155298  Zahanati Ya Nanyumbu           0   \n",
      "4  31.130847  -1.825359               Shuleni           0   \n",
      "\n",
      "           ...          payment_type water_quality quality_group  \\\n",
      "0          ...              annually          soft          good   \n",
      "1          ...             never pay          soft          good   \n",
      "2          ...            per bucket          soft          good   \n",
      "3          ...             never pay          soft          good   \n",
      "4          ...             never pay          soft          good   \n",
      "\n",
      "       quantity  quantity_group                source           source_type  \\\n",
      "0        enough          enough                spring                spring   \n",
      "1  insufficient    insufficient  rainwater harvesting  rainwater harvesting   \n",
      "2        enough          enough                   dam                   dam   \n",
      "3           dry             dry           machine dbh              borehole   \n",
      "4      seasonal        seasonal  rainwater harvesting  rainwater harvesting   \n",
      "\n",
      "   source_class              waterpoint_type waterpoint_type_group  \n",
      "0   groundwater           communal standpipe    communal standpipe  \n",
      "1       surface           communal standpipe    communal standpipe  \n",
      "2       surface  communal standpipe multiple    communal standpipe  \n",
      "3   groundwater  communal standpipe multiple    communal standpipe  \n",
      "4       surface           communal standpipe    communal standpipe  \n",
      "\n",
      "[5 rows x 40 columns]\n",
      "          id  amount_tsh date_recorded           funder  gps_height installer  \\\n",
      "59395  60739          10    2013-05-03  Germany Republi        1210       CES   \n",
      "59396  27263        4700    2011-05-07      Cefa-njombe        1212      Cefa   \n",
      "59397  37057           0    2011-04-11             None           0      None   \n",
      "59398  31282           0    2011-03-08            Malec           0      Musa   \n",
      "59399  26348           0    2011-03-23       World Bank         191     World   \n",
      "\n",
      "       longitude  latitude             wpt_name num_private  \\\n",
      "59395  37.169807 -3.253847  Area Three Namba 27           0   \n",
      "59396  35.249991 -9.070629    Kwa Yahona Kuvala           0   \n",
      "59397  34.017087 -8.750434              Mashine           0   \n",
      "59398  35.861315 -6.378573               Mshoro           0   \n",
      "59399  38.104048 -6.747464      Kwa Mzee Lugawa           0   \n",
      "\n",
      "               ...          payment_type water_quality quality_group  \\\n",
      "59395          ...            per bucket          soft          good   \n",
      "59396          ...              annually          soft          good   \n",
      "59397          ...               monthly      fluoride      fluoride   \n",
      "59398          ...             never pay          soft          good   \n",
      "59399          ...            on failure         salty         salty   \n",
      "\n",
      "           quantity  quantity_group        source   source_type  source_class  \\\n",
      "59395        enough          enough        spring        spring   groundwater   \n",
      "59396        enough          enough         river    river/lake       surface   \n",
      "59397        enough          enough   machine dbh      borehole   groundwater   \n",
      "59398  insufficient    insufficient  shallow well  shallow well   groundwater   \n",
      "59399        enough          enough  shallow well  shallow well   groundwater   \n",
      "\n",
      "          waterpoint_type waterpoint_type_group  \n",
      "59395  communal standpipe    communal standpipe  \n",
      "59396  communal standpipe    communal standpipe  \n",
      "59397           hand pump             hand pump  \n",
      "59398           hand pump             hand pump  \n",
      "59399           hand pump             hand pump  \n",
      "\n",
      "[5 rows x 40 columns]\n"
     ]
    }
   ],
   "source": [
    "\n",
    "def load_wells():\n",
    "    db = psycopg2.connect(database='martinrasumoff')\n",
    "    cursor = db.cursor()\n",
    "\n",
    "    #Loading Pump Data\n",
    "    cursor.execute(\"select * from water_pumps;\")\n",
    "    list_pumps = cursor.fetchall()\n",
    "\n",
    "    #Converting wells data into a pandas Data Frame\n",
    "    df_pumps = pd.DataFrame(list_pumps)\n",
    "\n",
    "    return df_pumps\n",
    "\n",
    "df_data = load_wells()\n",
    "\n",
    "df_data.columns = ['id','amount_tsh',\n",
    "                    'date_recorded',\n",
    "                    'funder',\n",
    "                    'gps_height',\n",
    "                    'installer',\n",
    "                    'longitude',\n",
    "                    'latitude',\n",
    "                    'wpt_name',\n",
    "                    'num_private',\n",
    "                    'basin',\n",
    "                    'subvillage',\n",
    "                    'region',\n",
    "                    'region_code',\n",
    "                    'district_code',\n",
    "                    'lga',\n",
    "                    'ward',\n",
    "                    'population',\n",
    "                    'public_meeting',\n",
    "                    'recorded_by',\n",
    "                    'scheme_management',\n",
    "                    'scheme_name',\n",
    "                    'permit',\n",
    "                    'construction_year',\n",
    "                    'extraction_type',\n",
    "                    'extraction_type_group',\n",
    "                    'extraction_type_class',\n",
    "                    'management',\n",
    "                    'management_group',\n",
    "                    'payment',\n",
    "                    'payment_type',\n",
    "                    'water_quality',\n",
    "                    'quality_group',\n",
    "                    'quantity',\n",
    "                    'quantity_group',\n",
    "                    'source',\n",
    "                    'source_type',\n",
    "                    'source_class',\n",
    "                    'waterpoint_type',\n",
    "                    'waterpoint_type_group']\n",
    "\n",
    "print df_data.head()\n",
    "print df_data.tail()"
   ]
  },
  {
   "cell_type": "code",
   "execution_count": 4,
   "metadata": {
    "collapsed": false
   },
   "outputs": [
    {
     "name": "stdout",
     "output_type": "stream",
     "text": [
      "      id           label\n",
      "0  69572      functional\n",
      "1   8776      functional\n",
      "2  34310      functional\n",
      "3  67743  non functional\n",
      "4  19728      functional\n",
      "          id       label\n",
      "59395  60739  functional\n",
      "59396  27263  functional\n",
      "59397  37057  functional\n",
      "59398  31282  functional\n",
      "59399  26348  functional\n"
     ]
    }
   ],
   "source": [
    "df_labels = load_labels()\n",
    "\n",
    "df_labels.columns = ['id','label']\n",
    "\n",
    "print df_labels.head()\n",
    "print df_labels.tail()"
   ]
  },
  {
   "cell_type": "code",
   "execution_count": 5,
   "metadata": {
    "collapsed": false
   },
   "outputs": [
    {
     "name": "stdout",
     "output_type": "stream",
     "text": [
      "       id           label\n",
      "9410    0  non functional\n",
      "18428   1      functional\n",
      "12119   2      functional\n",
      "10629   3      functional\n",
      "2343    4  non functional\n",
      "          id           label\n",
      "15137  74240      functional\n",
      "8667   74242      functional\n",
      "22584  74243  non functional\n",
      "108    74246  non functional\n",
      "39131  74247  non functional\n"
     ]
    }
   ],
   "source": [
    "df_labels = df_labels.sort(['id'])\n",
    "\n",
    "print df_labels.head()\n",
    "print df_labels.tail()"
   ]
  },
  {
   "cell_type": "code",
   "execution_count": 6,
   "metadata": {
    "collapsed": false,
    "scrolled": true
   },
   "outputs": [
    {
     "name": "stdout",
     "output_type": "stream",
     "text": [
      "      id  amount_tsh date_recorded        funder  gps_height     installer  \\\n",
      "0  69572        6000    2011-03-14         Roman        1390         Roman   \n",
      "1   8776           0    2013-03-06       Grumeti        1399       GRUMETI   \n",
      "2  34310          25    2013-02-25  Lottery Club         686  World vision   \n",
      "3  67743           0    2013-01-28        Unicef         263        UNICEF   \n",
      "4  19728           0    2011-07-13   Action In A           0       Artisan   \n",
      "\n",
      "   longitude   latitude              wpt_name num_private  \\\n",
      "0  34.938093  -9.856322                  none           0   \n",
      "1  34.698766  -2.147466              Zahanati           0   \n",
      "2  37.460664  -3.821329           Kwa Mahundi           0   \n",
      "3  38.486161 -11.155298  Zahanati Ya Nanyumbu           0   \n",
      "4  31.130847  -1.825359               Shuleni           0   \n",
      "\n",
      "           ...          payment_type water_quality quality_group  \\\n",
      "0          ...              annually          soft          good   \n",
      "1          ...             never pay          soft          good   \n",
      "2          ...            per bucket          soft          good   \n",
      "3          ...             never pay          soft          good   \n",
      "4          ...             never pay          soft          good   \n",
      "\n",
      "       quantity  quantity_group                source           source_type  \\\n",
      "0        enough          enough                spring                spring   \n",
      "1  insufficient    insufficient  rainwater harvesting  rainwater harvesting   \n",
      "2        enough          enough                   dam                   dam   \n",
      "3           dry             dry           machine dbh              borehole   \n",
      "4      seasonal        seasonal  rainwater harvesting  rainwater harvesting   \n",
      "\n",
      "   source_class              waterpoint_type waterpoint_type_group  \n",
      "0   groundwater           communal standpipe    communal standpipe  \n",
      "1       surface           communal standpipe    communal standpipe  \n",
      "2       surface  communal standpipe multiple    communal standpipe  \n",
      "3   groundwater  communal standpipe multiple    communal standpipe  \n",
      "4       surface           communal standpipe    communal standpipe  \n",
      "\n",
      "[5 rows x 40 columns]\n"
     ]
    }
   ],
   "source": [
    "print df_data.head()"
   ]
  },
  {
   "cell_type": "code",
   "execution_count": 7,
   "metadata": {
    "collapsed": false,
    "scrolled": true
   },
   "outputs": [
    {
     "name": "stdout",
     "output_type": "stream",
     "text": [
      "       id  amount_tsh date_recorded           funder  gps_height installer  \\\n",
      "9425    0           0    2012-11-13            Tasaf           0     TASAF   \n",
      "18440   1           0    2011-03-05            Shipo        1978     SHIPO   \n",
      "12134   2           0    2011-03-27             Lvia           0      LVIA   \n",
      "10644   3          10    2013-06-03  Germany Republi        1639       CES   \n",
      "2350    4           0    2011-03-22             Cmsr           0      CMSR   \n",
      "\n",
      "       longitude  latitude        wpt_name num_private          ...           \\\n",
      "9425   33.125828 -5.118154         Mratibu           0          ...            \n",
      "18440  34.770717 -9.395642            none           0          ...            \n",
      "12134  36.115056 -6.279268         Bombani           0          ...            \n",
      "10644  37.147432 -3.187555  Area 7 Namba 5           0          ...            \n",
      "2350   36.164893 -6.099289         Ezeleda           0          ...            \n",
      "\n",
      "      payment_type water_quality quality_group      quantity  quantity_group  \\\n",
      "9425       unknown         milky         milky        enough          enough   \n",
      "18440    never pay          soft          good        enough          enough   \n",
      "12134   per bucket          soft          good  insufficient    insufficient   \n",
      "10644   per bucket          soft          good        enough          enough   \n",
      "2350       unknown          soft          good           dry             dry   \n",
      "\n",
      "             source   source_type  source_class              waterpoint_type  \\\n",
      "9425   shallow well  shallow well   groundwater                    hand pump   \n",
      "18440  shallow well  shallow well   groundwater                    hand pump   \n",
      "12134   machine dbh      borehole   groundwater  communal standpipe multiple   \n",
      "10644        spring        spring   groundwater           communal standpipe   \n",
      "2350   shallow well  shallow well   groundwater                    hand pump   \n",
      "\n",
      "      waterpoint_type_group  \n",
      "9425              hand pump  \n",
      "18440             hand pump  \n",
      "12134    communal standpipe  \n",
      "10644    communal standpipe  \n",
      "2350              hand pump  \n",
      "\n",
      "[5 rows x 40 columns]\n",
      "          id  amount_tsh date_recorded             funder  gps_height  \\\n",
      "15151  74240           0    2013-03-22       World Vision        1183   \n",
      "8682   74242           0    2011-04-12             Danida           0   \n",
      "22597  74243           0    2012-11-13  Ministry Of Water        1188   \n",
      "108    74246          50    2011-03-07              Ruthe        1428   \n",
      "39138  74247          50    2013-02-16            Mission         965   \n",
      "\n",
      "          installer  longitude   latitude               wpt_name num_private  \\\n",
      "15151  World vision  37.007726  -3.280868  Upendo Primary School           0   \n",
      "8682         DANIDA  33.724987  -8.940758            Kwa Mvulula           0   \n",
      "22597        Hesawa  33.963539  -1.429477      Kwa Wambura Msege           0   \n",
      "108           Ruthe  35.630481  -7.710549                   none           0   \n",
      "39138           DWE  35.432998 -10.639270            Kwa Mapunda           0   \n",
      "\n",
      "               ...          payment_type water_quality quality_group  \\\n",
      "15151          ...               unknown          soft          good   \n",
      "8682           ...            on failure          soft          good   \n",
      "22597          ...             never pay          soft          good   \n",
      "108            ...            per bucket          soft          good   \n",
      "39138          ...            per bucket          soft          good   \n",
      "\n",
      "           quantity  quantity_group                source  \\\n",
      "15151  insufficient    insufficient  rainwater harvesting   \n",
      "8682         enough          enough                 river   \n",
      "22597        enough          enough                  lake   \n",
      "108             dry             dry                spring   \n",
      "39138           dry             dry                 river   \n",
      "\n",
      "                source_type  source_class              waterpoint_type  \\\n",
      "15151  rainwater harvesting       surface           communal standpipe   \n",
      "8682             river/lake       surface           communal standpipe   \n",
      "22597            river/lake       surface  communal standpipe multiple   \n",
      "108                  spring   groundwater           communal standpipe   \n",
      "39138            river/lake       surface           communal standpipe   \n",
      "\n",
      "      waterpoint_type_group  \n",
      "15151    communal standpipe  \n",
      "8682     communal standpipe  \n",
      "22597    communal standpipe  \n",
      "108      communal standpipe  \n",
      "39138    communal standpipe  \n",
      "\n",
      "[5 rows x 40 columns]\n"
     ]
    }
   ],
   "source": [
    "df_data = df_data.sort(['id'])\n",
    "\n",
    "print df_data.head()\n",
    "print df_data.tail()"
   ]
  },
  {
   "cell_type": "code",
   "execution_count": 8,
   "metadata": {
    "collapsed": false
   },
   "outputs": [
    {
     "name": "stdout",
     "output_type": "stream",
     "text": [
      "      id           label     id  amount_tsh date_recorded        funder  \\\n",
      "0  69572      functional  69572        6000    2011-03-14         Roman   \n",
      "1   8776      functional   8776           0    2013-03-06       Grumeti   \n",
      "2  34310      functional  34310          25    2013-02-25  Lottery Club   \n",
      "3  67743  non functional  67743           0    2013-01-28        Unicef   \n",
      "4  19728      functional  19728           0    2011-07-13   Action In A   \n",
      "\n",
      "   gps_height     installer  longitude   latitude          ...            \\\n",
      "0        1390         Roman  34.938093  -9.856322          ...             \n",
      "1        1399       GRUMETI  34.698766  -2.147466          ...             \n",
      "2         686  World vision  37.460664  -3.821329          ...             \n",
      "3         263        UNICEF  38.486161 -11.155298          ...             \n",
      "4           0       Artisan  31.130847  -1.825359          ...             \n",
      "\n",
      "  payment_type water_quality quality_group      quantity quantity_group  \\\n",
      "0     annually          soft          good        enough         enough   \n",
      "1    never pay          soft          good  insufficient   insufficient   \n",
      "2   per bucket          soft          good        enough         enough   \n",
      "3    never pay          soft          good           dry            dry   \n",
      "4    never pay          soft          good      seasonal       seasonal   \n",
      "\n",
      "                 source           source_type source_class  \\\n",
      "0                spring                spring  groundwater   \n",
      "1  rainwater harvesting  rainwater harvesting      surface   \n",
      "2                   dam                   dam      surface   \n",
      "3           machine dbh              borehole  groundwater   \n",
      "4  rainwater harvesting  rainwater harvesting      surface   \n",
      "\n",
      "               waterpoint_type  waterpoint_type_group  \n",
      "0           communal standpipe     communal standpipe  \n",
      "1           communal standpipe     communal standpipe  \n",
      "2  communal standpipe multiple     communal standpipe  \n",
      "3  communal standpipe multiple     communal standpipe  \n",
      "4           communal standpipe     communal standpipe  \n",
      "\n",
      "[5 rows x 42 columns]\n",
      "(59400, 42)\n"
     ]
    }
   ],
   "source": [
    "\n",
    "df_complete = pd.concat([df_labels,df_data],axis=1)\n",
    "\n",
    "print df_complete.head()\n",
    "print df_complete.shape"
   ]
  },
  {
   "cell_type": "code",
   "execution_count": 37,
   "metadata": {
    "collapsed": false,
    "scrolled": true
   },
   "outputs": [
    {
     "name": "stdout",
     "output_type": "stream",
     "text": [
      "      id  label     id  amount_tsh date_recorded        funder  gps_height  \\\n",
      "0  69572      1  69572        6000    2011-03-14         Roman        1390   \n",
      "1   8776      1   8776           0    2013-03-06       Grumeti        1399   \n",
      "2  34310      1  34310          25    2013-02-25  Lottery Club         686   \n",
      "3  67743      2  67743           0    2013-01-28        Unicef         263   \n",
      "4  19728      1  19728           0    2011-07-13   Action In A           0   \n",
      "\n",
      "      installer  longitude   latitude          ...           payment_type  \\\n",
      "0         Roman  34.938093  -9.856322          ...               annually   \n",
      "1       GRUMETI  34.698766  -2.147466          ...              never pay   \n",
      "2  World vision  37.460664  -3.821329          ...             per bucket   \n",
      "3        UNICEF  38.486161 -11.155298          ...              never pay   \n",
      "4       Artisan  31.130847  -1.825359          ...              never pay   \n",
      "\n",
      "  water_quality  quality_group quantity quantity_group  source  \\\n",
      "0             1           good        0         enough       2   \n",
      "1             1           good        1   insufficient       3   \n",
      "2             1           good        0         enough       7   \n",
      "3             1           good        2            dry       1   \n",
      "4             1           good        3       seasonal       3   \n",
      "\n",
      "            source_type source_class waterpoint_type  waterpoint_type_group  \n",
      "0                spring            0               2     communal standpipe  \n",
      "1  rainwater harvesting            1               2     communal standpipe  \n",
      "2                   dam            1               1     communal standpipe  \n",
      "3              borehole            0               1     communal standpipe  \n",
      "4  rainwater harvesting            1               2     communal standpipe  \n",
      "\n",
      "[5 rows x 42 columns]\n",
      "          id  label     id  amount_tsh date_recorded           funder  \\\n",
      "59395  60739      1  60739          10    2013-05-03  Germany Republi   \n",
      "59396  27263      1  27263        4700    2011-05-07      Cefa-njombe   \n",
      "59397  37057      1  37057           0    2011-04-11             None   \n",
      "59398  31282      1  31282           0    2011-03-08            Malec   \n",
      "59399  26348      1  26348           0    2011-03-23       World Bank   \n",
      "\n",
      "       gps_height installer  longitude  latitude          ...            \\\n",
      "59395        1210       CES  37.169807 -3.253847          ...             \n",
      "59396        1212      Cefa  35.249991 -9.070629          ...             \n",
      "59397           0      None  34.017087 -8.750434          ...             \n",
      "59398           0      Musa  35.861315 -6.378573          ...             \n",
      "59399         191     World  38.104048 -6.747464          ...             \n",
      "\n",
      "      payment_type water_quality  quality_group quantity quantity_group  \\\n",
      "59395   per bucket             1           good        0         enough   \n",
      "59396     annually             1           good        0         enough   \n",
      "59397      monthly             6       fluoride        0         enough   \n",
      "59398    never pay             1           good        1   insufficient   \n",
      "59399   on failure             2          salty        0         enough   \n",
      "\n",
      "       source   source_type source_class waterpoint_type  \\\n",
      "59395       2        spring            0               2   \n",
      "59396       4    river/lake            1               2   \n",
      "59397       1      borehole            0               0   \n",
      "59398       0  shallow well            0               0   \n",
      "59399       0  shallow well            0               0   \n",
      "\n",
      "       waterpoint_type_group  \n",
      "59395     communal standpipe  \n",
      "59396     communal standpipe  \n",
      "59397              hand pump  \n",
      "59398              hand pump  \n",
      "59399              hand pump  \n",
      "\n",
      "[5 rows x 42 columns]\n",
      "(59400, 42)\n"
     ]
    }
   ],
   "source": [
    "def code_df(df):\n",
    "    a = df.basin.unique()\n",
    "    df.basin.replace(a,(1,2,3,4,5,6,7,8,9),inplace=True)\n",
    "\n",
    "    b = df.scheme_management.unique()\n",
    "    df.scheme_management.replace(b,range(len(b)),inplace=True)\n",
    "\n",
    "    c = df.extraction_type_class.unique()\n",
    "    df.extraction_type_class.replace(c,range(len(c)),inplace=True)\n",
    "\n",
    "    d = df.management_group.unique()\n",
    "    df.management_group.replace(d,range(len(d)),inplace=True)\n",
    "\n",
    "    e = df.payment.unique()\n",
    "    df.payment.replace(e,range(len(e)),inplace=True)\n",
    "\n",
    "    f = df.water_quality.unique()\n",
    "    df.water_quality.replace(f,range(len(f)),inplace=True)\n",
    "\n",
    "    g = df.quantity.unique()\n",
    "    df.quantity.replace(g,range(len(g)),inplace=True)\n",
    "\n",
    "    h = df.source.unique()\n",
    "    df.source.replace(h,range(len(h)),inplace=True)\n",
    "\n",
    "    i = df.source_class.unique()\n",
    "    df.source_class.replace(i,range(len(i)),inplace=True)\n",
    "\n",
    "    j = df.waterpoint_type.unique()\n",
    "    df.waterpoint_type.replace(j,range(len(j)),inplace=True)\n",
    "\n",
    "    return df\n",
    "\n",
    "df_coded = code_df(df_complete)\n",
    "print df_coded.head()\n",
    "print df_coded.tail()\n",
    "\n",
    "print df_coded.shape"
   ]
  },
  {
   "cell_type": "code",
   "execution_count": 9,
   "metadata": {
    "collapsed": true
   },
   "outputs": [],
   "source": [
    "import numpy as np\n",
    "import matplotlib.pyplot as plt\n",
    "import statsmodels\n",
    "\n",
    "%matplotlib inline"
   ]
  },
  {
   "cell_type": "code",
   "execution_count": 10,
   "metadata": {
    "collapsed": false,
    "scrolled": true
   },
   "outputs": [
    {
     "name": "stdout",
     "output_type": "stream",
     "text": [
      "       id  amount_tsh date_recorded           funder  gps_height installer  \\\n",
      "9425    0           0    2012-11-13            Tasaf           0     TASAF   \n",
      "18440   1           0    2011-03-05            Shipo        1978     SHIPO   \n",
      "12134   2           0    2011-03-27             Lvia           0      LVIA   \n",
      "10644   3          10    2013-06-03  Germany Republi        1639       CES   \n",
      "2350    4           0    2011-03-22             Cmsr           0      CMSR   \n",
      "\n",
      "       longitude  latitude        wpt_name num_private          ...           \\\n",
      "9425   33.125828 -5.118154         Mratibu           0          ...            \n",
      "18440  34.770717 -9.395642            none           0          ...            \n",
      "12134  36.115056 -6.279268         Bombani           0          ...            \n",
      "10644  37.147432 -3.187555  Area 7 Namba 5           0          ...            \n",
      "2350   36.164893 -6.099289         Ezeleda           0          ...            \n",
      "\n",
      "      payment_type water_quality quality_group      quantity  quantity_group  \\\n",
      "9425       unknown         milky         milky        enough          enough   \n",
      "18440    never pay          soft          good        enough          enough   \n",
      "12134   per bucket          soft          good  insufficient    insufficient   \n",
      "10644   per bucket          soft          good        enough          enough   \n",
      "2350       unknown          soft          good           dry             dry   \n",
      "\n",
      "             source   source_type  source_class              waterpoint_type  \\\n",
      "9425   shallow well  shallow well   groundwater                    hand pump   \n",
      "18440  shallow well  shallow well   groundwater                    hand pump   \n",
      "12134   machine dbh      borehole   groundwater  communal standpipe multiple   \n",
      "10644        spring        spring   groundwater           communal standpipe   \n",
      "2350   shallow well  shallow well   groundwater                    hand pump   \n",
      "\n",
      "      waterpoint_type_group  \n",
      "9425              hand pump  \n",
      "18440             hand pump  \n",
      "12134    communal standpipe  \n",
      "10644    communal standpipe  \n",
      "2350              hand pump  \n",
      "\n",
      "[5 rows x 40 columns]\n",
      "          id  amount_tsh date_recorded             funder  gps_height  \\\n",
      "15151  74240           0    2013-03-22       World Vision        1183   \n",
      "8682   74242           0    2011-04-12             Danida           0   \n",
      "22597  74243           0    2012-11-13  Ministry Of Water        1188   \n",
      "108    74246          50    2011-03-07              Ruthe        1428   \n",
      "39138  74247          50    2013-02-16            Mission         965   \n",
      "\n",
      "          installer  longitude   latitude               wpt_name num_private  \\\n",
      "15151  World vision  37.007726  -3.280868  Upendo Primary School           0   \n",
      "8682         DANIDA  33.724987  -8.940758            Kwa Mvulula           0   \n",
      "22597        Hesawa  33.963539  -1.429477      Kwa Wambura Msege           0   \n",
      "108           Ruthe  35.630481  -7.710549                   none           0   \n",
      "39138           DWE  35.432998 -10.639270            Kwa Mapunda           0   \n",
      "\n",
      "               ...          payment_type water_quality quality_group  \\\n",
      "15151          ...               unknown          soft          good   \n",
      "8682           ...            on failure          soft          good   \n",
      "22597          ...             never pay          soft          good   \n",
      "108            ...            per bucket          soft          good   \n",
      "39138          ...            per bucket          soft          good   \n",
      "\n",
      "           quantity  quantity_group                source  \\\n",
      "15151  insufficient    insufficient  rainwater harvesting   \n",
      "8682         enough          enough                 river   \n",
      "22597        enough          enough                  lake   \n",
      "108             dry             dry                spring   \n",
      "39138           dry             dry                 river   \n",
      "\n",
      "                source_type  source_class              waterpoint_type  \\\n",
      "15151  rainwater harvesting       surface           communal standpipe   \n",
      "8682             river/lake       surface           communal standpipe   \n",
      "22597            river/lake       surface  communal standpipe multiple   \n",
      "108                  spring   groundwater           communal standpipe   \n",
      "39138            river/lake       surface           communal standpipe   \n",
      "\n",
      "      waterpoint_type_group  \n",
      "15151    communal standpipe  \n",
      "8682     communal standpipe  \n",
      "22597    communal standpipe  \n",
      "108      communal standpipe  \n",
      "39138    communal standpipe  \n",
      "\n",
      "[5 rows x 40 columns]\n"
     ]
    }
   ],
   "source": [
    "import numpy as np\n",
    "import matplotlib.pyplot as plt\n",
    "\n",
    "df_labels_2 = load_labels()\n",
    "df_labels_2.columns = ['id','label']\n",
    "df_labels_2 = df_labels_2.sort(['id'])\n",
    "\n",
    "df_data_2 = load_wells()\n",
    "\n",
    "df_data_2.columns = ['id','amount_tsh',\n",
    "                    'date_recorded',\n",
    "                    'funder',\n",
    "                    'gps_height',\n",
    "                    'installer',\n",
    "                    'longitude',\n",
    "                    'latitude',\n",
    "                    'wpt_name',\n",
    "                    'num_private',\n",
    "                    'basin',\n",
    "                    'subvillage',\n",
    "                    'region',\n",
    "                    'region_code',\n",
    "                    'district_code',\n",
    "                    'lga',\n",
    "                    'ward',\n",
    "                    'population',\n",
    "                    'public_meeting',\n",
    "                    'recorded_by',\n",
    "                    'scheme_management',\n",
    "                    'scheme_name',\n",
    "                    'permit',\n",
    "                    'construction_year',\n",
    "                    'extraction_type',\n",
    "                    'extraction_type_group',\n",
    "                    'extraction_type_class',\n",
    "                    'management',\n",
    "                    'management_group',\n",
    "                    'payment',\n",
    "                    'payment_type',\n",
    "                    'water_quality',\n",
    "                    'quality_group',\n",
    "                    'quantity',\n",
    "                    'quantity_group',\n",
    "                    'source',\n",
    "                    'source_type',\n",
    "                    'source_class',\n",
    "                    'waterpoint_type',\n",
    "                    'waterpoint_type_group']\n",
    "\n",
    "df_data_2 = df_data_2.sort(['id'])\n",
    "print df_data_2.head()\n",
    "print df_data_2.tail()"
   ]
  },
  {
   "cell_type": "code",
   "execution_count": null,
   "metadata": {
    "collapsed": true
   },
   "outputs": [],
   "source": []
  },
  {
   "cell_type": "code",
   "execution_count": 15,
   "metadata": {
    "collapsed": false,
    "scrolled": true
   },
   "outputs": [
    {
     "name": "stdout",
     "output_type": "stream",
     "text": [
      "0        functional\n",
      "1        functional\n",
      "2        functional\n",
      "3    non functional\n",
      "4        functional\n",
      "Name: label, dtype: object\n"
     ]
    }
   ],
   "source": [
    "df_complete_2 = pd.concat([df_labels_2,df_data_2],axis=1)\n",
    "\n",
    "print df_complete_2['label'].head()\n",
    "#print df_complete_2.head()\n",
    "#print df_complete_2.shape"
   ]
  },
  {
   "cell_type": "code",
   "execution_count": 13,
   "metadata": {
    "collapsed": false,
    "scrolled": true
   },
   "outputs": [
    {
     "name": "stdout",
     "output_type": "stream",
     "text": [
      "['Lake Nyasa' 'Lake Victoria' 'Pangani' 'Ruvuma / Southern Coast'\n",
      " 'Internal' 'Lake Tanganyika' 'Wami / Ruvu' 'Rufiji' 'Lake Rukwa']\n",
      "label                    basin                  \n",
      "functional               Internal                   4234\n",
      "                         Lake Nyasa                 2817\n",
      "                         Lake Rukwa                 1311\n",
      "                         Lake Tanganyika            3494\n",
      "                         Lake Victoria              5557\n",
      "                         Pangani                    4916\n",
      "                         Rufiji                     4367\n",
      "                         Ruvuma / Southern Coast    2345\n",
      "                         Wami / Ruvu                3218\n",
      "functional needs repair  Internal                    572\n",
      "                         Lake Nyasa                  344\n",
      "                         Lake Rukwa                  207\n",
      "                         Lake Tanganyika             499\n",
      "                         Lake Victoria               758\n",
      "                         Pangani                     585\n",
      "                         Rufiji                      564\n",
      "                         Ruvuma / Southern Coast     343\n",
      "                         Wami / Ruvu                 445\n",
      "non functional           Internal                   2979\n",
      "                         Lake Nyasa                 1924\n",
      "                         Lake Rukwa                  936\n",
      "                         Lake Tanganyika            2439\n",
      "                         Lake Victoria              3933\n",
      "                         Pangani                    3439\n",
      "                         Rufiji                     3045\n",
      "                         Ruvuma / Southern Coast    1805\n",
      "                         Wami / Ruvu                2324\n",
      "dtype: int64\n"
     ]
    }
   ],
   "source": [
    "basin_functioning = df_complete_2.groupby(['label','basin'])\n",
    "basin_codes = df_complete_2['basin'].unique()\n",
    "\n",
    "print basin_codes\n",
    "a = basin_functioning.size()\n",
    "print a\n",
    "x1 = a[0:9]\n",
    "x2 = a[9:18]\n",
    "x3 = a[18:27]"
   ]
  },
  {
   "cell_type": "code",
   "execution_count": 117,
   "metadata": {
    "collapsed": false
   },
   "outputs": [
    {
     "data": {
      "image/png": "[encoded data removed]",
      "text/plain": [
       "<matplotlib.figure.Figure at 0x10f8ff210>"
      ]
     },
     "metadata": {},
     "output_type": "display_data"
    }
   ],
   "source": [
    "import numpy as np\n",
    "import matplotlib.pyplot as plt\n",
    "\n",
    "\n",
    "n_groups = 9\n",
    "\n",
    "fig, ax = plt.subplots(figsize=(10,10))\n",
    "\n",
    "index = np.arange(n_groups)\n",
    "bar_width = 0.25\n",
    "\n",
    "opacity = 0.4\n",
    "error_config = {'ecolor': '0.3'}\n",
    "\n",
    "rects1 = plt.bar(index, x1, bar_width,\n",
    "                 alpha=opacity,\n",
    "                 color='b',\n",
    "                 label='Functioning')\n",
    "\n",
    "rects2 = plt.bar(index + bar_width, x2, bar_width,\n",
    "                 alpha=opacity,\n",
    "                 color='r',\n",
    "                 label='Non-Functioning')\n",
    "\n",
    "rects3 = plt.bar(index + bar_width*2, x3, bar_width,\n",
    "                 alpha=opacity,\n",
    "                 color='g',\n",
    "                 label='Needs Repair')\n",
    "\n",
    "\n",
    "plt.xlabel('Basin')\n",
    "plt.ylabel('Count')\n",
    "plt.title('Counts of Basin by Status')\n",
    "plt.xticks(index + bar_width, basin_codes,rotation='vertical')\n",
    "plt.legend()\n",
    "\n",
    "plt.tight_layout()\n",
    "plt.show()"
   ]
  },
  {
   "cell_type": "code",
   "execution_count": 119,
   "metadata": {
    "collapsed": false
   },
   "outputs": [
    {
     "name": "stdout",
     "output_type": "stream",
     "text": [
      "['VWC' 'Other' None 'Private operator' 'WUG' 'Water Board' 'WUA'\n",
      " 'Water authority' 'Company' 'Parastatal' 'Trust' 'SWC' 'None']\n"
     ]
    }
   ],
   "source": [
    "schm_functioning = df_complete_2.groupby(['label','scheme_management'])\n",
    "x = schm_functioning.size()\n",
    "schm_codes = df_complete_2['scheme_management'].unique()\n",
    "print df_complete_2.scheme_management.unique()"
   ]
  },
  {
   "cell_type": "code",
   "execution_count": 122,
   "metadata": {
    "collapsed": false
   },
   "outputs": [
    {
     "data": {
      "image/png": "[encoded data removed]",
      "text/plain": [
       "<matplotlib.figure.Figure at 0x11474cd50>"
      ]
     },
     "metadata": {},
     "output_type": "display_data"
    }
   ],
   "source": [
    "x1 = x[0:11]\n",
    "x2 = x[11:22]\n",
    "x3 = x[22:33]\n",
    "\n",
    "n_groups = 11\n",
    "\n",
    "fig, ax = plt.subplots(figsize=(10,10))\n",
    "\n",
    "index = np.arange(n_groups)\n",
    "bar_width = 0.25\n",
    "\n",
    "opacity = 0.4\n",
    "\n",
    "rects1 = plt.bar(index, x1, bar_width,\n",
    "                 alpha=opacity,\n",
    "                 color='b',\n",
    "                 label='Functioning')\n",
    "\n",
    "rects2 = plt.bar(index + bar_width, x2, bar_width,\n",
    "                 alpha=opacity,\n",
    "                 color='r',\n",
    "                 label='Non-Functioning')\n",
    "\n",
    "rects3 = plt.bar(index + bar_width*2, x3, bar_width,\n",
    "                 alpha=opacity,\n",
    "                 color='g',\n",
    "                 label='Needs Repair')\n",
    "\n",
    "plt.xlabel('Scheme Management')\n",
    "plt.ylabel('Count')\n",
    "plt.title('Counts of Scheme Management by Status')\n",
    "plt.xticks(index + bar_width, schm_codes, rotation='vertical')\n",
    "plt.legend()\n",
    "\n",
    "plt.tight_layout()\n",
    "plt.show()"
   ]
  },
  {
   "cell_type": "code",
   "execution_count": 123,
   "metadata": {
    "collapsed": false
   },
   "outputs": [
    {
     "name": "stdout",
     "output_type": "stream",
     "text": [
      "['gravity' 'submersible' 'handpump' 'other' 'motorpump' 'wind-powered'\n",
      " 'rope pump']\n",
      "label                    extraction_type_class\n",
      "functional               gravity                  14664\n",
      "                         handpump                  9109\n",
      "                         motorpump                 1594\n",
      "                         other                     3300\n",
      "                         rope pump                  248\n",
      "                         submersible               3288\n",
      "                         wind-powered                56\n",
      "functional needs repair  gravity                   1969\n",
      "                         handpump                  1149\n",
      "                         motorpump                  198\n",
      "                         other                      475\n",
      "                         rope pump                   27\n",
      "                         submersible                489\n",
      "                         wind-powered                10\n",
      "non functional           gravity                  10147\n",
      "                         handpump                  6198\n",
      "                         motorpump                 1195\n",
      "                         other                     2655\n",
      "                         rope pump                  176\n",
      "                         submersible               2402\n",
      "                         wind-powered                51\n",
      "dtype: int64\n"
     ]
    }
   ],
   "source": [
    "etc_functioning = df_complete_2.groupby(['label','extraction_type_class'])\n",
    "x = etc_functioning.size()\n",
    "etc_codes = df_complete_2['extraction_type_class'].unique()\n",
    "print df_complete_2.extraction_type_class.unique()\n",
    "print x"
   ]
  },
  {
   "cell_type": "code",
   "execution_count": 124,
   "metadata": {
    "collapsed": false
   },
   "outputs": [
    {
     "data": {
      "image/png": "[encoded data removed]",
      "text/plain": [
       "<matplotlib.figure.Figure at 0x11474c110>"
      ]
     },
     "metadata": {},
     "output_type": "display_data"
    }
   ],
   "source": [
    "x1 = x[0:7]\n",
    "x2 = x[7:14]\n",
    "x3 = x[14:21]\n",
    "\n",
    "n_groups = 7\n",
    "\n",
    "fig, ax = plt.subplots(figsize=(10,10))\n",
    "\n",
    "index = np.arange(n_groups)\n",
    "bar_width = 0.25\n",
    "\n",
    "opacity = 0.4\n",
    "\n",
    "rects1 = plt.bar(index, x1, bar_width,\n",
    "                 alpha=opacity,\n",
    "                 color='b',\n",
    "                 label='Functioning')\n",
    "\n",
    "rects2 = plt.bar(index + bar_width, x2, bar_width,\n",
    "                 alpha=opacity,\n",
    "                 color='r',\n",
    "                 label='Non-Functioning')\n",
    "\n",
    "rects3 = plt.bar(index + bar_width*2, x3, bar_width,\n",
    "                 alpha=opacity,\n",
    "                 color='g',\n",
    "                 label='Needs Repair')\n",
    "\n",
    "plt.xlabel('Extraction Type')\n",
    "plt.ylabel('Count')\n",
    "plt.title('Counts of Extraction Type by Status')\n",
    "plt.xticks(index + bar_width, etc_codes, rotation='vertical')\n",
    "plt.legend()\n",
    "\n",
    "plt.tight_layout()\n",
    "plt.show()"
   ]
  },
  {
   "cell_type": "code",
   "execution_count": 125,
   "metadata": {
    "collapsed": false
   },
   "outputs": [
    {
     "name": "stdout",
     "output_type": "stream",
     "text": [
      "['user-group' 'other' 'commercial' 'parastatal' 'unknown']\n",
      "label                    management_group\n",
      "functional               commercial           1993\n",
      "                         other                 509\n",
      "                         parastatal            976\n",
      "                         unknown               294\n",
      "                         user-group          28487\n",
      "functional needs repair  commercial            270\n",
      "                         other                  68\n",
      "                         parastatal            128\n",
      "                         unknown                37\n",
      "                         user-group           3814\n",
      "non functional           commercial           1375\n",
      "                         other                 366\n",
      "                         parastatal            664\n",
      "                         unknown               230\n",
      "                         user-group          20189\n",
      "dtype: int64\n"
     ]
    }
   ],
   "source": [
    "mgg_functioning = df_complete_2.groupby(['label','management_group'])\n",
    "x = mgg_functioning.size()\n",
    "mgg_codes = df_complete_2['management_group'].unique()\n",
    "print df_complete_2.management_group.unique()\n",
    "print x"
   ]
  },
  {
   "cell_type": "code",
   "execution_count": 126,
   "metadata": {
    "collapsed": false
   },
   "outputs": [
    {
     "data": {
      "image/png": "[encoded data removed]",
      "text/plain": [
       "<matplotlib.figure.Figure at 0x112a25f90>"
      ]
     },
     "metadata": {},
     "output_type": "display_data"
    }
   ],
   "source": [
    "x1 = x[0:5]\n",
    "x2 = x[5:10]\n",
    "x3 = x[10:15]\n",
    "\n",
    "n_groups = 5\n",
    "\n",
    "fig, ax = plt.subplots(figsize=(8,8))\n",
    "\n",
    "index = np.arange(n_groups)\n",
    "bar_width = 0.25\n",
    "\n",
    "opacity = 0.4\n",
    "\n",
    "rects1 = plt.bar(index, x1, bar_width,\n",
    "                 alpha=opacity,\n",
    "                 color='b',\n",
    "                 label='Functioning')\n",
    "\n",
    "rects2 = plt.bar(index + bar_width, x2, bar_width,\n",
    "                 alpha=opacity,\n",
    "                 color='r',\n",
    "                 label='Non-Functioning')\n",
    "\n",
    "rects3 = plt.bar(index + bar_width*2, x3, bar_width,\n",
    "                 alpha=opacity,\n",
    "                 color='g',\n",
    "                 label='Needs Repair')\n",
    "\n",
    "plt.xlabel('Management Group')\n",
    "plt.ylabel('Count')\n",
    "plt.title('Counts of Management Group by Status')\n",
    "plt.xticks(index + bar_width, mgg_codes,rotation='vertical')\n",
    "plt.legend()\n",
    "\n",
    "plt.tight_layout()\n",
    "plt.show()"
   ]
  },
  {
   "cell_type": "code",
   "execution_count": 130,
   "metadata": {
    "collapsed": false
   },
   "outputs": [
    {
     "name": "stdout",
     "output_type": "stream",
     "text": [
      "['pay annually' 'never pay' 'pay per bucket' 'unknown'\n",
      " 'pay when scheme fails' 'other' 'pay monthly']\n",
      "label                    payment              \n",
      "functional               never pay                13670\n",
      "                         other                      578\n",
      "                         pay annually              2013\n",
      "                         pay monthly               4604\n",
      "                         pay per bucket            4873\n",
      "                         pay when scheme fails     2132\n",
      "                         unknown                   4389\n",
      "functional needs repair  never pay                 1868\n",
      "                         other                       80\n",
      "                         pay annually               259\n",
      "                         pay monthly                610\n",
      "                         pay per bucket             655\n",
      "                         pay when scheme fails      275\n",
      "                         unknown                    570\n",
      "non functional           never pay                 9810\n",
      "                         other                      396\n",
      "                         pay annually              1370\n",
      "                         pay monthly               3086\n",
      "                         pay per bucket            3457\n",
      "                         pay when scheme fails     1507\n",
      "                         unknown                   3198\n",
      "dtype: int64\n"
     ]
    }
   ],
   "source": [
    "pay_functioning = df_complete_2.groupby(['label','payment'])\n",
    "x = pay_functioning.size()\n",
    "pay_codes = df_complete_2['payment'].unique()\n",
    "print pay_codes\n",
    "print x"
   ]
  },
  {
   "cell_type": "code",
   "execution_count": 131,
   "metadata": {
    "collapsed": false
   },
   "outputs": [
    {
     "data": {
      "image/png": "[encoded data removed]",
      "text/plain": [
       "<matplotlib.figure.Figure at 0x113c65c90>"
      ]
     },
     "metadata": {},
     "output_type": "display_data"
    }
   ],
   "source": [
    "x1 = x[0:7]\n",
    "x2 = x[7:14]\n",
    "x3 = x[14:21]\n",
    "\n",
    "n_groups = 7\n",
    "\n",
    "fig, ax = plt.subplots(figsize=(8,8))\n",
    "\n",
    "index = np.arange(n_groups)\n",
    "bar_width = 0.25\n",
    "\n",
    "opacity = 0.4\n",
    "\n",
    "rects1 = plt.bar(index, x1, bar_width,\n",
    "                 alpha=opacity,\n",
    "                 color='b',\n",
    "                 label='Functioning')\n",
    "\n",
    "rects2 = plt.bar(index + bar_width, x2, bar_width,\n",
    "                 alpha=opacity,\n",
    "                 color='r',\n",
    "                 label='Non-Functioning')\n",
    "\n",
    "rects3 = plt.bar(index + bar_width*2, x3, bar_width,\n",
    "                 alpha=opacity,\n",
    "                 color='g',\n",
    "                 label='Needs Repair')\n",
    "\n",
    "plt.xlabel('Payment')\n",
    "plt.ylabel('Count')\n",
    "plt.title('Counts of Payment by Status')\n",
    "plt.xticks(index + bar_width, pay_codes, rotation = 'vertical')\n",
    "plt.legend()\n",
    "\n",
    "plt.tight_layout()\n",
    "plt.show()"
   ]
  },
  {
   "cell_type": "code",
   "execution_count": 132,
   "metadata": {
    "collapsed": false
   },
   "outputs": [
    {
     "name": "stdout",
     "output_type": "stream",
     "text": [
      "['soft' 'salty' 'milky' 'unknown' 'fluoride' 'coloured' 'salty abandoned'\n",
      " 'fluoride abandoned']\n",
      "label                    water_quality     \n",
      "functional               coloured                275\n",
      "                         fluoride                 99\n",
      "                         fluoride abandoned       11\n",
      "                         milky                   427\n",
      "                         salty                  2569\n",
      "                         salty abandoned         173\n",
      "                         soft                  27762\n",
      "                         unknown                 943\n",
      "functional needs repair  coloured                 36\n",
      "                         fluoride                 19\n",
      "                         fluoride abandoned        1\n",
      "                         milky                    63\n",
      "                         salty                   329\n",
      "                         salty abandoned          38\n",
      "                         soft                   3683\n",
      "                         unknown                 148\n",
      "non functional           coloured                179\n",
      "                         fluoride                 82\n",
      "                         fluoride abandoned        5\n",
      "                         milky                   314\n",
      "                         salty                  1958\n",
      "                         salty abandoned         128\n",
      "                         soft                  19373\n",
      "                         unknown                 785\n",
      "dtype: int64\n"
     ]
    }
   ],
   "source": [
    "wtq_functioning = df_complete_2.groupby(['label','water_quality'])\n",
    "x = wtq_functioning.size()\n",
    "wtq_codes = df_complete_2['water_quality'].unique()\n",
    "print wtq_codes\n",
    "print x"
   ]
  },
  {
   "cell_type": "code",
   "execution_count": 133,
   "metadata": {
    "collapsed": false
   },
   "outputs": [
    {
     "data": {
      "image/png": "[encoded data removed]",
      "text/plain": [
       "<matplotlib.figure.Figure at 0x110812690>"
      ]
     },
     "metadata": {},
     "output_type": "display_data"
    }
   ],
   "source": [
    "x1 = x[0:8]\n",
    "x2 = x[8:16]\n",
    "x3 = x[16:24]\n",
    "\n",
    "n_groups = 8\n",
    "\n",
    "fig, ax = plt.subplots(figsize=(8,8))\n",
    "\n",
    "index = np.arange(n_groups)\n",
    "bar_width = 0.25\n",
    "\n",
    "opacity = 0.4\n",
    "\n",
    "rects1 = plt.bar(index, x1, bar_width,\n",
    "                 alpha=opacity,\n",
    "                 color='b',\n",
    "                 label='Functioning')\n",
    "\n",
    "rects2 = plt.bar(index + bar_width, x2, bar_width,\n",
    "                 alpha=opacity,\n",
    "                 color='r',\n",
    "                 label='Non-Functioning')\n",
    "\n",
    "rects3 = plt.bar(index + bar_width*2, x3, bar_width,\n",
    "                 alpha=opacity,\n",
    "                 color='g',\n",
    "                 label='Needs Repair')\n",
    "\n",
    "plt.xlabel('Water Quality')\n",
    "plt.ylabel('Count')\n",
    "plt.title('Counts of Water Quality by Status')\n",
    "plt.xticks(index + bar_width, wtq_codes, rotation='vertical')\n",
    "plt.legend()\n",
    "\n",
    "plt.tight_layout()\n",
    "plt.show()"
   ]
  },
  {
   "cell_type": "code",
   "execution_count": 134,
   "metadata": {
    "collapsed": false
   },
   "outputs": [
    {
     "name": "stdout",
     "output_type": "stream",
     "text": [
      "['enough' 'insufficient' 'dry' 'seasonal' 'unknown']\n",
      "label                    quantity    \n",
      "functional               dry              3176\n",
      "                         enough          18212\n",
      "                         insufficient     8230\n",
      "                         seasonal         2244\n",
      "                         unknown           397\n",
      "functional needs repair  dry               417\n",
      "                         enough           2435\n",
      "                         insufficient     1098\n",
      "                         seasonal          314\n",
      "                         unknown            53\n",
      "non functional           dry              2653\n",
      "                         enough          12539\n",
      "                         insufficient     5801\n",
      "                         seasonal         1492\n",
      "                         unknown           339\n",
      "dtype: int64\n"
     ]
    }
   ],
   "source": [
    "qty_functioning = df_complete_2.groupby(['label','quantity'])\n",
    "x = qty_functioning.size()\n",
    "qty_codes = df_complete_2['quantity'].unique()\n",
    "print qty_codes\n",
    "print x"
   ]
  },
  {
   "cell_type": "code",
   "execution_count": 135,
   "metadata": {
    "collapsed": false
   },
   "outputs": [
    {
     "data": {
      "image/png": "[encoded data removed]",
      "text/plain": [
       "<matplotlib.figure.Figure at 0x113af3d90>"
      ]
     },
     "metadata": {},
     "output_type": "display_data"
    }
   ],
   "source": [
    "x1 = x[0:5]\n",
    "x2 = x[5:10]\n",
    "x3 = x[10:15]\n",
    "\n",
    "n_groups = 5\n",
    "\n",
    "fig, ax = plt.subplots(figsize=(8,8))\n",
    "\n",
    "index = np.arange(n_groups)\n",
    "bar_width = 0.25\n",
    "\n",
    "opacity = 0.4\n",
    "\n",
    "rects1 = plt.bar(index, x1, bar_width,\n",
    "                 alpha=opacity,\n",
    "                 color='b',\n",
    "                 label='Functioning')\n",
    "\n",
    "rects2 = plt.bar(index + bar_width, x2, bar_width,\n",
    "                 alpha=opacity,\n",
    "                 color='r',\n",
    "                 label='Non-Functioning')\n",
    "\n",
    "rects3 = plt.bar(index + bar_width*2, x3, bar_width,\n",
    "                 alpha=opacity,\n",
    "                 color='g',\n",
    "                 label='Needs Repair')\n",
    "\n",
    "plt.xlabel('Water Quantity')\n",
    "plt.ylabel('Count')\n",
    "plt.title('Counts of Water Quantity by Status')\n",
    "plt.xticks(index + bar_width, qty_codes, rotation='vertical')\n",
    "plt.legend()\n",
    "\n",
    "plt.tight_layout()\n",
    "plt.show()"
   ]
  },
  {
   "cell_type": "code",
   "execution_count": 136,
   "metadata": {
    "collapsed": false
   },
   "outputs": [
    {
     "name": "stdout",
     "output_type": "stream",
     "text": [
      "['spring' 'rainwater harvesting' 'dam' 'machine dbh' 'other' 'shallow well'\n",
      " 'river' 'hand dtw' 'lake' 'unknown']\n",
      "label                    source              \n",
      "functional               dam                      339\n",
      "                         hand dtw                 477\n",
      "                         lake                     380\n",
      "                         machine dbh             5946\n",
      "                         other                    120\n",
      "                         rainwater harvesting    1230\n",
      "                         river                   5171\n",
      "                         shallow well            9167\n",
      "                         spring                  9397\n",
      "                         unknown                   32\n",
      "functional needs repair  dam                       39\n",
      "                         hand dtw                  67\n",
      "                         lake                      63\n",
      "                         machine dbh              822\n",
      "                         other                     20\n",
      "                         rainwater harvesting     177\n",
      "                         river                    733\n",
      "                         shallow well            1176\n",
      "                         spring                  1218\n",
      "                         unknown                    2\n",
      "non functional           dam                      278\n",
      "                         hand dtw                 330\n",
      "                         lake                     322\n",
      "                         machine dbh             4307\n",
      "                         other                     72\n",
      "                         rainwater harvesting     888\n",
      "                         river                   3708\n",
      "                         shallow well            6481\n",
      "                         spring                  6406\n",
      "                         unknown                   32\n",
      "dtype: int64\n"
     ]
    }
   ],
   "source": [
    "src_functioning = df_complete_2.groupby(['label','source'])\n",
    "x = src_functioning.size()\n",
    "src_codes = df_complete_2['source'].unique()\n",
    "print src_codes\n",
    "print x"
   ]
  },
  {
   "cell_type": "code",
   "execution_count": 137,
   "metadata": {
    "collapsed": false
   },
   "outputs": [
    {
     "data": {
      "image/png": "[encoded data removed]",
      "text/plain": [
       "<matplotlib.figure.Figure at 0x110bfb990>"
      ]
     },
     "metadata": {},
     "output_type": "display_data"
    }
   ],
   "source": [
    "x1 = x[0:10]\n",
    "x2 = x[10:20]\n",
    "x3 = x[20:30]\n",
    "\n",
    "n_groups = 10\n",
    "\n",
    "fig, ax = plt.subplots(figsize=(8,8))\n",
    "\n",
    "index = np.arange(n_groups)\n",
    "bar_width = 0.25\n",
    "\n",
    "opacity = 0.4\n",
    "\n",
    "rects1 = plt.bar(index, x1, bar_width,\n",
    "                 alpha=opacity,\n",
    "                 color='b',\n",
    "                 label='Functioning')\n",
    "\n",
    "rects2 = plt.bar(index + bar_width, x2, bar_width,\n",
    "                 alpha=opacity,\n",
    "                 color='r',\n",
    "                 label='Non-Functioning')\n",
    "\n",
    "rects3 = plt.bar(index + bar_width*2, x3, bar_width,\n",
    "                 alpha=opacity,\n",
    "                 color='g',\n",
    "                 label='Needs Repair')\n",
    "\n",
    "plt.xlabel('Water Source')\n",
    "plt.ylabel('Count')\n",
    "plt.title('Counts of Water Source by Status')\n",
    "plt.xticks(index + bar_width, src_codes, rotation='vertical')\n",
    "plt.legend()\n",
    "\n",
    "plt.tight_layout()\n",
    "plt.show()"
   ]
  },
  {
   "cell_type": "code",
   "execution_count": 138,
   "metadata": {
    "collapsed": false
   },
   "outputs": [
    {
     "name": "stdout",
     "output_type": "stream",
     "text": [
      "['groundwater' 'surface' 'unknown']\n",
      "label                    source_class\n",
      "functional               groundwater     24987\n",
      "                         surface          7120\n",
      "                         unknown           152\n",
      "functional needs repair  groundwater      3283\n",
      "                         surface          1012\n",
      "                         unknown            22\n",
      "non functional           groundwater     17524\n",
      "                         surface          5196\n",
      "                         unknown           104\n",
      "dtype: int64\n"
     ]
    }
   ],
   "source": [
    "srcl_functioning = df_complete_2.groupby(['label','source_class'])\n",
    "x = srcl_functioning.size()\n",
    "srcl_codes = df_complete_2['source_class'].unique()\n",
    "print srcl_codes\n",
    "print x\n"
   ]
  },
  {
   "cell_type": "code",
   "execution_count": 139,
   "metadata": {
    "collapsed": false
   },
   "outputs": [
    {
     "data": {
      "image/png": "[encoded data removed]",
      "text/plain": [
       "<matplotlib.figure.Figure at 0x1151a00d0>"
      ]
     },
     "metadata": {},
     "output_type": "display_data"
    }
   ],
   "source": [
    "x1 = x[0:3]\n",
    "x2 = x[3:6]\n",
    "x3 = x[6:9]\n",
    "\n",
    "n_groups = 3\n",
    "\n",
    "fig, ax = plt.subplots(figsize=(8,8))\n",
    "\n",
    "index = np.arange(n_groups)\n",
    "bar_width = 0.25\n",
    "\n",
    "opacity = 0.4\n",
    "\n",
    "rects1 = plt.bar(index, x1, bar_width,\n",
    "                 alpha=opacity,\n",
    "                 color='b',\n",
    "                 label='Functioning')\n",
    "\n",
    "rects2 = plt.bar(index + bar_width, x2, bar_width,\n",
    "                 alpha=opacity,\n",
    "                 color='r',\n",
    "                 label='Non-Functioning')\n",
    "\n",
    "rects3 = plt.bar(index + bar_width*2, x3, bar_width,\n",
    "                 alpha=opacity,\n",
    "                 color='g',\n",
    "                 label='Needs Repair')\n",
    "\n",
    "plt.xlabel('Source Class')\n",
    "plt.ylabel('Count')\n",
    "plt.title('Counts of Source Class by Status')\n",
    "plt.xticks(index + bar_width, srcl_codes, rotation='vertical')\n",
    "plt.legend()\n",
    "\n",
    "plt.tight_layout()\n",
    "plt.show()"
   ]
  },
  {
   "cell_type": "code",
   "execution_count": 182,
   "metadata": {
    "collapsed": false
   },
   "outputs": [
    {
     "name": "stdout",
     "output_type": "stream",
     "text": [
      "['communal standpipe' 'communal standpipe multiple' 'hand pump' 'other'\n",
      " 'improved spring' 'cattle trough' 'dam']\n",
      "label                    waterpoint_type            \n",
      "functional               cattle trough                     75\n",
      "                         communal standpipe             15556\n",
      "                         communal standpipe multiple     3213\n",
      "                         dam                                4\n",
      "                         hand pump                       9647\n",
      "                         improved spring                  466\n",
      "                         other                           3298\n",
      "functional needs repair  cattle trough                      5\n",
      "                         communal standpipe              2104\n",
      "                         communal standpipe multiple      468\n",
      "                         hand pump                       1203\n",
      "                         improved spring                   61\n",
      "                         other                            476\n",
      "non functional           cattle trough                     36\n",
      "                         communal standpipe             10862\n",
      "                         communal standpipe multiple     2422\n",
      "                         dam                                3\n",
      "                         hand pump                       6638\n",
      "                         improved spring                  257\n",
      "                         other                           2606\n",
      "dtype: int64\n"
     ]
    }
   ],
   "source": [
    "wtp_functioning = df_complete_2.groupby(['label','waterpoint_type'],squeeze=True)\n",
    "x = wtp_functioning.size()\n",
    "wtp_codes = df_complete_2['waterpoint_type'].unique()\n",
    "print wtp_codes\n",
    "print x"
   ]
  },
  {
   "cell_type": "code",
   "execution_count": 186,
   "metadata": {
    "collapsed": false
   },
   "outputs": [
    {
     "name": "stdout",
     "output_type": "stream",
     "text": [
      "label                    waterpoint_type            \n",
      "functional               cattle trough                     75\n",
      "                         communal standpipe             15556\n",
      "                         communal standpipe multiple     3213\n",
      "                         dam                                4\n",
      "                         hand pump                       9647\n",
      "                         improved spring                  466\n",
      "                         other                           3298\n",
      "functional needs repair  cattle trough                      5\n",
      "                         communal standpipe              2104\n",
      "                         communal standpipe multiple      468\n",
      "                         hand pump                       1203\n",
      "                         improved spring                   61\n",
      "                         other                            476\n",
      "non functional           cattle trough                     36\n",
      "                         communal standpipe             10862\n",
      "                         communal standpipe multiple     2422\n",
      "                         dam                                3\n",
      "                         hand pump                       6638\n",
      "                         improved spring                  257\n",
      "                         other                           2606\n",
      "dtype: int64\n"
     ]
    },
    {
     "ename": "TypeError",
     "evalue": "'MultiIndex' object is not callable",
     "output_type": "error",
     "traceback": [
      "\u001b[0;31m---------------------------------------------------------------------------\u001b[0m",
      "\u001b[0;31mTypeError\u001b[0m                                 Traceback (most recent call last)",
      "\u001b[0;32m<ipython-input-186-4cb354c537d0>\u001b[0m in \u001b[0;36m<module>\u001b[0;34m()\u001b[0m\n\u001b[1;32m      5\u001b[0m \u001b[0mxyzx\u001b[0m \u001b[0;34m=\u001b[0m \u001b[0mpd\u001b[0m\u001b[0;34m.\u001b[0m\u001b[0mconcat\u001b[0m\u001b[0;34m(\u001b[0m\u001b[0;34m[\u001b[0m\u001b[0mx\u001b[0m\u001b[0;34m,\u001b[0m\u001b[0mxyz\u001b[0m\u001b[0;34m]\u001b[0m\u001b[0;34m)\u001b[0m\u001b[0;34m\u001b[0m\u001b[0m\n\u001b[1;32m      6\u001b[0m \u001b[0;34m\u001b[0m\u001b[0m\n\u001b[0;32m----> 7\u001b[0;31m \u001b[0;32mprint\u001b[0m \u001b[0mxyzx\u001b[0m\u001b[0;34m.\u001b[0m\u001b[0mindex\u001b[0m\u001b[0;34m(\u001b[0m\u001b[0;34m)\u001b[0m\u001b[0;34m\u001b[0m\u001b[0m\n\u001b[0m\u001b[1;32m      8\u001b[0m \u001b[0;34m\u001b[0m\u001b[0m\n\u001b[1;32m      9\u001b[0m \u001b[0mxyzx\u001b[0m\u001b[0;34m.\u001b[0m\u001b[0mreindex\u001b[0m\u001b[0;34m(\u001b[0m\u001b[0;34m)\u001b[0m\u001b[0;34m\u001b[0m\u001b[0m\n",
      "\u001b[0;31mTypeError\u001b[0m: 'MultiIndex' object is not callable"
     ]
    }
   ],
   "source": [
    "print x\n",
    "\n",
    "xyz = pd.Series( 0, index =[('functional needs repair','dam')])\n",
    "\n",
    "xyzx = pd.concat([x,xyz])\n",
    "\n",
    "print xyzx.combine()\n",
    "\n",
    "xyzx.reindex()\n",
    "print xyzx\n",
    "\n",
    "x1 = x[0:7]\n",
    "x2 = x[7:13]\n",
    "x3 = x[13:20]\n",
    "\n",
    "print type(x1)\n",
    "print type(x2)\n",
    "print type(x3)\n",
    "\n",
    "n_groups = 7\n",
    "\n",
    "fig, ax = plt.subplots(figsize=(8,8))\n",
    "\n",
    "index = np.arange(n_groups)\n",
    "bar_width = 0.25\n",
    "\n",
    "opacity = 0.4\n",
    "\n",
    "rects1 = plt.bar(index, x1, bar_width,\n",
    "                 alpha=opacity,\n",
    "                 color='b',\n",
    "                 label='Functioning')\n",
    "\n",
    "rects2 = plt.bar(index + bar_width, x2, bar_width,\n",
    "                 alpha=opacity,\n",
    "                 color='r',\n",
    "                 label='Non-Functioning')\n",
    "\n",
    "rects3 = plt.bar(index + bar_width*2, x3, bar_width,\n",
    "                 alpha=opacity,\n",
    "                 color='g',\n",
    "                 label='Needs Repair')\n",
    "\n",
    "plt.xlabel('Waterpoint Type')\n",
    "plt.ylabel('Count')\n",
    "plt.title('Counts of Water Point Type by Status')\n",
    "plt.xticks(index + bar_width,wtp_codes,rotation='vertical')\n",
    "plt.legend()\n",
    "\n",
    "plt.tight_layout()\n",
    "plt.show()"
   ]
  },
  {
   "cell_type": "markdown",
   "metadata": {},
   "source": [
    "## "
   ]
  },
  {
   "cell_type": "code",
   "execution_count": 16,
   "metadata": {
    "collapsed": false
   },
   "outputs": [
    {
     "name": "stdout",
     "output_type": "stream",
     "text": [
      "[14 11  1  3 60 17 18  4  2 19 10 99 16  7  5 12 90 24 20 80  9 13  6 15 21\n",
      "  8 40]\n",
      "label                    region_code\n",
      "functional               1              1149\n",
      "                         2              1666\n",
      "                         3              2413\n",
      "                         4              1388\n",
      "                         5              2163\n",
      "                         6               896\n",
      "                         7               439\n",
      "                         8               144\n",
      "                         9               203\n",
      "                         10             1440\n",
      "                         11             2949\n",
      "                         12             2502\n",
      "                         13             1138\n",
      "                         14             1074\n",
      "                         15              980\n",
      "                         16             1495\n",
      "                         17             2750\n",
      "                         18             1839\n",
      "                         19             1627\n",
      "                         20             1061\n",
      "                         21              843\n",
      "                         24              187\n",
      "                         40                1\n",
      "                         60              568\n",
      "                         80              648\n",
      "                         90              471\n",
      "                         99              225\n",
      "functional needs repair  1               175\n",
      "                         2               192\n",
      "                         3               307\n",
      "                                        ... \n",
      "                         60               72\n",
      "                         80               87\n",
      "                         90               72\n",
      "                         99               28\n",
      "non functional           1               877\n",
      "                         2              1166\n",
      "                         3              1659\n",
      "                         4               961\n",
      "                         5              1589\n",
      "                         6               601\n",
      "                         7               303\n",
      "                         8               128\n",
      "                         9               152\n",
      "                         10             1026\n",
      "                         11             1990\n",
      "                         12             1778\n",
      "                         13              812\n",
      "                         14              769\n",
      "                         15              689\n",
      "                         16             1074\n",
      "                         17             1871\n",
      "                         18             1235\n",
      "                         19             1207\n",
      "                         20              779\n",
      "                         21              614\n",
      "                         24              112\n",
      "                         60              385\n",
      "                         80              503\n",
      "                         90              374\n",
      "                         99              170\n",
      "dtype: int64\n"
     ]
    }
   ],
   "source": [
    "qty_functioning = df_complete_2.groupby(['label','region_code'])\n",
    "x = qty_functioning.size()\n",
    "qty_codes = df_data_2['region_code'].unique()\n",
    "print qty_codes\n",
    "print x"
   ]
  },
  {
   "cell_type": "code",
   "execution_count": 22,
   "metadata": {
    "collapsed": false
   },
   "outputs": [
    {
     "name": "stderr",
     "output_type": "stream",
     "text": [
      "//anaconda/lib/python2.7/site-packages/matplotlib/axes/_axes.py:475: UserWarning: No labelled objects found. Use label='...' kwarg on individual plots.\n",
      "  warnings.warn(\"No labelled objects found. \"\n"
     ]
    },
    {
     "ename": "AssertionError",
     "evalue": "incompatible sizes: argument 'height' must be length 27 or scalar",
     "output_type": "error",
     "traceback": [
      "\u001b[0;31m---------------------------------------------------------------------------\u001b[0m",
      "\u001b[0;31mAssertionError\u001b[0m                            Traceback (most recent call last)",
      "\u001b[0;32m<ipython-input-22-09cb43e23b61>\u001b[0m in \u001b[0;36m<module>\u001b[0;34m()\u001b[0m\n\u001b[1;32m     32\u001b[0m                  \u001b[0malpha\u001b[0m\u001b[0;34m=\u001b[0m\u001b[0mopacity\u001b[0m\u001b[0;34m,\u001b[0m\u001b[0;34m\u001b[0m\u001b[0m\n\u001b[1;32m     33\u001b[0m                  \u001b[0mcolor\u001b[0m\u001b[0;34m=\u001b[0m\u001b[0;34m'g'\u001b[0m\u001b[0;34m,\u001b[0m\u001b[0;34m\u001b[0m\u001b[0m\n\u001b[0;32m---> 34\u001b[0;31m                  label='Needs Repair')\n\u001b[0m\u001b[1;32m     35\u001b[0m \u001b[0;34m\u001b[0m\u001b[0m\n\u001b[1;32m     36\u001b[0m \u001b[0mplt\u001b[0m\u001b[0;34m.\u001b[0m\u001b[0mxlabel\u001b[0m\u001b[0;34m(\u001b[0m\u001b[0;34m'Region Code'\u001b[0m\u001b[0;34m)\u001b[0m\u001b[0;34m\u001b[0m\u001b[0m\n",
      "\u001b[0;32m//anaconda/lib/python2.7/site-packages/matplotlib/pyplot.pyc\u001b[0m in \u001b[0;36mbar\u001b[0;34m(left, height, width, bottom, hold, **kwargs)\u001b[0m\n\u001b[1;32m   2571\u001b[0m         \u001b[0max\u001b[0m\u001b[0;34m.\u001b[0m\u001b[0mhold\u001b[0m\u001b[0;34m(\u001b[0m\u001b[0mhold\u001b[0m\u001b[0;34m)\u001b[0m\u001b[0;34m\u001b[0m\u001b[0m\n\u001b[1;32m   2572\u001b[0m     \u001b[0;32mtry\u001b[0m\u001b[0;34m:\u001b[0m\u001b[0;34m\u001b[0m\u001b[0m\n\u001b[0;32m-> 2573\u001b[0;31m         \u001b[0mret\u001b[0m \u001b[0;34m=\u001b[0m \u001b[0max\u001b[0m\u001b[0;34m.\u001b[0m\u001b[0mbar\u001b[0m\u001b[0;34m(\u001b[0m\u001b[0mleft\u001b[0m\u001b[0;34m,\u001b[0m \u001b[0mheight\u001b[0m\u001b[0;34m,\u001b[0m \u001b[0mwidth\u001b[0m\u001b[0;34m=\u001b[0m\u001b[0mwidth\u001b[0m\u001b[0;34m,\u001b[0m \u001b[0mbottom\u001b[0m\u001b[0;34m=\u001b[0m\u001b[0mbottom\u001b[0m\u001b[0;34m,\u001b[0m \u001b[0;34m**\u001b[0m\u001b[0mkwargs\u001b[0m\u001b[0;34m)\u001b[0m\u001b[0;34m\u001b[0m\u001b[0m\n\u001b[0m\u001b[1;32m   2574\u001b[0m         \u001b[0mdraw_if_interactive\u001b[0m\u001b[0;34m(\u001b[0m\u001b[0;34m)\u001b[0m\u001b[0;34m\u001b[0m\u001b[0m\n\u001b[1;32m   2575\u001b[0m     \u001b[0;32mfinally\u001b[0m\u001b[0;34m:\u001b[0m\u001b[0;34m\u001b[0m\u001b[0m\n",
      "\u001b[0;32m//anaconda/lib/python2.7/site-packages/matplotlib/axes/_axes.pyc\u001b[0m in \u001b[0;36mbar\u001b[0;34m(self, left, height, width, bottom, **kwargs)\u001b[0m\n\u001b[1;32m   1989\u001b[0m         assert len(height) == nbars, (\"incompatible sizes: argument 'height' \"\n\u001b[1;32m   1990\u001b[0m                                       \u001b[0;34m\"must be length %d or scalar\"\u001b[0m \u001b[0;34m%\u001b[0m\u001b[0;34m\u001b[0m\u001b[0m\n\u001b[0;32m-> 1991\u001b[0;31m                                       nbars)\n\u001b[0m\u001b[1;32m   1992\u001b[0m         assert len(width) == nbars, (\"incompatible sizes: argument 'width' \"\n\u001b[1;32m   1993\u001b[0m                                      \u001b[0;34m\"must be length %d or scalar\"\u001b[0m \u001b[0;34m%\u001b[0m\u001b[0;34m\u001b[0m\u001b[0m\n",
      "\u001b[0;31mAssertionError\u001b[0m: incompatible sizes: argument 'height' must be length 27 or scalar"
     ]
    },
    {
     "data": {
      "image/png": "[encoded data removed]",
      "text/plain": [
       "<matplotlib.figure.Figure at 0x113a944d0>"
      ]
     },
     "metadata": {},
     "output_type": "display_data"
    }
   ],
   "source": [
    "x1 = x[0:27]\n",
    "x2 = x[27:54]\n",
    "x3 = x[54:81]\n",
    "\n",
    "n_groups = 27\n",
    "\n",
    "fig, ax = plt.subplots(figsize=(8,8))\n",
    "\n",
    "index = np.arange(n_groups)\n",
    "bar_width = 0.25\n",
    "\n",
    "opacity = 0.4\n",
    "\n",
    "plt.xlabel('Region Code')\n",
    "plt.ylabel('Count')\n",
    "plt.title('Counts of Regions by Status')\n",
    "plt.xticks(index + bar_width, qty_codes, rotation='vertical')\n",
    "plt.legend()\n",
    "\n",
    "plt.tight_layout()\n",
    "rects1 = plt.bar(index, x1, bar_width,\n",
    "                 alpha=opacity,\n",
    "                 color='b',\n",
    "                 label='Functioning')\n",
    "\n",
    "rects2 = plt.bar(index + bar_width, x2, bar_width,\n",
    "                 alpha=opacity,\n",
    "                 color='r',\n",
    "                 label='Non-Functioning')\n",
    "\n",
    "rects3 = plt.bar(index + bar_width*2, x3, bar_width,\n",
    "                 alpha=opacity,\n",
    "                 color='g',\n",
    "                 label='Needs Repair')\n",
    "\n",
    "plt.xlabel('Region Code')\n",
    "plt.ylabel('Count')\n",
    "plt.title('Counts of Regions by Status')\n",
    "plt.xticks(index + bar_width, srcl_codes, rotation='vertical')\n",
    "plt.legend()\n",
    "\n",
    "plt.tight_layout()\n",
    "plt.show()"
   ]
  },
  {
   "cell_type": "code",
   "execution_count": null,
   "metadata": {
    "collapsed": true
   },
   "outputs": [],
   "source": []
  }
 ],
 "metadata": {
  "kernelspec": {
   "display_name": "Python 2",
   "language": "python",
   "name": "python2"
  },
  "language_info": {
   "codemirror_mode": {
    "name": "ipython",
    "version": 2
   },
   "file_extension": ".py",
   "mimetype": "text/x-python",
   "name": "python",
   "nbconvert_exporter": "python",
   "pygments_lexer": "ipython2",
   "version": "2.7.10"
  }
 },
 "nbformat": 4,
 "nbformat_minor": 0
}
