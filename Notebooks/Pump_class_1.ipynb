{
 "cells": [
  {
   "cell_type": "code",
   "execution_count": 17,
   "metadata": {
    "collapsed": false,
    "scrolled": false
   },
   "outputs": [
    {
     "name": "stdout",
     "output_type": "stream",
     "text": [
      "      id           label\n",
      "0  69572      functional\n",
      "1   8776      functional\n",
      "2  34310      functional\n",
      "3  67743  non functional\n",
      "4  19728      functional\n",
      "          id       label\n",
      "59395  60739  functional\n",
      "59396  27263  functional\n",
      "59397  37057  functional\n",
      "59398  31282  functional\n",
      "59399  26348  functional\n"
     ]
    }
   ],
   "source": [
    "import psycopg2\n",
    "import pandas as pd\n",
    "from sklearn.cross_validation import train_test_split\n",
    "\n",
    "def load_labels():\n",
    "    db = psycopg2.connect(database='martinrasumoff')\n",
    "    cursor = db.cursor()\n",
    "\n",
    "    #Loading Labels\n",
    "    cursor.execute(\"select * from labels_water_pumps;\")\n",
    "    list_labels = cursor.fetchall()\n",
    "\n",
    "    series_labels = pd.DataFrame(list_labels)\n",
    "\n",
    "    return series_labels\n",
    "\n",
    "df_labels = load_labels()\n",
    "\n",
    "df_labels.columns = ['id','label']\n",
    "\n",
    "print df_labels.head()\n",
    "print df_labels.tail()"
   ]
  },
  {
   "cell_type": "code",
   "execution_count": 18,
   "metadata": {
    "collapsed": false,
    "scrolled": true
   },
   "outputs": [
    {
     "name": "stdout",
     "output_type": "stream",
     "text": [
      "      0     1           2             3     4             5          6   \\\n",
      "0  69572  6000  2011-03-14         Roman  1390         Roman  34.938093   \n",
      "1   8776     0  2013-03-06       Grumeti  1399       GRUMETI  34.698766   \n",
      "2  34310    25  2013-02-25  Lottery Club   686  World vision  37.460664   \n",
      "3  67743     0  2013-01-28        Unicef   263        UNICEF  38.486161   \n",
      "4  19728     0  2011-07-13   Action In A     0       Artisan  31.130847   \n",
      "\n",
      "          7                     8  9          ...                  30    31  \\\n",
      "0  -9.856322                  none  0         ...            annually  soft   \n",
      "1  -2.147466              Zahanati  0         ...           never pay  soft   \n",
      "2  -3.821329           Kwa Mahundi  0         ...          per bucket  soft   \n",
      "3 -11.155298  Zahanati Ya Nanyumbu  0         ...           never pay  soft   \n",
      "4  -1.825359               Shuleni  0         ...           never pay  soft   \n",
      "\n",
      "     32            33            34                    35  \\\n",
      "0  good        enough        enough                spring   \n",
      "1  good  insufficient  insufficient  rainwater harvesting   \n",
      "2  good        enough        enough                   dam   \n",
      "3  good           dry           dry           machine dbh   \n",
      "4  good      seasonal      seasonal  rainwater harvesting   \n",
      "\n",
      "                     36           37                           38  \\\n",
      "0                spring  groundwater           communal standpipe   \n",
      "1  rainwater harvesting      surface           communal standpipe   \n",
      "2                   dam      surface  communal standpipe multiple   \n",
      "3              borehole  groundwater  communal standpipe multiple   \n",
      "4  rainwater harvesting      surface           communal standpipe   \n",
      "\n",
      "                   39  \n",
      "0  communal standpipe  \n",
      "1  communal standpipe  \n",
      "2  communal standpipe  \n",
      "3  communal standpipe  \n",
      "4  communal standpipe  \n",
      "\n",
      "[5 rows x 40 columns]\n",
      "          0     1           2                3     4      5          6   \\\n",
      "59395  60739    10  2013-05-03  Germany Republi  1210    CES  37.169807   \n",
      "59396  27263  4700  2011-05-07      Cefa-njombe  1212   Cefa  35.249991   \n",
      "59397  37057     0  2011-04-11             None     0   None  34.017087   \n",
      "59398  31282     0  2011-03-08            Malec     0   Musa  35.861315   \n",
      "59399  26348     0  2011-03-23       World Bank   191  World  38.104048   \n",
      "\n",
      "             7                    8  9          ...                  30  \\\n",
      "59395 -3.253847  Area Three Namba 27  0         ...          per bucket   \n",
      "59396 -9.070629    Kwa Yahona Kuvala  0         ...            annually   \n",
      "59397 -8.750434              Mashine  0         ...             monthly   \n",
      "59398 -6.378573               Mshoro  0         ...           never pay   \n",
      "59399 -6.747464      Kwa Mzee Lugawa  0         ...          on failure   \n",
      "\n",
      "             31        32            33            34            35  \\\n",
      "59395      soft      good        enough        enough        spring   \n",
      "59396      soft      good        enough        enough         river   \n",
      "59397  fluoride  fluoride        enough        enough   machine dbh   \n",
      "59398      soft      good  insufficient  insufficient  shallow well   \n",
      "59399     salty     salty        enough        enough  shallow well   \n",
      "\n",
      "                 36           37                  38                  39  \n",
      "59395        spring  groundwater  communal standpipe  communal standpipe  \n",
      "59396    river/lake      surface  communal standpipe  communal standpipe  \n",
      "59397      borehole  groundwater           hand pump           hand pump  \n",
      "59398  shallow well  groundwater           hand pump           hand pump  \n",
      "59399  shallow well  groundwater           hand pump           hand pump  \n",
      "\n",
      "[5 rows x 40 columns]\n"
     ]
    }
   ],
   "source": [
    "\n",
    "def load_wells():\n",
    "    db = psycopg2.connect(database='martinrasumoff')\n",
    "    cursor = db.cursor()\n",
    "\n",
    "    #Loading Pump Data\n",
    "    cursor.execute(\"select * from water_pumps;\")\n",
    "    list_pumps = cursor.fetchall()\n",
    "\n",
    "    #Converting wells data into a pandas Data Frame\n",
    "    df_pumps = pd.DataFrame(list_pumps)\n",
    "\n",
    "    return df_pumps\n",
    "\n",
    "df_data = load_wells()\n",
    "\n",
    "print df_data.head()\n",
    "print df_data.tail()"
   ]
  },
  {
   "cell_type": "code",
   "execution_count": 19,
   "metadata": {
    "collapsed": false
   },
   "outputs": [
    {
     "name": "stdout",
     "output_type": "stream",
     "text": [
      "      id           label\n",
      "0  69572      functional\n",
      "1   8776      functional\n",
      "2  34310      functional\n",
      "3  67743  non functional\n",
      "4  19728      functional\n",
      "          id       label\n",
      "59395  60739  functional\n",
      "59396  27263  functional\n",
      "59397  37057  functional\n",
      "59398  31282  functional\n",
      "59399  26348  functional\n"
     ]
    }
   ],
   "source": [
    "df_labels = load_labels()\n",
    "\n",
    "df_labels.columns = ['id','label']\n",
    "\n",
    "print df_labels.head()\n",
    "print df_labels.tail()"
   ]
  },
  {
   "cell_type": "code",
   "execution_count": 20,
   "metadata": {
    "collapsed": false
   },
   "outputs": [
    {
     "name": "stdout",
     "output_type": "stream",
     "text": [
      "       id           label\n",
      "9410    0  non functional\n",
      "18428   1      functional\n",
      "12119   2      functional\n",
      "10629   3      functional\n",
      "2343    4  non functional\n",
      "          id           label\n",
      "15137  74240      functional\n",
      "8667   74242      functional\n",
      "22584  74243  non functional\n",
      "108    74246  non functional\n",
      "39131  74247  non functional\n"
     ]
    }
   ],
   "source": [
    "df_labels = df_labels.sort(['id'])\n",
    "\n",
    "print df_labels.head()\n",
    "print df_labels.tail()"
   ]
  },
  {
   "cell_type": "code",
   "execution_count": 21,
   "metadata": {
    "collapsed": false,
    "scrolled": true
   },
   "outputs": [
    {
     "name": "stdout",
     "output_type": "stream",
     "text": [
      "      id  amount_tsh date_recorded        funder  gps_height     installer  \\\n",
      "0  69572        6000    2011-03-14         Roman        1390         Roman   \n",
      "1   8776           0    2013-03-06       Grumeti        1399       GRUMETI   \n",
      "2  34310          25    2013-02-25  Lottery Club         686  World vision   \n",
      "3  67743           0    2013-01-28        Unicef         263        UNICEF   \n",
      "4  19728           0    2011-07-13   Action In A           0       Artisan   \n",
      "\n",
      "   longitude   latitude              wpt_name num_private  \\\n",
      "0  34.938093  -9.856322                  none           0   \n",
      "1  34.698766  -2.147466              Zahanati           0   \n",
      "2  37.460664  -3.821329           Kwa Mahundi           0   \n",
      "3  38.486161 -11.155298  Zahanati Ya Nanyumbu           0   \n",
      "4  31.130847  -1.825359               Shuleni           0   \n",
      "\n",
      "           ...          payment_type water_quality quality_group  \\\n",
      "0          ...              annually          soft          good   \n",
      "1          ...             never pay          soft          good   \n",
      "2          ...            per bucket          soft          good   \n",
      "3          ...             never pay          soft          good   \n",
      "4          ...             never pay          soft          good   \n",
      "\n",
      "       quantity  quantity_group                source           source_type  \\\n",
      "0        enough          enough                spring                spring   \n",
      "1  insufficient    insufficient  rainwater harvesting  rainwater harvesting   \n",
      "2        enough          enough                   dam                   dam   \n",
      "3           dry             dry           machine dbh              borehole   \n",
      "4      seasonal        seasonal  rainwater harvesting  rainwater harvesting   \n",
      "\n",
      "   source_class              waterpoint_type waterpoint_type_group  \n",
      "0   groundwater           communal standpipe    communal standpipe  \n",
      "1       surface           communal standpipe    communal standpipe  \n",
      "2       surface  communal standpipe multiple    communal standpipe  \n",
      "3   groundwater  communal standpipe multiple    communal standpipe  \n",
      "4       surface           communal standpipe    communal standpipe  \n",
      "\n",
      "[5 rows x 40 columns]\n",
      "          id  amount_tsh date_recorded           funder  gps_height installer  \\\n",
      "59395  60739          10    2013-05-03  Germany Republi        1210       CES   \n",
      "59396  27263        4700    2011-05-07      Cefa-njombe        1212      Cefa   \n",
      "59397  37057           0    2011-04-11             None           0      None   \n",
      "59398  31282           0    2011-03-08            Malec           0      Musa   \n",
      "59399  26348           0    2011-03-23       World Bank         191     World   \n",
      "\n",
      "       longitude  latitude             wpt_name num_private  \\\n",
      "59395  37.169807 -3.253847  Area Three Namba 27           0   \n",
      "59396  35.249991 -9.070629    Kwa Yahona Kuvala           0   \n",
      "59397  34.017087 -8.750434              Mashine           0   \n",
      "59398  35.861315 -6.378573               Mshoro           0   \n",
      "59399  38.104048 -6.747464      Kwa Mzee Lugawa           0   \n",
      "\n",
      "               ...          payment_type water_quality quality_group  \\\n",
      "59395          ...            per bucket          soft          good   \n",
      "59396          ...              annually          soft          good   \n",
      "59397          ...               monthly      fluoride      fluoride   \n",
      "59398          ...             never pay          soft          good   \n",
      "59399          ...            on failure         salty         salty   \n",
      "\n",
      "           quantity  quantity_group        source   source_type  source_class  \\\n",
      "59395        enough          enough        spring        spring   groundwater   \n",
      "59396        enough          enough         river    river/lake       surface   \n",
      "59397        enough          enough   machine dbh      borehole   groundwater   \n",
      "59398  insufficient    insufficient  shallow well  shallow well   groundwater   \n",
      "59399        enough          enough  shallow well  shallow well   groundwater   \n",
      "\n",
      "          waterpoint_type waterpoint_type_group  \n",
      "59395  communal standpipe    communal standpipe  \n",
      "59396  communal standpipe    communal standpipe  \n",
      "59397           hand pump             hand pump  \n",
      "59398           hand pump             hand pump  \n",
      "59399           hand pump             hand pump  \n",
      "\n",
      "[5 rows x 40 columns]\n"
     ]
    }
   ],
   "source": [
    "df_data = load_wells()\n",
    "\n",
    "df_data.columns = ['id','amount_tsh',\n",
    "                    'date_recorded',\n",
    "                    'funder',\n",
    "                    'gps_height',\n",
    "                    'installer',\n",
    "                    'longitude',\n",
    "                    'latitude',\n",
    "                    'wpt_name',\n",
    "                    'num_private',\n",
    "                    'basin',\n",
    "                    'subvillage',\n",
    "                    'region',\n",
    "                    'region_code',\n",
    "                    'district_code',\n",
    "                    'lga',\n",
    "                    'ward',\n",
    "                    'population',\n",
    "                    'public_meeting',\n",
    "                    'recorded_by',\n",
    "                    'scheme_management',\n",
    "                    'scheme_name',\n",
    "                    'permit',\n",
    "                    'construction_year',\n",
    "                    'extraction_type',\n",
    "                    'extraction_type_group',\n",
    "                    'extraction_type_class',\n",
    "                    'management',\n",
    "                    'management_group',\n",
    "                    'payment',\n",
    "                    'payment_type',\n",
    "                    'water_quality',\n",
    "                    'quality_group',\n",
    "                    'quantity',\n",
    "                    'quantity_group',\n",
    "                    'source',\n",
    "                    'source_type',\n",
    "                    'source_class',\n",
    "                    'waterpoint_type',\n",
    "                    'waterpoint_type_group']\n",
    "\n",
    "print df_data.head()\n",
    "print df_data.tail()"
   ]
  },
  {
   "cell_type": "code",
   "execution_count": 22,
   "metadata": {
    "collapsed": false,
    "scrolled": true
   },
   "outputs": [
    {
     "name": "stdout",
     "output_type": "stream",
     "text": [
      "       id  amount_tsh date_recorded           funder  gps_height installer  \\\n",
      "9425    0           0    2012-11-13            Tasaf           0     TASAF   \n",
      "18440   1           0    2011-03-05            Shipo        1978     SHIPO   \n",
      "12134   2           0    2011-03-27             Lvia           0      LVIA   \n",
      "10644   3          10    2013-06-03  Germany Republi        1639       CES   \n",
      "2350    4           0    2011-03-22             Cmsr           0      CMSR   \n",
      "\n",
      "       longitude  latitude        wpt_name num_private          ...           \\\n",
      "9425   33.125828 -5.118154         Mratibu           0          ...            \n",
      "18440  34.770717 -9.395642            none           0          ...            \n",
      "12134  36.115056 -6.279268         Bombani           0          ...            \n",
      "10644  37.147432 -3.187555  Area 7 Namba 5           0          ...            \n",
      "2350   36.164893 -6.099289         Ezeleda           0          ...            \n",
      "\n",
      "      payment_type water_quality quality_group      quantity  quantity_group  \\\n",
      "9425       unknown         milky         milky        enough          enough   \n",
      "18440    never pay          soft          good        enough          enough   \n",
      "12134   per bucket          soft          good  insufficient    insufficient   \n",
      "10644   per bucket          soft          good        enough          enough   \n",
      "2350       unknown          soft          good           dry             dry   \n",
      "\n",
      "             source   source_type  source_class              waterpoint_type  \\\n",
      "9425   shallow well  shallow well   groundwater                    hand pump   \n",
      "18440  shallow well  shallow well   groundwater                    hand pump   \n",
      "12134   machine dbh      borehole   groundwater  communal standpipe multiple   \n",
      "10644        spring        spring   groundwater           communal standpipe   \n",
      "2350   shallow well  shallow well   groundwater                    hand pump   \n",
      "\n",
      "      waterpoint_type_group  \n",
      "9425              hand pump  \n",
      "18440             hand pump  \n",
      "12134    communal standpipe  \n",
      "10644    communal standpipe  \n",
      "2350              hand pump  \n",
      "\n",
      "[5 rows x 40 columns]\n",
      "          id  amount_tsh date_recorded             funder  gps_height  \\\n",
      "15151  74240           0    2013-03-22       World Vision        1183   \n",
      "8682   74242           0    2011-04-12             Danida           0   \n",
      "22597  74243           0    2012-11-13  Ministry Of Water        1188   \n",
      "108    74246          50    2011-03-07              Ruthe        1428   \n",
      "39138  74247          50    2013-02-16            Mission         965   \n",
      "\n",
      "          installer  longitude   latitude               wpt_name num_private  \\\n",
      "15151  World vision  37.007726  -3.280868  Upendo Primary School           0   \n",
      "8682         DANIDA  33.724987  -8.940758            Kwa Mvulula           0   \n",
      "22597        Hesawa  33.963539  -1.429477      Kwa Wambura Msege           0   \n",
      "108           Ruthe  35.630481  -7.710549                   none           0   \n",
      "39138           DWE  35.432998 -10.639270            Kwa Mapunda           0   \n",
      "\n",
      "               ...          payment_type water_quality quality_group  \\\n",
      "15151          ...               unknown          soft          good   \n",
      "8682           ...            on failure          soft          good   \n",
      "22597          ...             never pay          soft          good   \n",
      "108            ...            per bucket          soft          good   \n",
      "39138          ...            per bucket          soft          good   \n",
      "\n",
      "           quantity  quantity_group                source  \\\n",
      "15151  insufficient    insufficient  rainwater harvesting   \n",
      "8682         enough          enough                 river   \n",
      "22597        enough          enough                  lake   \n",
      "108             dry             dry                spring   \n",
      "39138           dry             dry                 river   \n",
      "\n",
      "                source_type  source_class              waterpoint_type  \\\n",
      "15151  rainwater harvesting       surface           communal standpipe   \n",
      "8682             river/lake       surface           communal standpipe   \n",
      "22597            river/lake       surface  communal standpipe multiple   \n",
      "108                  spring   groundwater           communal standpipe   \n",
      "39138            river/lake       surface           communal standpipe   \n",
      "\n",
      "      waterpoint_type_group  \n",
      "15151    communal standpipe  \n",
      "8682     communal standpipe  \n",
      "22597    communal standpipe  \n",
      "108      communal standpipe  \n",
      "39138    communal standpipe  \n",
      "\n",
      "[5 rows x 40 columns]\n"
     ]
    }
   ],
   "source": [
    "df_data = df_data.sort(['id'])\n",
    "\n",
    "print df_data.head()\n",
    "print df_data.tail()"
   ]
  },
  {
   "cell_type": "code",
   "execution_count": 26,
   "metadata": {
    "collapsed": false
   },
   "outputs": [
    {
     "name": "stdout",
     "output_type": "stream",
     "text": [
      "[0 1]\n"
     ]
    },
    {
     "ename": "ValueError",
     "evalue": "Replacement lists must match in length. Expecting 2 got 13 ",
     "output_type": "error",
     "traceback": [
      "\u001b[0;31m---------------------------------------------------------------------------\u001b[0m",
      "\u001b[0;31mValueError\u001b[0m                                Traceback (most recent call last)",
      "\u001b[0;32m<ipython-input-26-0f125549aec8>\u001b[0m in \u001b[0;36m<module>\u001b[0;34m()\u001b[0m\n\u001b[1;32m      1\u001b[0m \u001b[0ma\u001b[0m \u001b[0;34m=\u001b[0m \u001b[0mdf_data\u001b[0m\u001b[0;34m.\u001b[0m\u001b[0mscheme_management\u001b[0m\u001b[0;34m.\u001b[0m\u001b[0munique\u001b[0m\u001b[0;34m(\u001b[0m\u001b[0;34m)\u001b[0m\u001b[0;34m\u001b[0m\u001b[0m\n\u001b[1;32m      2\u001b[0m \u001b[0;32mprint\u001b[0m \u001b[0ma\u001b[0m\u001b[0;34m\u001b[0m\u001b[0m\n\u001b[0;32m----> 3\u001b[0;31m \u001b[0mdf_data\u001b[0m\u001b[0;34m.\u001b[0m\u001b[0mscheme_management\u001b[0m\u001b[0;34m.\u001b[0m\u001b[0mreplace\u001b[0m\u001b[0;34m(\u001b[0m\u001b[0ma\u001b[0m\u001b[0;34m,\u001b[0m\u001b[0;34m(\u001b[0m\u001b[0;36m0\u001b[0m\u001b[0;34m,\u001b[0m\u001b[0;36m0\u001b[0m\u001b[0;34m,\u001b[0m\u001b[0;36m0\u001b[0m\u001b[0;34m,\u001b[0m\u001b[0;36m0\u001b[0m\u001b[0;34m,\u001b[0m\u001b[0;36m0\u001b[0m\u001b[0;34m,\u001b[0m\u001b[0;36m1\u001b[0m\u001b[0;34m,\u001b[0m\u001b[0;36m0\u001b[0m\u001b[0;34m,\u001b[0m\u001b[0;36m0\u001b[0m\u001b[0;34m,\u001b[0m\u001b[0;36m0\u001b[0m\u001b[0;34m,\u001b[0m\u001b[0;36m0\u001b[0m\u001b[0;34m,\u001b[0m\u001b[0;36m0\u001b[0m\u001b[0;34m,\u001b[0m\u001b[0;36m0\u001b[0m\u001b[0;34m,\u001b[0m\u001b[0;36m0\u001b[0m\u001b[0;34m)\u001b[0m\u001b[0;34m,\u001b[0m\u001b[0minplace\u001b[0m\u001b[0;34m=\u001b[0m\u001b[0mTrue\u001b[0m\u001b[0;34m)\u001b[0m\u001b[0;34m\u001b[0m\u001b[0m\n\u001b[0m\u001b[1;32m      4\u001b[0m \u001b[0ma\u001b[0m \u001b[0;34m=\u001b[0m \u001b[0mdf_data\u001b[0m\u001b[0;34m.\u001b[0m\u001b[0mscheme_management\u001b[0m\u001b[0;34m.\u001b[0m\u001b[0munique\u001b[0m\u001b[0;34m(\u001b[0m\u001b[0;34m)\u001b[0m\u001b[0;34m\u001b[0m\u001b[0m\n\u001b[1;32m      5\u001b[0m \u001b[0;32mprint\u001b[0m \u001b[0ma\u001b[0m\u001b[0;34m\u001b[0m\u001b[0m\n",
      "\u001b[0;32m//anaconda/lib/python2.7/site-packages/pandas/core/generic.pyc\u001b[0m in \u001b[0;36mreplace\u001b[0;34m(self, to_replace, value, inplace, limit, regex, method, axis)\u001b[0m\n\u001b[1;32m   2809\u001b[0m                         raise ValueError('Replacement lists must match '\n\u001b[1;32m   2810\u001b[0m                                          \u001b[0;34m'in length. Expecting %d got %d '\u001b[0m \u001b[0;34m%\u001b[0m\u001b[0;34m\u001b[0m\u001b[0m\n\u001b[0;32m-> 2811\u001b[0;31m                                          (len(to_replace), len(value)))\n\u001b[0m\u001b[1;32m   2812\u001b[0m \u001b[0;34m\u001b[0m\u001b[0m\n\u001b[1;32m   2813\u001b[0m                     new_data = self._data.replace_list(src_list=to_replace,\n",
      "\u001b[0;31mValueError\u001b[0m: Replacement lists must match in length. Expecting 2 got 13 "
     ]
    }
   ],
   "source": [
    "a = df_data.scheme_management.unique()\n",
    "print a\n",
    "df_data.scheme_management.replace(a,(0,0,0,0,0,1,0,0,0,0,0,0,0),inplace=True)"
   ]
  },
  {
   "cell_type": "code",
   "execution_count": 27,
   "metadata": {
    "collapsed": false
   },
   "outputs": [
    {
     "name": "stdout",
     "output_type": "stream",
     "text": [
      "[0 1]\n"
     ]
    }
   ],
   "source": [
    "a = df_data.scheme_management.unique()\n",
    "print a"
   ]
  },
  {
   "cell_type": "code",
   "execution_count": 30,
   "metadata": {
    "collapsed": false,
    "scrolled": true
   },
   "outputs": [
    {
     "name": "stdout",
     "output_type": "stream",
     "text": [
      "[0 1]\n"
     ]
    },
    {
     "ename": "ValueError",
     "evalue": "Replacement lists must match in length. Expecting 2 got 7 ",
     "output_type": "error",
     "traceback": [
      "\u001b[0;31m---------------------------------------------------------------------------\u001b[0m",
      "\u001b[0;31mValueError\u001b[0m                                Traceback (most recent call last)",
      "\u001b[0;32m<ipython-input-30-ef11ba399b25>\u001b[0m in \u001b[0;36m<module>\u001b[0;34m()\u001b[0m\n\u001b[1;32m      1\u001b[0m \u001b[0ma\u001b[0m \u001b[0;34m=\u001b[0m \u001b[0mdf_data\u001b[0m\u001b[0;34m.\u001b[0m\u001b[0mextraction_type_class\u001b[0m\u001b[0;34m.\u001b[0m\u001b[0munique\u001b[0m\u001b[0;34m(\u001b[0m\u001b[0;34m)\u001b[0m\u001b[0;34m\u001b[0m\u001b[0m\n\u001b[1;32m      2\u001b[0m \u001b[0;32mprint\u001b[0m \u001b[0ma\u001b[0m\u001b[0;34m\u001b[0m\u001b[0m\n\u001b[0;32m----> 3\u001b[0;31m \u001b[0mdf_data\u001b[0m\u001b[0;34m.\u001b[0m\u001b[0mextraction_type_class\u001b[0m\u001b[0;34m.\u001b[0m\u001b[0mreplace\u001b[0m\u001b[0;34m(\u001b[0m\u001b[0ma\u001b[0m\u001b[0;34m,\u001b[0m\u001b[0;34m(\u001b[0m\u001b[0;36m0\u001b[0m\u001b[0;34m,\u001b[0m\u001b[0;36m0\u001b[0m\u001b[0;34m,\u001b[0m\u001b[0;36m0\u001b[0m\u001b[0;34m,\u001b[0m\u001b[0;36m1\u001b[0m\u001b[0;34m,\u001b[0m\u001b[0;36m1\u001b[0m\u001b[0;34m,\u001b[0m\u001b[0;36m0\u001b[0m\u001b[0;34m,\u001b[0m\u001b[0;36m0\u001b[0m\u001b[0;34m)\u001b[0m\u001b[0;34m,\u001b[0m\u001b[0minplace\u001b[0m\u001b[0;34m=\u001b[0m\u001b[0mTrue\u001b[0m\u001b[0;34m)\u001b[0m\u001b[0;34m\u001b[0m\u001b[0m\n\u001b[0m\u001b[1;32m      4\u001b[0m \u001b[0;32mprint\u001b[0m \u001b[0ma\u001b[0m\u001b[0;34m\u001b[0m\u001b[0m\n",
      "\u001b[0;32m//anaconda/lib/python2.7/site-packages/pandas/core/generic.pyc\u001b[0m in \u001b[0;36mreplace\u001b[0;34m(self, to_replace, value, inplace, limit, regex, method, axis)\u001b[0m\n\u001b[1;32m   2809\u001b[0m                         raise ValueError('Replacement lists must match '\n\u001b[1;32m   2810\u001b[0m                                          \u001b[0;34m'in length. Expecting %d got %d '\u001b[0m \u001b[0;34m%\u001b[0m\u001b[0;34m\u001b[0m\u001b[0m\n\u001b[0;32m-> 2811\u001b[0;31m                                          (len(to_replace), len(value)))\n\u001b[0m\u001b[1;32m   2812\u001b[0m \u001b[0;34m\u001b[0m\u001b[0m\n\u001b[1;32m   2813\u001b[0m                     new_data = self._data.replace_list(src_list=to_replace,\n",
      "\u001b[0;31mValueError\u001b[0m: Replacement lists must match in length. Expecting 2 got 7 "
     ]
    }
   ],
   "source": [
    "a = df_data.extraction_type_class.unique()\n",
    "print a\n",
    "df_data.extraction_type_class.replace(a,(0,0,0,1,1,0,0),inplace=True)\n",
    "print a"
   ]
  },
  {
   "cell_type": "code",
   "execution_count": 32,
   "metadata": {
    "collapsed": false
   },
   "outputs": [
    {
     "name": "stdout",
     "output_type": "stream",
     "text": [
      "[0 1]\n"
     ]
    }
   ],
   "source": [
    "a = df_data.extraction_type_class.unique()\n",
    "print a"
   ]
  },
  {
   "cell_type": "code",
   "execution_count": null,
   "metadata": {
    "collapsed": true
   },
   "outputs": [],
   "source": []
  },
  {
   "cell_type": "code",
   "execution_count": 8,
   "metadata": {
    "collapsed": false,
    "scrolled": true
   },
   "outputs": [
    {
     "name": "stdout",
     "output_type": "stream",
     "text": [
      "       id  amount_tsh  gps_height  longitude  latitude  region_code  \\\n",
      "9425    0           0           0  33.125828 -5.118154           14   \n",
      "18440   1           0        1978  34.770717 -9.395642           11   \n",
      "12134   2           0           0  36.115056 -6.279268            1   \n",
      "10644   3          10        1639  37.147432 -3.187555            3   \n",
      "2350    4           0           0  36.164893 -6.099289            1   \n",
      "\n",
      "       district_code  population            basin  \n",
      "9425               3           0  Lake Tanganyika  \n",
      "18440              4          20           Rufiji  \n",
      "12134              4           0      Wami / Ruvu  \n",
      "10644              5          25          Pangani  \n",
      "2350               4           0      Wami / Ruvu  \n",
      "-\n",
      "          id  amount_tsh  gps_height  longitude      latitude  region_code  \\\n",
      "19264  42628           0        1365  34.570084 -8.838753e+00           11   \n",
      "1374   26072           0        1481  34.051321 -1.906929e+00           20   \n",
      "32863   7782           0         831  29.696167 -4.918685e+00           16   \n",
      "29904   9186           0         405  38.680427 -1.074818e+01           90   \n",
      "57115  46261           0           0   0.000000 -2.000000e-08           17   \n",
      "\n",
      "       district_code  population                    basin  \n",
      "19264              4          52                   Rufiji  \n",
      "1374               4         250            Lake Victoria  \n",
      "32863              4           0          Lake Tanganyika  \n",
      "29904             33           1  Ruvuma / Southern Coast  \n",
      "57115              1           0            Lake Victoria  \n",
      "-\n",
      "          id           label\n",
      "19254  42628  non functional\n",
      "1372   26072  non functional\n",
      "32855   7782  non functional\n",
      "29894   9186  non functional\n",
      "57114  46261      functional\n",
      "-\n",
      "          id  amount_tsh  gps_height  longitude   latitude  region_code  \\\n",
      "52571  71411          50         939  35.446667 -10.655548           10   \n",
      "29015  63145           0        1345  37.224340  -5.526287           21   \n",
      "7088   64733           0        1565  37.515046  -3.267608            3   \n",
      "9356   63154           0           0  33.902788  -9.479350           12   \n",
      "54253  65389        1000        1506  34.700600  -5.055693           13   \n",
      "\n",
      "       district_code  population                    basin  \n",
      "52571              2           0  Ruvuma / Southern Coast  \n",
      "29015              5           1                  Pangani  \n",
      "7088               4          65                  Pangani  \n",
      "9356               3           0               Lake Nyasa  \n",
      "54253              2         150                 Internal  \n",
      "-\n",
      "          id                    label\n",
      "52567  71411           non functional\n",
      "29005  63145               functional\n",
      "7073   64733  functional needs repair\n",
      "9341   63154               functional\n",
      "54253  65389               functional\n"
     ]
    }
   ],
   "source": [
    "\n",
    "df_data.basin.replace(a,(1,2,3,4,5,6,7,8,9),inplace=True)\n",
    "\n",
    "df_data = df_data[['id','amount_tsh','gps_height','longitude','latitude','region_code','district_code',\\\n",
    "                   'population','water_authority','extraction_type_class']]\n",
    "\n",
    "print df_data.head()\n",
    "\n",
    "X_pumps_train, X_pumps_test, y_pumps_train, y_pumps_test = train_test_split(df_data, df_labels, test_size=0.25, random_state=79)\n",
    "\n",
    "print '-'\n",
    "print X_pumps_train.head()\n",
    "print '-'\n",
    "print y_pumps_train.head()\n",
    "print '-'\n",
    "print X_pumps_test.head()\n",
    "print '-'\n",
    "print y_pumps_test.head()\n"
   ]
  },
  {
   "cell_type": "code",
   "execution_count": null,
   "metadata": {
    "collapsed": true
   },
   "outputs": [],
   "source": []
  },
  {
   "cell_type": "code",
   "execution_count": 9,
   "metadata": {
    "collapsed": false
   },
   "outputs": [],
   "source": [
    "import pylab as pl\n",
    "import numpy as np\n",
    "import statsmodels.api as sm\n",
    "from sklearn.neighbors import KNeighborsClassifier\n",
    "from sklearn.metrics import accuracy_score\n",
    "from sklearn.cross_validation import train_test_split\n",
    "from sklearn.linear_model import LogisticRegression\n",
    "from sklearn.metrics import precision_score\n",
    "from sklearn.metrics import recall_score\n",
    "from sklearn.metrics import f1_score\n",
    "from sklearn.metrics import precision_recall_fscore_support"
   ]
  },
  {
   "cell_type": "code",
   "execution_count": 10,
   "metadata": {
    "collapsed": false
   },
   "outputs": [
    {
     "ename": "ValueError",
     "evalue": "could not convert string to float: Pangani",
     "output_type": "error",
     "traceback": [
      "\u001b[0;31m---------------------------------------------------------------------------\u001b[0m",
      "\u001b[0;31mValueError\u001b[0m                                Traceback (most recent call last)",
      "\u001b[0;32m<ipython-input-10-7903b486bfbf>\u001b[0m in \u001b[0;36m<module>\u001b[0;34m()\u001b[0m\n\u001b[1;32m      6\u001b[0m     \u001b[0mclf\u001b[0m \u001b[0;34m=\u001b[0m \u001b[0mKNeighborsClassifier\u001b[0m\u001b[0;34m(\u001b[0m\u001b[0mn_neighbors\u001b[0m\u001b[0;34m=\u001b[0m\u001b[0mn\u001b[0m\u001b[0;34m)\u001b[0m\u001b[0;34m\u001b[0m\u001b[0m\n\u001b[1;32m      7\u001b[0m \u001b[0;34m\u001b[0m\u001b[0m\n\u001b[0;32m----> 8\u001b[0;31m     \u001b[0mknn\u001b[0m \u001b[0;34m=\u001b[0m \u001b[0mclf\u001b[0m\u001b[0;34m.\u001b[0m\u001b[0mfit\u001b[0m\u001b[0;34m(\u001b[0m\u001b[0mX_pumps_train\u001b[0m\u001b[0;34m,\u001b[0m \u001b[0my_pumps_train\u001b[0m\u001b[0;34m)\u001b[0m\u001b[0;34m\u001b[0m\u001b[0m\n\u001b[0m\u001b[1;32m      9\u001b[0m     \u001b[0mpreds\u001b[0m \u001b[0;34m=\u001b[0m \u001b[0mclf\u001b[0m\u001b[0;34m.\u001b[0m\u001b[0mpredict\u001b[0m\u001b[0;34m(\u001b[0m\u001b[0mX_pumps_test\u001b[0m\u001b[0;34m)\u001b[0m\u001b[0;34m\u001b[0m\u001b[0m\n\u001b[1;32m     10\u001b[0m     \u001b[0maccuracy\u001b[0m \u001b[0;34m=\u001b[0m \u001b[0mnp\u001b[0m\u001b[0;34m.\u001b[0m\u001b[0mwhere\u001b[0m\u001b[0;34m(\u001b[0m\u001b[0mpreds\u001b[0m\u001b[0;34m==\u001b[0m\u001b[0my_pumps_test\u001b[0m\u001b[0;34m,\u001b[0m \u001b[0;36m1\u001b[0m\u001b[0;34m,\u001b[0m \u001b[0;36m0\u001b[0m\u001b[0;34m)\u001b[0m\u001b[0;34m.\u001b[0m\u001b[0msum\u001b[0m\u001b[0;34m(\u001b[0m\u001b[0;34m)\u001b[0m \u001b[0;34m/\u001b[0m \u001b[0mfloat\u001b[0m\u001b[0;34m(\u001b[0m\u001b[0mlen\u001b[0m\u001b[0;34m(\u001b[0m\u001b[0my_pumps_test\u001b[0m\u001b[0;34m)\u001b[0m\u001b[0;34m)\u001b[0m\u001b[0;34m\u001b[0m\u001b[0m\n",
      "\u001b[0;32m//anaconda/lib/python2.7/site-packages/sklearn/neighbors/base.pyc\u001b[0m in \u001b[0;36mfit\u001b[0;34m(self, X, y)\u001b[0m\n\u001b[1;32m    743\u001b[0m         \"\"\"\n\u001b[1;32m    744\u001b[0m         \u001b[0;32mif\u001b[0m \u001b[0;32mnot\u001b[0m \u001b[0misinstance\u001b[0m\u001b[0;34m(\u001b[0m\u001b[0mX\u001b[0m\u001b[0;34m,\u001b[0m \u001b[0;34m(\u001b[0m\u001b[0mKDTree\u001b[0m\u001b[0;34m,\u001b[0m \u001b[0mBallTree\u001b[0m\u001b[0;34m)\u001b[0m\u001b[0;34m)\u001b[0m\u001b[0;34m:\u001b[0m\u001b[0;34m\u001b[0m\u001b[0m\n\u001b[0;32m--> 745\u001b[0;31m             \u001b[0mX\u001b[0m\u001b[0;34m,\u001b[0m \u001b[0my\u001b[0m \u001b[0;34m=\u001b[0m \u001b[0mcheck_X_y\u001b[0m\u001b[0;34m(\u001b[0m\u001b[0mX\u001b[0m\u001b[0;34m,\u001b[0m \u001b[0my\u001b[0m\u001b[0;34m,\u001b[0m \u001b[0;34m\"csr\"\u001b[0m\u001b[0;34m,\u001b[0m \u001b[0mmulti_output\u001b[0m\u001b[0;34m=\u001b[0m\u001b[0mTrue\u001b[0m\u001b[0;34m)\u001b[0m\u001b[0;34m\u001b[0m\u001b[0m\n\u001b[0m\u001b[1;32m    746\u001b[0m \u001b[0;34m\u001b[0m\u001b[0m\n\u001b[1;32m    747\u001b[0m         \u001b[0;32mif\u001b[0m \u001b[0my\u001b[0m\u001b[0;34m.\u001b[0m\u001b[0mndim\u001b[0m \u001b[0;34m==\u001b[0m \u001b[0;36m1\u001b[0m \u001b[0;32mor\u001b[0m \u001b[0my\u001b[0m\u001b[0;34m.\u001b[0m\u001b[0mndim\u001b[0m \u001b[0;34m==\u001b[0m \u001b[0;36m2\u001b[0m \u001b[0;32mand\u001b[0m \u001b[0my\u001b[0m\u001b[0;34m.\u001b[0m\u001b[0mshape\u001b[0m\u001b[0;34m[\u001b[0m\u001b[0;36m1\u001b[0m\u001b[0;34m]\u001b[0m \u001b[0;34m==\u001b[0m \u001b[0;36m1\u001b[0m\u001b[0;34m:\u001b[0m\u001b[0;34m\u001b[0m\u001b[0m\n",
      "\u001b[0;32m//anaconda/lib/python2.7/site-packages/sklearn/utils/validation.pyc\u001b[0m in \u001b[0;36mcheck_X_y\u001b[0;34m(X, y, accept_sparse, dtype, order, copy, force_all_finite, ensure_2d, allow_nd, multi_output, ensure_min_samples, ensure_min_features, y_numeric)\u001b[0m\n\u001b[1;32m    442\u001b[0m     X = check_array(X, accept_sparse, dtype, order, copy, force_all_finite,\n\u001b[1;32m    443\u001b[0m                     \u001b[0mensure_2d\u001b[0m\u001b[0;34m,\u001b[0m \u001b[0mallow_nd\u001b[0m\u001b[0;34m,\u001b[0m \u001b[0mensure_min_samples\u001b[0m\u001b[0;34m,\u001b[0m\u001b[0;34m\u001b[0m\u001b[0m\n\u001b[0;32m--> 444\u001b[0;31m                     ensure_min_features)\n\u001b[0m\u001b[1;32m    445\u001b[0m     \u001b[0;32mif\u001b[0m \u001b[0mmulti_output\u001b[0m\u001b[0;34m:\u001b[0m\u001b[0;34m\u001b[0m\u001b[0m\n\u001b[1;32m    446\u001b[0m         y = check_array(y, 'csr', force_all_finite=True, ensure_2d=False,\n",
      "\u001b[0;32m//anaconda/lib/python2.7/site-packages/sklearn/utils/validation.pyc\u001b[0m in \u001b[0;36mcheck_array\u001b[0;34m(array, accept_sparse, dtype, order, copy, force_all_finite, ensure_2d, allow_nd, ensure_min_samples, ensure_min_features)\u001b[0m\n\u001b[1;32m    342\u001b[0m             \u001b[0;32melse\u001b[0m\u001b[0;34m:\u001b[0m\u001b[0;34m\u001b[0m\u001b[0m\n\u001b[1;32m    343\u001b[0m                 \u001b[0mdtype\u001b[0m \u001b[0;34m=\u001b[0m \u001b[0mNone\u001b[0m\u001b[0;34m\u001b[0m\u001b[0m\n\u001b[0;32m--> 344\u001b[0;31m         \u001b[0marray\u001b[0m \u001b[0;34m=\u001b[0m \u001b[0mnp\u001b[0m\u001b[0;34m.\u001b[0m\u001b[0marray\u001b[0m\u001b[0;34m(\u001b[0m\u001b[0marray\u001b[0m\u001b[0;34m,\u001b[0m \u001b[0mdtype\u001b[0m\u001b[0;34m=\u001b[0m\u001b[0mdtype\u001b[0m\u001b[0;34m,\u001b[0m \u001b[0morder\u001b[0m\u001b[0;34m=\u001b[0m\u001b[0morder\u001b[0m\u001b[0;34m,\u001b[0m \u001b[0mcopy\u001b[0m\u001b[0;34m=\u001b[0m\u001b[0mcopy\u001b[0m\u001b[0;34m)\u001b[0m\u001b[0;34m\u001b[0m\u001b[0m\n\u001b[0m\u001b[1;32m    345\u001b[0m         \u001b[0;31m# make sure we actually converted to numeric:\u001b[0m\u001b[0;34m\u001b[0m\u001b[0;34m\u001b[0m\u001b[0m\n\u001b[1;32m    346\u001b[0m         \u001b[0;32mif\u001b[0m \u001b[0mdtype_numeric\u001b[0m \u001b[0;32mand\u001b[0m \u001b[0marray\u001b[0m\u001b[0;34m.\u001b[0m\u001b[0mdtype\u001b[0m\u001b[0;34m.\u001b[0m\u001b[0mkind\u001b[0m \u001b[0;34m==\u001b[0m \u001b[0;34m\"O\"\u001b[0m\u001b[0;34m:\u001b[0m\u001b[0;34m\u001b[0m\u001b[0m\n",
      "\u001b[0;31mValueError\u001b[0m: could not convert string to float: Pangani"
     ]
    }
   ],
   "source": [
    "%matplotlib inline\n",
    "\n",
    "results = []\n",
    "\n",
    "for n in range(1, 10):\n",
    "    clf = KNeighborsClassifier(n_neighbors=n)\n",
    "\n",
    "    knn = clf.fit(X_pumps_train, y_pumps_train)\n",
    "    preds = clf.predict(X_pumps_test)\n",
    "    accuracy = np.where(preds==y_pumps_test, 1, 0).sum() / float(len(y_pumps_test))\n",
    "\n",
    "    print \"Neighbors: %d, Accuracy: %3f\" % (n, accuracy)\n",
    "\n",
    "    results.append([n, accuracy])\n",
    "\n",
    "\n",
    "results = pd.DataFrame(results, columns=[\"n\", \"accuracy\"])\n",
    "\n",
    "for_later = results\n",
    "\n",
    "pl.plot(results.n, results.accuracy)\n",
    "pl.title(\"Accuracy with Increasing K\")\n",
    "pl.show()"
   ]
  },
  {
   "cell_type": "code",
   "execution_count": 10,
   "metadata": {
    "collapsed": false
   },
   "outputs": [
    {
     "name": "stdout",
     "output_type": "stream",
     "text": [
      "                label\n",
      "19254  non functional\n",
      "1372   non functional\n",
      "32855  non functional\n",
      "29894  non functional\n",
      "57114      functional\n",
      "Logistic Regression Score: 0.549966329966\n"
     ]
    },
    {
     "name": "stderr",
     "output_type": "stream",
     "text": [
      "//anaconda/lib/python2.7/site-packages/sklearn/utils/validation.py:449: DataConversionWarning: A column-vector y was passed when a 1d array was expected. Please change the shape of y to (n_samples, ), for example using ravel().\n",
      "  y = column_or_1d(y, warn=True)\n"
     ]
    }
   ],
   "source": [
    "X_pumps_train, X_pumps_test, y_pumps_train, y_pumps_test = train_test_split(df_data, df_labels, test_size=0.25, random_state=79)\n",
    "\n",
    "y_pumps_train = y_pumps_train[['label']]\n",
    "#print X_pumps_train.head()\n",
    "print y_pumps_train.head()\n",
    "\n",
    "logreg = LogisticRegression()\n",
    "\n",
    "#print X_pumps_train.head()\n",
    "# we create an instance of Neighbours Classifier and fit the data.\n",
    "logreg.fit(X_pumps_train, y_pumps_train)\n",
    "\n",
    "a = logreg.predict(X_pumps_test)\n",
    "#v = logreg.predict_proba(X_pumps_test)\n",
    "#b = logreg.coef_\n",
    "\n",
    "# fit the model\n",
    "result = logreg.score(X_pumps_test, y_pumps_test[['label']])\n",
    "\n",
    "print 'Logistic Regression Score:',str(result)\n",
    "#print 'Predicted Probabilities:',v\n",
    "#print 'Beta Coefficients:',b"
   ]
  },
  {
   "cell_type": "code",
   "execution_count": 11,
   "metadata": {
    "collapsed": false
   },
   "outputs": [
    {
     "name": "stdout",
     "output_type": "stream",
     "text": [
      "Gaussian Regression Score: 0.487811447811\n"
     ]
    },
    {
     "name": "stderr",
     "output_type": "stream",
     "text": [
      "//anaconda/lib/python2.7/site-packages/sklearn/utils/validation.py:449: DataConversionWarning: A column-vector y was passed when a 1d array was expected. Please change the shape of y to (n_samples, ), for example using ravel().\n",
      "  y = column_or_1d(y, warn=True)\n"
     ]
    }
   ],
   "source": [
    "from sklearn.naive_bayes import GaussianNB\n",
    "\n",
    "X_pumps_train, X_pumps_test, y_pumps_train, y_pumps_test = train_test_split(df_data, df_labels, test_size=0.25, random_state=79)\n",
    "y_pumps_train = y_pumps_train[['label']]\n",
    "y_pumps_test = y_pumps_test['label']\n",
    "\n",
    "gaussian = GaussianNB()\n",
    "gaussian.fit(X_pumps_train, y_pumps_train)\n",
    "result = gaussian.score(X_pumps_test, y_pumps_test)\n",
    "\n",
    "a = gaussian.predict(X_pumps_test)\n",
    "v = gaussian.predict_proba(X_pumps_test)\n",
    "#b = gaussian.coef_\n",
    "\n",
    "# fit the model\n",
    "result = gaussian.score(X_pumps_test, y_pumps_test)\n",
    "\n",
    "print 'Gaussian Regression Score:',str(result)"
   ]
  },
  {
   "cell_type": "code",
   "execution_count": 13,
   "metadata": {
    "collapsed": false
   },
   "outputs": [
    {
     "name": "stdout",
     "output_type": "stream",
     "text": [
      "SVC Regression Score: 0.541144781145\n"
     ]
    },
    {
     "name": "stderr",
     "output_type": "stream",
     "text": [
      "//anaconda/lib/python2.7/site-packages/sklearn/svm/base.py:472: DataConversionWarning: A column-vector y was passed when a 1d array was expected. Please change the shape of y to (n_samples, ), for example using ravel().\n",
      "  y_ = column_or_1d(y, warn=True)\n"
     ]
    }
   ],
   "source": [
    "from sklearn.svm import SVC\n",
    "\n",
    "X_pumps_train, X_pumps_test, y_pumps_train, y_pumps_test = train_test_split(df_data, df_labels, test_size=0.25, random_state=79)\n",
    "y_pumps_train = y_pumps_train[['label']]\n",
    "y_pumps_test = y_pumps_test[['label']]\n",
    "\n",
    "svc = SVC()\n",
    "svc.fit(X_pumps_train, y_pumps_train)\n",
    "result = svc.score(X_pumps_test, y_pumps_test)\n",
    "\n",
    "a = svc.predict(X_pumps_test)\n",
    "\n",
    "# fit the model\n",
    "#result = svc.score(X_pumps_test, y_pumps_test)\n",
    "\n",
    "print 'SVC Regression Score:',str(result)\n",
    "\n"
   ]
  },
  {
   "cell_type": "code",
   "execution_count": 100,
   "metadata": {
    "collapsed": false,
    "scrolled": true
   },
   "outputs": [
    {
     "name": "stdout",
     "output_type": "stream",
     "text": [
      "      id  amount_tsh date_recorded                  funder  gps_height  \\\n",
      "0  50785           0    2013-02-04                    Dmdd        1996   \n",
      "1  51630           0    2013-02-04  Government Of Tanzania        1569   \n",
      "2  17168           0    2013-02-01                     NaN        1567   \n",
      "3  45559           0    2013-01-22              Finn Water         267   \n",
      "4  49871         500    2013-03-27                  Bruder        1260   \n",
      "\n",
      "    installer  longitude   latitude                 wpt_name  num_private  \\\n",
      "0        DMDD  35.290799  -4.059696  Dinamu Secondary School            0   \n",
      "1         DWE  36.656709  -3.309214                  Kimnyak            0   \n",
      "2         NaN  34.767863  -5.004344           Puma Secondary            0   \n",
      "3  FINN WATER  38.058046  -9.418672           Kwa Mzee Pange            0   \n",
      "4      BRUDER  35.006123 -10.950412          Kwa Mzee Turuka            0   \n",
      "\n",
      "           ...          payment_type water_quality quality_group  \\\n",
      "0          ...             never pay          soft          good   \n",
      "1          ...             never pay          soft          good   \n",
      "2          ...             never pay          soft          good   \n",
      "3          ...               unknown          soft          good   \n",
      "4          ...               monthly          soft          good   \n",
      "\n",
      "       quantity  quantity_group                source           source_type  \\\n",
      "0      seasonal        seasonal  rainwater harvesting  rainwater harvesting   \n",
      "1  insufficient    insufficient                spring                spring   \n",
      "2  insufficient    insufficient  rainwater harvesting  rainwater harvesting   \n",
      "3           dry             dry          shallow well          shallow well   \n",
      "4        enough          enough                spring                spring   \n",
      "\n",
      "   source_class     waterpoint_type waterpoint_type_group  \n",
      "0       surface               other                 other  \n",
      "1   groundwater  communal standpipe    communal standpipe  \n",
      "2       surface               other                 other  \n",
      "3   groundwater               other                 other  \n",
      "4   groundwater  communal standpipe    communal standpipe  \n",
      "\n",
      "[5 rows x 40 columns]\n",
      "DTC Regression Score: 0.639865319865\n"
     ]
    }
   ],
   "source": [
    "from sklearn.tree import DecisionTreeClassifier\n",
    "\n",
    "X_pumps_train, X_pumps_test, y_pumps_train, y_pumps_test = train_test_split(df_data, df_labels, test_size=0.25, random_state=79)\n",
    "y_pumps_train = y_pumps_train[['label']]\n",
    "y_pumps_test = y_pumps_test[['label']]\n",
    "\n",
    "dtc = DecisionTreeClassifier()\n",
    "dtc.fit(X_pumps_train, y_pumps_train)\n",
    "result = dtc.score(X_pumps_test, y_pumps_test)\n",
    "\n",
    "a = dtc.predict(X_pumps_test)\n",
    "\n",
    "# fit the model\n",
    "#result = dtc.score(X_pumps_test, y_pumps_test)\n",
    "\n",
    "print 'DTC Regression Score:',str(result)\n",
    "\n",
    "#print 'SVC Coefficients:',str(b)\n",
    "#print '    Intercept   :',str(i)\n",
    "#print 'Predicted Probabilities:',v\n",
    "\n",
    "\n"
   ]
  },
  {
   "cell_type": "code",
   "execution_count": 1,
   "metadata": {
    "collapsed": false
   },
   "outputs": [
    {
     "ename": "NameError",
     "evalue": "name 'train_test_split' is not defined",
     "output_type": "error",
     "traceback": [
      "\u001b[0;31m---------------------------------------------------------------------------\u001b[0m",
      "\u001b[0;31mNameError\u001b[0m                                 Traceback (most recent call last)",
      "\u001b[0;32m<ipython-input-1-fb12af949464>\u001b[0m in \u001b[0;36m<module>\u001b[0;34m()\u001b[0m\n\u001b[1;32m      2\u001b[0m \u001b[0;32mfrom\u001b[0m \u001b[0mnumpy\u001b[0m \u001b[0;32mimport\u001b[0m \u001b[0mgenfromtxt\u001b[0m\u001b[0;34m,\u001b[0m \u001b[0msavetxt\u001b[0m\u001b[0;34m\u001b[0m\u001b[0m\n\u001b[1;32m      3\u001b[0m \u001b[0;34m\u001b[0m\u001b[0m\n\u001b[0;32m----> 4\u001b[0;31m \u001b[0mX_pumps_train\u001b[0m\u001b[0;34m,\u001b[0m \u001b[0mX_pumps_test\u001b[0m\u001b[0;34m,\u001b[0m \u001b[0my_pumps_train\u001b[0m\u001b[0;34m,\u001b[0m \u001b[0my_pumps_test\u001b[0m \u001b[0;34m=\u001b[0m \u001b[0mtrain_test_split\u001b[0m\u001b[0;34m(\u001b[0m\u001b[0mdf_data\u001b[0m\u001b[0;34m,\u001b[0m \u001b[0mdf_labels\u001b[0m\u001b[0;34m,\u001b[0m \u001b[0mtest_size\u001b[0m\u001b[0;34m=\u001b[0m\u001b[0;36m0.25\u001b[0m\u001b[0;34m,\u001b[0m \u001b[0mrandom_state\u001b[0m\u001b[0;34m=\u001b[0m\u001b[0;36m79\u001b[0m\u001b[0;34m)\u001b[0m\u001b[0;34m\u001b[0m\u001b[0m\n\u001b[0m\u001b[1;32m      5\u001b[0m \u001b[0my_pumps_train_lbl\u001b[0m \u001b[0;34m=\u001b[0m \u001b[0my_pumps_train\u001b[0m\u001b[0;34m[\u001b[0m\u001b[0;34m[\u001b[0m\u001b[0;34m'label'\u001b[0m\u001b[0;34m]\u001b[0m\u001b[0;34m]\u001b[0m\u001b[0;34m\u001b[0m\u001b[0m\n\u001b[1;32m      6\u001b[0m \u001b[0my_pumps_test_lbl\u001b[0m \u001b[0;34m=\u001b[0m \u001b[0my_pumps_test\u001b[0m\u001b[0;34m[\u001b[0m\u001b[0;34m[\u001b[0m\u001b[0;34m'label'\u001b[0m\u001b[0;34m]\u001b[0m\u001b[0;34m]\u001b[0m\u001b[0;34m\u001b[0m\u001b[0m\n",
      "\u001b[0;31mNameError\u001b[0m: name 'train_test_split' is not defined"
     ]
    }
   ],
   "source": [
    "from sklearn.ensemble import RandomForestClassifier\n",
    "from numpy import genfromtxt, savetxt\n",
    "\n",
    "X_pumps_train, X_pumps_test, y_pumps_train, y_pumps_test = train_test_split(df_data, df_labels, test_size=0.25, random_state=79)\n",
    "y_pumps_train_lbl = y_pumps_train[['label']]\n",
    "y_pumps_test_lbl = y_pumps_test[['label']]\n",
    "    \n",
    "rfc = RandomForestClassifier()\n",
    "x = rfc.fit(X_pumps_train, y_pumps_train_lbl)\n",
    "result = rfc.score(X_pumps_test, y_pumps_test_lbl)\n",
    "\n",
    "#a = rfc.predict(X_pumps_test)\n",
    "\n",
    "\n",
    "test = pd.read_csv('/Users/martinrasumoff/Desktop/metis/mcnulty/Pumpitup/test.csv')\n",
    "#print test.head()\n",
    "test = test[['id','amount_tsh','gps_height','longitude','latitude','region_code','district_code','population']]\n",
    "#print test.head()\n",
    "\n",
    "pred = rfc.predict(test)\n",
    "to_submit = []\n",
    "print len(test)\n",
    "for ind in range(len(test)):\n",
    "    ids = test.id[ind]\n",
    "    to_pred = pred[ind]\n",
    "    #print ids,' - ',to_pred\n",
    "    to_submit.append([ids,to_pred])\n",
    "    \n",
    "df_submit = pd.DataFrame(to_submit)\n",
    "df_submit.columns = ['id','status_group']\n",
    "print df_submit.head()\n",
    "\n",
    "df_submit.to_csv('/Users/martinrasumoff/Desktop/metis/mcnulty/Pumpitup/submission.csv', sep=',', index=False)\n",
    "#print pred[0]\n",
    "#print test.id[0]\n",
    "#print type(pred)\n",
    "#print pred\n",
    "print 'SVC Regression Score:',str(result)\n"
   ]
  },
  {
   "cell_type": "code",
   "execution_count": null,
   "metadata": {
    "collapsed": true
   },
   "outputs": [],
   "source": [
    "'''\n",
    "sklearn.featureselection.VarianceThresholds\n",
    "'''"
   ]
  }
 ],
 "metadata": {
  "kernelspec": {
   "display_name": "Python 2",
   "language": "python",
   "name": "python2"
  },
  "language_info": {
   "codemirror_mode": {
    "name": "ipython",
    "version": 2
   },
   "file_extension": ".py",
   "mimetype": "text/x-python",
   "name": "python",
   "nbconvert_exporter": "python",
   "pygments_lexer": "ipython2",
   "version": "2.7.10"
  }
 },
 "nbformat": 4,
 "nbformat_minor": 0
}
