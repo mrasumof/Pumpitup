{
 "cells": [
  {
   "cell_type": "code",
   "execution_count": 1,
   "metadata": {
    "collapsed": false,
    "scrolled": false
   },
   "outputs": [],
   "source": [
    "import psycopg2\n",
    "import pandas as pd\n",
    "from sklearn.cross_validation import train_test_split\n",
    "\n",
    "def load_labels():\n",
    "    db = psycopg2.connect(database='martinrasumoff')\n",
    "    cursor = db.cursor()\n",
    "\n",
    "    #Loading Labels\n",
    "    cursor.execute(\"select * from labels_water_pumps;\")\n",
    "    list_labels = cursor.fetchall()\n",
    "\n",
    "    series_labels = pd.DataFrame(list_labels)\n",
    "\n",
    "    return series_labels\n",
    "\n",
    "df_labels = load_labels()\n",
    "\n",
    "df_labels.columns = ['id','label']"
   ]
  },
  {
   "cell_type": "code",
   "execution_count": 2,
   "metadata": {
    "collapsed": false,
    "scrolled": true
   },
   "outputs": [],
   "source": [
    "def load_wells():\n",
    "    db = psycopg2.connect(database='martinrasumoff')\n",
    "    cursor = db.cursor()\n",
    "\n",
    "    #Loading Pump Data\n",
    "    cursor.execute(\"select * from water_pumps;\")\n",
    "    list_pumps = cursor.fetchall()\n",
    "\n",
    "    #Converting wells data into a pandas Data Frame\n",
    "    df_pumps = pd.DataFrame(list_pumps)\n",
    "\n",
    "    return df_pumps\n",
    "\n",
    "df_data = load_wells()\n"
   ]
  },
  {
   "cell_type": "code",
   "execution_count": 3,
   "metadata": {
    "collapsed": false
   },
   "outputs": [],
   "source": [
    "df_labels = load_labels()\n",
    "\n",
    "df_labels.columns = ['id','label']"
   ]
  },
  {
   "cell_type": "code",
   "execution_count": 5,
   "metadata": {
    "collapsed": false
   },
   "outputs": [],
   "source": [
    "df_labels = df_labels.sort(['id'])"
   ]
  },
  {
   "cell_type": "code",
   "execution_count": 9,
   "metadata": {
    "collapsed": false
   },
   "outputs": [],
   "source": [
    "df_data = load_wells()\n",
    "\n",
    "df_data.columns = ['id','amount_tsh',\n",
    "                    'date_recorded',\n",
    "                    'funder',\n",
    "                    'gps_height',\n",
    "                    'installer',\n",
    "                    'longitude',\n",
    "                    'latitude',\n",
    "                    'wpt_name',\n",
    "                    'num_private',\n",
    "                    'basin',\n",
    "                    'subvillage',\n",
    "                    'region',\n",
    "                    'region_code',\n",
    "                    'district_code',\n",
    "                    'lga',\n",
    "                    'ward',\n",
    "                    'population',\n",
    "                    'public_meeting',\n",
    "                    'recorded_by',\n",
    "                    'scheme_management',\n",
    "                    'scheme_name',\n",
    "                    'permit',\n",
    "                    'construction_year',\n",
    "                    'extraction_type',\n",
    "                    'extraction_type_group',\n",
    "                    'extraction_type_class',\n",
    "                    'management',\n",
    "                    'management_group',\n",
    "                    'payment',\n",
    "                    'payment_type',\n",
    "                    'water_quality',\n",
    "                    'quality_group',\n",
    "                    'quantity',\n",
    "                    'quantity_group',\n",
    "                    'source',\n",
    "                    'source_type',\n",
    "                    'source_class',\n",
    "                    'waterpoint_type',\n",
    "                    'waterpoint_type_group']\n"
   ]
  },
  {
   "cell_type": "code",
   "execution_count": 11,
   "metadata": {
    "collapsed": false,
    "scrolled": true
   },
   "outputs": [],
   "source": [
    "df_data = df_data.sort(['id'])\n"
   ]
  },
  {
   "cell_type": "code",
   "execution_count": 12,
   "metadata": {
    "collapsed": false
   },
   "outputs": [
    {
     "name": "stdout",
     "output_type": "stream",
     "text": [
      "['VWC' None 'Water Board' 'Private operator' 'WUA' 'Water authority' 'WUG'\n",
      " 'Other' 'Company' 'Parastatal' 'SWC' 'Trust' 'None']\n",
      "[0 1]\n"
     ]
    }
   ],
   "source": [
    "a = df_data.scheme_management.unique()\n",
    "print a\n",
    "df_data.scheme_management.replace(a,(0,0,0,0,0,1,0,0,0,0,0,0,0),inplace=True)\n",
    "a = df_data.scheme_management.unique()\n",
    "print a"
   ]
  },
  {
   "cell_type": "code",
   "execution_count": 13,
   "metadata": {
    "collapsed": false,
    "scrolled": true
   },
   "outputs": [
    {
     "name": "stdout",
     "output_type": "stream",
     "text": [
      "['handpump' 'rope pump' 'motorpump' 'gravity' 'submersible' 'other'\n",
      " 'wind-powered']\n",
      "[0 1]\n"
     ]
    }
   ],
   "source": [
    "a = df_data.extraction_type_class.unique()\n",
    "print a\n",
    "df_data.extraction_type_class.replace(a,(0,0,0,1,1,0,0),inplace=True)\n",
    "a = df_data.extraction_type_class.unique()\n",
    "print a"
   ]
  },
  {
   "cell_type": "code",
   "execution_count": 16,
   "metadata": {
    "collapsed": false
   },
   "outputs": [
    {
     "name": "stdout",
     "output_type": "stream",
     "text": [
      "['unknown' 'never pay' 'pay per bucket' 'pay when scheme fails'\n",
      " 'pay monthly' 'pay annually' 'other']\n",
      "[0 1]\n"
     ]
    }
   ],
   "source": [
    "a = df_data.payment.unique()\n",
    "print a\n",
    "df_data.payment.replace(a,(0,0,1,1,1,1,0),inplace=True)\n",
    "a = df_data.extraction_type_class.unique()\n",
    "print a"
   ]
  },
  {
   "cell_type": "code",
   "execution_count": 18,
   "metadata": {
    "collapsed": false
   },
   "outputs": [
    {
     "name": "stdout",
     "output_type": "stream",
     "text": [
      "['milky' 'soft' 'salty' 'salty abandoned' 'coloured' 'unknown' 'fluoride'\n",
      " 'fluoride abandoned']\n",
      "[0 1]\n"
     ]
    }
   ],
   "source": [
    "a = df_data.water_quality.unique()\n",
    "print a\n",
    "df_data.water_quality.replace(a,(0,0,0,1,0,0,0,0),inplace=True)\n",
    "a = df_data.extraction_type_class.unique()\n",
    "print a"
   ]
  },
  {
   "cell_type": "code",
   "execution_count": 20,
   "metadata": {
    "collapsed": false
   },
   "outputs": [
    {
     "name": "stdout",
     "output_type": "stream",
     "text": [
      "['enough' 'insufficient' 'dry' 'seasonal' 'unknown']\n",
      "[1 0]\n"
     ]
    }
   ],
   "source": [
    "a = df_data.quantity.unique()\n",
    "print a\n",
    "df_data.quantity.replace(a,(1,1,1,0,0),inplace=True)\n",
    "a = df_data.quantity.unique()\n",
    "print a"
   ]
  },
  {
   "cell_type": "code",
   "execution_count": 24,
   "metadata": {
    "collapsed": false
   },
   "outputs": [
    {
     "name": "stdout",
     "output_type": "stream",
     "text": [
      "['shallow well' 'machine dbh' 'spring' 'rainwater harvesting' 'river'\n",
      " 'lake' 'other' 'dam' 'hand dtw' 'unknown']\n",
      "[0 1]\n"
     ]
    }
   ],
   "source": [
    "a = df_data.source.unique()\n",
    "print a\n",
    "df_data.source.replace(a,(0,1,0,0,1,1,0,0,1,0),inplace=True)\n",
    "a = df_data.source.unique()\n",
    "print a"
   ]
  },
  {
   "cell_type": "code",
   "execution_count": 26,
   "metadata": {
    "collapsed": false
   },
   "outputs": [
    {
     "name": "stdout",
     "output_type": "stream",
     "text": [
      "['groundwater' 'surface' 'unknown']\n",
      "[1 0]\n"
     ]
    }
   ],
   "source": [
    "a = df_data.source_class.unique()\n",
    "print a\n",
    "df_data.source_class.replace(a,(1,0,0),inplace=True)\n",
    "a = df_data.source_class.unique()\n",
    "print a"
   ]
  },
  {
   "cell_type": "code",
   "execution_count": 28,
   "metadata": {
    "collapsed": false
   },
   "outputs": [
    {
     "name": "stdout",
     "output_type": "stream",
     "text": [
      "['hand pump' 'communal standpipe multiple' 'communal standpipe' 'other'\n",
      " 'improved spring' 'cattle trough' 'dam']\n",
      "[0 1]\n"
     ]
    }
   ],
   "source": [
    "a = df_data.waterpoint_type.unique()\n",
    "print a\n",
    "df_data.waterpoint_type.replace(a,(0,1,0,0,0,0,0),inplace=True)\n",
    "a = df_data.waterpoint_type.unique()\n",
    "print a"
   ]
  },
  {
   "cell_type": "code",
   "execution_count": 30,
   "metadata": {
    "collapsed": false,
    "scrolled": true
   },
   "outputs": [
    {
     "name": "stdout",
     "output_type": "stream",
     "text": [
      "-\n",
      "          id  amount_tsh  gps_height  longitude      latitude  region_code  \\\n",
      "19264  42628           0        1365  34.570084 -8.838753e+00           11   \n",
      "1374   26072           0        1481  34.051321 -1.906929e+00           20   \n",
      "32863   7782           0         831  29.696167 -4.918685e+00           16   \n",
      "29904   9186           0         405  38.680427 -1.074818e+01           90   \n",
      "57115  46261           0           0   0.000000 -2.000000e-08           17   \n",
      "\n",
      "       district_code  population  scheme_management  water_quality  quantity  \\\n",
      "19264              4          52                  0              0         1   \n",
      "1374               4         250                  0              0         1   \n",
      "32863              4           0                  0              0         1   \n",
      "29904             33           1                  0              0         1   \n",
      "57115              1           0                  0              0         1   \n",
      "\n",
      "       extraction_type_class  payment  source  source_class  waterpoint_type  \n",
      "19264                      1        1       1             0                0  \n",
      "1374                       0        0       0             1                0  \n",
      "32863                      0        0       1             0                1  \n",
      "29904                      0        0       0             1                0  \n",
      "57115                      0        0       0             1                0  \n",
      "-\n",
      "          id           label\n",
      "19254  42628  non functional\n",
      "1372   26072  non functional\n",
      "32855   7782  non functional\n",
      "29894   9186  non functional\n",
      "57114  46261      functional\n",
      "-\n",
      "          id  amount_tsh  gps_height  longitude   latitude  region_code  \\\n",
      "52571  71411          50         939  35.446667 -10.655548           10   \n",
      "29015  63145           0        1345  37.224340  -5.526287           21   \n",
      "7088   64733           0        1565  37.515046  -3.267608            3   \n",
      "9356   63154           0           0  33.902788  -9.479350           12   \n",
      "54253  65389        1000        1506  34.700600  -5.055693           13   \n",
      "\n",
      "       district_code  population  scheme_management  water_quality  quantity  \\\n",
      "52571              2           0                  0              0         1   \n",
      "29015              5           1                  0              0         1   \n",
      "7088               4          65                  0              0         1   \n",
      "9356               3           0                  0              0         1   \n",
      "54253              2         150                  0              0         1   \n",
      "\n",
      "       extraction_type_class  payment  source  source_class  waterpoint_type  \n",
      "52571                      0        1       1             0                0  \n",
      "29015                      1        0       0             0                0  \n",
      "7088                       1        0       0             1                0  \n",
      "9356                       1        1       0             1                0  \n",
      "54253                      0        1       0             1                0  \n",
      "-\n",
      "          id                    label\n",
      "52567  71411           non functional\n",
      "29005  63145               functional\n",
      "7073   64733  functional needs repair\n",
      "9341   63154               functional\n",
      "54253  65389               functional\n"
     ]
    }
   ],
   "source": [
    "\n",
    "df_data = df_data[['id','amount_tsh','gps_height','longitude','latitude','region_code','district_code',\\\n",
    "                   'population','scheme_management','water_quality','quantity','extraction_type_class','payment',\\\n",
    "                  'source','source_class','waterpoint_type']]\n",
    "\n",
    "X_pumps_train, X_pumps_test, y_pumps_train, y_pumps_test = train_test_split(df_data, df_labels, test_size=0.25, random_state=79)\n",
    "\n",
    "print '-'\n",
    "print X_pumps_train.head()\n",
    "print '-'\n",
    "print y_pumps_train.head()\n",
    "print '-'\n",
    "print X_pumps_test.head()\n",
    "print '-'\n",
    "print y_pumps_test.head()\n"
   ]
  },
  {
   "cell_type": "code",
   "execution_count": 31,
   "metadata": {
    "collapsed": false
   },
   "outputs": [],
   "source": [
    "import pylab as pl\n",
    "import numpy as np\n",
    "import statsmodels.api as sm\n",
    "from sklearn.neighbors import KNeighborsClassifier\n",
    "from sklearn.metrics import accuracy_score\n",
    "from sklearn.cross_validation import train_test_split\n",
    "from sklearn.linear_model import LogisticRegression\n",
    "from sklearn.metrics import precision_score\n",
    "from sklearn.metrics import recall_score\n",
    "from sklearn.metrics import f1_score\n",
    "from sklearn.metrics import precision_recall_fscore_support"
   ]
  },
  {
   "cell_type": "code",
   "execution_count": 32,
   "metadata": {
    "collapsed": false
   },
   "outputs": [
    {
     "name": "stdout",
     "output_type": "stream",
     "text": [
      "Neighbors: 1, Accuracy: 0.481347\n",
      "Neighbors: 2, Accuracy: 0.517845\n",
      "Neighbors: 3, Accuracy: 0.518721\n",
      "Neighbors: 4, Accuracy: 0.525589\n",
      "Neighbors: 5, Accuracy: 0.520741\n",
      "Neighbors: 6, Accuracy: 0.530236\n",
      "Neighbors: 7, Accuracy: 0.528687\n",
      "Neighbors: 8, Accuracy: 0.529360\n",
      "Neighbors: 9, Accuracy: 0.531785\n"
     ]
    },
    {
     "data": {
      "image/png": "[encoded data removed]",
      "text/plain": [
       "<matplotlib.figure.Figure at 0x1200558d0>"
      ]
     },
     "metadata": {},
     "output_type": "display_data"
    }
   ],
   "source": [
    "%matplotlib inline\n",
    "\n",
    "results = []\n",
    "\n",
    "for n in range(1, 10):\n",
    "    clf = KNeighborsClassifier(n_neighbors=n)\n",
    "\n",
    "    knn = clf.fit(X_pumps_train, y_pumps_train)\n",
    "    preds = clf.predict(X_pumps_test)\n",
    "    accuracy = np.where(preds==y_pumps_test, 1, 0).sum() / float(len(y_pumps_test))\n",
    "\n",
    "    print \"Neighbors: %d, Accuracy: %3f\" % (n, accuracy)\n",
    "\n",
    "    results.append([n, accuracy])\n",
    "\n",
    "\n",
    "results = pd.DataFrame(results, columns=[\"n\", \"accuracy\"])\n",
    "\n",
    "for_later = results\n",
    "\n",
    "pl.plot(results.n, results.accuracy)\n",
    "pl.title(\"Accuracy with Increasing K\")\n",
    "pl.show()"
   ]
  },
  {
   "cell_type": "code",
   "execution_count": 33,
   "metadata": {
    "collapsed": false
   },
   "outputs": [
    {
     "name": "stdout",
     "output_type": "stream",
     "text": [
      "Logistic Regression Score: 0.576767676768\n"
     ]
    },
    {
     "name": "stderr",
     "output_type": "stream",
     "text": [
      "//anaconda/lib/python2.7/site-packages/sklearn/utils/validation.py:449: DataConversionWarning: A column-vector y was passed when a 1d array was expected. Please change the shape of y to (n_samples, ), for example using ravel().\n",
      "  y = column_or_1d(y, warn=True)\n"
     ]
    }
   ],
   "source": [
    "X_pumps_train, X_pumps_test, y_pumps_train, y_pumps_test = train_test_split(df_data, df_labels, test_size=0.25, random_state=79)\n",
    "\n",
    "y_pumps_train_lbl = y_pumps_train[['label']]\n",
    "\n",
    "logreg = LogisticRegression()\n",
    "\n",
    "logreg.fit(X_pumps_train, y_pumps_train_lbl)\n",
    "\n",
    "a = logreg.predict(X_pumps_test)\n",
    "result = logreg.score(X_pumps_test, y_pumps_test[['label']])\n",
    "\n",
    "print 'Logistic Regression Score:',str(result)"
   ]
  },
  {
   "cell_type": "code",
   "execution_count": 37,
   "metadata": {
    "collapsed": false
   },
   "outputs": [
    {
     "name": "stdout",
     "output_type": "stream",
     "text": [
      "Gaussian Regression Score: 0.543232323232\n"
     ]
    },
    {
     "name": "stderr",
     "output_type": "stream",
     "text": [
      "//anaconda/lib/python2.7/site-packages/sklearn/utils/validation.py:449: DataConversionWarning: A column-vector y was passed when a 1d array was expected. Please change the shape of y to (n_samples, ), for example using ravel().\n",
      "  y = column_or_1d(y, warn=True)\n"
     ]
    }
   ],
   "source": [
    "from sklearn.naive_bayes import GaussianNB\n",
    "\n",
    "X_pumps_train, X_pumps_test, y_pumps_train, y_pumps_test = train_test_split(df_data, df_labels, test_size=0.25, random_state=79)\n",
    "y_pumps_train_lbl = y_pumps_train[['label']]\n",
    "y_pumps_test_lbl = y_pumps_test[['label']]\n",
    "\n",
    "gaussian = GaussianNB()\n",
    "gaussian.fit(X_pumps_train, y_pumps_train_lbl)\n",
    "result = gaussian.score(X_pumps_test, y_pumps_test_lbl)\n",
    "\n",
    "a = gaussian.predict(X_pumps_test)\n",
    "v = gaussian.predict_proba(X_pumps_test)\n",
    "result = gaussian.score(X_pumps_test, y_pumps_test_lbl)\n",
    "\n",
    "print 'Gaussian Regression Score:',str(result)"
   ]
  },
  {
   "cell_type": "code",
   "execution_count": 38,
   "metadata": {
    "collapsed": false
   },
   "outputs": [
    {
     "name": "stdout",
     "output_type": "stream",
     "text": [
      "SVC Regression Score: 0.54101010101\n"
     ]
    },
    {
     "name": "stderr",
     "output_type": "stream",
     "text": [
      "//anaconda/lib/python2.7/site-packages/sklearn/svm/base.py:472: DataConversionWarning: A column-vector y was passed when a 1d array was expected. Please change the shape of y to (n_samples, ), for example using ravel().\n",
      "  y_ = column_or_1d(y, warn=True)\n"
     ]
    }
   ],
   "source": [
    "from sklearn.svm import SVC\n",
    "\n",
    "X_pumps_train, X_pumps_test, y_pumps_train, y_pumps_test = train_test_split(df_data, df_labels, test_size=0.25, random_state=79)\n",
    "y_pumps_train_lbl = y_pumps_train[['label']]\n",
    "y_pumps_test_lbl = y_pumps_test[['label']]\n",
    "\n",
    "svc = SVC()\n",
    "svc.fit(X_pumps_train, y_pumps_train_lbl)\n",
    "a = svc.predict(X_pumps_test)\n",
    "result = svc.score(X_pumps_test, y_pumps_test_lbl)\n",
    "\n",
    "print 'SVC Regression Score:',str(result)"
   ]
  },
  {
   "cell_type": "code",
   "execution_count": 39,
   "metadata": {
    "collapsed": false,
    "scrolled": true
   },
   "outputs": [
    {
     "name": "stdout",
     "output_type": "stream",
     "text": [
      "DTC Regression Score: 0.66531986532\n"
     ]
    }
   ],
   "source": [
    "from sklearn.tree import DecisionTreeClassifier\n",
    "\n",
    "X_pumps_train, X_pumps_test, y_pumps_train, y_pumps_test = train_test_split(df_data, df_labels, test_size=0.25, random_state=79)\n",
    "y_pumps_train_lbl = y_pumps_train[['label']]\n",
    "y_pumps_test_lbl = y_pumps_test[['label']]\n",
    "\n",
    "dtc = DecisionTreeClassifier()\n",
    "dtc.fit(X_pumps_train, y_pumps_train_lbl)\n",
    "a = dtc.predict(X_pumps_test)\n",
    "result = dtc.score(X_pumps_test, y_pumps_test_lbl)\n",
    "\n",
    "print 'DTC Regression Score:',str(result)\n"
   ]
  },
  {
   "cell_type": "code",
   "execution_count": 40,
   "metadata": {
    "collapsed": false
   },
   "outputs": [
    {
     "name": "stdout",
     "output_type": "stream",
     "text": [
      "SVC Regression Score: 0.716835016835\n"
     ]
    },
    {
     "name": "stderr",
     "output_type": "stream",
     "text": [
      "/anaconda/lib/python2.7/site-packages/IPython/kernel/__main__.py:9: DataConversionWarning: A column-vector y was passed when a 1d array was expected. Please change the shape of y to (n_samples,), for example using ravel().\n"
     ]
    }
   ],
   "source": [
    "from sklearn.ensemble import RandomForestClassifier\n",
    "from numpy import genfromtxt, savetxt\n",
    "\n",
    "X_pumps_train, X_pumps_test, y_pumps_train, y_pumps_test = train_test_split(df_data, df_labels, test_size=0.25, random_state=79)\n",
    "y_pumps_train_lbl = y_pumps_train[['label']]\n",
    "y_pumps_test_lbl = y_pumps_test[['label']]\n",
    "    \n",
    "rfc = RandomForestClassifier()\n",
    "x = rfc.fit(X_pumps_train, y_pumps_train_lbl)\n",
    "a = rfc.predict(X_pumps_test)\n",
    "\n",
    "result = rfc.score(X_pumps_test, y_pumps_test_lbl)\n",
    "\n",
    "print 'SVC Regression Score:',str(result)\n"
   ]
  },
  {
   "cell_type": "code",
   "execution_count": 41,
   "metadata": {
    "collapsed": false,
    "scrolled": true
   },
   "outputs": [
    {
     "name": "stdout",
     "output_type": "stream",
     "text": [
      "      id  amount_tsh date_recorded                  funder  gps_height  \\\n",
      "0  50785           0    2013-02-04                    Dmdd        1996   \n",
      "1  51630           0    2013-02-04  Government Of Tanzania        1569   \n",
      "2  17168           0    2013-02-01                     NaN        1567   \n",
      "3  45559           0    2013-01-22              Finn Water         267   \n",
      "4  49871         500    2013-03-27                  Bruder        1260   \n",
      "\n",
      "    installer  longitude   latitude                 wpt_name  num_private  \\\n",
      "0        DMDD  35.290799  -4.059696  Dinamu Secondary School            0   \n",
      "1         DWE  36.656709  -3.309214                  Kimnyak            0   \n",
      "2         NaN  34.767863  -5.004344           Puma Secondary            0   \n",
      "3  FINN WATER  38.058046  -9.418672           Kwa Mzee Pange            0   \n",
      "4      BRUDER  35.006123 -10.950412          Kwa Mzee Turuka            0   \n",
      "\n",
      "           ...          payment_type water_quality quality_group  \\\n",
      "0          ...             never pay          soft          good   \n",
      "1          ...             never pay          soft          good   \n",
      "2          ...             never pay          soft          good   \n",
      "3          ...               unknown          soft          good   \n",
      "4          ...               monthly          soft          good   \n",
      "\n",
      "       quantity  quantity_group                source           source_type  \\\n",
      "0      seasonal        seasonal  rainwater harvesting  rainwater harvesting   \n",
      "1  insufficient    insufficient                spring                spring   \n",
      "2  insufficient    insufficient  rainwater harvesting  rainwater harvesting   \n",
      "3           dry             dry          shallow well          shallow well   \n",
      "4        enough          enough                spring                spring   \n",
      "\n",
      "   source_class     waterpoint_type waterpoint_type_group  \n",
      "0       surface               other                 other  \n",
      "1   groundwater  communal standpipe    communal standpipe  \n",
      "2       surface               other                 other  \n",
      "3   groundwater               other                 other  \n",
      "4   groundwater  communal standpipe    communal standpipe  \n",
      "\n",
      "[5 rows x 40 columns]\n",
      "      id  amount_tsh  gps_height  longitude   latitude  region_code  \\\n",
      "0  50785           0        1996  35.290799  -4.059696           21   \n",
      "1  51630           0        1569  36.656709  -3.309214            2   \n",
      "2  17168           0        1567  34.767863  -5.004344           13   \n",
      "3  45559           0         267  38.058046  -9.418672           80   \n",
      "4  49871         500        1260  35.006123 -10.950412           10   \n",
      "\n",
      "   district_code  population scheme_management water_quality      quantity  \\\n",
      "0              3         321        Parastatal          soft      seasonal   \n",
      "1              2         300               VWC          soft  insufficient   \n",
      "2              2         500               VWC          soft  insufficient   \n",
      "3             43         250               VWC          soft           dry   \n",
      "4              3          60       Water Board          soft        enough   \n",
      "\n",
      "  extraction_type_class      payment                source source_class  \\\n",
      "0                 other    never pay  rainwater harvesting      surface   \n",
      "1               gravity    never pay                spring  groundwater   \n",
      "2                 other    never pay  rainwater harvesting      surface   \n",
      "3                 other      unknown          shallow well  groundwater   \n",
      "4               gravity  pay monthly                spring  groundwater   \n",
      "\n",
      "      waterpoint_type  \n",
      "0               other  \n",
      "1  communal standpipe  \n",
      "2               other  \n",
      "3               other  \n",
      "4  communal standpipe  \n"
     ]
    }
   ],
   "source": [
    "test = pd.read_csv('/Users/martinrasumoff/Desktop/metis/mcnulty/Pumpitup/test.csv')\n",
    "print test.head()\n",
    "\n",
    "test = test[['id','amount_tsh','gps_height','longitude','latitude','region_code','district_code',\\\n",
    "                   'population','scheme_management','water_quality','quantity','extraction_type_class','payment',\\\n",
    "                  'source','source_class','waterpoint_type']]\n",
    "print test.head()"
   ]
  },
  {
   "cell_type": "code",
   "execution_count": 43,
   "metadata": {
    "collapsed": false
   },
   "outputs": [
    {
     "name": "stdout",
     "output_type": "stream",
     "text": [
      "['Parastatal' 'VWC' 'Water Board' nan 'Other' 'SWC' 'WUG' 'WUA'\n",
      " 'Water authority' 'Company' 'Private operator' 'Trust']\n",
      "[0 1]\n"
     ]
    }
   ],
   "source": [
    "a = test.scheme_management.unique()\n",
    "print a\n",
    "test.scheme_management.replace(a,(0,0,0,0,0,0,0,0,1,0,0,0,),inplace=True)\n",
    "a = test.scheme_management.unique()\n",
    "print a"
   ]
  },
  {
   "cell_type": "code",
   "execution_count": 45,
   "metadata": {
    "collapsed": false
   },
   "outputs": [
    {
     "name": "stdout",
     "output_type": "stream",
     "text": [
      "['other' 'gravity' 'handpump' 'submersible' 'motorpump' 'rope pump'\n",
      " 'wind-powered']\n",
      "[0 1]\n"
     ]
    }
   ],
   "source": [
    "a = test.extraction_type_class.unique()\n",
    "print a\n",
    "test.extraction_type_class.replace(a,(0,1,0,1,0,0,0),inplace=True)\n",
    "a = test.extraction_type_class.unique()\n",
    "print a"
   ]
  },
  {
   "cell_type": "code",
   "execution_count": 47,
   "metadata": {
    "collapsed": false
   },
   "outputs": [
    {
     "name": "stdout",
     "output_type": "stream",
     "text": [
      "['never pay' 'unknown' 'pay monthly' 'pay per bucket' 'pay annually'\n",
      " 'pay when scheme fails' 'other']\n",
      "[0 1]\n"
     ]
    }
   ],
   "source": [
    "a = test.payment.unique()\n",
    "print a\n",
    "test.payment.replace(a,(0,0,1,1,1,1,0),inplace=True)\n",
    "a = test.extraction_type_class.unique()\n",
    "print a"
   ]
  },
  {
   "cell_type": "code",
   "execution_count": 49,
   "metadata": {
    "collapsed": false
   },
   "outputs": [
    {
     "name": "stdout",
     "output_type": "stream",
     "text": [
      "['soft' 'salty' 'milky' 'unknown' 'salty abandoned' 'coloured' 'fluoride'\n",
      " 'fluoride abandoned']\n",
      "[0 1]\n"
     ]
    }
   ],
   "source": [
    "a = test.water_quality.unique()\n",
    "print a\n",
    "test.water_quality.replace(a,(0,0,0,0,1,0,0,0),inplace=True)\n",
    "a = test.water_quality.unique()\n",
    "print a"
   ]
  },
  {
   "cell_type": "code",
   "execution_count": 51,
   "metadata": {
    "collapsed": false
   },
   "outputs": [
    {
     "name": "stdout",
     "output_type": "stream",
     "text": [
      "['seasonal' 'insufficient' 'dry' 'enough' 'unknown']\n",
      "[0 1]\n"
     ]
    }
   ],
   "source": [
    "a = test.quantity.unique()\n",
    "print a\n",
    "test.quantity.replace(a,(0,1,1,1,0),inplace=True)\n",
    "a = test.quantity.unique()\n",
    "print a"
   ]
  },
  {
   "cell_type": "code",
   "execution_count": 53,
   "metadata": {
    "collapsed": false
   },
   "outputs": [
    {
     "name": "stdout",
     "output_type": "stream",
     "text": [
      "['rainwater harvesting' 'spring' 'shallow well' 'machine dbh' 'river'\n",
      " 'lake' 'dam' 'hand dtw' 'unknown' 'other']\n",
      "[1 0]\n"
     ]
    }
   ],
   "source": [
    "a = test.source.unique()\n",
    "print a\n",
    "test.source.replace(a,(1,0,0,1,1,1,0,0,0,0),inplace=True)\n",
    "a = test.source.unique()\n",
    "print a"
   ]
  },
  {
   "cell_type": "code",
   "execution_count": 55,
   "metadata": {
    "collapsed": false
   },
   "outputs": [
    {
     "name": "stdout",
     "output_type": "stream",
     "text": [
      "['surface' 'groundwater' 'unknown']\n",
      "[0 1]\n"
     ]
    }
   ],
   "source": [
    "a = test.source_class.unique()\n",
    "print a\n",
    "test.source_class.replace(a,(0,1,0),inplace=True)\n",
    "a = test.source_class.unique()\n",
    "print a"
   ]
  },
  {
   "cell_type": "code",
   "execution_count": 57,
   "metadata": {
    "collapsed": false
   },
   "outputs": [
    {
     "name": "stdout",
     "output_type": "stream",
     "text": [
      "['other' 'communal standpipe' 'hand pump' 'communal standpipe multiple'\n",
      " 'improved spring' 'cattle trough' 'dam']\n",
      "[0 1]\n"
     ]
    }
   ],
   "source": [
    "a = test.waterpoint_type.unique()\n",
    "print a\n",
    "test.waterpoint_type.replace(a,(0,1,0,0,0,0,0),inplace=True)\n",
    "a = test.waterpoint_type.unique()\n",
    "print a"
   ]
  },
  {
   "cell_type": "code",
   "execution_count": 58,
   "metadata": {
    "collapsed": false,
    "scrolled": true
   },
   "outputs": [
    {
     "name": "stdout",
     "output_type": "stream",
     "text": [
      "      id  amount_tsh  gps_height  longitude   latitude  region_code  \\\n",
      "0  50785           0        1996  35.290799  -4.059696           21   \n",
      "1  51630           0        1569  36.656709  -3.309214            2   \n",
      "2  17168           0        1567  34.767863  -5.004344           13   \n",
      "3  45559           0         267  38.058046  -9.418672           80   \n",
      "4  49871         500        1260  35.006123 -10.950412           10   \n",
      "\n",
      "   district_code  population  scheme_management  water_quality  quantity  \\\n",
      "0              3         321                  0              0         0   \n",
      "1              2         300                  0              0         1   \n",
      "2              2         500                  0              0         1   \n",
      "3             43         250                  0              0         1   \n",
      "4              3          60                  0              0         1   \n",
      "\n",
      "   extraction_type_class  payment  source  source_class  waterpoint_type  \n",
      "0                      0        0       1             0                0  \n",
      "1                      1        0       0             1                1  \n",
      "2                      0        0       1             0                0  \n",
      "3                      0        0       0             1                0  \n",
      "4                      1        1       0             1                1  \n",
      " - \n",
      "          id  amount_tsh  gps_height  longitude   latitude  region_code  \\\n",
      "14845  39307           0          34  38.852669  -6.582841            6   \n",
      "14846  18990        1000           0  37.451633  -5.350428            4   \n",
      "14847  28749           0        1476  34.739804  -4.585587           13   \n",
      "14848  33492           0         998  35.432732 -10.584159           10   \n",
      "14849  68707           0         481  34.765054 -11.226012           10   \n",
      "\n",
      "       district_code  population  scheme_management  water_quality  quantity  \\\n",
      "14845              1          20                  0              0         1   \n",
      "14846              7        2960                  0              0         1   \n",
      "14847              2         200                  0              0         1   \n",
      "14848              2         150                  0              0         1   \n",
      "14849              3          40                  0              0         1   \n",
      "\n",
      "       extraction_type_class  payment  source  source_class  waterpoint_type  \n",
      "14845                      0        0       1             0                1  \n",
      "14846                      0        1       0             1                0  \n",
      "14847                      1        0       0             0                1  \n",
      "14848                      1        0       1             0                1  \n",
      "14849                      1        0       0             1                1  \n"
     ]
    }
   ],
   "source": [
    "print test.head()\n",
    "print ' - '\n",
    "print test.tail()\n"
   ]
  },
  {
   "cell_type": "code",
   "execution_count": 61,
   "metadata": {
    "collapsed": false
   },
   "outputs": [
    {
     "name": "stdout",
     "output_type": "stream",
     "text": [
      "<type 'numpy.ndarray'>\n",
      "['functional' 'functional needs repair' 'functional' ..., 'non functional'\n",
      " 'non functional' 'non functional']\n"
     ]
    }
   ],
   "source": [
    "pred = dtc.predict(test)\n",
    "\n",
    "print type(pred)\n",
    "print pred\n"
   ]
  },
  {
   "cell_type": "code",
   "execution_count": 62,
   "metadata": {
    "collapsed": false
   },
   "outputs": [
    {
     "name": "stdout",
     "output_type": "stream",
     "text": [
      "14850\n",
      "      id             status_group\n",
      "0  50785               functional\n",
      "1  51630  functional needs repair\n",
      "2  17168               functional\n",
      "3  45559           non functional\n",
      "4  49871  functional needs repair\n",
      "          id    status_group\n",
      "14845  39307      functional\n",
      "14846  18990      functional\n",
      "14847  28749  non functional\n",
      "14848  33492  non functional\n",
      "14849  68707  non functional\n"
     ]
    }
   ],
   "source": [
    "\n",
    "to_submit = []\n",
    "print len(test)\n",
    "for ind in range(len(test)):\n",
    "    ids = test.id[ind]\n",
    "    to_pred = pred[ind]\n",
    "    #print ids,' - ',to_pred\n",
    "    to_submit.append([ids,to_pred])\n",
    "    \n",
    "df_submit = pd.DataFrame(to_submit)\n",
    "df_submit.columns = ['id','status_group']\n",
    "print df_submit.head()\n",
    "print df_submit.tail()\n",
    "\n",
    "df_submit.to_csv('/Users/martinrasumoff/submission_4.csv', sep=',', index=False)\n"
   ]
  },
  {
   "cell_type": "code",
   "execution_count": null,
   "metadata": {
    "collapsed": true
   },
   "outputs": [],
   "source": [
    "'''\n",
    "sklearn.featureselection.VarianceThresholds\n",
    "'''"
   ]
  }
 ],
 "metadata": {
  "kernelspec": {
   "display_name": "Python 2",
   "language": "python",
   "name": "python2"
  },
  "language_info": {
   "codemirror_mode": {
    "name": "ipython",
    "version": 2
   },
   "file_extension": ".py",
   "mimetype": "text/x-python",
   "name": "python",
   "nbconvert_exporter": "python",
   "pygments_lexer": "ipython2",
   "version": "2.7.10"
  }
 },
 "nbformat": 4,
 "nbformat_minor": 0
}
