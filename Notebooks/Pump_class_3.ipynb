{
 "cells": [
  {
   "cell_type": "code",
   "execution_count": 1,
   "metadata": {
    "collapsed": false,
    "scrolled": true
   },
   "outputs": [
    {
     "name": "stdout",
     "output_type": "stream",
     "text": [
      "      id           label\n",
      "0  69572      functional\n",
      "1   8776      functional\n",
      "2  34310      functional\n",
      "3  67743  non functional\n",
      "4  19728      functional\n",
      "          id       label\n",
      "59395  60739  functional\n",
      "59396  27263  functional\n",
      "59397  37057  functional\n",
      "59398  31282  functional\n",
      "59399  26348  functional\n"
     ]
    }
   ],
   "source": [
    "import psycopg2\n",
    "import pandas as pd\n",
    "from sklearn.cross_validation import train_test_split\n",
    "\n",
    "def load_labels():\n",
    "    db = psycopg2.connect(database='martinrasumoff')\n",
    "    cursor = db.cursor()\n",
    "\n",
    "    #Loading Labels\n",
    "    cursor.execute(\"select * from labels_water_pumps;\")\n",
    "    list_labels = cursor.fetchall()\n",
    "\n",
    "    series_labels = pd.DataFrame(list_labels)\n",
    "\n",
    "    return series_labels\n",
    "\n",
    "df_labels = load_labels()\n",
    "\n",
    "df_labels.columns = ['id','label']\n",
    "\n",
    "print df_labels.head()\n",
    "print df_labels.tail()"
   ]
  },
  {
   "cell_type": "code",
   "execution_count": 2,
   "metadata": {
    "collapsed": false,
    "scrolled": true
   },
   "outputs": [
    {
     "name": "stdout",
     "output_type": "stream",
     "text": [
      "      id  amount_tsh date_recorded        funder  gps_height     installer  \\\n",
      "0  69572        6000    2011-03-14         Roman        1390         Roman   \n",
      "1   8776           0    2013-03-06       Grumeti        1399       GRUMETI   \n",
      "2  34310          25    2013-02-25  Lottery Club         686  World vision   \n",
      "3  67743           0    2013-01-28        Unicef         263        UNICEF   \n",
      "4  19728           0    2011-07-13   Action In A           0       Artisan   \n",
      "\n",
      "   longitude   latitude              wpt_name num_private  \\\n",
      "0  34.938093  -9.856322                  none           0   \n",
      "1  34.698766  -2.147466              Zahanati           0   \n",
      "2  37.460664  -3.821329           Kwa Mahundi           0   \n",
      "3  38.486161 -11.155298  Zahanati Ya Nanyumbu           0   \n",
      "4  31.130847  -1.825359               Shuleni           0   \n",
      "\n",
      "           ...          payment_type water_quality quality_group  \\\n",
      "0          ...              annually          soft          good   \n",
      "1          ...             never pay          soft          good   \n",
      "2          ...            per bucket          soft          good   \n",
      "3          ...             never pay          soft          good   \n",
      "4          ...             never pay          soft          good   \n",
      "\n",
      "       quantity  quantity_group                source           source_type  \\\n",
      "0        enough          enough                spring                spring   \n",
      "1  insufficient    insufficient  rainwater harvesting  rainwater harvesting   \n",
      "2        enough          enough                   dam                   dam   \n",
      "3           dry             dry           machine dbh              borehole   \n",
      "4      seasonal        seasonal  rainwater harvesting  rainwater harvesting   \n",
      "\n",
      "   source_class              waterpoint_type waterpoint_type_group  \n",
      "0   groundwater           communal standpipe    communal standpipe  \n",
      "1       surface           communal standpipe    communal standpipe  \n",
      "2       surface  communal standpipe multiple    communal standpipe  \n",
      "3   groundwater  communal standpipe multiple    communal standpipe  \n",
      "4       surface           communal standpipe    communal standpipe  \n",
      "\n",
      "[5 rows x 40 columns]\n",
      "          id  amount_tsh date_recorded           funder  gps_height installer  \\\n",
      "59395  60739          10    2013-05-03  Germany Republi        1210       CES   \n",
      "59396  27263        4700    2011-05-07      Cefa-njombe        1212      Cefa   \n",
      "59397  37057           0    2011-04-11             None           0      None   \n",
      "59398  31282           0    2011-03-08            Malec           0      Musa   \n",
      "59399  26348           0    2011-03-23       World Bank         191     World   \n",
      "\n",
      "       longitude  latitude             wpt_name num_private  \\\n",
      "59395  37.169807 -3.253847  Area Three Namba 27           0   \n",
      "59396  35.249991 -9.070629    Kwa Yahona Kuvala           0   \n",
      "59397  34.017087 -8.750434              Mashine           0   \n",
      "59398  35.861315 -6.378573               Mshoro           0   \n",
      "59399  38.104048 -6.747464      Kwa Mzee Lugawa           0   \n",
      "\n",
      "               ...          payment_type water_quality quality_group  \\\n",
      "59395          ...            per bucket          soft          good   \n",
      "59396          ...              annually          soft          good   \n",
      "59397          ...               monthly      fluoride      fluoride   \n",
      "59398          ...             never pay          soft          good   \n",
      "59399          ...            on failure         salty         salty   \n",
      "\n",
      "           quantity  quantity_group        source   source_type  source_class  \\\n",
      "59395        enough          enough        spring        spring   groundwater   \n",
      "59396        enough          enough         river    river/lake       surface   \n",
      "59397        enough          enough   machine dbh      borehole   groundwater   \n",
      "59398  insufficient    insufficient  shallow well  shallow well   groundwater   \n",
      "59399        enough          enough  shallow well  shallow well   groundwater   \n",
      "\n",
      "          waterpoint_type waterpoint_type_group  \n",
      "59395  communal standpipe    communal standpipe  \n",
      "59396  communal standpipe    communal standpipe  \n",
      "59397           hand pump             hand pump  \n",
      "59398           hand pump             hand pump  \n",
      "59399           hand pump             hand pump  \n",
      "\n",
      "[5 rows x 40 columns]\n"
     ]
    }
   ],
   "source": [
    "\n",
    "def load_wells():\n",
    "    db = psycopg2.connect(database='martinrasumoff')\n",
    "    cursor = db.cursor()\n",
    "\n",
    "    #Loading Pump Data\n",
    "    cursor.execute(\"select * from water_pumps;\")\n",
    "    list_pumps = cursor.fetchall()\n",
    "\n",
    "    #Converting wells data into a pandas Data Frame\n",
    "    df_pumps = pd.DataFrame(list_pumps)\n",
    "\n",
    "    return df_pumps\n",
    "\n",
    "df_data = load_wells()\n",
    "\n",
    "df_data.columns = ['id','amount_tsh',\n",
    "                    'date_recorded',\n",
    "                    'funder',\n",
    "                    'gps_height',\n",
    "                    'installer',\n",
    "                    'longitude',\n",
    "                    'latitude',\n",
    "                    'wpt_name',\n",
    "                    'num_private',\n",
    "                    'basin',\n",
    "                    'subvillage',\n",
    "                    'region',\n",
    "                    'region_code',\n",
    "                    'district_code',\n",
    "                    'lga',\n",
    "                    'ward',\n",
    "                    'population',\n",
    "                    'public_meeting',\n",
    "                    'recorded_by',\n",
    "                    'scheme_management',\n",
    "                    'scheme_name',\n",
    "                    'permit',\n",
    "                    'construction_year',\n",
    "                    'extraction_type',\n",
    "                    'extraction_type_group',\n",
    "                    'extraction_type_class',\n",
    "                    'management',\n",
    "                    'management_group',\n",
    "                    'payment',\n",
    "                    'payment_type',\n",
    "                    'water_quality',\n",
    "                    'quality_group',\n",
    "                    'quantity',\n",
    "                    'quantity_group',\n",
    "                    'source',\n",
    "                    'source_type',\n",
    "                    'source_class',\n",
    "                    'waterpoint_type',\n",
    "                    'waterpoint_type_group']\n",
    "\n",
    "print df_data.head()\n",
    "print df_data.tail()"
   ]
  },
  {
   "cell_type": "code",
   "execution_count": 3,
   "metadata": {
    "collapsed": false
   },
   "outputs": [
    {
     "name": "stdout",
     "output_type": "stream",
     "text": [
      "      id           label\n",
      "0  69572      functional\n",
      "1   8776      functional\n",
      "2  34310      functional\n",
      "3  67743  non functional\n",
      "4  19728      functional\n",
      "          id       label\n",
      "59395  60739  functional\n",
      "59396  27263  functional\n",
      "59397  37057  functional\n",
      "59398  31282  functional\n",
      "59399  26348  functional\n"
     ]
    }
   ],
   "source": [
    "df_labels = load_labels()\n",
    "\n",
    "df_labels.columns = ['id','label']\n",
    "\n",
    "print df_labels.head()\n",
    "print df_labels.tail()"
   ]
  },
  {
   "cell_type": "code",
   "execution_count": 4,
   "metadata": {
    "collapsed": false
   },
   "outputs": [
    {
     "name": "stdout",
     "output_type": "stream",
     "text": [
      "       id           label\n",
      "9410    0  non functional\n",
      "18428   1      functional\n",
      "12119   2      functional\n",
      "10629   3      functional\n",
      "2343    4  non functional\n",
      "          id           label\n",
      "15137  74240      functional\n",
      "8667   74242      functional\n",
      "22584  74243  non functional\n",
      "108    74246  non functional\n",
      "39131  74247  non functional\n"
     ]
    }
   ],
   "source": [
    "df_labels = df_labels.sort(['id'])\n",
    "\n",
    "print df_labels.head()\n",
    "print df_labels.tail()"
   ]
  },
  {
   "cell_type": "code",
   "execution_count": 5,
   "metadata": {
    "collapsed": false,
    "scrolled": true
   },
   "outputs": [],
   "source": [
    "df_data = load_wells()\n",
    "\n",
    "df_data.columns = ['id','amount_tsh',\n",
    "                    'date_recorded',\n",
    "                    'funder',\n",
    "                    'gps_height',\n",
    "                    'installer',\n",
    "                    'longitude',\n",
    "                    'latitude',\n",
    "                    'wpt_name',\n",
    "                    'num_private',\n",
    "                    'basin',\n",
    "                    'subvillage',\n",
    "                    'region',\n",
    "                    'region_code',\n",
    "                    'district_code',\n",
    "                    'lga',\n",
    "                    'ward',\n",
    "                    'population',\n",
    "                    'public_meeting',\n",
    "                    'recorded_by',\n",
    "                    'scheme_management',\n",
    "                    'scheme_name',\n",
    "                    'permit',\n",
    "                    'construction_year',\n",
    "                    'extraction_type',\n",
    "                    'extraction_type_group',\n",
    "                    'extraction_type_class',\n",
    "                    'management',\n",
    "                    'management_group',\n",
    "                    'payment',\n",
    "                    'payment_type',\n",
    "                    'water_quality',\n",
    "                    'quality_group',\n",
    "                    'quantity',\n",
    "                    'quantity_group',\n",
    "                    'source',\n",
    "                    'source_type',\n",
    "                    'source_class',\n",
    "                    'waterpoint_type',\n",
    "                    'waterpoint_type_group']\n",
    "\n",
    "\n",
    "\n"
   ]
  },
  {
   "cell_type": "code",
   "execution_count": 6,
   "metadata": {
    "collapsed": false,
    "scrolled": true
   },
   "outputs": [
    {
     "name": "stdout",
     "output_type": "stream",
     "text": [
      "      id  amount_tsh date_recorded        funder  gps_height     installer  \\\n",
      "0  69572        6000    2011-03-14         Roman        1390         Roman   \n",
      "1   8776           0    2013-03-06       Grumeti        1399       GRUMETI   \n",
      "2  34310          25    2013-02-25  Lottery Club         686  World vision   \n",
      "3  67743           0    2013-01-28        Unicef         263        UNICEF   \n",
      "4  19728           0    2011-07-13   Action In A           0       Artisan   \n",
      "\n",
      "   longitude   latitude              wpt_name num_private  \\\n",
      "0  34.938093  -9.856322                  none           0   \n",
      "1  34.698766  -2.147466              Zahanati           0   \n",
      "2  37.460664  -3.821329           Kwa Mahundi           0   \n",
      "3  38.486161 -11.155298  Zahanati Ya Nanyumbu           0   \n",
      "4  31.130847  -1.825359               Shuleni           0   \n",
      "\n",
      "           ...          payment_type water_quality quality_group  \\\n",
      "0          ...              annually          soft          good   \n",
      "1          ...             never pay          soft          good   \n",
      "2          ...            per bucket          soft          good   \n",
      "3          ...             never pay          soft          good   \n",
      "4          ...             never pay          soft          good   \n",
      "\n",
      "       quantity  quantity_group                source           source_type  \\\n",
      "0        enough          enough                spring                spring   \n",
      "1  insufficient    insufficient  rainwater harvesting  rainwater harvesting   \n",
      "2        enough          enough                   dam                   dam   \n",
      "3           dry             dry           machine dbh              borehole   \n",
      "4      seasonal        seasonal  rainwater harvesting  rainwater harvesting   \n",
      "\n",
      "   source_class              waterpoint_type waterpoint_type_group  \n",
      "0   groundwater           communal standpipe    communal standpipe  \n",
      "1       surface           communal standpipe    communal standpipe  \n",
      "2       surface  communal standpipe multiple    communal standpipe  \n",
      "3   groundwater  communal standpipe multiple    communal standpipe  \n",
      "4       surface           communal standpipe    communal standpipe  \n",
      "\n",
      "[5 rows x 40 columns]\n"
     ]
    }
   ],
   "source": [
    "print df_data.head()"
   ]
  },
  {
   "cell_type": "code",
   "execution_count": 6,
   "metadata": {
    "collapsed": false,
    "scrolled": true
   },
   "outputs": [
    {
     "name": "stdout",
     "output_type": "stream",
     "text": [
      "      id  amount_tsh date_recorded        funder  gps_height     installer  \\\n",
      "0  69572        6000    2011-03-14         Roman        1390         Roman   \n",
      "1   8776           0    2013-03-06       Grumeti        1399       GRUMETI   \n",
      "2  34310          25    2013-02-25  Lottery Club         686  World vision   \n",
      "3  67743           0    2013-01-28        Unicef         263        UNICEF   \n",
      "4  19728           0    2011-07-13   Action In A           0       Artisan   \n",
      "\n",
      "   longitude   latitude              wpt_name num_private  \\\n",
      "0  34.938093  -9.856322                  none           0   \n",
      "1  34.698766  -2.147466              Zahanati           0   \n",
      "2  37.460664  -3.821329           Kwa Mahundi           0   \n",
      "3  38.486161 -11.155298  Zahanati Ya Nanyumbu           0   \n",
      "4  31.130847  -1.825359               Shuleni           0   \n",
      "\n",
      "           ...           payment_type water_quality quality_group  quantity  \\\n",
      "0          ...               annually             0          good         0   \n",
      "1          ...              never pay             0          good         1   \n",
      "2          ...             per bucket             0          good         0   \n",
      "3          ...              never pay             0          good         2   \n",
      "4          ...              never pay             0          good         3   \n",
      "\n",
      "   quantity_group source           source_type  source_class waterpoint_type  \\\n",
      "0          enough      0                spring             0               0   \n",
      "1    insufficient      1  rainwater harvesting             1               0   \n",
      "2          enough      2                   dam             1               1   \n",
      "3             dry      3              borehole             0               1   \n",
      "4        seasonal      1  rainwater harvesting             1               0   \n",
      "\n",
      "  waterpoint_type_group  \n",
      "0    communal standpipe  \n",
      "1    communal standpipe  \n",
      "2    communal standpipe  \n",
      "3    communal standpipe  \n",
      "4    communal standpipe  \n",
      "\n",
      "[5 rows x 40 columns]\n",
      "          id  amount_tsh date_recorded           funder  gps_height installer  \\\n",
      "59395  60739          10    2013-05-03  Germany Republi        1210       CES   \n",
      "59396  27263        4700    2011-05-07      Cefa-njombe        1212      Cefa   \n",
      "59397  37057           0    2011-04-11             None           0      None   \n",
      "59398  31282           0    2011-03-08            Malec           0      Musa   \n",
      "59399  26348           0    2011-03-23       World Bank         191     World   \n",
      "\n",
      "       longitude  latitude             wpt_name num_private  \\\n",
      "59395  37.169807 -3.253847  Area Three Namba 27           0   \n",
      "59396  35.249991 -9.070629    Kwa Yahona Kuvala           0   \n",
      "59397  34.017087 -8.750434              Mashine           0   \n",
      "59398  35.861315 -6.378573               Mshoro           0   \n",
      "59399  38.104048 -6.747464      Kwa Mzee Lugawa           0   \n",
      "\n",
      "               ...           payment_type water_quality quality_group  \\\n",
      "59395          ...             per bucket             0          good   \n",
      "59396          ...               annually             0          good   \n",
      "59397          ...                monthly             4      fluoride   \n",
      "59398          ...              never pay             0          good   \n",
      "59399          ...             on failure             1         salty   \n",
      "\n",
      "       quantity  quantity_group source   source_type  source_class  \\\n",
      "59395         0          enough      0        spring             0   \n",
      "59396         0          enough      6    river/lake             1   \n",
      "59397         0          enough      3      borehole             0   \n",
      "59398         1    insufficient      5  shallow well             0   \n",
      "59399         0          enough      5  shallow well             0   \n",
      "\n",
      "      waterpoint_type waterpoint_type_group  \n",
      "59395               0    communal standpipe  \n",
      "59396               0    communal standpipe  \n",
      "59397               2             hand pump  \n",
      "59398               2             hand pump  \n",
      "59399               2             hand pump  \n",
      "\n",
      "[5 rows x 40 columns]\n"
     ]
    }
   ],
   "source": [
    "a = df_data.basin.unique()\n",
    "df_data.basin.replace(a,(1,2,3,4,5,6,7,8,9),inplace=True)\n",
    "\n",
    "b = df_data.scheme_management.unique()\n",
    "df_data.scheme_management.replace(b,range(len(b)),inplace=True)\n",
    "\n",
    "c = df_data.extraction_type_class.unique()\n",
    "df_data.extraction_type_class.replace(c,range(len(c)),inplace=True)\n",
    "\n",
    "d = df_data.management_group.unique()\n",
    "df_data.management_group.replace(d,range(len(d)),inplace=True)\n",
    "\n",
    "e = df_data.payment.unique()\n",
    "df_data.payment.replace(e,range(len(e)),inplace=True)\n",
    "\n",
    "f = df_data.water_quality.unique()\n",
    "df_data.water_quality.replace(f,range(len(f)),inplace=True)\n",
    "\n",
    "g = df_data.quantity.unique()\n",
    "df_data.quantity.replace(g,range(len(g)),inplace=True)\n",
    "\n",
    "h = df_data.source.unique()\n",
    "df_data.source.replace(h,range(len(h)),inplace=True)\n",
    "\n",
    "i = df_data.source_class.unique()\n",
    "df_data.source_class.replace(i,range(len(i)),inplace=True)\n",
    "\n",
    "j = df_data.waterpoint_type.unique()\n",
    "df_data.waterpoint_type.replace(j,range(len(j)),inplace=True)\n",
    "\n",
    "print df_data.head()\n",
    "print df_data.tail()\n"
   ]
  },
  {
   "cell_type": "code",
   "execution_count": 7,
   "metadata": {
    "collapsed": false,
    "scrolled": true
   },
   "outputs": [
    {
     "ename": "NameError",
     "evalue": "name 'num_basin' is not defined",
     "output_type": "error",
     "traceback": [
      "\u001b[0;31m---------------------------------------------------------------------------\u001b[0m",
      "\u001b[0;31mNameError\u001b[0m                                 Traceback (most recent call last)",
      "\u001b[0;32m<ipython-input-7-f10996341356>\u001b[0m in \u001b[0;36m<module>\u001b[0;34m()\u001b[0m\n\u001b[0;32m----> 1\u001b[0;31m \u001b[0mdf_data\u001b[0m \u001b[0;34m=\u001b[0m \u001b[0mpd\u001b[0m\u001b[0;34m.\u001b[0m\u001b[0mconcat\u001b[0m\u001b[0;34m(\u001b[0m\u001b[0;34m[\u001b[0m\u001b[0mdf_data\u001b[0m\u001b[0;34m,\u001b[0m\u001b[0mnum_basin\u001b[0m\u001b[0;34m,\u001b[0m\u001b[0mnum_schm_mgmnt\u001b[0m\u001b[0;34m,\u001b[0m\u001b[0mextraction_type\u001b[0m\u001b[0;34m,\u001b[0m\u001b[0mmanag_grp\u001b[0m\u001b[0;34m,\u001b[0m\u001b[0mpaym\u001b[0m\u001b[0;34m,\u001b[0m\u001b[0mwtr_qlty\u001b[0m\u001b[0;34m,\u001b[0m\u001b[0mqty\u001b[0m\u001b[0;34m,\u001b[0m\u001b[0msrc\u001b[0m\u001b[0;34m,\u001b[0m\u001b[0msrc_class\u001b[0m                    \u001b[0;34m,\u001b[0m\u001b[0mwtr_type\u001b[0m\u001b[0;34m]\u001b[0m\u001b[0;34m,\u001b[0m \u001b[0maxis\u001b[0m\u001b[0;34m=\u001b[0m\u001b[0;36m1\u001b[0m\u001b[0;34m)\u001b[0m\u001b[0;34m\u001b[0m\u001b[0m\n\u001b[0m\u001b[1;32m      2\u001b[0m \u001b[0;34m\u001b[0m\u001b[0m\n\u001b[1;32m      3\u001b[0m \u001b[0;32mprint\u001b[0m \u001b[0mdf_data\u001b[0m\u001b[0;34m.\u001b[0m\u001b[0mhead\u001b[0m\u001b[0;34m(\u001b[0m\u001b[0;34m)\u001b[0m\u001b[0;34m\u001b[0m\u001b[0m\n\u001b[1;32m      4\u001b[0m \u001b[0;32mprint\u001b[0m \u001b[0mdf_data\u001b[0m\u001b[0;34m.\u001b[0m\u001b[0mtail\u001b[0m\u001b[0;34m(\u001b[0m\u001b[0;34m)\u001b[0m\u001b[0;34m\u001b[0m\u001b[0m\n",
      "\u001b[0;31mNameError\u001b[0m: name 'num_basin' is not defined"
     ]
    }
   ],
   "source": [
    "df_data = pd.concat([df_data,num_basin,num_schm_mgmnt,extraction_type,manag_grp,paym,wtr_qlty,qty,src,src_class\\\n",
    "                    ,wtr_type], axis=1)\n",
    "\n",
    "print df_data.head()\n",
    "print df_data.tail()"
   ]
  },
  {
   "cell_type": "code",
   "execution_count": 8,
   "metadata": {
    "collapsed": false,
    "scrolled": true
   },
   "outputs": [
    {
     "name": "stdout",
     "output_type": "stream",
     "text": [
      "       id  amount_tsh date_recorded           funder  gps_height installer  \\\n",
      "9425    0           0    2012-11-13            Tasaf           0     TASAF   \n",
      "18440   1           0    2011-03-05            Shipo        1978     SHIPO   \n",
      "12134   2           0    2011-03-27             Lvia           0      LVIA   \n",
      "10644   3          10    2013-06-03  Germany Republi        1639       CES   \n",
      "2350    4           0    2011-03-22             Cmsr           0      CMSR   \n",
      "\n",
      "       longitude  latitude        wpt_name num_private          ...           \\\n",
      "9425   33.125828 -5.118154         Mratibu           0          ...            \n",
      "18440  34.770717 -9.395642            none           0          ...            \n",
      "12134  36.115056 -6.279268         Bombani           0          ...            \n",
      "10644  37.147432 -3.187555  Area 7 Namba 5           0          ...            \n",
      "2350   36.164893 -6.099289         Ezeleda           0          ...            \n",
      "\n",
      "       payment_type water_quality quality_group  quantity  quantity_group  \\\n",
      "9425        unknown             2         milky         0          enough   \n",
      "18440     never pay             0          good         0          enough   \n",
      "12134    per bucket             0          good         1    insufficient   \n",
      "10644    per bucket             0          good         0          enough   \n",
      "2350        unknown             0          good         2             dry   \n",
      "\n",
      "      source   source_type  source_class waterpoint_type waterpoint_type_group  \n",
      "9425       5  shallow well             0               2             hand pump  \n",
      "18440      5  shallow well             0               2             hand pump  \n",
      "12134      3      borehole             0               1    communal standpipe  \n",
      "10644      0        spring             0               0    communal standpipe  \n",
      "2350       5  shallow well             0               2             hand pump  \n",
      "\n",
      "[5 rows x 40 columns]\n",
      "          id  amount_tsh date_recorded             funder  gps_height  \\\n",
      "15151  74240           0    2013-03-22       World Vision        1183   \n",
      "8682   74242           0    2011-04-12             Danida           0   \n",
      "22597  74243           0    2012-11-13  Ministry Of Water        1188   \n",
      "108    74246          50    2011-03-07              Ruthe        1428   \n",
      "39138  74247          50    2013-02-16            Mission         965   \n",
      "\n",
      "          installer  longitude   latitude               wpt_name num_private  \\\n",
      "15151  World vision  37.007726  -3.280868  Upendo Primary School           0   \n",
      "8682         DANIDA  33.724987  -8.940758            Kwa Mvulula           0   \n",
      "22597        Hesawa  33.963539  -1.429477      Kwa Wambura Msege           0   \n",
      "108           Ruthe  35.630481  -7.710549                   none           0   \n",
      "39138           DWE  35.432998 -10.639270            Kwa Mapunda           0   \n",
      "\n",
      "               ...           payment_type water_quality quality_group  \\\n",
      "15151          ...                unknown             0          good   \n",
      "8682           ...             on failure             0          good   \n",
      "22597          ...              never pay             0          good   \n",
      "108            ...             per bucket             0          good   \n",
      "39138          ...             per bucket             0          good   \n",
      "\n",
      "       quantity  quantity_group source           source_type  source_class  \\\n",
      "15151         1    insufficient      1  rainwater harvesting             1   \n",
      "8682          0          enough      6            river/lake             1   \n",
      "22597         0          enough      8            river/lake             1   \n",
      "108           2             dry      0                spring             0   \n",
      "39138         2             dry      6            river/lake             1   \n",
      "\n",
      "      waterpoint_type waterpoint_type_group  \n",
      "15151               0    communal standpipe  \n",
      "8682                0    communal standpipe  \n",
      "22597               1    communal standpipe  \n",
      "108                 0    communal standpipe  \n",
      "39138               0    communal standpipe  \n",
      "\n",
      "[5 rows x 40 columns]\n"
     ]
    }
   ],
   "source": [
    "df_data = df_data.sort(['id'])\n",
    "\n",
    "print df_data.head()\n",
    "print df_data.tail()"
   ]
  },
  {
   "cell_type": "code",
   "execution_count": 9,
   "metadata": {
    "collapsed": false
   },
   "outputs": [
    {
     "name": "stdout",
     "output_type": "stream",
     "text": [
      "       id           label\n",
      "9410    0  non functional\n",
      "18428   1      functional\n",
      "12119   2      functional\n",
      "10629   3      functional\n",
      "2343    4  non functional\n",
      "          id           label\n",
      "15137  74240      functional\n",
      "8667   74242      functional\n",
      "22584  74243  non functional\n",
      "108    74246  non functional\n",
      "39131  74247  non functional\n"
     ]
    }
   ],
   "source": [
    "df_labels = df_labels.sort(['id'])\n",
    "\n",
    "print df_labels.head()\n",
    "print df_labels.tail()"
   ]
  },
  {
   "cell_type": "code",
   "execution_count": 10,
   "metadata": {
    "collapsed": false,
    "scrolled": true
   },
   "outputs": [
    {
     "name": "stdout",
     "output_type": "stream",
     "text": [
      "       id  amount_tsh  gps_height  longitude  latitude  region_code  \\\n",
      "9425    0           0           0  33.125828 -5.118154           14   \n",
      "18440   1           0        1978  34.770717 -9.395642           11   \n",
      "12134   2           0           0  36.115056 -6.279268            1   \n",
      "10644   3          10        1639  37.147432 -3.187555            3   \n",
      "2350    4           0           0  36.164893 -6.099289            1   \n",
      "\n",
      "       district_code  population  basin  scheme_management  \\\n",
      "9425               3           0      6                  0   \n",
      "18440              4          20      8                  2   \n",
      "12134              4           0      7                  0   \n",
      "10644              5          25      3                  5   \n",
      "2350               4           0      7                  0   \n",
      "\n",
      "       extraction_type_class  management_group  payment  water_quality  \\\n",
      "9425                       2                 0        3              2   \n",
      "18440                      6                 0        1              0   \n",
      "12134                      4                 0        2              0   \n",
      "10644                      0                 0        2              0   \n",
      "2350                       2                 0        3              0   \n",
      "\n",
      "       quantity  source  source_class  waterpoint_type  \n",
      "9425          0       5             0                2  \n",
      "18440         0       5             0                2  \n",
      "12134         1       3             0                1  \n",
      "10644         0       0             0                0  \n",
      "2350          2       5             0                2  \n",
      "-\n",
      "          id  amount_tsh  gps_height  longitude      latitude  region_code  \\\n",
      "19264  42628           0        1365  34.570084 -8.838753e+00           11   \n",
      "1374   26072           0        1481  34.051321 -1.906929e+00           20   \n",
      "32863   7782           0         831  29.696167 -4.918685e+00           16   \n",
      "29904   9186           0         405  38.680427 -1.074818e+01           90   \n",
      "57115  46261           0           0   0.000000 -2.000000e-08           17   \n",
      "\n",
      "       district_code  population  basin  scheme_management  \\\n",
      "19264              4          52      8                  6   \n",
      "1374               4         250      2                  4   \n",
      "32863              4           0      6                  1   \n",
      "29904             33           1      4                  0   \n",
      "57115              1           0      2                  4   \n",
      "\n",
      "       extraction_type_class  management_group  payment  water_quality  \\\n",
      "19264                      0                 0        4              0   \n",
      "1374                       3                 0        3              0   \n",
      "32863                      3                 1        1              0   \n",
      "29904                      3                 0        3              0   \n",
      "57115                      2                 0        3              0   \n",
      "\n",
      "       quantity  source  source_class  waterpoint_type  \n",
      "19264         2       6             1                0  \n",
      "1374          2       5             0                3  \n",
      "32863         2       8             1                1  \n",
      "29904         2       5             0                3  \n",
      "57115         0       5             0                2  \n",
      "-\n",
      "          id           label\n",
      "19254  42628  non functional\n",
      "1372   26072  non functional\n",
      "32855   7782  non functional\n",
      "29894   9186  non functional\n",
      "57114  46261      functional\n",
      "-\n",
      "          id  amount_tsh  gps_height  longitude   latitude  region_code  \\\n",
      "52571  71411          50         939  35.446667 -10.655548           10   \n",
      "29015  63145           0        1345  37.224340  -5.526287           21   \n",
      "7088   64733           0        1565  37.515046  -3.267608            3   \n",
      "9356   63154           0           0  33.902788  -9.479350           12   \n",
      "54253  65389        1000        1506  34.700600  -5.055693           13   \n",
      "\n",
      "       district_code  population  basin  scheme_management  \\\n",
      "52571              2           0      4                  0   \n",
      "29015              5           1      3                  0   \n",
      "7088               4          65      3                  0   \n",
      "9356               3           0      1                  0   \n",
      "54253              2         150      5                  0   \n",
      "\n",
      "       extraction_type_class  management_group  payment  water_quality  \\\n",
      "52571                      3                 0        2              0   \n",
      "29015                      0                 0        1              0   \n",
      "7088                       0                 0        1              0   \n",
      "9356                       0                 0        6              0   \n",
      "54253                      2                 0        0              0   \n",
      "\n",
      "       quantity  source  source_class  waterpoint_type  \n",
      "52571         2       6             1                0  \n",
      "29015         1       1             1                0  \n",
      "7088          0       0             0                0  \n",
      "9356          0       0             0                0  \n",
      "54253         1       5             0                2  \n",
      "-\n",
      "          id                    label\n",
      "52567  71411           non functional\n",
      "29005  63145               functional\n",
      "7073   64733  functional needs repair\n",
      "9341   63154               functional\n",
      "54253  65389               functional\n"
     ]
    }
   ],
   "source": [
    "df_data = df_data[['id','amount_tsh','gps_height','longitude','latitude','region_code','district_code','population',\\\n",
    "                  'basin','scheme_management','extraction_type_class','management_group','payment','water_quality',\\\n",
    "                  'quantity','source','source_class','waterpoint_type']]\n",
    "\n",
    "print df_data.head()\n",
    "\n",
    "X_pumps_train, X_pumps_test, y_pumps_train, y_pumps_test = train_test_split(df_data, df_labels, test_size=0.25, random_state=79)\n",
    "\n",
    "print '-'\n",
    "print X_pumps_train.head()\n",
    "print '-'\n",
    "print y_pumps_train.head()\n",
    "print '-'\n",
    "print X_pumps_test.head()\n",
    "print '-'\n",
    "print y_pumps_test.head()\n",
    "\n"
   ]
  },
  {
   "cell_type": "code",
   "execution_count": 11,
   "metadata": {
    "collapsed": true
   },
   "outputs": [],
   "source": [
    "import pylab as pl\n",
    "import numpy as np\n",
    "import statsmodels.api as sm\n",
    "from sklearn.neighbors import KNeighborsClassifier\n",
    "from sklearn.metrics import accuracy_score\n",
    "from sklearn.cross_validation import train_test_split\n",
    "from sklearn.linear_model import LogisticRegression\n",
    "from sklearn.metrics import precision_score\n",
    "from sklearn.metrics import recall_score\n",
    "from sklearn.metrics import f1_score\n",
    "from sklearn.metrics import precision_recall_fscore_support"
   ]
  },
  {
   "cell_type": "code",
   "execution_count": 12,
   "metadata": {
    "collapsed": false
   },
   "outputs": [
    {
     "name": "stdout",
     "output_type": "stream",
     "text": [
      "Neighbors: 1, Accuracy: 0.484714\n",
      "Neighbors: 2, Accuracy: 0.519327\n"
     ]
    },
    {
     "data": {
      "image/png": "[encoded data removed]",
      "text/plain": [
       "<matplotlib.figure.Figure at 0x114d21090>"
      ]
     },
     "metadata": {},
     "output_type": "display_data"
    }
   ],
   "source": [
    "%matplotlib inline\n",
    "\n",
    "results = []\n",
    "\n",
    "for n in range(1, 3):\n",
    "    clf = KNeighborsClassifier(n_neighbors=n)\n",
    "\n",
    "    knn = clf.fit(X_pumps_train, y_pumps_train)\n",
    "    preds = clf.predict(X_pumps_test)\n",
    "    accuracy = np.where(preds==y_pumps_test, 1, 0).sum() / float(len(y_pumps_test))\n",
    "\n",
    "    print \"Neighbors: %d, Accuracy: %3f\" % (n, accuracy)\n",
    "\n",
    "    results.append([n, accuracy])\n",
    "\n",
    "\n",
    "results = pd.DataFrame(results, columns=[\"n\", \"accuracy\"])\n",
    "\n",
    "for_later = results\n",
    "\n",
    "pl.plot(results.n, results.accuracy)\n",
    "pl.title(\"Accuracy with Increasing K\")\n",
    "pl.show()"
   ]
  },
  {
   "cell_type": "code",
   "execution_count": 13,
   "metadata": {
    "collapsed": false
   },
   "outputs": [
    {
     "name": "stdout",
     "output_type": "stream",
     "text": [
      "                label\n",
      "19254  non functional\n",
      "1372   non functional\n",
      "32855  non functional\n",
      "29894  non functional\n",
      "57114      functional\n",
      "Logistic Regression Score: 0.628013468013\n"
     ]
    },
    {
     "name": "stderr",
     "output_type": "stream",
     "text": [
      "//anaconda/lib/python2.7/site-packages/sklearn/utils/validation.py:449: DataConversionWarning: A column-vector y was passed when a 1d array was expected. Please change the shape of y to (n_samples, ), for example using ravel().\n",
      "  y = column_or_1d(y, warn=True)\n"
     ]
    }
   ],
   "source": [
    "X_pumps_train, X_pumps_test, y_pumps_train, y_pumps_test = train_test_split(df_data, df_labels, test_size=0.25, random_state=79)\n",
    "\n",
    "y_pumps_train = y_pumps_train[['label']]\n",
    "print y_pumps_train.head()\n",
    "\n",
    "logreg = LogisticRegression()\n",
    "\n",
    "logreg.fit(X_pumps_train, y_pumps_train)\n",
    "\n",
    "a = logreg.predict(X_pumps_test)\n",
    "\n",
    "# fit the model\n",
    "result = logreg.score(X_pumps_test, y_pumps_test[['label']])\n",
    "\n",
    "print 'Logistic Regression Score:',str(result)\n"
   ]
  },
  {
   "cell_type": "code",
   "execution_count": 14,
   "metadata": {
    "collapsed": false
   },
   "outputs": [
    {
     "name": "stdout",
     "output_type": "stream",
     "text": [
      "Gaussian Regression Score: 0.572457912458\n"
     ]
    },
    {
     "name": "stderr",
     "output_type": "stream",
     "text": [
      "//anaconda/lib/python2.7/site-packages/sklearn/utils/validation.py:449: DataConversionWarning: A column-vector y was passed when a 1d array was expected. Please change the shape of y to (n_samples, ), for example using ravel().\n",
      "  y = column_or_1d(y, warn=True)\n"
     ]
    }
   ],
   "source": [
    "from sklearn.naive_bayes import GaussianNB\n",
    "\n",
    "X_pumps_train, X_pumps_test, y_pumps_train, y_pumps_test = train_test_split(df_data, df_labels, test_size=0.25, random_state=79)\n",
    "y_pumps_train = y_pumps_train[['label']]\n",
    "y_pumps_test = y_pumps_test['label']\n",
    "\n",
    "gaussian = GaussianNB()\n",
    "gaussian.fit(X_pumps_train, y_pumps_train)\n",
    "result = gaussian.score(X_pumps_test, y_pumps_test)\n",
    "\n",
    "a = gaussian.predict(X_pumps_test)\n",
    "v = gaussian.predict_proba(X_pumps_test)\n",
    "\n",
    "print 'Gaussian Regression Score:',str(result)"
   ]
  },
  {
   "cell_type": "code",
   "execution_count": 15,
   "metadata": {
    "collapsed": false
   },
   "outputs": [
    {
     "name": "stdout",
     "output_type": "stream",
     "text": [
      "SVC Regression Score: 0.541548821549\n"
     ]
    },
    {
     "name": "stderr",
     "output_type": "stream",
     "text": [
      "//anaconda/lib/python2.7/site-packages/sklearn/svm/base.py:472: DataConversionWarning: A column-vector y was passed when a 1d array was expected. Please change the shape of y to (n_samples, ), for example using ravel().\n",
      "  y_ = column_or_1d(y, warn=True)\n"
     ]
    }
   ],
   "source": [
    "from sklearn.svm import SVC\n",
    "\n",
    "X_pumps_train, X_pumps_test, y_pumps_train, y_pumps_test = train_test_split(df_data, df_labels, test_size=0.25, random_state=79)\n",
    "y_pumps_train = y_pumps_train[['label']]\n",
    "y_pumps_test = y_pumps_test[['label']]\n",
    "\n",
    "svc = SVC()\n",
    "svc.fit(X_pumps_train, y_pumps_train)\n",
    "result = svc.score(X_pumps_test, y_pumps_test)\n",
    "\n",
    "a = svc.predict(X_pumps_test)\n",
    "\n",
    "# fit the model\n",
    "#result = svc.score(X_pumps_test, y_pumps_test)\n",
    "\n",
    "print 'SVC Regression Score:',str(result)"
   ]
  },
  {
   "cell_type": "code",
   "execution_count": 16,
   "metadata": {
    "collapsed": false
   },
   "outputs": [
    {
     "name": "stdout",
     "output_type": "stream",
     "text": [
      "DTC Regression Score: 0.733400673401\n"
     ]
    }
   ],
   "source": [
    "from sklearn.tree import DecisionTreeClassifier\n",
    "\n",
    "X_pumps_train, X_pumps_test, y_pumps_train, y_pumps_test = train_test_split(df_data, df_labels, test_size=0.25, random_state=79)\n",
    "y_pumps_train = y_pumps_train[['label']]\n",
    "y_pumps_test = y_pumps_test[['label']]\n",
    "\n",
    "dtc = DecisionTreeClassifier()\n",
    "dtc.fit(X_pumps_train, y_pumps_train)\n",
    "result = dtc.score(X_pumps_test, y_pumps_test)\n",
    "\n",
    "a = dtc.predict(X_pumps_test)\n",
    "print 'DTC Regression Score:',str(result)"
   ]
  },
  {
   "cell_type": "code",
   "execution_count": 17,
   "metadata": {
    "collapsed": false
   },
   "outputs": [
    {
     "name": "stdout",
     "output_type": "stream",
     "text": [
      "          id  amount_tsh  gps_height  longitude  latitude  region_code  \\\n",
      "36693  47906           0        1577  34.490902 -1.291558           20   \n",
      "8388   66621           0         945  36.885462 -3.526118            2   \n",
      "37086  20290           0        1541  36.578002 -3.302132            2   \n",
      "21167  50601           0        1233  38.419864 -4.675106            4   \n",
      "10223  69741           0           0  32.928645 -9.290907           12   \n",
      "\n",
      "       district_code  population  basin  scheme_management  \\\n",
      "36693              1         300      2                  2   \n",
      "8388               7         230      3                  0   \n",
      "37086              2         200      3                  0   \n",
      "21167              1           1      3                  0   \n",
      "10223              5           0      1                  0   \n",
      "\n",
      "       extraction_type_class  management_group  payment  water_quality  \\\n",
      "36693                      3                 0        3              0   \n",
      "8388                       0                 0        3              0   \n",
      "37086                      0                 0        1              0   \n",
      "21167                      3                 0        1              0   \n",
      "10223                      3                 0        3              2   \n",
      "\n",
      "       quantity  source  source_class  waterpoint_type  \n",
      "36693         1       0             0                4  \n",
      "8388          1       0             0                1  \n",
      "37086         0       0             0                5  \n",
      "21167         0       5             0                3  \n",
      "10223         2       5             0                3  \n",
      "SVC Regression Score: 0.779124579125\n"
     ]
    },
    {
     "name": "stderr",
     "output_type": "stream",
     "text": [
      "/anaconda/lib/python2.7/site-packages/IPython/kernel/__main__.py:8: DataConversionWarning: A column-vector y was passed when a 1d array was expected. Please change the shape of y to (n_samples,), for example using ravel().\n"
     ]
    }
   ],
   "source": [
    "from sklearn.ensemble import RandomForestClassifier\n",
    "\n",
    "X_pumps_train, X_pumps_test, y_pumps_train, y_pumps_test = train_test_split(df_data, df_labels, test_size=0.25, random_state=16)\n",
    "y_pumps_train = y_pumps_train[['label']]\n",
    "y_pumps_test = y_pumps_test[['label']]\n",
    "    \n",
    "rfc = RandomForestClassifier()\n",
    "rfc.fit(X_pumps_train, y_pumps_train)\n",
    "result = rfc.score(X_pumps_test, y_pumps_test)\n",
    "\n",
    "a = rfc.predict(X_pumps_test)\n",
    "\n",
    "print X_pumps_train.head()\n",
    "#print df_data.head()\n",
    "\n",
    "print 'SVC Regression Score:',str(result)\n"
   ]
  },
  {
   "cell_type": "code",
   "execution_count": 18,
   "metadata": {
    "collapsed": false,
    "scrolled": true
   },
   "outputs": [
    {
     "name": "stdout",
     "output_type": "stream",
     "text": [
      "      id  amount_tsh date_recorded                  funder  gps_height  \\\n",
      "0  50785           0    2013-02-04                    Dmdd        1996   \n",
      "1  51630           0    2013-02-04  Government Of Tanzania        1569   \n",
      "2  17168           0    2013-02-01                     NaN        1567   \n",
      "3  45559           0    2013-01-22              Finn Water         267   \n",
      "4  49871         500    2013-03-27                  Bruder        1260   \n",
      "\n",
      "    installer  longitude   latitude                 wpt_name  num_private  \\\n",
      "0        DMDD  35.290799  -4.059696  Dinamu Secondary School            0   \n",
      "1         DWE  36.656709  -3.309214                  Kimnyak            0   \n",
      "2         NaN  34.767863  -5.004344           Puma Secondary            0   \n",
      "3  FINN WATER  38.058046  -9.418672           Kwa Mzee Pange            0   \n",
      "4      BRUDER  35.006123 -10.950412          Kwa Mzee Turuka            0   \n",
      "\n",
      "           ...          payment_type water_quality quality_group  \\\n",
      "0          ...             never pay          soft          good   \n",
      "1          ...             never pay          soft          good   \n",
      "2          ...             never pay          soft          good   \n",
      "3          ...               unknown          soft          good   \n",
      "4          ...               monthly          soft          good   \n",
      "\n",
      "       quantity  quantity_group                source           source_type  \\\n",
      "0      seasonal        seasonal  rainwater harvesting  rainwater harvesting   \n",
      "1  insufficient    insufficient                spring                spring   \n",
      "2  insufficient    insufficient  rainwater harvesting  rainwater harvesting   \n",
      "3           dry             dry          shallow well          shallow well   \n",
      "4        enough          enough                spring                spring   \n",
      "\n",
      "   source_class     waterpoint_type waterpoint_type_group  \n",
      "0       surface               other                 other  \n",
      "1   groundwater  communal standpipe    communal standpipe  \n",
      "2       surface               other                 other  \n",
      "3   groundwater               other                 other  \n",
      "4   groundwater  communal standpipe    communal standpipe  \n",
      "\n",
      "[5 rows x 40 columns]\n",
      "(14850, 40)\n"
     ]
    }
   ],
   "source": [
    "test = pd.read_csv('/Users/martinrasumoff/Desktop/metis/mcnulty/Pumpitup/test.csv')\n",
    "print test.head()\n",
    "\n",
    "print test.shape"
   ]
  },
  {
   "cell_type": "code",
   "execution_count": 19,
   "metadata": {
    "collapsed": false
   },
   "outputs": [
    {
     "name": "stdout",
     "output_type": "stream",
     "text": [
      "(14850, 40)\n"
     ]
    }
   ],
   "source": [
    "a = test.basin.unique()\n",
    "test.basin.replace(a,(1,2,3,4,5,6,7,8,9),inplace=True)\n",
    "\n",
    "b = test.scheme_management.unique()\n",
    "test.scheme_management.replace(b,range(len(b)),inplace=True)\n",
    "\n",
    "c = test.extraction_type_class.unique()\n",
    "test.extraction_type_class.replace(c,range(len(c)),inplace=True)\n",
    "\n",
    "d = test.management_group.unique()\n",
    "test.management_group.replace(d,range(len(d)),inplace=True)\n",
    "\n",
    "e = test.payment.unique()\n",
    "test.payment.replace(e,range(len(e)),inplace=True)\n",
    "\n",
    "f = test.water_quality.unique()\n",
    "test.water_quality.replace(f,range(len(f)),inplace=True)\n",
    "\n",
    "g = test.quantity.unique()\n",
    "test.quantity.replace(g,range(len(g)),inplace=True)\n",
    "\n",
    "h = test.source.unique()\n",
    "test.source.replace(h,range(len(h)),inplace=True)\n",
    "\n",
    "i = test.source_class.unique()\n",
    "test.source_class.replace(i,range(len(i)),inplace=True)\n",
    "\n",
    "j = test.waterpoint_type.unique()\n",
    "test.waterpoint_type.replace(j,range(len(j)),inplace=True)\n",
    "\n",
    "print test.shape"
   ]
  },
  {
   "cell_type": "code",
   "execution_count": 20,
   "metadata": {
    "collapsed": false,
    "scrolled": true
   },
   "outputs": [
    {
     "name": "stdout",
     "output_type": "stream",
     "text": [
      "(14850, 18)\n"
     ]
    }
   ],
   "source": [
    "test = test[['id','amount_tsh','gps_height','longitude','latitude','region_code','district_code','population',\\\n",
    "                  'basin','scheme_management','extraction_type_class','management_group','payment','water_quality',\\\n",
    "                  'quantity','source','source_class','waterpoint_type']]\n",
    "\n",
    "print test.shape"
   ]
  },
  {
   "cell_type": "code",
   "execution_count": 21,
   "metadata": {
    "collapsed": false
   },
   "outputs": [
    {
     "name": "stdout",
     "output_type": "stream",
     "text": [
      "(44550, 18)\n"
     ]
    }
   ],
   "source": [
    "X_pumps_train, X_pumps_test, y_pumps_train, y_pumps_test = train_test_split(df_data, df_labels, test_size=0.25, random_state=16)\n",
    "\n",
    "print X_pumps_train.shape"
   ]
  },
  {
   "cell_type": "code",
   "execution_count": 22,
   "metadata": {
    "collapsed": true
   },
   "outputs": [],
   "source": [
    "y_pumps_train_lbl = y_pumps_train[['label']]\n",
    "y_pumps_test_lbl = y_pumps_test[['label']]"
   ]
  },
  {
   "cell_type": "code",
   "execution_count": 23,
   "metadata": {
    "collapsed": false,
    "scrolled": true
   },
   "outputs": [
    {
     "name": "stdout",
     "output_type": "stream",
     "text": [
      "       id  amount_tsh  gps_height  longitude   latitude  region_code  \\\n",
      "3402   10           0         197  38.790694  -5.113207            4   \n",
      "14136  13           0         803  36.905545 -10.765602           10   \n",
      "5702   14           0        1804  36.570357  -3.251609            2   \n",
      "11739  29           0           0  35.882325  -6.067613            1   \n",
      "785    32           0           0  33.886334  -9.457260           12   \n",
      "\n",
      "       district_code  population  basin  scheme_management  \\\n",
      "3402               3         250      2                  1   \n",
      "14136              1           1      3                  1   \n",
      "5702               2         200      2                  1   \n",
      "11739              5           0      7                  1   \n",
      "785                3           0      9                  1   \n",
      "\n",
      "       extraction_type_class  management_group  payment  water_quality  \\\n",
      "3402                       1                 1        0              0   \n",
      "14136                      2                 1        0              0   \n",
      "5702                       1                 1        0              0   \n",
      "11739                      4                 1        3              0   \n",
      "785                        1                 1        0              0   \n",
      "\n",
      "       quantity  source  source_class  waterpoint_type  \n",
      "3402          0       1             1                1  \n",
      "14136         0       3             1                2  \n",
      "5702          3       1             1                5  \n",
      "11739         2       3             1                3  \n",
      "785           3       1             1                1  \n",
      "          id  amount_tsh  gps_height  longitude  latitude  region_code  \\\n",
      "10876  74241           0           0  36.563607 -6.688495            1   \n",
      "7696   74244           0         695  37.559881 -3.498092            3   \n",
      "6407   74245           0        1420  37.581890 -3.284912            3   \n",
      "11433  74248           0        1280  34.410594 -1.595024           20   \n",
      "5493   74249           0        1473  37.661798 -3.608780            3   \n",
      "\n",
      "       district_code  population  basin  scheme_management  \\\n",
      "10876              1           0      7                  1   \n",
      "7696               2         360      2                  6   \n",
      "6407               4           1      2                  7   \n",
      "11433              2         100      5                  6   \n",
      "5493               2         200      2                  1   \n",
      "\n",
      "       extraction_type_class  management_group  payment  water_quality  \\\n",
      "10876                      1                 1        3              0   \n",
      "7696                       3                 1        0              0   \n",
      "6407                       1                 1        2              0   \n",
      "11433                      1                 1        0              0   \n",
      "5493                       1                 1        0              0   \n",
      "\n",
      "       quantity  source  source_class  waterpoint_type  \n",
      "10876         1       1             1                1  \n",
      "7696          1       1             1                1  \n",
      "6407          3       1             1                1  \n",
      "11433         3       1             1                3  \n",
      "5493          1       4             0                0  \n",
      " - \n"
     ]
    },
    {
     "data": {
      "text/plain": [
       "\"\\nX_pumps_test = X_pumps_test.sort[['id']]\\nprint X_pumps_test.head()\\nprint X_pumps_test.tail()\\nprint ' - '\\nX_pumps_train = X_pumps_train.sort[['id']]\\nprint X_pumps_train.head()\\nprint X_pumps_train.tail()\\nprint ' - '\\ny_pumps_test = y_pumps_test.sort[['id']]\\nprint y_pumps_test.head()\\nprint y_pumps_test.tail()\\nprint ' - '\\ny_pumps_train = y_pumps_train.sort[['id']]\\nprint y_pumps_train.head()\\nprint y_pumps_train.tail()\\n\""
      ]
     },
     "execution_count": 23,
     "metadata": {},
     "output_type": "execute_result"
    }
   ],
   "source": [
    "test = test.sort(['id'])\n",
    "\n",
    "print test.head()\n",
    "print test.tail()\n",
    "print ' - '\n",
    "'''\n",
    "X_pumps_test = X_pumps_test.sort[['id']]\n",
    "print X_pumps_test.head()\n",
    "print X_pumps_test.tail()\n",
    "print ' - '\n",
    "X_pumps_train = X_pumps_train.sort[['id']]\n",
    "print X_pumps_train.head()\n",
    "print X_pumps_train.tail()\n",
    "print ' - '\n",
    "y_pumps_test = y_pumps_test.sort[['id']]\n",
    "print y_pumps_test.head()\n",
    "print y_pumps_test.tail()\n",
    "print ' - '\n",
    "y_pumps_train = y_pumps_train.sort[['id']]\n",
    "print y_pumps_train.head()\n",
    "print y_pumps_train.tail()\n",
    "'''"
   ]
  },
  {
   "cell_type": "code",
   "execution_count": 24,
   "metadata": {
    "collapsed": false
   },
   "outputs": [
    {
     "name": "stdout",
     "output_type": "stream",
     "text": [
      "(14850, 18)\n",
      "(14850, 18)\n",
      "(44550, 18)\n",
      "(14850, 2)\n",
      "(44550, 2)\n"
     ]
    }
   ],
   "source": [
    "print test.shape\n",
    "print X_pumps_test.shape\n",
    "print X_pumps_train.shape\n",
    "print y_pumps_test.shape\n",
    "print y_pumps_train.shape"
   ]
  },
  {
   "cell_type": "code",
   "execution_count": 25,
   "metadata": {
    "collapsed": false
   },
   "outputs": [
    {
     "name": "stderr",
     "output_type": "stream",
     "text": [
      "/anaconda/lib/python2.7/site-packages/IPython/kernel/__main__.py:4: DataConversionWarning: A column-vector y was passed when a 1d array was expected. Please change the shape of y to (n_samples,), for example using ravel().\n"
     ]
    }
   ],
   "source": [
    "from sklearn.ensemble import RandomForestClassifier\n",
    "\n",
    "rfc = RandomForestClassifier()\n",
    "rfc.fit(X_pumps_train, y_pumps_train_lbl)\n",
    "result = rfc.score(X_pumps_test, y_pumps_test_lbl)"
   ]
  },
  {
   "cell_type": "code",
   "execution_count": 26,
   "metadata": {
    "collapsed": true
   },
   "outputs": [],
   "source": [
    "pred = rfc.predict(test)"
   ]
  },
  {
   "cell_type": "code",
   "execution_count": 27,
   "metadata": {
    "collapsed": false
   },
   "outputs": [
    {
     "name": "stdout",
     "output_type": "stream",
     "text": [
      "14850\n",
      "      id    status_group\n",
      "0  50785      functional\n",
      "1  51630      functional\n",
      "2  17168      functional\n",
      "3  45559  non functional\n",
      "4  49871      functional\n",
      "SVC Regression Score: 0.78303030303\n"
     ]
    }
   ],
   "source": [
    "to_submit = []\n",
    "print len(test)\n",
    "for ind in range(len(test)):\n",
    "    ids = test.id[ind]\n",
    "    to_pred = pred[ind]\n",
    "    #print ids,' - ',to_pred\n",
    "    to_submit.append([ids,to_pred])\n",
    "    \n",
    "df_submit = pd.DataFrame(to_submit)\n",
    "df_submit.columns = ['id','status_group']\n",
    "print df_submit.head()\n",
    "\n",
    "df_submit.to_csv('/Users/martinrasumoff/Desktop/metis/mcnulty/Pumpitup/submission_2.csv', sep=',', index=False)\n",
    "\n",
    "print 'SVC Regression Score:',str(result)\n"
   ]
  },
  {
   "cell_type": "code",
   "execution_count": null,
   "metadata": {
    "collapsed": true
   },
   "outputs": [],
   "source": [
    "'''\n",
    "\n",
    "a = df_data.basin.unique()\n",
    "df_data.basin.replace(a,(1,2,3,4,5,6,7,8,9),inplace=True)\n",
    "\n",
    "b = df_data.scheme_management.unique()\n",
    "df_data.scheme_management.replace(b,range(len(b)),inplace=True)\n",
    "\n",
    "c = df_data.extraction_type_class.unique()\n",
    "df_data.extraction_type_class.replace(c,range(len(c)),inplace=True)\n",
    "\n",
    "d = df_data.management_group.unique()\n",
    "df_data.management_group.replace(d,range(len(d)),inplace=True)\n",
    "\n",
    "e = df_data.payment.unique()\n",
    "df_data.payment.replace(e,range(len(e)),inplace=True)\n",
    "\n",
    "f = df_data.water_quality.unique()\n",
    "df_data.water_quality.replace(f,range(len(f)),inplace=True)\n",
    "\n",
    "g = df_data.quantity.unique()\n",
    "df_data.quantity.replace(g,range(len(g)),inplace=True)\n",
    "\n",
    "h = df_data.source.unique()\n",
    "df_data.source.replace(h,range(len(h)),inplace=True)\n",
    "\n",
    "i = df_data.source_class.unique()\n",
    "df_data.source_class.replace(i,range(len(i)),inplace=True)\n",
    "\n",
    "j = df_data.waterpoint_type.unique()\n",
    "df_data.waterpoint_type.replace(j,range(len(j)),inplace=True)\n",
    "\n",
    "print df_data.head()\n",
    "print df_data.tail()\n",
    "\n",
    "'''\n"
   ]
  }
 ],
 "metadata": {
  "kernelspec": {
   "display_name": "Python 2",
   "language": "python",
   "name": "python2"
  },
  "language_info": {
   "codemirror_mode": {
    "name": "ipython",
    "version": 2
   },
   "file_extension": ".py",
   "mimetype": "text/x-python",
   "name": "python",
   "nbconvert_exporter": "python",
   "pygments_lexer": "ipython2",
   "version": "2.7.10"
  }
 },
 "nbformat": 4,
 "nbformat_minor": 0
}
