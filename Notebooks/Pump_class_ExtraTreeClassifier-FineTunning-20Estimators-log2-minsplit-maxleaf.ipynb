{
 "cells": [
  {
   "cell_type": "code",
   "execution_count": 24,
   "metadata": {
    "collapsed": false,
    "scrolled": true
   },
   "outputs": [
    {
     "name": "stdout",
     "output_type": "stream",
     "text": [
      "                label\n",
      "69572      functional\n",
      "8776       functional\n",
      "34310      functional\n",
      "67743  non functional\n",
      "19728      functional\n",
      "            label\n",
      "60739  functional\n",
      "27263  functional\n",
      "37057  functional\n",
      "31282  functional\n",
      "26348  functional\n"
     ]
    }
   ],
   "source": [
    "import psycopg2\n",
    "import pandas as pd\n",
    "from sklearn.cross_validation import train_test_split\n",
    "\n",
    "def load_labels():\n",
    "    db = psycopg2.connect(database='martinrasumoff')\n",
    "    cursor = db.cursor()\n",
    "\n",
    "    #Loading Labels\n",
    "    cursor.execute(\"select * from labels_water_pumps;\")\n",
    "    list_labels = cursor.fetchall()\n",
    "   \n",
    "    labels_id =[]\n",
    "    labels_class =[]\n",
    "    for each in list_labels:\n",
    "        labels_id.append(each[0])\n",
    "        labels_class.append(each[1])\n",
    "        \n",
    "    series_labels = pd.DataFrame(labels_class, index=labels_id)\n",
    "\n",
    "    return series_labels\n",
    "\n",
    "df_labels = load_labels()\n",
    "\n",
    "df_labels.columns = ['label']\n",
    "print df_labels.head()\n",
    "print df_labels.tail()"
   ]
  },
  {
   "cell_type": "code",
   "execution_count": 25,
   "metadata": {
    "collapsed": false,
    "scrolled": true
   },
   "outputs": [
    {
     "name": "stdout",
     "output_type": "stream",
     "text": [
      "          0     1           2             3     4             5          6   \\\n",
      "69572  69572  6000  2011-03-14         Roman  1390         Roman  34.938093   \n",
      "8776    8776     0  2013-03-06       Grumeti  1399       GRUMETI  34.698766   \n",
      "34310  34310    25  2013-02-25  Lottery Club   686  World vision  37.460664   \n",
      "67743  67743     0  2013-01-28        Unicef   263        UNICEF  38.486161   \n",
      "19728  19728     0  2011-07-13   Action In A     0       Artisan  31.130847   \n",
      "\n",
      "              7                     8  9          ...                  30  \\\n",
      "69572  -9.856322                  none  0         ...            annually   \n",
      "8776   -2.147466              Zahanati  0         ...           never pay   \n",
      "34310  -3.821329           Kwa Mahundi  0         ...          per bucket   \n",
      "67743 -11.155298  Zahanati Ya Nanyumbu  0         ...           never pay   \n",
      "19728  -1.825359               Shuleni  0         ...           never pay   \n",
      "\n",
      "         31    32            33            34                    35  \\\n",
      "69572  soft  good        enough        enough                spring   \n",
      "8776   soft  good  insufficient  insufficient  rainwater harvesting   \n",
      "34310  soft  good        enough        enough                   dam   \n",
      "67743  soft  good           dry           dry           machine dbh   \n",
      "19728  soft  good      seasonal      seasonal  rainwater harvesting   \n",
      "\n",
      "                         36           37                           38  \\\n",
      "69572                spring  groundwater           communal standpipe   \n",
      "8776   rainwater harvesting      surface           communal standpipe   \n",
      "34310                   dam      surface  communal standpipe multiple   \n",
      "67743              borehole  groundwater  communal standpipe multiple   \n",
      "19728  rainwater harvesting      surface           communal standpipe   \n",
      "\n",
      "                       39  \n",
      "69572  communal standpipe  \n",
      "8776   communal standpipe  \n",
      "34310  communal standpipe  \n",
      "67743  communal standpipe  \n",
      "19728  communal standpipe  \n",
      "\n",
      "[5 rows x 40 columns]\n",
      "          0     1           2                3     4      5          6   \\\n",
      "60739  60739    10  2013-05-03  Germany Republi  1210    CES  37.169807   \n",
      "27263  27263  4700  2011-05-07      Cefa-njombe  1212   Cefa  35.249991   \n",
      "37057  37057     0  2011-04-11             None     0   None  34.017087   \n",
      "31282  31282     0  2011-03-08            Malec     0   Musa  35.861315   \n",
      "26348  26348     0  2011-03-23       World Bank   191  World  38.104048   \n",
      "\n",
      "             7                    8  9          ...                  30  \\\n",
      "60739 -3.253847  Area Three Namba 27  0         ...          per bucket   \n",
      "27263 -9.070629    Kwa Yahona Kuvala  0         ...            annually   \n",
      "37057 -8.750434              Mashine  0         ...             monthly   \n",
      "31282 -6.378573               Mshoro  0         ...           never pay   \n",
      "26348 -6.747464      Kwa Mzee Lugawa  0         ...          on failure   \n",
      "\n",
      "             31        32            33            34            35  \\\n",
      "60739      soft      good        enough        enough        spring   \n",
      "27263      soft      good        enough        enough         river   \n",
      "37057  fluoride  fluoride        enough        enough   machine dbh   \n",
      "31282      soft      good  insufficient  insufficient  shallow well   \n",
      "26348     salty     salty        enough        enough  shallow well   \n",
      "\n",
      "                 36           37                  38                  39  \n",
      "60739        spring  groundwater  communal standpipe  communal standpipe  \n",
      "27263    river/lake      surface  communal standpipe  communal standpipe  \n",
      "37057      borehole  groundwater           hand pump           hand pump  \n",
      "31282  shallow well  groundwater           hand pump           hand pump  \n",
      "26348  shallow well  groundwater           hand pump           hand pump  \n",
      "\n",
      "[5 rows x 40 columns]\n"
     ]
    }
   ],
   "source": [
    "def load_wells():\n",
    "    db = psycopg2.connect(database='martinrasumoff')\n",
    "    cursor = db.cursor()\n",
    "\n",
    "    #Loading Pump Data\n",
    "    cursor.execute(\"select * from water_pumps;\")\n",
    "    list_pumps = cursor.fetchall()\n",
    "\n",
    "    list_pumps_id = []\n",
    "    list_pumps_fields = []\n",
    "    for each in list_pumps:\n",
    "        list_pumps_id.append(each[0])\n",
    "        list_pumps_fields.append(each)\n",
    "\n",
    "    #Converting wells data into a pandas Data Frame\n",
    "    df_pumps = pd.DataFrame(list_pumps_fields, index=list_pumps_id)\n",
    "\n",
    "    return df_pumps\n",
    "\n",
    "df_data = load_wells()\n",
    "\n",
    "print df_data.head()\n",
    "print df_data.tail()"
   ]
  },
  {
   "cell_type": "code",
   "execution_count": 26,
   "metadata": {
    "collapsed": false,
    "scrolled": true
   },
   "outputs": [
    {
     "name": "stdout",
     "output_type": "stream",
     "text": [
      "          id  amount_tsh date_recorded        funder  gps_height  \\\n",
      "69572  69572        6000    2011-03-14         Roman        1390   \n",
      "8776    8776           0    2013-03-06       Grumeti        1399   \n",
      "34310  34310          25    2013-02-25  Lottery Club         686   \n",
      "67743  67743           0    2013-01-28        Unicef         263   \n",
      "19728  19728           0    2011-07-13   Action In A           0   \n",
      "\n",
      "          installer  longitude   latitude              wpt_name num_private  \\\n",
      "69572         Roman  34.938093  -9.856322                  none           0   \n",
      "8776        GRUMETI  34.698766  -2.147466              Zahanati           0   \n",
      "34310  World vision  37.460664  -3.821329           Kwa Mahundi           0   \n",
      "67743        UNICEF  38.486161 -11.155298  Zahanati Ya Nanyumbu           0   \n",
      "19728       Artisan  31.130847  -1.825359               Shuleni           0   \n",
      "\n",
      "               ...          payment_type water_quality quality_group  \\\n",
      "69572          ...              annually          soft          good   \n",
      "8776           ...             never pay          soft          good   \n",
      "34310          ...            per bucket          soft          good   \n",
      "67743          ...             never pay          soft          good   \n",
      "19728          ...             never pay          soft          good   \n",
      "\n",
      "           quantity  quantity_group                source  \\\n",
      "69572        enough          enough                spring   \n",
      "8776   insufficient    insufficient  rainwater harvesting   \n",
      "34310        enough          enough                   dam   \n",
      "67743           dry             dry           machine dbh   \n",
      "19728      seasonal        seasonal  rainwater harvesting   \n",
      "\n",
      "                source_type  source_class              waterpoint_type  \\\n",
      "69572                spring   groundwater           communal standpipe   \n",
      "8776   rainwater harvesting       surface           communal standpipe   \n",
      "34310                   dam       surface  communal standpipe multiple   \n",
      "67743              borehole   groundwater  communal standpipe multiple   \n",
      "19728  rainwater harvesting       surface           communal standpipe   \n",
      "\n",
      "      waterpoint_type_group  \n",
      "69572    communal standpipe  \n",
      "8776     communal standpipe  \n",
      "34310    communal standpipe  \n",
      "67743    communal standpipe  \n",
      "19728    communal standpipe  \n",
      "\n",
      "[5 rows x 40 columns]\n",
      "          id  amount_tsh date_recorded           funder  gps_height installer  \\\n",
      "60739  60739          10    2013-05-03  Germany Republi        1210       CES   \n",
      "27263  27263        4700    2011-05-07      Cefa-njombe        1212      Cefa   \n",
      "37057  37057           0    2011-04-11             None           0      None   \n",
      "31282  31282           0    2011-03-08            Malec           0      Musa   \n",
      "26348  26348           0    2011-03-23       World Bank         191     World   \n",
      "\n",
      "       longitude  latitude             wpt_name num_private  \\\n",
      "60739  37.169807 -3.253847  Area Three Namba 27           0   \n",
      "27263  35.249991 -9.070629    Kwa Yahona Kuvala           0   \n",
      "37057  34.017087 -8.750434              Mashine           0   \n",
      "31282  35.861315 -6.378573               Mshoro           0   \n",
      "26348  38.104048 -6.747464      Kwa Mzee Lugawa           0   \n",
      "\n",
      "               ...          payment_type water_quality quality_group  \\\n",
      "60739          ...            per bucket          soft          good   \n",
      "27263          ...              annually          soft          good   \n",
      "37057          ...               monthly      fluoride      fluoride   \n",
      "31282          ...             never pay          soft          good   \n",
      "26348          ...            on failure         salty         salty   \n",
      "\n",
      "           quantity  quantity_group        source   source_type  source_class  \\\n",
      "60739        enough          enough        spring        spring   groundwater   \n",
      "27263        enough          enough         river    river/lake       surface   \n",
      "37057        enough          enough   machine dbh      borehole   groundwater   \n",
      "31282  insufficient    insufficient  shallow well  shallow well   groundwater   \n",
      "26348        enough          enough  shallow well  shallow well   groundwater   \n",
      "\n",
      "          waterpoint_type waterpoint_type_group  \n",
      "60739  communal standpipe    communal standpipe  \n",
      "27263  communal standpipe    communal standpipe  \n",
      "37057           hand pump             hand pump  \n",
      "31282           hand pump             hand pump  \n",
      "26348           hand pump             hand pump  \n",
      "\n",
      "[5 rows x 40 columns]\n"
     ]
    }
   ],
   "source": [
    "df_data.columns = ['id','amount_tsh',\n",
    "                    'date_recorded',\n",
    "                    'funder',\n",
    "                    'gps_height',\n",
    "                    'installer',\n",
    "                    'longitude',\n",
    "                    'latitude',\n",
    "                    'wpt_name',\n",
    "                    'num_private',\n",
    "                    'basin',\n",
    "                    'subvillage',\n",
    "                    'region',\n",
    "                    'region_code',\n",
    "                    'district_code',\n",
    "                    'lga',\n",
    "                    'ward',\n",
    "                    'population',\n",
    "                    'public_meeting',\n",
    "                    'recorded_by',\n",
    "                    'scheme_management',\n",
    "                    'scheme_name',\n",
    "                    'permit',\n",
    "                    'construction_year',\n",
    "                    'extraction_type',\n",
    "                    'extraction_type_group',\n",
    "                    'extraction_type_class',\n",
    "                    'management',\n",
    "                    'management_group',\n",
    "                    'payment',\n",
    "                    'payment_type',\n",
    "                    'water_quality',\n",
    "                    'quality_group',\n",
    "                    'quantity',\n",
    "                    'quantity_group',\n",
    "                    'source',\n",
    "                    'source_type',\n",
    "                    'source_class',\n",
    "                    'waterpoint_type',\n",
    "                    'waterpoint_type_group']\n",
    "\n",
    "print df_data.head()\n",
    "print df_data.tail()"
   ]
  },
  {
   "cell_type": "code",
   "execution_count": 27,
   "metadata": {
    "collapsed": false,
    "scrolled": true
   },
   "outputs": [
    {
     "name": "stdout",
     "output_type": "stream",
     "text": [
      "          id  amount_tsh date_recorded        funder  gps_height  \\\n",
      "69572  69572        6000    2011-03-14         Roman        1390   \n",
      "8776    8776           0    2013-03-06       Grumeti        1399   \n",
      "34310  34310          25    2013-02-25  Lottery Club         686   \n",
      "67743  67743           0    2013-01-28        Unicef         263   \n",
      "19728  19728           0    2011-07-13   Action In A           0   \n",
      "\n",
      "          installer  longitude   latitude              wpt_name num_private  \\\n",
      "69572         Roman  34.938093  -9.856322                  none           0   \n",
      "8776        GRUMETI  34.698766  -2.147466              Zahanati           0   \n",
      "34310  World vision  37.460664  -3.821329           Kwa Mahundi           0   \n",
      "67743        UNICEF  38.486161 -11.155298  Zahanati Ya Nanyumbu           0   \n",
      "19728       Artisan  31.130847  -1.825359               Shuleni           0   \n",
      "\n",
      "               ...          payment_type water_quality quality_group  \\\n",
      "69572          ...              annually          soft          good   \n",
      "8776           ...             never pay          soft          good   \n",
      "34310          ...            per bucket          soft          good   \n",
      "67743          ...             never pay          soft          good   \n",
      "19728          ...             never pay          soft          good   \n",
      "\n",
      "           quantity  quantity_group                source  \\\n",
      "69572        enough          enough                spring   \n",
      "8776   insufficient    insufficient  rainwater harvesting   \n",
      "34310        enough          enough                   dam   \n",
      "67743           dry             dry           machine dbh   \n",
      "19728      seasonal        seasonal  rainwater harvesting   \n",
      "\n",
      "                source_type  source_class              waterpoint_type  \\\n",
      "69572                spring   groundwater           communal standpipe   \n",
      "8776   rainwater harvesting       surface           communal standpipe   \n",
      "34310                   dam       surface  communal standpipe multiple   \n",
      "67743              borehole   groundwater  communal standpipe multiple   \n",
      "19728  rainwater harvesting       surface           communal standpipe   \n",
      "\n",
      "      waterpoint_type_group  \n",
      "69572    communal standpipe  \n",
      "8776     communal standpipe  \n",
      "34310    communal standpipe  \n",
      "67743    communal standpipe  \n",
      "19728    communal standpipe  \n",
      "\n",
      "[5 rows x 40 columns]\n",
      "                label\n",
      "69572      functional\n",
      "8776       functional\n",
      "34310      functional\n",
      "67743  non functional\n",
      "19728      functional\n",
      "          id  amount_tsh date_recorded           funder  gps_height installer  \\\n",
      "60739  60739          10    2013-05-03  Germany Republi        1210       CES   \n",
      "27263  27263        4700    2011-05-07      Cefa-njombe        1212      Cefa   \n",
      "37057  37057           0    2011-04-11             None           0      None   \n",
      "31282  31282           0    2011-03-08            Malec           0      Musa   \n",
      "26348  26348           0    2011-03-23       World Bank         191     World   \n",
      "\n",
      "       longitude  latitude             wpt_name num_private  \\\n",
      "60739  37.169807 -3.253847  Area Three Namba 27           0   \n",
      "27263  35.249991 -9.070629    Kwa Yahona Kuvala           0   \n",
      "37057  34.017087 -8.750434              Mashine           0   \n",
      "31282  35.861315 -6.378573               Mshoro           0   \n",
      "26348  38.104048 -6.747464      Kwa Mzee Lugawa           0   \n",
      "\n",
      "               ...          payment_type water_quality quality_group  \\\n",
      "60739          ...            per bucket          soft          good   \n",
      "27263          ...              annually          soft          good   \n",
      "37057          ...               monthly      fluoride      fluoride   \n",
      "31282          ...             never pay          soft          good   \n",
      "26348          ...            on failure         salty         salty   \n",
      "\n",
      "           quantity  quantity_group        source   source_type  source_class  \\\n",
      "60739        enough          enough        spring        spring   groundwater   \n",
      "27263        enough          enough         river    river/lake       surface   \n",
      "37057        enough          enough   machine dbh      borehole   groundwater   \n",
      "31282  insufficient    insufficient  shallow well  shallow well   groundwater   \n",
      "26348        enough          enough  shallow well  shallow well   groundwater   \n",
      "\n",
      "          waterpoint_type waterpoint_type_group  \n",
      "60739  communal standpipe    communal standpipe  \n",
      "27263  communal standpipe    communal standpipe  \n",
      "37057           hand pump             hand pump  \n",
      "31282           hand pump             hand pump  \n",
      "26348           hand pump             hand pump  \n",
      "\n",
      "[5 rows x 40 columns]\n",
      "            label\n",
      "60739  functional\n",
      "27263  functional\n",
      "37057  functional\n",
      "31282  functional\n",
      "26348  functional\n"
     ]
    }
   ],
   "source": [
    "print df_data.head()\n",
    "print df_labels.head()\n",
    "print df_data.tail()\n",
    "print df_labels.tail()"
   ]
  },
  {
   "cell_type": "code",
   "execution_count": 28,
   "metadata": {
    "collapsed": false,
    "scrolled": true
   },
   "outputs": [
    {
     "name": "stdout",
     "output_type": "stream",
     "text": [
      "          id  amount_tsh date_recorded        funder  gps_height  \\\n",
      "69572  69572        6000    2011-03-14         Roman        1390   \n",
      "8776    8776           0    2013-03-06       Grumeti        1399   \n",
      "34310  34310          25    2013-02-25  Lottery Club         686   \n",
      "67743  67743           0    2013-01-28        Unicef         263   \n",
      "19728  19728           0    2011-07-13   Action In A           0   \n",
      "\n",
      "          installer  longitude   latitude              wpt_name num_private  \\\n",
      "69572         Roman  34.938093  -9.856322                  none           0   \n",
      "8776        GRUMETI  34.698766  -2.147466              Zahanati           0   \n",
      "34310  World vision  37.460664  -3.821329           Kwa Mahundi           0   \n",
      "67743        UNICEF  38.486161 -11.155298  Zahanati Ya Nanyumbu           0   \n",
      "19728       Artisan  31.130847  -1.825359               Shuleni           0   \n",
      "\n",
      "               ...          payment_type water_quality quality_group  \\\n",
      "69572          ...              annually          soft          good   \n",
      "8776           ...             never pay          soft          good   \n",
      "34310          ...            per bucket          soft          good   \n",
      "67743          ...             never pay          soft          good   \n",
      "19728          ...             never pay          soft          good   \n",
      "\n",
      "           quantity  quantity_group                source  \\\n",
      "69572        enough          enough                spring   \n",
      "8776   insufficient    insufficient  rainwater harvesting   \n",
      "34310        enough          enough                   dam   \n",
      "67743           dry             dry           machine dbh   \n",
      "19728      seasonal        seasonal  rainwater harvesting   \n",
      "\n",
      "                source_type  source_class              waterpoint_type  \\\n",
      "69572                spring   groundwater           communal standpipe   \n",
      "8776   rainwater harvesting       surface           communal standpipe   \n",
      "34310                   dam       surface  communal standpipe multiple   \n",
      "67743              borehole   groundwater  communal standpipe multiple   \n",
      "19728  rainwater harvesting       surface           communal standpipe   \n",
      "\n",
      "      waterpoint_type_group  \n",
      "69572    communal standpipe  \n",
      "8776     communal standpipe  \n",
      "34310    communal standpipe  \n",
      "67743    communal standpipe  \n",
      "19728    communal standpipe  \n",
      "\n",
      "[5 rows x 40 columns]\n",
      "                label\n",
      "69572      functional\n",
      "8776       functional\n",
      "34310      functional\n",
      "67743  non functional\n",
      "19728      functional\n",
      "          id  amount_tsh date_recorded           funder  gps_height installer  \\\n",
      "60739  60739          10    2013-05-03  Germany Republi        1210       CES   \n",
      "27263  27263        4700    2011-05-07      Cefa-njombe        1212      Cefa   \n",
      "37057  37057           0    2011-04-11             None           0      None   \n",
      "31282  31282           0    2011-03-08            Malec           0      Musa   \n",
      "26348  26348           0    2011-03-23       World Bank         191     World   \n",
      "\n",
      "       longitude  latitude             wpt_name num_private  \\\n",
      "60739  37.169807 -3.253847  Area Three Namba 27           0   \n",
      "27263  35.249991 -9.070629    Kwa Yahona Kuvala           0   \n",
      "37057  34.017087 -8.750434              Mashine           0   \n",
      "31282  35.861315 -6.378573               Mshoro           0   \n",
      "26348  38.104048 -6.747464      Kwa Mzee Lugawa           0   \n",
      "\n",
      "               ...          payment_type water_quality quality_group  \\\n",
      "60739          ...            per bucket          soft          good   \n",
      "27263          ...              annually          soft          good   \n",
      "37057          ...               monthly      fluoride      fluoride   \n",
      "31282          ...             never pay          soft          good   \n",
      "26348          ...            on failure         salty         salty   \n",
      "\n",
      "           quantity  quantity_group        source   source_type  source_class  \\\n",
      "60739        enough          enough        spring        spring   groundwater   \n",
      "27263        enough          enough         river    river/lake       surface   \n",
      "37057        enough          enough   machine dbh      borehole   groundwater   \n",
      "31282  insufficient    insufficient  shallow well  shallow well   groundwater   \n",
      "26348        enough          enough  shallow well  shallow well   groundwater   \n",
      "\n",
      "          waterpoint_type waterpoint_type_group  \n",
      "60739  communal standpipe    communal standpipe  \n",
      "27263  communal standpipe    communal standpipe  \n",
      "37057           hand pump             hand pump  \n",
      "31282           hand pump             hand pump  \n",
      "26348           hand pump             hand pump  \n",
      "\n",
      "[5 rows x 40 columns]\n",
      "            label\n",
      "60739  functional\n",
      "27263  functional\n",
      "37057  functional\n",
      "31282  functional\n",
      "26348  functional\n",
      "(59400, 40)\n",
      "(59400, 1)\n",
      "(59400, 41)\n",
      "['id' 'amount_tsh' 'date_recorded' 'funder' 'gps_height' 'installer'\n",
      " 'longitude' 'latitude' 'wpt_name' 'num_private' 'basin' 'subvillage'\n",
      " 'region' 'region_code' 'district_code' 'lga' 'ward' 'population'\n",
      " 'public_meeting' 'recorded_by' 'scheme_management' 'scheme_name' 'permit'\n",
      " 'construction_year' 'extraction_type' 'extraction_type_group'\n",
      " 'extraction_type_class' 'management' 'management_group' 'payment'\n",
      " 'payment_type' 'water_quality' 'quality_group' 'quantity' 'quantity_group'\n",
      " 'source' 'source_type' 'source_class' 'waterpoint_type'\n",
      " 'waterpoint_type_group' 'label']\n"
     ]
    }
   ],
   "source": [
    "print df_data.head()\n",
    "print df_labels.head()\n",
    "print df_data.tail()\n",
    "print df_labels.tail()\n",
    "print df_data.shape\n",
    "print df_labels.shape\n",
    "\n",
    "df_complete = pd.concat([df_data,df_labels],axis=1)\n",
    "\n",
    "print df_complete.shape\n",
    "print df_complete.columns.values\n",
    "\n"
   ]
  },
  {
   "cell_type": "code",
   "execution_count": 29,
   "metadata": {
    "collapsed": true
   },
   "outputs": [],
   "source": [
    "df_complete.to_csv('/Users/martinrasumoff/map.csv', sep=',', index=False)"
   ]
  },
  {
   "cell_type": "code",
   "execution_count": 30,
   "metadata": {
    "collapsed": false,
    "scrolled": false
   },
   "outputs": [
    {
     "name": "stdout",
     "output_type": "stream",
     "text": [
      "basin: (59400, 9)\n",
      "Public Meeting: (59400, 2)\n",
      "Scheme Management: (59400, 12)\n",
      "permit: (59400, 2)\n",
      "Data Extraction: (59400, 13)\n",
      "Data Extr Type: (59400, 7)\n",
      "Management Group: (59400, 5)\n",
      "Payment Type: (59400, 7)\n",
      "Quality Group: (59400, 6)\n",
      "Quantity Group: (59400, 5)\n",
      "Source Type: (59400, 7)\n",
      "Source Class: (59400, 3)\n",
      "Waterpoint Type: (59400, 6)\n"
     ]
    }
   ],
   "source": [
    "df_data_basin = pd.get_dummies(df_data['basin'])\n",
    "print 'basin:',df_data_basin.shape\n",
    "df_data_public_meeting = pd.get_dummies(df_data['public_meeting'])\n",
    "print 'Public Meeting:',df_data_public_meeting.shape\n",
    "df_data_scheme_mgmnt = pd.get_dummies(df_data['scheme_management'])\n",
    "print 'Scheme Management:',df_data_scheme_mgmnt.shape\n",
    "df_data_permit = pd.get_dummies(df_data['permit'])\n",
    "print 'permit:',df_data_permit.shape\n",
    "df_data_extraction_type_group = pd.get_dummies(df_data['extraction_type_group'])\n",
    "print 'Data Extraction:',df_data_extraction_type_group.shape\n",
    "df_data_extraction_type_class = pd.get_dummies(df_data['extraction_type_class'])\n",
    "print 'Data Extr Type:',df_data_extraction_type_class.shape\n",
    "df_data_management_group = pd.get_dummies(df_data['management_group'])\n",
    "print 'Management Group:',df_data_management_group.shape\n",
    "df_data_payment_type = pd.get_dummies(df_data['payment_type'])\n",
    "print 'Payment Type:',df_data_payment_type.shape\n",
    "df_data_quality_group = pd.get_dummies(df_data['quality_group'])\n",
    "print 'Quality Group:',df_data_quality_group.shape\n",
    "df_data_quantity_group = pd.get_dummies(df_data['quantity_group'])\n",
    "print 'Quantity Group:',df_data_quantity_group.shape\n",
    "df_data_source_type = pd.get_dummies(df_data['source_type'])\n",
    "print 'Source Type:',df_data_source_type.shape\n",
    "df_data_source_class = pd.get_dummies(df_data['source_class'])\n",
    "print 'Source Class:',df_data_source_class.shape\n",
    "df_data_waterpoint_type_group = pd.get_dummies(df_data['waterpoint_type_group'])\n",
    "print 'Waterpoint Type:',df_data_waterpoint_type_group.shape"
   ]
  },
  {
   "cell_type": "code",
   "execution_count": 31,
   "metadata": {
    "collapsed": false
   },
   "outputs": [
    {
     "name": "stdout",
     "output_type": "stream",
     "text": [
      "(59400, 7)\n",
      "(59400, 91)\n"
     ]
    }
   ],
   "source": [
    "df_data = df_data[['amount_tsh','gps_height','longitude','latitude','region_code','district_code',\\\n",
    "                   'population']]\n",
    "\n",
    "df_coded = pd.concat([df_data,df_data_basin,df_data_public_meeting,df_data_scheme_mgmnt,df_data_permit,\\\n",
    "                      df_data_extraction_type_group,df_data_extraction_type_class,df_data_management_group,\\\n",
    "                      df_data_payment_type,df_data_quality_group,df_data_quantity_group,\\\n",
    "                      df_data_source_type,df_data_source_class,df_data_waterpoint_type_group],axis=1)\n",
    "\n",
    "print df_data.shape\n",
    "print df_coded.shape\n"
   ]
  },
  {
   "cell_type": "code",
   "execution_count": 32,
   "metadata": {
    "collapsed": false,
    "scrolled": true
   },
   "outputs": [
    {
     "name": "stdout",
     "output_type": "stream",
     "text": [
      "59400\n",
      "(59400, 91)\n",
      "59400\n",
      "59400\n"
     ]
    }
   ],
   "source": [
    "df_coded.sort_index(inplace=True)\n",
    "df_labels.sort_index(inplace=True)\n",
    "\n",
    "print (df_labels.index == df_coded.index).sum()\n",
    "print df_coded.shape\n",
    "\n",
    "print len(df_labels)\n",
    "print len(df_coded)"
   ]
  },
  {
   "cell_type": "code",
   "execution_count": 33,
   "metadata": {
    "collapsed": false,
    "scrolled": true
   },
   "outputs": [
    {
     "name": "stdout",
     "output_type": "stream",
     "text": [
      "       amount_tsh  gps_height  longitude   latitude  region_code  \\\n",
      "74240           0        1183  37.007726  -3.280868            2   \n",
      "74242           0           0  33.724987  -8.940758           12   \n",
      "74243           0        1188  33.963539  -1.429477           20   \n",
      "74246          50        1428  35.630481  -7.710549           11   \n",
      "74247          50         965  35.432998 -10.639270           10   \n",
      "\n",
      "       district_code  population  Internal  Lake Nyasa  Lake Rukwa  ...    \\\n",
      "74240              7         350         0           0           0  ...     \n",
      "74242              2           0         0           0           0  ...     \n",
      "74243              6          95         0           0           0  ...     \n",
      "74246              1           1         0           0           0  ...     \n",
      "74247              2         900         0           0           0  ...     \n",
      "\n",
      "       spring  groundwater  surface  unknown  cattle trough  \\\n",
      "74240       0            0        1        0              0   \n",
      "74242       0            0        1        0              0   \n",
      "74243       0            0        1        0              0   \n",
      "74246       1            1        0        0              0   \n",
      "74247       0            0        1        0              0   \n",
      "\n",
      "       communal standpipe  dam  hand pump  improved spring  other  \n",
      "74240                   1    0          0                0      0  \n",
      "74242                   1    0          0                0      0  \n",
      "74243                   1    0          0                0      0  \n",
      "74246                   1    0          0                0      0  \n",
      "74247                   1    0          0                0      0  \n",
      "\n",
      "[5 rows x 91 columns]\n",
      "                label\n",
      "74240      functional\n",
      "74242      functional\n",
      "74243  non functional\n",
      "74246  non functional\n",
      "74247  non functional\n"
     ]
    }
   ],
   "source": [
    "print df_coded.tail()\n",
    "print df_labels.tail()"
   ]
  },
  {
   "cell_type": "code",
   "execution_count": 34,
   "metadata": {
    "collapsed": false
   },
   "outputs": [
    {
     "name": "stdout",
     "output_type": "stream",
     "text": [
      "59400\n",
      "(59400, 91)\n"
     ]
    }
   ],
   "source": [
    "print (df_labels.index == df_coded.index).sum()\n",
    "print df_coded.shape\n",
    "\n"
   ]
  },
  {
   "cell_type": "code",
   "execution_count": 35,
   "metadata": {
    "collapsed": false,
    "scrolled": true
   },
   "outputs": [
    {
     "name": "stdout",
     "output_type": "stream",
     "text": [
      "   amount_tsh  gps_height  longitude  latitude  region_code  district_code  \\\n",
      "0           0           0  33.125828 -5.118154           14              3   \n",
      "1           0        1978  34.770717 -9.395642           11              4   \n",
      "2           0           0  36.115056 -6.279268            1              4   \n",
      "3          10        1639  37.147432 -3.187555            3              5   \n",
      "4           0           0  36.164893 -6.099289            1              4   \n",
      "\n",
      "   population  Internal  Lake Nyasa  Lake Rukwa  ...    spring  groundwater  \\\n",
      "0           0         0           0           0  ...         0            1   \n",
      "1          20         0           0           0  ...         0            1   \n",
      "2           0         0           0           0  ...         0            1   \n",
      "3          25         0           0           0  ...         1            1   \n",
      "4           0         0           0           0  ...         0            1   \n",
      "\n",
      "   surface  unknown  cattle trough  communal standpipe  dam  hand pump  \\\n",
      "0        0        0              0                   0    0          1   \n",
      "1        0        0              0                   0    0          1   \n",
      "2        0        0              0                   1    0          0   \n",
      "3        0        0              0                   1    0          0   \n",
      "4        0        0              0                   0    0          1   \n",
      "\n",
      "   improved spring  other  \n",
      "0                0      0  \n",
      "1                0      0  \n",
      "2                0      0  \n",
      "3                0      0  \n",
      "4                0      0  \n",
      "\n",
      "[5 rows x 91 columns]\n",
      "            label\n",
      "0  non functional\n",
      "1      functional\n",
      "2      functional\n",
      "3      functional\n",
      "4  non functional\n"
     ]
    }
   ],
   "source": [
    "print df_coded.head()\n",
    "print df_labels.head()"
   ]
  },
  {
   "cell_type": "code",
   "execution_count": 36,
   "metadata": {
    "collapsed": true
   },
   "outputs": [],
   "source": [
    "%matplotlib inline"
   ]
  },
  {
   "cell_type": "code",
   "execution_count": 37,
   "metadata": {
    "collapsed": false,
    "scrolled": true
   },
   "outputs": [
    {
     "name": "stdout",
     "output_type": "stream",
     "text": [
      "(59400, 91)\n",
      "(44550, 91)\n",
      "(44550, 1)\n",
      "       amount_tsh  gps_height  longitude   latitude  region_code  \\\n",
      "37900           0           0  33.104711  -4.053327           14   \n",
      "40527           0           0  32.569985  -8.954532           12   \n",
      "26058           0        1804  31.736616  -8.439998           15   \n",
      "6969          500        1821  34.774402  -9.123071           11   \n",
      "41018         500         767  36.092962 -10.923966           10   \n",
      "\n",
      "       district_code  population  Internal  Lake Nyasa  Lake Rukwa  ...    \\\n",
      "37900              1           0         1           0           0  ...     \n",
      "40527              6           0         0           0           1  ...     \n",
      "26058              2         200         0           0           1  ...     \n",
      "6969               4         108         0           0           0  ...     \n",
      "41018              5         400         0           0           0  ...     \n",
      "\n",
      "       spring  groundwater  surface  unknown  cattle trough  \\\n",
      "37900       0            1        0        0              0   \n",
      "40527       0            1        0        0              0   \n",
      "26058       0            0        1        0              0   \n",
      "6969        1            1        0        0              0   \n",
      "41018       0            1        0        0              0   \n",
      "\n",
      "       communal standpipe  dam  hand pump  improved spring  other  \n",
      "37900                   1    0          0                0      0  \n",
      "40527                   0    0          1                0      0  \n",
      "26058                   1    0          0                0      0  \n",
      "6969                    1    0          0                0      0  \n",
      "41018                   0    0          1                0      0  \n",
      "\n",
      "[5 rows x 91 columns]\n",
      "                label\n",
      "37900  non functional\n",
      "40527  non functional\n",
      "26058  non functional\n",
      "6969       functional\n",
      "41018      functional\n"
     ]
    }
   ],
   "source": [
    "from sklearn.ensemble import ExtraTreesClassifier\n",
    "from sklearn import metrics\n",
    "\n",
    "print df_coded.shape\n",
    "X_pumps_train, X_pumps_test, y_pumps_train, y_pumps_test = train_test_split(df_coded, df_labels, test_size=0.25, random_state=43)\n",
    "\n",
    "X = X_pumps_train\n",
    "y = y_pumps_train[['label']]\n",
    "\n",
    "print X.shape\n",
    "print y.shape\n",
    "\n",
    "print X.head()\n",
    "print y.head()\n",
    "\n"
   ]
  },
  {
   "cell_type": "code",
   "execution_count": 162,
   "metadata": {
    "collapsed": false
   },
   "outputs": [
    {
     "data": {
      "text/plain": [
       "'max_features : int, float, string or None, optional (default=\\xe2\\x80\\x9dauto\\xe2\\x80\\x9d)\\nThe number of features to consider when looking for the best split:\\nIf int, then consider max_features features at each split.\\nIf float, then max_features is a percentage and int(max_features * n_features) features are considered at each split.\\nIf \\xe2\\x80\\x9cauto\\xe2\\x80\\x9d, then max_features=sqrt(n_features).\\nIf \\xe2\\x80\\x9csqrt\\xe2\\x80\\x9d, then max_features=sqrt(n_features).\\nIf \\xe2\\x80\\x9clog2\\xe2\\x80\\x9d, then max_features=log2(n_features).\\nIf None, then max_features=n_features.\\nNote: the search for a split does not stop until at least one valid partition of the node samples is found, even if it requires to effectively inspect more than max_features features. Note: this parameter is tree-specific.\\nmax_depth : integer or None, optional (default=None)\\nThe maximum depth of the tree. If None, then nodes are expanded until all leaves are pure or until all leaves contain less than min_samples_split samples. Ignored if max_leaf_nodes is not None. Note: this parameter is tree-specific.\\nmin_samples_split : integer, optional (default=2)\\nThe minimum number of samples required to split an internal node. Note: this parameter is tree-specific.\\nmin_samples_leaf : integer, optional (default=1)\\nThe minimum number of samples in newly created leaves. A split is discarded if after the split, one of the leaves would contain less then min_samples_leaf samples. Note: this parameter is tree-specific.\\nmin_weight_fraction_leaf : float, optional (default=0.)\\nThe minimum weighted fraction of the input samples required to be at a leaf node. Note: this parameter is tree-specific.\\nmax_leaf_nodes : int or None, optional (default=None)\\nGrow trees with max_leaf_nodes in best-first fashion. Best nodes are defined as relative reduction in impurity. If None then unlimited number of leaf nodes. If not None then max_depth will be ignored. Note: this parameter is tree-specific.\\n'"
      ]
     },
     "execution_count": 162,
     "metadata": {},
     "output_type": "execute_result"
    }
   ],
   "source": [
    "'''max_features : int, float, string or None, optional (default=”auto”)\n",
    "The number of features to consider when looking for the best split:\n",
    "If int, then consider max_features features at each split.\n",
    "If float, then max_features is a percentage and int(max_features * n_features) features are considered at each split.\n",
    "If “auto”, then max_features=sqrt(n_features).\n",
    "If “sqrt”, then max_features=sqrt(n_features).\n",
    "If “log2”, then max_features=log2(n_features).\n",
    "If None, then max_features=n_features.\n",
    "Note: the search for a split does not stop until at least one valid partition of the node samples is found, even if it requires to effectively inspect more than max_features features. Note: this parameter is tree-specific.\n",
    "max_depth : integer or None, optional (default=None)\n",
    "The maximum depth of the tree. If None, then nodes are expanded until all leaves are pure or until all leaves contain less than min_samples_split samples. Ignored if max_leaf_nodes is not None. Note: this parameter is tree-specific.\n",
    "min_samples_split : integer, optional (default=2)\n",
    "The minimum number of samples required to split an internal node. Note: this parameter is tree-specific.\n",
    "min_samples_leaf : integer, optional (default=1)\n",
    "The minimum number of samples in newly created leaves. A split is discarded if after the split, one of the leaves would contain less then min_samples_leaf samples. Note: this parameter is tree-specific.\n",
    "min_weight_fraction_leaf : float, optional (default=0.)\n",
    "The minimum weighted fraction of the input samples required to be at a leaf node. Note: this parameter is tree-specific.\n",
    "max_leaf_nodes : int or None, optional (default=None)\n",
    "Grow trees with max_leaf_nodes in best-first fashion. Best nodes are defined as relative reduction in impurity. If None then unlimited number of leaf nodes. If not None then max_depth will be ignored. Note: this parameter is tree-specific.\n",
    "'''"
   ]
  },
  {
   "cell_type": "code",
   "execution_count": 39,
   "metadata": {
    "collapsed": false,
    "scrolled": true
   },
   "outputs": [
    {
     "name": "stdout",
     "output_type": "stream",
     "text": [
      "(29, 19)\n",
      "(29, 19)\n",
      "(29, 19)\n",
      "(29, 19)\n",
      "+++++++++++++++++++"
     ]
    },
    {
     "name": "stderr",
     "output_type": "stream",
     "text": [
      "//anaconda/lib/python2.7/site-packages/sklearn/base.py:436: DataConversionWarning: A column-vector y was passed when a 1d array was expected. Please change the shape of y to (n_samples,), for example using ravel().\n",
      "  return self.fit(X, y, **fit_params).transform(X)\n",
      "//anaconda/lib/python2.7/site-packages/sklearn/base.py:436: DataConversionWarning: A column-vector y was passed when a 1d array was expected. Please change the shape of y to (n_samples,), for example using ravel().\n",
      "  return self.fit(X, y, **fit_params).transform(X)\n"
     ]
    },
    {
     "name": "stdout",
     "output_type": "stream",
     "text": [
      "\n",
      "Number of Estimators:  2\n",
      "Min Leaves:  2\n",
      "Classes:  ['functional' 'functional needs repair' 'non functional']\n",
      "+++++++++++++++++++\n",
      "Accuracy Score:  0.611851851852\n",
      "Precision Score: [ 0.58894321  0.          0.80771704]\n",
      "Recall Score: [ 0.96929933  0.          0.22132159]\n",
      "Fl Score: [ 0.73270014  0.          0.34744122]\n",
      "------------------\n",
      "+++++++++++++++++++\n",
      "Number of Estimators:  2\n",
      "Min Leaves:  3\n",
      "Classes:  ['functional' 'functional needs repair' 'non functional']\n",
      "+++++++++++++++++++\n",
      "Accuracy Score:  0.618181818182\n",
      "Precision Score: [ 0.59319594  0.          0.81779661]\n",
      "Recall Score: [ 0.96917554  0.          0.23806167]\n",
      "Fl Score: [ 0.73594661  0.          0.36877303]\n",
      "------------------\n",
      "+++++++++++++++++++"
     ]
    },
    {
     "name": "stderr",
     "output_type": "stream",
     "text": [
      "//anaconda/lib/python2.7/site-packages/sklearn/base.py:436: DataConversionWarning: A column-vector y was passed when a 1d array was expected. Please change the shape of y to (n_samples,), for example using ravel().\n",
      "  return self.fit(X, y, **fit_params).transform(X)\n",
      "//anaconda/lib/python2.7/site-packages/sklearn/base.py:436: DataConversionWarning: A column-vector y was passed when a 1d array was expected. Please change the shape of y to (n_samples,), for example using ravel().\n",
      "  return self.fit(X, y, **fit_params).transform(X)\n"
     ]
    },
    {
     "name": "stdout",
     "output_type": "stream",
     "text": [
      "\n",
      "Number of Estimators:  2\n",
      "Min Leaves:  4\n",
      "Classes:  ['functional' 'functional needs repair' 'non functional']\n",
      "+++++++++++++++++++\n",
      "Accuracy Score:  0.648080808081\n",
      "Precision Score: [ 0.61009174  0.          0.92881356]\n",
      "Recall Score: [ 0.98786828  0.          0.28969163]\n",
      "Fl Score: [ 0.75432461  0.          0.44163868]\n",
      "------------------\n",
      "+++++++++++++++++++\n",
      "Number of Estimators:  2\n",
      "Min Leaves:  5\n",
      "Classes:  ['functional' 'functional needs repair' 'non functional']\n",
      "+++++++++++++++++++\n",
      "Accuracy Score:  0.613131313131\n",
      "Precision Score: [ 0.58488237  0.          0.97402597]\n",
      "Recall Score: [ 0.99715276  0.          0.18502203]\n",
      "Fl Score: [ 0.73729977  0.          0.3109729 ]\n",
      "------------------\n",
      "+++++++++++++++++++"
     ]
    },
    {
     "name": "stderr",
     "output_type": "stream",
     "text": [
      "//anaconda/lib/python2.7/site-packages/sklearn/base.py:436: DataConversionWarning: A column-vector y was passed when a 1d array was expected. Please change the shape of y to (n_samples,), for example using ravel().\n",
      "  return self.fit(X, y, **fit_params).transform(X)\n",
      "//anaconda/lib/python2.7/site-packages/sklearn/base.py:436: DataConversionWarning: A column-vector y was passed when a 1d array was expected. Please change the shape of y to (n_samples,), for example using ravel().\n",
      "  return self.fit(X, y, **fit_params).transform(X)\n"
     ]
    },
    {
     "name": "stdout",
     "output_type": "stream",
     "text": [
      "\n",
      "Number of Estimators:  2\n",
      "Min Leaves:  6\n",
      "Classes:  ['functional' 'functional needs repair' 'non functional']\n",
      "+++++++++++++++++++\n",
      "Accuracy Score:  0.654074074074\n",
      "Precision Score: [ 0.61890389  0.          0.85      ]\n",
      "Recall Score: [ 0.9645952  0.         0.3385022]\n",
      "Fl Score: [ 0.75401587  0.          0.48418399]\n",
      "------------------\n",
      "+++++++++++++++++++\n",
      "Number of Estimators:  2\n",
      "Min Leaves:  7\n",
      "Classes:  ['functional' 'functional needs repair' 'non functional']\n",
      "+++++++++++++++++++\n",
      "Accuracy Score:  0.637575757576\n",
      "Precision Score: [ 0.61477078  0.          0.74659401]\n",
      "Recall Score: [ 0.93463729  0.          0.33797357]\n",
      "Fl Score: [ 0.74168672  0.          0.4653081 ]\n",
      "------------------\n",
      "+++++++++++++++++++"
     ]
    },
    {
     "name": "stderr",
     "output_type": "stream",
     "text": [
      "//anaconda/lib/python2.7/site-packages/sklearn/base.py:436: DataConversionWarning: A column-vector y was passed when a 1d array was expected. Please change the shape of y to (n_samples,), for example using ravel().\n",
      "  return self.fit(X, y, **fit_params).transform(X)\n",
      "//anaconda/lib/python2.7/site-packages/sklearn/base.py:436: DataConversionWarning: A column-vector y was passed when a 1d array was expected. Please change the shape of y to (n_samples,), for example using ravel().\n",
      "  return self.fit(X, y, **fit_params).transform(X)\n"
     ]
    },
    {
     "name": "stdout",
     "output_type": "stream",
     "text": [
      "\n",
      "Number of Estimators:  2\n",
      "Min Leaves:  8\n",
      "Classes:  ['functional' 'functional needs repair' 'non functional']\n",
      "+++++++++++++++++++\n",
      "Accuracy Score:  0.649023569024\n",
      "Precision Score: [ 0.62013934  0.          0.79130088]\n",
      "Recall Score: [ 0.94763555  0.          0.34942731]\n",
      "Fl Score: [ 0.74968172  0.          0.48478181]\n",
      "------------------\n",
      "+++++++++++++++++++\n",
      "Number of Estimators:  2\n",
      "Min Leaves:  9\n",
      "Classes:  ['functional' 'functional needs repair' 'non functional']\n",
      "+++++++++++++++++++\n",
      "Accuracy Score:  0.650774410774\n",
      "Precision Score: [ 0.62675642  0.          0.7470489 ]\n",
      "Recall Score: [ 0.92213419  0.          0.39030837]\n",
      "Fl Score: [ 0.74628062  0.          0.51273148]\n",
      "------------------\n",
      "+++++++++++++++++++"
     ]
    },
    {
     "name": "stderr",
     "output_type": "stream",
     "text": [
      "//anaconda/lib/python2.7/site-packages/sklearn/base.py:436: DataConversionWarning: A column-vector y was passed when a 1d array was expected. Please change the shape of y to (n_samples,), for example using ravel().\n",
      "  return self.fit(X, y, **fit_params).transform(X)\n",
      "//anaconda/lib/python2.7/site-packages/sklearn/base.py:436: DataConversionWarning: A column-vector y was passed when a 1d array was expected. Please change the shape of y to (n_samples,), for example using ravel().\n",
      "  return self.fit(X, y, **fit_params).transform(X)\n"
     ]
    },
    {
     "name": "stdout",
     "output_type": "stream",
     "text": [
      "\n",
      "Number of Estimators:  2\n",
      "Min Leaves:  10\n",
      "Classes:  ['functional' 'functional needs repair' 'non functional']\n",
      "+++++++++++++++++++\n",
      "Accuracy Score:  0.65797979798\n",
      "Precision Score: [ 0.61930654  0.          0.88518519]\n",
      "Recall Score: [ 0.97288933  0.          0.3369163 ]\n",
      "Fl Score: [ 0.75683744  0.          0.48806637]\n",
      "------------------\n",
      "+++++++++++++++++++\n",
      "Number of Estimators:  2\n",
      "Min Leaves:  11\n",
      "Classes:  ['functional' 'functional needs repair' 'non functional']\n",
      "+++++++++++++++++++\n",
      "Accuracy Score:  0.627878787879\n",
      "Precision Score: [ 0.60625553  0.          0.73932864]\n",
      "Recall Score: [ 0.93339936  0.          0.31436123]\n",
      "Fl Score: [ 0.7350719   0.          0.44114738]\n",
      "------------------\n",
      "+++++++++++++++++++"
     ]
    },
    {
     "name": "stderr",
     "output_type": "stream",
     "text": [
      "//anaconda/lib/python2.7/site-packages/sklearn/base.py:436: DataConversionWarning: A column-vector y was passed when a 1d array was expected. Please change the shape of y to (n_samples,), for example using ravel().\n",
      "  return self.fit(X, y, **fit_params).transform(X)\n",
      "//anaconda/lib/python2.7/site-packages/sklearn/base.py:436: DataConversionWarning: A column-vector y was passed when a 1d array was expected. Please change the shape of y to (n_samples,), for example using ravel().\n",
      "  return self.fit(X, y, **fit_params).transform(X)\n"
     ]
    },
    {
     "name": "stdout",
     "output_type": "stream",
     "text": [
      "\n",
      "Number of Estimators:  2\n",
      "Min Leaves:  12\n",
      "Classes:  ['functional' 'functional needs repair' 'non functional']\n",
      "+++++++++++++++++++\n",
      "Accuracy Score:  0.645117845118\n",
      "Precision Score: [ 0.62808854  0.          0.70726362]\n",
      "Recall Score: [ 0.90628869  0.          0.39806167]\n",
      "Fl Score: [ 0.74196818  0.          0.50941482]\n",
      "------------------\n",
      "+++++++++++++++++++\n",
      "Number of Estimators:  2\n",
      "Min Leaves:  13\n",
      "Classes:  ['functional' 'functional needs repair' 'non functional']\n",
      "+++++++++++++++++++\n",
      "Accuracy Score:  0.695824915825\n",
      "Precision Score: [ 0.64979707  0.73333333  0.8968139 ]\n",
      "Recall Score: [ 0.97115623  0.01002735  0.43647577]\n",
      "Fl Score: [ 0.77862141  0.01978417  0.58717554]\n",
      "------------------\n",
      "+++++++++++++++++++"
     ]
    },
    {
     "name": "stderr",
     "output_type": "stream",
     "text": [
      "//anaconda/lib/python2.7/site-packages/sklearn/base.py:436: DataConversionWarning: A column-vector y was passed when a 1d array was expected. Please change the shape of y to (n_samples,), for example using ravel().\n",
      "  return self.fit(X, y, **fit_params).transform(X)\n",
      "//anaconda/lib/python2.7/site-packages/sklearn/base.py:436: DataConversionWarning: A column-vector y was passed when a 1d array was expected. Please change the shape of y to (n_samples,), for example using ravel().\n",
      "  return self.fit(X, y, **fit_params).transform(X)\n"
     ]
    },
    {
     "name": "stdout",
     "output_type": "stream",
     "text": [
      "\n",
      "Number of Estimators:  2\n",
      "Min Leaves:  14\n",
      "Classes:  ['functional' 'functional needs repair' 'non functional']\n",
      "+++++++++++++++++++\n",
      "Accuracy Score:  0.662424242424\n",
      "Precision Score: [ 0.63151767  0.          0.7939823 ]\n",
      "Recall Score: [ 0.94008418  0.          0.39524229]\n",
      "Fl Score: [ 0.75550913  0.          0.52776471]\n",
      "------------------\n",
      "+++++++++++++++++++\n",
      "Number of Estimators:  2\n",
      "Min Leaves:  15\n",
      "Classes:  ['functional' 'functional needs repair' 'non functional']\n",
      "+++++++++++++++++++\n",
      "Accuracy Score:  0.665185185185\n",
      "Precision Score: [ 0.64925239  0.          0.71237994]\n",
      "Recall Score: [ 0.89230007  0.          0.47048458]\n",
      "Fl Score: [ 0.75161627  0.          0.5666985 ]\n",
      "------------------\n",
      "+++++++++++++++++++"
     ]
    },
    {
     "name": "stderr",
     "output_type": "stream",
     "text": [
      "//anaconda/lib/python2.7/site-packages/sklearn/base.py:436: DataConversionWarning: A column-vector y was passed when a 1d array was expected. Please change the shape of y to (n_samples,), for example using ravel().\n",
      "  return self.fit(X, y, **fit_params).transform(X)\n",
      "//anaconda/lib/python2.7/site-packages/sklearn/base.py:436: DataConversionWarning: A column-vector y was passed when a 1d array was expected. Please change the shape of y to (n_samples,), for example using ravel().\n",
      "  return self.fit(X, y, **fit_params).transform(X)\n"
     ]
    },
    {
     "name": "stdout",
     "output_type": "stream",
     "text": [
      "\n",
      "Number of Estimators:  2\n",
      "Min Leaves:  16\n",
      "Classes:  ['functional' 'functional needs repair' 'non functional']\n",
      "+++++++++++++++++++\n",
      "Accuracy Score:  0.661885521886\n",
      "Precision Score: [ 0.63151796  0.          0.79443642]\n",
      "Recall Score: [ 0.94454073  0.          0.38748899]\n",
      "Fl Score: [ 0.75694444  0.          0.52090489]\n",
      "------------------\n",
      "+++++++++++++++++++\n",
      "Number of Estimators:  2\n",
      "Min Leaves:  17\n",
      "Classes:  ['functional' 'functional needs repair' 'non functional']\n",
      "+++++++++++++++++++\n",
      "Accuracy Score:  0.677373737374\n",
      "Precision Score: [ 0.63890039  0.          0.84493329]\n",
      "Recall Score: [ 0.95518693  0.          0.41286344]\n",
      "Fl Score: [ 0.76566609  0.          0.5546875 ]\n",
      "------------------\n",
      "+++++++++++++++++++"
     ]
    },
    {
     "name": "stderr",
     "output_type": "stream",
     "text": [
      "//anaconda/lib/python2.7/site-packages/sklearn/base.py:436: DataConversionWarning: A column-vector y was passed when a 1d array was expected. Please change the shape of y to (n_samples,), for example using ravel().\n",
      "  return self.fit(X, y, **fit_params).transform(X)\n",
      "//anaconda/lib/python2.7/site-packages/sklearn/base.py:436: DataConversionWarning: A column-vector y was passed when a 1d array was expected. Please change the shape of y to (n_samples,), for example using ravel().\n",
      "  return self.fit(X, y, **fit_params).transform(X)\n"
     ]
    },
    {
     "name": "stdout",
     "output_type": "stream",
     "text": [
      "\n",
      "Number of Estimators:  2\n",
      "Min Leaves:  18\n",
      "Classes:  ['functional' 'functional needs repair' 'non functional']\n",
      "+++++++++++++++++++\n",
      "Accuracy Score:  0.69063973064\n",
      "Precision Score: [ 0.65241922  0.          0.83248731]\n",
      "Recall Score: [ 0.94478831  0.          0.46237885]\n",
      "Fl Score: [ 0.77184466  0.          0.59453948]\n",
      "------------------\n",
      "+++++++++++++++++++\n",
      "Number of Estimators:  2\n",
      "Min Leaves:  19\n",
      "Classes:  ['functional' 'functional needs repair' 'non functional']\n",
      "+++++++++++++++++++\n",
      "Accuracy Score:  0.679191919192\n",
      "Precision Score: [ 0.66929816  0.          0.70221824]\n",
      "Recall Score: [ 0.86060906  0.          0.5522467 ]\n",
      "Fl Score: [ 0.75299215  0.          0.6182679 ]\n",
      "------------------\n",
      "+++++++++++++++++++"
     ]
    },
    {
     "name": "stderr",
     "output_type": "stream",
     "text": [
      "//anaconda/lib/python2.7/site-packages/sklearn/base.py:436: DataConversionWarning: A column-vector y was passed when a 1d array was expected. Please change the shape of y to (n_samples,), for example using ravel().\n",
      "  return self.fit(X, y, **fit_params).transform(X)\n",
      "//anaconda/lib/python2.7/site-packages/sklearn/base.py:436: DataConversionWarning: A column-vector y was passed when a 1d array was expected. Please change the shape of y to (n_samples,), for example using ravel().\n",
      "  return self.fit(X, y, **fit_params).transform(X)\n"
     ]
    },
    {
     "name": "stdout",
     "output_type": "stream",
     "text": [
      "\n",
      "Number of Estimators:  2\n",
      "Min Leaves:  20\n",
      "Classes:  ['functional' 'functional needs repair' 'non functional']\n",
      "+++++++++++++++++++\n",
      "Accuracy Score:  0.667070707071\n",
      "Precision Score: [ 0.63148874  0.          0.83487298]\n",
      "Recall Score: [ 0.95778658  0.          0.38220264]\n",
      "Fl Score: [ 0.76114117  0.          0.52435634]\n",
      "------------------\n",
      "+++++++++++++++++++\n",
      "Number of Estimators:  3\n",
      "Min Leaves:  2\n",
      "Classes:  ['functional' 'functional needs repair' 'non functional']\n",
      "+++++++++++++++++++\n",
      "Accuracy Score:  0.611851851852\n",
      "Precision Score: [ 0.58894321  0.          0.80771704]\n",
      "Recall Score: [ 0.96929933  0.          0.22132159]\n",
      "Fl Score: [ 0.73270014  0.          0.34744122]\n",
      "------------------\n",
      "+++++++++++++++++++"
     ]
    },
    {
     "name": "stderr",
     "output_type": "stream",
     "text": [
      "//anaconda/lib/python2.7/site-packages/sklearn/base.py:436: DataConversionWarning: A column-vector y was passed when a 1d array was expected. Please change the shape of y to (n_samples,), for example using ravel().\n",
      "  return self.fit(X, y, **fit_params).transform(X)\n",
      "//anaconda/lib/python2.7/site-packages/sklearn/base.py:436: DataConversionWarning: A column-vector y was passed when a 1d array was expected. Please change the shape of y to (n_samples,), for example using ravel().\n",
      "  return self.fit(X, y, **fit_params).transform(X)\n"
     ]
    },
    {
     "name": "stdout",
     "output_type": "stream",
     "text": [
      "\n",
      "Number of Estimators:  3\n",
      "Min Leaves:  3\n",
      "Classes:  ['functional' 'functional needs repair' 'non functional']\n",
      "+++++++++++++++++++\n",
      "Accuracy Score:  0.623838383838\n",
      "Precision Score: [ 0.59828928  0.          0.80085424]\n",
      "Recall Score: [ 0.96112899  0.          0.26431718]\n",
      "Fl Score: [ 0.73749703  0.          0.39745628]\n",
      "------------------\n",
      "+++++++++++++++++++\n",
      "Number of Estimators:  3\n",
      "Min Leaves:  4\n",
      "Classes:  ['functional' 'functional needs repair' 'non functional']\n",
      "+++++++++++++++++++\n",
      "Accuracy Score:  0.631582491582\n",
      "Precision Score: [ 0.6042735   0.          0.80909091]\n",
      "Recall Score: [ 0.9627383   0.          0.28229075]\n",
      "Fl Score: [ 0.74250525  0.          0.41854997]\n",
      "------------------\n",
      "+++++++++++++++++++"
     ]
    },
    {
     "name": "stderr",
     "output_type": "stream",
     "text": [
      "//anaconda/lib/python2.7/site-packages/sklearn/base.py:436: DataConversionWarning: A column-vector y was passed when a 1d array was expected. Please change the shape of y to (n_samples,), for example using ravel().\n",
      "  return self.fit(X, y, **fit_params).transform(X)\n",
      "//anaconda/lib/python2.7/site-packages/sklearn/base.py:436: DataConversionWarning: A column-vector y was passed when a 1d array was expected. Please change the shape of y to (n_samples,), for example using ravel().\n",
      "  return self.fit(X, y, **fit_params).transform(X)\n"
     ]
    },
    {
     "name": "stdout",
     "output_type": "stream",
     "text": [
      "\n",
      "Number of Estimators:  3\n",
      "Min Leaves:  5\n",
      "Classes:  ['functional' 'functional needs repair' 'non functional']\n",
      "+++++++++++++++++++\n",
      "Accuracy Score:  0.638720538721\n",
      "Precision Score: [ 0.61019633  0.          0.80117223]\n",
      "Recall Score: [ 0.95419658  0.          0.31312775]\n",
      "Fl Score: [ 0.7443747   0.          0.45027239]\n",
      "------------------\n",
      "+++++++++++++++++++\n",
      "Number of Estimators:  3\n",
      "Min Leaves:  6\n",
      "Classes:  ['functional' 'functional needs repair' 'non functional']\n",
      "+++++++++++++++++++\n",
      "Accuracy Score:  0.672861952862\n",
      "Precision Score: [ 0.63340935  0.          0.86119751]\n",
      "Recall Score: [ 0.9627383   0.          0.39030837]\n",
      "Fl Score: [ 0.76409904  0.          0.53716503]\n",
      "------------------\n",
      "+++++++++++++++++++"
     ]
    },
    {
     "name": "stderr",
     "output_type": "stream",
     "text": [
      "//anaconda/lib/python2.7/site-packages/sklearn/base.py:436: DataConversionWarning: A column-vector y was passed when a 1d array was expected. Please change the shape of y to (n_samples,), for example using ravel().\n",
      "  return self.fit(X, y, **fit_params).transform(X)\n",
      "//anaconda/lib/python2.7/site-packages/sklearn/base.py:436: DataConversionWarning: A column-vector y was passed when a 1d array was expected. Please change the shape of y to (n_samples,), for example using ravel().\n",
      "  return self.fit(X, y, **fit_params).transform(X)\n"
     ]
    },
    {
     "name": "stdout",
     "output_type": "stream",
     "text": [
      "\n",
      "Number of Estimators:  3\n",
      "Min Leaves:  7\n",
      "Classes:  ['functional' 'functional needs repair' 'non functional']\n",
      "+++++++++++++++++++\n",
      "Accuracy Score:  0.645723905724\n",
      "Precision Score: [ 0.61471242  0.          0.81830239]\n",
      "Recall Score: [ 0.95791037  0.          0.3261674 ]\n",
      "Fl Score: [ 0.74886287  0.          0.46642308]\n",
      "------------------\n",
      "+++++++++++++++++++\n",
      "Number of Estimators:  3\n",
      "Min Leaves:  8\n",
      "Classes:  ['functional' 'functional needs repair' 'non functional']\n",
      "+++++++++++++++++++\n",
      "Accuracy Score:  0.68632996633\n",
      "Precision Score: [ 0.64111754  0.          0.90205985]\n",
      "Recall Score: [ 0.97437485  0.          0.40898678]\n",
      "Fl Score: [ 0.77337264  0.          0.5628031 ]\n",
      "------------------\n",
      "+++++++++++++++++++"
     ]
    },
    {
     "name": "stderr",
     "output_type": "stream",
     "text": [
      "//anaconda/lib/python2.7/site-packages/sklearn/base.py:436: DataConversionWarning: A column-vector y was passed when a 1d array was expected. Please change the shape of y to (n_samples,), for example using ravel().\n",
      "  return self.fit(X, y, **fit_params).transform(X)\n",
      "//anaconda/lib/python2.7/site-packages/sklearn/base.py:436: DataConversionWarning: A column-vector y was passed when a 1d array was expected. Please change the shape of y to (n_samples,), for example using ravel().\n",
      "  return self.fit(X, y, **fit_params).transform(X)\n"
     ]
    },
    {
     "name": "stdout",
     "output_type": "stream",
     "text": [
      "\n",
      "Number of Estimators:  3\n",
      "Min Leaves:  9\n",
      "Classes:  ['functional' 'functional needs repair' 'non functional']\n",
      "+++++++++++++++++++\n",
      "Accuracy Score:  0.699124579125\n",
      "Precision Score: [ 0.65979648  0.          0.83927474]\n",
      "Recall Score: [ 0.94714038  0.          0.48123348]\n",
      "Fl Score: [ 0.77777778  0.          0.61171464]\n",
      "------------------\n",
      "+++++++++++++++++++\n",
      "Number of Estimators:  3\n",
      "Min Leaves:  10\n",
      "Classes:  ['functional' 'functional needs repair' 'non functional']\n",
      "+++++++++++++++++++\n",
      "Accuracy Score:  0.676767676768\n",
      "Precision Score: [ 0.64958242  0.          0.7657554 ]\n",
      "Recall Score: [ 0.91470661  0.          0.46889868]\n",
      "Fl Score: [ 0.75967717  0.          0.58163934]\n",
      "------------------\n",
      "+++++++++++++++++++"
     ]
    },
    {
     "name": "stderr",
     "output_type": "stream",
     "text": [
      "//anaconda/lib/python2.7/site-packages/sklearn/base.py:436: DataConversionWarning: A column-vector y was passed when a 1d array was expected. Please change the shape of y to (n_samples,), for example using ravel().\n",
      "  return self.fit(X, y, **fit_params).transform(X)\n",
      "//anaconda/lib/python2.7/site-packages/sklearn/base.py:436: DataConversionWarning: A column-vector y was passed when a 1d array was expected. Please change the shape of y to (n_samples,), for example using ravel().\n",
      "  return self.fit(X, y, **fit_params).transform(X)\n"
     ]
    },
    {
     "name": "stdout",
     "output_type": "stream",
     "text": [
      "\n",
      "Number of Estimators:  3\n",
      "Min Leaves:  11\n",
      "Classes:  ['functional' 'functional needs repair' 'non functional']\n",
      "+++++++++++++++++++\n",
      "Accuracy Score:  0.65037037037\n",
      "Precision Score: [ 0.62688707  0.          0.74340127]\n",
      "Recall Score: [ 0.9201535   0.          0.39207048]\n",
      "Fl Score: [ 0.7457236   0.          0.51338256]\n",
      "------------------\n",
      "+++++++++++++++++++\n",
      "Number of Estimators:  3\n",
      "Min Leaves:  12\n",
      "Classes:  ['functional' 'functional needs repair' 'non functional']\n",
      "+++++++++++++++++++\n",
      "Accuracy Score:  0.665589225589\n",
      "Precision Score: [ 0.64197852  0.          0.74803388]\n",
      "Recall Score: [ 0.91743006  0.          0.43577093]\n",
      "Fl Score: [ 0.75537662  0.          0.55071818]\n",
      "------------------\n",
      "+++++++++++++++++++"
     ]
    },
    {
     "name": "stderr",
     "output_type": "stream",
     "text": [
      "//anaconda/lib/python2.7/site-packages/sklearn/base.py:436: DataConversionWarning: A column-vector y was passed when a 1d array was expected. Please change the shape of y to (n_samples,), for example using ravel().\n",
      "  return self.fit(X, y, **fit_params).transform(X)\n",
      "//anaconda/lib/python2.7/site-packages/sklearn/base.py:436: DataConversionWarning: A column-vector y was passed when a 1d array was expected. Please change the shape of y to (n_samples,), for example using ravel().\n",
      "  return self.fit(X, y, **fit_params).transform(X)\n"
     ]
    },
    {
     "name": "stdout",
     "output_type": "stream",
     "text": [
      "\n",
      "Number of Estimators:  3\n",
      "Min Leaves:  13\n",
      "Classes:  ['functional' 'functional needs repair' 'non functional']\n",
      "+++++++++++++++++++\n",
      "Accuracy Score:  0.695488215488\n",
      "Precision Score: [ 0.65711835  0.          0.83573668]\n",
      "Recall Score: [ 0.9485021   0.          0.46977974]\n",
      "Fl Score: [ 0.77637045  0.          0.60146644]\n",
      "------------------\n",
      "+++++++++++++++++++\n",
      "Number of Estimators:  3\n",
      "Min Leaves:  14\n",
      "Classes:  ['functional' 'functional needs repair' 'non functional']\n",
      "+++++++++++++++++++\n",
      "Accuracy Score:  0.684983164983\n",
      "Precision Score: [ 0.65193947  0.          0.79832936]\n",
      "Recall Score: [ 0.92795246  0.          0.47154185]\n",
      "Fl Score: [ 0.76583572  0.          0.592888  ]\n",
      "------------------\n",
      "+++++++++++++++++++"
     ]
    },
    {
     "name": "stderr",
     "output_type": "stream",
     "text": [
      "//anaconda/lib/python2.7/site-packages/sklearn/base.py:436: DataConversionWarning: A column-vector y was passed when a 1d array was expected. Please change the shape of y to (n_samples,), for example using ravel().\n",
      "  return self.fit(X, y, **fit_params).transform(X)\n",
      "//anaconda/lib/python2.7/site-packages/sklearn/base.py:436: DataConversionWarning: A column-vector y was passed when a 1d array was expected. Please change the shape of y to (n_samples,), for example using ravel().\n",
      "  return self.fit(X, y, **fit_params).transform(X)\n"
     ]
    },
    {
     "name": "stdout",
     "output_type": "stream",
     "text": [
      "\n",
      "Number of Estimators:  3\n",
      "Min Leaves:  15\n",
      "Classes:  ['functional' 'functional needs repair' 'non functional']\n",
      "+++++++++++++++++++\n",
      "Accuracy Score:  0.679259259259\n",
      "Precision Score: [ 0.63906494  0.          0.86005183]\n",
      "Recall Score: [ 0.96112899  0.          0.40933921]\n",
      "Fl Score: [ 0.76768676  0.          0.55468004]\n",
      "------------------\n",
      "+++++++++++++++++++\n",
      "Number of Estimators:  3\n",
      "Min Leaves:  16\n",
      "Classes:  ['functional' 'functional needs repair' 'non functional']\n",
      "+++++++++++++++++++\n",
      "Accuracy Score:  0.705656565657\n",
      "Precision Score: [ 0.66428264  0.          0.85362096]\n",
      "Recall Score: [ 0.95432038  0.          0.48810573]\n",
      "Fl Score: [ 0.78331555  0.          0.62107623]\n",
      "------------------\n",
      "+++++++++++++++++++"
     ]
    },
    {
     "name": "stderr",
     "output_type": "stream",
     "text": [
      "//anaconda/lib/python2.7/site-packages/sklearn/base.py:436: DataConversionWarning: A column-vector y was passed when a 1d array was expected. Please change the shape of y to (n_samples,), for example using ravel().\n",
      "  return self.fit(X, y, **fit_params).transform(X)\n",
      "//anaconda/lib/python2.7/site-packages/sklearn/base.py:436: DataConversionWarning: A column-vector y was passed when a 1d array was expected. Please change the shape of y to (n_samples,), for example using ravel().\n",
      "  return self.fit(X, y, **fit_params).transform(X)\n"
     ]
    },
    {
     "name": "stdout",
     "output_type": "stream",
     "text": [
      "\n",
      "Number of Estimators:  3\n",
      "Min Leaves:  17\n",
      "Classes:  ['functional' 'functional needs repair' 'non functional']\n",
      "+++++++++++++++++++\n",
      "Accuracy Score:  0.698855218855\n",
      "Precision Score: [ 0.65657761  0.          0.86432826]\n",
      "Recall Score: [ 0.96137658  0.          0.46026432]\n",
      "Fl Score: [ 0.78026726  0.          0.6006669 ]\n",
      "------------------\n",
      "+++++++++++++++++++\n",
      "Number of Estimators:  3\n",
      "Min Leaves:  18\n",
      "Classes:  ['functional' 'functional needs repair' 'non functional']\n",
      "+++++++++++++++++++\n",
      "Accuracy Score:  0.664781144781\n",
      "Precision Score: [ 0.63378151  0.          0.78983051]\n",
      "Recall Score: [ 0.93364694  0.          0.41057269]\n",
      "Fl Score: [ 0.75503053  0.          0.54028986]\n",
      "------------------\n",
      "+++++++++++++++++++"
     ]
    },
    {
     "name": "stderr",
     "output_type": "stream",
     "text": [
      "//anaconda/lib/python2.7/site-packages/sklearn/base.py:436: DataConversionWarning: A column-vector y was passed when a 1d array was expected. Please change the shape of y to (n_samples,), for example using ravel().\n",
      "  return self.fit(X, y, **fit_params).transform(X)\n",
      "//anaconda/lib/python2.7/site-packages/sklearn/base.py:436: DataConversionWarning: A column-vector y was passed when a 1d array was expected. Please change the shape of y to (n_samples,), for example using ravel().\n",
      "  return self.fit(X, y, **fit_params).transform(X)\n"
     ]
    },
    {
     "name": "stdout",
     "output_type": "stream",
     "text": [
      "\n",
      "Number of Estimators:  3\n",
      "Min Leaves:  19\n",
      "Classes:  ['functional' 'functional needs repair' 'non functional']\n",
      "+++++++++++++++++++\n",
      "Accuracy Score:  0.701144781145\n",
      "Precision Score: [ 0.65912984  0.          0.85570258]\n",
      "Recall Score: [ 0.95271107  0.          0.47859031]\n",
      "Fl Score: [ 0.77918396  0.          0.61385467]\n",
      "------------------\n",
      "+++++++++++++++++++\n",
      "Number of Estimators:  3\n",
      "Min Leaves:  20\n",
      "Classes:  ['functional' 'functional needs repair' 'non functional']\n",
      "+++++++++++++++++++\n",
      "Accuracy Score:  0.695353535354\n",
      "Precision Score: [ 0.65815001  0.          0.8253632 ]\n",
      "Recall Score: [ 0.94070314  0.          0.48052863]\n",
      "Fl Score: [ 0.77445985  0.          0.60741731]\n",
      "------------------\n",
      "+++++++++++++++++++"
     ]
    },
    {
     "name": "stderr",
     "output_type": "stream",
     "text": [
      "//anaconda/lib/python2.7/site-packages/sklearn/base.py:436: DataConversionWarning: A column-vector y was passed when a 1d array was expected. Please change the shape of y to (n_samples,), for example using ravel().\n",
      "  return self.fit(X, y, **fit_params).transform(X)\n",
      "//anaconda/lib/python2.7/site-packages/sklearn/base.py:436: DataConversionWarning: A column-vector y was passed when a 1d array was expected. Please change the shape of y to (n_samples,), for example using ravel().\n",
      "  return self.fit(X, y, **fit_params).transform(X)\n"
     ]
    },
    {
     "name": "stdout",
     "output_type": "stream",
     "text": [
      "\n",
      "Number of Estimators:  4\n",
      "Min Leaves:  2\n",
      "Classes:  ['functional' 'functional needs repair' 'non functional']\n",
      "+++++++++++++++++++\n",
      "Accuracy Score:  0.669292929293\n",
      "Precision Score: [ 0.62564706  0.          0.93428571]\n",
      "Recall Score: [ 0.98749691  0.          0.34572687]\n",
      "Fl Score: [ 0.76598809  0.          0.50469453]\n",
      "------------------\n",
      "+++++++++++++++++++\n",
      "Number of Estimators:  4\n",
      "Min Leaves:  3\n",
      "Classes:  ['functional' 'functional needs repair' 'non functional']\n",
      "+++++++++++++++++++\n",
      "Accuracy Score:  0.68303030303\n",
      "Precision Score: [ 0.64349063  0.          0.84610076]\n",
      "Recall Score: [ 0.9520921   0.          0.43207048]\n",
      "Fl Score: [ 0.76794808  0.          0.57202846]\n",
      "------------------\n",
      "+++++++++++++++++++"
     ]
    },
    {
     "name": "stderr",
     "output_type": "stream",
     "text": [
      "//anaconda/lib/python2.7/site-packages/sklearn/base.py:436: DataConversionWarning: A column-vector y was passed when a 1d array was expected. Please change the shape of y to (n_samples,), for example using ravel().\n",
      "  return self.fit(X, y, **fit_params).transform(X)\n",
      "//anaconda/lib/python2.7/site-packages/sklearn/base.py:436: DataConversionWarning: A column-vector y was passed when a 1d array was expected. Please change the shape of y to (n_samples,), for example using ravel().\n",
      "  return self.fit(X, y, **fit_params).transform(X)\n"
     ]
    },
    {
     "name": "stdout",
     "output_type": "stream",
     "text": [
      "\n",
      "Number of Estimators:  4\n",
      "Min Leaves:  4\n",
      "Classes:  ['functional' 'functional needs repair' 'non functional']\n",
      "+++++++++++++++++++\n",
      "Accuracy Score:  0.626531986532\n",
      "Precision Score: [ 0.60234375  0.          0.77756098]\n",
      "Recall Score: [ 0.95444417  0.          0.28088106]\n",
      "Fl Score: [ 0.73857649  0.          0.41268608]\n",
      "------------------\n",
      "+++++++++++++++++++\n",
      "Number of Estimators:  4\n",
      "Min Leaves:  5\n",
      "Classes:  ['functional' 'functional needs repair' 'non functional']\n",
      "+++++++++++++++++++\n",
      "Accuracy Score:  0.661077441077\n",
      "Precision Score: [ 0.62772535  0.          0.8213448 ]\n",
      "Recall Score: [ 0.95518693  0.          0.37022026]\n",
      "Fl Score: [ 0.75758468  0.          0.51038504]\n",
      "------------------\n",
      "+++++++++++++++++++"
     ]
    },
    {
     "name": "stderr",
     "output_type": "stream",
     "text": [
      "//anaconda/lib/python2.7/site-packages/sklearn/base.py:436: DataConversionWarning: A column-vector y was passed when a 1d array was expected. Please change the shape of y to (n_samples,), for example using ravel().\n",
      "  return self.fit(X, y, **fit_params).transform(X)\n",
      "//anaconda/lib/python2.7/site-packages/sklearn/base.py:436: DataConversionWarning: A column-vector y was passed when a 1d array was expected. Please change the shape of y to (n_samples,), for example using ravel().\n",
      "  return self.fit(X, y, **fit_params).transform(X)\n"
     ]
    },
    {
     "name": "stdout",
     "output_type": "stream",
     "text": [
      "\n",
      "Number of Estimators:  4\n",
      "Min Leaves:  6\n",
      "Classes:  ['functional' 'functional needs repair' 'non functional']\n",
      "+++++++++++++++++++\n",
      "Accuracy Score:  0.621346801347\n",
      "Precision Score: [ 0.63171552  0.          0.59707537]\n",
      "Recall Score: [ 0.81369151  0.          0.4676652 ]\n",
      "Fl Score: [ 0.71124817  0.          0.52450593]\n",
      "------------------\n",
      "+++++++++++++++++++\n",
      "Number of Estimators:  4\n",
      "Min Leaves:  7\n",
      "Classes:  ['functional' 'functional needs repair' 'non functional']\n",
      "+++++++++++++++++++\n",
      "Accuracy Score:  0.637912457912\n",
      "Precision Score: [ 0.60639121  0.          0.84942887]\n",
      "Recall Score: [ 0.97016588  0.          0.28828194]\n",
      "Fl Score: [ 0.74630988  0.          0.43046968]\n",
      "------------------\n",
      "+++++++++++++++++++"
     ]
    },
    {
     "name": "stderr",
     "output_type": "stream",
     "text": [
      "//anaconda/lib/python2.7/site-packages/sklearn/base.py:436: DataConversionWarning: A column-vector y was passed when a 1d array was expected. Please change the shape of y to (n_samples,), for example using ravel().\n",
      "  return self.fit(X, y, **fit_params).transform(X)\n",
      "//anaconda/lib/python2.7/site-packages/sklearn/base.py:436: DataConversionWarning: A column-vector y was passed when a 1d array was expected. Please change the shape of y to (n_samples,), for example using ravel().\n",
      "  return self.fit(X, y, **fit_params).transform(X)\n"
     ]
    },
    {
     "name": "stdout",
     "output_type": "stream",
     "text": [
      "\n",
      "Number of Estimators:  4\n",
      "Min Leaves:  8\n",
      "Classes:  ['functional' 'functional needs repair' 'non functional']\n",
      "+++++++++++++++++++\n",
      "Accuracy Score:  0.681750841751\n",
      "Precision Score: [ 0.63754255  0.          0.89888535]\n",
      "Recall Score: [ 0.97375588  0.          0.39788546]\n",
      "Fl Score: [ 0.7705721  0.         0.5516062]\n",
      "------------------\n",
      "+++++++++++++++++++\n",
      "Number of Estimators:  4\n",
      "Min Leaves:  9\n",
      "Classes:  ['functional' 'functional needs repair' 'non functional']\n",
      "+++++++++++++++++++\n",
      "Accuracy Score:  0.683569023569\n",
      "Precision Score: [ 0.64546833  0.          0.83546004]\n",
      "Recall Score: [ 0.9486259  0.         0.4384141]\n",
      "Fl Score: [ 0.76822055  0.          0.57506067]\n",
      "------------------\n",
      "+++++++++++++++++++"
     ]
    },
    {
     "name": "stderr",
     "output_type": "stream",
     "text": [
      "//anaconda/lib/python2.7/site-packages/sklearn/base.py:436: DataConversionWarning: A column-vector y was passed when a 1d array was expected. Please change the shape of y to (n_samples,), for example using ravel().\n",
      "  return self.fit(X, y, **fit_params).transform(X)\n",
      "//anaconda/lib/python2.7/site-packages/sklearn/base.py:436: DataConversionWarning: A column-vector y was passed when a 1d array was expected. Please change the shape of y to (n_samples,), for example using ravel().\n",
      "  return self.fit(X, y, **fit_params).transform(X)\n"
     ]
    },
    {
     "name": "stdout",
     "output_type": "stream",
     "text": [
      "\n",
      "Number of Estimators:  4\n",
      "Min Leaves:  10\n",
      "Classes:  ['functional' 'functional needs repair' 'non functional']\n",
      "+++++++++++++++++++\n",
      "Accuracy Score:  0.687474747475\n",
      "Precision Score: [ 0.64826831  0.          0.8434462 ]\n",
      "Recall Score: [ 0.95233969  0.          0.44334802]\n",
      "Fl Score: [ 0.77142141  0.          0.58119658]\n",
      "------------------\n",
      "+++++++++++++++++++\n",
      "Number of Estimators:  4\n",
      "Min Leaves:  11\n",
      "Classes:  ['functional' 'functional needs repair' 'non functional']\n",
      "+++++++++++++++++++\n",
      "Accuracy Score:  0.697441077441\n",
      "Precision Score: [ 0.65481933  0.          0.86350148]\n",
      "Recall Score: [ 0.95791037  0.          0.4614978 ]\n",
      "Fl Score: [ 0.77788389  0.          0.60151585]\n",
      "------------------\n",
      "+++++++++++++++++++"
     ]
    },
    {
     "name": "stderr",
     "output_type": "stream",
     "text": [
      "//anaconda/lib/python2.7/site-packages/sklearn/base.py:436: DataConversionWarning: A column-vector y was passed when a 1d array was expected. Please change the shape of y to (n_samples,), for example using ravel().\n",
      "  return self.fit(X, y, **fit_params).transform(X)\n",
      "//anaconda/lib/python2.7/site-packages/sklearn/base.py:436: DataConversionWarning: A column-vector y was passed when a 1d array was expected. Please change the shape of y to (n_samples,), for example using ravel().\n",
      "  return self.fit(X, y, **fit_params).transform(X)\n"
     ]
    },
    {
     "name": "stdout",
     "output_type": "stream",
     "text": [
      "\n",
      "Number of Estimators:  4\n",
      "Min Leaves:  12\n",
      "Classes:  ['functional' 'functional needs repair' 'non functional']\n",
      "+++++++++++++++++++\n",
      "Accuracy Score:  0.695151515152\n",
      "Precision Score: [ 0.65190776  0.          0.87145299]\n",
      "Recall Score: [ 0.96236692  0.          0.449163  ]\n",
      "Fl Score: [ 0.77728341  0.          0.5927907 ]\n",
      "------------------\n",
      "+++++++++++++++++++\n",
      "Number of Estimators:  4\n",
      "Min Leaves:  13\n",
      "Classes:  ['functional' 'functional needs repair' 'non functional']\n",
      "+++++++++++++++++++\n",
      "Accuracy Score:  0.693131313131\n",
      "Precision Score: [ 0.65455792  0.          0.83480176]\n",
      "Recall Score: [ 0.94577866  0.          0.46748899]\n",
      "Fl Score: [ 0.77367089  0.          0.59934485]\n",
      "------------------\n",
      "+++++++++++++++++++"
     ]
    },
    {
     "name": "stderr",
     "output_type": "stream",
     "text": [
      "//anaconda/lib/python2.7/site-packages/sklearn/base.py:436: DataConversionWarning: A column-vector y was passed when a 1d array was expected. Please change the shape of y to (n_samples,), for example using ravel().\n",
      "  return self.fit(X, y, **fit_params).transform(X)\n",
      "//anaconda/lib/python2.7/site-packages/sklearn/base.py:436: DataConversionWarning: A column-vector y was passed when a 1d array was expected. Please change the shape of y to (n_samples,), for example using ravel().\n",
      "  return self.fit(X, y, **fit_params).transform(X)\n"
     ]
    },
    {
     "name": "stdout",
     "output_type": "stream",
     "text": [
      "\n",
      "Number of Estimators:  4\n",
      "Min Leaves:  14\n",
      "Classes:  ['functional' 'functional needs repair' 'non functional']\n",
      "+++++++++++++++++++\n",
      "Accuracy Score:  0.682222222222\n",
      "Precision Score: [ 0.6445697   0.          0.83327708]\n",
      "Recall Score: [ 0.9485021   0.          0.43506608]\n",
      "Fl Score: [ 0.7675432   0.          0.57166011]\n",
      "------------------\n",
      "+++++++++++++++++++\n",
      "Number of Estimators:  4\n",
      "Min Leaves:  15\n",
      "Classes:  ['functional' 'functional needs repair' 'non functional']\n",
      "+++++++++++++++++++\n",
      "Accuracy Score:  0.679326599327\n",
      "Precision Score: [ 0.64188177  0.          0.83767606]\n",
      "Recall Score: [ 0.95432038  0.          0.41920705]\n",
      "Fl Score: [ 0.7675229   0.          0.55877863]\n",
      "------------------\n",
      "+++++++++++++++++++"
     ]
    },
    {
     "name": "stderr",
     "output_type": "stream",
     "text": [
      "//anaconda/lib/python2.7/site-packages/sklearn/base.py:436: DataConversionWarning: A column-vector y was passed when a 1d array was expected. Please change the shape of y to (n_samples,), for example using ravel().\n",
      "  return self.fit(X, y, **fit_params).transform(X)\n",
      "//anaconda/lib/python2.7/site-packages/sklearn/base.py:436: DataConversionWarning: A column-vector y was passed when a 1d array was expected. Please change the shape of y to (n_samples,), for example using ravel().\n",
      "  return self.fit(X, y, **fit_params).transform(X)\n"
     ]
    },
    {
     "name": "stdout",
     "output_type": "stream",
     "text": [
      "\n",
      "Number of Estimators:  4\n",
      "Min Leaves:  16\n",
      "Classes:  ['functional' 'functional needs repair' 'non functional']\n",
      "+++++++++++++++++++\n",
      "Accuracy Score:  0.696430976431\n",
      "Precision Score: [ 0.65532532  0.          0.8507845 ]\n",
      "Recall Score: [ 0.95134934  0.          0.46819383]\n",
      "Fl Score: [ 0.77606665  0.          0.60400091]\n",
      "------------------\n",
      "+++++++++++++++++++\n",
      "Number of Estimators:  4\n",
      "Min Leaves:  17\n",
      "Classes:  ['functional' 'functional needs repair' 'non functional']\n",
      "+++++++++++++++++++\n",
      "Accuracy Score:  0.695824915825\n",
      "Precision Score: [ 0.65993735  0.          0.81864205]\n",
      "Recall Score: [ 0.93884625  0.          0.48440529]\n",
      "Fl Score: [ 0.77506387  0.          0.60865715]\n",
      "------------------\n",
      "+++++++++++++++++++"
     ]
    },
    {
     "name": "stderr",
     "output_type": "stream",
     "text": [
      "//anaconda/lib/python2.7/site-packages/sklearn/base.py:436: DataConversionWarning: A column-vector y was passed when a 1d array was expected. Please change the shape of y to (n_samples,), for example using ravel().\n",
      "  return self.fit(X, y, **fit_params).transform(X)\n",
      "//anaconda/lib/python2.7/site-packages/sklearn/base.py:436: DataConversionWarning: A column-vector y was passed when a 1d array was expected. Please change the shape of y to (n_samples,), for example using ravel().\n",
      "  return self.fit(X, y, **fit_params).transform(X)\n"
     ]
    },
    {
     "name": "stdout",
     "output_type": "stream",
     "text": [
      "\n",
      "Number of Estimators:  4\n",
      "Min Leaves:  18\n",
      "Classes:  ['functional' 'functional needs repair' 'non functional']\n",
      "+++++++++++++++++++\n",
      "Accuracy Score:  0.658653198653\n",
      "Precision Score: [ 0.62675651  0.          0.80343156]\n",
      "Recall Score: [ 0.94416935  0.          0.37955947]\n",
      "Fl Score: [ 0.75339556  0.          0.51555768]\n",
      "------------------\n",
      "+++++++++++++++++++\n",
      "Number of Estimators:  4\n",
      "Min Leaves:  19\n",
      "Classes:  ['functional' 'functional needs repair' 'non functional']\n",
      "+++++++++++++++++++\n",
      "Accuracy Score:  0.704579124579\n",
      "Precision Score: [ 0.6639778   0.          0.84552846]\n",
      "Recall Score: [ 0.94763555  0.          0.49480176]\n",
      "Fl Score: [ 0.78084358  0.          0.62427746]\n",
      "------------------\n",
      "+++++++++++++++++++"
     ]
    },
    {
     "name": "stderr",
     "output_type": "stream",
     "text": [
      "//anaconda/lib/python2.7/site-packages/sklearn/base.py:436: DataConversionWarning: A column-vector y was passed when a 1d array was expected. Please change the shape of y to (n_samples,), for example using ravel().\n",
      "  return self.fit(X, y, **fit_params).transform(X)\n",
      "//anaconda/lib/python2.7/site-packages/sklearn/base.py:436: DataConversionWarning: A column-vector y was passed when a 1d array was expected. Please change the shape of y to (n_samples,), for example using ravel().\n",
      "  return self.fit(X, y, **fit_params).transform(X)\n"
     ]
    },
    {
     "name": "stdout",
     "output_type": "stream",
     "text": [
      "\n",
      "Number of Estimators:  4\n",
      "Min Leaves:  20\n",
      "Classes:  ['functional' 'functional needs repair' 'non functional']\n",
      "+++++++++++++++++++\n",
      "Accuracy Score:  0.691178451178\n",
      "Precision Score: [ 0.65554882  0.          0.81554279]\n",
      "Recall Score: [ 0.93674177  0.          0.47524229]\n",
      "Fl Score: [ 0.77131645  0.          0.6005344 ]\n",
      "------------------\n",
      "+++++++++++++++++++\n",
      "Number of Estimators:  5\n",
      "Min Leaves:  2\n",
      "Classes:  ['functional' 'functional needs repair' 'non functional']\n",
      "+++++++++++++++++++\n",
      "Accuracy Score:  0.55063973064\n",
      "Precision Score: [ 0.54774995  0.          0.91452991]\n",
      "Recall Score: [ 0.99900966  0.          0.01885463]\n",
      "Fl Score: [ 0.70755337  0.          0.03694751]\n",
      "------------------\n",
      "+++++++++++++++++++"
     ]
    },
    {
     "name": "stderr",
     "output_type": "stream",
     "text": [
      "//anaconda/lib/python2.7/site-packages/sklearn/base.py:436: DataConversionWarning: A column-vector y was passed when a 1d array was expected. Please change the shape of y to (n_samples,), for example using ravel().\n",
      "  return self.fit(X, y, **fit_params).transform(X)\n",
      "//anaconda/lib/python2.7/site-packages/sklearn/base.py:436: DataConversionWarning: A column-vector y was passed when a 1d array was expected. Please change the shape of y to (n_samples,), for example using ravel().\n",
      "  return self.fit(X, y, **fit_params).transform(X)\n"
     ]
    },
    {
     "name": "stdout",
     "output_type": "stream",
     "text": [
      "\n",
      "Number of Estimators:  5\n",
      "Min Leaves:  3\n",
      "Classes:  ['functional' 'functional needs repair' 'non functional']\n",
      "+++++++++++++++++++\n",
      "Accuracy Score:  0.680336700337\n",
      "Precision Score: [ 0.63964779  0.          0.86360267]\n",
      "Recall Score: [ 0.96224313  0.          0.41057269]\n",
      "Fl Score: [ 0.76846268  0.          0.55655082]\n",
      "------------------\n",
      "+++++++++++++++++++\n",
      "Number of Estimators:  5\n",
      "Min Leaves:  4\n",
      "Classes:  ['functional' 'functional needs repair' 'non functional']\n",
      "+++++++++++++++++++\n",
      "Accuracy Score:  0.678720538721\n",
      "Precision Score: [ 0.63774883  0.          0.86795308]\n",
      "Recall Score: [ 0.96372865  0.          0.40422907]\n",
      "Fl Score: [ 0.76756224  0.          0.5515749 ]\n",
      "------------------\n",
      "+++++++++++++++++++"
     ]
    },
    {
     "name": "stderr",
     "output_type": "stream",
     "text": [
      "//anaconda/lib/python2.7/site-packages/sklearn/base.py:436: DataConversionWarning: A column-vector y was passed when a 1d array was expected. Please change the shape of y to (n_samples,), for example using ravel().\n",
      "  return self.fit(X, y, **fit_params).transform(X)\n",
      "//anaconda/lib/python2.7/site-packages/sklearn/base.py:436: DataConversionWarning: A column-vector y was passed when a 1d array was expected. Please change the shape of y to (n_samples,), for example using ravel().\n",
      "  return self.fit(X, y, **fit_params).transform(X)\n"
     ]
    },
    {
     "name": "stdout",
     "output_type": "stream",
     "text": [
      "\n",
      "Number of Estimators:  5\n",
      "Min Leaves:  5\n",
      "Classes:  ['functional' 'functional needs repair' 'non functional']\n",
      "+++++++++++++++++++\n",
      "Accuracy Score:  0.694747474747\n",
      "Precision Score: [ 0.64817265  0.          0.89912917]\n",
      "Recall Score: [ 0.97041347  0.          0.43665198]\n",
      "Fl Score: [ 0.77721594  0.          0.58783063]\n",
      "------------------\n",
      "+++++++++++++++++++\n",
      "Number of Estimators:  5\n",
      "Min Leaves:  6\n",
      "Classes:  ['functional' 'functional needs repair' 'non functional']\n",
      "+++++++++++++++++++\n",
      "Accuracy Score:  0.67797979798\n",
      "Precision Score: [ 0.64013956  0.          0.83997155]\n",
      "Recall Score: [ 0.953949    0.          0.41621145]\n",
      "Fl Score: [ 0.76615629  0.          0.556616  ]\n",
      "------------------\n",
      "+++++++++++++++++++"
     ]
    },
    {
     "name": "stderr",
     "output_type": "stream",
     "text": [
      "//anaconda/lib/python2.7/site-packages/sklearn/base.py:436: DataConversionWarning: A column-vector y was passed when a 1d array was expected. Please change the shape of y to (n_samples,), for example using ravel().\n",
      "  return self.fit(X, y, **fit_params).transform(X)\n",
      "//anaconda/lib/python2.7/site-packages/sklearn/base.py:436: DataConversionWarning: A column-vector y was passed when a 1d array was expected. Please change the shape of y to (n_samples,), for example using ravel().\n",
      "  return self.fit(X, y, **fit_params).transform(X)\n"
     ]
    },
    {
     "name": "stdout",
     "output_type": "stream",
     "text": [
      "\n",
      "Number of Estimators:  5\n",
      "Min Leaves:  7\n",
      "Classes:  ['functional' 'functional needs repair' 'non functional']\n",
      "+++++++++++++++++++\n",
      "Accuracy Score:  0.69696969697\n",
      "Precision Score: [ 0.65527186  0.          0.85756289]\n",
      "Recall Score: [ 0.95630106  0.          0.46255507]\n",
      "Fl Score: [ 0.77767152  0.          0.60096154]\n",
      "------------------\n",
      "+++++++++++++++++++\n",
      "Number of Estimators:  5\n",
      "Min Leaves:  8\n",
      "Classes:  ['functional' 'functional needs repair' 'non functional']\n",
      "+++++++++++++++++++\n",
      "Accuracy Score:  0.683164983165\n",
      "Precision Score: [ 0.6518718   0.          0.79112976]\n",
      "Recall Score: [ 0.9290666   0.          0.46519824]\n",
      "Fl Score: [ 0.76616814  0.          0.58588549]\n",
      "------------------\n",
      "+++++++++++++++++++"
     ]
    },
    {
     "name": "stderr",
     "output_type": "stream",
     "text": [
      "//anaconda/lib/python2.7/site-packages/sklearn/base.py:436: DataConversionWarning: A column-vector y was passed when a 1d array was expected. Please change the shape of y to (n_samples,), for example using ravel().\n",
      "  return self.fit(X, y, **fit_params).transform(X)\n",
      "//anaconda/lib/python2.7/site-packages/sklearn/base.py:436: DataConversionWarning: A column-vector y was passed when a 1d array was expected. Please change the shape of y to (n_samples,), for example using ravel().\n",
      "  return self.fit(X, y, **fit_params).transform(X)\n"
     ]
    },
    {
     "name": "stdout",
     "output_type": "stream",
     "text": [
      "\n",
      "Number of Estimators:  5\n",
      "Min Leaves:  9\n",
      "Classes:  ['functional' 'functional needs repair' 'non functional']\n",
      "+++++++++++++++++++\n",
      "Accuracy Score:  0.68101010101\n",
      "Precision Score: [ 0.64080317  0.          0.8580786 ]\n",
      "Recall Score: [ 0.96001486  0.          0.41550661]\n",
      "Fl Score: [ 0.76858276  0.          0.55989552]\n",
      "------------------\n",
      "+++++++++++++++++++\n",
      "Number of Estimators:  5\n",
      "Min Leaves:  10\n",
      "Classes:  ['functional' 'functional needs repair' 'non functional']\n",
      "+++++++++++++++++++\n",
      "Accuracy Score:  0.66734006734\n",
      "Precision Score: [ 0.62980964  0.          0.85229541]\n",
      "Recall Score: [ 0.96249072  0.          0.37621145]\n",
      "Fl Score: [ 0.76139646  0.          0.52200489]\n",
      "------------------\n",
      "+++++++++++++++++++"
     ]
    },
    {
     "name": "stderr",
     "output_type": "stream",
     "text": [
      "//anaconda/lib/python2.7/site-packages/sklearn/base.py:436: DataConversionWarning: A column-vector y was passed when a 1d array was expected. Please change the shape of y to (n_samples,), for example using ravel().\n",
      "  return self.fit(X, y, **fit_params).transform(X)\n",
      "//anaconda/lib/python2.7/site-packages/sklearn/base.py:436: DataConversionWarning: A column-vector y was passed when a 1d array was expected. Please change the shape of y to (n_samples,), for example using ravel().\n",
      "  return self.fit(X, y, **fit_params).transform(X)\n"
     ]
    },
    {
     "name": "stdout",
     "output_type": "stream",
     "text": [
      "\n",
      "Number of Estimators:  5\n",
      "Min Leaves:  11\n",
      "Classes:  ['functional' 'functional needs repair' 'non functional']\n",
      "+++++++++++++++++++\n",
      "Accuracy Score:  0.687878787879\n",
      "Precision Score: [ 0.64824673  0.          0.84344942]\n",
      "Recall Score: [ 0.94974003  0.          0.44810573]\n",
      "Fl Score: [ 0.7705519   0.          0.58527043]\n",
      "------------------\n",
      "+++++++++++++++++++\n",
      "Number of Estimators:  5\n",
      "Min Leaves:  12\n",
      "Classes:  ['functional' 'functional needs repair' 'non functional']\n",
      "+++++++++++++++++++\n",
      "Accuracy Score:  0.697239057239\n",
      "Precision Score: [ 0.65460693  0.          0.86423841]\n",
      "Recall Score: [ 0.95865313  0.          0.45991189]\n",
      "Fl Score: [ 0.7779787   0.          0.60034503]\n",
      "------------------\n",
      "+++++++++++++++++++"
     ]
    },
    {
     "name": "stderr",
     "output_type": "stream",
     "text": [
      "//anaconda/lib/python2.7/site-packages/sklearn/base.py:436: DataConversionWarning: A column-vector y was passed when a 1d array was expected. Please change the shape of y to (n_samples,), for example using ravel().\n",
      "  return self.fit(X, y, **fit_params).transform(X)\n",
      "//anaconda/lib/python2.7/site-packages/sklearn/base.py:436: DataConversionWarning: A column-vector y was passed when a 1d array was expected. Please change the shape of y to (n_samples,), for example using ravel().\n",
      "  return self.fit(X, y, **fit_params).transform(X)\n"
     ]
    },
    {
     "name": "stdout",
     "output_type": "stream",
     "text": [
      "\n",
      "Number of Estimators:  5\n",
      "Min Leaves:  13\n",
      "Classes:  ['functional' 'functional needs repair' 'non functional']\n",
      "+++++++++++++++++++\n",
      "Accuracy Score:  0.692996632997\n",
      "Precision Score: [ 0.65110214  0.          0.86099865]\n",
      "Recall Score: [ 0.95803417  0.          0.44969163]\n",
      "Fl Score: [ 0.77529553  0.          0.59080912]\n",
      "------------------\n",
      "+++++++++++++++++++\n",
      "Number of Estimators:  5\n",
      "Min Leaves:  14\n",
      "Classes:  ['functional' 'functional needs repair' 'non functional']\n",
      "+++++++++++++++++++\n",
      "Accuracy Score:  0.689427609428\n",
      "Precision Score: [ 0.64785081  0.          0.86134163]\n",
      "Recall Score: [ 0.95902451  0.          0.43894273]\n",
      "Fl Score: [ 0.77330805  0.          0.58153379]\n",
      "------------------\n",
      "+++++++++++++++++++"
     ]
    },
    {
     "name": "stderr",
     "output_type": "stream",
     "text": [
      "//anaconda/lib/python2.7/site-packages/sklearn/base.py:436: DataConversionWarning: A column-vector y was passed when a 1d array was expected. Please change the shape of y to (n_samples,), for example using ravel().\n",
      "  return self.fit(X, y, **fit_params).transform(X)\n",
      "//anaconda/lib/python2.7/site-packages/sklearn/base.py:436: DataConversionWarning: A column-vector y was passed when a 1d array was expected. Please change the shape of y to (n_samples,), for example using ravel().\n",
      "  return self.fit(X, y, **fit_params).transform(X)\n"
     ]
    },
    {
     "name": "stdout",
     "output_type": "stream",
     "text": [
      "\n",
      "Number of Estimators:  5\n",
      "Min Leaves:  15\n",
      "Classes:  ['functional' 'functional needs repair' 'non functional']\n",
      "+++++++++++++++++++\n",
      "Accuracy Score:  0.700134680135\n",
      "Precision Score: [ 0.66015827  0.          0.8442928 ]\n",
      "Recall Score: [ 0.95011141  0.          0.47964758]\n",
      "Fl Score: [ 0.77902964  0.          0.61175413]\n",
      "------------------\n",
      "+++++++++++++++++++\n",
      "Number of Estimators:  5\n",
      "Min Leaves:  16\n",
      "Classes:  ['functional' 'functional needs repair' 'non functional']\n",
      "+++++++++++++++++++\n",
      "Accuracy Score:  0.706060606061\n",
      "Precision Score: [ 0.66350874  0.          0.85859833]\n",
      "Recall Score: [ 0.95370141  0.          0.49004405]\n",
      "Fl Score: [ 0.78256895  0.          0.62396231]\n",
      "------------------\n",
      "+++++++++++++++++++"
     ]
    },
    {
     "name": "stderr",
     "output_type": "stream",
     "text": [
      "//anaconda/lib/python2.7/site-packages/sklearn/base.py:436: DataConversionWarning: A column-vector y was passed when a 1d array was expected. Please change the shape of y to (n_samples,), for example using ravel().\n",
      "  return self.fit(X, y, **fit_params).transform(X)\n",
      "//anaconda/lib/python2.7/site-packages/sklearn/base.py:436: DataConversionWarning: A column-vector y was passed when a 1d array was expected. Please change the shape of y to (n_samples,), for example using ravel().\n",
      "  return self.fit(X, y, **fit_params).transform(X)\n"
     ]
    },
    {
     "name": "stdout",
     "output_type": "stream",
     "text": [
      "\n",
      "Number of Estimators:  5\n",
      "Min Leaves:  17\n",
      "Classes:  ['functional' 'functional needs repair' 'non functional']\n",
      "+++++++++++++++++++\n",
      "Accuracy Score:  0.695353535354\n",
      "Precision Score: [ 0.65306984  0.          0.86174809]\n",
      "Recall Score: [ 0.95729141  0.          0.4569163 ]\n",
      "Fl Score: [ 0.7764446   0.          0.59719023]\n",
      "------------------\n",
      "+++++++++++++++++++\n",
      "Number of Estimators:  5\n",
      "Min Leaves:  18\n",
      "Classes:  ['functional' 'functional needs repair' 'non functional']\n",
      "+++++++++++++++++++\n",
      "Accuracy Score:  0.683703703704\n",
      "Precision Score: [ 0.64470824  0.          0.84522161]\n",
      "Recall Score: [ 0.95469176  0.          0.43013216]\n",
      "Fl Score: [ 0.76966068  0.          0.57012729]\n",
      "------------------\n",
      "+++++++++++++++++++"
     ]
    },
    {
     "name": "stderr",
     "output_type": "stream",
     "text": [
      "//anaconda/lib/python2.7/site-packages/sklearn/base.py:436: DataConversionWarning: A column-vector y was passed when a 1d array was expected. Please change the shape of y to (n_samples,), for example using ravel().\n",
      "  return self.fit(X, y, **fit_params).transform(X)\n",
      "//anaconda/lib/python2.7/site-packages/sklearn/base.py:436: DataConversionWarning: A column-vector y was passed when a 1d array was expected. Please change the shape of y to (n_samples,), for example using ravel().\n",
      "  return self.fit(X, y, **fit_params).transform(X)\n"
     ]
    },
    {
     "name": "stdout",
     "output_type": "stream",
     "text": [
      "\n",
      "Number of Estimators:  5\n",
      "Min Leaves:  19\n",
      "Classes:  ['functional' 'functional needs repair' 'non functional']\n",
      "+++++++++++++++++++\n",
      "Accuracy Score:  0.708821548822\n",
      "Precision Score: [ 0.67076406  0.          0.83032185]\n",
      "Recall Score: [ 0.93897004  0.          0.51823789]\n",
      "Fl Score: [ 0.78252347  0.          0.6381686 ]\n",
      "------------------\n",
      "+++++++++++++++++++\n",
      "Number of Estimators:  5\n",
      "Min Leaves:  20\n",
      "Classes:  ['functional' 'functional needs repair' 'non functional']\n",
      "+++++++++++++++++++\n",
      "Accuracy Score:  0.684915824916\n",
      "Precision Score: [ 0.65297598  0.          0.79422275]\n",
      "Recall Score: [ 0.92894281  0.          0.46995595]\n",
      "Fl Score: [ 0.76688809  0.          0.59050149]\n",
      "------------------\n",
      "+++++++++++++++++++"
     ]
    },
    {
     "name": "stderr",
     "output_type": "stream",
     "text": [
      "//anaconda/lib/python2.7/site-packages/sklearn/base.py:436: DataConversionWarning: A column-vector y was passed when a 1d array was expected. Please change the shape of y to (n_samples,), for example using ravel().\n",
      "  return self.fit(X, y, **fit_params).transform(X)\n",
      "//anaconda/lib/python2.7/site-packages/sklearn/base.py:436: DataConversionWarning: A column-vector y was passed when a 1d array was expected. Please change the shape of y to (n_samples,), for example using ravel().\n",
      "  return self.fit(X, y, **fit_params).transform(X)\n"
     ]
    },
    {
     "name": "stdout",
     "output_type": "stream",
     "text": [
      "\n",
      "Number of Estimators:  6\n",
      "Min Leaves:  2\n",
      "Classes:  ['functional' 'functional needs repair' 'non functional']\n",
      "+++++++++++++++++++\n",
      "Accuracy Score:  0.63265993266\n",
      "Precision Score: [ 0.59749314  0.          0.97951719]\n",
      "Recall Score: [ 0.99727655  0.          0.23594714]\n",
      "Fl Score: [ 0.74727517  0.          0.38028969]\n",
      "------------------\n",
      "+++++++++++++++++++\n",
      "Number of Estimators:  6\n",
      "Min Leaves:  3\n",
      "Classes:  ['functional' 'functional needs repair' 'non functional']\n",
      "+++++++++++++++++++\n",
      "Accuracy Score:  0.617508417508\n",
      "Precision Score: [ 0.59318683  0.          0.8057681 ]\n",
      "Recall Score: [ 0.96570933  0.          0.24123348]\n",
      "Fl Score: [ 0.73493806  0.          0.37130458]\n",
      "------------------\n",
      "+++++++++++++++++++"
     ]
    },
    {
     "name": "stderr",
     "output_type": "stream",
     "text": [
      "//anaconda/lib/python2.7/site-packages/sklearn/base.py:436: DataConversionWarning: A column-vector y was passed when a 1d array was expected. Please change the shape of y to (n_samples,), for example using ravel().\n",
      "  return self.fit(X, y, **fit_params).transform(X)\n",
      "//anaconda/lib/python2.7/site-packages/sklearn/base.py:436: DataConversionWarning: A column-vector y was passed when a 1d array was expected. Please change the shape of y to (n_samples,), for example using ravel().\n",
      "  return self.fit(X, y, **fit_params).transform(X)\n"
     ]
    },
    {
     "name": "stdout",
     "output_type": "stream",
     "text": [
      "\n",
      "Number of Estimators:  6\n",
      "Min Leaves:  4\n",
      "Classes:  ['functional' 'functional needs repair' 'non functional']\n",
      "+++++++++++++++++++\n",
      "Accuracy Score:  0.689696969697\n",
      "Precision Score: [ 0.6476788   0.          0.86321244]\n",
      "Recall Score: [ 0.95852934  0.          0.44035242]\n",
      "Fl Score: [ 0.77302451  0.          0.5831972 ]\n",
      "------------------\n",
      "+++++++++++++++++++\n",
      "Number of Estimators:  6\n",
      "Min Leaves:  5\n",
      "Classes:  ['functional' 'functional needs repair' 'non functional']\n",
      "+++++++++++++++++++\n",
      "Accuracy Score:  0.692592592593\n",
      "Precision Score: [ 0.650557    0.          0.86499485]\n",
      "Recall Score: [ 0.96150037  0.          0.44370044]\n",
      "Fl Score: [ 0.77604037  0.          0.58653622]\n",
      "------------------\n",
      "+++++++++++++++++++"
     ]
    },
    {
     "name": "stderr",
     "output_type": "stream",
     "text": [
      "//anaconda/lib/python2.7/site-packages/sklearn/base.py:436: DataConversionWarning: A column-vector y was passed when a 1d array was expected. Please change the shape of y to (n_samples,), for example using ravel().\n",
      "  return self.fit(X, y, **fit_params).transform(X)\n",
      "//anaconda/lib/python2.7/site-packages/sklearn/base.py:436: DataConversionWarning: A column-vector y was passed when a 1d array was expected. Please change the shape of y to (n_samples,), for example using ravel().\n",
      "  return self.fit(X, y, **fit_params).transform(X)\n"
     ]
    },
    {
     "name": "stdout",
     "output_type": "stream",
     "text": [
      "\n",
      "Number of Estimators:  6\n",
      "Min Leaves:  6\n",
      "Classes:  ['functional' 'functional needs repair' 'non functional']\n",
      "+++++++++++++++++++\n",
      "Accuracy Score:  0.6767003367\n",
      "Precision Score: [ 0.63781734  0.          0.85025754]\n",
      "Recall Score: [ 0.95791037  0.          0.40722467]\n",
      "Fl Score: [ 0.76575952  0.          0.55069701]\n",
      "------------------\n",
      "+++++++++++++++++++\n",
      "Number of Estimators:  6\n",
      "Min Leaves:  7\n",
      "Classes:  ['functional' 'functional needs repair' 'non functional']\n",
      "+++++++++++++++++++\n",
      "Accuracy Score:  0.686464646465\n",
      "Precision Score: [ 0.64343451  0.          0.87784299]\n",
      "Recall Score: [ 0.96570933  0.          0.42167401]\n",
      "Fl Score: [ 0.77229977  0.          0.56969408]\n",
      "------------------\n",
      "+++++++++++++++++++"
     ]
    },
    {
     "name": "stderr",
     "output_type": "stream",
     "text": [
      "//anaconda/lib/python2.7/site-packages/sklearn/base.py:436: DataConversionWarning: A column-vector y was passed when a 1d array was expected. Please change the shape of y to (n_samples,), for example using ravel().\n",
      "  return self.fit(X, y, **fit_params).transform(X)\n",
      "//anaconda/lib/python2.7/site-packages/sklearn/base.py:436: DataConversionWarning: A column-vector y was passed when a 1d array was expected. Please change the shape of y to (n_samples,), for example using ravel().\n",
      "  return self.fit(X, y, **fit_params).transform(X)\n"
     ]
    },
    {
     "name": "stdout",
     "output_type": "stream",
     "text": [
      "\n",
      "Number of Estimators:  6\n",
      "Min Leaves:  8\n",
      "Classes:  ['functional' 'functional needs repair' 'non functional']\n",
      "+++++++++++++++++++\n",
      "Accuracy Score:  0.657239057239\n",
      "Precision Score: [ 0.62359007  0.          0.82854799]\n",
      "Recall Score: [ 0.95815796  0.          0.35594714]\n",
      "Fl Score: [ 0.75549048  0.          0.49796623]\n",
      "------------------\n",
      "+++++++++++++++++++\n",
      "Number of Estimators:  6\n",
      "Min Leaves:  9\n",
      "Classes:  ['functional' 'functional needs repair' 'non functional']\n",
      "+++++++++++++++++++\n",
      "Accuracy Score:  0.696026936027\n",
      "Precision Score: [ 0.65378775  0.          0.86315087]\n",
      "Recall Score: [ 0.95939589  0.          0.45568282]\n",
      "Fl Score: [ 0.77764399  0.          0.596471  ]\n",
      "------------------\n",
      "+++++++++++++++++++"
     ]
    },
    {
     "name": "stderr",
     "output_type": "stream",
     "text": [
      "//anaconda/lib/python2.7/site-packages/sklearn/base.py:436: DataConversionWarning: A column-vector y was passed when a 1d array was expected. Please change the shape of y to (n_samples,), for example using ravel().\n",
      "  return self.fit(X, y, **fit_params).transform(X)\n",
      "//anaconda/lib/python2.7/site-packages/sklearn/base.py:436: DataConversionWarning: A column-vector y was passed when a 1d array was expected. Please change the shape of y to (n_samples,), for example using ravel().\n",
      "  return self.fit(X, y, **fit_params).transform(X)\n"
     ]
    },
    {
     "name": "stdout",
     "output_type": "stream",
     "text": [
      "\n",
      "Number of Estimators:  6\n",
      "Min Leaves:  10\n",
      "Classes:  ['functional' 'functional needs repair' 'non functional']\n",
      "+++++++++++++++++++\n",
      "Accuracy Score:  0.672053872054\n",
      "Precision Score: [ 0.63387308  0.          0.85011442]\n",
      "Recall Score: [ 0.95951968  0.          0.39277533]\n",
      "Fl Score: [ 0.76341968  0.          0.53730264]\n",
      "------------------\n",
      "+++++++++++++++++++\n",
      "Number of Estimators:  6\n",
      "Min Leaves:  11\n",
      "Classes:  ['functional' 'functional needs repair' 'non functional']\n",
      "+++++++++++++++++++\n",
      "Accuracy Score:  0.699124579125\n",
      "Precision Score: [ 0.65339011  0.          0.88970077]\n",
      "Recall Score: [ 0.96868037  0.          0.45057269]\n",
      "Fl Score: [ 0.78039294  0.          0.59819862]\n",
      "------------------\n",
      "+++++++++++++++++++"
     ]
    },
    {
     "name": "stderr",
     "output_type": "stream",
     "text": [
      "//anaconda/lib/python2.7/site-packages/sklearn/base.py:436: DataConversionWarning: A column-vector y was passed when a 1d array was expected. Please change the shape of y to (n_samples,), for example using ravel().\n",
      "  return self.fit(X, y, **fit_params).transform(X)\n",
      "//anaconda/lib/python2.7/site-packages/sklearn/base.py:436: DataConversionWarning: A column-vector y was passed when a 1d array was expected. Please change the shape of y to (n_samples,), for example using ravel().\n",
      "  return self.fit(X, y, **fit_params).transform(X)\n"
     ]
    },
    {
     "name": "stdout",
     "output_type": "stream",
     "text": [
      "\n",
      "Number of Estimators:  6\n",
      "Min Leaves:  12\n",
      "Classes:  ['functional' 'functional needs repair' 'non functional']\n",
      "+++++++++++++++++++\n",
      "Accuracy Score:  0.696094276094\n",
      "Precision Score: [ 0.65604227  0.          0.84691913]\n",
      "Recall Score: [ 0.95295865  0.          0.46502203]\n",
      "Fl Score: [ 0.77710478  0.          0.60038676]\n",
      "------------------\n",
      "+++++++++++++++++++\n",
      "Number of Estimators:  6\n",
      "Min Leaves:  13\n",
      "Classes:  ['functional' 'functional needs repair' 'non functional']\n",
      "+++++++++++++++++++\n",
      "Accuracy Score:  0.672727272727\n",
      "Precision Score: [ 0.63823727  0.          0.81400137]\n",
      "Recall Score: [ 0.94305521  0.          0.41797357]\n",
      "Fl Score: [ 0.76126711  0.          0.55233438]\n",
      "------------------\n",
      "+++++++++++++++++++"
     ]
    },
    {
     "name": "stderr",
     "output_type": "stream",
     "text": [
      "//anaconda/lib/python2.7/site-packages/sklearn/base.py:436: DataConversionWarning: A column-vector y was passed when a 1d array was expected. Please change the shape of y to (n_samples,), for example using ravel().\n",
      "  return self.fit(X, y, **fit_params).transform(X)\n",
      "//anaconda/lib/python2.7/site-packages/sklearn/base.py:436: DataConversionWarning: A column-vector y was passed when a 1d array was expected. Please change the shape of y to (n_samples,), for example using ravel().\n",
      "  return self.fit(X, y, **fit_params).transform(X)\n"
     ]
    },
    {
     "name": "stdout",
     "output_type": "stream",
     "text": [
      "\n",
      "Number of Estimators:  6\n",
      "Min Leaves:  14\n",
      "Classes:  ['functional' 'functional needs repair' 'non functional']\n",
      "+++++++++++++++++++\n",
      "Accuracy Score:  0.688417508418\n",
      "Precision Score: [ 0.64626582  0.          0.87314244]\n",
      "Recall Score: [ 0.96731864  0.          0.42449339]\n",
      "Fl Score: [ 0.7748525   0.          0.57125919]\n",
      "------------------\n",
      "+++++++++++++++++++\n",
      "Number of Estimators:  6\n",
      "Min Leaves:  15\n",
      "Classes:  ['functional' 'functional needs repair' 'non functional']\n",
      "+++++++++++++++++++\n",
      "Accuracy Score:  0.662356902357\n",
      "Precision Score: [ 0.62868128  0.          0.81911653]\n",
      "Recall Score: [ 0.95134934  0.          0.37903084]\n",
      "Fl Score: [ 0.75706827  0.          0.51825081]\n",
      "------------------\n",
      "+++++++++++++++++++"
     ]
    },
    {
     "name": "stderr",
     "output_type": "stream",
     "text": [
      "//anaconda/lib/python2.7/site-packages/sklearn/base.py:436: DataConversionWarning: A column-vector y was passed when a 1d array was expected. Please change the shape of y to (n_samples,), for example using ravel().\n",
      "  return self.fit(X, y, **fit_params).transform(X)\n",
      "//anaconda/lib/python2.7/site-packages/sklearn/base.py:436: DataConversionWarning: A column-vector y was passed when a 1d array was expected. Please change the shape of y to (n_samples,), for example using ravel().\n",
      "  return self.fit(X, y, **fit_params).transform(X)\n"
     ]
    },
    {
     "name": "stdout",
     "output_type": "stream",
     "text": [
      "\n",
      "Number of Estimators:  6\n",
      "Min Leaves:  16\n",
      "Classes:  ['functional' 'functional needs repair' 'non functional']\n",
      "+++++++++++++++++++\n",
      "Accuracy Score:  0.698114478114\n",
      "Precision Score: [ 0.65701844  0.          0.85149777]\n",
      "Recall Score: [ 0.95258727  0.          0.470837  ]\n",
      "Fl Score: [ 0.77766549  0.          0.60637694]\n",
      "------------------\n",
      "+++++++++++++++++++\n",
      "Number of Estimators:  6\n",
      "Min Leaves:  17\n",
      "Classes:  ['functional' 'functional needs repair' 'non functional']\n",
      "+++++++++++++++++++\n",
      "Accuracy Score:  0.684713804714\n",
      "Precision Score: [ 0.65287316  0.          0.79414401]\n",
      "Recall Score: [ 0.92968557  0.          0.46837004]\n",
      "Fl Score: [ 0.76707012  0.          0.58922634]\n",
      "------------------\n",
      "+++++++++++++++++++"
     ]
    },
    {
     "name": "stderr",
     "output_type": "stream",
     "text": [
      "//anaconda/lib/python2.7/site-packages/sklearn/base.py:436: DataConversionWarning: A column-vector y was passed when a 1d array was expected. Please change the shape of y to (n_samples,), for example using ravel().\n",
      "  return self.fit(X, y, **fit_params).transform(X)\n",
      "//anaconda/lib/python2.7/site-packages/sklearn/base.py:436: DataConversionWarning: A column-vector y was passed when a 1d array was expected. Please change the shape of y to (n_samples,), for example using ravel().\n",
      "  return self.fit(X, y, **fit_params).transform(X)\n"
     ]
    },
    {
     "name": "stdout",
     "output_type": "stream",
     "text": [
      "\n",
      "Number of Estimators:  6\n",
      "Min Leaves:  18\n",
      "Classes:  ['functional' 'functional needs repair' 'non functional']\n",
      "+++++++++++++++++++\n",
      "Accuracy Score:  0.701212121212\n",
      "Precision Score: [ 0.66050391  0.          0.84818379]\n",
      "Recall Score: [ 0.95085417  0.          0.48140969]\n",
      "Fl Score: [ 0.77951997  0.          0.61420863]\n",
      "------------------\n",
      "+++++++++++++++++++\n",
      "Number of Estimators:  6\n",
      "Min Leaves:  19\n",
      "Classes:  ['functional' 'functional needs repair' 'non functional']\n",
      "+++++++++++++++++++\n",
      "Accuracy Score:  0.707205387205\n",
      "Precision Score: [ 0.66424682  0.          0.85879841]\n",
      "Recall Score: [ 0.95147314  0.          0.49621145]\n",
      "Fl Score: [ 0.78232989  0.          0.62899263]\n",
      "------------------\n",
      "+++++++++++++++++++"
     ]
    },
    {
     "name": "stderr",
     "output_type": "stream",
     "text": [
      "//anaconda/lib/python2.7/site-packages/sklearn/base.py:436: DataConversionWarning: A column-vector y was passed when a 1d array was expected. Please change the shape of y to (n_samples,), for example using ravel().\n",
      "  return self.fit(X, y, **fit_params).transform(X)\n",
      "//anaconda/lib/python2.7/site-packages/sklearn/base.py:436: DataConversionWarning: A column-vector y was passed when a 1d array was expected. Please change the shape of y to (n_samples,), for example using ravel().\n",
      "  return self.fit(X, y, **fit_params).transform(X)\n"
     ]
    },
    {
     "name": "stdout",
     "output_type": "stream",
     "text": [
      "\n",
      "Number of Estimators:  6\n",
      "Min Leaves:  20\n",
      "Classes:  ['functional' 'functional needs repair' 'non functional']\n",
      "+++++++++++++++++++\n",
      "Accuracy Score:  0.693063973064\n",
      "Precision Score: [ 0.65621501  0.          0.825054  ]\n",
      "Recall Score: [ 0.94305521  0.          0.47118943]\n",
      "Fl Score: [ 0.77391172  0.          0.59982055]\n",
      "------------------\n",
      "+++++++++++++++++++\n",
      "Number of Estimators:  7\n",
      "Min Leaves:  2\n",
      "Classes:  ['functional' 'functional needs repair' 'non functional']\n",
      "+++++++++++++++++++\n",
      "Accuracy Score:  0.59367003367\n",
      "Precision Score: [ 0.57360006  0.          0.90365449]\n",
      "Recall Score: [ 0.99034414  0.          0.14378855]\n",
      "Fl Score: [ 0.72644722  0.          0.24809973]\n",
      "------------------\n",
      "+++++++++++++++++++"
     ]
    },
    {
     "name": "stderr",
     "output_type": "stream",
     "text": [
      "//anaconda/lib/python2.7/site-packages/sklearn/base.py:436: DataConversionWarning: A column-vector y was passed when a 1d array was expected. Please change the shape of y to (n_samples,), for example using ravel().\n",
      "  return self.fit(X, y, **fit_params).transform(X)\n",
      "//anaconda/lib/python2.7/site-packages/sklearn/base.py:436: DataConversionWarning: A column-vector y was passed when a 1d array was expected. Please change the shape of y to (n_samples,), for example using ravel().\n",
      "  return self.fit(X, y, **fit_params).transform(X)\n"
     ]
    },
    {
     "name": "stdout",
     "output_type": "stream",
     "text": [
      "\n",
      "Number of Estimators:  7\n",
      "Min Leaves:  3\n",
      "Classes:  ['functional' 'functional needs repair' 'non functional']\n",
      "+++++++++++++++++++\n",
      "Accuracy Score:  0.631717171717\n",
      "Precision Score: [ 0.59930733  0.          0.90625   ]\n",
      "Recall Score: [ 0.98539242  0.          0.25039648]\n",
      "Fl Score: [ 0.74531835  0.          0.39237885]\n",
      "------------------\n",
      "+++++++++++++++++++\n",
      "Number of Estimators:  7\n",
      "Min Leaves:  4\n",
      "Classes:  ['functional' 'functional needs repair' 'non functional']\n",
      "+++++++++++++++++++\n",
      "Accuracy Score:  0.640673400673\n",
      "Precision Score: [ 0.60545358  0.          0.90935503]\n",
      "Recall Score: [ 0.9840307   0.          0.27577093]\n",
      "Fl Score: [ 0.74965813  0.          0.42320173]\n",
      "------------------\n",
      "+++++++++++++++++++"
     ]
    },
    {
     "name": "stderr",
     "output_type": "stream",
     "text": [
      "//anaconda/lib/python2.7/site-packages/sklearn/base.py:436: DataConversionWarning: A column-vector y was passed when a 1d array was expected. Please change the shape of y to (n_samples,), for example using ravel().\n",
      "  return self.fit(X, y, **fit_params).transform(X)\n",
      "//anaconda/lib/python2.7/site-packages/sklearn/base.py:436: DataConversionWarning: A column-vector y was passed when a 1d array was expected. Please change the shape of y to (n_samples,), for example using ravel().\n",
      "  return self.fit(X, y, **fit_params).transform(X)\n"
     ]
    },
    {
     "name": "stdout",
     "output_type": "stream",
     "text": [
      "\n",
      "Number of Estimators:  7\n",
      "Min Leaves:  5\n",
      "Classes:  ['functional' 'functional needs repair' 'non functional']\n",
      "+++++++++++++++++++\n",
      "Accuracy Score:  0.689225589226\n",
      "Precision Score: [ 0.64287458  0.          0.91143192]\n",
      "Recall Score: [ 0.97784105  0.          0.41162996]\n",
      "Fl Score: [ 0.7757427   0.          0.56712794]\n",
      "------------------\n",
      "+++++++++++++++++++\n",
      "Number of Estimators:  7\n",
      "Min Leaves:  6\n",
      "Classes:  ['functional' 'functional needs repair' 'non functional']\n",
      "+++++++++++++++++++\n",
      "Accuracy Score:  0.657643097643\n",
      "Precision Score: [ 0.62121452  0.          0.86314848]\n",
      "Recall Score: [ 0.97004209  0.          0.34008811]\n",
      "Fl Score: [ 0.75739416  0.          0.4879282 ]\n",
      "------------------\n",
      "+++++++++++++++++++"
     ]
    },
    {
     "name": "stderr",
     "output_type": "stream",
     "text": [
      "//anaconda/lib/python2.7/site-packages/sklearn/base.py:436: DataConversionWarning: A column-vector y was passed when a 1d array was expected. Please change the shape of y to (n_samples,), for example using ravel().\n",
      "  return self.fit(X, y, **fit_params).transform(X)\n",
      "//anaconda/lib/python2.7/site-packages/sklearn/base.py:436: DataConversionWarning: A column-vector y was passed when a 1d array was expected. Please change the shape of y to (n_samples,), for example using ravel().\n",
      "  return self.fit(X, y, **fit_params).transform(X)\n"
     ]
    },
    {
     "name": "stdout",
     "output_type": "stream",
     "text": [
      "\n",
      "Number of Estimators:  7\n",
      "Min Leaves:  7\n",
      "Classes:  ['functional' 'functional needs repair' 'non functional']\n",
      "+++++++++++++++++++\n",
      "Accuracy Score:  0.669292929293\n",
      "Precision Score: [ 0.62995488  0.          0.86956522]\n",
      "Recall Score: [ 0.96793761  0.          0.37356828]\n",
      "Fl Score: [ 0.76320156  0.          0.52261802]\n",
      "------------------\n",
      "+++++++++++++++++++\n",
      "Number of Estimators:  7\n",
      "Min Leaves:  8\n",
      "Classes:  ['functional' 'functional needs repair' 'non functional']\n",
      "+++++++++++++++++++\n",
      "Accuracy Score:  0.657508417508\n",
      "Precision Score: [ 0.62517244  0.          0.81519588]\n",
      "Recall Score: [ 0.95370141  0.          0.36299559]\n",
      "Fl Score: [ 0.7552571   0.          0.50231651]\n",
      "------------------\n",
      "+++++++++++++++++++"
     ]
    },
    {
     "name": "stderr",
     "output_type": "stream",
     "text": [
      "//anaconda/lib/python2.7/site-packages/sklearn/base.py:436: DataConversionWarning: A column-vector y was passed when a 1d array was expected. Please change the shape of y to (n_samples,), for example using ravel().\n",
      "  return self.fit(X, y, **fit_params).transform(X)\n",
      "//anaconda/lib/python2.7/site-packages/sklearn/base.py:436: DataConversionWarning: A column-vector y was passed when a 1d array was expected. Please change the shape of y to (n_samples,), for example using ravel().\n",
      "  return self.fit(X, y, **fit_params).transform(X)\n"
     ]
    },
    {
     "name": "stdout",
     "output_type": "stream",
     "text": [
      "\n",
      "Number of Estimators:  7\n",
      "Min Leaves:  9\n",
      "Classes:  ['functional' 'functional needs repair' 'non functional']\n",
      "+++++++++++++++++++\n",
      "Accuracy Score:  0.683771043771\n",
      "Precision Score: [ 0.64134639  0.          0.87476843]\n",
      "Recall Score: [ 0.96471899  0.          0.41603524]\n",
      "Fl Score: [ 0.77047803  0.          0.56388823]\n",
      "------------------\n",
      "+++++++++++++++++++\n",
      "Number of Estimators:  7\n",
      "Min Leaves:  10\n",
      "Classes:  ['functional' 'functional needs repair' 'non functional']\n",
      "+++++++++++++++++++\n",
      "Accuracy Score:  0.693939393939\n",
      "Precision Score: [ 0.65220687  0.          0.86030893]\n",
      "Recall Score: [ 0.95852934  0.          0.45145374]\n",
      "Fl Score: [ 0.7762406   0.          0.59216457]\n",
      "------------------\n",
      "+++++++++++++++++++"
     ]
    },
    {
     "name": "stderr",
     "output_type": "stream",
     "text": [
      "//anaconda/lib/python2.7/site-packages/sklearn/base.py:436: DataConversionWarning: A column-vector y was passed when a 1d array was expected. Please change the shape of y to (n_samples,), for example using ravel().\n",
      "  return self.fit(X, y, **fit_params).transform(X)\n",
      "//anaconda/lib/python2.7/site-packages/sklearn/base.py:436: DataConversionWarning: A column-vector y was passed when a 1d array was expected. Please change the shape of y to (n_samples,), for example using ravel().\n",
      "  return self.fit(X, y, **fit_params).transform(X)\n"
     ]
    },
    {
     "name": "stdout",
     "output_type": "stream",
     "text": [
      "\n",
      "Number of Estimators:  7\n",
      "Min Leaves:  11\n",
      "Classes:  ['functional' 'functional needs repair' 'non functional']\n",
      "+++++++++++++++++++\n",
      "Accuracy Score:  0.668417508418\n",
      "Precision Score: [ 0.63470622  0.          0.81458857]\n",
      "Recall Score: [ 0.94813073  0.          0.39947137]\n",
      "Fl Score: [ 0.76038719  0.          0.53606053]\n",
      "------------------\n",
      "+++++++++++++++++++\n",
      "Number of Estimators:  7\n",
      "Min Leaves:  12\n",
      "Classes:  ['functional' 'functional needs repair' 'non functional']\n",
      "+++++++++++++++++++\n",
      "Accuracy Score:  0.673198653199\n",
      "Precision Score: [ 0.63655878  0.          0.83528123]\n",
      "Recall Score: [ 0.95444417  0.          0.40299559]\n",
      "Fl Score: [ 0.76374443  0.          0.5436824 ]\n",
      "------------------\n",
      "+++++++++++++++++++"
     ]
    },
    {
     "name": "stderr",
     "output_type": "stream",
     "text": [
      "//anaconda/lib/python2.7/site-packages/sklearn/base.py:436: DataConversionWarning: A column-vector y was passed when a 1d array was expected. Please change the shape of y to (n_samples,), for example using ravel().\n",
      "  return self.fit(X, y, **fit_params).transform(X)\n",
      "//anaconda/lib/python2.7/site-packages/sklearn/base.py:436: DataConversionWarning: A column-vector y was passed when a 1d array was expected. Please change the shape of y to (n_samples,), for example using ravel().\n",
      "  return self.fit(X, y, **fit_params).transform(X)\n"
     ]
    },
    {
     "name": "stdout",
     "output_type": "stream",
     "text": [
      "\n",
      "Number of Estimators:  7\n",
      "Min Leaves:  13\n",
      "Classes:  ['functional' 'functional needs repair' 'non functional']\n",
      "+++++++++++++++++++\n",
      "Accuracy Score:  0.696632996633\n",
      "Precision Score: [ 0.65702018  0.          0.84056162]\n",
      "Recall Score: [ 0.94714038  0.          0.47471366]\n",
      "Fl Score: [ 0.77584546  0.          0.60675676]\n",
      "------------------\n",
      "+++++++++++++++++++\n",
      "Number of Estimators:  7\n",
      "Min Leaves:  14\n",
      "Classes:  ['functional' 'functional needs repair' 'non functional']\n",
      "+++++++++++++++++++\n",
      "Accuracy Score:  0.700875420875\n",
      "Precision Score: [ 0.65860719  0.          0.86082474]\n",
      "Recall Score: [ 0.95766279  0.          0.470837  ]\n",
      "Fl Score: [ 0.78046812  0.          0.60872537]\n",
      "------------------\n",
      "+++++++++++++++++++"
     ]
    },
    {
     "name": "stderr",
     "output_type": "stream",
     "text": [
      "//anaconda/lib/python2.7/site-packages/sklearn/base.py:436: DataConversionWarning: A column-vector y was passed when a 1d array was expected. Please change the shape of y to (n_samples,), for example using ravel().\n",
      "  return self.fit(X, y, **fit_params).transform(X)\n",
      "//anaconda/lib/python2.7/site-packages/sklearn/base.py:436: DataConversionWarning: A column-vector y was passed when a 1d array was expected. Please change the shape of y to (n_samples,), for example using ravel().\n",
      "  return self.fit(X, y, **fit_params).transform(X)\n"
     ]
    },
    {
     "name": "stdout",
     "output_type": "stream",
     "text": [
      "\n",
      "Number of Estimators:  7\n",
      "Min Leaves:  15\n",
      "Classes:  ['functional' 'functional needs repair' 'non functional']\n",
      "+++++++++++++++++++\n",
      "Accuracy Score:  0.692053872054\n",
      "Precision Score: [ 0.65344592  0.          0.83685221]\n",
      "Recall Score: [ 0.94837831  0.          0.46096916]\n",
      "Fl Score: [ 0.77376023  0.          0.5944779 ]\n",
      "------------------\n",
      "+++++++++++++++++++\n",
      "Number of Estimators:  7\n",
      "Min Leaves:  16\n",
      "Classes:  ['functional' 'functional needs repair' 'non functional']\n",
      "+++++++++++++++++++\n",
      "Accuracy Score:  0.690033670034\n",
      "Precision Score: [ 0.64686825  0.          0.87482219]\n",
      "Recall Score: [ 0.96397623  0.          0.43348018]\n",
      "Fl Score: [ 0.77420958  0.          0.57971014]\n",
      "------------------\n",
      "+++++++++++++++++++"
     ]
    },
    {
     "name": "stderr",
     "output_type": "stream",
     "text": [
      "//anaconda/lib/python2.7/site-packages/sklearn/base.py:436: DataConversionWarning: A column-vector y was passed when a 1d array was expected. Please change the shape of y to (n_samples,), for example using ravel().\n",
      "  return self.fit(X, y, **fit_params).transform(X)\n",
      "//anaconda/lib/python2.7/site-packages/sklearn/base.py:436: DataConversionWarning: A column-vector y was passed when a 1d array was expected. Please change the shape of y to (n_samples,), for example using ravel().\n",
      "  return self.fit(X, y, **fit_params).transform(X)\n"
     ]
    },
    {
     "name": "stdout",
     "output_type": "stream",
     "text": [
      "\n",
      "Number of Estimators:  7\n",
      "Min Leaves:  17\n",
      "Classes:  ['functional' 'functional needs repair' 'non functional']\n",
      "+++++++++++++++++++\n",
      "Accuracy Score:  0.696632996633\n",
      "Precision Score: [ 0.65655703  0.          0.84578696]\n",
      "Recall Score: [ 0.95134934  0.          0.46872247]\n",
      "Fl Score: [ 0.77692969  0.          0.6031746 ]\n",
      "------------------\n",
      "+++++++++++++++++++\n",
      "Number of Estimators:  7\n",
      "Min Leaves:  18\n",
      "Classes:  ['functional' 'functional needs repair' 'non functional']\n",
      "+++++++++++++++++++\n",
      "Accuracy Score:  0.708552188552\n",
      "Precision Score: [ 0.66786371  0.          0.84386834]\n",
      "Recall Score: [ 0.94392176  0.          0.51048458]\n",
      "Fl Score: [ 0.78225186  0.          0.63614405]\n",
      "------------------\n",
      "+++++++++++++++++++"
     ]
    },
    {
     "name": "stderr",
     "output_type": "stream",
     "text": [
      "//anaconda/lib/python2.7/site-packages/sklearn/base.py:436: DataConversionWarning: A column-vector y was passed when a 1d array was expected. Please change the shape of y to (n_samples,), for example using ravel().\n",
      "  return self.fit(X, y, **fit_params).transform(X)\n",
      "//anaconda/lib/python2.7/site-packages/sklearn/base.py:436: DataConversionWarning: A column-vector y was passed when a 1d array was expected. Please change the shape of y to (n_samples,), for example using ravel().\n",
      "  return self.fit(X, y, **fit_params).transform(X)\n"
     ]
    },
    {
     "name": "stdout",
     "output_type": "stream",
     "text": [
      "\n",
      "Number of Estimators:  7\n",
      "Min Leaves:  19\n",
      "Classes:  ['functional' 'functional needs repair' 'non functional']\n",
      "+++++++++++++++++++\n",
      "Accuracy Score:  0.710235690236\n",
      "Precision Score: [ 0.6662932   0.          0.86726209]\n",
      "Recall Score: [ 0.95704382  0.          0.49621145]\n",
      "Fl Score: [ 0.78563081  0.          0.6312486 ]\n",
      "------------------\n",
      "+++++++++++++++++++\n",
      "Number of Estimators:  7\n",
      "Min Leaves:  20\n",
      "Classes:  ['functional' 'functional needs repair' 'non functional']\n",
      "+++++++++++++++++++\n",
      "Accuracy Score:  0.707609427609\n",
      "Precision Score: [ 0.66411294  0.          0.8639035 ]\n",
      "Recall Score: [ 0.95506313  0.          0.49215859]\n",
      "Fl Score: [ 0.78344758  0.          0.62707678]\n",
      "------------------\n",
      "+++++++++++++++++++"
     ]
    },
    {
     "name": "stderr",
     "output_type": "stream",
     "text": [
      "//anaconda/lib/python2.7/site-packages/sklearn/base.py:436: DataConversionWarning: A column-vector y was passed when a 1d array was expected. Please change the shape of y to (n_samples,), for example using ravel().\n",
      "  return self.fit(X, y, **fit_params).transform(X)\n",
      "//anaconda/lib/python2.7/site-packages/sklearn/base.py:436: DataConversionWarning: A column-vector y was passed when a 1d array was expected. Please change the shape of y to (n_samples,), for example using ravel().\n",
      "  return self.fit(X, y, **fit_params).transform(X)\n"
     ]
    },
    {
     "name": "stdout",
     "output_type": "stream",
     "text": [
      "\n",
      "Number of Estimators:  8\n",
      "Min Leaves:  2\n",
      "Classes:  ['functional' 'functional needs repair' 'non functional']\n",
      "+++++++++++++++++++\n",
      "Accuracy Score:  0.57164983165\n",
      "Precision Score: [ 0.56016742  0.          0.89126214]\n",
      "Recall Score: [ 0.99405794  0.          0.08088106]\n",
      "Fl Score: [ 0.71654843  0.          0.14830372]\n",
      "------------------\n",
      "+++++++++++++++++++\n",
      "Number of Estimators:  8\n",
      "Min Leaves:  3\n",
      "Classes:  ['functional' 'functional needs repair' 'non functional']\n",
      "+++++++++++++++++++\n",
      "Accuracy Score:  0.624848484848\n",
      "Precision Score: [ 0.59909391  0.          0.80842912]\n",
      "Recall Score: [ 0.96583313  0.          0.26026432]\n",
      "Fl Score: [ 0.73949102  0.          0.39376166]\n",
      "------------------\n",
      "+++++++++++++++++++"
     ]
    },
    {
     "name": "stderr",
     "output_type": "stream",
     "text": [
      "//anaconda/lib/python2.7/site-packages/sklearn/base.py:436: DataConversionWarning: A column-vector y was passed when a 1d array was expected. Please change the shape of y to (n_samples,), for example using ravel().\n",
      "  return self.fit(X, y, **fit_params).transform(X)\n",
      "//anaconda/lib/python2.7/site-packages/sklearn/base.py:436: DataConversionWarning: A column-vector y was passed when a 1d array was expected. Please change the shape of y to (n_samples,), for example using ravel().\n",
      "  return self.fit(X, y, **fit_params).transform(X)\n"
     ]
    },
    {
     "name": "stdout",
     "output_type": "stream",
     "text": [
      "\n",
      "Number of Estimators:  8\n",
      "Min Leaves:  4\n",
      "Classes:  ['functional' 'functional needs repair' 'non functional']\n",
      "+++++++++++++++++++\n",
      "Accuracy Score:  0.674410774411\n",
      "Precision Score: [ 0.63420582  0.          0.86852433]\n",
      "Recall Score: [ 0.96583313  0.          0.38995595]\n",
      "Fl Score: [ 0.7656526   0.          0.53824638]\n",
      "------------------\n",
      "+++++++++++++++++++\n",
      "Number of Estimators:  8\n",
      "Min Leaves:  5\n",
      "Classes:  ['functional' 'functional needs repair' 'non functional']\n",
      "+++++++++++++++++++\n",
      "Accuracy Score:  0.678585858586\n",
      "Precision Score: [ 0.63683739  0.          0.87816271]\n",
      "Recall Score: [ 0.96818519  0.          0.39753304]\n",
      "Fl Score: [ 0.76830886  0.          0.54730713]\n",
      "------------------\n",
      "+++++++++++++++++++"
     ]
    },
    {
     "name": "stderr",
     "output_type": "stream",
     "text": [
      "//anaconda/lib/python2.7/site-packages/sklearn/base.py:436: DataConversionWarning: A column-vector y was passed when a 1d array was expected. Please change the shape of y to (n_samples,), for example using ravel().\n",
      "  return self.fit(X, y, **fit_params).transform(X)\n",
      "//anaconda/lib/python2.7/site-packages/sklearn/base.py:436: DataConversionWarning: A column-vector y was passed when a 1d array was expected. Please change the shape of y to (n_samples,), for example using ravel().\n",
      "  return self.fit(X, y, **fit_params).transform(X)\n"
     ]
    },
    {
     "name": "stdout",
     "output_type": "stream",
     "text": [
      "\n",
      "Number of Estimators:  8\n",
      "Min Leaves:  6\n",
      "Classes:  ['functional' 'functional needs repair' 'non functional']\n",
      "+++++++++++++++++++\n",
      "Accuracy Score:  0.671515151515\n",
      "Precision Score: [ 0.63269968  0.          0.85499422]\n",
      "Recall Score: [ 0.96001486  0.          0.39066079]\n",
      "Fl Score: [ 0.76272437  0.          0.53628447]\n",
      "------------------\n",
      "+++++++++++++++++++\n",
      "Number of Estimators:  8\n",
      "Min Leaves:  7\n",
      "Classes:  ['functional' 'functional needs repair' 'non functional']\n",
      "+++++++++++++++++++\n",
      "Accuracy Score:  0.694141414141\n",
      "Precision Score: [ 0.65123898  0.          0.86757216]\n",
      "Recall Score: [ 0.95976727  0.          0.45022026]\n",
      "Fl Score: [ 0.77595957  0.          0.59280742]\n",
      "------------------\n",
      "+++++++++++++++++++"
     ]
    },
    {
     "name": "stderr",
     "output_type": "stream",
     "text": [
      "//anaconda/lib/python2.7/site-packages/sklearn/base.py:436: DataConversionWarning: A column-vector y was passed when a 1d array was expected. Please change the shape of y to (n_samples,), for example using ravel().\n",
      "  return self.fit(X, y, **fit_params).transform(X)\n",
      "//anaconda/lib/python2.7/site-packages/sklearn/base.py:436: DataConversionWarning: A column-vector y was passed when a 1d array was expected. Please change the shape of y to (n_samples,), for example using ravel().\n",
      "  return self.fit(X, y, **fit_params).transform(X)\n"
     ]
    },
    {
     "name": "stdout",
     "output_type": "stream",
     "text": [
      "\n",
      "Number of Estimators:  8\n",
      "Min Leaves:  8\n",
      "Classes:  ['functional' 'functional needs repair' 'non functional']\n",
      "+++++++++++++++++++\n",
      "Accuracy Score:  0.703232323232\n",
      "Precision Score: [ 0.65792138  0.          0.88251001]\n",
      "Recall Score: [ 0.96546175  0.          0.46590308]\n",
      "Fl Score: [ 0.78256071  0.          0.60984892]\n",
      "------------------\n",
      "+++++++++++++++++++\n",
      "Number of Estimators:  8\n",
      "Min Leaves:  9\n",
      "Classes:  ['functional' 'functional needs repair' 'non functional']\n",
      "+++++++++++++++++++\n",
      "Accuracy Score:  0.683636363636\n",
      "Precision Score: [ 0.64157618  0.          0.87342242]\n",
      "Recall Score: [ 0.96546175  0.          0.41462555]\n",
      "Fl Score: [ 0.7708807  0.         0.5623133]\n",
      "------------------\n",
      "+++++++++++++++++++"
     ]
    },
    {
     "name": "stderr",
     "output_type": "stream",
     "text": [
      "//anaconda/lib/python2.7/site-packages/sklearn/base.py:436: DataConversionWarning: A column-vector y was passed when a 1d array was expected. Please change the shape of y to (n_samples,), for example using ravel().\n",
      "  return self.fit(X, y, **fit_params).transform(X)\n",
      "//anaconda/lib/python2.7/site-packages/sklearn/base.py:436: DataConversionWarning: A column-vector y was passed when a 1d array was expected. Please change the shape of y to (n_samples,), for example using ravel().\n",
      "  return self.fit(X, y, **fit_params).transform(X)\n"
     ]
    },
    {
     "name": "stdout",
     "output_type": "stream",
     "text": [
      "\n",
      "Number of Estimators:  8\n",
      "Min Leaves:  10\n",
      "Classes:  ['functional' 'functional needs repair' 'non functional']\n",
      "+++++++++++++++++++\n",
      "Accuracy Score:  0.693468013468\n",
      "Precision Score: [ 0.65056913  0.          0.87008959]\n",
      "Recall Score: [ 0.96224313  0.          0.44493392]\n",
      "Fl Score: [ 0.77629082  0.          0.58878396]\n",
      "------------------\n",
      "+++++++++++++++++++\n",
      "Number of Estimators:  8\n",
      "Min Leaves:  11\n",
      "Classes:  ['functional' 'functional needs repair' 'non functional']\n",
      "+++++++++++++++++++\n",
      "Accuracy Score:  0.694747474747\n",
      "Precision Score: [ 0.65253666  0.          0.86260054]\n",
      "Recall Score: [ 0.95852934  0.          0.45356828]\n",
      "Fl Score: [ 0.77647413  0.          0.59452593]\n",
      "------------------\n",
      "+++++++++++++++++++"
     ]
    },
    {
     "name": "stderr",
     "output_type": "stream",
     "text": [
      "//anaconda/lib/python2.7/site-packages/sklearn/base.py:436: DataConversionWarning: A column-vector y was passed when a 1d array was expected. Please change the shape of y to (n_samples,), for example using ravel().\n",
      "  return self.fit(X, y, **fit_params).transform(X)\n",
      "//anaconda/lib/python2.7/site-packages/sklearn/base.py:436: DataConversionWarning: A column-vector y was passed when a 1d array was expected. Please change the shape of y to (n_samples,), for example using ravel().\n",
      "  return self.fit(X, y, **fit_params).transform(X)\n"
     ]
    },
    {
     "name": "stdout",
     "output_type": "stream",
     "text": [
      "\n",
      "Number of Estimators:  8\n",
      "Min Leaves:  12\n",
      "Classes:  ['functional' 'functional needs repair' 'non functional']\n",
      "+++++++++++++++++++\n",
      "Accuracy Score:  0.7\n",
      "Precision Score: [ 0.65530016  0.          0.87857383]\n",
      "Recall Score: [ 0.96348106  0.          0.46026432]\n",
      "Fl Score: [ 0.78005512  0.          0.60407031]\n",
      "------------------\n",
      "+++++++++++++++++++\n",
      "Number of Estimators:  8\n",
      "Min Leaves:  13\n",
      "Classes:  ['functional' 'functional needs repair' 'non functional']\n",
      "+++++++++++++++++++\n",
      "Accuracy Score:  0.700404040404\n",
      "Precision Score: [ 0.65825375  0.          0.85874439]\n",
      "Recall Score: [ 0.9556821   0.          0.47242291]\n",
      "Fl Score: [ 0.77956175  0.          0.60952597]\n",
      "------------------\n",
      "+++++++++++++++++++"
     ]
    },
    {
     "name": "stderr",
     "output_type": "stream",
     "text": [
      "//anaconda/lib/python2.7/site-packages/sklearn/base.py:436: DataConversionWarning: A column-vector y was passed when a 1d array was expected. Please change the shape of y to (n_samples,), for example using ravel().\n",
      "  return self.fit(X, y, **fit_params).transform(X)\n",
      "//anaconda/lib/python2.7/site-packages/sklearn/base.py:436: DataConversionWarning: A column-vector y was passed when a 1d array was expected. Please change the shape of y to (n_samples,), for example using ravel().\n",
      "  return self.fit(X, y, **fit_params).transform(X)\n"
     ]
    },
    {
     "name": "stdout",
     "output_type": "stream",
     "text": [
      "\n",
      "Number of Estimators:  8\n",
      "Min Leaves:  14\n",
      "Classes:  ['functional' 'functional needs repair' 'non functional']\n",
      "+++++++++++++++++++\n",
      "Accuracy Score:  0.685656565657\n",
      "Precision Score: [ 0.64622445  0.          0.85061082]\n",
      "Recall Score: [ 0.95877692  0.          0.42942731]\n",
      "Fl Score: [ 0.77206799  0.          0.570726  ]\n",
      "------------------\n",
      "+++++++++++++++++++\n",
      "Number of Estimators:  8\n",
      "Min Leaves:  15\n",
      "Classes:  ['functional' 'functional needs repair' 'non functional']\n",
      "+++++++++++++++++++\n",
      "Accuracy Score:  0.696430976431\n",
      "Precision Score: [ 0.65626603  0.          0.84549492]\n",
      "Recall Score: [ 0.950359    0.          0.46960352]\n",
      "Fl Score: [ 0.77639563  0.          0.60382916]\n",
      "------------------\n",
      "+++++++++++++++++++"
     ]
    },
    {
     "name": "stderr",
     "output_type": "stream",
     "text": [
      "//anaconda/lib/python2.7/site-packages/sklearn/base.py:436: DataConversionWarning: A column-vector y was passed when a 1d array was expected. Please change the shape of y to (n_samples,), for example using ravel().\n",
      "  return self.fit(X, y, **fit_params).transform(X)\n",
      "//anaconda/lib/python2.7/site-packages/sklearn/base.py:436: DataConversionWarning: A column-vector y was passed when a 1d array was expected. Please change the shape of y to (n_samples,), for example using ravel().\n",
      "  return self.fit(X, y, **fit_params).transform(X)\n"
     ]
    },
    {
     "name": "stdout",
     "output_type": "stream",
     "text": [
      "\n",
      "Number of Estimators:  8\n",
      "Min Leaves:  16\n",
      "Classes:  ['functional' 'functional needs repair' 'non functional']\n",
      "+++++++++++++++++++\n",
      "Accuracy Score:  0.706262626263\n",
      "Precision Score: [ 0.66108182  0.          0.87807245]\n",
      "Recall Score: [ 0.96224313  0.          0.4784141 ]\n",
      "Fl Score: [ 0.78372656  0.          0.61936808]\n",
      "------------------\n",
      "+++++++++++++++++++\n",
      "Number of Estimators:  8\n",
      "Min Leaves:  17\n",
      "Classes:  ['functional' 'functional needs repair' 'non functional']\n",
      "+++++++++++++++++++\n",
      "Accuracy Score:  0.704848484848\n",
      "Precision Score: [ 0.65900805  0.          0.88183306]\n",
      "Recall Score: [ 0.96224313  0.          0.47471366]\n",
      "Fl Score: [ 0.7822674   0.          0.61718213]\n",
      "------------------\n",
      "+++++++++++++++++++"
     ]
    },
    {
     "name": "stderr",
     "output_type": "stream",
     "text": [
      "//anaconda/lib/python2.7/site-packages/sklearn/base.py:436: DataConversionWarning: A column-vector y was passed when a 1d array was expected. Please change the shape of y to (n_samples,), for example using ravel().\n",
      "  return self.fit(X, y, **fit_params).transform(X)\n",
      "//anaconda/lib/python2.7/site-packages/sklearn/base.py:436: DataConversionWarning: A column-vector y was passed when a 1d array was expected. Please change the shape of y to (n_samples,), for example using ravel().\n",
      "  return self.fit(X, y, **fit_params).transform(X)\n"
     ]
    },
    {
     "name": "stdout",
     "output_type": "stream",
     "text": [
      "\n",
      "Number of Estimators:  8\n",
      "Min Leaves:  18\n",
      "Classes:  ['functional' 'functional needs repair' 'non functional']\n",
      "+++++++++++++++++++\n",
      "Accuracy Score:  0.711851851852\n",
      "Precision Score: [ 0.67028351  0.          0.85067212]\n",
      "Recall Score: [ 0.94825452  0.          0.51295154]\n",
      "Fl Score: [ 0.78539936  0.          0.63999121]\n",
      "------------------\n",
      "+++++++++++++++++++\n",
      "Number of Estimators:  8\n",
      "Min Leaves:  19\n",
      "Classes:  ['functional' 'functional needs repair' 'non functional']\n",
      "+++++++++++++++++++\n",
      "Accuracy Score:  0.695218855219\n",
      "Precision Score: [ 0.65514011  0.          0.84657446]\n",
      "Recall Score: [ 0.9522159   0.          0.46378855]\n",
      "Fl Score: [ 0.77622483  0.          0.5992714 ]\n",
      "------------------\n",
      "+++++++++++++++++++"
     ]
    },
    {
     "name": "stderr",
     "output_type": "stream",
     "text": [
      "//anaconda/lib/python2.7/site-packages/sklearn/base.py:436: DataConversionWarning: A column-vector y was passed when a 1d array was expected. Please change the shape of y to (n_samples,), for example using ravel().\n",
      "  return self.fit(X, y, **fit_params).transform(X)\n",
      "//anaconda/lib/python2.7/site-packages/sklearn/base.py:436: DataConversionWarning: A column-vector y was passed when a 1d array was expected. Please change the shape of y to (n_samples,), for example using ravel().\n",
      "  return self.fit(X, y, **fit_params).transform(X)\n"
     ]
    },
    {
     "name": "stdout",
     "output_type": "stream",
     "text": [
      "\n",
      "Number of Estimators:  8\n",
      "Min Leaves:  20\n",
      "Classes:  ['functional' 'functional needs repair' 'non functional']\n",
      "+++++++++++++++++++\n",
      "Accuracy Score:  0.712794612795\n",
      "Precision Score: [ 0.66991728  0.          0.85913819]\n",
      "Recall Score: [ 0.95246348  0.          0.50942731]\n",
      "Fl Score: [ 0.78658692  0.          0.63960177]\n",
      "------------------\n",
      "+++++++++++++++++++\n",
      "Number of Estimators:  9\n",
      "Min Leaves:  2\n",
      "Classes:  ['functional' 'functional needs repair' 'non functional']\n",
      "+++++++++++++++++++\n",
      "Accuracy Score:  0.642154882155\n",
      "Precision Score: [ 0.60397749  0.          0.9757377 ]\n",
      "Recall Score: [ 0.99628621  0.          0.26220264]\n",
      "Fl Score: [ 0.75204411  0.          0.41333333]\n",
      "------------------\n",
      "+++++++++++++++++++"
     ]
    },
    {
     "name": "stderr",
     "output_type": "stream",
     "text": [
      "//anaconda/lib/python2.7/site-packages/sklearn/base.py:436: DataConversionWarning: A column-vector y was passed when a 1d array was expected. Please change the shape of y to (n_samples,), for example using ravel().\n",
      "  return self.fit(X, y, **fit_params).transform(X)\n",
      "//anaconda/lib/python2.7/site-packages/sklearn/base.py:436: DataConversionWarning: A column-vector y was passed when a 1d array was expected. Please change the shape of y to (n_samples,), for example using ravel().\n",
      "  return self.fit(X, y, **fit_params).transform(X)\n"
     ]
    },
    {
     "name": "stdout",
     "output_type": "stream",
     "text": [
      "\n",
      "Number of Estimators:  9\n",
      "Min Leaves:  3\n",
      "Classes:  ['functional' 'functional needs repair' 'non functional']\n",
      "+++++++++++++++++++\n",
      "Accuracy Score:  0.684444444444\n",
      "Precision Score: [ 0.64191636  0.          0.87564767]\n",
      "Recall Score: [ 0.96533795  0.          0.4169163 ]\n",
      "Fl Score: [ 0.77108672  0.          0.56488003]\n",
      "------------------\n",
      "+++++++++++++++++++\n",
      "Number of Estimators:  9\n",
      "Min Leaves:  4\n",
      "Classes:  ['functional' 'functional needs repair' 'non functional']\n",
      "+++++++++++++++++++\n",
      "Accuracy Score:  0.632996632997\n",
      "Precision Score: [ 0.60308761  0.          0.83746702]\n",
      "Recall Score: [ 0.96719485  0.          0.27964758]\n",
      "Fl Score: [ 0.74292778  0.          0.41928666]\n",
      "------------------\n",
      "+++++++++++++++++++"
     ]
    },
    {
     "name": "stderr",
     "output_type": "stream",
     "text": [
      "//anaconda/lib/python2.7/site-packages/sklearn/base.py:436: DataConversionWarning: A column-vector y was passed when a 1d array was expected. Please change the shape of y to (n_samples,), for example using ravel().\n",
      "  return self.fit(X, y, **fit_params).transform(X)\n",
      "//anaconda/lib/python2.7/site-packages/sklearn/base.py:436: DataConversionWarning: A column-vector y was passed when a 1d array was expected. Please change the shape of y to (n_samples,), for example using ravel().\n",
      "  return self.fit(X, y, **fit_params).transform(X)\n"
     ]
    },
    {
     "name": "stdout",
     "output_type": "stream",
     "text": [
      "\n",
      "Number of Estimators:  9\n",
      "Min Leaves:  5\n",
      "Classes:  ['functional' 'functional needs repair' 'non functional']\n",
      "+++++++++++++++++++\n",
      "Accuracy Score:  0.646599326599\n",
      "Precision Score: [ 0.61302952  0.          0.85281385]\n",
      "Recall Score: [ 0.96917554  0.          0.31242291]\n",
      "Fl Score: [ 0.75101923  0.          0.45731235]\n",
      "------------------\n",
      "+++++++++++++++++++\n",
      "Number of Estimators:  9\n",
      "Min Leaves:  6\n",
      "Classes:  ['functional' 'functional needs repair' 'non functional']\n",
      "+++++++++++++++++++\n",
      "Accuracy Score:  0.696026936027\n",
      "Precision Score: [ 0.65270214  0.          0.87341338]\n",
      "Recall Score: [ 0.96434761  0.          0.44863436]\n",
      "Fl Score: [ 0.77849398  0.          0.59278231]\n",
      "------------------\n",
      "+++++++++++++++++++"
     ]
    },
    {
     "name": "stderr",
     "output_type": "stream",
     "text": [
      "//anaconda/lib/python2.7/site-packages/sklearn/base.py:436: DataConversionWarning: A column-vector y was passed when a 1d array was expected. Please change the shape of y to (n_samples,), for example using ravel().\n",
      "  return self.fit(X, y, **fit_params).transform(X)\n",
      "//anaconda/lib/python2.7/site-packages/sklearn/base.py:436: DataConversionWarning: A column-vector y was passed when a 1d array was expected. Please change the shape of y to (n_samples,), for example using ravel().\n",
      "  return self.fit(X, y, **fit_params).transform(X)\n"
     ]
    },
    {
     "name": "stdout",
     "output_type": "stream",
     "text": [
      "\n",
      "Number of Estimators:  9\n",
      "Min Leaves:  7\n",
      "Classes:  ['functional' 'functional needs repair' 'non functional']\n",
      "+++++++++++++++++++\n",
      "Accuracy Score:  0.675286195286\n",
      "Precision Score: [ 0.6359534  0.         0.8553719]\n",
      "Recall Score: [ 0.95951968  0.          0.40123348]\n",
      "Fl Score: [ 0.76492648  0.          0.54623965]\n",
      "------------------\n",
      "+++++++++++++++++++\n",
      "Number of Estimators:  9\n",
      "Min Leaves:  8\n",
      "Classes:  ['functional' 'functional needs repair' 'non functional']\n",
      "+++++++++++++++++++\n",
      "Accuracy Score:  0.684242424242\n",
      "Precision Score: [ 0.64354464  0.          0.85954253]\n",
      "Recall Score: [ 0.96013865  0.          0.42378855]\n",
      "Fl Score: [ 0.77059116  0.          0.56768559]\n",
      "------------------\n",
      "+++++++++++++++++++"
     ]
    },
    {
     "name": "stderr",
     "output_type": "stream",
     "text": [
      "//anaconda/lib/python2.7/site-packages/sklearn/base.py:436: DataConversionWarning: A column-vector y was passed when a 1d array was expected. Please change the shape of y to (n_samples,), for example using ravel().\n",
      "  return self.fit(X, y, **fit_params).transform(X)\n",
      "//anaconda/lib/python2.7/site-packages/sklearn/base.py:436: DataConversionWarning: A column-vector y was passed when a 1d array was expected. Please change the shape of y to (n_samples,), for example using ravel().\n",
      "  return self.fit(X, y, **fit_params).transform(X)\n"
     ]
    },
    {
     "name": "stdout",
     "output_type": "stream",
     "text": [
      "\n",
      "Number of Estimators:  9\n",
      "Min Leaves:  9\n",
      "Classes:  ['functional' 'functional needs repair' 'non functional']\n",
      "+++++++++++++++++++\n",
      "Accuracy Score:  0.654276094276\n",
      "Precision Score: [ 0.62189616  0.          0.81847915]\n",
      "Recall Score: [ 0.95493934  0.          0.35277533]\n",
      "Fl Score: [ 0.75324675  0.          0.49304273]\n",
      "------------------\n",
      "+++++++++++++++++++\n",
      "Number of Estimators:  9\n",
      "Min Leaves:  10\n",
      "Classes:  ['functional' 'functional needs repair' 'non functional']\n",
      "+++++++++++++++++++\n",
      "Accuracy Score:  0.658181818182\n",
      "Precision Score: [ 0.62491915  0.          0.82393231]\n",
      "Recall Score: [ 0.95679624  0.          0.36035242]\n",
      "Fl Score: [ 0.7560403   0.          0.50140983]\n",
      "------------------\n",
      "+++++++++++++++++++"
     ]
    },
    {
     "name": "stderr",
     "output_type": "stream",
     "text": [
      "//anaconda/lib/python2.7/site-packages/sklearn/base.py:436: DataConversionWarning: A column-vector y was passed when a 1d array was expected. Please change the shape of y to (n_samples,), for example using ravel().\n",
      "  return self.fit(X, y, **fit_params).transform(X)\n",
      "//anaconda/lib/python2.7/site-packages/sklearn/base.py:436: DataConversionWarning: A column-vector y was passed when a 1d array was expected. Please change the shape of y to (n_samples,), for example using ravel().\n",
      "  return self.fit(X, y, **fit_params).transform(X)\n"
     ]
    },
    {
     "name": "stdout",
     "output_type": "stream",
     "text": [
      "\n",
      "Number of Estimators:  9\n",
      "Min Leaves:  11\n",
      "Classes:  ['functional' 'functional needs repair' 'non functional']\n",
      "+++++++++++++++++++\n",
      "Accuracy Score:  0.693333333333\n",
      "Precision Score: [ 0.65005444  0.          0.87083476]\n",
      "Recall Score: [ 0.96075761  0.          0.44669604]\n",
      "Fl Score: [ 0.77544088  0.          0.59049616]\n",
      "------------------\n",
      "+++++++++++++++++++\n",
      "Number of Estimators:  9\n",
      "Min Leaves:  12\n",
      "Classes:  ['functional' 'functional needs repair' 'non functional']\n",
      "+++++++++++++++++++\n",
      "Accuracy Score:  0.668821548822\n",
      "Precision Score: [ 0.63373673  0.          0.82648909]\n",
      "Recall Score: [ 0.95295865  0.          0.39365639]\n",
      "Fl Score: [ 0.76123609  0.          0.5333015 ]\n",
      "------------------\n",
      "+++++++++++++++++++"
     ]
    },
    {
     "name": "stderr",
     "output_type": "stream",
     "text": [
      "//anaconda/lib/python2.7/site-packages/sklearn/base.py:436: DataConversionWarning: A column-vector y was passed when a 1d array was expected. Please change the shape of y to (n_samples,), for example using ravel().\n",
      "  return self.fit(X, y, **fit_params).transform(X)\n",
      "//anaconda/lib/python2.7/site-packages/sklearn/base.py:436: DataConversionWarning: A column-vector y was passed when a 1d array was expected. Please change the shape of y to (n_samples,), for example using ravel().\n",
      "  return self.fit(X, y, **fit_params).transform(X)\n"
     ]
    },
    {
     "name": "stdout",
     "output_type": "stream",
     "text": [
      "\n",
      "Number of Estimators:  9\n",
      "Min Leaves:  13\n",
      "Classes:  ['functional' 'functional needs repair' 'non functional']\n",
      "+++++++++++++++++++\n",
      "Accuracy Score:  0.690707070707\n",
      "Precision Score: [ 0.65134425  0.          0.84243217]\n",
      "Recall Score: [ 0.95073038  0.          0.45409692]\n",
      "Fl Score: [ 0.77306357  0.          0.59010763]\n",
      "------------------\n",
      "+++++++++++++++++++\n",
      "Number of Estimators:  9\n",
      "Min Leaves:  14\n",
      "Classes:  ['functional' 'functional needs repair' 'non functional']\n",
      "+++++++++++++++++++\n",
      "Accuracy Score:  0.702693602694\n",
      "Precision Score: [ 0.66273524  0.          0.84151853]\n",
      "Recall Score: [ 0.94602624  0.          0.49215859]\n",
      "Fl Score: [ 0.77943801  0.          0.62108072]\n",
      "------------------\n",
      "+++++++++++++++++++"
     ]
    },
    {
     "name": "stderr",
     "output_type": "stream",
     "text": [
      "//anaconda/lib/python2.7/site-packages/sklearn/base.py:436: DataConversionWarning: A column-vector y was passed when a 1d array was expected. Please change the shape of y to (n_samples,), for example using ravel().\n",
      "  return self.fit(X, y, **fit_params).transform(X)\n",
      "//anaconda/lib/python2.7/site-packages/sklearn/base.py:436: DataConversionWarning: A column-vector y was passed when a 1d array was expected. Please change the shape of y to (n_samples,), for example using ravel().\n",
      "  return self.fit(X, y, **fit_params).transform(X)\n"
     ]
    },
    {
     "name": "stdout",
     "output_type": "stream",
     "text": [
      "\n",
      "Number of Estimators:  9\n",
      "Min Leaves:  15\n",
      "Classes:  ['functional' 'functional needs repair' 'non functional']\n",
      "+++++++++++++++++++\n",
      "Accuracy Score:  0.71138047138\n",
      "Precision Score: [ 0.66895891  0.          0.85633551]\n",
      "Recall Score: [ 0.95134934  0.          0.50731278]\n",
      "Fl Score: [ 0.78554636  0.          0.63715835]\n",
      "------------------\n",
      "+++++++++++++++++++\n",
      "Number of Estimators:  9\n",
      "Min Leaves:  16\n",
      "Classes:  ['functional' 'functional needs repair' 'non functional']\n",
      "+++++++++++++++++++\n",
      "Accuracy Score:  0.704175084175\n",
      "Precision Score: [ 0.66390945  0.          0.84160475]\n",
      "Recall Score: [ 0.94392176  0.          0.49903084]\n",
      "Fl Score: [ 0.77953279  0.          0.62654867]\n",
      "------------------\n",
      "+++++++++++++++++++"
     ]
    },
    {
     "name": "stderr",
     "output_type": "stream",
     "text": [
      "//anaconda/lib/python2.7/site-packages/sklearn/base.py:436: DataConversionWarning: A column-vector y was passed when a 1d array was expected. Please change the shape of y to (n_samples,), for example using ravel().\n",
      "  return self.fit(X, y, **fit_params).transform(X)\n",
      "//anaconda/lib/python2.7/site-packages/sklearn/base.py:436: DataConversionWarning: A column-vector y was passed when a 1d array was expected. Please change the shape of y to (n_samples,), for example using ravel().\n",
      "  return self.fit(X, y, **fit_params).transform(X)\n"
     ]
    },
    {
     "name": "stdout",
     "output_type": "stream",
     "text": [
      "\n",
      "Number of Estimators:  9\n",
      "Min Leaves:  17\n",
      "Classes:  ['functional' 'functional needs repair' 'non functional']\n",
      "+++++++++++++++++++\n",
      "Accuracy Score:  0.699057239057\n",
      "Precision Score: [ 0.65593034  0.          0.86792453]\n",
      "Recall Score: [ 0.96051003  0.          0.46202643]\n",
      "Fl Score: [ 0.77952479  0.          0.60303588]\n",
      "------------------\n",
      "+++++++++++++++++++\n",
      "Number of Estimators:  9\n",
      "Min Leaves:  18\n",
      "Classes:  ['functional' 'functional needs repair' 'non functional']\n",
      "+++++++++++++++++++\n",
      "Accuracy Score:  0.704377104377\n",
      "Precision Score: [ 0.66299199  0.          0.85273232]\n",
      "Recall Score: [ 0.95295865  0.          0.48669604]\n",
      "Fl Score: [ 0.78195947  0.          0.61969935]\n",
      "------------------\n",
      "+++++++++++++++++++"
     ]
    },
    {
     "name": "stderr",
     "output_type": "stream",
     "text": [
      "//anaconda/lib/python2.7/site-packages/sklearn/base.py:436: DataConversionWarning: A column-vector y was passed when a 1d array was expected. Please change the shape of y to (n_samples,), for example using ravel().\n",
      "  return self.fit(X, y, **fit_params).transform(X)\n",
      "//anaconda/lib/python2.7/site-packages/sklearn/base.py:436: DataConversionWarning: A column-vector y was passed when a 1d array was expected. Please change the shape of y to (n_samples,), for example using ravel().\n",
      "  return self.fit(X, y, **fit_params).transform(X)\n"
     ]
    },
    {
     "name": "stdout",
     "output_type": "stream",
     "text": [
      "\n",
      "Number of Estimators:  9\n",
      "Min Leaves:  19\n",
      "Classes:  ['functional' 'functional needs repair' 'non functional']\n",
      "+++++++++++++++++++\n",
      "Accuracy Score:  0.705791245791\n",
      "Precision Score: [ 0.66628682  0.          0.83672284]\n",
      "Recall Score: [ 0.94095073  0.          0.50748899]\n",
      "Fl Score: [ 0.78014985  0.          0.63178677]\n",
      "------------------\n",
      "+++++++++++++++++++\n",
      "Number of Estimators:  9\n",
      "Min Leaves:  20\n",
      "Classes:  ['functional' 'functional needs repair' 'non functional']\n",
      "+++++++++++++++++++\n",
      "Accuracy Score:  0.711043771044\n",
      "Precision Score: [ 0.66861022  0.          0.8562072 ]\n",
      "Recall Score: [ 0.95110176  0.          0.50678414]\n",
      "Fl Score: [ 0.78522152  0.          0.63670578]\n",
      "------------------\n",
      "+++++++++++++++++++"
     ]
    },
    {
     "name": "stderr",
     "output_type": "stream",
     "text": [
      "//anaconda/lib/python2.7/site-packages/sklearn/base.py:436: DataConversionWarning: A column-vector y was passed when a 1d array was expected. Please change the shape of y to (n_samples,), for example using ravel().\n",
      "  return self.fit(X, y, **fit_params).transform(X)\n",
      "//anaconda/lib/python2.7/site-packages/sklearn/base.py:436: DataConversionWarning: A column-vector y was passed when a 1d array was expected. Please change the shape of y to (n_samples,), for example using ravel().\n",
      "  return self.fit(X, y, **fit_params).transform(X)\n"
     ]
    },
    {
     "name": "stdout",
     "output_type": "stream",
     "text": [
      "\n",
      "Number of Estimators:  10\n",
      "Min Leaves:  2\n",
      "Classes:  ['functional' 'functional needs repair' 'non functional']\n",
      "+++++++++++++++++++\n",
      "Accuracy Score:  0.642154882155\n",
      "Precision Score: [ 0.60397749  0.          0.9757377 ]\n",
      "Recall Score: [ 0.99628621  0.          0.26220264]\n",
      "Fl Score: [ 0.75204411  0.          0.41333333]\n",
      "------------------\n",
      "+++++++++++++++++++\n",
      "Number of Estimators:  10\n",
      "Min Leaves:  3\n",
      "Classes:  ['functional' 'functional needs repair' 'non functional']\n",
      "+++++++++++++++++++\n",
      "Accuracy Score:  0.62861952862\n",
      "Precision Score: [ 0.59983202  0.          0.84369652]\n",
      "Recall Score: [ 0.97251795  0.          0.26061674]\n",
      "Fl Score: [ 0.74200708  0.          0.39822294]\n",
      "------------------\n",
      "+++++++++++++++++++"
     ]
    },
    {
     "name": "stderr",
     "output_type": "stream",
     "text": [
      "//anaconda/lib/python2.7/site-packages/sklearn/base.py:436: DataConversionWarning: A column-vector y was passed when a 1d array was expected. Please change the shape of y to (n_samples,), for example using ravel().\n",
      "  return self.fit(X, y, **fit_params).transform(X)\n",
      "//anaconda/lib/python2.7/site-packages/sklearn/base.py:436: DataConversionWarning: A column-vector y was passed when a 1d array was expected. Please change the shape of y to (n_samples,), for example using ravel().\n",
      "  return self.fit(X, y, **fit_params).transform(X)\n"
     ]
    },
    {
     "name": "stdout",
     "output_type": "stream",
     "text": [
      "\n",
      "Number of Estimators:  10\n",
      "Min Leaves:  4\n",
      "Classes:  ['functional' 'functional needs repair' 'non functional']\n",
      "+++++++++++++++++++\n",
      "Accuracy Score:  0.687407407407\n",
      "Precision Score: [ 0.64233815  0.          0.89965398]\n",
      "Recall Score: [ 0.97400347  0.          0.4123348 ]\n",
      "Fl Score: [ 0.77414277  0.          0.56549058]\n",
      "------------------\n",
      "+++++++++++++++++++\n",
      "Number of Estimators:  10\n",
      "Min Leaves:  5\n",
      "Classes:  ['functional' 'functional needs repair' 'non functional']\n",
      "+++++++++++++++++++\n",
      "Accuracy Score:  0.670707070707\n",
      "Precision Score: [ 0.63191627  0.          0.86014263]\n",
      "Recall Score: [ 0.96422382  0.          0.38255507]\n",
      "Fl Score: [ 0.76347775  0.          0.52957678]\n",
      "------------------\n",
      "+++++++++++++++++++"
     ]
    },
    {
     "name": "stderr",
     "output_type": "stream",
     "text": [
      "//anaconda/lib/python2.7/site-packages/sklearn/base.py:436: DataConversionWarning: A column-vector y was passed when a 1d array was expected. Please change the shape of y to (n_samples,), for example using ravel().\n",
      "  return self.fit(X, y, **fit_params).transform(X)\n",
      "//anaconda/lib/python2.7/site-packages/sklearn/base.py:436: DataConversionWarning: A column-vector y was passed when a 1d array was expected. Please change the shape of y to (n_samples,), for example using ravel().\n",
      "  return self.fit(X, y, **fit_params).transform(X)\n"
     ]
    },
    {
     "name": "stdout",
     "output_type": "stream",
     "text": [
      "\n",
      "Number of Estimators:  10\n",
      "Min Leaves:  6\n",
      "Classes:  ['functional' 'functional needs repair' 'non functional']\n",
      "+++++++++++++++++++\n",
      "Accuracy Score:  0.677171717172\n",
      "Precision Score: [ 0.63624511  0.          0.87199379]\n",
      "Recall Score: [ 0.96657589  0.          0.39612335]\n",
      "Fl Score: [ 0.76737101  0.          0.5447716 ]\n",
      "------------------\n",
      "+++++++++++++++++++\n",
      "Number of Estimators:  10\n",
      "Min Leaves:  7\n",
      "Classes:  ['functional' 'functional needs repair' 'non functional']\n",
      "+++++++++++++++++++\n",
      "Accuracy Score:  0.684646464646\n",
      "Precision Score: [ 0.64102774  0.          0.88740966]\n",
      "Recall Score: [ 0.9697945   0.          0.41110132]\n",
      "Fl Score: [ 0.77186068  0.          0.56189788]\n",
      "------------------\n",
      "+++++++++++++++++++"
     ]
    },
    {
     "name": "stderr",
     "output_type": "stream",
     "text": [
      "//anaconda/lib/python2.7/site-packages/sklearn/base.py:436: DataConversionWarning: A column-vector y was passed when a 1d array was expected. Please change the shape of y to (n_samples,), for example using ravel().\n",
      "  return self.fit(X, y, **fit_params).transform(X)\n",
      "//anaconda/lib/python2.7/site-packages/sklearn/base.py:436: DataConversionWarning: A column-vector y was passed when a 1d array was expected. Please change the shape of y to (n_samples,), for example using ravel().\n",
      "  return self.fit(X, y, **fit_params).transform(X)\n"
     ]
    },
    {
     "name": "stdout",
     "output_type": "stream",
     "text": [
      "\n",
      "Number of Estimators:  10\n",
      "Min Leaves:  8\n",
      "Classes:  ['functional' 'functional needs repair' 'non functional']\n",
      "+++++++++++++++++++\n",
      "Accuracy Score:  0.693804713805\n",
      "Precision Score: [ 0.64906162  0.          0.88568376]\n",
      "Recall Score: [ 0.96756623  0.          0.43823789]\n",
      "Fl Score: [ 0.77693837  0.          0.58634917]\n",
      "------------------\n",
      "+++++++++++++++++++\n",
      "Number of Estimators:  10\n",
      "Min Leaves:  9\n",
      "Classes:  ['functional' 'functional needs repair' 'non functional']\n",
      "+++++++++++++++++++\n",
      "Accuracy Score:  0.69063973064\n",
      "Precision Score: [ 0.6471615   0.          0.87619723]\n",
      "Recall Score: [ 0.96385244  0.          0.43524229]\n",
      "Fl Score: [ 0.77437963  0.          0.581587  ]\n",
      "------------------\n",
      "+++++++++++++++++++"
     ]
    },
    {
     "name": "stderr",
     "output_type": "stream",
     "text": [
      "//anaconda/lib/python2.7/site-packages/sklearn/base.py:436: DataConversionWarning: A column-vector y was passed when a 1d array was expected. Please change the shape of y to (n_samples,), for example using ravel().\n",
      "  return self.fit(X, y, **fit_params).transform(X)\n",
      "//anaconda/lib/python2.7/site-packages/sklearn/base.py:436: DataConversionWarning: A column-vector y was passed when a 1d array was expected. Please change the shape of y to (n_samples,), for example using ravel().\n",
      "  return self.fit(X, y, **fit_params).transform(X)\n"
     ]
    },
    {
     "name": "stdout",
     "output_type": "stream",
     "text": [
      "\n",
      "Number of Estimators:  10\n",
      "Min Leaves:  10\n",
      "Classes:  ['functional' 'functional needs repair' 'non functional']\n",
      "+++++++++++++++++++\n",
      "Accuracy Score:  0.697104377104\n",
      "Precision Score: [ 0.65305093  0.          0.87466125]\n",
      "Recall Score: [ 0.96187175  0.          0.45497797]\n",
      "Fl Score: [ 0.77793352  0.          0.59858584]\n",
      "------------------\n",
      "+++++++++++++++++++\n",
      "Number of Estimators:  10\n",
      "Min Leaves:  11\n",
      "Classes:  ['functional' 'functional needs repair' 'non functional']\n",
      "+++++++++++++++++++\n",
      "Accuracy Score:  0.707542087542\n",
      "Precision Score: [ 0.66192988  0.          0.88056811]\n",
      "Recall Score: [ 0.96298589  0.          0.48070485]\n",
      "Fl Score: [ 0.78456884  0.          0.62190813]\n",
      "------------------\n",
      "+++++++++++++++++++"
     ]
    },
    {
     "name": "stderr",
     "output_type": "stream",
     "text": [
      "//anaconda/lib/python2.7/site-packages/sklearn/base.py:436: DataConversionWarning: A column-vector y was passed when a 1d array was expected. Please change the shape of y to (n_samples,), for example using ravel().\n",
      "  return self.fit(X, y, **fit_params).transform(X)\n",
      "//anaconda/lib/python2.7/site-packages/sklearn/base.py:436: DataConversionWarning: A column-vector y was passed when a 1d array was expected. Please change the shape of y to (n_samples,), for example using ravel().\n",
      "  return self.fit(X, y, **fit_params).transform(X)\n"
     ]
    },
    {
     "name": "stdout",
     "output_type": "stream",
     "text": [
      "\n",
      "Number of Estimators:  10\n",
      "Min Leaves:  12\n",
      "Classes:  ['functional' 'functional needs repair' 'non functional']\n",
      "+++++++++++++++++++\n",
      "Accuracy Score:  0.697777777778\n",
      "Precision Score: [ 0.65522223  0.          0.8602011 ]\n",
      "Recall Score: [ 0.95444417  0.          0.46731278]\n",
      "Fl Score: [ 0.77702192  0.          0.60561772]\n",
      "------------------\n",
      "+++++++++++++++++++\n",
      "Number of Estimators:  10\n",
      "Min Leaves:  13\n",
      "Classes:  ['functional' 'functional needs repair' 'non functional']\n",
      "+++++++++++++++++++\n",
      "Accuracy Score:  0.70835016835\n",
      "Precision Score: [ 0.66319207  0.          0.87635092]\n",
      "Recall Score: [ 0.96088141  0.          0.48581498]\n",
      "Fl Score: [ 0.78475382  0.          0.6250992 ]\n",
      "------------------\n",
      "+++++++++++++++++++"
     ]
    },
    {
     "name": "stderr",
     "output_type": "stream",
     "text": [
      "//anaconda/lib/python2.7/site-packages/sklearn/base.py:436: DataConversionWarning: A column-vector y was passed when a 1d array was expected. Please change the shape of y to (n_samples,), for example using ravel().\n",
      "  return self.fit(X, y, **fit_params).transform(X)\n",
      "//anaconda/lib/python2.7/site-packages/sklearn/base.py:436: DataConversionWarning: A column-vector y was passed when a 1d array was expected. Please change the shape of y to (n_samples,), for example using ravel().\n",
      "  return self.fit(X, y, **fit_params).transform(X)\n"
     ]
    },
    {
     "name": "stdout",
     "output_type": "stream",
     "text": [
      "\n",
      "Number of Estimators:  10\n",
      "Min Leaves:  14\n",
      "Classes:  ['functional' 'functional needs repair' 'non functional']\n",
      "+++++++++++++++++++\n",
      "Accuracy Score:  0.697104377104\n",
      "Precision Score: [ 0.65383968  0.          0.86987223]\n",
      "Recall Score: [ 0.96125279  0.          0.45585903]\n",
      "Fl Score: [ 0.77829007  0.          0.59821945]\n",
      "------------------\n",
      "+++++++++++++++++++\n",
      "Number of Estimators:  10\n",
      "Min Leaves:  15\n",
      "Classes:  ['functional' 'functional needs repair' 'non functional']\n",
      "+++++++++++++++++++\n",
      "Accuracy Score:  0.707878787879\n",
      "Precision Score: [ 0.66423608  0.          0.86720952]\n",
      "Recall Score: [ 0.95852934  0.          0.48792952]\n",
      "Fl Score: [ 0.78469724  0.          0.62449256]\n",
      "------------------\n",
      "+++++++++++++++++++"
     ]
    },
    {
     "name": "stderr",
     "output_type": "stream",
     "text": [
      "//anaconda/lib/python2.7/site-packages/sklearn/base.py:436: DataConversionWarning: A column-vector y was passed when a 1d array was expected. Please change the shape of y to (n_samples,), for example using ravel().\n",
      "  return self.fit(X, y, **fit_params).transform(X)\n",
      "//anaconda/lib/python2.7/site-packages/sklearn/base.py:436: DataConversionWarning: A column-vector y was passed when a 1d array was expected. Please change the shape of y to (n_samples,), for example using ravel().\n",
      "  return self.fit(X, y, **fit_params).transform(X)\n"
     ]
    },
    {
     "name": "stdout",
     "output_type": "stream",
     "text": [
      "\n",
      "Number of Estimators:  10\n",
      "Min Leaves:  16\n",
      "Classes:  ['functional' 'functional needs repair' 'non functional']\n",
      "+++++++++++++++++++\n",
      "Accuracy Score:  0.68\n",
      "Precision Score: [ 0.64165556  0.          0.84201267]\n",
      "Recall Score: [ 0.9538252   0.          0.42167401]\n",
      "Fl Score: [ 0.76720104  0.          0.56193495]\n",
      "------------------\n",
      "+++++++++++++++++++\n",
      "Number of Estimators:  10\n",
      "Min Leaves:  17\n",
      "Classes:  ['functional' 'functional needs repair' 'non functional']\n",
      "+++++++++++++++++++\n",
      "Accuracy Score:  0.701952861953\n",
      "Precision Score: [ 0.65666246  0.          0.88426396]\n",
      "Recall Score: [ 0.96694726  0.          0.46044053]\n",
      "Fl Score: [ 0.78215591  0.          0.60556199]\n",
      "------------------\n",
      "+++++++++++++++++++"
     ]
    },
    {
     "name": "stderr",
     "output_type": "stream",
     "text": [
      "//anaconda/lib/python2.7/site-packages/sklearn/base.py:436: DataConversionWarning: A column-vector y was passed when a 1d array was expected. Please change the shape of y to (n_samples,), for example using ravel().\n",
      "  return self.fit(X, y, **fit_params).transform(X)\n",
      "//anaconda/lib/python2.7/site-packages/sklearn/base.py:436: DataConversionWarning: A column-vector y was passed when a 1d array was expected. Please change the shape of y to (n_samples,), for example using ravel().\n",
      "  return self.fit(X, y, **fit_params).transform(X)\n"
     ]
    },
    {
     "name": "stdout",
     "output_type": "stream",
     "text": [
      "\n",
      "Number of Estimators:  10\n",
      "Min Leaves:  18\n",
      "Classes:  ['functional' 'functional needs repair' 'non functional']\n",
      "+++++++++++++++++++\n",
      "Accuracy Score:  0.700942760943\n",
      "Precision Score: [ 0.66135596  0.          0.83944259]\n",
      "Recall Score: [ 0.94553107  0.          0.48828194]\n",
      "Fl Score: [ 0.77831559  0.          0.61742424]\n",
      "------------------\n",
      "+++++++++++++++++++\n",
      "Number of Estimators:  10\n",
      "Min Leaves:  19\n",
      "Classes:  ['functional' 'functional needs repair' 'non functional']\n",
      "+++++++++++++++++++\n",
      "Accuracy Score:  0.715286195286\n",
      "Precision Score: [ 0.6709487   0.          0.86872935]\n",
      "Recall Score: [ 0.95692003  0.          0.50960352]\n",
      "Fl Score: [ 0.78881576  0.          0.64238116]\n",
      "------------------\n",
      "+++++++++++++++++++"
     ]
    },
    {
     "name": "stderr",
     "output_type": "stream",
     "text": [
      "//anaconda/lib/python2.7/site-packages/sklearn/base.py:436: DataConversionWarning: A column-vector y was passed when a 1d array was expected. Please change the shape of y to (n_samples,), for example using ravel().\n",
      "  return self.fit(X, y, **fit_params).transform(X)\n",
      "//anaconda/lib/python2.7/site-packages/sklearn/base.py:436: DataConversionWarning: A column-vector y was passed when a 1d array was expected. Please change the shape of y to (n_samples,), for example using ravel().\n",
      "  return self.fit(X, y, **fit_params).transform(X)\n"
     ]
    },
    {
     "name": "stdout",
     "output_type": "stream",
     "text": [
      "\n",
      "Number of Estimators:  10\n",
      "Min Leaves:  20\n",
      "Classes:  ['functional' 'functional needs repair' 'non functional']\n",
      "+++++++++++++++++++\n",
      "Accuracy Score:  0.702154882155\n",
      "Precision Score: [ 0.65901919  0.          0.864     ]\n",
      "Recall Score: [ 0.95654865  0.          0.47577093]\n",
      "Fl Score: [ 0.78038681  0.          0.61363636]\n",
      "------------------\n",
      "+++++++++++++++++++\n",
      "Number of Estimators:  11\n",
      "Min Leaves:  2\n",
      "Classes:  ['functional' 'functional needs repair' 'non functional']\n",
      "+++++++++++++++++++\n",
      "Accuracy Score:  0.582154882155\n",
      "Precision Score: [ 0.56597271  0.          0.94620253]\n",
      "Recall Score: [ 0.99616242  0.          0.10537445]\n",
      "Fl Score: [ 0.72183351  0.          0.18963057]\n",
      "------------------\n",
      "+++++++++++++++++++"
     ]
    },
    {
     "name": "stderr",
     "output_type": "stream",
     "text": [
      "//anaconda/lib/python2.7/site-packages/sklearn/base.py:436: DataConversionWarning: A column-vector y was passed when a 1d array was expected. Please change the shape of y to (n_samples,), for example using ravel().\n",
      "  return self.fit(X, y, **fit_params).transform(X)\n",
      "//anaconda/lib/python2.7/site-packages/sklearn/base.py:436: DataConversionWarning: A column-vector y was passed when a 1d array was expected. Please change the shape of y to (n_samples,), for example using ravel().\n",
      "  return self.fit(X, y, **fit_params).transform(X)\n"
     ]
    },
    {
     "name": "stdout",
     "output_type": "stream",
     "text": [
      "\n",
      "Number of Estimators:  11\n",
      "Min Leaves:  3\n",
      "Classes:  ['functional' 'functional needs repair' 'non functional']\n",
      "+++++++++++++++++++\n",
      "Accuracy Score:  0.635353535354\n",
      "Precision Score: [ 0.60412022  0.          0.85605649]\n",
      "Recall Score: [ 0.97288933  0.          0.27770925]\n",
      "Fl Score: [ 0.74538815  0.          0.41937201]\n",
      "------------------\n",
      "+++++++++++++++++++\n",
      "Number of Estimators:  11\n",
      "Min Leaves:  4\n",
      "Classes:  ['functional' 'functional needs repair' 'non functional']\n",
      "+++++++++++++++++++\n",
      "Accuracy Score:  0.674612794613\n",
      "Precision Score: [ 0.63398003  0.          0.87238246]\n",
      "Recall Score: [ 0.96682347  0.          0.38907489]\n",
      "Fl Score: [ 0.76579889  0.          0.53814282]\n",
      "------------------\n",
      "+++++++++++++++++++"
     ]
    },
    {
     "name": "stderr",
     "output_type": "stream",
     "text": [
      "//anaconda/lib/python2.7/site-packages/sklearn/base.py:436: DataConversionWarning: A column-vector y was passed when a 1d array was expected. Please change the shape of y to (n_samples,), for example using ravel().\n",
      "  return self.fit(X, y, **fit_params).transform(X)\n",
      "//anaconda/lib/python2.7/site-packages/sklearn/base.py:436: DataConversionWarning: A column-vector y was passed when a 1d array was expected. Please change the shape of y to (n_samples,), for example using ravel().\n",
      "  return self.fit(X, y, **fit_params).transform(X)\n"
     ]
    },
    {
     "name": "stdout",
     "output_type": "stream",
     "text": [
      "\n",
      "Number of Estimators:  11\n",
      "Min Leaves:  5\n",
      "Classes:  ['functional' 'functional needs repair' 'non functional']\n",
      "+++++++++++++++++++\n",
      "Accuracy Score:  0.626936026936\n",
      "Precision Score: [ 0.5995857   0.          0.82323789]\n",
      "Recall Score: [ 0.96744244  0.          0.26343612]\n",
      "Fl Score: [ 0.74033725  0.          0.39914564]\n",
      "------------------\n",
      "+++++++++++++++++++\n",
      "Number of Estimators:  11\n",
      "Min Leaves:  6\n",
      "Classes:  ['functional' 'functional needs repair' 'non functional']\n",
      "+++++++++++++++++++\n",
      "Accuracy Score:  0.648215488215\n",
      "Precision Score: [ 0.61640569  0.          0.82459233]\n",
      "Recall Score: [ 0.96001486  0.          0.32969163]\n",
      "Fl Score: [ 0.75076238  0.          0.47104733]\n",
      "------------------\n",
      "+++++++++++++++++++"
     ]
    },
    {
     "name": "stderr",
     "output_type": "stream",
     "text": [
      "//anaconda/lib/python2.7/site-packages/sklearn/base.py:436: DataConversionWarning: A column-vector y was passed when a 1d array was expected. Please change the shape of y to (n_samples,), for example using ravel().\n",
      "  return self.fit(X, y, **fit_params).transform(X)\n",
      "//anaconda/lib/python2.7/site-packages/sklearn/base.py:436: DataConversionWarning: A column-vector y was passed when a 1d array was expected. Please change the shape of y to (n_samples,), for example using ravel().\n",
      "  return self.fit(X, y, **fit_params).transform(X)\n"
     ]
    },
    {
     "name": "stdout",
     "output_type": "stream",
     "text": [
      "\n",
      "Number of Estimators:  11\n",
      "Min Leaves:  7\n",
      "Classes:  ['functional' 'functional needs repair' 'non functional']\n",
      "+++++++++++++++++++\n",
      "Accuracy Score:  0.688417508418\n",
      "Precision Score: [ 0.6441849   0.          0.88818722]\n",
      "Recall Score: [ 0.96954692  0.          0.42132159]\n",
      "Fl Score: [ 0.77406602  0.          0.57153101]\n",
      "------------------\n",
      "+++++++++++++++++++\n",
      "Number of Estimators:  11\n",
      "Min Leaves:  8\n",
      "Classes:  ['functional' 'functional needs repair' 'non functional']\n",
      "+++++++++++++++++++\n",
      "Accuracy Score:  0.692794612795\n",
      "Precision Score: [ 0.64883972  0.          0.87973116]\n",
      "Recall Score: [ 0.96570933  0.          0.43823789]\n",
      "Fl Score: [ 0.77618029  0.          0.58503881]\n",
      "------------------\n",
      "+++++++++++++++++++"
     ]
    },
    {
     "name": "stderr",
     "output_type": "stream",
     "text": [
      "//anaconda/lib/python2.7/site-packages/sklearn/base.py:436: DataConversionWarning: A column-vector y was passed when a 1d array was expected. Please change the shape of y to (n_samples,), for example using ravel().\n",
      "  return self.fit(X, y, **fit_params).transform(X)\n",
      "//anaconda/lib/python2.7/site-packages/sklearn/base.py:436: DataConversionWarning: A column-vector y was passed when a 1d array was expected. Please change the shape of y to (n_samples,), for example using ravel().\n",
      "  return self.fit(X, y, **fit_params).transform(X)\n"
     ]
    },
    {
     "name": "stdout",
     "output_type": "stream",
     "text": [
      "\n",
      "Number of Estimators:  11\n",
      "Min Leaves:  9\n",
      "Classes:  ['functional' 'functional needs repair' 'non functional']\n",
      "+++++++++++++++++++\n",
      "Accuracy Score:  0.640606060606\n",
      "Precision Score: [ 0.6109708   0.          0.81284404]\n",
      "Recall Score: [ 0.95828175  0.          0.3122467 ]\n",
      "Fl Score: [ 0.7461924   0.          0.45117759]\n",
      "------------------\n",
      "+++++++++++++++++++\n",
      "Number of Estimators:  11\n",
      "Min Leaves:  10\n",
      "Classes:  ['functional' 'functional needs repair' 'non functional']\n",
      "+++++++++++++++++++\n",
      "Accuracy Score:  0.68861952862\n",
      "Precision Score: [ 0.64724567  0.          0.86006235]\n",
      "Recall Score: [ 0.95852934  0.          0.43753304]\n",
      "Fl Score: [ 0.77271593  0.          0.58000467]\n",
      "------------------\n",
      "+++++++++++++++++++"
     ]
    },
    {
     "name": "stderr",
     "output_type": "stream",
     "text": [
      "//anaconda/lib/python2.7/site-packages/sklearn/base.py:436: DataConversionWarning: A column-vector y was passed when a 1d array was expected. Please change the shape of y to (n_samples,), for example using ravel().\n",
      "  return self.fit(X, y, **fit_params).transform(X)\n",
      "//anaconda/lib/python2.7/site-packages/sklearn/base.py:436: DataConversionWarning: A column-vector y was passed when a 1d array was expected. Please change the shape of y to (n_samples,), for example using ravel().\n",
      "  return self.fit(X, y, **fit_params).transform(X)\n"
     ]
    },
    {
     "name": "stdout",
     "output_type": "stream",
     "text": [
      "\n",
      "Number of Estimators:  11\n",
      "Min Leaves:  11\n",
      "Classes:  ['functional' 'functional needs repair' 'non functional']\n",
      "+++++++++++++++++++\n",
      "Accuracy Score:  0.662626262626\n",
      "Precision Score: [ 0.62799804  0.          0.82638889]\n",
      "Recall Score: [ 0.95295865  0.          0.37744493]\n",
      "Fl Score: [ 0.75708104  0.          0.51820491]\n",
      "------------------\n",
      "+++++++++++++++++++\n",
      "Number of Estimators:  11\n",
      "Min Leaves:  12\n",
      "Classes:  ['functional' 'functional needs repair' 'non functional']\n",
      "+++++++++++++++++++\n",
      "Accuracy Score:  0.704377104377\n",
      "Precision Score: [ 0.66262976  0.          0.85106383]\n",
      "Recall Score: [ 0.94825452  0.          0.49339207]\n",
      "Fl Score: [ 0.78012018  0.          0.62465142]\n",
      "------------------\n",
      "+++++++++++++++++++"
     ]
    },
    {
     "name": "stderr",
     "output_type": "stream",
     "text": [
      "//anaconda/lib/python2.7/site-packages/sklearn/base.py:436: DataConversionWarning: A column-vector y was passed when a 1d array was expected. Please change the shape of y to (n_samples,), for example using ravel().\n",
      "  return self.fit(X, y, **fit_params).transform(X)\n",
      "//anaconda/lib/python2.7/site-packages/sklearn/base.py:436: DataConversionWarning: A column-vector y was passed when a 1d array was expected. Please change the shape of y to (n_samples,), for example using ravel().\n",
      "  return self.fit(X, y, **fit_params).transform(X)\n"
     ]
    },
    {
     "name": "stdout",
     "output_type": "stream",
     "text": [
      "\n",
      "Number of Estimators:  11\n",
      "Min Leaves:  13\n",
      "Classes:  ['functional' 'functional needs repair' 'non functional']\n",
      "+++++++++++++++++++\n",
      "Accuracy Score:  0.701750841751\n",
      "Precision Score: [ 0.65813637  0.          0.86787565]\n",
      "Recall Score: [ 0.95828175  0.          0.4722467 ]\n",
      "Fl Score: [ 0.78034274  0.          0.61166267]\n",
      "------------------\n",
      "+++++++++++++++++++\n",
      "Number of Estimators:  11\n",
      "Min Leaves:  14\n",
      "Classes:  ['functional' 'functional needs repair' 'non functional']\n",
      "+++++++++++++++++++\n",
      "Accuracy Score:  0.697912457912\n",
      "Precision Score: [ 0.65557065  0.          0.86011711]\n",
      "Recall Score: [ 0.9556821   0.          0.46590308]\n",
      "Fl Score: [ 0.77767704  0.          0.60441193]\n",
      "------------------\n",
      "+++++++++++++++++++"
     ]
    },
    {
     "name": "stderr",
     "output_type": "stream",
     "text": [
      "//anaconda/lib/python2.7/site-packages/sklearn/base.py:436: DataConversionWarning: A column-vector y was passed when a 1d array was expected. Please change the shape of y to (n_samples,), for example using ravel().\n",
      "  return self.fit(X, y, **fit_params).transform(X)\n",
      "//anaconda/lib/python2.7/site-packages/sklearn/base.py:436: DataConversionWarning: A column-vector y was passed when a 1d array was expected. Please change the shape of y to (n_samples,), for example using ravel().\n",
      "  return self.fit(X, y, **fit_params).transform(X)\n"
     ]
    },
    {
     "name": "stdout",
     "output_type": "stream",
     "text": [
      "\n",
      "Number of Estimators:  11\n",
      "Min Leaves:  15\n",
      "Classes:  ['functional' 'functional needs repair' 'non functional']\n",
      "+++++++++++++++++++\n",
      "Accuracy Score:  0.704107744108\n",
      "Precision Score: [ 0.66166509  0.          0.85942893]\n",
      "Recall Score: [ 0.95531072  0.          0.48264317]\n",
      "Fl Score: [ 0.78182463  0.          0.61814489]\n",
      "------------------\n",
      "+++++++++++++++++++\n",
      "Number of Estimators:  11\n",
      "Min Leaves:  16\n",
      "Classes:  ['functional' 'functional needs repair' 'non functional']\n",
      "+++++++++++++++++++\n",
      "Accuracy Score:  0.708282828283\n",
      "Precision Score: [ 0.66812418  0.          0.84275256]\n",
      "Recall Score: [ 0.94577866  0.          0.50713656]\n",
      "Fl Score: [ 0.7830677   0.          0.63322332]\n",
      "------------------\n",
      "+++++++++++++++++++"
     ]
    },
    {
     "name": "stderr",
     "output_type": "stream",
     "text": [
      "//anaconda/lib/python2.7/site-packages/sklearn/base.py:436: DataConversionWarning: A column-vector y was passed when a 1d array was expected. Please change the shape of y to (n_samples,), for example using ravel().\n",
      "  return self.fit(X, y, **fit_params).transform(X)\n",
      "//anaconda/lib/python2.7/site-packages/sklearn/base.py:436: DataConversionWarning: A column-vector y was passed when a 1d array was expected. Please change the shape of y to (n_samples,), for example using ravel().\n",
      "  return self.fit(X, y, **fit_params).transform(X)\n"
     ]
    },
    {
     "name": "stdout",
     "output_type": "stream",
     "text": [
      "\n",
      "Number of Estimators:  11\n",
      "Min Leaves:  17\n",
      "Classes:  ['functional' 'functional needs repair' 'non functional']\n",
      "+++++++++++++++++++\n",
      "Accuracy Score:  0.709966329966\n",
      "Precision Score: [ 0.66436193  0.          0.88038278]\n",
      "Recall Score: [ 0.96348106  0.          0.48634361]\n",
      "Fl Score: [ 0.78643965  0.          0.62656073]\n",
      "------------------\n",
      "+++++++++++++++++++\n",
      "Number of Estimators:  11\n",
      "Min Leaves:  18\n",
      "Classes:  ['functional' 'functional needs repair' 'non functional']\n",
      "+++++++++++++++++++\n",
      "Accuracy Score:  0.706060606061\n",
      "Precision Score: [ 0.66579634  0.          0.84375   ]\n",
      "Recall Score: [ 0.94701659  0.          0.49955947]\n",
      "Fl Score: [ 0.7818888   0.          0.62755949]\n",
      "------------------\n",
      "+++++++++++++++++++"
     ]
    },
    {
     "name": "stderr",
     "output_type": "stream",
     "text": [
      "//anaconda/lib/python2.7/site-packages/sklearn/base.py:436: DataConversionWarning: A column-vector y was passed when a 1d array was expected. Please change the shape of y to (n_samples,), for example using ravel().\n",
      "  return self.fit(X, y, **fit_params).transform(X)\n",
      "//anaconda/lib/python2.7/site-packages/sklearn/base.py:436: DataConversionWarning: A column-vector y was passed when a 1d array was expected. Please change the shape of y to (n_samples,), for example using ravel().\n",
      "  return self.fit(X, y, **fit_params).transform(X)\n"
     ]
    },
    {
     "name": "stdout",
     "output_type": "stream",
     "text": [
      "\n",
      "Number of Estimators:  11\n",
      "Min Leaves:  19\n",
      "Classes:  ['functional' 'functional needs repair' 'non functional']\n",
      "+++++++++++++++++++\n",
      "Accuracy Score:  0.706599326599\n",
      "Precision Score: [ 0.66376412  0.          0.85942787]\n",
      "Recall Score: [ 0.95308245  0.          0.4923348 ]\n",
      "Fl Score: [ 0.78253799  0.          0.6260363 ]\n",
      "------------------\n",
      "+++++++++++++++++++\n",
      "Number of Estimators:  11\n",
      "Min Leaves:  20\n",
      "Classes:  ['functional' 'functional needs repair' 'non functional']\n",
      "+++++++++++++++++++\n",
      "Accuracy Score:  0.708148148148\n",
      "Precision Score: [ 0.6650858   0.          0.86166615]\n",
      "Recall Score: [ 0.95481555  0.          0.4939207 ]\n",
      "Fl Score: [ 0.78404066  0.          0.62791219]\n",
      "------------------\n",
      "+++++++++++++++++++"
     ]
    },
    {
     "name": "stderr",
     "output_type": "stream",
     "text": [
      "//anaconda/lib/python2.7/site-packages/sklearn/base.py:436: DataConversionWarning: A column-vector y was passed when a 1d array was expected. Please change the shape of y to (n_samples,), for example using ravel().\n",
      "  return self.fit(X, y, **fit_params).transform(X)\n",
      "//anaconda/lib/python2.7/site-packages/sklearn/base.py:436: DataConversionWarning: A column-vector y was passed when a 1d array was expected. Please change the shape of y to (n_samples,), for example using ravel().\n",
      "  return self.fit(X, y, **fit_params).transform(X)\n"
     ]
    },
    {
     "name": "stdout",
     "output_type": "stream",
     "text": [
      "\n",
      "Number of Estimators:  12\n",
      "Min Leaves:  2\n",
      "Classes:  ['functional' 'functional needs repair' 'non functional']\n",
      "+++++++++++++++++++\n",
      "Accuracy Score:  0.613198653199\n",
      "Precision Score: [ 0.5867422  0.         0.8990461]\n",
      "Recall Score: [ 0.98724932  0.          0.19929515]\n",
      "Fl Score: [ 0.73604061  0.          0.32626569]\n",
      "------------------\n",
      "+++++++++++++++++++\n",
      "Number of Estimators:  12\n",
      "Min Leaves:  3\n",
      "Classes:  ['functional' 'functional needs repair' 'non functional']\n",
      "+++++++++++++++++++\n",
      "Accuracy Score:  0.632457912458\n",
      "Precision Score: [ 0.60240226  0.          0.85328836]\n",
      "Recall Score: [ 0.97474622  0.          0.26748899]\n",
      "Fl Score: [ 0.7446215   0.          0.40729809]\n",
      "------------------\n",
      "+++++++++++++++++++"
     ]
    },
    {
     "name": "stderr",
     "output_type": "stream",
     "text": [
      "//anaconda/lib/python2.7/site-packages/sklearn/base.py:436: DataConversionWarning: A column-vector y was passed when a 1d array was expected. Please change the shape of y to (n_samples,), for example using ravel().\n",
      "  return self.fit(X, y, **fit_params).transform(X)\n",
      "//anaconda/lib/python2.7/site-packages/sklearn/base.py:436: DataConversionWarning: A column-vector y was passed when a 1d array was expected. Please change the shape of y to (n_samples,), for example using ravel().\n",
      "  return self.fit(X, y, **fit_params).transform(X)\n"
     ]
    },
    {
     "name": "stdout",
     "output_type": "stream",
     "text": [
      "\n",
      "Number of Estimators:  12\n",
      "Min Leaves:  4\n",
      "Classes:  ['functional' 'functional needs repair' 'non functional']\n",
      "+++++++++++++++++++\n",
      "Accuracy Score:  0.688888888889\n",
      "Precision Score: [ 0.64378737  0.          0.89738735]\n",
      "Recall Score: [ 0.97301312  0.          0.41762115]\n",
      "Fl Score: [ 0.77488047  0.          0.56998557]\n",
      "------------------\n",
      "+++++++++++++++++++\n",
      "Number of Estimators:  12\n",
      "Min Leaves:  5\n",
      "Classes:  ['functional' 'functional needs repair' 'non functional']\n",
      "+++++++++++++++++++\n",
      "Accuracy Score:  0.656161616162\n",
      "Precision Score: [ 0.61951798  0.          0.86742597]\n",
      "Recall Score: [ 0.97053726  0.          0.33550661]\n",
      "Fl Score: [ 0.75628226  0.          0.48386277]\n",
      "------------------\n",
      "+++++++++++++++++++"
     ]
    },
    {
     "name": "stderr",
     "output_type": "stream",
     "text": [
      "//anaconda/lib/python2.7/site-packages/sklearn/base.py:436: DataConversionWarning: A column-vector y was passed when a 1d array was expected. Please change the shape of y to (n_samples,), for example using ravel().\n",
      "  return self.fit(X, y, **fit_params).transform(X)\n",
      "//anaconda/lib/python2.7/site-packages/sklearn/base.py:436: DataConversionWarning: A column-vector y was passed when a 1d array was expected. Please change the shape of y to (n_samples,), for example using ravel().\n",
      "  return self.fit(X, y, **fit_params).transform(X)\n"
     ]
    },
    {
     "name": "stdout",
     "output_type": "stream",
     "text": [
      "\n",
      "Number of Estimators:  12\n",
      "Min Leaves:  6\n",
      "Classes:  ['functional' 'functional needs repair' 'non functional']\n",
      "+++++++++++++++++++\n",
      "Accuracy Score:  0.67797979798\n",
      "Precision Score: [ 0.6369432   0.          0.86998088]\n",
      "Recall Score: [ 0.96471899  0.          0.40088106]\n",
      "Fl Score: [ 0.76729188  0.          0.54885404]\n",
      "------------------\n",
      "+++++++++++++++++++\n",
      "Number of Estimators:  12\n",
      "Min Leaves:  7\n",
      "Classes:  ['functional' 'functional needs repair' 'non functional']\n",
      "+++++++++++++++++++\n",
      "Accuracy Score:  0.696228956229\n",
      "Precision Score: [ 0.65039435  0.          0.89304813]\n",
      "Recall Score: [ 0.9697945   0.          0.44140969]\n",
      "Fl Score: [ 0.77861154  0.          0.59080189]\n",
      "------------------\n",
      "+++++++++++++++++++"
     ]
    },
    {
     "name": "stderr",
     "output_type": "stream",
     "text": [
      "//anaconda/lib/python2.7/site-packages/sklearn/base.py:436: DataConversionWarning: A column-vector y was passed when a 1d array was expected. Please change the shape of y to (n_samples,), for example using ravel().\n",
      "  return self.fit(X, y, **fit_params).transform(X)\n",
      "//anaconda/lib/python2.7/site-packages/sklearn/base.py:436: DataConversionWarning: A column-vector y was passed when a 1d array was expected. Please change the shape of y to (n_samples,), for example using ravel().\n",
      "  return self.fit(X, y, **fit_params).transform(X)\n"
     ]
    },
    {
     "name": "stdout",
     "output_type": "stream",
     "text": [
      "\n",
      "Number of Estimators:  12\n",
      "Min Leaves:  8\n",
      "Classes:  ['functional' 'functional needs repair' 'non functional']\n",
      "+++++++++++++++++++\n",
      "Accuracy Score:  0.699595959596\n",
      "Precision Score: [ 0.65931141  0.          0.8460818 ]\n",
      "Recall Score: [ 0.95060659  0.          0.47753304]\n",
      "Fl Score: [ 0.77860583  0.          0.61049786]\n",
      "------------------\n",
      "+++++++++++++++++++\n",
      "Number of Estimators:  12\n",
      "Min Leaves:  9\n",
      "Classes:  ['functional' 'functional needs repair' 'non functional']\n",
      "+++++++++++++++++++\n",
      "Accuracy Score:  0.661683501684\n",
      "Precision Score: [ 0.62761609  0.          0.82085561]\n",
      "Recall Score: [ 0.950359    0.          0.37867841]\n",
      "Fl Score: [ 0.75598227  0.          0.51826842]\n",
      "------------------\n",
      "+++++++++++++++++++"
     ]
    },
    {
     "name": "stderr",
     "output_type": "stream",
     "text": [
      "//anaconda/lib/python2.7/site-packages/sklearn/base.py:436: DataConversionWarning: A column-vector y was passed when a 1d array was expected. Please change the shape of y to (n_samples,), for example using ravel().\n",
      "  return self.fit(X, y, **fit_params).transform(X)\n",
      "//anaconda/lib/python2.7/site-packages/sklearn/base.py:436: DataConversionWarning: A column-vector y was passed when a 1d array was expected. Please change the shape of y to (n_samples,), for example using ravel().\n",
      "  return self.fit(X, y, **fit_params).transform(X)\n"
     ]
    },
    {
     "name": "stdout",
     "output_type": "stream",
     "text": [
      "\n",
      "Number of Estimators:  12\n",
      "Min Leaves:  10\n",
      "Classes:  ['functional' 'functional needs repair' 'non functional']\n",
      "+++++++++++++++++++\n",
      "Accuracy Score:  0.677845117845\n",
      "Precision Score: [ 0.63969858  0.          0.84390771]\n",
      "Recall Score: [ 0.95630106  0.          0.41251101]\n",
      "Fl Score: [ 0.7665972   0.          0.55414842]\n",
      "------------------\n",
      "+++++++++++++++++++\n",
      "Number of Estimators:  12\n",
      "Min Leaves:  11\n",
      "Classes:  ['functional' 'functional needs repair' 'non functional']\n",
      "+++++++++++++++++++\n",
      "Accuracy Score:  0.697777777778\n",
      "Precision Score: [ 0.65470057  0.          0.86715377]\n",
      "Recall Score: [ 0.95951968  0.          0.46008811]\n",
      "Fl Score: [ 0.77833007  0.          0.60119733]\n",
      "------------------\n",
      "+++++++++++++++++++"
     ]
    },
    {
     "name": "stderr",
     "output_type": "stream",
     "text": [
      "//anaconda/lib/python2.7/site-packages/sklearn/base.py:436: DataConversionWarning: A column-vector y was passed when a 1d array was expected. Please change the shape of y to (n_samples,), for example using ravel().\n",
      "  return self.fit(X, y, **fit_params).transform(X)\n",
      "//anaconda/lib/python2.7/site-packages/sklearn/base.py:436: DataConversionWarning: A column-vector y was passed when a 1d array was expected. Please change the shape of y to (n_samples,), for example using ravel().\n",
      "  return self.fit(X, y, **fit_params).transform(X)\n"
     ]
    },
    {
     "name": "stdout",
     "output_type": "stream",
     "text": [
      "\n",
      "Number of Estimators:  12\n",
      "Min Leaves:  12\n",
      "Classes:  ['functional' 'functional needs repair' 'non functional']\n",
      "+++++++++++++++++++\n",
      "Accuracy Score:  0.701818181818\n",
      "Precision Score: [ 0.66135287  0.          0.84653313]\n",
      "Recall Score: [ 0.95011141  0.          0.48405286]\n",
      "Fl Score: [ 0.77986079  0.          0.61591928]\n",
      "------------------\n",
      "+++++++++++++++++++\n",
      "Number of Estimators:  12\n",
      "Min Leaves:  13\n",
      "Classes:  ['functional' 'functional needs repair' 'non functional']\n",
      "+++++++++++++++++++\n",
      "Accuracy Score:  0.701212121212\n",
      "Precision Score: [ 0.66000686  0.          0.85194479]\n",
      "Recall Score: [ 0.95283486  0.          0.47859031]\n",
      "Fl Score: [ 0.77983789  0.          0.61288503]\n",
      "------------------\n",
      "+++++++++++++++++++"
     ]
    },
    {
     "name": "stderr",
     "output_type": "stream",
     "text": [
      "//anaconda/lib/python2.7/site-packages/sklearn/base.py:436: DataConversionWarning: A column-vector y was passed when a 1d array was expected. Please change the shape of y to (n_samples,), for example using ravel().\n",
      "  return self.fit(X, y, **fit_params).transform(X)\n",
      "//anaconda/lib/python2.7/site-packages/sklearn/base.py:436: DataConversionWarning: A column-vector y was passed when a 1d array was expected. Please change the shape of y to (n_samples,), for example using ravel().\n",
      "  return self.fit(X, y, **fit_params).transform(X)\n"
     ]
    },
    {
     "name": "stdout",
     "output_type": "stream",
     "text": [
      "\n",
      "Number of Estimators:  12\n",
      "Min Leaves:  14\n",
      "Classes:  ['functional' 'functional needs repair' 'non functional']\n",
      "+++++++++++++++++++\n",
      "Accuracy Score:  0.702491582492\n",
      "Precision Score: [ 0.65872138  0.          0.86819207]\n",
      "Recall Score: [ 0.95791037  0.          0.47471366]\n",
      "Fl Score: [ 0.78063052  0.          0.61380725]\n",
      "------------------\n",
      "+++++++++++++++++++\n",
      "Number of Estimators:  12\n",
      "Min Leaves:  15\n",
      "Classes:  ['functional' 'functional needs repair' 'non functional']\n",
      "+++++++++++++++++++\n",
      "Accuracy Score:  0.693400673401\n",
      "Precision Score: [ 0.6538724   0.          0.84165067]\n",
      "Recall Score: [ 0.94899728  0.          0.46361233]\n",
      "Fl Score: [ 0.77426523  0.          0.5978866 ]\n",
      "------------------\n",
      "+++++++++++++++++++"
     ]
    },
    {
     "name": "stderr",
     "output_type": "stream",
     "text": [
      "//anaconda/lib/python2.7/site-packages/sklearn/base.py:436: DataConversionWarning: A column-vector y was passed when a 1d array was expected. Please change the shape of y to (n_samples,), for example using ravel().\n",
      "  return self.fit(X, y, **fit_params).transform(X)\n",
      "//anaconda/lib/python2.7/site-packages/sklearn/base.py:436: DataConversionWarning: A column-vector y was passed when a 1d array was expected. Please change the shape of y to (n_samples,), for example using ravel().\n",
      "  return self.fit(X, y, **fit_params).transform(X)\n"
     ]
    },
    {
     "name": "stdout",
     "output_type": "stream",
     "text": [
      "\n",
      "Number of Estimators:  12\n",
      "Min Leaves:  16\n",
      "Classes:  ['functional' 'functional needs repair' 'non functional']\n",
      "+++++++++++++++++++\n",
      "Accuracy Score:  0.701616161616\n",
      "Precision Score: [ 0.66505196  0.          0.82036613]\n",
      "Recall Score: [ 0.93476108  0.          0.50537445]\n",
      "Fl Score: [ 0.77717168  0.          0.62544979]\n",
      "------------------\n",
      "+++++++++++++++++++\n",
      "Number of Estimators:  12\n",
      "Min Leaves:  17\n",
      "Classes:  ['functional' 'functional needs repair' 'non functional']\n",
      "+++++++++++++++++++\n",
      "Accuracy Score:  0.695824915825\n",
      "Precision Score: [ 0.65387541  0.          0.86021862]\n",
      "Recall Score: [ 0.95766279  0.          0.45762115]\n",
      "Fl Score: [ 0.77713597  0.          0.59742351]\n",
      "------------------\n",
      "+++++++++++++++++++"
     ]
    },
    {
     "name": "stderr",
     "output_type": "stream",
     "text": [
      "//anaconda/lib/python2.7/site-packages/sklearn/base.py:436: DataConversionWarning: A column-vector y was passed when a 1d array was expected. Please change the shape of y to (n_samples,), for example using ravel().\n",
      "  return self.fit(X, y, **fit_params).transform(X)\n",
      "//anaconda/lib/python2.7/site-packages/sklearn/base.py:436: DataConversionWarning: A column-vector y was passed when a 1d array was expected. Please change the shape of y to (n_samples,), for example using ravel().\n",
      "  return self.fit(X, y, **fit_params).transform(X)\n"
     ]
    },
    {
     "name": "stdout",
     "output_type": "stream",
     "text": [
      "\n",
      "Number of Estimators:  12\n",
      "Min Leaves:  18\n",
      "Classes:  ['functional' 'functional needs repair' 'non functional']\n",
      "+++++++++++++++++++\n",
      "Accuracy Score:  0.713333333333\n",
      "Precision Score: [ 0.66927083  0.          0.86576577]\n",
      "Recall Score: [ 0.95444417  0.          0.50801762]\n",
      "Fl Score: [ 0.78681498  0.          0.64031094]\n",
      "------------------\n",
      "+++++++++++++++++++\n",
      "Number of Estimators:  12\n",
      "Min Leaves:  19\n",
      "Classes:  ['functional' 'functional needs repair' 'non functional']\n",
      "+++++++++++++++++++\n",
      "Accuracy Score:  0.709090909091\n",
      "Precision Score: [ 0.66583088  0.          0.86144945]\n",
      "Recall Score: [ 0.95333003  0.          0.4985022 ]\n",
      "Fl Score: [ 0.7840562  0.         0.6315437]\n",
      "------------------\n",
      "+++++++++++++++++++"
     ]
    },
    {
     "name": "stderr",
     "output_type": "stream",
     "text": [
      "//anaconda/lib/python2.7/site-packages/sklearn/base.py:436: DataConversionWarning: A column-vector y was passed when a 1d array was expected. Please change the shape of y to (n_samples,), for example using ravel().\n",
      "  return self.fit(X, y, **fit_params).transform(X)\n",
      "//anaconda/lib/python2.7/site-packages/sklearn/base.py:436: DataConversionWarning: A column-vector y was passed when a 1d array was expected. Please change the shape of y to (n_samples,), for example using ravel().\n",
      "  return self.fit(X, y, **fit_params).transform(X)\n"
     ]
    },
    {
     "name": "stdout",
     "output_type": "stream",
     "text": [
      "\n",
      "Number of Estimators:  12\n",
      "Min Leaves:  20\n",
      "Classes:  ['functional' 'functional needs repair' 'non functional']\n",
      "+++++++++++++++++++\n",
      "Accuracy Score:  0.716430976431\n",
      "Precision Score: [ 0.6739856   0.          0.85594688]\n",
      "Recall Score: [ 0.94998762  0.          0.52246696]\n",
      "Fl Score: [ 0.78853268  0.          0.64886749]\n",
      "------------------\n",
      "+++++++++++++++++++\n",
      "Number of Estimators:  13\n",
      "Min Leaves:  2\n",
      "Classes:  ['functional' 'functional needs repair' 'non functional']\n",
      "+++++++++++++++++++\n",
      "Accuracy Score:  0.585858585859\n",
      "Precision Score: [ 0.56810655  0.          0.96813354]\n",
      "Recall Score: [ 0.99801931  0.          0.11242291]\n",
      "Fl Score: [ 0.72405586  0.          0.20145248]\n",
      "------------------\n",
      "+++++++++++++++++++"
     ]
    },
    {
     "name": "stderr",
     "output_type": "stream",
     "text": [
      "//anaconda/lib/python2.7/site-packages/sklearn/base.py:436: DataConversionWarning: A column-vector y was passed when a 1d array was expected. Please change the shape of y to (n_samples,), for example using ravel().\n",
      "  return self.fit(X, y, **fit_params).transform(X)\n",
      "//anaconda/lib/python2.7/site-packages/sklearn/base.py:436: DataConversionWarning: A column-vector y was passed when a 1d array was expected. Please change the shape of y to (n_samples,), for example using ravel().\n",
      "  return self.fit(X, y, **fit_params).transform(X)\n"
     ]
    },
    {
     "name": "stdout",
     "output_type": "stream",
     "text": [
      "\n",
      "Number of Estimators:  13\n",
      "Min Leaves:  3\n",
      "Classes:  ['functional' 'functional needs repair' 'non functional']\n",
      "+++++++++++++++++++\n",
      "Accuracy Score:  0.622828282828\n",
      "Precision Score: [ 0.59518781  0.          0.85301508]\n",
      "Recall Score: [ 0.97685071  0.          0.23929515]\n",
      "Fl Score: [ 0.73968879  0.          0.37374432]\n",
      "------------------\n",
      "+++++++++++++++++++\n",
      "Number of Estimators:  13\n",
      "Min Leaves:  4\n",
      "Classes:  ['functional' 'functional needs repair' 'non functional']\n",
      "+++++++++++++++++++\n",
      "Accuracy Score:  0.644983164983\n",
      "Precision Score: [ 0.61039765  0.          0.87733888]\n",
      "Recall Score: [ 0.97672691  0.          0.29744493]\n",
      "Fl Score: [ 0.75128547  0.          0.44426898]\n",
      "------------------\n",
      "+++++++++++++++++++"
     ]
    },
    {
     "name": "stderr",
     "output_type": "stream",
     "text": [
      "//anaconda/lib/python2.7/site-packages/sklearn/base.py:436: DataConversionWarning: A column-vector y was passed when a 1d array was expected. Please change the shape of y to (n_samples,), for example using ravel().\n",
      "  return self.fit(X, y, **fit_params).transform(X)\n",
      "//anaconda/lib/python2.7/site-packages/sklearn/base.py:436: DataConversionWarning: A column-vector y was passed when a 1d array was expected. Please change the shape of y to (n_samples,), for example using ravel().\n",
      "  return self.fit(X, y, **fit_params).transform(X)\n"
     ]
    },
    {
     "name": "stdout",
     "output_type": "stream",
     "text": [
      "\n",
      "Number of Estimators:  13\n",
      "Min Leaves:  5\n",
      "Classes:  ['functional' 'functional needs repair' 'non functional']\n",
      "+++++++++++++++++++\n",
      "Accuracy Score:  0.665925925926\n",
      "Precision Score: [ 0.62661767  0.          0.87692967]\n",
      "Recall Score: [ 0.97103243  0.          0.36035242]\n",
      "Fl Score: [ 0.7617013   0.          0.51080305]\n",
      "------------------\n",
      "+++++++++++++++++++\n",
      "Number of Estimators:  13\n",
      "Min Leaves:  6\n",
      "Classes:  ['functional' 'functional needs repair' 'non functional']\n",
      "+++++++++++++++++++\n",
      "Accuracy Score:  0.650707070707\n",
      "Precision Score: [ 0.61864339  0.          0.82014388]\n",
      "Recall Score: [ 0.95630106  0.          0.3414978 ]\n",
      "Fl Score: [ 0.75127644  0.          0.4822095 ]\n",
      "------------------\n",
      "+++++++++++++++++++"
     ]
    },
    {
     "name": "stderr",
     "output_type": "stream",
     "text": [
      "//anaconda/lib/python2.7/site-packages/sklearn/base.py:436: DataConversionWarning: A column-vector y was passed when a 1d array was expected. Please change the shape of y to (n_samples,), for example using ravel().\n",
      "  return self.fit(X, y, **fit_params).transform(X)\n",
      "//anaconda/lib/python2.7/site-packages/sklearn/base.py:436: DataConversionWarning: A column-vector y was passed when a 1d array was expected. Please change the shape of y to (n_samples,), for example using ravel().\n",
      "  return self.fit(X, y, **fit_params).transform(X)\n"
     ]
    },
    {
     "name": "stdout",
     "output_type": "stream",
     "text": [
      "\n",
      "Number of Estimators:  13\n",
      "Min Leaves:  7\n",
      "Classes:  ['functional' 'functional needs repair' 'non functional']\n",
      "+++++++++++++++++++\n",
      "Accuracy Score:  0.691515151515\n",
      "Precision Score: [ 0.64859673  0.          0.87004864]\n",
      "Recall Score: [ 0.96125279  0.          0.44123348]\n",
      "Fl Score: [ 0.77456359  0.          0.58552555]\n",
      "------------------\n",
      "+++++++++++++++++++\n",
      "Number of Estimators:  13\n",
      "Min Leaves:  8\n",
      "Classes:  ['functional' 'functional needs repair' 'non functional']\n",
      "+++++++++++++++++++\n",
      "Accuracy Score:  0.692457912458\n",
      "Precision Score: [ 0.64972413  0.          0.86945983]\n",
      "Recall Score: [ 0.96211934  0.          0.44246696]\n",
      "Fl Score: [ 0.7756487  0.         0.5864767]\n",
      "------------------\n",
      "+++++++++++++++++++"
     ]
    },
    {
     "name": "stderr",
     "output_type": "stream",
     "text": [
      "//anaconda/lib/python2.7/site-packages/sklearn/base.py:436: DataConversionWarning: A column-vector y was passed when a 1d array was expected. Please change the shape of y to (n_samples,), for example using ravel().\n",
      "  return self.fit(X, y, **fit_params).transform(X)\n",
      "//anaconda/lib/python2.7/site-packages/sklearn/base.py:436: DataConversionWarning: A column-vector y was passed when a 1d array was expected. Please change the shape of y to (n_samples,), for example using ravel().\n",
      "  return self.fit(X, y, **fit_params).transform(X)\n"
     ]
    },
    {
     "name": "stdout",
     "output_type": "stream",
     "text": [
      "\n",
      "Number of Estimators:  13\n",
      "Min Leaves:  9\n",
      "Classes:  ['functional' 'functional needs repair' 'non functional']\n",
      "+++++++++++++++++++\n",
      "Accuracy Score:  0.695353535354\n",
      "Precision Score: [ 0.65318504  0.          0.86317907]\n",
      "Recall Score: [ 0.95964348  0.          0.45356828]\n",
      "Fl Score: [ 0.77729871  0.          0.59466328]\n",
      "------------------\n",
      "+++++++++++++++++++\n",
      "Number of Estimators:  13\n",
      "Min Leaves:  10\n",
      "Classes:  ['functional' 'functional needs repair' 'non functional']\n",
      "+++++++++++++++++++\n",
      "Accuracy Score:  0.701077441077\n",
      "Precision Score: [ 0.65921502  0.          0.85782748]\n",
      "Recall Score: [ 0.95642486  0.          0.47312775]\n",
      "Fl Score: [ 0.78048288  0.          0.60988075]\n",
      "------------------\n",
      "+++++++++++++++++++"
     ]
    },
    {
     "name": "stderr",
     "output_type": "stream",
     "text": [
      "//anaconda/lib/python2.7/site-packages/sklearn/base.py:436: DataConversionWarning: A column-vector y was passed when a 1d array was expected. Please change the shape of y to (n_samples,), for example using ravel().\n",
      "  return self.fit(X, y, **fit_params).transform(X)\n",
      "//anaconda/lib/python2.7/site-packages/sklearn/base.py:436: DataConversionWarning: A column-vector y was passed when a 1d array was expected. Please change the shape of y to (n_samples,), for example using ravel().\n",
      "  return self.fit(X, y, **fit_params).transform(X)\n"
     ]
    },
    {
     "name": "stdout",
     "output_type": "stream",
     "text": [
      "\n",
      "Number of Estimators:  13\n",
      "Min Leaves:  11\n",
      "Classes:  ['functional' 'functional needs repair' 'non functional']\n",
      "+++++++++++++++++++\n",
      "Accuracy Score:  0.678249158249\n",
      "Precision Score: [ 0.64019934  0.          0.84128114]\n",
      "Recall Score: [ 0.95419658  0.          0.41656388]\n",
      "Fl Score: [ 0.76627895  0.          0.55721862]\n",
      "------------------\n",
      "+++++++++++++++++++\n",
      "Number of Estimators:  13\n",
      "Min Leaves:  12\n",
      "Classes:  ['functional' 'functional needs repair' 'non functional']\n",
      "+++++++++++++++++++\n",
      "Accuracy Score:  0.692525252525\n",
      "Precision Score: [ 0.64985313  0.          0.86575809]\n",
      "Recall Score: [ 0.95852934  0.          0.4477533 ]\n",
      "Fl Score: [ 0.7745711  0.         0.5902439]\n",
      "------------------\n",
      "+++++++++++++++++++"
     ]
    },
    {
     "name": "stderr",
     "output_type": "stream",
     "text": [
      "//anaconda/lib/python2.7/site-packages/sklearn/base.py:436: DataConversionWarning: A column-vector y was passed when a 1d array was expected. Please change the shape of y to (n_samples,), for example using ravel().\n",
      "  return self.fit(X, y, **fit_params).transform(X)\n",
      "//anaconda/lib/python2.7/site-packages/sklearn/base.py:436: DataConversionWarning: A column-vector y was passed when a 1d array was expected. Please change the shape of y to (n_samples,), for example using ravel().\n",
      "  return self.fit(X, y, **fit_params).transform(X)\n"
     ]
    },
    {
     "name": "stdout",
     "output_type": "stream",
     "text": [
      "\n",
      "Number of Estimators:  13\n",
      "Min Leaves:  13\n",
      "Classes:  ['functional' 'functional needs repair' 'non functional']\n",
      "+++++++++++++++++++\n",
      "Accuracy Score:  0.711717171717\n",
      "Precision Score: [ 0.66816843  0.          0.86366385]\n",
      "Recall Score: [ 0.95469176  0.          0.50343612]\n",
      "Fl Score: [ 0.7861366   0.          0.63609039]\n",
      "------------------\n",
      "+++++++++++++++++++\n",
      "Number of Estimators:  13\n",
      "Min Leaves:  14\n",
      "Classes:  ['functional' 'functional needs repair' 'non functional']\n",
      "+++++++++++++++++++\n",
      "Accuracy Score:  0.700942760943\n",
      "Precision Score: [ 0.65879737  0.          0.85691675]\n",
      "Recall Score: [ 0.95345383  0.          0.47700441]\n",
      "Fl Score: [ 0.77919976  0.          0.61285941]\n",
      "------------------\n",
      "+++++++++++++++++++"
     ]
    },
    {
     "name": "stderr",
     "output_type": "stream",
     "text": [
      "//anaconda/lib/python2.7/site-packages/sklearn/base.py:436: DataConversionWarning: A column-vector y was passed when a 1d array was expected. Please change the shape of y to (n_samples,), for example using ravel().\n",
      "  return self.fit(X, y, **fit_params).transform(X)\n",
      "//anaconda/lib/python2.7/site-packages/sklearn/base.py:436: DataConversionWarning: A column-vector y was passed when a 1d array was expected. Please change the shape of y to (n_samples,), for example using ravel().\n",
      "  return self.fit(X, y, **fit_params).transform(X)\n"
     ]
    },
    {
     "name": "stdout",
     "output_type": "stream",
     "text": [
      "\n",
      "Number of Estimators:  13\n",
      "Min Leaves:  15\n",
      "Classes:  ['functional' 'functional needs repair' 'non functional']\n",
      "+++++++++++++++++++\n",
      "Accuracy Score:  0.710033670034\n",
      "Precision Score: [ 0.67171181  0.          0.83192568]\n",
      "Recall Score: [ 0.93946521  0.          0.52070485]\n",
      "Fl Score: [ 0.78334021  0.          0.64051154]\n",
      "------------------\n",
      "+++++++++++++++++++\n",
      "Number of Estimators:  13\n",
      "Min Leaves:  16\n",
      "Classes:  ['functional' 'functional needs repair' 'non functional']\n",
      "+++++++++++++++++++\n",
      "Accuracy Score:  0.706868686869\n",
      "Precision Score: [ 0.66219105  0.          0.87234717]\n",
      "Recall Score: [ 0.95852934  0.          0.48528634]\n",
      "Fl Score: [ 0.78326842  0.          0.6236413 ]\n",
      "------------------\n",
      "+++++++++++++++++++"
     ]
    },
    {
     "name": "stderr",
     "output_type": "stream",
     "text": [
      "//anaconda/lib/python2.7/site-packages/sklearn/base.py:436: DataConversionWarning: A column-vector y was passed when a 1d array was expected. Please change the shape of y to (n_samples,), for example using ravel().\n",
      "  return self.fit(X, y, **fit_params).transform(X)\n",
      "//anaconda/lib/python2.7/site-packages/sklearn/base.py:436: DataConversionWarning: A column-vector y was passed when a 1d array was expected. Please change the shape of y to (n_samples,), for example using ravel().\n",
      "  return self.fit(X, y, **fit_params).transform(X)\n"
     ]
    },
    {
     "name": "stdout",
     "output_type": "stream",
     "text": [
      "\n",
      "Number of Estimators:  13\n",
      "Min Leaves:  17\n",
      "Classes:  ['functional' 'functional needs repair' 'non functional']\n",
      "+++++++++++++++++++\n",
      "Accuracy Score:  0.707205387205\n",
      "Precision Score: [ 0.66562527  0.          0.85121731]\n",
      "Recall Score: [ 0.94949245  0.          0.49903084]\n",
      "Fl Score: [ 0.78261313  0.          0.62919351]\n",
      "------------------\n",
      "+++++++++++++++++++\n",
      "Number of Estimators:  13\n",
      "Min Leaves:  18\n",
      "Classes:  ['functional' 'functional needs repair' 'non functional']\n",
      "+++++++++++++++++++\n",
      "Accuracy Score:  0.713063973064\n",
      "Precision Score: [ 0.67290875  0.          0.84188155]\n",
      "Recall Score: [ 0.94305521  0.          0.52352423]\n",
      "Fl Score: [ 0.78540131  0.          0.64558887]\n",
      "------------------\n",
      "+++++++++++++++++++"
     ]
    },
    {
     "name": "stderr",
     "output_type": "stream",
     "text": [
      "//anaconda/lib/python2.7/site-packages/sklearn/base.py:436: DataConversionWarning: A column-vector y was passed when a 1d array was expected. Please change the shape of y to (n_samples,), for example using ravel().\n",
      "  return self.fit(X, y, **fit_params).transform(X)\n",
      "//anaconda/lib/python2.7/site-packages/sklearn/base.py:436: DataConversionWarning: A column-vector y was passed when a 1d array was expected. Please change the shape of y to (n_samples,), for example using ravel().\n",
      "  return self.fit(X, y, **fit_params).transform(X)\n"
     ]
    },
    {
     "name": "stdout",
     "output_type": "stream",
     "text": [
      "\n",
      "Number of Estimators:  13\n",
      "Min Leaves:  19\n",
      "Classes:  ['functional' 'functional needs repair' 'non functional']\n",
      "+++++++++++++++++++\n",
      "Accuracy Score:  0.705791245791\n",
      "Precision Score: [ 0.66359089  0.          0.85617701]\n",
      "Recall Score: [ 0.95258727  0.          0.49092511]\n",
      "Fl Score: [ 0.78225069  0.          0.62403405]\n",
      "------------------\n",
      "+++++++++++++++++++\n",
      "Number of Estimators:  13\n",
      "Min Leaves:  20\n",
      "Classes:  ['functional' 'functional needs repair' 'non functional']\n",
      "+++++++++++++++++++\n",
      "Accuracy Score:  0.710707070707\n",
      "Precision Score: [ 0.66884817  0.          0.85221239]\n",
      "Recall Score: [ 0.94887348  0.          0.50907489]\n",
      "Fl Score: [ 0.78462483  0.          0.63739658]\n",
      "------------------\n",
      "+++++++++++++++++++"
     ]
    },
    {
     "name": "stderr",
     "output_type": "stream",
     "text": [
      "//anaconda/lib/python2.7/site-packages/sklearn/base.py:436: DataConversionWarning: A column-vector y was passed when a 1d array was expected. Please change the shape of y to (n_samples,), for example using ravel().\n",
      "  return self.fit(X, y, **fit_params).transform(X)\n",
      "//anaconda/lib/python2.7/site-packages/sklearn/base.py:436: DataConversionWarning: A column-vector y was passed when a 1d array was expected. Please change the shape of y to (n_samples,), for example using ravel().\n",
      "  return self.fit(X, y, **fit_params).transform(X)\n"
     ]
    },
    {
     "name": "stdout",
     "output_type": "stream",
     "text": [
      "\n",
      "Number of Estimators:  14\n",
      "Min Leaves:  2\n",
      "Classes:  ['functional' 'functional needs repair' 'non functional']\n",
      "+++++++++++++++++++\n",
      "Accuracy Score:  0.594410774411\n",
      "Precision Score: [ 0.57453528  0.          0.89640131]\n",
      "Recall Score: [ 0.99096311  0.          0.14484581]\n",
      "Fl Score: [ 0.72736359  0.          0.2493932 ]\n",
      "------------------\n",
      "+++++++++++++++++++\n",
      "Number of Estimators:  14\n",
      "Min Leaves:  3\n",
      "Classes:  ['functional' 'functional needs repair' 'non functional']\n",
      "+++++++++++++++++++\n",
      "Accuracy Score:  0.613804713805\n",
      "Precision Score: [ 0.59006024  0.          0.81464968]\n",
      "Recall Score: [ 0.97004209  0.          0.22537445]\n",
      "Fl Score: [ 0.73377657  0.          0.35307108]\n",
      "------------------\n",
      "+++++++++++++++++++"
     ]
    },
    {
     "name": "stderr",
     "output_type": "stream",
     "text": [
      "//anaconda/lib/python2.7/site-packages/sklearn/base.py:436: DataConversionWarning: A column-vector y was passed when a 1d array was expected. Please change the shape of y to (n_samples,), for example using ravel().\n",
      "  return self.fit(X, y, **fit_params).transform(X)\n",
      "//anaconda/lib/python2.7/site-packages/sklearn/base.py:436: DataConversionWarning: A column-vector y was passed when a 1d array was expected. Please change the shape of y to (n_samples,), for example using ravel().\n",
      "  return self.fit(X, y, **fit_params).transform(X)\n"
     ]
    },
    {
     "name": "stdout",
     "output_type": "stream",
     "text": [
      "\n",
      "Number of Estimators:  14\n",
      "Min Leaves:  4\n",
      "Classes:  ['functional' 'functional needs repair' 'non functional']\n",
      "+++++++++++++++++++\n",
      "Accuracy Score:  0.65595959596\n",
      "Precision Score: [ 0.61882279  0.          0.87628385]\n",
      "Recall Score: [ 0.97350829  0.          0.3307489 ]\n",
      "Fl Score: [ 0.75666314  0.          0.48023538]\n",
      "------------------\n",
      "+++++++++++++++++++\n",
      "Number of Estimators:  14\n",
      "Min Leaves:  5\n",
      "Classes:  ['functional' 'functional needs repair' 'non functional']\n",
      "+++++++++++++++++++\n",
      "Accuracy Score:  0.678047138047\n",
      "Precision Score: [ 0.63922798  0.          0.85069699]\n",
      "Recall Score: [ 0.95939589  0.          0.40863436]\n",
      "Fl Score: [ 0.76725077  0.          0.55207713]\n",
      "------------------\n",
      "+++++++++++++++++++"
     ]
    },
    {
     "name": "stderr",
     "output_type": "stream",
     "text": [
      "//anaconda/lib/python2.7/site-packages/sklearn/base.py:436: DataConversionWarning: A column-vector y was passed when a 1d array was expected. Please change the shape of y to (n_samples,), for example using ravel().\n",
      "  return self.fit(X, y, **fit_params).transform(X)\n",
      "//anaconda/lib/python2.7/site-packages/sklearn/base.py:436: DataConversionWarning: A column-vector y was passed when a 1d array was expected. Please change the shape of y to (n_samples,), for example using ravel().\n",
      "  return self.fit(X, y, **fit_params).transform(X)\n"
     ]
    },
    {
     "name": "stdout",
     "output_type": "stream",
     "text": [
      "\n",
      "Number of Estimators:  14\n",
      "Min Leaves:  6\n",
      "Classes:  ['functional' 'functional needs repair' 'non functional']\n",
      "+++++++++++++++++++\n",
      "Accuracy Score:  0.700336700337\n",
      "Precision Score: [ 0.65703145  0.          0.86767114]\n",
      "Recall Score: [ 0.95951968  0.          0.46678414]\n",
      "Fl Score: [ 0.77997484  0.          0.60701192]\n",
      "------------------\n",
      "+++++++++++++++++++\n",
      "Number of Estimators:  14\n",
      "Min Leaves:  7\n",
      "Classes:  ['functional' 'functional needs repair' 'non functional']\n",
      "+++++++++++++++++++\n",
      "Accuracy Score:  0.691515151515\n",
      "Precision Score: [ 0.64636964  0.          0.89194139]\n",
      "Recall Score: [ 0.9697945   0.          0.42907489]\n",
      "Fl Score: [ 0.77572037  0.          0.57941701]\n",
      "------------------\n",
      "+++++++++++++++++++"
     ]
    },
    {
     "name": "stderr",
     "output_type": "stream",
     "text": [
      "//anaconda/lib/python2.7/site-packages/sklearn/base.py:436: DataConversionWarning: A column-vector y was passed when a 1d array was expected. Please change the shape of y to (n_samples,), for example using ravel().\n",
      "  return self.fit(X, y, **fit_params).transform(X)\n",
      "//anaconda/lib/python2.7/site-packages/sklearn/base.py:436: DataConversionWarning: A column-vector y was passed when a 1d array was expected. Please change the shape of y to (n_samples,), for example using ravel().\n",
      "  return self.fit(X, y, **fit_params).transform(X)\n"
     ]
    },
    {
     "name": "stdout",
     "output_type": "stream",
     "text": [
      "\n",
      "Number of Estimators:  14\n",
      "Min Leaves:  8\n",
      "Classes:  ['functional' 'functional needs repair' 'non functional']\n",
      "+++++++++++++++++++\n",
      "Accuracy Score:  0.693872053872\n",
      "Precision Score: [ 0.65152406  0.          0.86535192]\n",
      "Recall Score: [ 0.96051003  0.          0.44845815]\n",
      "Fl Score: [ 0.77640466  0.          0.59076137]\n",
      "------------------\n",
      "+++++++++++++++++++\n",
      "Number of Estimators:  14\n",
      "Min Leaves:  9\n",
      "Classes:  ['functional' 'functional needs repair' 'non functional']\n",
      "+++++++++++++++++++\n",
      "Accuracy Score:  0.693535353535\n",
      "Precision Score: [ 0.65120188  0.          0.86415989]\n",
      "Recall Score: [ 0.9591483   0.          0.44951542]\n",
      "Fl Score: [ 0.77573088  0.          0.5913991 ]\n",
      "------------------\n",
      "+++++++++++++++++++"
     ]
    },
    {
     "name": "stderr",
     "output_type": "stream",
     "text": [
      "//anaconda/lib/python2.7/site-packages/sklearn/base.py:436: DataConversionWarning: A column-vector y was passed when a 1d array was expected. Please change the shape of y to (n_samples,), for example using ravel().\n",
      "  return self.fit(X, y, **fit_params).transform(X)\n",
      "//anaconda/lib/python2.7/site-packages/sklearn/base.py:436: DataConversionWarning: A column-vector y was passed when a 1d array was expected. Please change the shape of y to (n_samples,), for example using ravel().\n",
      "  return self.fit(X, y, **fit_params).transform(X)\n"
     ]
    },
    {
     "name": "stdout",
     "output_type": "stream",
     "text": [
      "\n",
      "Number of Estimators:  14\n",
      "Min Leaves:  10\n",
      "Classes:  ['functional' 'functional needs repair' 'non functional']\n",
      "+++++++++++++++++++\n",
      "Accuracy Score:  0.705252525253\n",
      "Precision Score: [ 0.66010688  0.          0.87912447]\n",
      "Recall Score: [ 0.96335727  0.          0.47418502]\n",
      "Fl Score: [ 0.78340967  0.          0.61607143]\n",
      "------------------\n",
      "+++++++++++++++++++\n",
      "Number of Estimators:  14\n",
      "Min Leaves:  11\n",
      "Classes:  ['functional' 'functional needs repair' 'non functional']\n",
      "+++++++++++++++++++\n",
      "Accuracy Score:  0.702962962963\n",
      "Precision Score: [ 0.65699386  0.          0.88753799]\n",
      "Recall Score: [ 0.96694726  0.          0.4630837 ]\n",
      "Fl Score: [ 0.78239095  0.          0.6086151 ]\n",
      "------------------\n",
      "+++++++++++++++++++"
     ]
    },
    {
     "name": "stderr",
     "output_type": "stream",
     "text": [
      "//anaconda/lib/python2.7/site-packages/sklearn/base.py:436: DataConversionWarning: A column-vector y was passed when a 1d array was expected. Please change the shape of y to (n_samples,), for example using ravel().\n",
      "  return self.fit(X, y, **fit_params).transform(X)\n",
      "//anaconda/lib/python2.7/site-packages/sklearn/base.py:436: DataConversionWarning: A column-vector y was passed when a 1d array was expected. Please change the shape of y to (n_samples,), for example using ravel().\n",
      "  return self.fit(X, y, **fit_params).transform(X)\n"
     ]
    },
    {
     "name": "stdout",
     "output_type": "stream",
     "text": [
      "\n",
      "Number of Estimators:  14\n",
      "Min Leaves:  12\n",
      "Classes:  ['functional' 'functional needs repair' 'non functional']\n",
      "+++++++++++++++++++\n",
      "Accuracy Score:  0.712390572391\n",
      "Precision Score: [ 0.6692154   0.          0.86111943]\n",
      "Recall Score: [ 0.95345383  0.          0.50696035]\n",
      "Fl Score: [ 0.78643999  0.          0.63819876]\n",
      "------------------\n",
      "+++++++++++++++++++\n",
      "Number of Estimators:  14\n",
      "Min Leaves:  13\n",
      "Classes:  ['functional' 'functional needs repair' 'non functional']\n",
      "+++++++++++++++++++\n",
      "Accuracy Score:  0.699865319865\n",
      "Precision Score: [ 0.65873491  0.          0.85159457]\n",
      "Recall Score: [ 0.95271107  0.          0.47524229]\n",
      "Fl Score: [ 0.77890795  0.          0.61004298]\n",
      "------------------\n",
      "+++++++++++++++++++"
     ]
    },
    {
     "name": "stderr",
     "output_type": "stream",
     "text": [
      "//anaconda/lib/python2.7/site-packages/sklearn/base.py:436: DataConversionWarning: A column-vector y was passed when a 1d array was expected. Please change the shape of y to (n_samples,), for example using ravel().\n",
      "  return self.fit(X, y, **fit_params).transform(X)\n",
      "//anaconda/lib/python2.7/site-packages/sklearn/base.py:436: DataConversionWarning: A column-vector y was passed when a 1d array was expected. Please change the shape of y to (n_samples,), for example using ravel().\n",
      "  return self.fit(X, y, **fit_params).transform(X)\n"
     ]
    },
    {
     "name": "stdout",
     "output_type": "stream",
     "text": [
      "\n",
      "Number of Estimators:  14\n",
      "Min Leaves:  14\n",
      "Classes:  ['functional' 'functional needs repair' 'non functional']\n",
      "+++++++++++++++++++\n",
      "Accuracy Score:  0.700404040404\n",
      "Precision Score: [ 0.65842986  0.          0.85352113]\n",
      "Recall Score: [ 0.94998762  0.          0.48052863]\n",
      "Fl Score: [ 0.77778341  0.          0.61488162]\n",
      "------------------\n",
      "+++++++++++++++++++\n",
      "Number of Estimators:  14\n",
      "Min Leaves:  15\n",
      "Classes:  ['functional' 'functional needs repair' 'non functional']\n",
      "+++++++++++++++++++\n",
      "Accuracy Score:  0.707744107744\n",
      "Precision Score: [ 0.66710137  0.          0.84737157]\n",
      "Recall Score: [ 0.94986383  0.          0.49991189]\n",
      "Fl Score: [ 0.78375894  0.          0.62883742]\n",
      "------------------\n",
      "+++++++++++++++++++"
     ]
    },
    {
     "name": "stderr",
     "output_type": "stream",
     "text": [
      "//anaconda/lib/python2.7/site-packages/sklearn/base.py:436: DataConversionWarning: A column-vector y was passed when a 1d array was expected. Please change the shape of y to (n_samples,), for example using ravel().\n",
      "  return self.fit(X, y, **fit_params).transform(X)\n",
      "//anaconda/lib/python2.7/site-packages/sklearn/base.py:436: DataConversionWarning: A column-vector y was passed when a 1d array was expected. Please change the shape of y to (n_samples,), for example using ravel().\n",
      "  return self.fit(X, y, **fit_params).transform(X)\n"
     ]
    },
    {
     "name": "stdout",
     "output_type": "stream",
     "text": [
      "\n",
      "Number of Estimators:  14\n",
      "Min Leaves:  16\n",
      "Classes:  ['functional' 'functional needs repair' 'non functional']\n",
      "+++++++++++++++++++\n",
      "Accuracy Score:  0.70734006734\n",
      "Precision Score: [ 0.66687004  0.          0.84483269]\n",
      "Recall Score: [ 0.94714038  0.          0.50273128]\n",
      "Fl Score: [ 0.78267096  0.          0.63035793]\n",
      "------------------\n",
      "+++++++++++++++++++\n",
      "Number of Estimators:  14\n",
      "Min Leaves:  17\n",
      "Classes:  ['functional' 'functional needs repair' 'non functional']\n",
      "+++++++++++++++++++\n",
      "Accuracy Score:  0.698047138047\n",
      "Precision Score: [ 0.65426788  0.          0.87140949]\n",
      "Recall Score: [ 0.96026244  0.          0.45973568]\n",
      "Fl Score: [ 0.77826829  0.          0.60191487]\n",
      "------------------\n",
      "+++++++++++++++++++"
     ]
    },
    {
     "name": "stderr",
     "output_type": "stream",
     "text": [
      "//anaconda/lib/python2.7/site-packages/sklearn/base.py:436: DataConversionWarning: A column-vector y was passed when a 1d array was expected. Please change the shape of y to (n_samples,), for example using ravel().\n",
      "  return self.fit(X, y, **fit_params).transform(X)\n",
      "//anaconda/lib/python2.7/site-packages/sklearn/base.py:436: DataConversionWarning: A column-vector y was passed when a 1d array was expected. Please change the shape of y to (n_samples,), for example using ravel().\n",
      "  return self.fit(X, y, **fit_params).transform(X)\n"
     ]
    },
    {
     "name": "stdout",
     "output_type": "stream",
     "text": [
      "\n",
      "Number of Estimators:  14\n",
      "Min Leaves:  18\n",
      "Classes:  ['functional' 'functional needs repair' 'non functional']\n",
      "+++++++++++++++++++\n",
      "Accuracy Score:  0.704915824916\n",
      "Precision Score: [ 0.66367015  0.          0.8503505 ]\n",
      "Recall Score: [ 0.95048279  0.          0.49162996]\n",
      "Fl Score: [ 0.78159515  0.          0.623046  ]\n",
      "------------------\n",
      "+++++++++++++++++++\n",
      "Number of Estimators:  14\n",
      "Min Leaves:  19\n",
      "Classes:  ['functional' 'functional needs repair' 'non functional']\n",
      "+++++++++++++++++++\n",
      "Accuracy Score:  0.714478114478\n",
      "Precision Score: [ 0.67022569  0.          0.86756757]\n",
      "Recall Score: [ 0.95580589  0.          0.50907489]\n",
      "Fl Score: [ 0.78793754  0.          0.64164353]\n",
      "------------------\n",
      "+++++++++++++++++++"
     ]
    },
    {
     "name": "stderr",
     "output_type": "stream",
     "text": [
      "//anaconda/lib/python2.7/site-packages/sklearn/base.py:436: DataConversionWarning: A column-vector y was passed when a 1d array was expected. Please change the shape of y to (n_samples,), for example using ravel().\n",
      "  return self.fit(X, y, **fit_params).transform(X)\n",
      "//anaconda/lib/python2.7/site-packages/sklearn/base.py:436: DataConversionWarning: A column-vector y was passed when a 1d array was expected. Please change the shape of y to (n_samples,), for example using ravel().\n",
      "  return self.fit(X, y, **fit_params).transform(X)\n"
     ]
    },
    {
     "name": "stdout",
     "output_type": "stream",
     "text": [
      "\n",
      "Number of Estimators:  14\n",
      "Min Leaves:  20\n",
      "Classes:  ['functional' 'functional needs repair' 'non functional']\n",
      "+++++++++++++++++++\n",
      "Accuracy Score:  0.701144781145\n",
      "Precision Score: [ 0.65765155  0.          0.8690671 ]\n",
      "Recall Score: [ 0.96026244  0.          0.46784141]\n",
      "Fl Score: [ 0.78065717  0.          0.60824742]\n",
      "------------------\n",
      "+++++++++++++++++++\n",
      "Number of Estimators:  15\n",
      "Min Leaves:  2\n",
      "Classes:  ['functional' 'functional needs repair' 'non functional']\n",
      "+++++++++++++++++++\n",
      "Accuracy Score:  0.609898989899\n",
      "Precision Score: [ 0.58645779  0.          0.83852281]\n",
      "Recall Score: [ 0.97784105  0.          0.20405286]\n",
      "Fl Score: [ 0.73318791  0.          0.32823129]\n",
      "------------------\n",
      "+++++++++++++++++++"
     ]
    },
    {
     "name": "stderr",
     "output_type": "stream",
     "text": [
      "//anaconda/lib/python2.7/site-packages/sklearn/base.py:436: DataConversionWarning: A column-vector y was passed when a 1d array was expected. Please change the shape of y to (n_samples,), for example using ravel().\n",
      "  return self.fit(X, y, **fit_params).transform(X)\n",
      "//anaconda/lib/python2.7/site-packages/sklearn/base.py:436: DataConversionWarning: A column-vector y was passed when a 1d array was expected. Please change the shape of y to (n_samples,), for example using ravel().\n",
      "  return self.fit(X, y, **fit_params).transform(X)\n"
     ]
    },
    {
     "name": "stdout",
     "output_type": "stream",
     "text": [
      "\n",
      "Number of Estimators:  15\n",
      "Min Leaves:  3\n",
      "Classes:  ['functional' 'functional needs repair' 'non functional']\n",
      "+++++++++++++++++++\n",
      "Accuracy Score:  0.640404040404\n",
      "Precision Score: [ 0.60808613  0.          0.85559567]\n",
      "Recall Score: [ 0.97189898  0.          0.2923348 ]\n",
      "Fl Score: [ 0.74810615  0.          0.4357762 ]\n",
      "------------------\n",
      "+++++++++++++++++++\n",
      "Number of Estimators:  15\n",
      "Min Leaves:  4\n",
      "Classes:  ['functional' 'functional needs repair' 'non functional']\n",
      "+++++++++++++++++++\n",
      "Accuracy Score:  0.672794612795\n",
      "Precision Score: [ 0.63349041  0.          0.86309992]\n",
      "Recall Score: [ 0.96521416  0.          0.38660793]\n",
      "Fl Score: [ 0.76493672  0.          0.53401485]\n",
      "------------------\n",
      "+++++++++++++++++++"
     ]
    },
    {
     "name": "stderr",
     "output_type": "stream",
     "text": [
      "//anaconda/lib/python2.7/site-packages/sklearn/base.py:436: DataConversionWarning: A column-vector y was passed when a 1d array was expected. Please change the shape of y to (n_samples,), for example using ravel().\n",
      "  return self.fit(X, y, **fit_params).transform(X)\n",
      "//anaconda/lib/python2.7/site-packages/sklearn/base.py:436: DataConversionWarning: A column-vector y was passed when a 1d array was expected. Please change the shape of y to (n_samples,), for example using ravel().\n",
      "  return self.fit(X, y, **fit_params).transform(X)\n"
     ]
    },
    {
     "name": "stdout",
     "output_type": "stream",
     "text": [
      "\n",
      "Number of Estimators:  15\n",
      "Min Leaves:  5\n",
      "Classes:  ['functional' 'functional needs repair' 'non functional']\n",
      "+++++++++++++++++++\n",
      "Accuracy Score:  0.672794612795\n",
      "Precision Score: [ 0.63384064  0.          0.8595396 ]\n",
      "Recall Score: [ 0.96410002  0.          0.38819383]\n",
      "Fl Score: [ 0.76484164  0.          0.53483855]\n",
      "------------------\n",
      "+++++++++++++++++++\n",
      "Number of Estimators:  15\n",
      "Min Leaves:  6\n",
      "Classes:  ['functional' 'functional needs repair' 'non functional']\n",
      "+++++++++++++++++++\n",
      "Accuracy Score:  0.691043771044\n",
      "Precision Score: [ 0.64720033  0.          0.88014311]\n",
      "Recall Score: [ 0.96583313  0.          0.43348018]\n",
      "Fl Score: [ 0.77504594  0.          0.58087367]\n",
      "------------------\n",
      "+++++++++++++++++++"
     ]
    },
    {
     "name": "stderr",
     "output_type": "stream",
     "text": [
      "//anaconda/lib/python2.7/site-packages/sklearn/base.py:436: DataConversionWarning: A column-vector y was passed when a 1d array was expected. Please change the shape of y to (n_samples,), for example using ravel().\n",
      "  return self.fit(X, y, **fit_params).transform(X)\n",
      "//anaconda/lib/python2.7/site-packages/sklearn/base.py:436: DataConversionWarning: A column-vector y was passed when a 1d array was expected. Please change the shape of y to (n_samples,), for example using ravel().\n",
      "  return self.fit(X, y, **fit_params).transform(X)\n"
     ]
    },
    {
     "name": "stdout",
     "output_type": "stream",
     "text": [
      "\n",
      "Number of Estimators:  15\n",
      "Min Leaves:  7\n",
      "Classes:  ['functional' 'functional needs repair' 'non functional']\n",
      "+++++++++++++++++++\n",
      "Accuracy Score:  0.694208754209\n",
      "Precision Score: [ 0.65103992  0.          0.87012987]\n",
      "Recall Score: [ 0.9610052   0.          0.44863436]\n",
      "Fl Score: [ 0.77622238  0.          0.59202418]\n",
      "------------------\n",
      "+++++++++++++++++++\n",
      "Number of Estimators:  15\n",
      "Min Leaves:  8\n",
      "Classes:  ['functional' 'functional needs repair' 'non functional']\n",
      "+++++++++++++++++++\n",
      "Accuracy Score:  0.694882154882\n",
      "Precision Score: [ 0.65295456  0.          0.8613994 ]\n",
      "Recall Score: [ 0.95890072  0.          0.45339207]\n",
      "Fl Score: [ 0.77689183  0.          0.59408912]\n",
      "------------------\n",
      "+++++++++++++++++++"
     ]
    },
    {
     "name": "stderr",
     "output_type": "stream",
     "text": [
      "//anaconda/lib/python2.7/site-packages/sklearn/base.py:436: DataConversionWarning: A column-vector y was passed when a 1d array was expected. Please change the shape of y to (n_samples,), for example using ravel().\n",
      "  return self.fit(X, y, **fit_params).transform(X)\n",
      "//anaconda/lib/python2.7/site-packages/sklearn/base.py:436: DataConversionWarning: A column-vector y was passed when a 1d array was expected. Please change the shape of y to (n_samples,), for example using ravel().\n",
      "  return self.fit(X, y, **fit_params).transform(X)\n"
     ]
    },
    {
     "name": "stdout",
     "output_type": "stream",
     "text": [
      "\n",
      "Number of Estimators:  15\n",
      "Min Leaves:  9\n",
      "Classes:  ['functional' 'functional needs repair' 'non functional']\n",
      "+++++++++++++++++++\n",
      "Accuracy Score:  0.667946127946\n",
      "Precision Score: [ 0.6314845   0.          0.84054054]\n",
      "Recall Score: [ 0.95840555  0.          0.38361233]\n",
      "Fl Score: [ 0.76133346  0.          0.52679976]\n",
      "------------------\n",
      "+++++++++++++++++++\n",
      "Number of Estimators:  15\n",
      "Min Leaves:  10\n",
      "Classes:  ['functional' 'functional needs repair' 'non functional']\n",
      "+++++++++++++++++++\n",
      "Accuracy Score:  0.700606060606\n",
      "Precision Score: [ 0.65874305  0.          0.85578447]\n",
      "Recall Score: [ 0.95370141  0.          0.47577093]\n",
      "Fl Score: [ 0.77924442  0.          0.61155153]\n",
      "------------------\n",
      "+++++++++++++++++++"
     ]
    },
    {
     "name": "stderr",
     "output_type": "stream",
     "text": [
      "//anaconda/lib/python2.7/site-packages/sklearn/base.py:436: DataConversionWarning: A column-vector y was passed when a 1d array was expected. Please change the shape of y to (n_samples,), for example using ravel().\n",
      "  return self.fit(X, y, **fit_params).transform(X)\n",
      "//anaconda/lib/python2.7/site-packages/sklearn/base.py:436: DataConversionWarning: A column-vector y was passed when a 1d array was expected. Please change the shape of y to (n_samples,), for example using ravel().\n",
      "  return self.fit(X, y, **fit_params).transform(X)\n"
     ]
    },
    {
     "name": "stdout",
     "output_type": "stream",
     "text": [
      "\n",
      "Number of Estimators:  15\n",
      "Min Leaves:  11\n",
      "Classes:  ['functional' 'functional needs repair' 'non functional']\n",
      "+++++++++++++++++++\n",
      "Accuracy Score:  0.686531986532\n",
      "Precision Score: [ 0.64690635  0.          0.85051903]\n",
      "Recall Score: [ 0.95778658  0.          0.43312775]\n",
      "Fl Score: [ 0.77223276  0.          0.57396381]\n",
      "------------------\n",
      "+++++++++++++++++++\n",
      "Number of Estimators:  15\n",
      "Min Leaves:  12\n",
      "Classes:  ['functional' 'functional needs repair' 'non functional']\n",
      "+++++++++++++++++++\n",
      "Accuracy Score:  0.702760942761\n",
      "Precision Score: [ 0.65936408  0.          0.86598269]\n",
      "Recall Score: [ 0.95753899  0.          0.47594714]\n",
      "Fl Score: [ 0.78095815  0.          0.61428247]\n",
      "------------------\n",
      "+++++++++++++++++++"
     ]
    },
    {
     "name": "stderr",
     "output_type": "stream",
     "text": [
      "//anaconda/lib/python2.7/site-packages/sklearn/base.py:436: DataConversionWarning: A column-vector y was passed when a 1d array was expected. Please change the shape of y to (n_samples,), for example using ravel().\n",
      "  return self.fit(X, y, **fit_params).transform(X)\n",
      "//anaconda/lib/python2.7/site-packages/sklearn/base.py:436: DataConversionWarning: A column-vector y was passed when a 1d array was expected. Please change the shape of y to (n_samples,), for example using ravel().\n",
      "  return self.fit(X, y, **fit_params).transform(X)\n"
     ]
    },
    {
     "name": "stdout",
     "output_type": "stream",
     "text": [
      "\n",
      "Number of Estimators:  15\n",
      "Min Leaves:  13\n",
      "Classes:  ['functional' 'functional needs repair' 'non functional']\n",
      "+++++++++++++++++++\n",
      "Accuracy Score:  0.710303030303\n",
      "Precision Score: [ 0.66855253  0.          0.85301993]\n",
      "Recall Score: [ 0.95085417  0.          0.50519824]\n",
      "Fl Score: [ 0.78509736  0.          0.63457282]\n",
      "------------------\n",
      "+++++++++++++++++++\n",
      "Number of Estimators:  15\n",
      "Min Leaves:  14\n",
      "Classes:  ['functional' 'functional needs repair' 'non functional']\n",
      "+++++++++++++++++++\n",
      "Accuracy Score:  0.700740740741\n",
      "Precision Score: [ 0.66179017  0.          0.83717404]\n",
      "Recall Score: [ 0.94639762  0.          0.48651982]\n",
      "Fl Score: [ 0.77890983  0.          0.61540176]\n",
      "------------------\n",
      "+++++++++++++++++++"
     ]
    },
    {
     "name": "stderr",
     "output_type": "stream",
     "text": [
      "//anaconda/lib/python2.7/site-packages/sklearn/base.py:436: DataConversionWarning: A column-vector y was passed when a 1d array was expected. Please change the shape of y to (n_samples,), for example using ravel().\n",
      "  return self.fit(X, y, **fit_params).transform(X)\n",
      "//anaconda/lib/python2.7/site-packages/sklearn/base.py:436: DataConversionWarning: A column-vector y was passed when a 1d array was expected. Please change the shape of y to (n_samples,), for example using ravel().\n",
      "  return self.fit(X, y, **fit_params).transform(X)\n"
     ]
    },
    {
     "name": "stdout",
     "output_type": "stream",
     "text": [
      "\n",
      "Number of Estimators:  15\n",
      "Min Leaves:  15\n",
      "Classes:  ['functional' 'functional needs repair' 'non functional']\n",
      "+++++++++++++++++++\n",
      "Accuracy Score:  0.69771043771\n",
      "Precision Score: [ 0.65516074  0.          0.86369637]\n",
      "Recall Score: [ 0.95865313  0.          0.46114537]\n",
      "Fl Score: [ 0.77836969  0.          0.60126364]\n",
      "------------------\n",
      "+++++++++++++++++++\n",
      "Number of Estimators:  15\n",
      "Min Leaves:  16\n",
      "Classes:  ['functional' 'functional needs repair' 'non functional']\n",
      "+++++++++++++++++++\n",
      "Accuracy Score:  0.68430976431\n",
      "Precision Score: [ 0.64531773  0.          0.84567474]\n",
      "Recall Score: [ 0.95543451  0.          0.43066079]\n",
      "Fl Score: [ 0.77033636  0.          0.57069469]\n",
      "------------------\n",
      "+++++++++++++++++++"
     ]
    },
    {
     "name": "stderr",
     "output_type": "stream",
     "text": [
      "//anaconda/lib/python2.7/site-packages/sklearn/base.py:436: DataConversionWarning: A column-vector y was passed when a 1d array was expected. Please change the shape of y to (n_samples,), for example using ravel().\n",
      "  return self.fit(X, y, **fit_params).transform(X)\n",
      "//anaconda/lib/python2.7/site-packages/sklearn/base.py:436: DataConversionWarning: A column-vector y was passed when a 1d array was expected. Please change the shape of y to (n_samples,), for example using ravel().\n",
      "  return self.fit(X, y, **fit_params).transform(X)\n"
     ]
    },
    {
     "name": "stdout",
     "output_type": "stream",
     "text": [
      "\n",
      "Number of Estimators:  15\n",
      "Min Leaves:  17\n",
      "Classes:  ['functional' 'functional needs repair' 'non functional']\n",
      "+++++++++++++++++++\n",
      "Accuracy Score:  0.702828282828\n",
      "Precision Score: [ 0.66080467  0.          0.85624804]\n",
      "Recall Score: [ 0.95357762  0.          0.48176211]\n",
      "Fl Score: [ 0.78064353  0.          0.61659901]\n",
      "------------------\n",
      "+++++++++++++++++++\n",
      "Number of Estimators:  15\n",
      "Min Leaves:  18\n",
      "Classes:  ['functional' 'functional needs repair' 'non functional']\n",
      "+++++++++++++++++++\n",
      "Accuracy Score:  0.706801346801\n",
      "Precision Score: [ 0.66208955  0.          0.87456   ]\n",
      "Recall Score: [ 0.9610052  0.         0.4815859]\n",
      "Fl Score: [ 0.78402262  0.          0.62113636]\n",
      "------------------\n",
      "+++++++++++++++++++"
     ]
    },
    {
     "name": "stderr",
     "output_type": "stream",
     "text": [
      "//anaconda/lib/python2.7/site-packages/sklearn/base.py:436: DataConversionWarning: A column-vector y was passed when a 1d array was expected. Please change the shape of y to (n_samples,), for example using ravel().\n",
      "  return self.fit(X, y, **fit_params).transform(X)\n",
      "//anaconda/lib/python2.7/site-packages/sklearn/base.py:436: DataConversionWarning: A column-vector y was passed when a 1d array was expected. Please change the shape of y to (n_samples,), for example using ravel().\n",
      "  return self.fit(X, y, **fit_params).transform(X)\n"
     ]
    },
    {
     "name": "stdout",
     "output_type": "stream",
     "text": [
      "\n",
      "Number of Estimators:  15\n",
      "Min Leaves:  19\n",
      "Classes:  ['functional' 'functional needs repair' 'non functional']\n",
      "+++++++++++++++++++\n",
      "Accuracy Score:  0.703232323232\n",
      "Precision Score: [ 0.65938271  0.          0.87018453]\n",
      "Recall Score: [ 0.96001486  0.          0.47365639]\n",
      "Fl Score: [ 0.78179344  0.          0.61341853]\n",
      "------------------\n",
      "+++++++++++++++++++\n",
      "Number of Estimators:  15\n",
      "Min Leaves:  20\n",
      "Classes:  ['functional' 'functional needs repair' 'non functional']\n",
      "+++++++++++++++++++\n",
      "Accuracy Score:  0.696296296296\n",
      "Precision Score: [ 0.65726049  0.          0.83892197]\n",
      "Recall Score: [ 0.9486259   0.          0.47171806]\n",
      "Fl Score: [ 0.77651112  0.          0.60387999]\n",
      "------------------\n",
      "+++++++++++++++++++"
     ]
    },
    {
     "name": "stderr",
     "output_type": "stream",
     "text": [
      "//anaconda/lib/python2.7/site-packages/sklearn/base.py:436: DataConversionWarning: A column-vector y was passed when a 1d array was expected. Please change the shape of y to (n_samples,), for example using ravel().\n",
      "  return self.fit(X, y, **fit_params).transform(X)\n",
      "//anaconda/lib/python2.7/site-packages/sklearn/base.py:436: DataConversionWarning: A column-vector y was passed when a 1d array was expected. Please change the shape of y to (n_samples,), for example using ravel().\n",
      "  return self.fit(X, y, **fit_params).transform(X)\n"
     ]
    },
    {
     "name": "stdout",
     "output_type": "stream",
     "text": [
      "\n",
      "Number of Estimators:  16\n",
      "Min Leaves:  2\n",
      "Classes:  ['functional' 'functional needs repair' 'non functional']\n",
      "+++++++++++++++++++\n",
      "Accuracy Score:  0.568484848485\n",
      "Precision Score: [ 0.55776672  0.          0.97883598]\n",
      "Recall Score: [ 0.99925724  0.          0.06519824]\n",
      "Fl Score: [ 0.71592018  0.          0.12225343]\n",
      "------------------\n",
      "+++++++++++++++++++\n",
      "Number of Estimators:  16\n",
      "Min Leaves:  3\n",
      "Classes:  ['functional' 'functional needs repair' 'non functional']\n",
      "+++++++++++++++++++\n",
      "Accuracy Score:  0.683703703704\n",
      "Precision Score: [ 0.64043564  0.          0.88400303]\n",
      "Recall Score: [ 0.96818519  0.          0.41092511]\n",
      "Fl Score: [ 0.77092164  0.          0.56104896]\n",
      "------------------\n",
      "+++++++++++++++++++"
     ]
    },
    {
     "name": "stderr",
     "output_type": "stream",
     "text": [
      "//anaconda/lib/python2.7/site-packages/sklearn/base.py:436: DataConversionWarning: A column-vector y was passed when a 1d array was expected. Please change the shape of y to (n_samples,), for example using ravel().\n",
      "  return self.fit(X, y, **fit_params).transform(X)\n",
      "//anaconda/lib/python2.7/site-packages/sklearn/base.py:436: DataConversionWarning: A column-vector y was passed when a 1d array was expected. Please change the shape of y to (n_samples,), for example using ravel().\n",
      "  return self.fit(X, y, **fit_params).transform(X)\n"
     ]
    },
    {
     "name": "stdout",
     "output_type": "stream",
     "text": [
      "\n",
      "Number of Estimators:  16\n",
      "Min Leaves:  4\n",
      "Classes:  ['functional' 'functional needs repair' 'non functional']\n",
      "+++++++++++++++++++\n",
      "Accuracy Score:  0.690909090909\n",
      "Precision Score: [ 0.64471418  0.          0.90289801]\n",
      "Recall Score: [ 0.97313692  0.          0.42273128]\n",
      "Fl Score: [ 0.77559075  0.          0.57585214]\n",
      "------------------\n",
      "+++++++++++++++++++\n",
      "Number of Estimators:  16\n",
      "Min Leaves:  5\n",
      "Classes:  ['functional' 'functional needs repair' 'non functional']\n",
      "+++++++++++++++++++\n",
      "Accuracy Score:  0.689562289562\n",
      "Precision Score: [ 0.64697095  0.          0.87285714]\n",
      "Recall Score: [ 0.96509037  0.          0.43066079]\n",
      "Fl Score: [ 0.77464229  0.          0.57675516]\n",
      "------------------\n",
      "+++++++++++++++++++"
     ]
    },
    {
     "name": "stderr",
     "output_type": "stream",
     "text": [
      "//anaconda/lib/python2.7/site-packages/sklearn/base.py:436: DataConversionWarning: A column-vector y was passed when a 1d array was expected. Please change the shape of y to (n_samples,), for example using ravel().\n",
      "  return self.fit(X, y, **fit_params).transform(X)\n",
      "//anaconda/lib/python2.7/site-packages/sklearn/base.py:436: DataConversionWarning: A column-vector y was passed when a 1d array was expected. Please change the shape of y to (n_samples,), for example using ravel().\n",
      "  return self.fit(X, y, **fit_params).transform(X)\n"
     ]
    },
    {
     "name": "stdout",
     "output_type": "stream",
     "text": [
      "\n",
      "Number of Estimators:  16\n",
      "Min Leaves:  6\n",
      "Classes:  ['functional' 'functional needs repair' 'non functional']\n",
      "+++++++++++++++++++\n",
      "Accuracy Score:  0.682760942761\n",
      "Precision Score: [ 0.64045313  0.          0.87593703]\n",
      "Recall Score: [ 0.96583313  0.          0.41180617]\n",
      "Fl Score: [ 0.77018756  0.          0.56023013]\n",
      "------------------\n",
      "+++++++++++++++++++\n",
      "Number of Estimators:  16\n",
      "Min Leaves:  7\n",
      "Classes:  ['functional' 'functional needs repair' 'non functional']\n",
      "+++++++++++++++++++\n",
      "Accuracy Score:  0.697643097643\n",
      "Precision Score: [ 0.65407906  0.          0.87263514]\n",
      "Recall Score: [ 0.9627383   0.          0.45515419]\n",
      "Fl Score: [ 0.77894631  0.          0.59826288]\n",
      "------------------\n",
      "+++++++++++++++++++"
     ]
    },
    {
     "name": "stderr",
     "output_type": "stream",
     "text": [
      "//anaconda/lib/python2.7/site-packages/sklearn/base.py:436: DataConversionWarning: A column-vector y was passed when a 1d array was expected. Please change the shape of y to (n_samples,), for example using ravel().\n",
      "  return self.fit(X, y, **fit_params).transform(X)\n",
      "//anaconda/lib/python2.7/site-packages/sklearn/base.py:436: DataConversionWarning: A column-vector y was passed when a 1d array was expected. Please change the shape of y to (n_samples,), for example using ravel().\n",
      "  return self.fit(X, y, **fit_params).transform(X)\n"
     ]
    },
    {
     "name": "stdout",
     "output_type": "stream",
     "text": [
      "\n",
      "Number of Estimators:  16\n",
      "Min Leaves:  8\n",
      "Classes:  ['functional' 'functional needs repair' 'non functional']\n",
      "+++++++++++++++++++\n",
      "Accuracy Score:  0.70101010101\n",
      "Precision Score: [ 0.65393576  0.          0.90077684]\n",
      "Recall Score: [ 0.97288933  0.          0.44951542]\n",
      "Fl Score: [ 0.7821457   0.          0.59974139]\n",
      "------------------\n",
      "+++++++++++++++++++\n",
      "Number of Estimators:  16\n",
      "Min Leaves:  9\n",
      "Classes:  ['functional' 'functional needs repair' 'non functional']\n",
      "+++++++++++++++++++\n",
      "Accuracy Score:  0.704915824916\n",
      "Precision Score: [ 0.66247849  0.          0.85758514]\n",
      "Recall Score: [ 0.95295865  0.          0.48810573]\n",
      "Fl Score: [ 0.78160219  0.          0.6221224 ]\n",
      "------------------\n",
      "+++++++++++++++++++"
     ]
    },
    {
     "name": "stderr",
     "output_type": "stream",
     "text": [
      "//anaconda/lib/python2.7/site-packages/sklearn/base.py:436: DataConversionWarning: A column-vector y was passed when a 1d array was expected. Please change the shape of y to (n_samples,), for example using ravel().\n",
      "  return self.fit(X, y, **fit_params).transform(X)\n",
      "//anaconda/lib/python2.7/site-packages/sklearn/base.py:436: DataConversionWarning: A column-vector y was passed when a 1d array was expected. Please change the shape of y to (n_samples,), for example using ravel().\n",
      "  return self.fit(X, y, **fit_params).transform(X)\n"
     ]
    },
    {
     "name": "stdout",
     "output_type": "stream",
     "text": [
      "\n",
      "Number of Estimators:  16\n",
      "Min Leaves:  10\n",
      "Classes:  ['functional' 'functional needs repair' 'non functional']\n",
      "+++++++++++++++++++\n",
      "Accuracy Score:  0.694410774411\n",
      "Precision Score: [ 0.65        0.          0.87979094]\n",
      "Recall Score: [ 0.96397623  0.          0.44493392]\n",
      "Fl Score: [ 0.7764483   0.          0.59098888]\n",
      "------------------\n",
      "+++++++++++++++++++\n",
      "Number of Estimators:  16\n",
      "Min Leaves:  11\n",
      "Classes:  ['functional' 'functional needs repair' 'non functional']\n",
      "+++++++++++++++++++\n",
      "Accuracy Score:  0.697306397306\n",
      "Precision Score: [ 0.65296039  0.          0.87933998]\n",
      "Recall Score: [ 0.96521416  0.          0.4507489 ]\n",
      "Fl Score: [ 0.77895999  0.          0.59599254]\n",
      "------------------\n",
      "+++++++++++++++++++"
     ]
    },
    {
     "name": "stderr",
     "output_type": "stream",
     "text": [
      "//anaconda/lib/python2.7/site-packages/sklearn/base.py:436: DataConversionWarning: A column-vector y was passed when a 1d array was expected. Please change the shape of y to (n_samples,), for example using ravel().\n",
      "  return self.fit(X, y, **fit_params).transform(X)\n",
      "//anaconda/lib/python2.7/site-packages/sklearn/base.py:436: DataConversionWarning: A column-vector y was passed when a 1d array was expected. Please change the shape of y to (n_samples,), for example using ravel().\n",
      "  return self.fit(X, y, **fit_params).transform(X)\n"
     ]
    },
    {
     "name": "stdout",
     "output_type": "stream",
     "text": [
      "\n",
      "Number of Estimators:  16\n",
      "Min Leaves:  12\n",
      "Classes:  ['functional' 'functional needs repair' 'non functional']\n",
      "+++++++++++++++++++\n",
      "Accuracy Score:  0.7032996633\n",
      "Precision Score: [ 0.66221686  0.          0.85057116]\n",
      "Recall Score: [ 0.95184452  0.          0.48546256]\n",
      "Fl Score: [ 0.78104525  0.          0.61812879]\n",
      "------------------\n",
      "+++++++++++++++++++\n",
      "Number of Estimators:  16\n",
      "Min Leaves:  13\n",
      "Classes:  ['functional' 'functional needs repair' 'non functional']\n",
      "+++++++++++++++++++\n",
      "Accuracy Score:  0.695622895623\n",
      "Precision Score: [ 0.65516066  0.          0.8479307 ]\n",
      "Recall Score: [ 0.95159693  0.          0.46572687]\n",
      "Fl Score: [ 0.77603352  0.          0.60122839]\n",
      "------------------\n",
      "+++++++++++++++++++"
     ]
    },
    {
     "name": "stderr",
     "output_type": "stream",
     "text": [
      "//anaconda/lib/python2.7/site-packages/sklearn/base.py:436: DataConversionWarning: A column-vector y was passed when a 1d array was expected. Please change the shape of y to (n_samples,), for example using ravel().\n",
      "  return self.fit(X, y, **fit_params).transform(X)\n",
      "//anaconda/lib/python2.7/site-packages/sklearn/base.py:436: DataConversionWarning: A column-vector y was passed when a 1d array was expected. Please change the shape of y to (n_samples,), for example using ravel().\n",
      "  return self.fit(X, y, **fit_params).transform(X)\n"
     ]
    },
    {
     "name": "stdout",
     "output_type": "stream",
     "text": [
      "\n",
      "Number of Estimators:  16\n",
      "Min Leaves:  14\n",
      "Classes:  ['functional' 'functional needs repair' 'non functional']\n",
      "+++++++++++++++++++\n",
      "Accuracy Score:  0.705656565657\n",
      "Precision Score: [ 0.66192598  0.          0.86626809]\n",
      "Recall Score: [ 0.95642486  0.          0.48511013]\n",
      "Fl Score: [ 0.78237975  0.          0.62193607]\n",
      "------------------\n",
      "+++++++++++++++++++\n",
      "Number of Estimators:  16\n",
      "Min Leaves:  15\n",
      "Classes:  ['functional' 'functional needs repair' 'non functional']\n",
      "+++++++++++++++++++\n",
      "Accuracy Score:  0.702087542088\n",
      "Precision Score: [ 0.65918977  0.          0.86304   ]\n",
      "Recall Score: [ 0.95679624  0.          0.47524229]\n",
      "Fl Score: [ 0.7805888   0.          0.61295455]\n",
      "------------------\n",
      "+++++++++++++++++++"
     ]
    },
    {
     "name": "stderr",
     "output_type": "stream",
     "text": [
      "//anaconda/lib/python2.7/site-packages/sklearn/base.py:436: DataConversionWarning: A column-vector y was passed when a 1d array was expected. Please change the shape of y to (n_samples,), for example using ravel().\n",
      "  return self.fit(X, y, **fit_params).transform(X)\n",
      "//anaconda/lib/python2.7/site-packages/sklearn/base.py:436: DataConversionWarning: A column-vector y was passed when a 1d array was expected. Please change the shape of y to (n_samples,), for example using ravel().\n",
      "  return self.fit(X, y, **fit_params).transform(X)\n"
     ]
    },
    {
     "name": "stdout",
     "output_type": "stream",
     "text": [
      "\n",
      "Number of Estimators:  16\n",
      "Min Leaves:  16\n",
      "Classes:  ['functional' 'functional needs repair' 'non functional']\n",
      "+++++++++++++++++++\n",
      "Accuracy Score:  0.71063973064\n",
      "Precision Score: [ 0.67283566  0.          0.82830241]\n",
      "Recall Score: [ 0.9361228   0.          0.52704846]\n",
      "Fl Score: [ 0.78293731  0.          0.64419556]\n",
      "------------------\n",
      "+++++++++++++++++++\n",
      "Number of Estimators:  16\n",
      "Min Leaves:  17\n",
      "Classes:  ['functional' 'functional needs repair' 'non functional']\n",
      "+++++++++++++++++++\n",
      "Accuracy Score:  0.705589225589\n",
      "Precision Score: [ 0.66282965  0.          0.86070427]\n",
      "Recall Score: [ 0.95518693  0.          0.48669604]\n",
      "Fl Score: [ 0.78259547  0.          0.62179199]\n",
      "------------------\n",
      "+++++++++++++++++++"
     ]
    },
    {
     "name": "stderr",
     "output_type": "stream",
     "text": [
      "//anaconda/lib/python2.7/site-packages/sklearn/base.py:436: DataConversionWarning: A column-vector y was passed when a 1d array was expected. Please change the shape of y to (n_samples,), for example using ravel().\n",
      "  return self.fit(X, y, **fit_params).transform(X)\n",
      "//anaconda/lib/python2.7/site-packages/sklearn/base.py:436: DataConversionWarning: A column-vector y was passed when a 1d array was expected. Please change the shape of y to (n_samples,), for example using ravel().\n",
      "  return self.fit(X, y, **fit_params).transform(X)\n"
     ]
    },
    {
     "name": "stdout",
     "output_type": "stream",
     "text": [
      "\n",
      "Number of Estimators:  16\n",
      "Min Leaves:  18\n",
      "Classes:  ['functional' 'functional needs repair' 'non functional']\n",
      "+++++++++++++++++++\n",
      "Accuracy Score:  0.711178451178\n",
      "Precision Score: [ 0.66735716  0.          0.86672794]\n",
      "Recall Score: [ 0.95716762  0.          0.4985022 ]\n",
      "Fl Score: [ 0.78641172  0.          0.63295671]\n",
      "------------------\n",
      "+++++++++++++++++++\n",
      "Number of Estimators:  16\n",
      "Min Leaves:  19\n",
      "Classes:  ['functional' 'functional needs repair' 'non functional']\n",
      "+++++++++++++++++++\n",
      "Accuracy Score:  0.708821548822\n",
      "Precision Score: [ 0.66421296  0.          0.87338175]\n",
      "Recall Score: [ 0.96063382  0.          0.48740088]\n",
      "Fl Score: [ 0.78538535  0.          0.62565031]\n",
      "------------------\n",
      "+++++++++++++++++++"
     ]
    },
    {
     "name": "stderr",
     "output_type": "stream",
     "text": [
      "//anaconda/lib/python2.7/site-packages/sklearn/base.py:436: DataConversionWarning: A column-vector y was passed when a 1d array was expected. Please change the shape of y to (n_samples,), for example using ravel().\n",
      "  return self.fit(X, y, **fit_params).transform(X)\n",
      "//anaconda/lib/python2.7/site-packages/sklearn/base.py:436: DataConversionWarning: A column-vector y was passed when a 1d array was expected. Please change the shape of y to (n_samples,), for example using ravel().\n",
      "  return self.fit(X, y, **fit_params).transform(X)\n"
     ]
    },
    {
     "name": "stdout",
     "output_type": "stream",
     "text": [
      "\n",
      "Number of Estimators:  16\n",
      "Min Leaves:  20\n",
      "Classes:  ['functional' 'functional needs repair' 'non functional']\n",
      "+++++++++++++++++++\n",
      "Accuracy Score:  0.714545454545\n",
      "Precision Score: [ 0.66960581  0.          0.87294333]\n",
      "Recall Score: [ 0.95890072  0.          0.50484581]\n",
      "Fl Score: [ 0.78855747  0.          0.63972312]\n",
      "------------------\n",
      "+++++++++++++++++++\n",
      "Number of Estimators:  17\n",
      "Min Leaves:  2\n",
      "Classes:  ['functional' 'functional needs repair' 'non functional']\n",
      "+++++++++++++++++++\n",
      "Accuracy Score:  0.590841750842\n",
      "Precision Score: [ 0.57184584  0.          0.91881919]\n",
      "Recall Score: [ 0.99368656  0.          0.13162996]\n",
      "Fl Score: [ 0.72593262  0.          0.23027127]\n",
      "------------------\n",
      "+++++++++++++++++++"
     ]
    },
    {
     "name": "stderr",
     "output_type": "stream",
     "text": [
      "//anaconda/lib/python2.7/site-packages/sklearn/base.py:436: DataConversionWarning: A column-vector y was passed when a 1d array was expected. Please change the shape of y to (n_samples,), for example using ravel().\n",
      "  return self.fit(X, y, **fit_params).transform(X)\n",
      "//anaconda/lib/python2.7/site-packages/sklearn/base.py:436: DataConversionWarning: A column-vector y was passed when a 1d array was expected. Please change the shape of y to (n_samples,), for example using ravel().\n",
      "  return self.fit(X, y, **fit_params).transform(X)\n"
     ]
    },
    {
     "name": "stdout",
     "output_type": "stream",
     "text": [
      "\n",
      "Number of Estimators:  17\n",
      "Min Leaves:  3\n",
      "Classes:  ['functional' 'functional needs repair' 'non functional']\n",
      "+++++++++++++++++++\n",
      "Accuracy Score:  0.687542087542\n",
      "Precision Score: [ 0.64194603  0.          0.90038168]\n",
      "Recall Score: [ 0.97189898  0.          0.41568282]\n",
      "Fl Score: [ 0.77319283  0.          0.56877637]\n",
      "------------------\n",
      "+++++++++++++++++++\n",
      "Number of Estimators:  17\n",
      "Min Leaves:  4\n",
      "Classes:  ['functional' 'functional needs repair' 'non functional']\n",
      "+++++++++++++++++++\n",
      "Accuracy Score:  0.622760942761\n",
      "Precision Score: [ 0.59599028  0.          0.83234245]\n",
      "Recall Score: [ 0.97152761  0.          0.24669604]\n",
      "Fl Score: [ 0.73877436  0.          0.38058991]\n",
      "------------------\n",
      "+++++++++++++++++++"
     ]
    },
    {
     "name": "stderr",
     "output_type": "stream",
     "text": [
      "//anaconda/lib/python2.7/site-packages/sklearn/base.py:436: DataConversionWarning: A column-vector y was passed when a 1d array was expected. Please change the shape of y to (n_samples,), for example using ravel().\n",
      "  return self.fit(X, y, **fit_params).transform(X)\n",
      "//anaconda/lib/python2.7/site-packages/sklearn/base.py:436: DataConversionWarning: A column-vector y was passed when a 1d array was expected. Please change the shape of y to (n_samples,), for example using ravel().\n",
      "  return self.fit(X, y, **fit_params).transform(X)\n"
     ]
    },
    {
     "name": "stdout",
     "output_type": "stream",
     "text": [
      "\n",
      "Number of Estimators:  17\n",
      "Min Leaves:  5\n",
      "Classes:  ['functional' 'functional needs repair' 'non functional']\n",
      "+++++++++++++++++++\n",
      "Accuracy Score:  0.69164983165\n",
      "Precision Score: [ 0.6466066   0.          0.88957501]\n",
      "Recall Score: [ 0.96830899  0.          0.43154185]\n",
      "Fl Score: [ 0.77541512  0.          0.58115804]\n",
      "------------------\n",
      "+++++++++++++++++++\n",
      "Number of Estimators:  17\n",
      "Min Leaves:  6\n",
      "Classes:  ['functional' 'functional needs repair' 'non functional']\n",
      "+++++++++++++++++++\n",
      "Accuracy Score:  0.673804713805\n",
      "Precision Score: [ 0.63413442  0.          0.86291262]\n",
      "Recall Score: [ 0.96360485  0.          0.39154185]\n",
      "Fl Score: [ 0.76489952  0.          0.53866667]\n",
      "------------------\n",
      "+++++++++++++++++++"
     ]
    },
    {
     "name": "stderr",
     "output_type": "stream",
     "text": [
      "//anaconda/lib/python2.7/site-packages/sklearn/base.py:436: DataConversionWarning: A column-vector y was passed when a 1d array was expected. Please change the shape of y to (n_samples,), for example using ravel().\n",
      "  return self.fit(X, y, **fit_params).transform(X)\n",
      "//anaconda/lib/python2.7/site-packages/sklearn/base.py:436: DataConversionWarning: A column-vector y was passed when a 1d array was expected. Please change the shape of y to (n_samples,), for example using ravel().\n",
      "  return self.fit(X, y, **fit_params).transform(X)\n"
     ]
    },
    {
     "name": "stdout",
     "output_type": "stream",
     "text": [
      "\n",
      "Number of Estimators:  17\n",
      "Min Leaves:  7\n",
      "Classes:  ['functional' 'functional needs repair' 'non functional']\n",
      "+++++++++++++++++++\n",
      "Accuracy Score:  0.681885521886\n",
      "Precision Score: [ 0.64        0.          0.87471698]\n",
      "Recall Score: [ 0.96657589  0.          0.40845815]\n",
      "Fl Score: [ 0.77009567  0.          0.55687688]\n",
      "------------------\n",
      "+++++++++++++++++++\n",
      "Number of Estimators:  17\n",
      "Min Leaves:  8\n",
      "Classes:  ['functional' 'functional needs repair' 'non functional']\n",
      "+++++++++++++++++++\n",
      "Accuracy Score:  0.696498316498\n",
      "Precision Score: [ 0.6494581   0.          0.90228013]\n",
      "Recall Score: [ 0.97177519  0.          0.43929515]\n",
      "Fl Score: [ 0.77857674  0.          0.59089832]\n",
      "------------------\n",
      "+++++++++++++++++++"
     ]
    },
    {
     "name": "stderr",
     "output_type": "stream",
     "text": [
      "//anaconda/lib/python2.7/site-packages/sklearn/base.py:436: DataConversionWarning: A column-vector y was passed when a 1d array was expected. Please change the shape of y to (n_samples,), for example using ravel().\n",
      "  return self.fit(X, y, **fit_params).transform(X)\n",
      "//anaconda/lib/python2.7/site-packages/sklearn/base.py:436: DataConversionWarning: A column-vector y was passed when a 1d array was expected. Please change the shape of y to (n_samples,), for example using ravel().\n",
      "  return self.fit(X, y, **fit_params).transform(X)\n"
     ]
    },
    {
     "name": "stdout",
     "output_type": "stream",
     "text": [
      "\n",
      "Number of Estimators:  17\n",
      "Min Leaves:  9\n",
      "Classes:  ['functional' 'functional needs repair' 'non functional']\n",
      "+++++++++++++++++++\n",
      "Accuracy Score:  0.699865319865\n",
      "Precision Score: [ 0.65676848  0.          0.86341621]\n",
      "Recall Score: [ 0.95555831  0.          0.47118943]\n",
      "Fl Score: [ 0.77847814  0.          0.60966712]\n",
      "------------------\n",
      "+++++++++++++++++++\n",
      "Number of Estimators:  17\n",
      "Min Leaves:  10\n",
      "Classes:  ['functional' 'functional needs repair' 'non functional']\n",
      "+++++++++++++++++++\n",
      "Accuracy Score:  0.697239057239\n",
      "Precision Score: [ 0.65576139  0.          0.85561324]\n",
      "Recall Score: [ 0.95531072  0.          0.4646696 ]\n",
      "Fl Score: [ 0.7776882   0.          0.60226105]\n",
      "------------------\n",
      "+++++++++++++++++++"
     ]
    },
    {
     "name": "stderr",
     "output_type": "stream",
     "text": [
      "//anaconda/lib/python2.7/site-packages/sklearn/base.py:436: DataConversionWarning: A column-vector y was passed when a 1d array was expected. Please change the shape of y to (n_samples,), for example using ravel().\n",
      "  return self.fit(X, y, **fit_params).transform(X)\n",
      "//anaconda/lib/python2.7/site-packages/sklearn/base.py:436: DataConversionWarning: A column-vector y was passed when a 1d array was expected. Please change the shape of y to (n_samples,), for example using ravel().\n",
      "  return self.fit(X, y, **fit_params).transform(X)\n"
     ]
    },
    {
     "name": "stdout",
     "output_type": "stream",
     "text": [
      "\n",
      "Number of Estimators:  17\n",
      "Min Leaves:  11\n",
      "Classes:  ['functional' 'functional needs repair' 'non functional']\n",
      "+++++++++++++++++++\n",
      "Accuracy Score:  0.694006734007\n",
      "Precision Score: [ 0.65434412  0.          0.8437299 ]\n",
      "Recall Score: [ 0.95097796  0.          0.46237885]\n",
      "Fl Score: [ 0.77525482  0.          0.5973819 ]\n",
      "------------------\n",
      "+++++++++++++++++++\n",
      "Number of Estimators:  17\n",
      "Min Leaves:  12\n",
      "Classes:  ['functional' 'functional needs repair' 'non functional']\n",
      "+++++++++++++++++++\n",
      "Accuracy Score:  0.712727272727\n",
      "Precision Score: [ 0.67270158  0.          0.84122484]\n",
      "Recall Score: [ 0.94293142  0.          0.52281938]\n",
      "Fl Score: [ 0.78521726  0.          0.64485981]\n",
      "------------------\n",
      "+++++++++++++++++++"
     ]
    },
    {
     "name": "stderr",
     "output_type": "stream",
     "text": [
      "//anaconda/lib/python2.7/site-packages/sklearn/base.py:436: DataConversionWarning: A column-vector y was passed when a 1d array was expected. Please change the shape of y to (n_samples,), for example using ravel().\n",
      "  return self.fit(X, y, **fit_params).transform(X)\n",
      "//anaconda/lib/python2.7/site-packages/sklearn/base.py:436: DataConversionWarning: A column-vector y was passed when a 1d array was expected. Please change the shape of y to (n_samples,), for example using ravel().\n",
      "  return self.fit(X, y, **fit_params).transform(X)\n"
     ]
    },
    {
     "name": "stdout",
     "output_type": "stream",
     "text": [
      "\n",
      "Number of Estimators:  17\n",
      "Min Leaves:  13\n",
      "Classes:  ['functional' 'functional needs repair' 'non functional']\n",
      "+++++++++++++++++++\n",
      "Accuracy Score:  0.707407407407\n",
      "Precision Score: [ 0.66071882  0.          0.88991736]\n",
      "Recall Score: [ 0.96719485  0.          0.47436123]\n",
      "Fl Score: [ 0.78510777  0.          0.61885057]\n",
      "------------------\n",
      "+++++++++++++++++++\n",
      "Number of Estimators:  17\n",
      "Min Leaves:  14\n",
      "Classes:  ['functional' 'functional needs repair' 'non functional']\n",
      "+++++++++++++++++++\n",
      "Accuracy Score:  0.700134680135\n",
      "Precision Score: [ 0.65693986  0.          0.86884704]\n",
      "Recall Score: [ 0.96150037  0.          0.46343612]\n",
      "Fl Score: [ 0.78056379  0.          0.60445875]\n",
      "------------------\n",
      "+++++++++++++++++++"
     ]
    },
    {
     "name": "stderr",
     "output_type": "stream",
     "text": [
      "//anaconda/lib/python2.7/site-packages/sklearn/base.py:436: DataConversionWarning: A column-vector y was passed when a 1d array was expected. Please change the shape of y to (n_samples,), for example using ravel().\n",
      "  return self.fit(X, y, **fit_params).transform(X)\n",
      "//anaconda/lib/python2.7/site-packages/sklearn/base.py:436: DataConversionWarning: A column-vector y was passed when a 1d array was expected. Please change the shape of y to (n_samples,), for example using ravel().\n",
      "  return self.fit(X, y, **fit_params).transform(X)\n"
     ]
    },
    {
     "name": "stdout",
     "output_type": "stream",
     "text": [
      "\n",
      "Number of Estimators:  17\n",
      "Min Leaves:  15\n",
      "Classes:  ['functional' 'functional needs repair' 'non functional']\n",
      "+++++++++++++++++++\n",
      "Accuracy Score:  0.703097643098\n",
      "Precision Score: [ 0.66144982  0.          0.85346166]\n",
      "Recall Score: [ 0.9522159   0.          0.48440529]\n",
      "Fl Score: [ 0.78063632  0.          0.61803058]\n",
      "------------------\n",
      "+++++++++++++++++++\n",
      "Number of Estimators:  17\n",
      "Min Leaves:  16\n",
      "Classes:  ['functional' 'functional needs repair' 'non functional']\n",
      "+++++++++++++++++++\n",
      "Accuracy Score:  0.700336700337\n",
      "Precision Score: [ 0.6587913   0.          0.85353535]\n",
      "Recall Score: [ 0.95271107  0.          0.47647577]\n",
      "Fl Score: [ 0.77894737  0.          0.61155716]\n",
      "------------------\n",
      "+++++++++++++++++++"
     ]
    },
    {
     "name": "stderr",
     "output_type": "stream",
     "text": [
      "//anaconda/lib/python2.7/site-packages/sklearn/base.py:436: DataConversionWarning: A column-vector y was passed when a 1d array was expected. Please change the shape of y to (n_samples,), for example using ravel().\n",
      "  return self.fit(X, y, **fit_params).transform(X)\n",
      "//anaconda/lib/python2.7/site-packages/sklearn/base.py:436: DataConversionWarning: A column-vector y was passed when a 1d array was expected. Please change the shape of y to (n_samples,), for example using ravel().\n",
      "  return self.fit(X, y, **fit_params).transform(X)\n"
     ]
    },
    {
     "name": "stdout",
     "output_type": "stream",
     "text": [
      "\n",
      "Number of Estimators:  17\n",
      "Min Leaves:  17\n",
      "Classes:  ['functional' 'functional needs repair' 'non functional']\n",
      "+++++++++++++++++++\n",
      "Accuracy Score:  0.711313131313\n",
      "Precision Score: [ 0.6674167   0.          0.86525038]\n",
      "Recall Score: [ 0.95469176  0.          0.50237885]\n",
      "Fl Score: [ 0.78561605  0.          0.63567447]\n",
      "------------------\n",
      "+++++++++++++++++++\n",
      "Number of Estimators:  17\n",
      "Min Leaves:  18\n",
      "Classes:  ['functional' 'functional needs repair' 'non functional']\n",
      "+++++++++++++++++++\n",
      "Accuracy Score:  0.714074074074\n",
      "Precision Score: [ 0.66833262  0.          0.87765794]\n",
      "Recall Score: [ 0.96013865  0.          0.50185022]\n",
      "Fl Score: [ 0.78809125  0.          0.63856502]\n",
      "------------------\n",
      "+++++++++++++++++++"
     ]
    },
    {
     "name": "stderr",
     "output_type": "stream",
     "text": [
      "//anaconda/lib/python2.7/site-packages/sklearn/base.py:436: DataConversionWarning: A column-vector y was passed when a 1d array was expected. Please change the shape of y to (n_samples,), for example using ravel().\n",
      "  return self.fit(X, y, **fit_params).transform(X)\n",
      "//anaconda/lib/python2.7/site-packages/sklearn/base.py:436: DataConversionWarning: A column-vector y was passed when a 1d array was expected. Please change the shape of y to (n_samples,), for example using ravel().\n",
      "  return self.fit(X, y, **fit_params).transform(X)\n"
     ]
    },
    {
     "name": "stdout",
     "output_type": "stream",
     "text": [
      "\n",
      "Number of Estimators:  17\n",
      "Min Leaves:  19\n",
      "Classes:  ['functional' 'functional needs repair' 'non functional']\n",
      "+++++++++++++++++++\n",
      "Accuracy Score:  0.706464646465\n",
      "Precision Score: [ 0.66382649  0.          0.85979573]\n",
      "Recall Score: [ 0.95481555  0.          0.48951542]\n",
      "Fl Score: [ 0.78316495  0.          0.62384909]\n",
      "------------------\n",
      "+++++++++++++++++++\n",
      "Number of Estimators:  17\n",
      "Min Leaves:  20\n",
      "Classes:  ['functional' 'functional needs repair' 'non functional']\n",
      "+++++++++++++++++++\n",
      "Accuracy Score:  0.71164983165\n",
      "Precision Score: [ 0.66741457  0.          0.86879215]\n",
      "Recall Score: [ 0.9574152   0.          0.49938326]\n",
      "Fl Score: [ 0.78653514  0.          0.6342173 ]\n",
      "------------------\n",
      "+++++++++++++++++++"
     ]
    },
    {
     "name": "stderr",
     "output_type": "stream",
     "text": [
      "//anaconda/lib/python2.7/site-packages/sklearn/base.py:436: DataConversionWarning: A column-vector y was passed when a 1d array was expected. Please change the shape of y to (n_samples,), for example using ravel().\n",
      "  return self.fit(X, y, **fit_params).transform(X)\n",
      "//anaconda/lib/python2.7/site-packages/sklearn/base.py:436: DataConversionWarning: A column-vector y was passed when a 1d array was expected. Please change the shape of y to (n_samples,), for example using ravel().\n",
      "  return self.fit(X, y, **fit_params).transform(X)\n"
     ]
    },
    {
     "name": "stdout",
     "output_type": "stream",
     "text": [
      "\n",
      "Number of Estimators:  18\n",
      "Min Leaves:  2\n",
      "Classes:  ['functional' 'functional needs repair' 'non functional']\n",
      "+++++++++++++++++++\n",
      "Accuracy Score:  0.608821548822\n",
      "Precision Score: [ 0.58390048  0.          0.89620253]\n",
      "Recall Score: [ 0.98774449  0.          0.18713656]\n",
      "Fl Score: [ 0.73393736  0.          0.30962099]\n",
      "------------------\n",
      "+++++++++++++++++++\n",
      "Number of Estimators:  18\n",
      "Min Leaves:  3\n",
      "Classes:  ['functional' 'functional needs repair' 'non functional']\n",
      "+++++++++++++++++++\n",
      "Accuracy Score:  0.621279461279\n",
      "Precision Score: [ 0.59233346  0.          0.89611307]\n",
      "Recall Score: [ 0.98514484  0.          0.22343612]\n",
      "Fl Score: [ 0.73983173  0.          0.35768688]\n",
      "------------------\n",
      "+++++++++++++++++++"
     ]
    },
    {
     "name": "stderr",
     "output_type": "stream",
     "text": [
      "//anaconda/lib/python2.7/site-packages/sklearn/base.py:436: DataConversionWarning: A column-vector y was passed when a 1d array was expected. Please change the shape of y to (n_samples,), for example using ravel().\n",
      "  return self.fit(X, y, **fit_params).transform(X)\n",
      "//anaconda/lib/python2.7/site-packages/sklearn/base.py:436: DataConversionWarning: A column-vector y was passed when a 1d array was expected. Please change the shape of y to (n_samples,), for example using ravel().\n",
      "  return self.fit(X, y, **fit_params).transform(X)\n"
     ]
    },
    {
     "name": "stdout",
     "output_type": "stream",
     "text": [
      "\n",
      "Number of Estimators:  18\n",
      "Min Leaves:  4\n",
      "Classes:  ['functional' 'functional needs repair' 'non functional']\n",
      "+++++++++++++++++++\n",
      "Accuracy Score:  0.66835016835\n",
      "Precision Score: [ 0.628948    0.          0.87203988]\n",
      "Recall Score: [ 0.96880416  0.          0.36986784]\n",
      "Fl Score: [ 0.76273086  0.          0.51942588]\n",
      "------------------\n",
      "+++++++++++++++++++\n",
      "Number of Estimators:  18\n",
      "Min Leaves:  5\n",
      "Classes:  ['functional' 'functional needs repair' 'non functional']\n",
      "+++++++++++++++++++\n",
      "Accuracy Score:  0.663232323232\n",
      "Precision Score: [ 0.62401778  0.          0.88271879]\n",
      "Recall Score: [ 0.97326071  0.          0.35013216]\n",
      "Fl Score: [ 0.76045848  0.          0.50138784]\n",
      "------------------\n",
      "+++++++++++++++++++"
     ]
    },
    {
     "name": "stderr",
     "output_type": "stream",
     "text": [
      "//anaconda/lib/python2.7/site-packages/sklearn/base.py:436: DataConversionWarning: A column-vector y was passed when a 1d array was expected. Please change the shape of y to (n_samples,), for example using ravel().\n",
      "  return self.fit(X, y, **fit_params).transform(X)\n",
      "//anaconda/lib/python2.7/site-packages/sklearn/base.py:436: DataConversionWarning: A column-vector y was passed when a 1d array was expected. Please change the shape of y to (n_samples,), for example using ravel().\n",
      "  return self.fit(X, y, **fit_params).transform(X)\n"
     ]
    },
    {
     "name": "stdout",
     "output_type": "stream",
     "text": [
      "\n",
      "Number of Estimators:  18\n",
      "Min Leaves:  6\n",
      "Classes:  ['functional' 'functional needs repair' 'non functional']\n",
      "+++++++++++++++++++\n",
      "Accuracy Score:  0.673804713805\n",
      "Precision Score: [ 0.63508229  0.          0.85830745]\n",
      "Recall Score: [ 0.96496658  0.          0.38960352]\n",
      "Fl Score: [ 0.76601808  0.          0.53593504]\n",
      "------------------\n",
      "+++++++++++++++++++\n",
      "Number of Estimators:  18\n",
      "Min Leaves:  7\n",
      "Classes:  ['functional' 'functional needs repair' 'non functional']\n",
      "+++++++++++++++++++\n",
      "Accuracy Score:  0.68101010101\n",
      "Precision Score: [ 0.64395973  0.          0.83174061]\n",
      "Recall Score: [ 0.95023521  0.          0.42942731]\n",
      "Fl Score: [ 0.76767677  0.          0.56641488]\n",
      "------------------\n",
      "+++++++++++++++++++"
     ]
    },
    {
     "name": "stderr",
     "output_type": "stream",
     "text": [
      "//anaconda/lib/python2.7/site-packages/sklearn/base.py:436: DataConversionWarning: A column-vector y was passed when a 1d array was expected. Please change the shape of y to (n_samples,), for example using ravel().\n",
      "  return self.fit(X, y, **fit_params).transform(X)\n",
      "//anaconda/lib/python2.7/site-packages/sklearn/base.py:436: DataConversionWarning: A column-vector y was passed when a 1d array was expected. Please change the shape of y to (n_samples,), for example using ravel().\n",
      "  return self.fit(X, y, **fit_params).transform(X)\n"
     ]
    },
    {
     "name": "stdout",
     "output_type": "stream",
     "text": [
      "\n",
      "Number of Estimators:  18\n",
      "Min Leaves:  8\n",
      "Classes:  ['functional' 'functional needs repair' 'non functional']\n",
      "+++++++++++++++++++\n",
      "Accuracy Score:  0.697171717172\n",
      "Precision Score: [ 0.65450553  0.          0.86507145]\n",
      "Recall Score: [ 0.95939589  0.          0.45867841]\n",
      "Fl Score: [ 0.77815151  0.          0.59949332]\n",
      "------------------\n",
      "+++++++++++++++++++\n",
      "Number of Estimators:  18\n",
      "Min Leaves:  9\n",
      "Classes:  ['functional' 'functional needs repair' 'non functional']\n",
      "+++++++++++++++++++\n",
      "Accuracy Score:  0.69898989899\n",
      "Precision Score: [ 0.6531874   0.          0.88927456]\n",
      "Recall Score: [ 0.96781382  0.          0.45145374]\n",
      "Fl Score: [ 0.77996708  0.          0.59887798]\n",
      "------------------\n",
      "+++++++++++++++++++"
     ]
    },
    {
     "name": "stderr",
     "output_type": "stream",
     "text": [
      "//anaconda/lib/python2.7/site-packages/sklearn/base.py:436: DataConversionWarning: A column-vector y was passed when a 1d array was expected. Please change the shape of y to (n_samples,), for example using ravel().\n",
      "  return self.fit(X, y, **fit_params).transform(X)\n",
      "//anaconda/lib/python2.7/site-packages/sklearn/base.py:436: DataConversionWarning: A column-vector y was passed when a 1d array was expected. Please change the shape of y to (n_samples,), for example using ravel().\n",
      "  return self.fit(X, y, **fit_params).transform(X)\n"
     ]
    },
    {
     "name": "stdout",
     "output_type": "stream",
     "text": [
      "\n",
      "Number of Estimators:  18\n",
      "Min Leaves:  10\n",
      "Classes:  ['functional' 'functional needs repair' 'non functional']\n",
      "+++++++++++++++++++\n",
      "Accuracy Score:  0.691986531987\n",
      "Precision Score: [ 0.65149336  0.          0.84988453]\n",
      "Recall Score: [ 0.95320624  0.          0.4539207 ]\n",
      "Fl Score: [ 0.77398603  0.          0.59177579]\n",
      "------------------\n",
      "+++++++++++++++++++\n",
      "Number of Estimators:  18\n",
      "Min Leaves:  11\n",
      "Classes:  ['functional' 'functional needs repair' 'non functional']\n",
      "+++++++++++++++++++\n",
      "Accuracy Score:  0.692053872054\n",
      "Precision Score: [ 0.65354398  0.          0.83566879]\n",
      "Recall Score: [ 0.94738797  0.          0.46237885]\n",
      "Fl Score: [ 0.77349909  0.          0.59534884]\n",
      "------------------\n",
      "+++++++++++++++++++"
     ]
    },
    {
     "name": "stderr",
     "output_type": "stream",
     "text": [
      "//anaconda/lib/python2.7/site-packages/sklearn/base.py:436: DataConversionWarning: A column-vector y was passed when a 1d array was expected. Please change the shape of y to (n_samples,), for example using ravel().\n",
      "  return self.fit(X, y, **fit_params).transform(X)\n",
      "//anaconda/lib/python2.7/site-packages/sklearn/base.py:436: DataConversionWarning: A column-vector y was passed when a 1d array was expected. Please change the shape of y to (n_samples,), for example using ravel().\n",
      "  return self.fit(X, y, **fit_params).transform(X)\n"
     ]
    },
    {
     "name": "stdout",
     "output_type": "stream",
     "text": [
      "\n",
      "Number of Estimators:  18\n",
      "Min Leaves:  12\n",
      "Classes:  ['functional' 'functional needs repair' 'non functional']\n",
      "+++++++++++++++++++\n",
      "Accuracy Score:  0.696632996633\n",
      "Precision Score: [ 0.65299419  0.          0.87067518]\n",
      "Recall Score: [ 0.95976727  0.          0.45674009]\n",
      "Fl Score: [ 0.77720415  0.          0.59916782]\n",
      "------------------\n",
      "+++++++++++++++++++\n",
      "Number of Estimators:  18\n",
      "Min Leaves:  13\n",
      "Classes:  ['functional' 'functional needs repair' 'non functional']\n",
      "+++++++++++++++++++\n",
      "Accuracy Score:  0.703367003367\n",
      "Precision Score: [ 0.66101114  0.          0.85880503]\n",
      "Recall Score: [ 0.95493934  0.          0.48123348]\n",
      "Fl Score: [ 0.78124367  0.          0.61682665]\n",
      "------------------\n",
      "+++++++++++++++++++"
     ]
    },
    {
     "name": "stderr",
     "output_type": "stream",
     "text": [
      "//anaconda/lib/python2.7/site-packages/sklearn/base.py:436: DataConversionWarning: A column-vector y was passed when a 1d array was expected. Please change the shape of y to (n_samples,), for example using ravel().\n",
      "  return self.fit(X, y, **fit_params).transform(X)\n",
      "//anaconda/lib/python2.7/site-packages/sklearn/base.py:436: DataConversionWarning: A column-vector y was passed when a 1d array was expected. Please change the shape of y to (n_samples,), for example using ravel().\n",
      "  return self.fit(X, y, **fit_params).transform(X)\n"
     ]
    },
    {
     "name": "stdout",
     "output_type": "stream",
     "text": [
      "\n",
      "Number of Estimators:  18\n",
      "Min Leaves:  14\n",
      "Classes:  ['functional' 'functional needs repair' 'non functional']\n",
      "+++++++++++++++++++\n",
      "Accuracy Score:  0.705185185185\n",
      "Precision Score: [ 0.66163349  0.          0.86412023]\n",
      "Recall Score: [ 0.95469176  0.          0.48634361]\n",
      "Fl Score: [ 0.78159522  0.          0.6223926 ]\n",
      "------------------\n",
      "+++++++++++++++++++\n",
      "Number of Estimators:  18\n",
      "Min Leaves:  15\n",
      "Classes:  ['functional' 'functional needs repair' 'non functional']\n",
      "+++++++++++++++++++\n",
      "Accuracy Score:  0.701750841751\n",
      "Precision Score: [ 0.65910448  0.          0.86176   ]\n",
      "Recall Score: [ 0.95667244  0.          0.47453744]\n",
      "Fl Score: [ 0.7804878   0.          0.61204545]\n",
      "------------------\n",
      "+++++++++++++++++++"
     ]
    },
    {
     "name": "stderr",
     "output_type": "stream",
     "text": [
      "//anaconda/lib/python2.7/site-packages/sklearn/base.py:436: DataConversionWarning: A column-vector y was passed when a 1d array was expected. Please change the shape of y to (n_samples,), for example using ravel().\n",
      "  return self.fit(X, y, **fit_params).transform(X)\n",
      "//anaconda/lib/python2.7/site-packages/sklearn/base.py:436: DataConversionWarning: A column-vector y was passed when a 1d array was expected. Please change the shape of y to (n_samples,), for example using ravel().\n",
      "  return self.fit(X, y, **fit_params).transform(X)\n"
     ]
    },
    {
     "name": "stdout",
     "output_type": "stream",
     "text": [
      "\n",
      "Number of Estimators:  18\n",
      "Min Leaves:  16\n",
      "Classes:  ['functional' 'functional needs repair' 'non functional']\n",
      "+++++++++++++++++++\n",
      "Accuracy Score:  0.703905723906\n",
      "Precision Score: [ 0.66320796  0.          0.84718417]\n",
      "Recall Score: [ 0.94949245  0.          0.49039648]\n",
      "Fl Score: [ 0.78093977  0.          0.62120536]\n",
      "------------------\n",
      "+++++++++++++++++++\n",
      "Number of Estimators:  18\n",
      "Min Leaves:  17\n",
      "Classes:  ['functional' 'functional needs repair' 'non functional']\n",
      "+++++++++++++++++++\n",
      "Accuracy Score:  0.707676767677\n",
      "Precision Score: [ 0.66617353  0.          0.84965764]\n",
      "Recall Score: [ 0.94763555  0.          0.50290749]\n",
      "Fl Score: [ 0.78235985  0.          0.63183529]\n",
      "------------------\n",
      "+++++++++++++++++++"
     ]
    },
    {
     "name": "stderr",
     "output_type": "stream",
     "text": [
      "//anaconda/lib/python2.7/site-packages/sklearn/base.py:436: DataConversionWarning: A column-vector y was passed when a 1d array was expected. Please change the shape of y to (n_samples,), for example using ravel().\n",
      "  return self.fit(X, y, **fit_params).transform(X)\n",
      "//anaconda/lib/python2.7/site-packages/sklearn/base.py:436: DataConversionWarning: A column-vector y was passed when a 1d array was expected. Please change the shape of y to (n_samples,), for example using ravel().\n",
      "  return self.fit(X, y, **fit_params).transform(X)\n"
     ]
    },
    {
     "name": "stdout",
     "output_type": "stream",
     "text": [
      "\n",
      "Number of Estimators:  18\n",
      "Min Leaves:  18\n",
      "Classes:  ['functional' 'functional needs repair' 'non functional']\n",
      "+++++++++++++++++++\n",
      "Accuracy Score:  0.708552188552\n",
      "Precision Score: [ 0.66739415  0.          0.84742268]\n",
      "Recall Score: [ 0.94639762  0.          0.50696035]\n",
      "Fl Score: [ 0.78277786  0.          0.63439912]\n",
      "------------------\n",
      "+++++++++++++++++++\n",
      "Number of Estimators:  18\n",
      "Min Leaves:  19\n",
      "Classes:  ['functional' 'functional needs repair' 'non functional']\n",
      "+++++++++++++++++++\n",
      "Accuracy Score:  0.707609427609\n",
      "Precision Score: [ 0.66450833  0.          0.86042241]\n",
      "Recall Score: [ 0.95283486  0.          0.4953304 ]\n",
      "Fl Score: [ 0.78297136  0.          0.62871841]\n",
      "------------------\n",
      "+++++++++++++++++++"
     ]
    },
    {
     "name": "stderr",
     "output_type": "stream",
     "text": [
      "//anaconda/lib/python2.7/site-packages/sklearn/base.py:436: DataConversionWarning: A column-vector y was passed when a 1d array was expected. Please change the shape of y to (n_samples,), for example using ravel().\n",
      "  return self.fit(X, y, **fit_params).transform(X)\n",
      "//anaconda/lib/python2.7/site-packages/sklearn/base.py:436: DataConversionWarning: A column-vector y was passed when a 1d array was expected. Please change the shape of y to (n_samples,), for example using ravel().\n",
      "  return self.fit(X, y, **fit_params).transform(X)\n"
     ]
    },
    {
     "name": "stdout",
     "output_type": "stream",
     "text": [
      "\n",
      "Number of Estimators:  18\n",
      "Min Leaves:  20\n",
      "Classes:  ['functional' 'functional needs repair' 'non functional']\n",
      "+++++++++++++++++++\n",
      "Accuracy Score:  0.71037037037\n",
      "Precision Score: [ 0.66881589  0.          0.85176401]\n",
      "Recall Score: [ 0.95023521  0.          0.50625551]\n",
      "Fl Score: [ 0.78506776  0.          0.63505747]\n",
      "------------------\n",
      "+++++++++++++++++++\n",
      "Number of Estimators:  19\n",
      "Min Leaves:  2\n",
      "Classes:  ['functional' 'functional needs repair' 'non functional']\n",
      "+++++++++++++++++++\n",
      "Accuracy Score:  0.607070707071\n",
      "Precision Score: [ 0.58318112  0.          0.88822012]\n",
      "Recall Score: [ 0.98811587  0.          0.18202643]\n",
      "Fl Score: [ 0.73347117  0.          0.30213513]\n",
      "------------------\n",
      "+++++++++++++++++++"
     ]
    },
    {
     "name": "stderr",
     "output_type": "stream",
     "text": [
      "//anaconda/lib/python2.7/site-packages/sklearn/base.py:436: DataConversionWarning: A column-vector y was passed when a 1d array was expected. Please change the shape of y to (n_samples,), for example using ravel().\n",
      "  return self.fit(X, y, **fit_params).transform(X)\n",
      "//anaconda/lib/python2.7/site-packages/sklearn/base.py:436: DataConversionWarning: A column-vector y was passed when a 1d array was expected. Please change the shape of y to (n_samples,), for example using ravel().\n",
      "  return self.fit(X, y, **fit_params).transform(X)\n"
     ]
    },
    {
     "name": "stdout",
     "output_type": "stream",
     "text": [
      "\n",
      "Number of Estimators:  19\n",
      "Min Leaves:  3\n",
      "Classes:  ['functional' 'functional needs repair' 'non functional']\n",
      "+++++++++++++++++++\n",
      "Accuracy Score:  0.614545454545\n",
      "Precision Score: [ 0.58802218  0.          0.88528302]\n",
      "Recall Score: [ 0.98452587  0.          0.20669604]\n",
      "Fl Score: [ 0.73628663  0.          0.33514286]\n",
      "------------------\n",
      "+++++++++++++++++++\n",
      "Number of Estimators:  19\n",
      "Min Leaves:  4\n",
      "Classes:  ['functional' 'functional needs repair' 'non functional']\n",
      "+++++++++++++++++++\n",
      "Accuracy Score:  0.693131313131\n",
      "Precision Score: [ 0.64717509  0.          0.89918759]\n",
      "Recall Score: [ 0.97276554  0.          0.42907489]\n",
      "Fl Score: [ 0.77725025  0.          0.58093761]\n",
      "------------------\n",
      "+++++++++++++++++++"
     ]
    },
    {
     "name": "stderr",
     "output_type": "stream",
     "text": [
      "//anaconda/lib/python2.7/site-packages/sklearn/base.py:436: DataConversionWarning: A column-vector y was passed when a 1d array was expected. Please change the shape of y to (n_samples,), for example using ravel().\n",
      "  return self.fit(X, y, **fit_params).transform(X)\n",
      "//anaconda/lib/python2.7/site-packages/sklearn/base.py:436: DataConversionWarning: A column-vector y was passed when a 1d array was expected. Please change the shape of y to (n_samples,), for example using ravel().\n",
      "  return self.fit(X, y, **fit_params).transform(X)\n"
     ]
    },
    {
     "name": "stdout",
     "output_type": "stream",
     "text": [
      "\n",
      "Number of Estimators:  19\n",
      "Min Leaves:  5\n",
      "Classes:  ['functional' 'functional needs repair' 'non functional']\n",
      "+++++++++++++++++++\n",
      "Accuracy Score:  0.697575757576\n",
      "Precision Score: [ 0.65146742  0.          0.89705882]\n",
      "Recall Score: [ 0.97276554  0.          0.44070485]\n",
      "Fl Score: [ 0.78033764  0.          0.59104337]\n",
      "------------------\n",
      "+++++++++++++++++++\n",
      "Number of Estimators:  19\n",
      "Min Leaves:  6\n",
      "Classes:  ['functional' 'functional needs repair' 'non functional']\n",
      "+++++++++++++++++++\n",
      "Accuracy Score:  0.68962962963\n",
      "Precision Score: [ 0.64598691  0.          0.87936622]\n",
      "Recall Score: [ 0.96546175  0.          0.43030837]\n",
      "Fl Score: [ 0.77405588  0.          0.5778514 ]\n",
      "------------------\n",
      "+++++++++++++++++++"
     ]
    },
    {
     "name": "stderr",
     "output_type": "stream",
     "text": [
      "//anaconda/lib/python2.7/site-packages/sklearn/base.py:436: DataConversionWarning: A column-vector y was passed when a 1d array was expected. Please change the shape of y to (n_samples,), for example using ravel().\n",
      "  return self.fit(X, y, **fit_params).transform(X)\n",
      "//anaconda/lib/python2.7/site-packages/sklearn/base.py:436: DataConversionWarning: A column-vector y was passed when a 1d array was expected. Please change the shape of y to (n_samples,), for example using ravel().\n",
      "  return self.fit(X, y, **fit_params).transform(X)\n"
     ]
    },
    {
     "name": "stdout",
     "output_type": "stream",
     "text": [
      "\n",
      "Number of Estimators:  19\n",
      "Min Leaves:  7\n",
      "Classes:  ['functional' 'functional needs repair' 'non functional']\n",
      "+++++++++++++++++++\n",
      "Accuracy Score:  0.694074074074\n",
      "Precision Score: [ 0.64784657  0.          0.89720305]\n",
      "Recall Score: [ 0.97016588  0.          0.43524229]\n",
      "Fl Score: [ 0.77690211  0.          0.58614143]\n",
      "------------------\n",
      "+++++++++++++++++++\n",
      "Number of Estimators:  19\n",
      "Min Leaves:  8\n",
      "Classes:  ['functional' 'functional needs repair' 'non functional']\n",
      "+++++++++++++++++++\n",
      "Accuracy Score:  0.696767676768\n",
      "Precision Score: [ 0.65112607  0.          0.89172879]\n",
      "Recall Score: [ 0.9699183   0.          0.44264317]\n",
      "Fl Score: [ 0.77917558  0.          0.59161564]\n",
      "------------------\n",
      "+++++++++++++++++++"
     ]
    },
    {
     "name": "stderr",
     "output_type": "stream",
     "text": [
      "//anaconda/lib/python2.7/site-packages/sklearn/base.py:436: DataConversionWarning: A column-vector y was passed when a 1d array was expected. Please change the shape of y to (n_samples,), for example using ravel().\n",
      "  return self.fit(X, y, **fit_params).transform(X)\n",
      "//anaconda/lib/python2.7/site-packages/sklearn/base.py:436: DataConversionWarning: A column-vector y was passed when a 1d array was expected. Please change the shape of y to (n_samples,), for example using ravel().\n",
      "  return self.fit(X, y, **fit_params).transform(X)\n"
     ]
    },
    {
     "name": "stdout",
     "output_type": "stream",
     "text": [
      "\n",
      "Number of Estimators:  19\n",
      "Min Leaves:  9\n",
      "Classes:  ['functional' 'functional needs repair' 'non functional']\n",
      "+++++++++++++++++++\n",
      "Accuracy Score:  0.707407407407\n",
      "Precision Score: [ 0.66346401  0.          0.86783589]\n",
      "Recall Score: [ 0.9574152   0.          0.48828194]\n",
      "Fl Score: [ 0.78378515  0.          0.62494362]\n",
      "------------------\n",
      "+++++++++++++++++++\n",
      "Number of Estimators:  19\n",
      "Min Leaves:  10\n",
      "Classes:  ['functional' 'functional needs repair' 'non functional']\n",
      "+++++++++++++++++++\n",
      "Accuracy Score:  0.703164983165\n",
      "Precision Score: [ 0.66058894  0.          0.86016414]\n",
      "Recall Score: [ 0.95531072  0.          0.48017621]\n",
      "Fl Score: [ 0.78107287  0.          0.61630668]\n",
      "------------------\n",
      "+++++++++++++++++++"
     ]
    },
    {
     "name": "stderr",
     "output_type": "stream",
     "text": [
      "//anaconda/lib/python2.7/site-packages/sklearn/base.py:436: DataConversionWarning: A column-vector y was passed when a 1d array was expected. Please change the shape of y to (n_samples,), for example using ravel().\n",
      "  return self.fit(X, y, **fit_params).transform(X)\n",
      "//anaconda/lib/python2.7/site-packages/sklearn/base.py:436: DataConversionWarning: A column-vector y was passed when a 1d array was expected. Please change the shape of y to (n_samples,), for example using ravel().\n",
      "  return self.fit(X, y, **fit_params).transform(X)\n"
     ]
    },
    {
     "name": "stdout",
     "output_type": "stream",
     "text": [
      "\n",
      "Number of Estimators:  19\n",
      "Min Leaves:  11\n",
      "Classes:  ['functional' 'functional needs repair' 'non functional']\n",
      "+++++++++++++++++++\n",
      "Accuracy Score:  0.700808080808\n",
      "Precision Score: [ 0.65683374  0.          0.8731368 ]\n",
      "Recall Score: [ 0.96199554  0.          0.46449339]\n",
      "Fl Score: [ 0.78065197  0.          0.60639522]\n",
      "------------------\n",
      "+++++++++++++++++++\n",
      "Number of Estimators:  19\n",
      "Min Leaves:  12\n",
      "Classes:  ['functional' 'functional needs repair' 'non functional']\n",
      "+++++++++++++++++++\n",
      "Accuracy Score:  0.681750841751\n",
      "Precision Score: [ 0.64565199  0.          0.82333444]\n",
      "Recall Score: [ 0.94577866  0.          0.43770925]\n",
      "Fl Score: [ 0.767415    0.          0.57156006]\n",
      "------------------\n",
      "+++++++++++++++++++"
     ]
    },
    {
     "name": "stderr",
     "output_type": "stream",
     "text": [
      "//anaconda/lib/python2.7/site-packages/sklearn/base.py:436: DataConversionWarning: A column-vector y was passed when a 1d array was expected. Please change the shape of y to (n_samples,), for example using ravel().\n",
      "  return self.fit(X, y, **fit_params).transform(X)\n",
      "//anaconda/lib/python2.7/site-packages/sklearn/base.py:436: DataConversionWarning: A column-vector y was passed when a 1d array was expected. Please change the shape of y to (n_samples,), for example using ravel().\n",
      "  return self.fit(X, y, **fit_params).transform(X)\n"
     ]
    },
    {
     "name": "stdout",
     "output_type": "stream",
     "text": [
      "\n",
      "Number of Estimators:  19\n",
      "Min Leaves:  13\n",
      "Classes:  ['functional' 'functional needs repair' 'non functional']\n",
      "+++++++++++++++++++\n",
      "Accuracy Score:  0.70228956229\n",
      "Precision Score: [ 0.65949821  0.          0.86238825]\n",
      "Recall Score: [ 0.95667244  0.          0.47594714]\n",
      "Fl Score: [ 0.78076379  0.          0.61337572]\n",
      "------------------\n",
      "+++++++++++++++++++\n",
      "Number of Estimators:  19\n",
      "Min Leaves:  14\n",
      "Classes:  ['functional' 'functional needs repair' 'non functional']\n",
      "+++++++++++++++++++\n",
      "Accuracy Score:  0.704107744108\n",
      "Precision Score: [ 0.66434843  0.          0.84075291]\n",
      "Recall Score: [ 0.94602624  0.          0.49585903]\n",
      "Fl Score: [ 0.78055258  0.          0.62380847]\n",
      "------------------\n",
      "+++++++++++++++++++"
     ]
    },
    {
     "name": "stderr",
     "output_type": "stream",
     "text": [
      "//anaconda/lib/python2.7/site-packages/sklearn/base.py:436: DataConversionWarning: A column-vector y was passed when a 1d array was expected. Please change the shape of y to (n_samples,), for example using ravel().\n",
      "  return self.fit(X, y, **fit_params).transform(X)\n",
      "//anaconda/lib/python2.7/site-packages/sklearn/base.py:436: DataConversionWarning: A column-vector y was passed when a 1d array was expected. Please change the shape of y to (n_samples,), for example using ravel().\n",
      "  return self.fit(X, y, **fit_params).transform(X)\n"
     ]
    },
    {
     "name": "stdout",
     "output_type": "stream",
     "text": [
      "\n",
      "Number of Estimators:  19\n",
      "Min Leaves:  15\n",
      "Classes:  ['functional' 'functional needs repair' 'non functional']\n",
      "+++++++++++++++++++\n",
      "Accuracy Score:  0.708148148148\n",
      "Precision Score: [ 0.66525898  0.          0.86141053]\n",
      "Recall Score: [ 0.95555831  0.          0.49286344]\n",
      "Fl Score: [ 0.78441136  0.          0.62698946]\n",
      "------------------\n",
      "+++++++++++++++++++\n",
      "Number of Estimators:  19\n",
      "Min Leaves:  16\n",
      "Classes:  ['functional' 'functional needs repair' 'non functional']\n",
      "+++++++++++++++++++\n",
      "Accuracy Score:  0.705050505051\n",
      "Precision Score: [ 0.66353448  0.          0.85323077]\n",
      "Recall Score: [ 0.95283486  0.          0.48863436]\n",
      "Fl Score: [ 0.78229495  0.          0.62140056]\n",
      "------------------\n",
      "+++++++++++++++++++"
     ]
    },
    {
     "name": "stderr",
     "output_type": "stream",
     "text": [
      "//anaconda/lib/python2.7/site-packages/sklearn/base.py:436: DataConversionWarning: A column-vector y was passed when a 1d array was expected. Please change the shape of y to (n_samples,), for example using ravel().\n",
      "  return self.fit(X, y, **fit_params).transform(X)\n",
      "//anaconda/lib/python2.7/site-packages/sklearn/base.py:436: DataConversionWarning: A column-vector y was passed when a 1d array was expected. Please change the shape of y to (n_samples,), for example using ravel().\n",
      "  return self.fit(X, y, **fit_params).transform(X)\n"
     ]
    },
    {
     "name": "stdout",
     "output_type": "stream",
     "text": [
      "\n",
      "Number of Estimators:  19\n",
      "Min Leaves:  17\n",
      "Classes:  ['functional' 'functional needs repair' 'non functional']\n",
      "+++++++++++++++++++\n",
      "Accuracy Score:  0.70734006734\n",
      "Precision Score: [ 0.66640591  0.          0.84813154]\n",
      "Recall Score: [ 0.94912107  0.          0.49991189]\n",
      "Fl Score: [ 0.78302609  0.          0.62904656]\n",
      "------------------\n",
      "+++++++++++++++++++\n",
      "Number of Estimators:  19\n",
      "Min Leaves:  18\n",
      "Classes:  ['functional' 'functional needs repair' 'non functional']\n",
      "+++++++++++++++++++\n",
      "Accuracy Score:  0.708821548822\n",
      "Precision Score: [ 0.66384326  0.          0.87507906]\n",
      "Recall Score: [ 0.96051003  0.          0.48757709]\n",
      "Fl Score: [ 0.7850855   0.          0.62623062]\n",
      "------------------\n",
      "+++++++++++++++++++"
     ]
    },
    {
     "name": "stderr",
     "output_type": "stream",
     "text": [
      "//anaconda/lib/python2.7/site-packages/sklearn/base.py:436: DataConversionWarning: A column-vector y was passed when a 1d array was expected. Please change the shape of y to (n_samples,), for example using ravel().\n",
      "  return self.fit(X, y, **fit_params).transform(X)\n",
      "//anaconda/lib/python2.7/site-packages/sklearn/base.py:436: DataConversionWarning: A column-vector y was passed when a 1d array was expected. Please change the shape of y to (n_samples,), for example using ravel().\n",
      "  return self.fit(X, y, **fit_params).transform(X)\n"
     ]
    },
    {
     "name": "stdout",
     "output_type": "stream",
     "text": [
      "\n",
      "Number of Estimators:  19\n",
      "Min Leaves:  19\n",
      "Classes:  ['functional' 'functional needs repair' 'non functional']\n",
      "+++++++++++++++++++\n",
      "Accuracy Score:  0.700673400673\n",
      "Precision Score: [ 0.65756106  0.          0.86414973]\n",
      "Recall Score: [ 0.95654865  0.          0.47189427]\n",
      "Fl Score: [ 0.77936356  0.          0.61043994]\n",
      "------------------\n",
      "+++++++++++++++++++\n",
      "Number of Estimators:  19\n",
      "Min Leaves:  20\n",
      "Classes:  ['functional' 'functional needs repair' 'non functional']\n",
      "+++++++++++++++++++\n",
      "Accuracy Score:  0.711111111111\n",
      "Precision Score: [ 0.66802532  0.          0.86080145]\n",
      "Recall Score: [ 0.95357762  0.          0.50343612]\n",
      "Fl Score: [ 0.78565965  0.          0.63531243]\n",
      "------------------\n",
      "+++++++++++++++++++"
     ]
    },
    {
     "name": "stderr",
     "output_type": "stream",
     "text": [
      "//anaconda/lib/python2.7/site-packages/sklearn/base.py:436: DataConversionWarning: A column-vector y was passed when a 1d array was expected. Please change the shape of y to (n_samples,), for example using ravel().\n",
      "  return self.fit(X, y, **fit_params).transform(X)\n",
      "//anaconda/lib/python2.7/site-packages/sklearn/base.py:436: DataConversionWarning: A column-vector y was passed when a 1d array was expected. Please change the shape of y to (n_samples,), for example using ravel().\n",
      "  return self.fit(X, y, **fit_params).transform(X)\n"
     ]
    },
    {
     "name": "stdout",
     "output_type": "stream",
     "text": [
      "\n",
      "Number of Estimators:  20\n",
      "Min Leaves:  2\n",
      "Classes:  ['functional' 'functional needs repair' 'non functional']\n",
      "+++++++++++++++++++\n",
      "Accuracy Score:  0.643569023569\n",
      "Precision Score: [ 0.6054201  0.         0.9588272]\n",
      "Recall Score: [ 0.99282   0.        0.270837]\n",
      "Fl Score: [ 0.75216882  0.          0.42236878]\n",
      "------------------\n",
      "+++++++++++++++++++\n",
      "Number of Estimators:  20\n",
      "Min Leaves:  3\n",
      "Classes:  ['functional' 'functional needs repair' 'non functional']\n",
      "+++++++++++++++++++\n",
      "Accuracy Score:  0.664444444444\n",
      "Precision Score: [ 0.62361944  0.          0.9024839 ]\n",
      "Recall Score: [ 0.97858381  0.          0.34572687]\n",
      "Fl Score: [ 0.76178086  0.          0.4999363 ]\n",
      "------------------\n",
      "+++++++++++++++++++"
     ]
    },
    {
     "name": "stderr",
     "output_type": "stream",
     "text": [
      "//anaconda/lib/python2.7/site-packages/sklearn/base.py:436: DataConversionWarning: A column-vector y was passed when a 1d array was expected. Please change the shape of y to (n_samples,), for example using ravel().\n",
      "  return self.fit(X, y, **fit_params).transform(X)\n",
      "//anaconda/lib/python2.7/site-packages/sklearn/base.py:436: DataConversionWarning: A column-vector y was passed when a 1d array was expected. Please change the shape of y to (n_samples,), for example using ravel().\n",
      "  return self.fit(X, y, **fit_params).transform(X)\n"
     ]
    },
    {
     "name": "stdout",
     "output_type": "stream",
     "text": [
      "\n",
      "Number of Estimators:  20\n",
      "Min Leaves:  4\n",
      "Classes:  ['functional' 'functional needs repair' 'non functional']\n",
      "+++++++++++++++++++\n",
      "Accuracy Score:  0.684713804714\n",
      "Precision Score: [ 0.64085371  0.          0.88935521]\n",
      "Recall Score: [ 0.97016588  0.          0.4107489 ]\n",
      "Fl Score: [ 0.77185207  0.          0.56195757]\n",
      "------------------\n",
      "+++++++++++++++++++\n",
      "Number of Estimators:  20\n",
      "Min Leaves:  5\n",
      "Classes:  ['functional' 'functional needs repair' 'non functional']\n",
      "+++++++++++++++++++\n",
      "Accuracy Score:  0.682895622896\n",
      "Precision Score: [ 0.64032139  0.          0.87862797]\n",
      "Recall Score: [ 0.96682347  0.          0.4107489 ]\n",
      "Fl Score: [ 0.77040691  0.          0.55979827]\n",
      "------------------\n",
      "+++++++++++++++++++"
     ]
    },
    {
     "name": "stderr",
     "output_type": "stream",
     "text": [
      "//anaconda/lib/python2.7/site-packages/sklearn/base.py:436: DataConversionWarning: A column-vector y was passed when a 1d array was expected. Please change the shape of y to (n_samples,), for example using ravel().\n",
      "  return self.fit(X, y, **fit_params).transform(X)\n",
      "//anaconda/lib/python2.7/site-packages/sklearn/base.py:436: DataConversionWarning: A column-vector y was passed when a 1d array was expected. Please change the shape of y to (n_samples,), for example using ravel().\n",
      "  return self.fit(X, y, **fit_params).transform(X)\n"
     ]
    },
    {
     "name": "stdout",
     "output_type": "stream",
     "text": [
      "\n",
      "Number of Estimators:  20\n",
      "Min Leaves:  6\n",
      "Classes:  ['functional' 'functional needs repair' 'non functional']\n",
      "+++++++++++++++++++\n",
      "Accuracy Score:  0.691919191919\n",
      "Precision Score: [ 0.64732254  0.          0.88342246]\n",
      "Recall Score: [ 0.96521416  0.          0.43665198]\n",
      "Fl Score: [ 0.77493415  0.          0.58443396]\n",
      "------------------\n",
      "+++++++++++++++++++\n",
      "Number of Estimators:  20\n",
      "Min Leaves:  7\n",
      "Classes:  ['functional' 'functional needs repair' 'non functional']\n",
      "+++++++++++++++++++\n",
      "Accuracy Score:  0.648821548822\n",
      "Precision Score: [ 0.61651637  0.          0.83378623]\n",
      "Recall Score: [ 0.96484278  0.          0.32440529]\n",
      "Fl Score: [ 0.7523166   0.          0.46708106]\n",
      "------------------\n",
      "+++++++++++++++++++"
     ]
    },
    {
     "name": "stderr",
     "output_type": "stream",
     "text": [
      "//anaconda/lib/python2.7/site-packages/sklearn/base.py:436: DataConversionWarning: A column-vector y was passed when a 1d array was expected. Please change the shape of y to (n_samples,), for example using ravel().\n",
      "  return self.fit(X, y, **fit_params).transform(X)\n",
      "//anaconda/lib/python2.7/site-packages/sklearn/base.py:436: DataConversionWarning: A column-vector y was passed when a 1d array was expected. Please change the shape of y to (n_samples,), for example using ravel().\n",
      "  return self.fit(X, y, **fit_params).transform(X)\n"
     ]
    },
    {
     "name": "stdout",
     "output_type": "stream",
     "text": [
      "\n",
      "Number of Estimators:  20\n",
      "Min Leaves:  8\n",
      "Classes:  ['functional' 'functional needs repair' 'non functional']\n",
      "+++++++++++++++++++\n",
      "Accuracy Score:  0.695757575758\n",
      "Precision Score: [ 0.65438492  0.          0.85444481]\n",
      "Recall Score: [ 0.95419658  0.          0.46237885]\n",
      "Fl Score: [ 0.77635091  0.          0.60004574]\n",
      "------------------\n",
      "+++++++++++++++++++\n",
      "Number of Estimators:  20\n",
      "Min Leaves:  9\n",
      "Classes:  ['functional' 'functional needs repair' 'non functional']\n",
      "+++++++++++++++++++\n",
      "Accuracy Score:  0.690505050505\n",
      "Precision Score: [ 0.6476127   0.          0.87118287]\n",
      "Recall Score: [ 0.96211934  0.          0.43735683]\n",
      "Fl Score: [ 0.77414214  0.          0.5823557 ]\n",
      "------------------\n",
      "+++++++++++++++++++"
     ]
    },
    {
     "name": "stderr",
     "output_type": "stream",
     "text": [
      "//anaconda/lib/python2.7/site-packages/sklearn/base.py:436: DataConversionWarning: A column-vector y was passed when a 1d array was expected. Please change the shape of y to (n_samples,), for example using ravel().\n",
      "  return self.fit(X, y, **fit_params).transform(X)\n",
      "//anaconda/lib/python2.7/site-packages/sklearn/base.py:436: DataConversionWarning: A column-vector y was passed when a 1d array was expected. Please change the shape of y to (n_samples,), for example using ravel().\n",
      "  return self.fit(X, y, **fit_params).transform(X)\n"
     ]
    },
    {
     "name": "stdout",
     "output_type": "stream",
     "text": [
      "\n",
      "Number of Estimators:  20\n",
      "Min Leaves:  10\n",
      "Classes:  ['functional' 'functional needs repair' 'non functional']\n",
      "+++++++++++++++++++\n",
      "Accuracy Score:  0.69898989899\n",
      "Precision Score: [ 0.6555593   0.          0.87082777]\n",
      "Recall Score: [ 0.96199554  0.          0.45973568]\n",
      "Fl Score: [ 0.77975115  0.          0.60177604]\n",
      "------------------\n",
      "+++++++++++++++++++\n",
      "Number of Estimators:  20\n",
      "Min Leaves:  11\n",
      "Classes:  ['functional' 'functional needs repair' 'non functional']\n",
      "+++++++++++++++++++\n",
      "Accuracy Score:  0.703434343434\n",
      "Precision Score: [ 0.65959079  0.          0.86826923]\n",
      "Recall Score: [ 0.95778658  0.          0.47735683]\n",
      "Fl Score: [ 0.78119952  0.          0.61603184]\n",
      "------------------\n",
      "+++++++++++++++++++"
     ]
    },
    {
     "name": "stderr",
     "output_type": "stream",
     "text": [
      "//anaconda/lib/python2.7/site-packages/sklearn/base.py:436: DataConversionWarning: A column-vector y was passed when a 1d array was expected. Please change the shape of y to (n_samples,), for example using ravel().\n",
      "  return self.fit(X, y, **fit_params).transform(X)\n",
      "//anaconda/lib/python2.7/site-packages/sklearn/base.py:436: DataConversionWarning: A column-vector y was passed when a 1d array was expected. Please change the shape of y to (n_samples,), for example using ravel().\n",
      "  return self.fit(X, y, **fit_params).transform(X)\n"
     ]
    },
    {
     "name": "stdout",
     "output_type": "stream",
     "text": [
      "\n",
      "Number of Estimators:  20\n",
      "Min Leaves:  12\n",
      "Classes:  ['functional' 'functional needs repair' 'non functional']\n",
      "+++++++++++++++++++\n",
      "Accuracy Score:  0.70861952862\n",
      "Precision Score: [ 0.66414705  0.          0.87001247]\n",
      "Recall Score: [ 0.95716762  0.          0.49180617]\n",
      "Fl Score: [ 0.7841785   0.          0.62839131]\n",
      "------------------\n",
      "+++++++++++++++++++\n",
      "Number of Estimators:  20\n",
      "Min Leaves:  13\n",
      "Classes:  ['functional' 'functional needs repair' 'non functional']\n",
      "+++++++++++++++++++\n",
      "Accuracy Score:  0.699865319865\n",
      "Precision Score: [ 0.65758092  0.          0.85948553]\n",
      "Recall Score: [ 0.9556821   0.          0.47101322]\n",
      "Fl Score: [ 0.77908972  0.          0.60853728]\n",
      "------------------\n",
      "+++++++++++++++++++"
     ]
    },
    {
     "name": "stderr",
     "output_type": "stream",
     "text": [
      "//anaconda/lib/python2.7/site-packages/sklearn/base.py:436: DataConversionWarning: A column-vector y was passed when a 1d array was expected. Please change the shape of y to (n_samples,), for example using ravel().\n",
      "  return self.fit(X, y, **fit_params).transform(X)\n",
      "//anaconda/lib/python2.7/site-packages/sklearn/base.py:436: DataConversionWarning: A column-vector y was passed when a 1d array was expected. Please change the shape of y to (n_samples,), for example using ravel().\n",
      "  return self.fit(X, y, **fit_params).transform(X)\n"
     ]
    },
    {
     "name": "stdout",
     "output_type": "stream",
     "text": [
      "\n",
      "Number of Estimators:  20\n",
      "Min Leaves:  14\n",
      "Classes:  ['functional' 'functional needs repair' 'non functional']\n",
      "+++++++++++++++++++\n",
      "Accuracy Score:  0.697306397306\n",
      "Precision Score: [ 0.6560184  0.         0.8531019]\n",
      "Recall Score: [ 0.95333003  0.          0.4676652 ]\n",
      "Fl Score: [ 0.77721149  0.          0.60414295]\n",
      "------------------\n",
      "+++++++++++++++++++\n",
      "Number of Estimators:  20\n",
      "Min Leaves:  15\n",
      "Classes:  ['functional' 'functional needs repair' 'non functional']\n",
      "+++++++++++++++++++\n",
      "Accuracy Score:  0.707070707071\n",
      "Precision Score: [ 0.66499133  0.          0.85377644]\n",
      "Recall Score: [ 0.94998762  0.          0.49797357]\n",
      "Fl Score: [ 0.78234275  0.          0.62904841]\n",
      "------------------\n",
      "+++++++++++++++++++"
     ]
    },
    {
     "name": "stderr",
     "output_type": "stream",
     "text": [
      "//anaconda/lib/python2.7/site-packages/sklearn/base.py:436: DataConversionWarning: A column-vector y was passed when a 1d array was expected. Please change the shape of y to (n_samples,), for example using ravel().\n",
      "  return self.fit(X, y, **fit_params).transform(X)\n",
      "//anaconda/lib/python2.7/site-packages/sklearn/base.py:436: DataConversionWarning: A column-vector y was passed when a 1d array was expected. Please change the shape of y to (n_samples,), for example using ravel().\n",
      "  return self.fit(X, y, **fit_params).transform(X)\n"
     ]
    },
    {
     "name": "stdout",
     "output_type": "stream",
     "text": [
      "\n",
      "Number of Estimators:  20\n",
      "Min Leaves:  16\n",
      "Classes:  ['functional' 'functional needs repair' 'non functional']\n",
      "+++++++++++++++++++\n",
      "Accuracy Score:  0.690235690236\n",
      "Precision Score: [ 0.65050351  0.          0.84503792]\n",
      "Recall Score: [ 0.95159693  0.          0.45162996]\n",
      "Fl Score: [ 0.77275697  0.          0.58865411]\n",
      "------------------\n",
      "+++++++++++++++++++\n",
      "Number of Estimators:  20\n",
      "Min Leaves:  17\n",
      "Classes:  ['functional' 'functional needs repair' 'non functional']\n",
      "+++++++++++++++++++\n",
      "Accuracy Score:  0.692794612795\n",
      "Precision Score: [ 0.65253159  0.          0.84798954]\n",
      "Recall Score: [ 0.95246348  0.          0.45709251]\n",
      "Fl Score: [ 0.7744728   0.          0.59400046]\n",
      "------------------\n",
      "+++++++++++++++++++"
     ]
    },
    {
     "name": "stderr",
     "output_type": "stream",
     "text": [
      "//anaconda/lib/python2.7/site-packages/sklearn/base.py:436: DataConversionWarning: A column-vector y was passed when a 1d array was expected. Please change the shape of y to (n_samples,), for example using ravel().\n",
      "  return self.fit(X, y, **fit_params).transform(X)\n",
      "//anaconda/lib/python2.7/site-packages/sklearn/base.py:436: DataConversionWarning: A column-vector y was passed when a 1d array was expected. Please change the shape of y to (n_samples,), for example using ravel().\n",
      "  return self.fit(X, y, **fit_params).transform(X)\n"
     ]
    },
    {
     "name": "stdout",
     "output_type": "stream",
     "text": [
      "\n",
      "Number of Estimators:  20\n",
      "Min Leaves:  18\n",
      "Classes:  ['functional' 'functional needs repair' 'non functional']\n",
      "+++++++++++++++++++\n",
      "Accuracy Score:  0.707676767677\n",
      "Precision Score: [ 0.66511186  0.          0.85823404]\n",
      "Recall Score: [ 0.95320624  0.          0.49497797]\n",
      "Fl Score: [ 0.78351564  0.          0.6278498 ]\n",
      "------------------\n",
      "+++++++++++++++++++\n",
      "Number of Estimators:  20\n",
      "Min Leaves:  19\n",
      "Classes:  ['functional' 'functional needs repair' 'non functional']\n",
      "+++++++++++++++++++\n",
      "Accuracy Score:  0.709292929293\n",
      "Precision Score: [ 0.66800489  0.          0.84876179]\n",
      "Recall Score: [ 0.94751176  0.          0.50731278]\n",
      "Fl Score: [ 0.78357903  0.          0.63505018]\n",
      "------------------\n",
      "+++++++++++++++++++"
     ]
    },
    {
     "name": "stderr",
     "output_type": "stream",
     "text": [
      "//anaconda/lib/python2.7/site-packages/sklearn/base.py:436: DataConversionWarning: A column-vector y was passed when a 1d array was expected. Please change the shape of y to (n_samples,), for example using ravel().\n",
      "  return self.fit(X, y, **fit_params).transform(X)\n",
      "//anaconda/lib/python2.7/site-packages/sklearn/base.py:436: DataConversionWarning: A column-vector y was passed when a 1d array was expected. Please change the shape of y to (n_samples,), for example using ravel().\n",
      "  return self.fit(X, y, **fit_params).transform(X)\n"
     ]
    },
    {
     "name": "stdout",
     "output_type": "stream",
     "text": [
      "\n",
      "Number of Estimators:  20\n",
      "Min Leaves:  20\n",
      "Classes:  ['functional' 'functional needs repair' 'non functional']\n",
      "+++++++++++++++++++\n",
      "Accuracy Score:  0.707070707071\n",
      "Precision Score: [ 0.6652821   0.          0.85367335]\n",
      "Recall Score: [ 0.95172072  0.          0.49550661]\n",
      "Fl Score: [ 0.7831313   0.          0.62704872]\n",
      "------------------\n",
      "+++++++++++++++++++\n",
      "Number of Estimators:  21\n",
      "Min Leaves:  2\n",
      "Classes:  ['functional' 'functional needs repair' 'non functional']\n",
      "+++++++++++++++++++\n",
      "Accuracy Score:  0.612929292929\n",
      "Precision Score: [ 0.58799941  0.          0.85549133]\n",
      "Recall Score: [ 0.98019312  0.          0.20863436]\n",
      "Fl Score: [ 0.73505384  0.          0.33545828]\n",
      "------------------\n",
      "+++++++++++++++++++"
     ]
    },
    {
     "name": "stderr",
     "output_type": "stream",
     "text": [
      "//anaconda/lib/python2.7/site-packages/sklearn/base.py:436: DataConversionWarning: A column-vector y was passed when a 1d array was expected. Please change the shape of y to (n_samples,), for example using ravel().\n",
      "  return self.fit(X, y, **fit_params).transform(X)\n",
      "//anaconda/lib/python2.7/site-packages/sklearn/base.py:436: DataConversionWarning: A column-vector y was passed when a 1d array was expected. Please change the shape of y to (n_samples,), for example using ravel().\n",
      "  return self.fit(X, y, **fit_params).transform(X)\n"
     ]
    },
    {
     "name": "stdout",
     "output_type": "stream",
     "text": [
      "\n",
      "Number of Estimators:  21\n",
      "Min Leaves:  3\n",
      "Classes:  ['functional' 'functional needs repair' 'non functional']\n",
      "+++++++++++++++++++\n",
      "Accuracy Score:  0.680538720539\n",
      "Precision Score: [ 0.6355973   0.          0.91436926]\n",
      "Recall Score: [ 0.98006932  0.          0.38572687]\n",
      "Fl Score: [ 0.77111133  0.          0.54257033]\n",
      "------------------\n",
      "+++++++++++++++++++\n",
      "Number of Estimators:  21\n",
      "Min Leaves:  4\n",
      "Classes:  ['functional' 'functional needs repair' 'non functional']\n",
      "+++++++++++++++++++\n",
      "Accuracy Score:  0.68202020202\n",
      "Precision Score: [ 0.63816695  0.          0.8987595 ]\n",
      "Recall Score: [ 0.97573657  0.          0.39577093]\n",
      "Fl Score: [ 0.77164815  0.          0.54954735]\n",
      "------------------\n",
      "+++++++++++++++++++"
     ]
    },
    {
     "name": "stderr",
     "output_type": "stream",
     "text": [
      "//anaconda/lib/python2.7/site-packages/sklearn/base.py:436: DataConversionWarning: A column-vector y was passed when a 1d array was expected. Please change the shape of y to (n_samples,), for example using ravel().\n",
      "  return self.fit(X, y, **fit_params).transform(X)\n",
      "//anaconda/lib/python2.7/site-packages/sklearn/base.py:436: DataConversionWarning: A column-vector y was passed when a 1d array was expected. Please change the shape of y to (n_samples,), for example using ravel().\n",
      "  return self.fit(X, y, **fit_params).transform(X)\n"
     ]
    },
    {
     "name": "stdout",
     "output_type": "stream",
     "text": [
      "\n",
      "Number of Estimators:  21\n",
      "Min Leaves:  5\n",
      "Classes:  ['functional' 'functional needs repair' 'non functional']\n",
      "+++++++++++++++++++\n",
      "Accuracy Score:  0.684242424242\n",
      "Precision Score: [ 0.64546368  0.          0.84390076]\n",
      "Recall Score: [ 0.95469176  0.          0.43154185]\n",
      "Fl Score: [ 0.77019874  0.          0.57106214]\n",
      "------------------\n",
      "+++++++++++++++++++\n",
      "Number of Estimators:  21\n",
      "Min Leaves:  6\n",
      "Classes:  ['functional' 'functional needs repair' 'non functional']\n",
      "+++++++++++++++++++\n",
      "Accuracy Score:  0.695824915825\n",
      "Precision Score: [ 0.65185061  0.          0.8785144 ]\n",
      "Recall Score: [ 0.96583313  0.          0.44599119]\n",
      "Fl Score: [ 0.77837083  0.          0.5916316 ]\n",
      "------------------\n",
      "+++++++++++++++++++"
     ]
    },
    {
     "name": "stderr",
     "output_type": "stream",
     "text": [
      "//anaconda/lib/python2.7/site-packages/sklearn/base.py:436: DataConversionWarning: A column-vector y was passed when a 1d array was expected. Please change the shape of y to (n_samples,), for example using ravel().\n",
      "  return self.fit(X, y, **fit_params).transform(X)\n",
      "//anaconda/lib/python2.7/site-packages/sklearn/base.py:436: DataConversionWarning: A column-vector y was passed when a 1d array was expected. Please change the shape of y to (n_samples,), for example using ravel().\n",
      "  return self.fit(X, y, **fit_params).transform(X)\n"
     ]
    },
    {
     "name": "stdout",
     "output_type": "stream",
     "text": [
      "\n",
      "Number of Estimators:  21\n",
      "Min Leaves:  7\n",
      "Classes:  ['functional' 'functional needs repair' 'non functional']\n",
      "+++++++++++++++++++\n",
      "Accuracy Score:  0.671919191919\n",
      "Precision Score: [ 0.63280423  0.          0.85925926]\n",
      "Recall Score: [ 0.96236692  0.          0.38837004]\n",
      "Fl Score: [ 0.76354172  0.          0.53495146]\n",
      "------------------\n",
      "+++++++++++++++++++\n",
      "Number of Estimators:  21\n",
      "Min Leaves:  8\n",
      "Classes:  ['functional' 'functional needs repair' 'non functional']\n",
      "+++++++++++++++++++\n",
      "Accuracy Score:  0.709225589226\n",
      "Precision Score: [ 0.66574752  0.          0.86471495]\n",
      "Recall Score: [ 0.95642486  0.          0.49444934]\n",
      "Fl Score: [ 0.78504293  0.          0.62914798]\n",
      "------------------\n",
      "+++++++++++++++++++"
     ]
    },
    {
     "name": "stderr",
     "output_type": "stream",
     "text": [
      "//anaconda/lib/python2.7/site-packages/sklearn/base.py:436: DataConversionWarning: A column-vector y was passed when a 1d array was expected. Please change the shape of y to (n_samples,), for example using ravel().\n",
      "  return self.fit(X, y, **fit_params).transform(X)\n",
      "//anaconda/lib/python2.7/site-packages/sklearn/base.py:436: DataConversionWarning: A column-vector y was passed when a 1d array was expected. Please change the shape of y to (n_samples,), for example using ravel().\n",
      "  return self.fit(X, y, **fit_params).transform(X)\n"
     ]
    },
    {
     "name": "stdout",
     "output_type": "stream",
     "text": [
      "\n",
      "Number of Estimators:  21\n",
      "Min Leaves:  9\n",
      "Classes:  ['functional' 'functional needs repair' 'non functional']\n",
      "+++++++++++++++++++\n",
      "Accuracy Score:  0.697777777778\n",
      "Precision Score: [ 0.65232587  0.          0.89057536]\n",
      "Recall Score: [ 0.97041347  0.          0.4445815 ]\n",
      "Fl Score: [ 0.78019408  0.          0.59308886]\n",
      "------------------\n",
      "+++++++++++++++++++\n",
      "Number of Estimators:  21\n",
      "Min Leaves:  10\n",
      "Classes:  ['functional' 'functional needs repair' 'non functional']\n",
      "+++++++++++++++++++\n",
      "Accuracy Score:  0.705925925926\n",
      "Precision Score: [ 0.66118869  0.          0.87508049]\n",
      "Recall Score: [ 0.96125279  0.          0.47894273]\n",
      "Fl Score: [ 0.78347291  0.          0.61906389]\n",
      "------------------\n",
      "+++++++++++++++++++"
     ]
    },
    {
     "name": "stderr",
     "output_type": "stream",
     "text": [
      "//anaconda/lib/python2.7/site-packages/sklearn/base.py:436: DataConversionWarning: A column-vector y was passed when a 1d array was expected. Please change the shape of y to (n_samples,), for example using ravel().\n",
      "  return self.fit(X, y, **fit_params).transform(X)\n",
      "//anaconda/lib/python2.7/site-packages/sklearn/base.py:436: DataConversionWarning: A column-vector y was passed when a 1d array was expected. Please change the shape of y to (n_samples,), for example using ravel().\n",
      "  return self.fit(X, y, **fit_params).transform(X)\n"
     ]
    },
    {
     "name": "stdout",
     "output_type": "stream",
     "text": [
      "\n",
      "Number of Estimators:  21\n",
      "Min Leaves:  11\n",
      "Classes:  ['functional' 'functional needs repair' 'non functional']\n",
      "+++++++++++++++++++\n",
      "Accuracy Score:  0.699797979798\n",
      "Precision Score: [ 0.65814588  0.          0.85677585]\n",
      "Recall Score: [ 0.95617727  0.          0.47013216]\n",
      "Fl Score: [ 0.77965075  0.          0.60712254]\n",
      "------------------\n",
      "+++++++++++++++++++\n",
      "Number of Estimators:  21\n",
      "Min Leaves:  12\n",
      "Classes:  ['functional' 'functional needs repair' 'non functional']\n",
      "+++++++++++++++++++\n",
      "Accuracy Score:  0.701548821549\n",
      "Precision Score: [ 0.65946177  0.          0.8581876 ]\n",
      "Recall Score: [ 0.95555831  0.          0.47559471]\n",
      "Fl Score: [ 0.78036698  0.          0.61201814]\n",
      "------------------\n",
      "+++++++++++++++++++"
     ]
    },
    {
     "name": "stderr",
     "output_type": "stream",
     "text": [
      "//anaconda/lib/python2.7/site-packages/sklearn/base.py:436: DataConversionWarning: A column-vector y was passed when a 1d array was expected. Please change the shape of y to (n_samples,), for example using ravel().\n",
      "  return self.fit(X, y, **fit_params).transform(X)\n",
      "//anaconda/lib/python2.7/site-packages/sklearn/base.py:436: DataConversionWarning: A column-vector y was passed when a 1d array was expected. Please change the shape of y to (n_samples,), for example using ravel().\n",
      "  return self.fit(X, y, **fit_params).transform(X)\n"
     ]
    },
    {
     "name": "stdout",
     "output_type": "stream",
     "text": [
      "\n",
      "Number of Estimators:  21\n",
      "Min Leaves:  13\n",
      "Classes:  ['functional' 'functional needs repair' 'non functional']\n",
      "+++++++++++++++++++\n",
      "Accuracy Score:  0.703501683502\n",
      "Precision Score: [ 0.66212017  0.          0.85027557]\n",
      "Recall Score: [ 0.94949245  0.          0.48933921]\n",
      "Fl Score: [ 0.78018513  0.          0.62118331]\n",
      "------------------\n",
      "+++++++++++++++++++\n",
      "Number of Estimators:  21\n",
      "Min Leaves:  14\n",
      "Classes:  ['functional' 'functional needs repair' 'non functional']\n",
      "+++++++++++++++++++\n",
      "Accuracy Score:  0.709023569024\n",
      "Precision Score: [ 0.66649351  0.          0.85787879]\n",
      "Recall Score: [ 0.95295865  0.          0.49885463]\n",
      "Fl Score: [ 0.78438965  0.          0.63086351]\n",
      "------------------\n",
      "+++++++++++++++++++"
     ]
    },
    {
     "name": "stderr",
     "output_type": "stream",
     "text": [
      "//anaconda/lib/python2.7/site-packages/sklearn/base.py:436: DataConversionWarning: A column-vector y was passed when a 1d array was expected. Please change the shape of y to (n_samples,), for example using ravel().\n",
      "  return self.fit(X, y, **fit_params).transform(X)\n",
      "//anaconda/lib/python2.7/site-packages/sklearn/base.py:436: DataConversionWarning: A column-vector y was passed when a 1d array was expected. Please change the shape of y to (n_samples,), for example using ravel().\n",
      "  return self.fit(X, y, **fit_params).transform(X)\n"
     ]
    },
    {
     "name": "stdout",
     "output_type": "stream",
     "text": [
      "\n",
      "Number of Estimators:  21\n",
      "Min Leaves:  15\n",
      "Classes:  ['functional' 'functional needs repair' 'non functional']\n",
      "+++++++++++++++++++\n",
      "Accuracy Score:  0.695420875421\n",
      "Precision Score: [ 0.65527236  0.          0.84642514]\n",
      "Recall Score: [ 0.95159693  0.          0.46519824]\n",
      "Fl Score: [ 0.77611187  0.          0.60040937]\n",
      "------------------\n",
      "+++++++++++++++++++\n",
      "Number of Estimators:  21\n",
      "Min Leaves:  16\n",
      "Classes:  ['functional' 'functional needs repair' 'non functional']\n",
      "+++++++++++++++++++\n",
      "Accuracy Score:  0.703501683502\n",
      "Precision Score: [ 0.65787471  0.          0.88215823]\n",
      "Recall Score: [ 0.96335727  0.          0.46960352]\n",
      "Fl Score: [ 0.78183554  0.          0.61292548]\n",
      "------------------\n",
      "+++++++++++++++++++"
     ]
    },
    {
     "name": "stderr",
     "output_type": "stream",
     "text": [
      "//anaconda/lib/python2.7/site-packages/sklearn/base.py:436: DataConversionWarning: A column-vector y was passed when a 1d array was expected. Please change the shape of y to (n_samples,), for example using ravel().\n",
      "  return self.fit(X, y, **fit_params).transform(X)\n",
      "//anaconda/lib/python2.7/site-packages/sklearn/base.py:436: DataConversionWarning: A column-vector y was passed when a 1d array was expected. Please change the shape of y to (n_samples,), for example using ravel().\n",
      "  return self.fit(X, y, **fit_params).transform(X)\n"
     ]
    },
    {
     "name": "stdout",
     "output_type": "stream",
     "text": [
      "\n",
      "Number of Estimators:  21\n",
      "Min Leaves:  17\n",
      "Classes:  ['functional' 'functional needs repair' 'non functional']\n",
      "+++++++++++++++++++\n",
      "Accuracy Score:  0.708215488215\n",
      "Precision Score: [ 0.6641464   0.          0.86795391]\n",
      "Recall Score: [ 0.95692003  0.          0.49110132]\n",
      "Fl Score: [ 0.78409494  0.          0.62727887]\n",
      "------------------\n",
      "+++++++++++++++++++\n",
      "Number of Estimators:  21\n",
      "Min Leaves:  18\n",
      "Classes:  ['functional' 'functional needs repair' 'non functional']\n",
      "+++++++++++++++++++\n",
      "Accuracy Score:  0.706127946128\n",
      "Precision Score: [ 0.6626661   0.          0.86530612]\n",
      "Recall Score: [ 0.95692003  0.          0.48563877]\n",
      "Fl Score: [ 0.78306235  0.          0.6221219 ]\n",
      "------------------\n",
      "+++++++++++++++++++"
     ]
    },
    {
     "name": "stderr",
     "output_type": "stream",
     "text": [
      "//anaconda/lib/python2.7/site-packages/sklearn/base.py:436: DataConversionWarning: A column-vector y was passed when a 1d array was expected. Please change the shape of y to (n_samples,), for example using ravel().\n",
      "  return self.fit(X, y, **fit_params).transform(X)\n",
      "//anaconda/lib/python2.7/site-packages/sklearn/base.py:436: DataConversionWarning: A column-vector y was passed when a 1d array was expected. Please change the shape of y to (n_samples,), for example using ravel().\n",
      "  return self.fit(X, y, **fit_params).transform(X)\n"
     ]
    },
    {
     "name": "stdout",
     "output_type": "stream",
     "text": [
      "\n",
      "Number of Estimators:  21\n",
      "Min Leaves:  19\n",
      "Classes:  ['functional' 'functional needs repair' 'non functional']\n",
      "+++++++++++++++++++\n",
      "Accuracy Score:  0.710909090909\n",
      "Precision Score: [ 0.67043661  0.          0.84494774]\n",
      "Recall Score: [ 0.94664521  0.          0.51277533]\n",
      "Fl Score: [ 0.78495176  0.          0.63822788]\n",
      "------------------\n",
      "+++++++++++++++++++\n",
      "Number of Estimators:  21\n",
      "Min Leaves:  20\n",
      "Classes:  ['functional' 'functional needs repair' 'non functional']\n",
      "+++++++++++++++++++\n",
      "Accuracy Score:  0.709764309764\n",
      "Precision Score: [ 0.66759655  0.          0.85291506]\n",
      "Recall Score: [ 0.94800693  0.          0.50784141]\n",
      "Fl Score: [ 0.78346719  0.          0.6366247 ]\n",
      "------------------\n",
      "+++++++++++++++++++"
     ]
    },
    {
     "name": "stderr",
     "output_type": "stream",
     "text": [
      "//anaconda/lib/python2.7/site-packages/sklearn/base.py:436: DataConversionWarning: A column-vector y was passed when a 1d array was expected. Please change the shape of y to (n_samples,), for example using ravel().\n",
      "  return self.fit(X, y, **fit_params).transform(X)\n",
      "//anaconda/lib/python2.7/site-packages/sklearn/base.py:436: DataConversionWarning: A column-vector y was passed when a 1d array was expected. Please change the shape of y to (n_samples,), for example using ravel().\n",
      "  return self.fit(X, y, **fit_params).transform(X)\n"
     ]
    },
    {
     "name": "stdout",
     "output_type": "stream",
     "text": [
      "\n",
      "Number of Estimators:  22\n",
      "Min Leaves:  2\n",
      "Classes:  ['functional' 'functional needs repair' 'non functional']\n",
      "+++++++++++++++++++\n",
      "Accuracy Score:  0.566464646465\n",
      "Precision Score: [ 0.55663564  0.          0.97971014]\n",
      "Recall Score: [ 0.99950483  0.          0.05955947]\n",
      "Fl Score: [ 0.71505114  0.          0.11229236]\n",
      "------------------\n",
      "+++++++++++++++++++\n",
      "Number of Estimators:  22\n",
      "Min Leaves:  3\n",
      "Classes:  ['functional' 'functional needs repair' 'non functional']\n",
      "+++++++++++++++++++\n",
      "Accuracy Score:  0.618316498316\n",
      "Precision Score: [ 0.59328584  0.          0.81801693]\n",
      "Recall Score: [ 0.96917554  0.          0.2384141 ]\n",
      "Fl Score: [ 0.73601579  0.          0.36921817]\n",
      "------------------\n",
      "+++++++++++++++++++"
     ]
    },
    {
     "name": "stderr",
     "output_type": "stream",
     "text": [
      "//anaconda/lib/python2.7/site-packages/sklearn/base.py:436: DataConversionWarning: A column-vector y was passed when a 1d array was expected. Please change the shape of y to (n_samples,), for example using ravel().\n",
      "  return self.fit(X, y, **fit_params).transform(X)\n",
      "//anaconda/lib/python2.7/site-packages/sklearn/base.py:436: DataConversionWarning: A column-vector y was passed when a 1d array was expected. Please change the shape of y to (n_samples,), for example using ravel().\n",
      "  return self.fit(X, y, **fit_params).transform(X)\n"
     ]
    },
    {
     "name": "stdout",
     "output_type": "stream",
     "text": [
      "\n",
      "Number of Estimators:  22\n",
      "Min Leaves:  4\n",
      "Classes:  ['functional' 'functional needs repair' 'non functional']\n",
      "+++++++++++++++++++\n",
      "Accuracy Score:  0.690101010101\n",
      "Precision Score: [ 0.64722523  0.          0.87212999]\n",
      "Recall Score: [ 0.96298589  0.          0.43506608]\n",
      "Fl Score: [ 0.77414539  0.          0.58053139]\n",
      "------------------\n",
      "+++++++++++++++++++\n",
      "Number of Estimators:  22\n",
      "Min Leaves:  5\n",
      "Classes:  ['functional' 'functional needs repair' 'non functional']\n",
      "+++++++++++++++++++\n",
      "Accuracy Score:  0.63898989899\n",
      "Precision Score: [ 0.60709867  0.          0.8540146 ]\n",
      "Recall Score: [ 0.97189898  0.          0.28863436]\n",
      "Fl Score: [ 0.7473584   0.          0.43145002]\n",
      "------------------\n",
      "+++++++++++++++++++"
     ]
    },
    {
     "name": "stderr",
     "output_type": "stream",
     "text": [
      "//anaconda/lib/python2.7/site-packages/sklearn/base.py:436: DataConversionWarning: A column-vector y was passed when a 1d array was expected. Please change the shape of y to (n_samples,), for example using ravel().\n",
      "  return self.fit(X, y, **fit_params).transform(X)\n",
      "//anaconda/lib/python2.7/site-packages/sklearn/base.py:436: DataConversionWarning: A column-vector y was passed when a 1d array was expected. Please change the shape of y to (n_samples,), for example using ravel().\n",
      "  return self.fit(X, y, **fit_params).transform(X)\n"
     ]
    },
    {
     "name": "stdout",
     "output_type": "stream",
     "text": [
      "\n",
      "Number of Estimators:  22\n",
      "Min Leaves:  6\n",
      "Classes:  ['functional' 'functional needs repair' 'non functional']\n",
      "+++++++++++++++++++\n",
      "Accuracy Score:  0.664511784512\n",
      "Precision Score: [ 0.62484097  0.          0.88390501]\n",
      "Recall Score: [ 0.97276554  0.          0.35418502]\n",
      "Fl Score: [ 0.76091798  0.          0.50572399]\n",
      "------------------\n",
      "+++++++++++++++++++\n",
      "Number of Estimators:  22\n",
      "Min Leaves:  7\n",
      "Classes:  ['functional' 'functional needs repair' 'non functional']\n",
      "+++++++++++++++++++\n",
      "Accuracy Score:  0.658653198653\n",
      "Precision Score: [ 0.62294424  0.          0.84528302]\n",
      "Recall Score: [ 0.96125279  0.          0.35524229]\n",
      "Fl Score: [ 0.75597527  0.          0.50024814]\n",
      "------------------\n",
      "+++++++++++++++++++"
     ]
    },
    {
     "name": "stderr",
     "output_type": "stream",
     "text": [
      "//anaconda/lib/python2.7/site-packages/sklearn/base.py:436: DataConversionWarning: A column-vector y was passed when a 1d array was expected. Please change the shape of y to (n_samples,), for example using ravel().\n",
      "  return self.fit(X, y, **fit_params).transform(X)\n",
      "//anaconda/lib/python2.7/site-packages/sklearn/base.py:436: DataConversionWarning: A column-vector y was passed when a 1d array was expected. Please change the shape of y to (n_samples,), for example using ravel().\n",
      "  return self.fit(X, y, **fit_params).transform(X)\n"
     ]
    },
    {
     "name": "stdout",
     "output_type": "stream",
     "text": [
      "\n",
      "Number of Estimators:  22\n",
      "Min Leaves:  8\n",
      "Classes:  ['functional' 'functional needs repair' 'non functional']\n",
      "+++++++++++++++++++\n",
      "Accuracy Score:  0.694478114478\n",
      "Precision Score: [ 0.65043028  0.          0.8774731 ]\n",
      "Recall Score: [ 0.96372865  0.          0.44546256]\n",
      "Fl Score: [ 0.77667481  0.          0.59093034]\n",
      "------------------\n",
      "+++++++++++++++++++\n",
      "Number of Estimators:  22\n",
      "Min Leaves:  9\n",
      "Classes:  ['functional' 'functional needs repair' 'non functional']\n",
      "+++++++++++++++++++\n",
      "Accuracy Score:  0.704781144781\n",
      "Precision Score: [ 0.65976934  0.          0.87835186]\n",
      "Recall Score: [ 0.96310968  0.          0.47330396]\n",
      "Fl Score: [ 0.78309009  0.          0.61513798]\n",
      "------------------\n",
      "+++++++++++++++++++"
     ]
    },
    {
     "name": "stderr",
     "output_type": "stream",
     "text": [
      "//anaconda/lib/python2.7/site-packages/sklearn/base.py:436: DataConversionWarning: A column-vector y was passed when a 1d array was expected. Please change the shape of y to (n_samples,), for example using ravel().\n",
      "  return self.fit(X, y, **fit_params).transform(X)\n",
      "//anaconda/lib/python2.7/site-packages/sklearn/base.py:436: DataConversionWarning: A column-vector y was passed when a 1d array was expected. Please change the shape of y to (n_samples,), for example using ravel().\n",
      "  return self.fit(X, y, **fit_params).transform(X)\n"
     ]
    },
    {
     "name": "stdout",
     "output_type": "stream",
     "text": [
      "\n",
      "Number of Estimators:  22\n",
      "Min Leaves:  10\n",
      "Classes:  ['functional' 'functional needs repair' 'non functional']\n",
      "+++++++++++++++++++\n",
      "Accuracy Score:  0.700808080808\n",
      "Precision Score: [ 0.65754005  0.          0.86799869]\n",
      "Recall Score: [ 0.96026244  0.          0.46696035]\n",
      "Fl Score: [ 0.78057862  0.          0.60724106]\n",
      "------------------\n",
      "+++++++++++++++++++\n",
      "Number of Estimators:  22\n",
      "Min Leaves:  11\n",
      "Classes:  ['functional' 'functional needs repair' 'non functional']\n",
      "+++++++++++++++++++\n",
      "Accuracy Score:  0.701144781145\n",
      "Precision Score: [ 0.66040003  0.          0.84942206]\n",
      "Recall Score: [ 0.95233969  0.          0.47911894]\n",
      "Fl Score: [ 0.77994627  0.          0.61266336]\n",
      "------------------\n",
      "+++++++++++++++++++"
     ]
    },
    {
     "name": "stderr",
     "output_type": "stream",
     "text": [
      "//anaconda/lib/python2.7/site-packages/sklearn/base.py:436: DataConversionWarning: A column-vector y was passed when a 1d array was expected. Please change the shape of y to (n_samples,), for example using ravel().\n",
      "  return self.fit(X, y, **fit_params).transform(X)\n",
      "//anaconda/lib/python2.7/site-packages/sklearn/base.py:436: DataConversionWarning: A column-vector y was passed when a 1d array was expected. Please change the shape of y to (n_samples,), for example using ravel().\n",
      "  return self.fit(X, y, **fit_params).transform(X)\n"
     ]
    },
    {
     "name": "stdout",
     "output_type": "stream",
     "text": [
      "\n",
      "Number of Estimators:  22\n",
      "Min Leaves:  12\n",
      "Classes:  ['functional' 'functional needs repair' 'non functional']\n",
      "+++++++++++++++++++\n",
      "Accuracy Score:  0.700538720539\n",
      "Precision Score: [ 0.65777816  0.          0.86182519]\n",
      "Recall Score: [ 0.95580589  0.          0.47259912]\n",
      "Fl Score: [ 0.77926928  0.          0.61044725]\n",
      "------------------\n",
      "+++++++++++++++++++\n",
      "Number of Estimators:  22\n",
      "Min Leaves:  13\n",
      "Classes:  ['functional' 'functional needs repair' 'non functional']\n",
      "+++++++++++++++++++\n",
      "Accuracy Score:  0.701346801347\n",
      "Precision Score: [ 0.65984238  0.          0.85390428]\n",
      "Recall Score: [ 0.95357762  0.          0.47788546]\n",
      "Fl Score: [ 0.77997165  0.          0.61281211]\n",
      "------------------\n",
      "+++++++++++++++++++"
     ]
    },
    {
     "name": "stderr",
     "output_type": "stream",
     "text": [
      "//anaconda/lib/python2.7/site-packages/sklearn/base.py:436: DataConversionWarning: A column-vector y was passed when a 1d array was expected. Please change the shape of y to (n_samples,), for example using ravel().\n",
      "  return self.fit(X, y, **fit_params).transform(X)\n",
      "//anaconda/lib/python2.7/site-packages/sklearn/base.py:436: DataConversionWarning: A column-vector y was passed when a 1d array was expected. Please change the shape of y to (n_samples,), for example using ravel().\n",
      "  return self.fit(X, y, **fit_params).transform(X)\n"
     ]
    },
    {
     "name": "stdout",
     "output_type": "stream",
     "text": [
      "\n",
      "Number of Estimators:  22\n",
      "Min Leaves:  14\n",
      "Classes:  ['functional' 'functional needs repair' 'non functional']\n",
      "+++++++++++++++++++\n",
      "Accuracy Score:  0.703097643098\n",
      "Precision Score: [ 0.65946222  0.          0.86862492]\n",
      "Recall Score: [ 0.95939589  0.          0.47418502]\n",
      "Fl Score: [ 0.78164397  0.          0.61347316]\n",
      "------------------\n",
      "+++++++++++++++++++\n",
      "Number of Estimators:  22\n",
      "Min Leaves:  15\n",
      "Classes:  ['functional' 'functional needs repair' 'non functional']\n",
      "+++++++++++++++++++\n",
      "Accuracy Score:  0.706195286195\n",
      "Precision Score: [ 0.66585281  0.          0.84299231]\n",
      "Recall Score: [ 0.94528349  0.          0.50237885]\n",
      "Fl Score: [ 0.78133633  0.          0.62956829]\n",
      "------------------\n",
      "+++++++++++++++++++"
     ]
    },
    {
     "name": "stderr",
     "output_type": "stream",
     "text": [
      "//anaconda/lib/python2.7/site-packages/sklearn/base.py:436: DataConversionWarning: A column-vector y was passed when a 1d array was expected. Please change the shape of y to (n_samples,), for example using ravel().\n",
      "  return self.fit(X, y, **fit_params).transform(X)\n",
      "//anaconda/lib/python2.7/site-packages/sklearn/base.py:436: DataConversionWarning: A column-vector y was passed when a 1d array was expected. Please change the shape of y to (n_samples,), for example using ravel().\n",
      "  return self.fit(X, y, **fit_params).transform(X)\n"
     ]
    },
    {
     "name": "stdout",
     "output_type": "stream",
     "text": [
      "\n",
      "Number of Estimators:  22\n",
      "Min Leaves:  16\n",
      "Classes:  ['functional' 'functional needs repair' 'non functional']\n",
      "+++++++++++++++++++\n",
      "Accuracy Score:  0.706060606061\n",
      "Precision Score: [ 0.66323201  0.          0.86173533]\n",
      "Recall Score: [ 0.95617727  0.          0.48651982]\n",
      "Fl Score: [ 0.78320827  0.          0.62191688]\n",
      "------------------\n",
      "+++++++++++++++++++\n",
      "Number of Estimators:  22\n",
      "Min Leaves:  17\n",
      "Classes:  ['functional' 'functional needs repair' 'non functional']\n",
      "+++++++++++++++++++\n",
      "Accuracy Score:  0.707205387205\n",
      "Precision Score: [ 0.66414445  0.          0.86273292]\n",
      "Recall Score: [ 0.95617727  0.          0.48951542]\n",
      "Fl Score: [ 0.78384412  0.          0.62462057]\n",
      "------------------\n",
      "+++++++++++++++++++"
     ]
    },
    {
     "name": "stderr",
     "output_type": "stream",
     "text": [
      "//anaconda/lib/python2.7/site-packages/sklearn/base.py:436: DataConversionWarning: A column-vector y was passed when a 1d array was expected. Please change the shape of y to (n_samples,), for example using ravel().\n",
      "  return self.fit(X, y, **fit_params).transform(X)\n",
      "//anaconda/lib/python2.7/site-packages/sklearn/base.py:436: DataConversionWarning: A column-vector y was passed when a 1d array was expected. Please change the shape of y to (n_samples,), for example using ravel().\n",
      "  return self.fit(X, y, **fit_params).transform(X)\n"
     ]
    },
    {
     "name": "stdout",
     "output_type": "stream",
     "text": [
      "\n",
      "Number of Estimators:  22\n",
      "Min Leaves:  18\n",
      "Classes:  ['functional' 'functional needs repair' 'non functional']\n",
      "+++++++++++++++++++\n",
      "Accuracy Score:  0.703232323232\n",
      "Precision Score: [ 0.66011788  0.          0.86382437]\n",
      "Recall Score: [ 0.95667244  0.          0.4784141 ]\n",
      "Fl Score: [ 0.78119788  0.          0.61578589]\n",
      "------------------\n",
      "+++++++++++++++++++\n",
      "Number of Estimators:  22\n",
      "Min Leaves:  19\n",
      "Classes:  ['functional' 'functional needs repair' 'non functional']\n",
      "+++++++++++++++++++\n",
      "Accuracy Score:  0.706666666667\n",
      "Precision Score: [ 0.66433506  0.          0.85657492]\n",
      "Recall Score: [ 0.95233969  0.          0.49356828]\n",
      "Fl Score: [ 0.78268389  0.          0.62627166]\n",
      "------------------\n",
      "+++++++++++++++++++"
     ]
    },
    {
     "name": "stderr",
     "output_type": "stream",
     "text": [
      "//anaconda/lib/python2.7/site-packages/sklearn/base.py:436: DataConversionWarning: A column-vector y was passed when a 1d array was expected. Please change the shape of y to (n_samples,), for example using ravel().\n",
      "  return self.fit(X, y, **fit_params).transform(X)\n",
      "//anaconda/lib/python2.7/site-packages/sklearn/base.py:436: DataConversionWarning: A column-vector y was passed when a 1d array was expected. Please change the shape of y to (n_samples,), for example using ravel().\n",
      "  return self.fit(X, y, **fit_params).transform(X)\n"
     ]
    },
    {
     "name": "stdout",
     "output_type": "stream",
     "text": [
      "\n",
      "Number of Estimators:  22\n",
      "Min Leaves:  20\n",
      "Classes:  ['functional' 'functional needs repair' 'non functional']\n",
      "+++++++++++++++++++\n",
      "Accuracy Score:  0.70962962963\n",
      "Precision Score: [ 0.66794559  0.          0.85097575]\n",
      "Recall Score: [ 0.94825452  0.          0.50713656]\n",
      "Fl Score: [ 0.78379208  0.          0.63553053]\n",
      "------------------\n",
      "+++++++++++++++++++\n",
      "Number of Estimators:  23\n",
      "Min Leaves:  2\n",
      "Classes:  ['functional' 'functional needs repair' 'non functional']\n",
      "+++++++++++++++++++\n",
      "Accuracy Score:  0.58430976431\n",
      "Precision Score: [ 0.56798075  0.          0.90429958]\n",
      "Recall Score: [ 0.99343897  0.          0.11488987]\n",
      "Fl Score: [ 0.72274508  0.          0.20387742]\n",
      "------------------\n",
      "+++++++++++++++++++"
     ]
    },
    {
     "name": "stderr",
     "output_type": "stream",
     "text": [
      "//anaconda/lib/python2.7/site-packages/sklearn/base.py:436: DataConversionWarning: A column-vector y was passed when a 1d array was expected. Please change the shape of y to (n_samples,), for example using ravel().\n",
      "  return self.fit(X, y, **fit_params).transform(X)\n",
      "//anaconda/lib/python2.7/site-packages/sklearn/base.py:436: DataConversionWarning: A column-vector y was passed when a 1d array was expected. Please change the shape of y to (n_samples,), for example using ravel().\n",
      "  return self.fit(X, y, **fit_params).transform(X)\n"
     ]
    },
    {
     "name": "stdout",
     "output_type": "stream",
     "text": [
      "\n",
      "Number of Estimators:  23\n",
      "Min Leaves:  3\n",
      "Classes:  ['functional' 'functional needs repair' 'non functional']\n",
      "+++++++++++++++++++\n",
      "Accuracy Score:  0.621212121212\n",
      "Precision Score: [ 0.59323556  0.          0.87281292]\n",
      "Recall Score: [ 0.98143105  0.          0.22854626]\n",
      "Fl Score: [ 0.73948326  0.          0.36223991]\n",
      "------------------\n",
      "+++++++++++++++++++\n",
      "Number of Estimators:  23\n",
      "Min Leaves:  4\n",
      "Classes:  ['functional' 'functional needs repair' 'non functional']\n",
      "+++++++++++++++++++\n",
      "Accuracy Score:  0.663232323232\n",
      "Precision Score: [ 0.62383066  0.          0.88550984]\n",
      "Recall Score: [ 0.97412726  0.          0.34889868]\n",
      "Fl Score: [ 0.7605838   0.          0.50056883]\n",
      "------------------\n",
      "+++++++++++++++++++"
     ]
    },
    {
     "name": "stderr",
     "output_type": "stream",
     "text": [
      "//anaconda/lib/python2.7/site-packages/sklearn/base.py:436: DataConversionWarning: A column-vector y was passed when a 1d array was expected. Please change the shape of y to (n_samples,), for example using ravel().\n",
      "  return self.fit(X, y, **fit_params).transform(X)\n",
      "//anaconda/lib/python2.7/site-packages/sklearn/base.py:436: DataConversionWarning: A column-vector y was passed when a 1d array was expected. Please change the shape of y to (n_samples,), for example using ravel().\n",
      "  return self.fit(X, y, **fit_params).transform(X)\n"
     ]
    },
    {
     "name": "stdout",
     "output_type": "stream",
     "text": [
      "\n",
      "Number of Estimators:  23\n",
      "Min Leaves:  5\n",
      "Classes:  ['functional' 'functional needs repair' 'non functional']\n",
      "+++++++++++++++++++\n",
      "Accuracy Score:  0.651851851852\n",
      "Precision Score: [ 0.61660389  0.          0.8651472 ]\n",
      "Recall Score: [ 0.97276554  0.          0.32105727]\n",
      "Fl Score: [ 0.7547786   0.          0.46832027]\n",
      "------------------\n",
      "+++++++++++++++++++\n",
      "Number of Estimators:  23\n",
      "Min Leaves:  6\n",
      "Classes:  ['functional' 'functional needs repair' 'non functional']\n",
      "+++++++++++++++++++\n",
      "Accuracy Score:  0.689696969697\n",
      "Precision Score: [ 0.64605209  0.          0.88130672]\n",
      "Recall Score: [ 0.96731864  0.          0.42784141]\n",
      "Fl Score: [ 0.77469885  0.          0.57603796]\n",
      "------------------\n",
      "+++++++++++++++++++"
     ]
    },
    {
     "name": "stderr",
     "output_type": "stream",
     "text": [
      "//anaconda/lib/python2.7/site-packages/sklearn/base.py:436: DataConversionWarning: A column-vector y was passed when a 1d array was expected. Please change the shape of y to (n_samples,), for example using ravel().\n",
      "  return self.fit(X, y, **fit_params).transform(X)\n",
      "//anaconda/lib/python2.7/site-packages/sklearn/base.py:436: DataConversionWarning: A column-vector y was passed when a 1d array was expected. Please change the shape of y to (n_samples,), for example using ravel().\n",
      "  return self.fit(X, y, **fit_params).transform(X)\n"
     ]
    },
    {
     "name": "stdout",
     "output_type": "stream",
     "text": [
      "\n",
      "Number of Estimators:  23\n",
      "Min Leaves:  7\n",
      "Classes:  ['functional' 'functional needs repair' 'non functional']\n",
      "+++++++++++++++++++\n",
      "Accuracy Score:  0.697508417508\n",
      "Precision Score: [ 0.65131962  0.          0.89292004]\n",
      "Recall Score: [ 0.96843278  0.          0.44669604]\n",
      "Fl Score: [ 0.77883419  0.          0.59548978]\n",
      "------------------\n",
      "+++++++++++++++++++\n",
      "Number of Estimators:  23\n",
      "Min Leaves:  8\n",
      "Classes:  ['functional' 'functional needs repair' 'non functional']\n",
      "+++++++++++++++++++\n",
      "Accuracy Score:  0.695420875421\n",
      "Precision Score: [ 0.64974661  0.          0.89086385]\n",
      "Recall Score: [ 0.96818519  0.          0.4415859 ]\n",
      "Fl Score: [ 0.77762864  0.          0.59048068]\n",
      "------------------\n",
      "+++++++++++++++++++"
     ]
    },
    {
     "name": "stderr",
     "output_type": "stream",
     "text": [
      "//anaconda/lib/python2.7/site-packages/sklearn/base.py:436: DataConversionWarning: A column-vector y was passed when a 1d array was expected. Please change the shape of y to (n_samples,), for example using ravel().\n",
      "  return self.fit(X, y, **fit_params).transform(X)\n",
      "//anaconda/lib/python2.7/site-packages/sklearn/base.py:436: DataConversionWarning: A column-vector y was passed when a 1d array was expected. Please change the shape of y to (n_samples,), for example using ravel().\n",
      "  return self.fit(X, y, **fit_params).transform(X)\n"
     ]
    },
    {
     "name": "stdout",
     "output_type": "stream",
     "text": [
      "\n",
      "Number of Estimators:  23\n",
      "Min Leaves:  9\n",
      "Classes:  ['functional' 'functional needs repair' 'non functional']\n",
      "+++++++++++++++++++\n",
      "Accuracy Score:  0.695488215488\n",
      "Precision Score: [ 0.65288073  0.          0.86534587]\n",
      "Recall Score: [ 0.95951968  0.          0.45409692]\n",
      "Fl Score: [ 0.77704261  0.          0.59563157]\n",
      "------------------\n",
      "+++++++++++++++++++\n",
      "Number of Estimators:  23\n",
      "Min Leaves:  10\n",
      "Classes:  ['functional' 'functional needs repair' 'non functional']\n",
      "+++++++++++++++++++\n",
      "Accuracy Score:  0.693063973064\n",
      "Precision Score: [ 0.65383631  0.          0.83977019]\n",
      "Recall Score: [ 0.94837831  0.          0.46361233]\n",
      "Fl Score: [ 0.77403385  0.          0.59741144]\n",
      "------------------\n",
      "+++++++++++++++++++"
     ]
    },
    {
     "name": "stderr",
     "output_type": "stream",
     "text": [
      "//anaconda/lib/python2.7/site-packages/sklearn/base.py:436: DataConversionWarning: A column-vector y was passed when a 1d array was expected. Please change the shape of y to (n_samples,), for example using ravel().\n",
      "  return self.fit(X, y, **fit_params).transform(X)\n",
      "//anaconda/lib/python2.7/site-packages/sklearn/base.py:436: DataConversionWarning: A column-vector y was passed when a 1d array was expected. Please change the shape of y to (n_samples,), for example using ravel().\n",
      "  return self.fit(X, y, **fit_params).transform(X)\n"
     ]
    },
    {
     "name": "stdout",
     "output_type": "stream",
     "text": [
      "\n",
      "Number of Estimators:  23\n",
      "Min Leaves:  11\n",
      "Classes:  ['functional' 'functional needs repair' 'non functional']\n",
      "+++++++++++++++++++\n",
      "Accuracy Score:  0.708215488215\n",
      "Precision Score: [ 0.66634866  0.          0.85361446]\n",
      "Recall Score: [ 0.95110176  0.          0.49938326]\n",
      "Fl Score: [ 0.78365973  0.          0.63012785]\n",
      "------------------\n",
      "+++++++++++++++++++\n",
      "Number of Estimators:  23\n",
      "Min Leaves:  12\n",
      "Classes:  ['functional' 'functional needs repair' 'non functional']\n",
      "+++++++++++++++++++\n",
      "Accuracy Score:  0.702222222222\n",
      "Precision Score: [ 0.65906577  0.          0.86599935]\n",
      "Recall Score: [ 0.95890072  0.          0.47259912]\n",
      "Fl Score: [ 0.78120115  0.          0.61149111]\n",
      "------------------\n",
      "+++++++++++++++++++"
     ]
    },
    {
     "name": "stderr",
     "output_type": "stream",
     "text": [
      "//anaconda/lib/python2.7/site-packages/sklearn/base.py:436: DataConversionWarning: A column-vector y was passed when a 1d array was expected. Please change the shape of y to (n_samples,), for example using ravel().\n",
      "  return self.fit(X, y, **fit_params).transform(X)\n",
      "//anaconda/lib/python2.7/site-packages/sklearn/base.py:436: DataConversionWarning: A column-vector y was passed when a 1d array was expected. Please change the shape of y to (n_samples,), for example using ravel().\n",
      "  return self.fit(X, y, **fit_params).transform(X)\n"
     ]
    },
    {
     "name": "stdout",
     "output_type": "stream",
     "text": [
      "\n",
      "Number of Estimators:  23\n",
      "Min Leaves:  13\n",
      "Classes:  ['functional' 'functional needs repair' 'non functional']\n",
      "+++++++++++++++++++\n",
      "Accuracy Score:  0.709292929293\n",
      "Precision Score: [ 0.66500601  0.          0.87001247]\n",
      "Recall Score: [ 0.95840555  0.          0.49180617]\n",
      "Fl Score: [ 0.7851927   0.          0.62839131]\n",
      "------------------\n",
      "+++++++++++++++++++\n",
      "Number of Estimators:  23\n",
      "Min Leaves:  14\n",
      "Classes:  ['functional' 'functional needs repair' 'non functional']\n",
      "+++++++++++++++++++\n",
      "Accuracy Score:  0.705521885522\n",
      "Precision Score: [ 0.66087993  0.          0.87479832]\n",
      "Recall Score: [ 0.96137658  0.          0.47770925]\n",
      "Fl Score: [ 0.78329719  0.          0.61796216]\n",
      "------------------\n",
      "+++++++++++++++++++"
     ]
    },
    {
     "name": "stderr",
     "output_type": "stream",
     "text": [
      "//anaconda/lib/python2.7/site-packages/sklearn/base.py:436: DataConversionWarning: A column-vector y was passed when a 1d array was expected. Please change the shape of y to (n_samples,), for example using ravel().\n",
      "  return self.fit(X, y, **fit_params).transform(X)\n",
      "//anaconda/lib/python2.7/site-packages/sklearn/base.py:436: DataConversionWarning: A column-vector y was passed when a 1d array was expected. Please change the shape of y to (n_samples,), for example using ravel().\n",
      "  return self.fit(X, y, **fit_params).transform(X)\n"
     ]
    },
    {
     "name": "stdout",
     "output_type": "stream",
     "text": [
      "\n",
      "Number of Estimators:  23\n",
      "Min Leaves:  15\n",
      "Classes:  ['functional' 'functional needs repair' 'non functional']\n",
      "+++++++++++++++++++\n",
      "Accuracy Score:  0.709023569024\n",
      "Precision Score: [ 0.66747932  0.          0.85081724]\n",
      "Recall Score: [ 0.94899728  0.          0.50449339]\n",
      "Fl Score: [ 0.78372438  0.          0.63340708]\n",
      "------------------\n",
      "+++++++++++++++++++\n",
      "Number of Estimators:  23\n",
      "Min Leaves:  16\n",
      "Classes:  ['functional' 'functional needs repair' 'non functional']\n",
      "+++++++++++++++++++\n",
      "Accuracy Score:  0.707272727273\n",
      "Precision Score: [ 0.66582871  0.          0.85153893]\n",
      "Recall Score: [ 0.95085417  0.          0.49726872]\n",
      "Fl Score: [ 0.78321607  0.          0.62787852]\n",
      "------------------\n",
      "+++++++++++++++++++"
     ]
    },
    {
     "name": "stderr",
     "output_type": "stream",
     "text": [
      "//anaconda/lib/python2.7/site-packages/sklearn/base.py:436: DataConversionWarning: A column-vector y was passed when a 1d array was expected. Please change the shape of y to (n_samples,), for example using ravel().\n",
      "  return self.fit(X, y, **fit_params).transform(X)\n",
      "//anaconda/lib/python2.7/site-packages/sklearn/base.py:436: DataConversionWarning: A column-vector y was passed when a 1d array was expected. Please change the shape of y to (n_samples,), for example using ravel().\n",
      "  return self.fit(X, y, **fit_params).transform(X)\n"
     ]
    },
    {
     "name": "stdout",
     "output_type": "stream",
     "text": [
      "\n",
      "Number of Estimators:  23\n",
      "Min Leaves:  17\n",
      "Classes:  ['functional' 'functional needs repair' 'non functional']\n",
      "+++++++++++++++++++\n",
      "Accuracy Score:  0.708686868687\n",
      "Precision Score: [ 0.66771406  0.          0.84703802]\n",
      "Recall Score: [ 0.94701659  0.          0.50643172]\n",
      "Fl Score: [ 0.78320962  0.          0.63387737]\n",
      "------------------\n",
      "+++++++++++++++++++\n",
      "Number of Estimators:  23\n",
      "Min Leaves:  18\n",
      "Classes:  ['functional' 'functional needs repair' 'non functional']\n",
      "+++++++++++++++++++\n",
      "Accuracy Score:  0.709898989899\n",
      "Precision Score: [ 0.6674471   0.          0.85744424]\n",
      "Recall Score: [ 0.95283486  0.          0.50132159]\n",
      "Fl Score: [ 0.78500765  0.          0.63271433]\n",
      "------------------\n",
      "+++++++++++++++++++"
     ]
    },
    {
     "name": "stderr",
     "output_type": "stream",
     "text": [
      "//anaconda/lib/python2.7/site-packages/sklearn/base.py:436: DataConversionWarning: A column-vector y was passed when a 1d array was expected. Please change the shape of y to (n_samples,), for example using ravel().\n",
      "  return self.fit(X, y, **fit_params).transform(X)\n",
      "//anaconda/lib/python2.7/site-packages/sklearn/base.py:436: DataConversionWarning: A column-vector y was passed when a 1d array was expected. Please change the shape of y to (n_samples,), for example using ravel().\n",
      "  return self.fit(X, y, **fit_params).transform(X)\n"
     ]
    },
    {
     "name": "stdout",
     "output_type": "stream",
     "text": [
      "\n",
      "Number of Estimators:  23\n",
      "Min Leaves:  19\n",
      "Classes:  ['functional' 'functional needs repair' 'non functional']\n",
      "+++++++++++++++++++\n",
      "Accuracy Score:  0.712255892256\n",
      "Precision Score: [ 0.66703959  0.          0.8749226 ]\n",
      "Recall Score: [ 0.95951968  0.          0.49797357]\n",
      "Fl Score: [ 0.78698345  0.          0.63469961]\n",
      "------------------\n",
      "+++++++++++++++++++\n",
      "Number of Estimators:  23\n",
      "Min Leaves:  20\n",
      "Classes:  ['functional' 'functional needs repair' 'non functional']\n",
      "+++++++++++++++++++\n",
      "Accuracy Score:  0.704579124579\n",
      "Precision Score: [ 0.6619839  0.         0.8611461]\n",
      "Recall Score: [ 0.95667244  0.          0.48193833]\n",
      "Fl Score: [ 0.78250304  0.          0.61800926]\n",
      "------------------\n",
      "+++++++++++++++++++"
     ]
    },
    {
     "name": "stderr",
     "output_type": "stream",
     "text": [
      "//anaconda/lib/python2.7/site-packages/sklearn/base.py:436: DataConversionWarning: A column-vector y was passed when a 1d array was expected. Please change the shape of y to (n_samples,), for example using ravel().\n",
      "  return self.fit(X, y, **fit_params).transform(X)\n",
      "//anaconda/lib/python2.7/site-packages/sklearn/base.py:436: DataConversionWarning: A column-vector y was passed when a 1d array was expected. Please change the shape of y to (n_samples,), for example using ravel().\n",
      "  return self.fit(X, y, **fit_params).transform(X)\n"
     ]
    },
    {
     "name": "stdout",
     "output_type": "stream",
     "text": [
      "\n",
      "Number of Estimators:  24\n",
      "Min Leaves:  2\n",
      "Classes:  ['functional' 'functional needs repair' 'non functional']\n",
      "+++++++++++++++++++\n",
      "Accuracy Score:  0.620808080808\n",
      "Precision Score: [ 0.59162032  0.          0.90915751]\n",
      "Recall Score: [ 0.9876207   0.          0.21867841]\n",
      "Fl Score: [ 0.73997125  0.          0.35255682]\n",
      "------------------\n",
      "+++++++++++++++++++\n",
      "Number of Estimators:  24\n",
      "Min Leaves:  3\n",
      "Classes:  ['functional' 'functional needs repair' 'non functional']\n",
      "+++++++++++++++++++\n",
      "Accuracy Score:  0.626734006734\n",
      "Precision Score: [ 0.59937174  0.          0.82536151]\n",
      "Recall Score: [ 0.96843278  0.          0.2614978 ]\n",
      "Fl Score: [ 0.7404638   0.          0.39716312]\n",
      "------------------\n",
      "+++++++++++++++++++"
     ]
    },
    {
     "name": "stderr",
     "output_type": "stream",
     "text": [
      "//anaconda/lib/python2.7/site-packages/sklearn/base.py:436: DataConversionWarning: A column-vector y was passed when a 1d array was expected. Please change the shape of y to (n_samples,), for example using ravel().\n",
      "  return self.fit(X, y, **fit_params).transform(X)\n",
      "//anaconda/lib/python2.7/site-packages/sklearn/base.py:436: DataConversionWarning: A column-vector y was passed when a 1d array was expected. Please change the shape of y to (n_samples,), for example using ravel().\n",
      "  return self.fit(X, y, **fit_params).transform(X)\n"
     ]
    },
    {
     "name": "stdout",
     "output_type": "stream",
     "text": [
      "\n",
      "Number of Estimators:  24\n",
      "Min Leaves:  4\n",
      "Classes:  ['functional' 'functional needs repair' 'non functional']\n",
      "+++++++++++++++++++\n",
      "Accuracy Score:  0.639124579125\n",
      "Precision Score: [ 0.60761358  0.          0.84733607]\n",
      "Recall Score: [ 0.97016588  0.          0.29145374]\n",
      "Fl Score: [ 0.74723494  0.          0.4337223 ]\n",
      "------------------\n",
      "+++++++++++++++++++\n",
      "Number of Estimators:  24\n",
      "Min Leaves:  5\n",
      "Classes:  ['functional' 'functional needs repair' 'non functional']\n",
      "+++++++++++++++++++\n",
      "Accuracy Score:  0.655286195286\n",
      "Precision Score: [ 0.62007937  0.          0.85244444]\n",
      "Recall Score: [ 0.96719485  0.          0.33797357]\n",
      "Fl Score: [ 0.75568237  0.          0.48403785]\n",
      "------------------\n",
      "+++++++++++++++++++"
     ]
    },
    {
     "name": "stderr",
     "output_type": "stream",
     "text": [
      "//anaconda/lib/python2.7/site-packages/sklearn/base.py:436: DataConversionWarning: A column-vector y was passed when a 1d array was expected. Please change the shape of y to (n_samples,), for example using ravel().\n",
      "  return self.fit(X, y, **fit_params).transform(X)\n",
      "//anaconda/lib/python2.7/site-packages/sklearn/base.py:436: DataConversionWarning: A column-vector y was passed when a 1d array was expected. Please change the shape of y to (n_samples,), for example using ravel().\n",
      "  return self.fit(X, y, **fit_params).transform(X)\n"
     ]
    },
    {
     "name": "stdout",
     "output_type": "stream",
     "text": [
      "\n",
      "Number of Estimators:  24\n",
      "Min Leaves:  6\n",
      "Classes:  ['functional' 'functional needs repair' 'non functional']\n",
      "+++++++++++++++++++\n",
      "Accuracy Score:  0.691245791246\n",
      "Precision Score: [ 0.64709784  0.          0.88207885]\n",
      "Recall Score: [ 0.96608071  0.          0.43365639]\n",
      "Fl Score: [ 0.77505214  0.          0.58145304]\n",
      "------------------\n",
      "+++++++++++++++++++\n",
      "Number of Estimators:  24\n",
      "Min Leaves:  7\n",
      "Classes:  ['functional' 'functional needs repair' 'non functional']\n",
      "+++++++++++++++++++\n",
      "Accuracy Score:  0.694478114478\n",
      "Precision Score: [ 0.65240189  0.          0.85888962]\n",
      "Recall Score: [ 0.95493934  0.          0.45797357]\n",
      "Fl Score: [ 0.77519847  0.          0.5974026 ]\n",
      "------------------\n",
      "+++++++++++++++++++"
     ]
    },
    {
     "name": "stderr",
     "output_type": "stream",
     "text": [
      "//anaconda/lib/python2.7/site-packages/sklearn/base.py:436: DataConversionWarning: A column-vector y was passed when a 1d array was expected. Please change the shape of y to (n_samples,), for example using ravel().\n",
      "  return self.fit(X, y, **fit_params).transform(X)\n",
      "//anaconda/lib/python2.7/site-packages/sklearn/base.py:436: DataConversionWarning: A column-vector y was passed when a 1d array was expected. Please change the shape of y to (n_samples,), for example using ravel().\n",
      "  return self.fit(X, y, **fit_params).transform(X)\n"
     ]
    },
    {
     "name": "stdout",
     "output_type": "stream",
     "text": [
      "\n",
      "Number of Estimators:  24\n",
      "Min Leaves:  8\n",
      "Classes:  ['functional' 'functional needs repair' 'non functional']\n",
      "+++++++++++++++++++\n",
      "Accuracy Score:  0.688888888889\n",
      "Precision Score: [ 0.6465124   0.          0.87182241]\n",
      "Recall Score: [ 0.96496658  0.          0.42907489]\n",
      "Fl Score: [ 0.77427365  0.          0.57510628]\n",
      "------------------\n",
      "+++++++++++++++++++\n",
      "Number of Estimators:  24\n",
      "Min Leaves:  9\n",
      "Classes:  ['functional' 'functional needs repair' 'non functional']\n",
      "+++++++++++++++++++\n",
      "Accuracy Score:  0.698653198653\n",
      "Precision Score: [ 0.65390428  0.          0.87993197]\n",
      "Recall Score: [ 0.96410002  0.          0.45585903]\n",
      "Fl Score: [ 0.77926756  0.          0.60058038]\n",
      "------------------\n",
      "+++++++++++++++++++"
     ]
    },
    {
     "name": "stderr",
     "output_type": "stream",
     "text": [
      "//anaconda/lib/python2.7/site-packages/sklearn/base.py:436: DataConversionWarning: A column-vector y was passed when a 1d array was expected. Please change the shape of y to (n_samples,), for example using ravel().\n",
      "  return self.fit(X, y, **fit_params).transform(X)\n",
      "//anaconda/lib/python2.7/site-packages/sklearn/base.py:436: DataConversionWarning: A column-vector y was passed when a 1d array was expected. Please change the shape of y to (n_samples,), for example using ravel().\n",
      "  return self.fit(X, y, **fit_params).transform(X)\n"
     ]
    },
    {
     "name": "stdout",
     "output_type": "stream",
     "text": [
      "\n",
      "Number of Estimators:  24\n",
      "Min Leaves:  10\n",
      "Classes:  ['functional' 'functional needs repair' 'non functional']\n",
      "+++++++++++++++++++\n",
      "Accuracy Score:  0.700067340067\n",
      "Precision Score: [ 0.656743    0.          0.86699346]\n",
      "Recall Score: [ 0.95852934  0.          0.46748899]\n",
      "Fl Score: [ 0.77944433  0.          0.60744133]\n",
      "------------------\n",
      "+++++++++++++++++++\n",
      "Number of Estimators:  24\n",
      "Min Leaves:  11\n",
      "Classes:  ['functional' 'functional needs repair' 'non functional']\n",
      "+++++++++++++++++++\n",
      "Accuracy Score:  0.704713804714\n",
      "Precision Score: [ 0.6609923  0.         0.8664557]\n",
      "Recall Score: [ 0.95654865  0.          0.48246696]\n",
      "Fl Score: [ 0.78176851  0.          0.61980758]\n",
      "------------------\n",
      "+++++++++++++++++++"
     ]
    },
    {
     "name": "stderr",
     "output_type": "stream",
     "text": [
      "//anaconda/lib/python2.7/site-packages/sklearn/base.py:436: DataConversionWarning: A column-vector y was passed when a 1d array was expected. Please change the shape of y to (n_samples,), for example using ravel().\n",
      "  return self.fit(X, y, **fit_params).transform(X)\n",
      "//anaconda/lib/python2.7/site-packages/sklearn/base.py:436: DataConversionWarning: A column-vector y was passed when a 1d array was expected. Please change the shape of y to (n_samples,), for example using ravel().\n",
      "  return self.fit(X, y, **fit_params).transform(X)\n"
     ]
    },
    {
     "name": "stdout",
     "output_type": "stream",
     "text": [
      "\n",
      "Number of Estimators:  24\n",
      "Min Leaves:  12\n",
      "Classes:  ['functional' 'functional needs repair' 'non functional']\n",
      "+++++++++++++++++++\n",
      "Accuracy Score:  0.7\n",
      "Precision Score: [ 0.65630031  0.          0.86913742]\n",
      "Recall Score: [ 0.95877692  0.          0.46696035]\n",
      "Fl Score: [ 0.77921425  0.          0.60751949]\n",
      "------------------\n",
      "+++++++++++++++++++\n",
      "Number of Estimators:  24\n",
      "Min Leaves:  13\n",
      "Classes:  ['functional' 'functional needs repair' 'non functional']\n",
      "+++++++++++++++++++\n",
      "Accuracy Score:  0.698720538721\n",
      "Precision Score: [ 0.65607207  0.          0.86149854]\n",
      "Recall Score: [ 0.9556821   0.          0.46801762]\n",
      "Fl Score: [ 0.77802973  0.          0.60653117]\n",
      "------------------\n",
      "+++++++++++++++++++"
     ]
    },
    {
     "name": "stderr",
     "output_type": "stream",
     "text": [
      "//anaconda/lib/python2.7/site-packages/sklearn/base.py:436: DataConversionWarning: A column-vector y was passed when a 1d array was expected. Please change the shape of y to (n_samples,), for example using ravel().\n",
      "  return self.fit(X, y, **fit_params).transform(X)\n",
      "//anaconda/lib/python2.7/site-packages/sklearn/base.py:436: DataConversionWarning: A column-vector y was passed when a 1d array was expected. Please change the shape of y to (n_samples,), for example using ravel().\n",
      "  return self.fit(X, y, **fit_params).transform(X)\n"
     ]
    },
    {
     "name": "stdout",
     "output_type": "stream",
     "text": [
      "\n",
      "Number of Estimators:  24\n",
      "Min Leaves:  14\n",
      "Classes:  ['functional' 'functional needs repair' 'non functional']\n",
      "+++++++++++++++++++\n",
      "Accuracy Score:  0.705656565657\n",
      "Precision Score: [ 0.66387063  0.          0.85270846]\n",
      "Recall Score: [ 0.950359    0.          0.49374449]\n",
      "Fl Score: [ 0.78169229  0.          0.62537663]\n",
      "------------------\n",
      "+++++++++++++++++++\n",
      "Number of Estimators:  24\n",
      "Min Leaves:  15\n",
      "Classes:  ['functional' 'functional needs repair' 'non functional']\n",
      "+++++++++++++++++++\n",
      "Accuracy Score:  0.710303030303\n",
      "Precision Score: [ 0.66735985  0.          0.86007857]\n",
      "Recall Score: [ 0.95345383  0.          0.5014978 ]\n",
      "Fl Score: [ 0.78515725  0.          0.63357079]\n",
      "------------------\n",
      "+++++++++++++++++++"
     ]
    },
    {
     "name": "stderr",
     "output_type": "stream",
     "text": [
      "//anaconda/lib/python2.7/site-packages/sklearn/base.py:436: DataConversionWarning: A column-vector y was passed when a 1d array was expected. Please change the shape of y to (n_samples,), for example using ravel().\n",
      "  return self.fit(X, y, **fit_params).transform(X)\n",
      "//anaconda/lib/python2.7/site-packages/sklearn/base.py:436: DataConversionWarning: A column-vector y was passed when a 1d array was expected. Please change the shape of y to (n_samples,), for example using ravel().\n",
      "  return self.fit(X, y, **fit_params).transform(X)\n"
     ]
    },
    {
     "name": "stdout",
     "output_type": "stream",
     "text": [
      "\n",
      "Number of Estimators:  24\n",
      "Min Leaves:  16\n",
      "Classes:  ['functional' 'functional needs repair' 'non functional']\n",
      "+++++++++++++++++++\n",
      "Accuracy Score:  0.708148148148\n",
      "Precision Score: [ 0.66378054  0.          0.87064364]\n",
      "Recall Score: [ 0.95852934  0.          0.48863436]\n",
      "Fl Score: [ 0.78437927  0.          0.62595937]\n",
      "------------------\n",
      "+++++++++++++++++++\n",
      "Number of Estimators:  24\n",
      "Min Leaves:  17\n",
      "Classes:  ['functional' 'functional needs repair' 'non functional']\n",
      "+++++++++++++++++++\n",
      "Accuracy Score:  0.71164983165\n",
      "Precision Score: [ 0.66793563  0.          0.86512758]\n",
      "Recall Score: [ 0.9556821   0.          0.50185022]\n",
      "Fl Score: [ 0.78631086  0.          0.63521802]\n",
      "------------------\n",
      "+++++++++++++++++++"
     ]
    },
    {
     "name": "stderr",
     "output_type": "stream",
     "text": [
      "//anaconda/lib/python2.7/site-packages/sklearn/base.py:436: DataConversionWarning: A column-vector y was passed when a 1d array was expected. Please change the shape of y to (n_samples,), for example using ravel().\n",
      "  return self.fit(X, y, **fit_params).transform(X)\n",
      "//anaconda/lib/python2.7/site-packages/sklearn/base.py:436: DataConversionWarning: A column-vector y was passed when a 1d array was expected. Please change the shape of y to (n_samples,), for example using ravel().\n",
      "  return self.fit(X, y, **fit_params).transform(X)\n"
     ]
    },
    {
     "name": "stdout",
     "output_type": "stream",
     "text": [
      "\n",
      "Number of Estimators:  24\n",
      "Min Leaves:  18\n",
      "Classes:  ['functional' 'functional needs repair' 'non functional']\n",
      "+++++++++++++++++++\n",
      "Accuracy Score:  0.708754208754\n",
      "Precision Score: [ 0.66623253  0.          0.85568557]\n",
      "Recall Score: [ 0.94986383  0.          0.50255507]\n",
      "Fl Score: [ 0.78315897  0.          0.63321492]\n",
      "------------------\n",
      "+++++++++++++++++++\n",
      "Number of Estimators:  24\n",
      "Min Leaves:  19\n",
      "Classes:  ['functional' 'functional needs repair' 'non functional']\n",
      "+++++++++++++++++++\n",
      "Accuracy Score:  0.706599326599\n",
      "Precision Score: [ 0.66306492  0.          0.86578865]\n",
      "Recall Score: [ 0.95716762  0.          0.48651982]\n",
      "Fl Score: [ 0.78342368  0.          0.62296931]\n",
      "------------------\n",
      "+++++++++++++++++++"
     ]
    },
    {
     "name": "stderr",
     "output_type": "stream",
     "text": [
      "//anaconda/lib/python2.7/site-packages/sklearn/base.py:436: DataConversionWarning: A column-vector y was passed when a 1d array was expected. Please change the shape of y to (n_samples,), for example using ravel().\n",
      "  return self.fit(X, y, **fit_params).transform(X)\n",
      "//anaconda/lib/python2.7/site-packages/sklearn/base.py:436: DataConversionWarning: A column-vector y was passed when a 1d array was expected. Please change the shape of y to (n_samples,), for example using ravel().\n",
      "  return self.fit(X, y, **fit_params).transform(X)\n"
     ]
    },
    {
     "name": "stdout",
     "output_type": "stream",
     "text": [
      "\n",
      "Number of Estimators:  24\n",
      "Min Leaves:  20\n",
      "Classes:  ['functional' 'functional needs repair' 'non functional']\n",
      "+++++++++++++++++++\n",
      "Accuracy Score:  0.707744107744\n",
      "Precision Score: [ 0.66360436  0.          0.86824852]\n",
      "Recall Score: [ 0.95679624  0.          0.49004405]\n",
      "Fl Score: [ 0.78367554  0.          0.62649245]\n",
      "------------------\n",
      "+++++++++++++++++++\n",
      "Number of Estimators:  25\n",
      "Min Leaves:  2\n",
      "Classes:  ['functional' 'functional needs repair' 'non functional']\n",
      "+++++++++++++++++++\n",
      "Accuracy Score:  0.674545454545\n",
      "Precision Score: [ 0.62898642  0.          0.93904675]\n",
      "Recall Score: [ 0.98638277  0.          0.36105727]\n",
      "Fl Score: [ 0.76814808  0.          0.52157312]\n",
      "------------------\n",
      "+++++++++++++++++++"
     ]
    },
    {
     "name": "stderr",
     "output_type": "stream",
     "text": [
      "//anaconda/lib/python2.7/site-packages/sklearn/base.py:436: DataConversionWarning: A column-vector y was passed when a 1d array was expected. Please change the shape of y to (n_samples,), for example using ravel().\n",
      "  return self.fit(X, y, **fit_params).transform(X)\n",
      "//anaconda/lib/python2.7/site-packages/sklearn/base.py:436: DataConversionWarning: A column-vector y was passed when a 1d array was expected. Please change the shape of y to (n_samples,), for example using ravel().\n",
      "  return self.fit(X, y, **fit_params).transform(X)\n"
     ]
    },
    {
     "name": "stdout",
     "output_type": "stream",
     "text": [
      "\n",
      "Number of Estimators:  25\n",
      "Min Leaves:  3\n",
      "Classes:  ['functional' 'functional needs repair' 'non functional']\n",
      "+++++++++++++++++++\n",
      "Accuracy Score:  0.628484848485\n",
      "Precision Score: [ 0.59819277  0.          0.88471338]\n",
      "Recall Score: [ 0.98341174  0.          0.24475771]\n",
      "Fl Score: [ 0.74388988  0.          0.38343685]\n",
      "------------------\n",
      "+++++++++++++++++++\n",
      "Number of Estimators:  25\n",
      "Min Leaves:  4\n",
      "Classes:  ['functional' 'functional needs repair' 'non functional']\n",
      "+++++++++++++++++++\n",
      "Accuracy Score:  0.69037037037\n",
      "Precision Score: [ 0.64349739  0.          0.91349884]\n",
      "Recall Score: [ 0.97759346  0.          0.41497797]\n",
      "Fl Score: [ 0.77611794  0.          0.57070156]\n",
      "------------------\n",
      "+++++++++++++++++++"
     ]
    },
    {
     "name": "stderr",
     "output_type": "stream",
     "text": [
      "//anaconda/lib/python2.7/site-packages/sklearn/base.py:436: DataConversionWarning: A column-vector y was passed when a 1d array was expected. Please change the shape of y to (n_samples,), for example using ravel().\n",
      "  return self.fit(X, y, **fit_params).transform(X)\n",
      "//anaconda/lib/python2.7/site-packages/sklearn/base.py:436: DataConversionWarning: A column-vector y was passed when a 1d array was expected. Please change the shape of y to (n_samples,), for example using ravel().\n",
      "  return self.fit(X, y, **fit_params).transform(X)\n"
     ]
    },
    {
     "name": "stdout",
     "output_type": "stream",
     "text": [
      "\n",
      "Number of Estimators:  25\n",
      "Min Leaves:  5\n",
      "Classes:  ['functional' 'functional needs repair' 'non functional']\n",
      "+++++++++++++++++++\n",
      "Accuracy Score:  0.661414141414\n",
      "Precision Score: [ 0.62430011  0.          0.85902896]\n",
      "Recall Score: [ 0.96620451  0.          0.3554185 ]\n",
      "Fl Score: [ 0.7585034   0.          0.50280444]\n",
      "------------------\n",
      "+++++++++++++++++++\n",
      "Number of Estimators:  25\n",
      "Min Leaves:  6\n",
      "Classes:  ['functional' 'functional needs repair' 'non functional']\n",
      "+++++++++++++++++++\n",
      "Accuracy Score:  0.695824915825\n",
      "Precision Score: [ 0.64916192  0.          0.90215407]\n",
      "Recall Score: [ 0.97326071  0.          0.4354185 ]\n",
      "Fl Score: [ 0.77883996  0.          0.58735441]\n",
      "------------------\n",
      "+++++++++++++++++++"
     ]
    },
    {
     "name": "stderr",
     "output_type": "stream",
     "text": [
      "//anaconda/lib/python2.7/site-packages/sklearn/base.py:436: DataConversionWarning: A column-vector y was passed when a 1d array was expected. Please change the shape of y to (n_samples,), for example using ravel().\n",
      "  return self.fit(X, y, **fit_params).transform(X)\n",
      "//anaconda/lib/python2.7/site-packages/sklearn/base.py:436: DataConversionWarning: A column-vector y was passed when a 1d array was expected. Please change the shape of y to (n_samples,), for example using ravel().\n",
      "  return self.fit(X, y, **fit_params).transform(X)\n"
     ]
    },
    {
     "name": "stdout",
     "output_type": "stream",
     "text": [
      "\n",
      "Number of Estimators:  25\n",
      "Min Leaves:  7\n",
      "Classes:  ['functional' 'functional needs repair' 'non functional']\n",
      "+++++++++++++++++++\n",
      "Accuracy Score:  0.69037037037\n",
      "Precision Score: [ 0.64749521  0.          0.87066246]\n",
      "Recall Score: [ 0.96162416  0.          0.43770925]\n",
      "Fl Score: [ 0.77389788  0.          0.58255159]\n",
      "------------------\n",
      "+++++++++++++++++++\n",
      "Number of Estimators:  25\n",
      "Min Leaves:  8\n",
      "Classes:  ['functional' 'functional needs repair' 'non functional']\n",
      "+++++++++++++++++++\n",
      "Accuracy Score:  0.697037037037\n",
      "Precision Score: [ 0.654395    0.          0.86498171]\n",
      "Recall Score: [ 0.95939589  0.          0.45832599]\n",
      "Fl Score: [ 0.77807339  0.          0.5991707 ]\n",
      "------------------\n",
      "+++++++++++++++++++"
     ]
    },
    {
     "name": "stderr",
     "output_type": "stream",
     "text": [
      "//anaconda/lib/python2.7/site-packages/sklearn/base.py:436: DataConversionWarning: A column-vector y was passed when a 1d array was expected. Please change the shape of y to (n_samples,), for example using ravel().\n",
      "  return self.fit(X, y, **fit_params).transform(X)\n",
      "//anaconda/lib/python2.7/site-packages/sklearn/base.py:436: DataConversionWarning: A column-vector y was passed when a 1d array was expected. Please change the shape of y to (n_samples,), for example using ravel().\n",
      "  return self.fit(X, y, **fit_params).transform(X)\n"
     ]
    },
    {
     "name": "stdout",
     "output_type": "stream",
     "text": [
      "\n",
      "Number of Estimators:  25\n",
      "Min Leaves:  9\n",
      "Classes:  ['functional' 'functional needs repair' 'non functional']\n",
      "+++++++++++++++++++\n",
      "Accuracy Score:  0.688282828283\n",
      "Precision Score: [ 0.64547941  0.          0.87387711]\n",
      "Recall Score: [ 0.96422382  0.          0.42854626]\n",
      "Fl Score: [ 0.77329362  0.          0.57507685]\n",
      "------------------\n",
      "+++++++++++++++++++\n",
      "Number of Estimators:  25\n",
      "Min Leaves:  10\n",
      "Classes:  ['functional' 'functional needs repair' 'non functional']\n",
      "+++++++++++++++++++\n",
      "Accuracy Score:  0.692929292929\n",
      "Precision Score: [ 0.65124884  0.          0.86042582]\n",
      "Recall Score: [ 0.95865313  0.          0.44863436]\n",
      "Fl Score: [ 0.77560218  0.          0.58976141]\n",
      "------------------\n",
      "+++++++++++++++++++"
     ]
    },
    {
     "name": "stderr",
     "output_type": "stream",
     "text": [
      "//anaconda/lib/python2.7/site-packages/sklearn/base.py:436: DataConversionWarning: A column-vector y was passed when a 1d array was expected. Please change the shape of y to (n_samples,), for example using ravel().\n",
      "  return self.fit(X, y, **fit_params).transform(X)\n",
      "//anaconda/lib/python2.7/site-packages/sklearn/base.py:436: DataConversionWarning: A column-vector y was passed when a 1d array was expected. Please change the shape of y to (n_samples,), for example using ravel().\n",
      "  return self.fit(X, y, **fit_params).transform(X)\n"
     ]
    },
    {
     "name": "stdout",
     "output_type": "stream",
     "text": [
      "\n",
      "Number of Estimators:  25\n",
      "Min Leaves:  11\n",
      "Classes:  ['functional' 'functional needs repair' 'non functional']\n",
      "+++++++++++++++++++\n",
      "Accuracy Score:  0.702895622896\n",
      "Precision Score: [ 0.65947835  0.          0.86626042]\n",
      "Recall Score: [ 0.95778658  0.          0.47594714]\n",
      "Fl Score: [ 0.78112065  0.          0.61435233]\n",
      "------------------\n",
      "+++++++++++++++++++\n",
      "Number of Estimators:  25\n",
      "Min Leaves:  12\n",
      "Classes:  ['functional' 'functional needs repair' 'non functional']\n",
      "+++++++++++++++++++\n",
      "Accuracy Score:  0.702895622896\n",
      "Precision Score: [ 0.65961801  0.          0.86547085]\n",
      "Recall Score: [ 0.95766279  0.          0.47612335]\n",
      "Fl Score: [ 0.78117742  0.          0.61430033]\n",
      "------------------\n",
      "+++++++++++++++++++"
     ]
    },
    {
     "name": "stderr",
     "output_type": "stream",
     "text": [
      "//anaconda/lib/python2.7/site-packages/sklearn/base.py:436: DataConversionWarning: A column-vector y was passed when a 1d array was expected. Please change the shape of y to (n_samples,), for example using ravel().\n",
      "  return self.fit(X, y, **fit_params).transform(X)\n",
      "//anaconda/lib/python2.7/site-packages/sklearn/base.py:436: DataConversionWarning: A column-vector y was passed when a 1d array was expected. Please change the shape of y to (n_samples,), for example using ravel().\n",
      "  return self.fit(X, y, **fit_params).transform(X)\n"
     ]
    },
    {
     "name": "stdout",
     "output_type": "stream",
     "text": [
      "\n",
      "Number of Estimators:  25\n",
      "Min Leaves:  13\n",
      "Classes:  ['functional' 'functional needs repair' 'non functional']\n",
      "+++++++++++++++++++\n",
      "Accuracy Score:  0.704444444444\n",
      "Precision Score: [ 0.66225507  0.          0.85718731]\n",
      "Recall Score: [ 0.953949    0.          0.48546256]\n",
      "Fl Score: [ 0.78177945  0.          0.61986725]\n",
      "------------------\n",
      "+++++++++++++++++++\n",
      "Number of Estimators:  25\n",
      "Min Leaves:  14\n",
      "Classes:  ['functional' 'functional needs repair' 'non functional']\n",
      "+++++++++++++++++++\n",
      "Accuracy Score:  0.710437710438\n",
      "Precision Score: [ 0.66805773  0.          0.85603345]\n",
      "Recall Score: [ 0.95122555  0.          0.50502203]\n",
      "Fl Score: [ 0.78488253  0.          0.63526543]\n",
      "------------------\n",
      "+++++++++++++++++++"
     ]
    },
    {
     "name": "stderr",
     "output_type": "stream",
     "text": [
      "//anaconda/lib/python2.7/site-packages/sklearn/base.py:436: DataConversionWarning: A column-vector y was passed when a 1d array was expected. Please change the shape of y to (n_samples,), for example using ravel().\n",
      "  return self.fit(X, y, **fit_params).transform(X)\n",
      "//anaconda/lib/python2.7/site-packages/sklearn/base.py:436: DataConversionWarning: A column-vector y was passed when a 1d array was expected. Please change the shape of y to (n_samples,), for example using ravel().\n",
      "  return self.fit(X, y, **fit_params).transform(X)\n"
     ]
    },
    {
     "name": "stdout",
     "output_type": "stream",
     "text": [
      "\n",
      "Number of Estimators:  25\n",
      "Min Leaves:  15\n",
      "Classes:  ['functional' 'functional needs repair' 'non functional']\n",
      "+++++++++++++++++++\n",
      "Accuracy Score:  0.711784511785\n",
      "Precision Score: [ 0.67162471  0.          0.84260321]\n",
      "Recall Score: [ 0.94466452  0.          0.51788546]\n",
      "Fl Score: [ 0.7850823   0.          0.64149296]\n",
      "------------------\n",
      "+++++++++++++++++++\n",
      "Number of Estimators:  25\n",
      "Min Leaves:  16\n",
      "Classes:  ['functional' 'functional needs repair' 'non functional']\n",
      "+++++++++++++++++++\n",
      "Accuracy Score:  0.706531986532\n",
      "Precision Score: [ 0.66141263  0.          0.87664632]\n",
      "Recall Score: [ 0.9610052   0.          0.48088106]\n",
      "Fl Score: [ 0.78354782  0.          0.62107419]\n",
      "------------------\n",
      "+++++++++++++++++++"
     ]
    },
    {
     "name": "stderr",
     "output_type": "stream",
     "text": [
      "//anaconda/lib/python2.7/site-packages/sklearn/base.py:436: DataConversionWarning: A column-vector y was passed when a 1d array was expected. Please change the shape of y to (n_samples,), for example using ravel().\n",
      "  return self.fit(X, y, **fit_params).transform(X)\n",
      "//anaconda/lib/python2.7/site-packages/sklearn/base.py:436: DataConversionWarning: A column-vector y was passed when a 1d array was expected. Please change the shape of y to (n_samples,), for example using ravel().\n",
      "  return self.fit(X, y, **fit_params).transform(X)\n"
     ]
    },
    {
     "name": "stdout",
     "output_type": "stream",
     "text": [
      "\n",
      "Number of Estimators:  25\n",
      "Min Leaves:  17\n",
      "Classes:  ['functional' 'functional needs repair' 'non functional']\n",
      "+++++++++++++++++++\n",
      "Accuracy Score:  0.714410774411\n",
      "Precision Score: [ 0.67152457  0.          0.85933353]\n",
      "Recall Score: [ 0.95258727  0.          0.51348018]\n",
      "Fl Score: [ 0.78773609  0.          0.64284139]\n",
      "------------------\n",
      "+++++++++++++++++++\n",
      "Number of Estimators:  25\n",
      "Min Leaves:  18\n",
      "Classes:  ['functional' 'functional needs repair' 'non functional']\n",
      "+++++++++++++++++++\n",
      "Accuracy Score:  0.711043771044\n",
      "Precision Score: [ 0.66512544  0.          0.88016399]\n",
      "Recall Score: [ 0.96162416  0.          0.49180617]\n",
      "Fl Score: [ 0.7863542   0.          0.63101967]\n",
      "------------------\n",
      "+++++++++++++++++++"
     ]
    },
    {
     "name": "stderr",
     "output_type": "stream",
     "text": [
      "//anaconda/lib/python2.7/site-packages/sklearn/base.py:436: DataConversionWarning: A column-vector y was passed when a 1d array was expected. Please change the shape of y to (n_samples,), for example using ravel().\n",
      "  return self.fit(X, y, **fit_params).transform(X)\n",
      "//anaconda/lib/python2.7/site-packages/sklearn/base.py:436: DataConversionWarning: A column-vector y was passed when a 1d array was expected. Please change the shape of y to (n_samples,), for example using ravel().\n",
      "  return self.fit(X, y, **fit_params).transform(X)\n"
     ]
    },
    {
     "name": "stdout",
     "output_type": "stream",
     "text": [
      "\n",
      "Number of Estimators:  25\n",
      "Min Leaves:  19\n",
      "Classes:  ['functional' 'functional needs repair' 'non functional']\n",
      "+++++++++++++++++++\n",
      "Accuracy Score:  0.712053872054\n",
      "Precision Score: [ 0.66781857  0.          0.86839695]\n",
      "Recall Score: [ 0.95692003  0.          0.50114537]\n",
      "Fl Score: [ 0.78664835  0.          0.63553073]\n",
      "------------------\n",
      "+++++++++++++++++++\n",
      "Number of Estimators:  25\n",
      "Min Leaves:  20\n",
      "Classes:  ['functional' 'functional needs repair' 'non functional']\n",
      "+++++++++++++++++++\n",
      "Accuracy Score:  0.714814814815\n",
      "Precision Score: [ 0.67131769  0.          0.86225244]\n",
      "Recall Score: [ 0.95295865  0.          0.51400881]\n",
      "Fl Score: [ 0.78772064  0.          0.64407154]\n",
      "------------------\n",
      "+++++++++++++++++++"
     ]
    },
    {
     "name": "stderr",
     "output_type": "stream",
     "text": [
      "//anaconda/lib/python2.7/site-packages/sklearn/base.py:436: DataConversionWarning: A column-vector y was passed when a 1d array was expected. Please change the shape of y to (n_samples,), for example using ravel().\n",
      "  return self.fit(X, y, **fit_params).transform(X)\n",
      "//anaconda/lib/python2.7/site-packages/sklearn/base.py:436: DataConversionWarning: A column-vector y was passed when a 1d array was expected. Please change the shape of y to (n_samples,), for example using ravel().\n",
      "  return self.fit(X, y, **fit_params).transform(X)\n"
     ]
    },
    {
     "name": "stdout",
     "output_type": "stream",
     "text": [
      "\n",
      "Number of Estimators:  26\n",
      "Min Leaves:  2\n",
      "Classes:  ['functional' 'functional needs repair' 'non functional']\n",
      "+++++++++++++++++++\n",
      "Accuracy Score:  0.611851851852\n",
      "Precision Score: [ 0.58894321  0.          0.80771704]\n",
      "Recall Score: [ 0.96929933  0.          0.22132159]\n",
      "Fl Score: [ 0.73270014  0.          0.34744122]\n",
      "------------------\n",
      "+++++++++++++++++++\n",
      "Number of Estimators:  26\n",
      "Min Leaves:  3\n",
      "Classes:  ['functional' 'functional needs repair' 'non functional']\n",
      "+++++++++++++++++++\n",
      "Accuracy Score:  0.662693602694\n",
      "Precision Score: [ 0.62484015  0.          0.86526946]\n",
      "Recall Score: [ 0.96781382  0.          0.35647577]\n",
      "Fl Score: [ 0.75939777  0.          0.50492949]\n",
      "------------------\n",
      "+++++++++++++++++++"
     ]
    },
    {
     "name": "stderr",
     "output_type": "stream",
     "text": [
      "//anaconda/lib/python2.7/site-packages/sklearn/base.py:436: DataConversionWarning: A column-vector y was passed when a 1d array was expected. Please change the shape of y to (n_samples,), for example using ravel().\n",
      "  return self.fit(X, y, **fit_params).transform(X)\n",
      "//anaconda/lib/python2.7/site-packages/sklearn/base.py:436: DataConversionWarning: A column-vector y was passed when a 1d array was expected. Please change the shape of y to (n_samples,), for example using ravel().\n",
      "  return self.fit(X, y, **fit_params).transform(X)\n"
     ]
    },
    {
     "name": "stdout",
     "output_type": "stream",
     "text": [
      "\n",
      "Number of Estimators:  26\n",
      "Min Leaves:  4\n",
      "Classes:  ['functional' 'functional needs repair' 'non functional']\n",
      "+++++++++++++++++++\n",
      "Accuracy Score:  0.670101010101\n",
      "Precision Score: [ 0.63049972  0.          0.86926512]\n",
      "Recall Score: [ 0.96682347  0.          0.37726872]\n",
      "Fl Score: [ 0.76325434  0.          0.52617351]\n",
      "------------------\n",
      "+++++++++++++++++++\n",
      "Number of Estimators:  26\n",
      "Min Leaves:  5\n",
      "Classes:  ['functional' 'functional needs repair' 'non functional']\n",
      "+++++++++++++++++++\n",
      "Accuracy Score:  0.666531986532\n",
      "Precision Score: [ 0.6268061   0.          0.88075764]\n",
      "Recall Score: [ 0.97202278  0.          0.36052863]\n",
      "Fl Score: [ 0.76214511  0.          0.51162791]\n",
      "------------------\n",
      "+++++++++++++++++++"
     ]
    },
    {
     "name": "stderr",
     "output_type": "stream",
     "text": [
      "//anaconda/lib/python2.7/site-packages/sklearn/base.py:436: DataConversionWarning: A column-vector y was passed when a 1d array was expected. Please change the shape of y to (n_samples,), for example using ravel().\n",
      "  return self.fit(X, y, **fit_params).transform(X)\n",
      "//anaconda/lib/python2.7/site-packages/sklearn/base.py:436: DataConversionWarning: A column-vector y was passed when a 1d array was expected. Please change the shape of y to (n_samples,), for example using ravel().\n",
      "  return self.fit(X, y, **fit_params).transform(X)\n"
     ]
    },
    {
     "name": "stdout",
     "output_type": "stream",
     "text": [
      "\n",
      "Number of Estimators:  26\n",
      "Min Leaves:  6\n",
      "Classes:  ['functional' 'functional needs repair' 'non functional']\n",
      "+++++++++++++++++++\n",
      "Accuracy Score:  0.640202020202\n",
      "Precision Score: [ 0.60928962  0.          0.83431373]\n",
      "Recall Score: [ 0.96620451  0.          0.29991189]\n",
      "Fl Score: [ 0.74731903  0.          0.44121841]\n",
      "------------------\n",
      "+++++++++++++++++++\n",
      "Number of Estimators:  26\n",
      "Min Leaves:  7\n",
      "Classes:  ['functional' 'functional needs repair' 'non functional']\n",
      "+++++++++++++++++++\n",
      "Accuracy Score:  0.674882154882\n",
      "Precision Score: [ 0.63426715  0.          0.87218935]\n",
      "Recall Score: [ 0.96694726  0.          0.38960352]\n",
      "Fl Score: [ 0.76604717  0.          0.53861145]\n",
      "------------------\n",
      "+++++++++++++++++++"
     ]
    },
    {
     "name": "stderr",
     "output_type": "stream",
     "text": [
      "//anaconda/lib/python2.7/site-packages/sklearn/base.py:436: DataConversionWarning: A column-vector y was passed when a 1d array was expected. Please change the shape of y to (n_samples,), for example using ravel().\n",
      "  return self.fit(X, y, **fit_params).transform(X)\n",
      "//anaconda/lib/python2.7/site-packages/sklearn/base.py:436: DataConversionWarning: A column-vector y was passed when a 1d array was expected. Please change the shape of y to (n_samples,), for example using ravel().\n",
      "  return self.fit(X, y, **fit_params).transform(X)\n"
     ]
    },
    {
     "name": "stdout",
     "output_type": "stream",
     "text": [
      "\n",
      "Number of Estimators:  26\n",
      "Min Leaves:  8\n",
      "Classes:  ['functional' 'functional needs repair' 'non functional']\n",
      "+++++++++++++++++++\n",
      "Accuracy Score:  0.699124579125\n",
      "Precision Score: [ 0.65589852  0.          0.86809917]\n",
      "Recall Score: [ 0.96013865  0.          0.46273128]\n",
      "Fl Score: [ 0.77937999  0.          0.60367816]\n",
      "------------------\n",
      "+++++++++++++++++++\n",
      "Number of Estimators:  26\n",
      "Min Leaves:  9\n",
      "Classes:  ['functional' 'functional needs repair' 'non functional']\n",
      "+++++++++++++++++++\n",
      "Accuracy Score:  0.669562289562\n",
      "Precision Score: [ 0.63271984  0.          0.84114286]\n",
      "Recall Score: [ 0.95753899  0.          0.38907489]\n",
      "Fl Score: [ 0.76195636  0.          0.53204819]\n",
      "------------------\n",
      "+++++++++++++++++++"
     ]
    },
    {
     "name": "stderr",
     "output_type": "stream",
     "text": [
      "//anaconda/lib/python2.7/site-packages/sklearn/base.py:436: DataConversionWarning: A column-vector y was passed when a 1d array was expected. Please change the shape of y to (n_samples,), for example using ravel().\n",
      "  return self.fit(X, y, **fit_params).transform(X)\n",
      "//anaconda/lib/python2.7/site-packages/sklearn/base.py:436: DataConversionWarning: A column-vector y was passed when a 1d array was expected. Please change the shape of y to (n_samples,), for example using ravel().\n",
      "  return self.fit(X, y, **fit_params).transform(X)\n"
     ]
    },
    {
     "name": "stdout",
     "output_type": "stream",
     "text": [
      "\n",
      "Number of Estimators:  26\n",
      "Min Leaves:  10\n",
      "Classes:  ['functional' 'functional needs repair' 'non functional']\n",
      "+++++++++++++++++++\n",
      "Accuracy Score:  0.702087542088\n",
      "Precision Score: [ 0.65818058  0.          0.87084149]\n",
      "Recall Score: [ 0.96013865  0.          0.47048458]\n",
      "Fl Score: [ 0.78098882  0.          0.61091408]\n",
      "------------------\n",
      "+++++++++++++++++++\n",
      "Number of Estimators:  26\n",
      "Min Leaves:  11\n",
      "Classes:  ['functional' 'functional needs repair' 'non functional']\n",
      "+++++++++++++++++++\n",
      "Accuracy Score:  0.697441077441\n",
      "Precision Score: [ 0.65489499  0.          0.8625904 ]\n",
      "Recall Score: [ 0.95729141  0.          0.46237885]\n",
      "Fl Score: [ 0.77773308  0.          0.60204199]\n",
      "------------------\n",
      "+++++++++++++++++++"
     ]
    },
    {
     "name": "stderr",
     "output_type": "stream",
     "text": [
      "//anaconda/lib/python2.7/site-packages/sklearn/base.py:436: DataConversionWarning: A column-vector y was passed when a 1d array was expected. Please change the shape of y to (n_samples,), for example using ravel().\n",
      "  return self.fit(X, y, **fit_params).transform(X)\n",
      "//anaconda/lib/python2.7/site-packages/sklearn/base.py:436: DataConversionWarning: A column-vector y was passed when a 1d array was expected. Please change the shape of y to (n_samples,), for example using ravel().\n",
      "  return self.fit(X, y, **fit_params).transform(X)\n"
     ]
    },
    {
     "name": "stdout",
     "output_type": "stream",
     "text": [
      "\n",
      "Number of Estimators:  26\n",
      "Min Leaves:  12\n",
      "Classes:  ['functional' 'functional needs repair' 'non functional']\n",
      "+++++++++++++++++++\n",
      "Accuracy Score:  0.695420875421\n",
      "Precision Score: [ 0.65304399  0.          0.86232125]\n",
      "Recall Score: [ 0.9574152  0.         0.4569163]\n",
      "Fl Score: [ 0.77646704  0.          0.5973278 ]\n",
      "------------------\n",
      "+++++++++++++++++++\n",
      "Number of Estimators:  26\n",
      "Min Leaves:  13\n",
      "Classes:  ['functional' 'functional needs repair' 'non functional']\n",
      "+++++++++++++++++++\n",
      "Accuracy Score:  0.697643097643\n",
      "Precision Score: [ 0.65438878  0.          0.86757385]\n",
      "Recall Score: [ 0.95890072  0.          0.46061674]\n",
      "Fl Score: [ 0.7779061   0.          0.60174954]\n",
      "------------------\n",
      "+++++++++++++++++++"
     ]
    },
    {
     "name": "stderr",
     "output_type": "stream",
     "text": [
      "//anaconda/lib/python2.7/site-packages/sklearn/base.py:436: DataConversionWarning: A column-vector y was passed when a 1d array was expected. Please change the shape of y to (n_samples,), for example using ravel().\n",
      "  return self.fit(X, y, **fit_params).transform(X)\n",
      "//anaconda/lib/python2.7/site-packages/sklearn/base.py:436: DataConversionWarning: A column-vector y was passed when a 1d array was expected. Please change the shape of y to (n_samples,), for example using ravel().\n",
      "  return self.fit(X, y, **fit_params).transform(X)\n"
     ]
    },
    {
     "name": "stdout",
     "output_type": "stream",
     "text": [
      "\n",
      "Number of Estimators:  26\n",
      "Min Leaves:  14\n",
      "Classes:  ['functional' 'functional needs repair' 'non functional']\n",
      "+++++++++++++++++++\n",
      "Accuracy Score:  0.700673400673\n",
      "Precision Score: [ 0.65692503  0.          0.87027915]\n",
      "Recall Score: [ 0.96001486  0.          0.46696035]\n",
      "Fl Score: [ 0.78006337  0.          0.60779817]\n",
      "------------------\n",
      "+++++++++++++++++++\n",
      "Number of Estimators:  26\n",
      "Min Leaves:  15\n",
      "Classes:  ['functional' 'functional needs repair' 'non functional']\n",
      "+++++++++++++++++++\n",
      "Accuracy Score:  0.699326599327\n",
      "Precision Score: [ 0.6555978   0.          0.87097844]\n",
      "Recall Score: [ 0.96051003  0.          0.46273128]\n",
      "Fl Score: [ 0.77928991  0.          0.60437284]\n",
      "------------------\n",
      "+++++++++++++++++++"
     ]
    },
    {
     "name": "stderr",
     "output_type": "stream",
     "text": [
      "//anaconda/lib/python2.7/site-packages/sklearn/base.py:436: DataConversionWarning: A column-vector y was passed when a 1d array was expected. Please change the shape of y to (n_samples,), for example using ravel().\n",
      "  return self.fit(X, y, **fit_params).transform(X)\n",
      "//anaconda/lib/python2.7/site-packages/sklearn/base.py:436: DataConversionWarning: A column-vector y was passed when a 1d array was expected. Please change the shape of y to (n_samples,), for example using ravel().\n",
      "  return self.fit(X, y, **fit_params).transform(X)\n"
     ]
    },
    {
     "name": "stdout",
     "output_type": "stream",
     "text": [
      "\n",
      "Number of Estimators:  26\n",
      "Min Leaves:  16\n",
      "Classes:  ['functional' 'functional needs repair' 'non functional']\n",
      "+++++++++++++++++++\n",
      "Accuracy Score:  0.707407407407\n",
      "Precision Score: [ 0.66467997  0.          0.85853957]\n",
      "Recall Score: [ 0.95258727  0.          0.49515419]\n",
      "Fl Score: [ 0.78300687  0.          0.62807331]\n",
      "------------------\n",
      "+++++++++++++++++++\n",
      "Number of Estimators:  26\n",
      "Min Leaves:  17\n",
      "Classes:  ['functional' 'functional needs repair' 'non functional']\n",
      "+++++++++++++++++++\n",
      "Accuracy Score:  0.710168350168\n",
      "Precision Score: [ 0.66503898  0.          0.87598363]\n",
      "Recall Score: [ 0.9610052   0.          0.49039648]\n",
      "Fl Score: [ 0.78608678  0.          0.62878446]\n",
      "------------------\n",
      "+++++++++++++++++++"
     ]
    },
    {
     "name": "stderr",
     "output_type": "stream",
     "text": [
      "//anaconda/lib/python2.7/site-packages/sklearn/base.py:436: DataConversionWarning: A column-vector y was passed when a 1d array was expected. Please change the shape of y to (n_samples,), for example using ravel().\n",
      "  return self.fit(X, y, **fit_params).transform(X)\n",
      "//anaconda/lib/python2.7/site-packages/sklearn/base.py:436: DataConversionWarning: A column-vector y was passed when a 1d array was expected. Please change the shape of y to (n_samples,), for example using ravel().\n",
      "  return self.fit(X, y, **fit_params).transform(X)\n"
     ]
    },
    {
     "name": "stdout",
     "output_type": "stream",
     "text": [
      "\n",
      "Number of Estimators:  26\n",
      "Min Leaves:  18\n",
      "Classes:  ['functional' 'functional needs repair' 'non functional']\n",
      "+++++++++++++++++++\n",
      "Accuracy Score:  0.711447811448\n",
      "Precision Score: [ 0.66758787  0.          0.86670743]\n",
      "Recall Score: [ 0.95692003  0.          0.49955947]\n",
      "Fl Score: [ 0.78648827  0.          0.63380282]\n",
      "------------------\n",
      "+++++++++++++++++++\n",
      "Number of Estimators:  26\n",
      "Min Leaves:  19\n",
      "Classes:  ['functional' 'functional needs repair' 'non functional']\n",
      "+++++++++++++++++++\n",
      "Accuracy Score:  0.712794612795\n",
      "Precision Score: [ 0.67104802  0.          0.85136707]\n",
      "Recall Score: [ 0.94800693  0.          0.51577093]\n",
      "Fl Score: [ 0.78583889  0.          0.64237902]\n",
      "------------------\n",
      "+++++++++++++++++++"
     ]
    },
    {
     "name": "stderr",
     "output_type": "stream",
     "text": [
      "//anaconda/lib/python2.7/site-packages/sklearn/base.py:436: DataConversionWarning: A column-vector y was passed when a 1d array was expected. Please change the shape of y to (n_samples,), for example using ravel().\n",
      "  return self.fit(X, y, **fit_params).transform(X)\n",
      "//anaconda/lib/python2.7/site-packages/sklearn/base.py:436: DataConversionWarning: A column-vector y was passed when a 1d array was expected. Please change the shape of y to (n_samples,), for example using ravel().\n",
      "  return self.fit(X, y, **fit_params).transform(X)\n"
     ]
    },
    {
     "name": "stdout",
     "output_type": "stream",
     "text": [
      "\n",
      "Number of Estimators:  26\n",
      "Min Leaves:  20\n",
      "Classes:  ['functional' 'functional needs repair' 'non functional']\n",
      "+++++++++++++++++++\n",
      "Accuracy Score:  0.716228956229\n",
      "Precision Score: [ 0.67249061  0.          0.86335586]\n",
      "Recall Score: [ 0.95295865  0.          0.51770925]\n",
      "Fl Score: [ 0.78852753  0.          0.64727914]\n",
      "------------------\n",
      "+++++++++++++++++++\n",
      "Number of Estimators:  27\n",
      "Min Leaves:  2\n",
      "Classes:  ['functional' 'functional needs repair' 'non functional']\n",
      "+++++++++++++++++++\n",
      "Accuracy Score:  0.621616161616\n",
      "Precision Score: [ 0.59438872  0.          0.84852294]\n",
      "Recall Score: [ 0.97561278  0.          0.23788546]\n",
      "Fl Score: [ 0.73871678  0.          0.37159372]\n",
      "------------------\n",
      "+++++++++++++++++++"
     ]
    },
    {
     "name": "stderr",
     "output_type": "stream",
     "text": [
      "//anaconda/lib/python2.7/site-packages/sklearn/base.py:436: DataConversionWarning: A column-vector y was passed when a 1d array was expected. Please change the shape of y to (n_samples,), for example using ravel().\n",
      "  return self.fit(X, y, **fit_params).transform(X)\n",
      "//anaconda/lib/python2.7/site-packages/sklearn/base.py:436: DataConversionWarning: A column-vector y was passed when a 1d array was expected. Please change the shape of y to (n_samples,), for example using ravel().\n",
      "  return self.fit(X, y, **fit_params).transform(X)\n"
     ]
    },
    {
     "name": "stdout",
     "output_type": "stream",
     "text": [
      "\n",
      "Number of Estimators:  27\n",
      "Min Leaves:  3\n",
      "Classes:  ['functional' 'functional needs repair' 'non functional']\n",
      "+++++++++++++++++++\n",
      "Accuracy Score:  0.63797979798\n",
      "Precision Score: [ 0.60480968  0.          0.87953151]\n",
      "Recall Score: [ 0.97759346  0.          0.27788546]\n",
      "Fl Score: [ 0.74729122  0.          0.4223353 ]\n",
      "------------------\n",
      "+++++++++++++++++++\n",
      "Number of Estimators:  27\n",
      "Min Leaves:  4\n",
      "Classes:  ['functional' 'functional needs repair' 'non functional']\n",
      "+++++++++++++++++++\n",
      "Accuracy Score:  0.687407407407\n",
      "Precision Score: [ 0.64439299  0.          0.8759971 ]\n",
      "Recall Score: [ 0.9645952   0.          0.42572687]\n",
      "Fl Score: [ 0.77263262  0.          0.57298707]\n",
      "------------------\n",
      "+++++++++++++++++++"
     ]
    },
    {
     "name": "stderr",
     "output_type": "stream",
     "text": [
      "//anaconda/lib/python2.7/site-packages/sklearn/base.py:436: DataConversionWarning: A column-vector y was passed when a 1d array was expected. Please change the shape of y to (n_samples,), for example using ravel().\n",
      "  return self.fit(X, y, **fit_params).transform(X)\n",
      "//anaconda/lib/python2.7/site-packages/sklearn/base.py:436: DataConversionWarning: A column-vector y was passed when a 1d array was expected. Please change the shape of y to (n_samples,), for example using ravel().\n",
      "  return self.fit(X, y, **fit_params).transform(X)\n"
     ]
    },
    {
     "name": "stdout",
     "output_type": "stream",
     "text": [
      "\n",
      "Number of Estimators:  27\n",
      "Min Leaves:  5\n",
      "Classes:  ['functional' 'functional needs repair' 'non functional']\n",
      "+++++++++++++++++++\n",
      "Accuracy Score:  0.690976430976\n",
      "Precision Score: [ 0.64649971  0.          0.8865867 ]\n",
      "Recall Score: [ 0.96830899  0.          0.42977974]\n",
      "Fl Score: [ 0.77533826  0.          0.57892238]\n",
      "------------------\n",
      "+++++++++++++++++++\n",
      "Number of Estimators:  27\n",
      "Min Leaves:  6\n",
      "Classes:  ['functional' 'functional needs repair' 'non functional']\n",
      "+++++++++++++++++++\n",
      "Accuracy Score:  0.678383838384\n",
      "Precision Score: [ 0.63881357  0.          0.85815603]\n",
      "Recall Score: [ 0.96249072  0.          0.40511013]\n",
      "Fl Score: [ 0.76793916  0.          0.55039502]\n",
      "------------------\n",
      "+++++++++++++++++++"
     ]
    },
    {
     "name": "stderr",
     "output_type": "stream",
     "text": [
      "//anaconda/lib/python2.7/site-packages/sklearn/base.py:436: DataConversionWarning: A column-vector y was passed when a 1d array was expected. Please change the shape of y to (n_samples,), for example using ravel().\n",
      "  return self.fit(X, y, **fit_params).transform(X)\n",
      "//anaconda/lib/python2.7/site-packages/sklearn/base.py:436: DataConversionWarning: A column-vector y was passed when a 1d array was expected. Please change the shape of y to (n_samples,), for example using ravel().\n",
      "  return self.fit(X, y, **fit_params).transform(X)\n"
     ]
    },
    {
     "name": "stdout",
     "output_type": "stream",
     "text": [
      "\n",
      "Number of Estimators:  27\n",
      "Min Leaves:  7\n",
      "Classes:  ['functional' 'functional needs repair' 'non functional']\n",
      "+++++++++++++++++++\n",
      "Accuracy Score:  0.698181818182\n",
      "Precision Score: [ 0.65507344  0.          0.86817577]\n",
      "Recall Score: [ 0.96063382  0.          0.45955947]\n",
      "Fl Score: [ 0.77896005  0.          0.6009909 ]\n",
      "------------------\n",
      "+++++++++++++++++++\n",
      "Number of Estimators:  27\n",
      "Min Leaves:  8\n",
      "Classes:  ['functional' 'functional needs repair' 'non functional']\n",
      "+++++++++++++++++++\n",
      "Accuracy Score:  0.698114478114\n",
      "Precision Score: [ 0.65438021  0.          0.87327267]\n",
      "Recall Score: [ 0.96261451  0.          0.45656388]\n",
      "Fl Score: [ 0.77911928  0.          0.59962972]\n",
      "------------------\n",
      "+++++++++++++++++++"
     ]
    },
    {
     "name": "stderr",
     "output_type": "stream",
     "text": [
      "//anaconda/lib/python2.7/site-packages/sklearn/base.py:436: DataConversionWarning: A column-vector y was passed when a 1d array was expected. Please change the shape of y to (n_samples,), for example using ravel().\n",
      "  return self.fit(X, y, **fit_params).transform(X)\n",
      "//anaconda/lib/python2.7/site-packages/sklearn/base.py:436: DataConversionWarning: A column-vector y was passed when a 1d array was expected. Please change the shape of y to (n_samples,), for example using ravel().\n",
      "  return self.fit(X, y, **fit_params).transform(X)\n"
     ]
    },
    {
     "name": "stdout",
     "output_type": "stream",
     "text": [
      "\n",
      "Number of Estimators:  27\n",
      "Min Leaves:  9\n",
      "Classes:  ['functional' 'functional needs repair' 'non functional']\n",
      "+++++++++++++++++++\n",
      "Accuracy Score:  0.702424242424\n",
      "Precision Score: [ 0.65963804  0.          0.8622449 ]\n",
      "Recall Score: [ 0.95654865  0.          0.47647577]\n",
      "Fl Score: [ 0.78082053  0.          0.61377823]\n",
      "------------------\n",
      "+++++++++++++++++++\n",
      "Number of Estimators:  27\n",
      "Min Leaves:  10\n",
      "Classes:  ['functional' 'functional needs repair' 'non functional']\n",
      "+++++++++++++++++++\n",
      "Accuracy Score:  0.703232323232\n",
      "Precision Score: [ 0.66084575  0.          0.85953283]\n",
      "Recall Score: [ 0.9556821   0.          0.47982379]\n",
      "Fl Score: [ 0.78137652  0.          0.61585435]\n",
      "------------------\n",
      "+++++++++++++++++++"
     ]
    },
    {
     "name": "stderr",
     "output_type": "stream",
     "text": [
      "//anaconda/lib/python2.7/site-packages/sklearn/base.py:436: DataConversionWarning: A column-vector y was passed when a 1d array was expected. Please change the shape of y to (n_samples,), for example using ravel().\n",
      "  return self.fit(X, y, **fit_params).transform(X)\n",
      "//anaconda/lib/python2.7/site-packages/sklearn/base.py:436: DataConversionWarning: A column-vector y was passed when a 1d array was expected. Please change the shape of y to (n_samples,), for example using ravel().\n",
      "  return self.fit(X, y, **fit_params).transform(X)\n"
     ]
    },
    {
     "name": "stdout",
     "output_type": "stream",
     "text": [
      "\n",
      "Number of Estimators:  27\n",
      "Min Leaves:  11\n",
      "Classes:  ['functional' 'functional needs repair' 'non functional']\n",
      "+++++++++++++++++++\n",
      "Accuracy Score:  0.67367003367\n",
      "Precision Score: [ 0.6358709   0.          0.84586607]\n",
      "Recall Score: [ 0.95852934  0.          0.3984141 ]\n",
      "Fl Score: [ 0.76455196  0.          0.54168663]\n",
      "------------------\n",
      "+++++++++++++++++++\n",
      "Number of Estimators:  27\n",
      "Min Leaves:  12\n",
      "Classes:  ['functional' 'functional needs repair' 'non functional']\n",
      "+++++++++++++++++++\n",
      "Accuracy Score:  0.701346801347\n",
      "Precision Score: [ 0.65688678  0.          0.87528945]\n",
      "Recall Score: [ 0.96174796  0.          0.46625551]\n",
      "Fl Score: [ 0.78060789  0.          0.60841573]\n",
      "------------------\n",
      "+++++++++++++++++++"
     ]
    },
    {
     "name": "stderr",
     "output_type": "stream",
     "text": [
      "//anaconda/lib/python2.7/site-packages/sklearn/base.py:436: DataConversionWarning: A column-vector y was passed when a 1d array was expected. Please change the shape of y to (n_samples,), for example using ravel().\n",
      "  return self.fit(X, y, **fit_params).transform(X)\n",
      "//anaconda/lib/python2.7/site-packages/sklearn/base.py:436: DataConversionWarning: A column-vector y was passed when a 1d array was expected. Please change the shape of y to (n_samples,), for example using ravel().\n",
      "  return self.fit(X, y, **fit_params).transform(X)\n"
     ]
    },
    {
     "name": "stdout",
     "output_type": "stream",
     "text": [
      "\n",
      "Number of Estimators:  27\n",
      "Min Leaves:  13\n",
      "Classes:  ['functional' 'functional needs repair' 'non functional']\n",
      "+++++++++++++++++++\n",
      "Accuracy Score:  0.703367003367\n",
      "Precision Score: [ 0.66064858  0.          0.86120771]\n",
      "Recall Score: [ 0.95580589  0.          0.48      ]\n",
      "Fl Score: [ 0.78128004  0.          0.61642906]\n",
      "------------------\n",
      "+++++++++++++++++++\n",
      "Number of Estimators:  27\n",
      "Min Leaves:  14\n",
      "Classes:  ['functional' 'functional needs repair' 'non functional']\n",
      "+++++++++++++++++++\n",
      "Accuracy Score:  0.699259259259\n",
      "Precision Score: [ 0.65567394  0.          0.86970899]\n",
      "Recall Score: [ 0.95989106  0.          0.46343612]\n",
      "Fl Score: [ 0.77913987  0.          0.6046672 ]\n",
      "------------------\n",
      "+++++++++++++++++++"
     ]
    },
    {
     "name": "stderr",
     "output_type": "stream",
     "text": [
      "//anaconda/lib/python2.7/site-packages/sklearn/base.py:436: DataConversionWarning: A column-vector y was passed when a 1d array was expected. Please change the shape of y to (n_samples,), for example using ravel().\n",
      "  return self.fit(X, y, **fit_params).transform(X)\n",
      "//anaconda/lib/python2.7/site-packages/sklearn/base.py:436: DataConversionWarning: A column-vector y was passed when a 1d array was expected. Please change the shape of y to (n_samples,), for example using ravel().\n",
      "  return self.fit(X, y, **fit_params).transform(X)\n"
     ]
    },
    {
     "name": "stdout",
     "output_type": "stream",
     "text": [
      "\n",
      "Number of Estimators:  27\n",
      "Min Leaves:  15\n",
      "Classes:  ['functional' 'functional needs repair' 'non functional']\n",
      "+++++++++++++++++++\n",
      "Accuracy Score:  0.712457912458\n",
      "Precision Score: [ 0.66837088  0.          0.86616314]\n",
      "Recall Score: [ 0.95481555  0.          0.50519824]\n",
      "Fl Score: [ 0.78631869  0.          0.63817474]\n",
      "------------------\n",
      "+++++++++++++++++++\n",
      "Number of Estimators:  27\n",
      "Min Leaves:  16\n",
      "Classes:  ['functional' 'functional needs repair' 'non functional']\n",
      "+++++++++++++++++++\n",
      "Accuracy Score:  0.708148148148\n",
      "Precision Score: [ 0.66488536  0.          0.86268473]\n",
      "Recall Score: [ 0.95493934  0.          0.49374449]\n",
      "Fl Score: [ 0.78394309  0.          0.6280399 ]\n",
      "------------------\n",
      "+++++++++++++++++++"
     ]
    },
    {
     "name": "stderr",
     "output_type": "stream",
     "text": [
      "//anaconda/lib/python2.7/site-packages/sklearn/base.py:436: DataConversionWarning: A column-vector y was passed when a 1d array was expected. Please change the shape of y to (n_samples,), for example using ravel().\n",
      "  return self.fit(X, y, **fit_params).transform(X)\n",
      "//anaconda/lib/python2.7/site-packages/sklearn/base.py:436: DataConversionWarning: A column-vector y was passed when a 1d array was expected. Please change the shape of y to (n_samples,), for example using ravel().\n",
      "  return self.fit(X, y, **fit_params).transform(X)\n"
     ]
    },
    {
     "name": "stdout",
     "output_type": "stream",
     "text": [
      "\n",
      "Number of Estimators:  27\n",
      "Min Leaves:  17\n",
      "Classes:  ['functional' 'functional needs repair' 'non functional']\n",
      "+++++++++++++++++++\n",
      "Accuracy Score:  0.701616161616\n",
      "Precision Score: [ 0.6579417   0.          0.86831009]\n",
      "Recall Score: [ 0.95840555  0.          0.47171806]\n",
      "Fl Score: [ 0.78024691  0.          0.61132679]\n",
      "------------------\n",
      "+++++++++++++++++++\n",
      "Number of Estimators:  27\n",
      "Min Leaves:  18\n",
      "Classes:  ['functional' 'functional needs repair' 'non functional']\n",
      "+++++++++++++++++++\n",
      "Accuracy Score:  0.714208754209\n",
      "Precision Score: [ 0.66678059  0.          0.8906548 ]\n",
      "Recall Score: [ 0.96608071  0.          0.49374449]\n",
      "Fl Score: [ 0.7890001   0.          0.63530212]\n",
      "------------------\n",
      "+++++++++++++++++++"
     ]
    },
    {
     "name": "stderr",
     "output_type": "stream",
     "text": [
      "//anaconda/lib/python2.7/site-packages/sklearn/base.py:436: DataConversionWarning: A column-vector y was passed when a 1d array was expected. Please change the shape of y to (n_samples,), for example using ravel().\n",
      "  return self.fit(X, y, **fit_params).transform(X)\n",
      "//anaconda/lib/python2.7/site-packages/sklearn/base.py:436: DataConversionWarning: A column-vector y was passed when a 1d array was expected. Please change the shape of y to (n_samples,), for example using ravel().\n",
      "  return self.fit(X, y, **fit_params).transform(X)\n"
     ]
    },
    {
     "name": "stdout",
     "output_type": "stream",
     "text": [
      "\n",
      "Number of Estimators:  27\n",
      "Min Leaves:  19\n",
      "Classes:  ['functional' 'functional needs repair' 'non functional']\n",
      "+++++++++++++++++++\n",
      "Accuracy Score:  0.710774410774\n",
      "Precision Score: [ 0.6702717   0.          0.84325568]\n",
      "Recall Score: [ 0.94367418  0.          0.51665198]\n",
      "Fl Score: [ 0.78381574  0.          0.64073427]\n",
      "------------------\n",
      "+++++++++++++++++++\n",
      "Number of Estimators:  27\n",
      "Min Leaves:  20\n",
      "Classes:  ['functional' 'functional needs repair' 'non functional']\n",
      "+++++++++++++++++++\n",
      "Accuracy Score:  0.711313131313\n",
      "Precision Score: [ 0.66907414  0.          0.85586659]\n",
      "Recall Score: [ 0.95184452  0.          0.50643172]\n",
      "Fl Score: [ 0.78579458  0.          0.63633344]\n",
      "------------------\n",
      "+++++++++++++++++++"
     ]
    },
    {
     "name": "stderr",
     "output_type": "stream",
     "text": [
      "//anaconda/lib/python2.7/site-packages/sklearn/base.py:436: DataConversionWarning: A column-vector y was passed when a 1d array was expected. Please change the shape of y to (n_samples,), for example using ravel().\n",
      "  return self.fit(X, y, **fit_params).transform(X)\n",
      "//anaconda/lib/python2.7/site-packages/sklearn/base.py:436: DataConversionWarning: A column-vector y was passed when a 1d array was expected. Please change the shape of y to (n_samples,), for example using ravel().\n",
      "  return self.fit(X, y, **fit_params).transform(X)\n"
     ]
    },
    {
     "name": "stdout",
     "output_type": "stream",
     "text": [
      "\n",
      "Number of Estimators:  28\n",
      "Min Leaves:  2\n",
      "Classes:  ['functional' 'functional needs repair' 'non functional']\n",
      "+++++++++++++++++++\n",
      "Accuracy Score:  0.613535353535\n",
      "Precision Score: [ 0.58691974  0.          0.90135243]\n",
      "Recall Score: [ 0.9876207   0.          0.19964758]\n",
      "Fl Score: [ 0.73628351  0.          0.32688979]\n",
      "------------------\n",
      "+++++++++++++++++++\n",
      "Number of Estimators:  28\n",
      "Min Leaves:  3\n",
      "Classes:  ['functional' 'functional needs repair' 'non functional']\n",
      "+++++++++++++++++++\n",
      "Accuracy Score:  0.632323232323\n",
      "Precision Score: [ 0.60224582  0.          0.85616828]\n",
      "Recall Score: [ 0.97598415  0.          0.26537445]\n",
      "Fl Score: [ 0.74486277  0.          0.40516546]\n",
      "------------------\n",
      "+++++++++++++++++++"
     ]
    },
    {
     "name": "stderr",
     "output_type": "stream",
     "text": [
      "//anaconda/lib/python2.7/site-packages/sklearn/base.py:436: DataConversionWarning: A column-vector y was passed when a 1d array was expected. Please change the shape of y to (n_samples,), for example using ravel().\n",
      "  return self.fit(X, y, **fit_params).transform(X)\n",
      "//anaconda/lib/python2.7/site-packages/sklearn/base.py:436: DataConversionWarning: A column-vector y was passed when a 1d array was expected. Please change the shape of y to (n_samples,), for example using ravel().\n",
      "  return self.fit(X, y, **fit_params).transform(X)\n"
     ]
    },
    {
     "name": "stdout",
     "output_type": "stream",
     "text": [
      "\n",
      "Number of Estimators:  28\n",
      "Min Leaves:  4\n",
      "Classes:  ['functional' 'functional needs repair' 'non functional']\n",
      "+++++++++++++++++++\n",
      "Accuracy Score:  0.692188552189\n",
      "Precision Score: [ 0.64546274  0.          0.90720483]\n",
      "Recall Score: [ 0.97474622  0.          0.42378855]\n",
      "Fl Score: [ 0.77664349  0.          0.57770838]\n",
      "------------------\n",
      "+++++++++++++++++++\n",
      "Number of Estimators:  28\n",
      "Min Leaves:  5\n",
      "Classes:  ['functional' 'functional needs repair' 'non functional']\n",
      "+++++++++++++++++++\n",
      "Accuracy Score:  0.671784511785\n",
      "Precision Score: [ 0.63233028  0.          0.86473622]\n",
      "Recall Score: [ 0.96509037  0.          0.38414097]\n",
      "Fl Score: [ 0.76405155  0.          0.53196681]\n",
      "------------------\n",
      "+++++++++++++++++++"
     ]
    },
    {
     "name": "stderr",
     "output_type": "stream",
     "text": [
      "//anaconda/lib/python2.7/site-packages/sklearn/base.py:436: DataConversionWarning: A column-vector y was passed when a 1d array was expected. Please change the shape of y to (n_samples,), for example using ravel().\n",
      "  return self.fit(X, y, **fit_params).transform(X)\n",
      "//anaconda/lib/python2.7/site-packages/sklearn/base.py:436: DataConversionWarning: A column-vector y was passed when a 1d array was expected. Please change the shape of y to (n_samples,), for example using ravel().\n",
      "  return self.fit(X, y, **fit_params).transform(X)\n"
     ]
    },
    {
     "name": "stdout",
     "output_type": "stream",
     "text": [
      "\n",
      "Number of Estimators:  28\n",
      "Min Leaves:  6\n",
      "Classes:  ['functional' 'functional needs repair' 'non functional']\n",
      "+++++++++++++++++++\n",
      "Accuracy Score:  0.679528619529\n",
      "Precision Score: [ 0.63808901  0.          0.87242955]\n",
      "Recall Score: [ 0.96558554  0.          0.40370044]\n",
      "Fl Score: [ 0.7683972   0.          0.55198169]\n",
      "------------------\n",
      "+++++++++++++++++++\n",
      "Number of Estimators:  28\n",
      "Min Leaves:  7\n",
      "Classes:  ['functional' 'functional needs repair' 'non functional']\n",
      "+++++++++++++++++++\n",
      "Accuracy Score:  0.698787878788\n",
      "Precision Score: [ 0.65468776  0.          0.87533693]\n",
      "Recall Score: [ 0.96298589  0.          0.45779736]\n",
      "Fl Score: [ 0.77945892  0.          0.60118015]\n",
      "------------------\n",
      "+++++++++++++++++++"
     ]
    },
    {
     "name": "stderr",
     "output_type": "stream",
     "text": [
      "//anaconda/lib/python2.7/site-packages/sklearn/base.py:436: DataConversionWarning: A column-vector y was passed when a 1d array was expected. Please change the shape of y to (n_samples,), for example using ravel().\n",
      "  return self.fit(X, y, **fit_params).transform(X)\n",
      "//anaconda/lib/python2.7/site-packages/sklearn/base.py:436: DataConversionWarning: A column-vector y was passed when a 1d array was expected. Please change the shape of y to (n_samples,), for example using ravel().\n",
      "  return self.fit(X, y, **fit_params).transform(X)\n"
     ]
    },
    {
     "name": "stdout",
     "output_type": "stream",
     "text": [
      "\n",
      "Number of Estimators:  28\n",
      "Min Leaves:  8\n",
      "Classes:  ['functional' 'functional needs repair' 'non functional']\n",
      "+++++++++++++++++++\n",
      "Accuracy Score:  0.690437710438\n",
      "Precision Score: [ 0.64635455  0.          0.88535962]\n",
      "Recall Score: [ 0.96905175  0.          0.42731278]\n",
      "Fl Score: [ 0.77547179  0.          0.57642025]\n",
      "------------------\n",
      "+++++++++++++++++++\n",
      "Number of Estimators:  28\n",
      "Min Leaves:  9\n",
      "Classes:  ['functional' 'functional needs repair' 'non functional']\n",
      "+++++++++++++++++++\n",
      "Accuracy Score:  0.694410774411\n",
      "Precision Score: [ 0.65129538  0.          0.87033869]\n",
      "Recall Score: [ 0.96162416  0.          0.44828194]\n",
      "Fl Score: [ 0.77660585  0.          0.59176553]\n",
      "------------------\n",
      "+++++++++++++++++++"
     ]
    },
    {
     "name": "stderr",
     "output_type": "stream",
     "text": [
      "//anaconda/lib/python2.7/site-packages/sklearn/base.py:436: DataConversionWarning: A column-vector y was passed when a 1d array was expected. Please change the shape of y to (n_samples,), for example using ravel().\n",
      "  return self.fit(X, y, **fit_params).transform(X)\n",
      "//anaconda/lib/python2.7/site-packages/sklearn/base.py:436: DataConversionWarning: A column-vector y was passed when a 1d array was expected. Please change the shape of y to (n_samples,), for example using ravel().\n",
      "  return self.fit(X, y, **fit_params).transform(X)\n"
     ]
    },
    {
     "name": "stdout",
     "output_type": "stream",
     "text": [
      "\n",
      "Number of Estimators:  28\n",
      "Min Leaves:  10\n",
      "Classes:  ['functional' 'functional needs repair' 'non functional']\n",
      "+++++++++++++++++++\n",
      "Accuracy Score:  0.685656565657\n",
      "Precision Score: [ 0.64713793  0.          0.84083982]\n",
      "Recall Score: [ 0.95308245  0.          0.43753304]\n",
      "Fl Score: [ 0.77086358  0.          0.57556792]\n",
      "------------------\n",
      "+++++++++++++++++++\n",
      "Number of Estimators:  28\n",
      "Min Leaves:  11\n",
      "Classes:  ['functional' 'functional needs repair' 'non functional']\n",
      "+++++++++++++++++++\n",
      "Accuracy Score:  0.701683501684\n",
      "Precision Score: [ 0.65830641  0.          0.86690415]\n",
      "Recall Score: [ 0.95852934  0.          0.47171806]\n",
      "Fl Score: [ 0.78054435  0.          0.61097798]\n",
      "------------------\n",
      "+++++++++++++++++++"
     ]
    },
    {
     "name": "stderr",
     "output_type": "stream",
     "text": [
      "//anaconda/lib/python2.7/site-packages/sklearn/base.py:436: DataConversionWarning: A column-vector y was passed when a 1d array was expected. Please change the shape of y to (n_samples,), for example using ravel().\n",
      "  return self.fit(X, y, **fit_params).transform(X)\n",
      "//anaconda/lib/python2.7/site-packages/sklearn/base.py:436: DataConversionWarning: A column-vector y was passed when a 1d array was expected. Please change the shape of y to (n_samples,), for example using ravel().\n",
      "  return self.fit(X, y, **fit_params).transform(X)\n"
     ]
    },
    {
     "name": "stdout",
     "output_type": "stream",
     "text": [
      "\n",
      "Number of Estimators:  28\n",
      "Min Leaves:  12\n",
      "Classes:  ['functional' 'functional needs repair' 'non functional']\n",
      "+++++++++++++++++++\n",
      "Accuracy Score:  0.705993265993\n",
      "Precision Score: [ 0.66127522  0.          0.87528199]\n",
      "Recall Score: [ 0.96162416  0.          0.47859031]\n",
      "Fl Score: [ 0.783657    0.          0.61881978]\n",
      "------------------\n",
      "+++++++++++++++++++\n",
      "Number of Estimators:  28\n",
      "Min Leaves:  13\n",
      "Classes:  ['functional' 'functional needs repair' 'non functional']\n",
      "+++++++++++++++++++\n",
      "Accuracy Score:  0.704983164983\n",
      "Precision Score: [ 0.66058798  0.          0.87223114]\n",
      "Recall Score: [ 0.95964348  0.          0.47876652]\n",
      "Fl Score: [ 0.78251653  0.          0.6182025 ]\n",
      "------------------\n",
      "+++++++++++++++++++"
     ]
    },
    {
     "name": "stderr",
     "output_type": "stream",
     "text": [
      "//anaconda/lib/python2.7/site-packages/sklearn/base.py:436: DataConversionWarning: A column-vector y was passed when a 1d array was expected. Please change the shape of y to (n_samples,), for example using ravel().\n",
      "  return self.fit(X, y, **fit_params).transform(X)\n",
      "//anaconda/lib/python2.7/site-packages/sklearn/base.py:436: DataConversionWarning: A column-vector y was passed when a 1d array was expected. Please change the shape of y to (n_samples,), for example using ravel().\n",
      "  return self.fit(X, y, **fit_params).transform(X)\n"
     ]
    },
    {
     "name": "stdout",
     "output_type": "stream",
     "text": [
      "\n",
      "Number of Estimators:  28\n",
      "Min Leaves:  14\n",
      "Classes:  ['functional' 'functional needs repair' 'non functional']\n",
      "+++++++++++++++++++\n",
      "Accuracy Score:  0.704511784512\n",
      "Precision Score: [ 0.66337919  0.          0.84898207]\n",
      "Recall Score: [ 0.94924486  0.          0.4923348 ]\n",
      "Fl Score: [ 0.78097469  0.          0.62324336]\n",
      "------------------\n",
      "+++++++++++++++++++\n",
      "Number of Estimators:  28\n",
      "Min Leaves:  15\n",
      "Classes:  ['functional' 'functional needs repair' 'non functional']\n",
      "+++++++++++++++++++\n",
      "Accuracy Score:  0.709090909091\n",
      "Precision Score: [ 0.66611885  0.          0.86013986]\n",
      "Recall Score: [ 0.95333003  0.          0.4985022 ]\n",
      "Fl Score: [ 0.78425582  0.          0.63119143]\n",
      "------------------\n",
      "+++++++++++++++++++"
     ]
    },
    {
     "name": "stderr",
     "output_type": "stream",
     "text": [
      "//anaconda/lib/python2.7/site-packages/sklearn/base.py:436: DataConversionWarning: A column-vector y was passed when a 1d array was expected. Please change the shape of y to (n_samples,), for example using ravel().\n",
      "  return self.fit(X, y, **fit_params).transform(X)\n",
      "//anaconda/lib/python2.7/site-packages/sklearn/base.py:436: DataConversionWarning: A column-vector y was passed when a 1d array was expected. Please change the shape of y to (n_samples,), for example using ravel().\n",
      "  return self.fit(X, y, **fit_params).transform(X)\n"
     ]
    },
    {
     "name": "stdout",
     "output_type": "stream",
     "text": [
      "\n",
      "Number of Estimators:  28\n",
      "Min Leaves:  16\n",
      "Classes:  ['functional' 'functional needs repair' 'non functional']\n",
      "+++++++++++++++++++\n",
      "Accuracy Score:  0.70531986532\n",
      "Precision Score: [ 0.66228522  0.          0.86137072]\n",
      "Recall Score: [ 0.95432038  0.          0.48722467]\n",
      "Fl Score: [ 0.78192514  0.          0.6223973 ]\n",
      "------------------\n",
      "+++++++++++++++++++\n",
      "Number of Estimators:  28\n",
      "Min Leaves:  17\n",
      "Classes:  ['functional' 'functional needs repair' 'non functional']\n",
      "+++++++++++++++++++\n",
      "Accuracy Score:  0.707676767677\n",
      "Precision Score: [ 0.66551217  0.          0.8551954 ]\n",
      "Recall Score: [ 0.95147314  0.          0.49744493]\n",
      "Fl Score: [ 0.78320681  0.          0.6290107 ]\n",
      "------------------\n",
      "+++++++++++++++++++"
     ]
    },
    {
     "name": "stderr",
     "output_type": "stream",
     "text": [
      "//anaconda/lib/python2.7/site-packages/sklearn/base.py:436: DataConversionWarning: A column-vector y was passed when a 1d array was expected. Please change the shape of y to (n_samples,), for example using ravel().\n",
      "  return self.fit(X, y, **fit_params).transform(X)\n",
      "//anaconda/lib/python2.7/site-packages/sklearn/base.py:436: DataConversionWarning: A column-vector y was passed when a 1d array was expected. Please change the shape of y to (n_samples,), for example using ravel().\n",
      "  return self.fit(X, y, **fit_params).transform(X)\n"
     ]
    },
    {
     "name": "stdout",
     "output_type": "stream",
     "text": [
      "\n",
      "Number of Estimators:  28\n",
      "Min Leaves:  18\n",
      "Classes:  ['functional' 'functional needs repair' 'non functional']\n",
      "+++++++++++++++++++\n",
      "Accuracy Score:  0.703367003367\n",
      "Precision Score: [ 0.65977797  0.          0.86592357]\n",
      "Recall Score: [ 0.95642486  0.          0.47911894]\n",
      "Fl Score: [ 0.7808773   0.          0.61690301]\n",
      "------------------\n",
      "+++++++++++++++++++\n",
      "Number of Estimators:  28\n",
      "Min Leaves:  19\n",
      "Classes:  ['functional' 'functional needs repair' 'non functional']\n",
      "+++++++++++++++++++\n",
      "Accuracy Score:  0.713198653199\n",
      "Precision Score: [ 0.66850733  0.          0.87208589]\n",
      "Recall Score: [ 0.9591483   0.          0.50096916]\n",
      "Fl Score: [ 0.78787879  0.          0.63637381]\n",
      "------------------\n",
      "+++++++++++++++++++"
     ]
    },
    {
     "name": "stderr",
     "output_type": "stream",
     "text": [
      "//anaconda/lib/python2.7/site-packages/sklearn/base.py:436: DataConversionWarning: A column-vector y was passed when a 1d array was expected. Please change the shape of y to (n_samples,), for example using ravel().\n",
      "  return self.fit(X, y, **fit_params).transform(X)\n",
      "//anaconda/lib/python2.7/site-packages/sklearn/base.py:436: DataConversionWarning: A column-vector y was passed when a 1d array was expected. Please change the shape of y to (n_samples,), for example using ravel().\n",
      "  return self.fit(X, y, **fit_params).transform(X)\n"
     ]
    },
    {
     "name": "stdout",
     "output_type": "stream",
     "text": [
      "\n",
      "Number of Estimators:  28\n",
      "Min Leaves:  20\n",
      "Classes:  ['functional' 'functional needs repair' 'non functional']\n",
      "+++++++++++++++++++\n",
      "Accuracy Score:  0.710303030303\n",
      "Precision Score: [ 0.66701272  0.          0.86235187]\n",
      "Recall Score: [ 0.95444417  0.          0.50008811]\n",
      "Fl Score: [ 0.78525233  0.          0.63305822]\n",
      "------------------\n",
      "+++++++++++++++++++\n",
      "Number of Estimators:  29\n",
      "Min Leaves:  2\n",
      "Classes:  ['functional' 'functional needs repair' 'non functional']\n",
      "+++++++++++++++++++\n",
      "Accuracy Score:  0.586464646465\n",
      "Precision Score: [ 0.56888731  0.          0.92162162]\n",
      "Recall Score: [ 0.99368656  0.          0.12017621]\n",
      "Fl Score: [ 0.72354426  0.          0.21262666]\n",
      "------------------\n",
      "+++++++++++++++++++"
     ]
    },
    {
     "name": "stderr",
     "output_type": "stream",
     "text": [
      "//anaconda/lib/python2.7/site-packages/sklearn/base.py:436: DataConversionWarning: A column-vector y was passed when a 1d array was expected. Please change the shape of y to (n_samples,), for example using ravel().\n",
      "  return self.fit(X, y, **fit_params).transform(X)\n",
      "//anaconda/lib/python2.7/site-packages/sklearn/base.py:436: DataConversionWarning: A column-vector y was passed when a 1d array was expected. Please change the shape of y to (n_samples,), for example using ravel().\n",
      "  return self.fit(X, y, **fit_params).transform(X)\n"
     ]
    },
    {
     "name": "stdout",
     "output_type": "stream",
     "text": [
      "\n",
      "Number of Estimators:  29\n",
      "Min Leaves:  3\n",
      "Classes:  ['functional' 'functional needs repair' 'non functional']\n",
      "+++++++++++++++++++\n",
      "Accuracy Score:  0.643771043771\n",
      "Precision Score: [ 0.61099828  0.          0.84863281]\n",
      "Recall Score: [ 0.96830899  0.          0.30625551]\n",
      "Fl Score: [ 0.74923372  0.          0.45008416]\n",
      "------------------\n",
      "+++++++++++++++++++\n",
      "Number of Estimators:  29\n",
      "Min Leaves:  4\n",
      "Classes:  ['functional' 'functional needs repair' 'non functional']\n",
      "+++++++++++++++++++\n",
      "Accuracy Score:  0.681346801347\n",
      "Precision Score: [ 0.63581537  0.          0.91590721]\n",
      "Recall Score: [ 0.97883139  0.          0.38960352]\n",
      "Fl Score: [ 0.77088817  0.          0.54666831]\n",
      "------------------\n",
      "+++++++++++++++++++"
     ]
    },
    {
     "name": "stderr",
     "output_type": "stream",
     "text": [
      "//anaconda/lib/python2.7/site-packages/sklearn/base.py:436: DataConversionWarning: A column-vector y was passed when a 1d array was expected. Please change the shape of y to (n_samples,), for example using ravel().\n",
      "  return self.fit(X, y, **fit_params).transform(X)\n",
      "//anaconda/lib/python2.7/site-packages/sklearn/base.py:436: DataConversionWarning: A column-vector y was passed when a 1d array was expected. Please change the shape of y to (n_samples,), for example using ravel().\n",
      "  return self.fit(X, y, **fit_params).transform(X)\n"
     ]
    },
    {
     "name": "stdout",
     "output_type": "stream",
     "text": [
      "\n",
      "Number of Estimators:  29\n",
      "Min Leaves:  5\n",
      "Classes:  ['functional' 'functional needs repair' 'non functional']\n",
      "+++++++++++++++++++\n",
      "Accuracy Score:  0.648282828283\n",
      "Precision Score: [ 0.61526899  0.          0.83710407]\n",
      "Recall Score: [ 0.9627383   0.          0.32599119]\n",
      "Fl Score: [ 0.75074814  0.          0.4692454 ]\n",
      "------------------\n",
      "+++++++++++++++++++\n",
      "Number of Estimators:  29\n",
      "Min Leaves:  6\n",
      "Classes:  ['functional' 'functional needs repair' 'non functional']\n",
      "+++++++++++++++++++\n",
      "Accuracy Score:  0.668956228956\n",
      "Precision Score: [ 0.62980614  0.          0.86518219]\n",
      "Recall Score: [ 0.96521416  0.          0.37656388]\n",
      "Fl Score: [ 0.7622446  0.         0.5247391]\n",
      "------------------\n",
      "+++++++++++++++++++"
     ]
    },
    {
     "name": "stderr",
     "output_type": "stream",
     "text": [
      "//anaconda/lib/python2.7/site-packages/sklearn/base.py:436: DataConversionWarning: A column-vector y was passed when a 1d array was expected. Please change the shape of y to (n_samples,), for example using ravel().\n",
      "  return self.fit(X, y, **fit_params).transform(X)\n",
      "//anaconda/lib/python2.7/site-packages/sklearn/base.py:436: DataConversionWarning: A column-vector y was passed when a 1d array was expected. Please change the shape of y to (n_samples,), for example using ravel().\n",
      "  return self.fit(X, y, **fit_params).transform(X)\n"
     ]
    },
    {
     "name": "stdout",
     "output_type": "stream",
     "text": [
      "\n",
      "Number of Estimators:  29\n",
      "Min Leaves:  7\n",
      "Classes:  ['functional' 'functional needs repair' 'non functional']\n",
      "+++++++++++++++++++\n",
      "Accuracy Score:  0.688080808081\n",
      "Precision Score: [ 0.64608848  0.          0.86512118]\n",
      "Recall Score: [ 0.96001486  0.          0.43400881]\n",
      "Fl Score: [ 0.77237189  0.          0.57803333]\n",
      "------------------\n",
      "+++++++++++++++++++\n",
      "Number of Estimators:  29\n",
      "Min Leaves:  8\n",
      "Classes:  ['functional' 'functional needs repair' 'non functional']\n",
      "+++++++++++++++++++\n",
      "Accuracy Score:  0.704175084175\n",
      "Precision Score: [ 0.66083468  0.          0.86626237]\n",
      "Recall Score: [ 0.95852934  0.          0.47823789]\n",
      "Fl Score: [ 0.78231877  0.          0.61625795]\n",
      "------------------\n",
      "+++++++++++++++++++"
     ]
    },
    {
     "name": "stderr",
     "output_type": "stream",
     "text": [
      "//anaconda/lib/python2.7/site-packages/sklearn/base.py:436: DataConversionWarning: A column-vector y was passed when a 1d array was expected. Please change the shape of y to (n_samples,), for example using ravel().\n",
      "  return self.fit(X, y, **fit_params).transform(X)\n",
      "//anaconda/lib/python2.7/site-packages/sklearn/base.py:436: DataConversionWarning: A column-vector y was passed when a 1d array was expected. Please change the shape of y to (n_samples,), for example using ravel().\n",
      "  return self.fit(X, y, **fit_params).transform(X)\n"
     ]
    },
    {
     "name": "stdout",
     "output_type": "stream",
     "text": [
      "\n",
      "Number of Estimators:  29\n",
      "Min Leaves:  9\n",
      "Classes:  ['functional' 'functional needs repair' 'non functional']\n",
      "+++++++++++++++++++\n",
      "Accuracy Score:  0.703232323232\n",
      "Precision Score: [ 0.65978854  0.          0.86643177]\n",
      "Recall Score: [ 0.95791037  0.          0.47665198]\n",
      "Fl Score: [ 0.78137938  0.          0.61498238]\n",
      "------------------\n",
      "+++++++++++++++++++\n",
      "Number of Estimators:  29\n",
      "Min Leaves:  10\n",
      "Classes:  ['functional' 'functional needs repair' 'non functional']\n",
      "+++++++++++++++++++\n",
      "Accuracy Score:  0.693131313131\n",
      "Precision Score: [ 0.64979079  0.          0.87172414]\n",
      "Recall Score: [ 0.96125279  0.          0.44546256]\n",
      "Fl Score: [ 0.77541442  0.          0.58962099]\n",
      "------------------\n",
      "+++++++++++++++++++"
     ]
    },
    {
     "name": "stderr",
     "output_type": "stream",
     "text": [
      "//anaconda/lib/python2.7/site-packages/sklearn/base.py:436: DataConversionWarning: A column-vector y was passed when a 1d array was expected. Please change the shape of y to (n_samples,), for example using ravel().\n",
      "  return self.fit(X, y, **fit_params).transform(X)\n",
      "//anaconda/lib/python2.7/site-packages/sklearn/base.py:436: DataConversionWarning: A column-vector y was passed when a 1d array was expected. Please change the shape of y to (n_samples,), for example using ravel().\n",
      "  return self.fit(X, y, **fit_params).transform(X)\n"
     ]
    },
    {
     "name": "stdout",
     "output_type": "stream",
     "text": [
      "\n",
      "Number of Estimators:  29\n",
      "Min Leaves:  11\n",
      "Classes:  ['functional' 'functional needs repair' 'non functional']\n",
      "+++++++++++++++++++\n",
      "Accuracy Score:  0.69265993266\n",
      "Precision Score: [ 0.64972366  0.          0.86898212]\n",
      "Recall Score: [ 0.96051003  0.          0.44528634]\n",
      "Fl Score: [ 0.77512488  0.          0.5888384 ]\n",
      "------------------\n",
      "+++++++++++++++++++\n",
      "Number of Estimators:  29\n",
      "Min Leaves:  12\n",
      "Classes:  ['functional' 'functional needs repair' 'non functional']\n",
      "+++++++++++++++++++\n",
      "Accuracy Score:  0.703434343434\n",
      "Precision Score: [ 0.66023562  0.          0.86479592]\n",
      "Recall Score: [ 0.9574152   0.          0.47788546]\n",
      "Fl Score: [ 0.78152789  0.          0.61559414]\n",
      "------------------\n",
      "+++++++++++++++++++"
     ]
    },
    {
     "name": "stderr",
     "output_type": "stream",
     "text": [
      "//anaconda/lib/python2.7/site-packages/sklearn/base.py:436: DataConversionWarning: A column-vector y was passed when a 1d array was expected. Please change the shape of y to (n_samples,), for example using ravel().\n",
      "  return self.fit(X, y, **fit_params).transform(X)\n",
      "//anaconda/lib/python2.7/site-packages/sklearn/base.py:436: DataConversionWarning: A column-vector y was passed when a 1d array was expected. Please change the shape of y to (n_samples,), for example using ravel().\n",
      "  return self.fit(X, y, **fit_params).transform(X)\n"
     ]
    },
    {
     "name": "stdout",
     "output_type": "stream",
     "text": [
      "\n",
      "Number of Estimators:  29\n",
      "Min Leaves:  13\n",
      "Classes:  ['functional' 'functional needs repair' 'non functional']\n",
      "+++++++++++++++++++\n",
      "Accuracy Score:  0.706127946128\n",
      "Precision Score: [ 0.66550886  0.          0.84643071]\n",
      "Recall Score: [ 0.94874969  0.          0.49726872]\n",
      "Fl Score: [ 0.78228029  0.          0.62648463]\n",
      "------------------\n",
      "+++++++++++++++++++\n",
      "Number of Estimators:  29\n",
      "Min Leaves:  14\n",
      "Classes:  ['functional' 'functional needs repair' 'non functional']\n",
      "+++++++++++++++++++\n",
      "Accuracy Score:  0.708215488215\n",
      "Precision Score: [ 0.66460481  0.          0.86635514]\n",
      "Recall Score: [ 0.95766279  0.          0.49004405]\n",
      "Fl Score: [ 0.78466376  0.          0.62599887]\n",
      "------------------\n",
      "+++++++++++++++++++"
     ]
    },
    {
     "name": "stderr",
     "output_type": "stream",
     "text": [
      "//anaconda/lib/python2.7/site-packages/sklearn/base.py:436: DataConversionWarning: A column-vector y was passed when a 1d array was expected. Please change the shape of y to (n_samples,), for example using ravel().\n",
      "  return self.fit(X, y, **fit_params).transform(X)\n",
      "//anaconda/lib/python2.7/site-packages/sklearn/base.py:436: DataConversionWarning: A column-vector y was passed when a 1d array was expected. Please change the shape of y to (n_samples,), for example using ravel().\n",
      "  return self.fit(X, y, **fit_params).transform(X)\n"
     ]
    },
    {
     "name": "stdout",
     "output_type": "stream",
     "text": [
      "\n",
      "Number of Estimators:  29\n",
      "Min Leaves:  15\n",
      "Classes:  ['functional' 'functional needs repair' 'non functional']\n",
      "+++++++++++++++++++\n",
      "Accuracy Score:  0.706599326599\n",
      "Precision Score: [ 0.66305842  0.          0.86448598]\n",
      "Recall Score: [ 0.95543451  0.          0.48898678]\n",
      "Fl Score: [ 0.78283802  0.          0.62464828]\n",
      "------------------\n",
      "+++++++++++++++++++\n",
      "Number of Estimators:  29\n",
      "Min Leaves:  16\n",
      "Classes:  ['functional' 'functional needs repair' 'non functional']\n",
      "+++++++++++++++++++\n",
      "Accuracy Score:  0.709494949495\n",
      "Precision Score: [ 0.66342794  0.          0.88290022]\n",
      "Recall Score: [ 0.96360485  0.          0.48493392]\n",
      "Fl Score: [ 0.78582606  0.          0.62602366]\n",
      "------------------\n",
      "+++++++++++++++++++"
     ]
    },
    {
     "name": "stderr",
     "output_type": "stream",
     "text": [
      "//anaconda/lib/python2.7/site-packages/sklearn/base.py:436: DataConversionWarning: A column-vector y was passed when a 1d array was expected. Please change the shape of y to (n_samples,), for example using ravel().\n",
      "  return self.fit(X, y, **fit_params).transform(X)\n",
      "//anaconda/lib/python2.7/site-packages/sklearn/base.py:436: DataConversionWarning: A column-vector y was passed when a 1d array was expected. Please change the shape of y to (n_samples,), for example using ravel().\n",
      "  return self.fit(X, y, **fit_params).transform(X)\n"
     ]
    },
    {
     "name": "stdout",
     "output_type": "stream",
     "text": [
      "\n",
      "Number of Estimators:  29\n",
      "Min Leaves:  17\n",
      "Classes:  ['functional' 'functional needs repair' 'non functional']\n",
      "+++++++++++++++++++\n",
      "Accuracy Score:  0.708821548822\n",
      "Precision Score: [ 0.66557405  0.          0.86275714]\n",
      "Recall Score: [ 0.95518693  0.          0.49515419]\n",
      "Fl Score: [ 0.78450511  0.          0.62919839]\n",
      "------------------\n",
      "+++++++++++++++++++\n",
      "Number of Estimators:  29\n",
      "Min Leaves:  18\n",
      "Classes:  ['functional' 'functional needs repair' 'non functional']\n",
      "+++++++++++++++++++\n",
      "Accuracy Score:  0.716835016835\n",
      "Precision Score: [ 0.67140751  0.          0.87466104]\n",
      "Recall Score: [ 0.95840555  0.          0.51154185]\n",
      "Fl Score: [ 0.78963741  0.          0.64554147]\n",
      "------------------\n",
      "+++++++++++++++++++"
     ]
    },
    {
     "name": "stderr",
     "output_type": "stream",
     "text": [
      "//anaconda/lib/python2.7/site-packages/sklearn/base.py:436: DataConversionWarning: A column-vector y was passed when a 1d array was expected. Please change the shape of y to (n_samples,), for example using ravel().\n",
      "  return self.fit(X, y, **fit_params).transform(X)\n",
      "//anaconda/lib/python2.7/site-packages/sklearn/base.py:436: DataConversionWarning: A column-vector y was passed when a 1d array was expected. Please change the shape of y to (n_samples,), for example using ravel().\n",
      "  return self.fit(X, y, **fit_params).transform(X)\n"
     ]
    },
    {
     "name": "stdout",
     "output_type": "stream",
     "text": [
      "\n",
      "Number of Estimators:  29\n",
      "Min Leaves:  19\n",
      "Classes:  ['functional' 'functional needs repair' 'non functional']\n",
      "+++++++++++++++++++\n",
      "Accuracy Score:  0.702424242424\n",
      "Precision Score: [ 0.6590231   0.          0.86566207]\n",
      "Recall Score: [ 0.95704382  0.          0.47577093]\n",
      "Fl Score: [ 0.78055429  0.          0.61405504]\n",
      "------------------\n",
      "+++++++++++++++++++\n",
      "Number of Estimators:  29\n",
      "Min Leaves:  20\n",
      "Classes:  ['functional' 'functional needs repair' 'non functional']\n",
      "+++++++++++++++++++\n",
      "Accuracy Score:  0.714882154882\n",
      "Precision Score: [ 0.67111227  0.          0.86352872]\n",
      "Recall Score: [ 0.95308245  0.          0.51400881]\n",
      "Fl Score: [ 0.78762148  0.          0.64442726]\n",
      "------------------\n",
      "+++++++++++++++++++"
     ]
    },
    {
     "name": "stderr",
     "output_type": "stream",
     "text": [
      "//anaconda/lib/python2.7/site-packages/sklearn/base.py:436: DataConversionWarning: A column-vector y was passed when a 1d array was expected. Please change the shape of y to (n_samples,), for example using ravel().\n",
      "  return self.fit(X, y, **fit_params).transform(X)\n",
      "//anaconda/lib/python2.7/site-packages/sklearn/base.py:436: DataConversionWarning: A column-vector y was passed when a 1d array was expected. Please change the shape of y to (n_samples,), for example using ravel().\n",
      "  return self.fit(X, y, **fit_params).transform(X)\n"
     ]
    },
    {
     "name": "stdout",
     "output_type": "stream",
     "text": [
      "\n",
      "Number of Estimators:  30\n",
      "Min Leaves:  2\n",
      "Classes:  ['functional' 'functional needs repair' 'non functional']\n",
      "+++++++++++++++++++\n",
      "Accuracy Score:  0.616363636364\n",
      "Precision Score: [ 0.58879539  0.          0.90322581]\n",
      "Recall Score: [ 0.98749691  0.          0.20722467]\n",
      "Fl Score: [ 0.73772311  0.          0.33710764]\n",
      "------------------\n",
      "+++++++++++++++++++\n",
      "Number of Estimators:  30\n",
      "Min Leaves:  3\n",
      "Classes:  ['functional' 'functional needs repair' 'non functional']\n",
      "+++++++++++++++++++\n",
      "Accuracy Score:  0.623434343434\n",
      "Precision Score: [ 0.59606921  0.          0.83911483]\n",
      "Recall Score: [ 0.97239416  0.          0.24722467]\n",
      "Fl Score: [ 0.73908543  0.          0.3819246 ]\n",
      "------------------\n",
      "+++++++++++++++++++"
     ]
    },
    {
     "name": "stderr",
     "output_type": "stream",
     "text": [
      "//anaconda/lib/python2.7/site-packages/sklearn/base.py:436: DataConversionWarning: A column-vector y was passed when a 1d array was expected. Please change the shape of y to (n_samples,), for example using ravel().\n",
      "  return self.fit(X, y, **fit_params).transform(X)\n",
      "//anaconda/lib/python2.7/site-packages/sklearn/base.py:436: DataConversionWarning: A column-vector y was passed when a 1d array was expected. Please change the shape of y to (n_samples,), for example using ravel().\n",
      "  return self.fit(X, y, **fit_params).transform(X)\n"
     ]
    },
    {
     "name": "stdout",
     "output_type": "stream",
     "text": [
      "\n",
      "Number of Estimators:  30\n",
      "Min Leaves:  4\n",
      "Classes:  ['functional' 'functional needs repair' 'non functional']\n",
      "+++++++++++++++++++\n",
      "Accuracy Score:  0.658114478114\n",
      "Precision Score: [ 0.61947807  0.          0.88909774]\n",
      "Recall Score: [ 0.97561278  0.          0.33339207]\n",
      "Fl Score: [ 0.75778846  0.          0.48494169]\n",
      "------------------\n",
      "+++++++++++++++++++\n",
      "Number of Estimators:  30\n",
      "Min Leaves:  5\n",
      "Classes:  ['functional' 'functional needs repair' 'non functional']\n",
      "+++++++++++++++++++\n",
      "Accuracy Score:  0.68962962963\n",
      "Precision Score: [ 0.64249715  0.          0.91718995]\n",
      "Recall Score: [ 0.97846001  0.          0.41180617]\n",
      "Fl Score: [ 0.77566241  0.          0.56840569]\n",
      "------------------\n",
      "+++++++++++++++++++"
     ]
    },
    {
     "name": "stderr",
     "output_type": "stream",
     "text": [
      "//anaconda/lib/python2.7/site-packages/sklearn/base.py:436: DataConversionWarning: A column-vector y was passed when a 1d array was expected. Please change the shape of y to (n_samples,), for example using ravel().\n",
      "  return self.fit(X, y, **fit_params).transform(X)\n",
      "//anaconda/lib/python2.7/site-packages/sklearn/base.py:436: DataConversionWarning: A column-vector y was passed when a 1d array was expected. Please change the shape of y to (n_samples,), for example using ravel().\n",
      "  return self.fit(X, y, **fit_params).transform(X)\n"
     ]
    },
    {
     "name": "stdout",
     "output_type": "stream",
     "text": [
      "\n",
      "Number of Estimators:  30\n",
      "Min Leaves:  6\n",
      "Classes:  ['functional' 'functional needs repair' 'non functional']\n",
      "+++++++++++++++++++\n",
      "Accuracy Score:  0.697845117845\n",
      "Precision Score: [ 0.65433137  0.          0.87263514]\n",
      "Recall Score: [ 0.96310968  0.          0.45515419]\n",
      "Fl Score: [ 0.77924679  0.          0.59826288]\n",
      "------------------\n",
      "+++++++++++++++++++\n",
      "Number of Estimators:  30\n",
      "Min Leaves:  7\n",
      "Classes:  ['functional' 'functional needs repair' 'non functional']\n",
      "+++++++++++++++++++\n",
      "Accuracy Score:  0.688013468013\n",
      "Precision Score: [ 0.64530589  0.          0.87156618]\n",
      "Recall Score: [ 0.96236692  0.          0.43048458]\n",
      "Fl Score: [ 0.77257143  0.          0.57631517]\n",
      "------------------\n",
      "+++++++++++++++++++"
     ]
    },
    {
     "name": "stderr",
     "output_type": "stream",
     "text": [
      "//anaconda/lib/python2.7/site-packages/sklearn/base.py:436: DataConversionWarning: A column-vector y was passed when a 1d array was expected. Please change the shape of y to (n_samples,), for example using ravel().\n",
      "  return self.fit(X, y, **fit_params).transform(X)\n",
      "//anaconda/lib/python2.7/site-packages/sklearn/base.py:436: DataConversionWarning: A column-vector y was passed when a 1d array was expected. Please change the shape of y to (n_samples,), for example using ravel().\n",
      "  return self.fit(X, y, **fit_params).transform(X)\n"
     ]
    },
    {
     "name": "stdout",
     "output_type": "stream",
     "text": [
      "\n",
      "Number of Estimators:  30\n",
      "Min Leaves:  8\n",
      "Classes:  ['functional' 'functional needs repair' 'non functional']\n",
      "+++++++++++++++++++\n",
      "Accuracy Score:  0.689225589226\n",
      "Precision Score: [ 0.64634551  0.          0.87295374]\n",
      "Recall Score: [ 0.96335727  0.          0.4322467 ]\n",
      "Fl Score: [ 0.77363555  0.          0.57819682]\n",
      "------------------\n",
      "+++++++++++++++++++\n",
      "Number of Estimators:  30\n",
      "Min Leaves:  9\n",
      "Classes:  ['functional' 'functional needs repair' 'non functional']\n",
      "+++++++++++++++++++\n",
      "Accuracy Score:  0.698451178451\n",
      "Precision Score: [ 0.6573916   0.          0.85194639]\n",
      "Recall Score: [ 0.95345383  0.          0.47048458]\n",
      "Fl Score: [ 0.77821562  0.          0.60619821]\n",
      "------------------\n",
      "+++++++++++++++++++"
     ]
    },
    {
     "name": "stderr",
     "output_type": "stream",
     "text": [
      "//anaconda/lib/python2.7/site-packages/sklearn/base.py:436: DataConversionWarning: A column-vector y was passed when a 1d array was expected. Please change the shape of y to (n_samples,), for example using ravel().\n",
      "  return self.fit(X, y, **fit_params).transform(X)\n",
      "//anaconda/lib/python2.7/site-packages/sklearn/base.py:436: DataConversionWarning: A column-vector y was passed when a 1d array was expected. Please change the shape of y to (n_samples,), for example using ravel().\n",
      "  return self.fit(X, y, **fit_params).transform(X)\n"
     ]
    },
    {
     "name": "stdout",
     "output_type": "stream",
     "text": [
      "\n",
      "Number of Estimators:  30\n",
      "Min Leaves:  10\n",
      "Classes:  ['functional' 'functional needs repair' 'non functional']\n",
      "+++++++++++++++++++\n",
      "Accuracy Score:  0.70228956229\n",
      "Precision Score: [ 0.66083226  0.          0.85352113]\n",
      "Recall Score: [ 0.95345383  0.          0.48052863]\n",
      "Fl Score: [ 0.78062129  0.          0.61488162]\n",
      "------------------\n",
      "+++++++++++++++++++\n",
      "Number of Estimators:  30\n",
      "Min Leaves:  11\n",
      "Classes:  ['functional' 'functional needs repair' 'non functional']\n",
      "+++++++++++++++++++\n",
      "Accuracy Score:  0.698585858586\n",
      "Precision Score: [ 0.65574327  0.          0.8629111 ]\n",
      "Recall Score: [ 0.95617727  0.          0.46696035]\n",
      "Fl Score: [ 0.77796243  0.          0.60599131]\n",
      "------------------\n",
      "+++++++++++++++++++"
     ]
    },
    {
     "name": "stderr",
     "output_type": "stream",
     "text": [
      "//anaconda/lib/python2.7/site-packages/sklearn/base.py:436: DataConversionWarning: A column-vector y was passed when a 1d array was expected. Please change the shape of y to (n_samples,), for example using ravel().\n",
      "  return self.fit(X, y, **fit_params).transform(X)\n",
      "//anaconda/lib/python2.7/site-packages/sklearn/base.py:436: DataConversionWarning: A column-vector y was passed when a 1d array was expected. Please change the shape of y to (n_samples,), for example using ravel().\n",
      "  return self.fit(X, y, **fit_params).transform(X)\n"
     ]
    },
    {
     "name": "stdout",
     "output_type": "stream",
     "text": [
      "\n",
      "Number of Estimators:  30\n",
      "Min Leaves:  12\n",
      "Classes:  ['functional' 'functional needs repair' 'non functional']\n",
      "+++++++++++++++++++\n",
      "Accuracy Score:  0.694410774411\n",
      "Precision Score: [ 0.65157877  0.          0.86777702]\n",
      "Recall Score: [ 0.96051003  0.          0.44986784]\n",
      "Fl Score: [ 0.77644351  0.          0.59254961]\n",
      "------------------\n",
      "+++++++++++++++++++\n",
      "Number of Estimators:  30\n",
      "Min Leaves:  13\n",
      "Classes:  ['functional' 'functional needs repair' 'non functional']\n",
      "+++++++++++++++++++\n",
      "Accuracy Score:  0.704983164983\n",
      "Precision Score: [ 0.66148192  0.          0.86662433]\n",
      "Recall Score: [ 0.95815796  0.          0.48088106]\n",
      "Fl Score: [ 0.78264826  0.          0.61854034]\n",
      "------------------\n",
      "+++++++++++++++++++"
     ]
    },
    {
     "name": "stderr",
     "output_type": "stream",
     "text": [
      "//anaconda/lib/python2.7/site-packages/sklearn/base.py:436: DataConversionWarning: A column-vector y was passed when a 1d array was expected. Please change the shape of y to (n_samples,), for example using ravel().\n",
      "  return self.fit(X, y, **fit_params).transform(X)\n",
      "//anaconda/lib/python2.7/site-packages/sklearn/base.py:436: DataConversionWarning: A column-vector y was passed when a 1d array was expected. Please change the shape of y to (n_samples,), for example using ravel().\n",
      "  return self.fit(X, y, **fit_params).transform(X)\n"
     ]
    },
    {
     "name": "stdout",
     "output_type": "stream",
     "text": [
      "\n",
      "Number of Estimators:  30\n",
      "Min Leaves:  14\n",
      "Classes:  ['functional' 'functional needs repair' 'non functional']\n",
      "+++++++++++++++++++\n",
      "Accuracy Score:  0.709494949495\n",
      "Precision Score: [ 0.66563307  0.          0.86666667]\n",
      "Recall Score: [ 0.95667244  0.          0.49480176]\n",
      "Fl Score: [ 0.78504673  0.          0.62994952]\n",
      "------------------\n",
      "+++++++++++++++++++\n",
      "Number of Estimators:  30\n",
      "Min Leaves:  15\n",
      "Classes:  ['functional' 'functional needs repair' 'non functional']\n",
      "+++++++++++++++++++\n",
      "Accuracy Score:  0.711043771044\n",
      "Precision Score: [ 0.66450788  0.          0.88635634]\n",
      "Recall Score: [ 0.96533795  0.          0.48651982]\n",
      "Fl Score: [ 0.78715995  0.          0.62821388]\n",
      "------------------\n",
      "+++++++++++++++++++"
     ]
    },
    {
     "name": "stderr",
     "output_type": "stream",
     "text": [
      "//anaconda/lib/python2.7/site-packages/sklearn/base.py:436: DataConversionWarning: A column-vector y was passed when a 1d array was expected. Please change the shape of y to (n_samples,), for example using ravel().\n",
      "  return self.fit(X, y, **fit_params).transform(X)\n",
      "//anaconda/lib/python2.7/site-packages/sklearn/base.py:436: DataConversionWarning: A column-vector y was passed when a 1d array was expected. Please change the shape of y to (n_samples,), for example using ravel().\n",
      "  return self.fit(X, y, **fit_params).transform(X)\n"
     ]
    },
    {
     "name": "stdout",
     "output_type": "stream",
     "text": [
      "\n",
      "Number of Estimators:  30\n",
      "Min Leaves:  16\n",
      "Classes:  ['functional' 'functional needs repair' 'non functional']\n",
      "+++++++++++++++++++\n",
      "Accuracy Score:  0.712053872054\n",
      "Precision Score: [ 0.66892185  0.          0.86178862]\n",
      "Recall Score: [ 0.95469176  0.          0.50431718]\n",
      "Fl Score: [ 0.78665783  0.          0.63628279]\n",
      "------------------\n",
      "+++++++++++++++++++\n",
      "Number of Estimators:  30\n",
      "Min Leaves:  17\n",
      "Classes:  ['functional' 'functional needs repair' 'non functional']\n",
      "+++++++++++++++++++\n",
      "Accuracy Score:  0.708417508418\n",
      "Precision Score: [ 0.66488675  0.          0.86446434]\n",
      "Recall Score: [ 0.9556821   0.          0.49339207]\n",
      "Fl Score: [ 0.78419422  0.          0.62822526]\n",
      "------------------\n",
      "+++++++++++++++++++"
     ]
    },
    {
     "name": "stderr",
     "output_type": "stream",
     "text": [
      "//anaconda/lib/python2.7/site-packages/sklearn/base.py:436: DataConversionWarning: A column-vector y was passed when a 1d array was expected. Please change the shape of y to (n_samples,), for example using ravel().\n",
      "  return self.fit(X, y, **fit_params).transform(X)\n",
      "//anaconda/lib/python2.7/site-packages/sklearn/base.py:436: DataConversionWarning: A column-vector y was passed when a 1d array was expected. Please change the shape of y to (n_samples,), for example using ravel().\n",
      "  return self.fit(X, y, **fit_params).transform(X)\n"
     ]
    },
    {
     "name": "stdout",
     "output_type": "stream",
     "text": [
      "\n",
      "Number of Estimators:  30\n",
      "Min Leaves:  18\n",
      "Classes:  ['functional' 'functional needs repair' 'non functional']\n",
      "+++++++++++++++++++\n",
      "Accuracy Score:  0.71164983165\n",
      "Precision Score: [ 0.66842972  0.          0.86192342]\n",
      "Recall Score: [ 0.95432038  0.          0.50378855]\n",
      "Fl Score: [ 0.78619142  0.          0.63589858]\n",
      "------------------\n",
      "+++++++++++++++++++\n",
      "Number of Estimators:  30\n",
      "Min Leaves:  19\n",
      "Classes:  ['functional' 'functional needs repair' 'non functional']\n",
      "+++++++++++++++++++\n",
      "Accuracy Score:  0.711717171717\n",
      "Precision Score: [ 0.66837355  0.          0.86177885]\n",
      "Recall Score: [ 0.95333003  0.          0.50537445]\n",
      "Fl Score: [ 0.78581633  0.          0.63712096]\n",
      "------------------\n",
      "+++++++++++++++++++\n",
      "Number of Estimators:  30\n",
      "Min Leaves:  20\n",
      "Classes:  ['functional' 'functional needs repair' 'non functional']\n",
      "+++++++++++++++++++\n",
      "Accuracy Score:  0.709966329966\n",
      "Precision Score: [ 0.66747657  0.          0.85718581]\n",
      "Recall Score: [ 0.9522159   0.          0.50237885]\n",
      "Fl Score: [ 0.78481788  0.          0.63348517]\n",
      "------------------\n"
     ]
    },
    {
     "name": "stderr",
     "output_type": "stream",
     "text": [
      "//anaconda/lib/python2.7/site-packages/sklearn/base.py:436: DataConversionWarning: A column-vector y was passed when a 1d array was expected. Please change the shape of y to (n_samples,), for example using ravel().\n",
      "  return self.fit(X, y, **fit_params).transform(X)\n"
     ]
    }
   ],
   "source": [
    "import numpy as np\n",
    "from sklearn.metrics import accuracy_score\n",
    "from sklearn.metrics import precision_score\n",
    "from sklearn.metrics import recall_score\n",
    "from sklearn.metrics import f1_score\n",
    "from sklearn.metrics import precision_recall_fscore_support\n",
    "\n",
    "'''\n",
    "n_estimators increase start with 20, default is 10\n",
    "\n",
    "'''\n",
    "\n",
    "l_labels = ['functional' 'non functional' 'functional needs repair']\n",
    "num_estimators = [2,3,4,5,6,7,8,9,10,11,12,13,14,15,16,17,18,19,20,21,22,23,24,25,26,27,28,29,30]\n",
    "max_leaf_nod = [2,3,4,5,6,7,8,9,10,11,12,13,14,15,16,17,18,19,20]\n",
    "train_res = []\n",
    "test_res = []\n",
    "acc_score = []\n",
    "prec_score = []\n",
    "reca_score = []\n",
    "fll_score = []\n",
    "rec_fl_score = []\n",
    "\n",
    "df_accuracy = pd.DataFrame(acc_score,index=num_estimators,columns=max_leaf_nod)\n",
    "df_precision = pd.DataFrame(prec_score,index=num_estimators,columns=max_leaf_nod)\n",
    "df_recall = pd.DataFrame(reca_score,index=num_estimators,columns=max_leaf_nod)\n",
    "df_fl = pd.DataFrame(f1_score,index=num_estimators,columns=max_leaf_nod)\n",
    "\n",
    "print df_accuracy.shape\n",
    "print df_precision.shape\n",
    "print df_recall.shape\n",
    "print df_fl.shape\n",
    "\n",
    "for estim in num_estimators:\n",
    "\n",
    "    for max_leafs in max_leaf_nod:\n",
    "\n",
    "        X = X_pumps_train\n",
    "        y = y_pumps_train[['label']]\n",
    "\n",
    "        clf = ExtraTreesClassifier(n_estimators=estim,max_depth=20,max_features='log2',min_samples_split=15,\\\n",
    "                                  max_leaf_nodes=max_leafs)\n",
    "        \n",
    "        X_new_t = clf.fit_transform(X, y)\n",
    "\n",
    "        result_train = clf.score(X,y)\n",
    "        result_test = clf.score(X_pumps_test,y_pumps_test)\n",
    "\n",
    "        result_pred = clf.predict(X_pumps_test)\n",
    "\n",
    "        acc_1 = accuracy_score(y_pumps_test, result_pred)\n",
    "        clf_precision, clf_recall, clf_f1, _ = precision_recall_fscore_support(y_pumps_test,result_pred, \\\n",
    "                                                                               pos_label=None,\\\n",
    "                                                                               average=None)\n",
    "\n",
    "        print \"+++++++++++++++++++\"\n",
    "        print \"Number of Estimators: \", estim\n",
    "        print \"Min Leaves: \", max_leafs\n",
    "        print \"Classes: \",clf.classes_\n",
    "        print \"+++++++++++++++++++\"\n",
    "        print \"Accuracy Score: \",acc_1\n",
    "        print \"Precision Score:\",clf_precision\n",
    "        print \"Recall Score:\",clf_recall\n",
    "        print \"Fl Score:\",clf_f1\n",
    "        print \"------------------\"\n",
    "\n",
    "        df_accuracy.ix[estim,max_leafs] = acc_1\n",
    "        df_precision.ix[estim,max_leafs] = clf_precision\n",
    "        df_recall.ix[estim,max_leafs] = clf_recall\n",
    "        df_fl.ix[estim,max_leafs] = clf_f1\n"
   ]
  },
  {
   "cell_type": "code",
   "execution_count": 16,
   "metadata": {
    "collapsed": false
   },
   "outputs": [
    {
     "data": {
      "text/plain": [
       "'        df_accuracy.ix[estim,depths] = acc_1\\n        df_precision.ix[estim,depths] = clf_precision\\n        df_accuracy.ix[estim,depths] = clf_recall\\n        df_accuracy.ix[estim,depths] = clf_f1'"
      ]
     },
     "execution_count": 16,
     "metadata": {},
     "output_type": "execute_result"
    },
    {
     "name": "stdout",
     "output_type": "stream",
     "text": [
      "\n"
     ]
    }
   ],
   "source": [
    "'''        df_accuracy.ix[estim,depths] = acc_1\n",
    "        df_precision.ix[estim,depths] = clf_precision\n",
    "        df_accuracy.ix[estim,depths] = clf_recall\n",
    "        df_accuracy.ix[estim,depths] = clf_f1'''"
   ]
  },
  {
   "cell_type": "code",
   "execution_count": 2,
   "metadata": {
    "collapsed": false
   },
   "outputs": [
    {
     "ename": "NameError",
     "evalue": "name 'df_accuracy' is not defined",
     "output_type": "error",
     "traceback": [
      "\u001b[0;31m---------------------------------------------------------------------------\u001b[0m",
      "\u001b[0;31mNameError\u001b[0m                                 Traceback (most recent call last)",
      "\u001b[0;32m<ipython-input-2-54786e9f5018>\u001b[0m in \u001b[0;36m<module>\u001b[0;34m()\u001b[0m\n\u001b[0;32m----> 1\u001b[0;31m \u001b[0;32mprint\u001b[0m \u001b[0mdf_accuracy\u001b[0m\u001b[0;34m.\u001b[0m\u001b[0mhead\u001b[0m\u001b[0;34m(\u001b[0m\u001b[0;34m)\u001b[0m\u001b[0;34m\u001b[0m\u001b[0m\n\u001b[0m\u001b[1;32m      2\u001b[0m \u001b[0;32mprint\u001b[0m \u001b[0mdf_accuracy\u001b[0m\u001b[0;34m.\u001b[0m\u001b[0mtail\u001b[0m\u001b[0;34m(\u001b[0m\u001b[0;34m)\u001b[0m\u001b[0;34m\u001b[0m\u001b[0m\n",
      "\u001b[0;31mNameError\u001b[0m: name 'df_accuracy' is not defined"
     ]
    }
   ],
   "source": [
    "print df_accuracy.head()\n",
    "print df_accuracy.tail()"
   ]
  },
  {
   "cell_type": "code",
   "execution_count": 1,
   "metadata": {
    "collapsed": false
   },
   "outputs": [
    {
     "ename": "NameError",
     "evalue": "name 'df_accuracy' is not defined",
     "output_type": "error",
     "traceback": [
      "\u001b[0;31m---------------------------------------------------------------------------\u001b[0m",
      "\u001b[0;31mNameError\u001b[0m                                 Traceback (most recent call last)",
      "\u001b[0;32m<ipython-input-1-6320a5b8f6d7>\u001b[0m in \u001b[0;36m<module>\u001b[0;34m()\u001b[0m\n\u001b[1;32m      3\u001b[0m \u001b[0;32mimport\u001b[0m \u001b[0mmatplotlib\u001b[0m\u001b[0;34m.\u001b[0m\u001b[0mpyplot\u001b[0m \u001b[0;32mas\u001b[0m \u001b[0mplt\u001b[0m\u001b[0;34m\u001b[0m\u001b[0m\n\u001b[1;32m      4\u001b[0m \u001b[0;34m\u001b[0m\u001b[0m\n\u001b[0;32m----> 5\u001b[0;31m \u001b[0mdf_accuracy\u001b[0m \u001b[0;34m=\u001b[0m \u001b[0mdf_accuracy\u001b[0m\u001b[0;34m[\u001b[0m\u001b[0mdf_accuracy\u001b[0m\u001b[0;34m.\u001b[0m\u001b[0mcolumns\u001b[0m\u001b[0;34m]\u001b[0m\u001b[0;34m.\u001b[0m\u001b[0mastype\u001b[0m\u001b[0;34m(\u001b[0m\u001b[0mfloat\u001b[0m\u001b[0;34m)\u001b[0m\u001b[0;34m\u001b[0m\u001b[0m\n\u001b[0m\u001b[1;32m      6\u001b[0m \u001b[0;34m\u001b[0m\u001b[0m\n\u001b[1;32m      7\u001b[0m \u001b[0mfig\u001b[0m\u001b[0;34m,\u001b[0m \u001b[0max\u001b[0m \u001b[0;34m=\u001b[0m \u001b[0mplt\u001b[0m\u001b[0;34m.\u001b[0m\u001b[0msubplots\u001b[0m\u001b[0;34m(\u001b[0m\u001b[0mfigsize\u001b[0m\u001b[0;34m=\u001b[0m\u001b[0;34m(\u001b[0m\u001b[0;36m20\u001b[0m\u001b[0;34m,\u001b[0m\u001b[0;36m20\u001b[0m\u001b[0;34m)\u001b[0m\u001b[0;34m)\u001b[0m\u001b[0;34m\u001b[0m\u001b[0m\n",
      "\u001b[0;31mNameError\u001b[0m: name 'df_accuracy' is not defined"
     ]
    }
   ],
   "source": [
    "import seaborn as sns\n",
    "import pylab as P\n",
    "import matplotlib.pyplot as plt\n",
    "\n",
    "df_accuracy = df_accuracy[df_accuracy.columns].astype(float)\n",
    "\n",
    "fig, ax = plt.subplots(figsize=(20,20))\n",
    "\n",
    "#RdBu_r\n",
    "ax2 = sns.heatmap(df_accuracy, cmap=\"YlGnBu\",xticklabels=True,\\\n",
    "                 yticklabels=True,annot=True, ax=ax)\n",
    "ax2.set_title(\"Accuracy Scores\", size='xx-large')\n",
    "ax2.set_xlabel('Number of Estimators', size='x-large', labelpad=15)\n",
    "ax2.set_ylabel('Minimum Number of Splits', size='x-large',labelpad=15)"
   ]
  },
  {
   "cell_type": "code",
   "execution_count": 43,
   "metadata": {
    "collapsed": false
   },
   "outputs": [
    {
     "name": "stdout",
     "output_type": "stream",
     "text": [
      "         2         3         4         5         6         7         8   \\\n",
      "2  0.611852  0.618182  0.648081  0.613131  0.654074  0.637576  0.649024   \n",
      "3  0.611852  0.623838  0.631582  0.638721  0.672862  0.645724  0.686330   \n",
      "4  0.669293  0.683030  0.626532  0.661077  0.621347  0.637912  0.681751   \n",
      "5  0.550640  0.680337  0.678721  0.694747  0.677980  0.696970  0.683165   \n",
      "6  0.632660  0.617508  0.689697  0.692593  0.676700  0.686465  0.657239   \n",
      "\n",
      "         9         10        11        12        13        14        15  \\\n",
      "2  0.650774  0.657980  0.627879  0.645118  0.695825  0.662424  0.665185   \n",
      "3  0.699125  0.676768  0.650370  0.665589  0.695488  0.684983  0.679259   \n",
      "4  0.683569  0.687475  0.697441  0.695152  0.693131  0.682222  0.679327   \n",
      "5  0.681010  0.667340  0.687879  0.697239  0.692997  0.689428  0.700135   \n",
      "6  0.696027  0.672054  0.699125  0.696094  0.672727  0.688418  0.662357   \n",
      "\n",
      "         16        17        18        19        20  \n",
      "2  0.661886  0.677374  0.690640  0.679192  0.667071  \n",
      "3  0.705657  0.698855  0.664781  0.701145  0.695354  \n",
      "4  0.696431  0.695825  0.658653  0.704579  0.691178  \n",
      "5  0.706061  0.695354  0.683704  0.708822  0.684916  \n",
      "6  0.698114  0.684714  0.701212  0.707205  0.693064  \n",
      "          2         3         4         5         6         7         8   \\\n",
      "26  0.611852  0.662694  0.670101  0.666532  0.640202  0.674882  0.699125   \n",
      "27  0.621616  0.637980  0.687407  0.690976  0.678384  0.698182  0.698114   \n",
      "28  0.613535  0.632323  0.692189  0.671785  0.679529  0.698788  0.690438   \n",
      "29  0.586465  0.643771  0.681347  0.648283  0.668956  0.688081  0.704175   \n",
      "30  0.616364  0.623434  0.658114  0.689630  0.697845  0.688013  0.689226   \n",
      "\n",
      "          9         10        11        12        13        14        15  \\\n",
      "26  0.669562  0.702088  0.697441  0.695421  0.697643  0.700673  0.699327   \n",
      "27  0.702424  0.703232  0.673670  0.701347  0.703367  0.699259  0.712458   \n",
      "28  0.694411  0.685657  0.701684  0.705993  0.704983  0.704512  0.709091   \n",
      "29  0.703232  0.693131  0.692660  0.703434  0.706128  0.708215  0.706599   \n",
      "30  0.698451  0.702290  0.698586  0.694411  0.704983  0.709495  0.711044   \n",
      "\n",
      "          16        17        18        19        20  \n",
      "26  0.707407  0.710168  0.711448  0.712795  0.716229  \n",
      "27  0.708148  0.701616  0.714209  0.710774  0.711313  \n",
      "28  0.705320  0.707677  0.703367  0.713199  0.710303  \n",
      "29  0.709495  0.708822  0.716835  0.702424  0.714882  \n",
      "30  0.712054  0.708418  0.711650  0.711717  0.709966  \n"
     ]
    }
   ],
   "source": [
    "print df_accuracy.head()\n",
    "print df_accuracy.tail()"
   ]
  },
  {
   "cell_type": "code",
   "execution_count": 44,
   "metadata": {
    "collapsed": false,
    "scrolled": false
   },
   "outputs": [
    {
     "data": {
      "text/plain": [
       "<matplotlib.text.Text at 0x1280a2a10>"
      ]
     },
     "execution_count": 44,
     "metadata": {},
     "output_type": "execute_result"
    },
    {
     "data": {
      "image/png": "[encoded data removed]",
      "text/plain": [
       "<matplotlib.figure.Figure at 0x128025050>"
      ]
     },
     "metadata": {},
     "output_type": "display_data"
    }
   ],
   "source": [
    "import seaborn as sns\n",
    "import pylab as P\n",
    "import matplotlib.pyplot as plt\n",
    "\n",
    "df_accuracy = df_accuracy[df_accuracy.columns].astype(float)\n",
    "\n",
    "fig, ax = plt.subplots(figsize=(20,20))\n",
    "\n",
    "#RdBu_r\n",
    "ax = sns.heatmap(df_accuracy, cmap=\"YlGnBu\",xticklabels=True,\\\n",
    "                 yticklabels=True,annot=True, ax=ax)\n",
    "ax.set_title(\"Accuracy Scores\", size='xx-large')\n",
    "ax.set_xlabel('Number of Estimators', size='x-large', labelpad=15)\n",
    "ax.set_ylabel('Minimum Number of Splits', size='x-large',labelpad=15)\n",
    "\n"
   ]
  },
  {
   "cell_type": "code",
   "execution_count": null,
   "metadata": {
    "collapsed": false
   },
   "outputs": [],
   "source": [
    "print df_precision.head()"
   ]
  },
  {
   "cell_type": "code",
   "execution_count": 147,
   "metadata": {
    "collapsed": false
   },
   "outputs": [
    {
     "data": {
      "image/png": "[encoded data removed]",
      "text/plain": [
       "<matplotlib.figure.Figure at 0x11139dd90>"
      ]
     },
     "metadata": {},
     "output_type": "display_data"
    }
   ],
   "source": [
    "import matplotlib.pyplot as plt\n",
    "\n",
    "fig, ((ax1,ax2),(ax3,ax4),(ax5,ax6),(ax7,ax8),(ax9,ax10)) = plt.subplots(5,2,figsize=(12,12))\n",
    "\n",
    "n_groups = 21\n",
    "bar_width = 0.50\n",
    "index = np.arange(n_groups)\n",
    "opacity = 0.4\n",
    "\n",
    "rects1 = ax1.bar(index, acc_score, bar_width,\n",
    "                 alpha=opacity,\n",
    "                 color='b',\n",
    "                 label='Accuracy')\n",
    "\n",
    "ax1.set_ylim([0.775,0.785])\n",
    "ax1.set_xlabel('n_estimators')\n",
    "ax1.set_ylabel('Accuracy Scores')\n",
    "\n",
    "ax1.set_title('Accuracy')\n",
    "ax1.legend()\n",
    "\n",
    "\n",
    "bar_width = 0.40\n",
    "index = np.arange(n_groups)\n",
    "opacity = 0.4\n",
    "\n",
    "x1 = []\n",
    "x2 = []\n",
    "x3 = []\n",
    "\n",
    "for element in range(len(prec_score)):\n",
    "    x1.append(prec_score[element][0])\n",
    "    x2.append(prec_score[element][1])\n",
    "    x3.append(prec_score[element][2])\n",
    "\n",
    "rects1 = ax2.bar(index, x1, bar_width,\n",
    "                 alpha=opacity,\n",
    "                 color='c',\n",
    "                 label='Precision Score Functional')\n",
    "\n",
    "rects2 = ax3.bar(index, x2, bar_width,\n",
    "                 alpha=opacity,\n",
    "                 color='y',\n",
    "                 label='Precision Score Needs Repair')\n",
    "\n",
    "rects3 = ax4.bar(index, x3, bar_width,\n",
    "                 alpha=opacity,\n",
    "                 color='r',\n",
    "                 label='Precision Score Non-functional')\n",
    "\n",
    "ax2.legend(loc=8)\n",
    "ax2.set_ylim([0.78,0.815])\n",
    "ax2.set_xlim([0,21])\n",
    "ax2.set_xlabel('n_estimators')\n",
    "ax2.set_ylabel('Precision Scores')\n",
    "ax2.set_title('Functional')\n",
    "\n",
    "ax3.legend(loc=8)\n",
    "ax3.set_ylim([0.43,0.48])\n",
    "ax3.set_xlim([0,21])\n",
    "ax3.set_xlabel('n_estimators')\n",
    "ax3.set_ylabel('Precision Scores')\n",
    "ax3.set_title('Needs repair')\n",
    "\n",
    "ax4.legend(loc=8)\n",
    "ax4.set_ylim([0.78,0.82])\n",
    "ax4.set_xlim([0,21])\n",
    "ax4.set_xlabel('n_estimators')\n",
    "ax4.set_ylabel('Precision Scores')\n",
    "ax4.set_title('Non Functional')\n",
    "\n",
    "\n",
    "bar_width = 0.40\n",
    "index = np.arange(n_groups)\n",
    "opacity = 0.4\n",
    "\n",
    "x1 = []\n",
    "x2 = []\n",
    "x3 = []\n",
    "\n",
    "for element in range(len(reca_score)):\n",
    "    x1.append(reca_score[element][0])\n",
    "    x2.append(reca_score[element][1])\n",
    "    x3.append(reca_score[element][2])\n",
    "\n",
    "rects1 = ax5.bar(index, x1, bar_width,\n",
    "                 alpha=opacity,\n",
    "                 color='c',\n",
    "                 label='Recall Functional')\n",
    "\n",
    "rects2 = ax6.bar(index, x2, bar_width,\n",
    "                 alpha=opacity,\n",
    "                 color='y',\n",
    "                 label='Recall Needs repair')\n",
    "\n",
    "rects3 = ax7.bar(index, x3, bar_width,\n",
    "                 alpha=opacity,\n",
    "                 color='r',\n",
    "                 label='Recall Non-functional')\n",
    "\n",
    "ax5.legend(loc=9)\n",
    "ax5.set_ylim([0.84,0.87])\n",
    "ax5.set_xlim([0,21])\n",
    "ax5.set_xlabel('n_estimators')\n",
    "ax5.set_ylabel('Recall Scores')\n",
    "ax5.set_title('Functional')\n",
    "\n",
    "ax6.legend(loc=9)\n",
    "ax6.set_ylim([0.32,0.36])\n",
    "ax6.set_xlim([0,21])\n",
    "ax6.set_xlabel('n_estimators')\n",
    "ax6.set_ylabel('Recall Scores')\n",
    "ax6.set_title('Needs Repair')\n",
    "\n",
    "ax7.legend(loc=9)\n",
    "ax7.set_ylim([0.75,0.80])\n",
    "ax7.set_xlim([0,21])\n",
    "ax7.set_xlabel('n_estimators')\n",
    "ax7.set_ylabel('Recall Scores')\n",
    "ax7.set_title('Non-Functional')\n",
    "\n",
    "x1 = []\n",
    "x2 = []\n",
    "x3 = []\n",
    "\n",
    "for element in range(len(fll_score)):\n",
    "    x1.append(fll_score[element][0])\n",
    "    x2.append(fll_score[element][1])\n",
    "    x3.append(fll_score[element][2])\n",
    "\n",
    "rects1 = ax8.bar(index, x1, bar_width,\n",
    "                 alpha=opacity,\n",
    "                 color='c',\n",
    "                 label='Fl Functional')\n",
    "\n",
    "rects2 = ax9.bar(index, x2, bar_width,\n",
    "                 alpha=opacity,\n",
    "                 color='y',\n",
    "                 label='Fl Needs Repair')\n",
    "\n",
    "rects3 = ax10.bar(index, x3, bar_width,\n",
    "                 alpha=opacity,\n",
    "                 color='r',\n",
    "                 label='Fl Non Functional')\n",
    "\n",
    "ax8.legend(loc=8)\n",
    "ax8.set_ylim([0.8,0.83])\n",
    "ax8.set_xlim([0,21])\n",
    "ax8.set_xlabel('n_estimators')\n",
    "ax8.set_ylabel('Fl Scores')\n",
    "ax8.set_title('Functional')\n",
    "\n",
    "ax9.legend(loc=8)\n",
    "ax9.set_ylim([0.36,0.40])\n",
    "ax9.set_xlim([0,21])\n",
    "ax9.set_xlabel('n_estimators')\n",
    "ax9.set_ylabel('Fl Scores')\n",
    "ax9.set_title('Needs repair')\n",
    "\n",
    "ax10.legend(loc=8)\n",
    "ax10.set_ylim([0.75,0.80])\n",
    "ax10.set_xlim([0,21])\n",
    "ax10.set_xlabel('n_estimators')\n",
    "ax10.set_ylabel('Fl Scores')\n",
    "ax10.set_title('Non Functional')\n",
    "\n",
    "\n",
    "plt.tight_layout()\n",
    "plt.show()\n",
    "\n",
    "\n"
   ]
  },
  {
   "cell_type": "code",
   "execution_count": 45,
   "metadata": {
    "collapsed": false,
    "scrolled": true
   },
   "outputs": [
    {
     "name": "stdout",
     "output_type": "stream",
     "text": [
      "(44550, 14)\n",
      "Train Score: 0.995061728395\n",
      "Test Score: 0.779057239057\n",
      "Feature ranking:\n",
      "1. feature 3 (0.154770) latitude\n",
      "2. feature 2 (0.154396) longitude\n",
      "3. feature 1 (0.080339) gps_height\n",
      "4. feature 70 (0.075335) dry\n",
      "5. feature 6 (0.054576) population\n",
      "6. feature 71 (0.031172) enough\n",
      "7. feature 5 (0.024468) district_code\n",
      "8. feature 90 (0.021932) other\n",
      "9. feature 38 (0.020333) other\n",
      "10. feature 4 (0.019230) region_code\n",
      "11. feature 48 (0.018980) other\n",
      "12. feature 59 (0.017779) never pay\n",
      "13. feature 72 (0.016599) insufficient\n",
      "14. feature 0 (0.015377) amount_tsh\n",
      "15. feature 25 (0.010126) VWC\n",
      "16. feature 31 (0.009989) True\n",
      "17. feature 30 (0.009214) False\n",
      "18. feature 17 (0.008781) True\n",
      "19. feature 69 (0.008713) unknown\n",
      "20. feature 63 (0.007745) unknown\n",
      "21. feature 86 (0.007675) communal standpipe\n",
      "22. feature 66 (0.007240) good\n",
      "23. feature 56 (0.007170) user-group\n",
      "24. feature 16 (0.007167) False\n",
      "25. feature 62 (0.007049) per bucket\n",
      "26. feature 11 (0.006857) Lake Victoria\n",
      "27. feature 73 (0.006853) seasonal\n",
      "28. feature 81 (0.006599) spring\n",
      "29. feature 75 (0.006450) borehole\n",
      "30. feature 7 (0.006212) Internal\n",
      "31. feature 58 (0.006187) monthly\n",
      "32. feature 12 (0.005927) Pangani\n",
      "33. feature 37 (0.005636) nira/tanira\n",
      "34. feature 80 (0.005622) shallow well\n",
      "35. feature 45 (0.005496) gravity\n",
      "36. feature 46 (0.005438) handpump\n",
      "37. feature 10 (0.005428) Lake Tanganyika\n",
      "38. feature 27 (0.005252) WUG\n",
      "39. feature 33 (0.005176) gravity\n",
      "40. feature 88 (0.005039) hand pump\n",
      "41. feature 9 (0.005003) Lake Rukwa\n",
      "42. feature 13 (0.004901) Rufiji\n",
      "43. feature 8 (0.004896) Lake Nyasa\n",
      "44. feature 82 (0.004594) groundwater\n",
      "45. feature 79 (0.004590) river/lake\n",
      "46. feature 15 (0.004553) Wami / Ruvu\n",
      "47. feature 52 (0.004413) commercial\n",
      "48. feature 68 (0.004310) salty\n",
      "49. feature 18 (0.004280) Company\n",
      "50. feature 29 (0.004139) Water authority\n",
      "51. feature 57 (0.004070) annually\n",
      "52. feature 78 (0.003991) rainwater harvesting\n",
      "53. feature 14 (0.003947) Ruvuma / Southern Coast\n",
      "54. feature 60 (0.003619) on failure\n",
      "55. feature 43 (0.003594) swn 80\n",
      "56. feature 83 (0.003456) surface\n",
      "57. feature 36 (0.003441) mono\n",
      "58. feature 28 (0.003283) Water Board\n",
      "59. feature 42 (0.002859) submersible\n",
      "60. feature 34 (0.002819) india mark ii\n",
      "61. feature 26 (0.002813) WUA\n",
      "62. feature 50 (0.002767) submersible\n",
      "63. feature 32 (0.002424) afridev\n",
      "64. feature 47 (0.002192) motorpump\n",
      "65. feature 74 (0.002117) unknown\n",
      "66. feature 54 (0.001944) parastatal\n",
      "67. feature 22 (0.001865) Private operator\n",
      "68. feature 21 (0.001820) Parastatal\n",
      "69. feature 89 (0.001665) improved spring\n",
      "70. feature 61 (0.001654) other\n",
      "71. feature 76 (0.001570) dam\n",
      "72. feature 53 (0.001423) other\n",
      "73. feature 67 (0.001384) milky\n",
      "74. feature 64 (0.001304) colored\n",
      "75. feature 39 (0.001115) other handpump\n",
      "76. feature 20 (0.001110) Other\n",
      "77. feature 55 (0.000991) unknown\n",
      "78. feature 49 (0.000820) rope pump\n",
      "79. feature 65 (0.000661) fluoride\n",
      "80. feature 84 (0.000504) unknown\n",
      "81. feature 77 (0.000480) other\n",
      "82. feature 41 (0.000446) rope pump\n",
      "83. feature 85 (0.000358) cattle trough\n",
      "84. feature 35 (0.000356) india mark iii\n",
      "85. feature 24 (0.000287) Trust\n",
      "86. feature 44 (0.000286) wind-powered\n",
      "87. feature 40 (0.000194) other motorpump\n",
      "88. feature 23 (0.000189) SWC\n",
      "89. feature 51 (0.000170) wind-powered\n",
      "90. feature 87 (0.000007) dam\n",
      "91. feature 19 (0.000000) None\n",
      "X_new_t 44550\n",
      "(44550, 14)\n"
     ]
    },
    {
     "name": "stderr",
     "output_type": "stream",
     "text": [
      "//anaconda/lib/python2.7/site-packages/sklearn/base.py:436: DataConversionWarning: A column-vector y was passed when a 1d array was expected. Please change the shape of y to (n_samples,), for example using ravel().\n",
      "  return self.fit(X, y, **fit_params).transform(X)\n"
     ]
    }
   ],
   "source": [
    "import numpy as np\n",
    "\n",
    "'''\n",
    "n_estimators increase start with 20, default is 10\n",
    "\n",
    "'''\n",
    "num_estimators = [10,11,12,13,14,15,16,17,18,19,20]\n",
    "train_res = []\n",
    "test_res\n",
    "for estim in num_estimators:\n",
    "    clf = ExtraTreesClassifier(num_estimators=estim)\n",
    "    X_new_t = clf.fit_transform(X, y)\n",
    "    result_train = clf.score(X,y)\n",
    "    result_test = clf.score(X_pumps_test,y_pumps_test)\n",
    "    print \"Number of Estimators: \",estim\n",
    "    print \"Train Score:\",result_train\n",
    "    print \"Test Score:\",result_test\n",
    "    \n",
    "\n",
    "importances = clf.feature_importances_\n",
    "\n",
    "indices = np.argsort(importances)[::-1]\n",
    "\n",
    "# Print the feature ranking\n",
    "print(\"Feature ranking:\")\n",
    "\n",
    "for f in range(len(indices)):\n",
    "    print(\"%d. feature %d (%f) %s\" % (f + 1, indices[f], importances[indices[f]],X.columns.values[indices[f]]))\n",
    "\n",
    "print \"X_new_t\",len(X_new_t)\n",
    "\n",
    "print X_new_t.shape\n"
   ]
  },
  {
   "cell_type": "code",
   "execution_count": 46,
   "metadata": {
    "collapsed": false,
    "scrolled": true
   },
   "outputs": [],
   "source": [
    "import matplotlib.pyplot as plt"
   ]
  },
  {
   "cell_type": "code",
   "execution_count": 280,
   "metadata": {
    "collapsed": false
   },
   "outputs": [
    {
     "name": "stdout",
     "output_type": "stream",
     "text": [
      "0.778181818182\n"
     ]
    }
   ],
   "source": [
    "'''from sklearn.tree import DecisionTreeClassifier\n",
    "clf2222 = DecisionTreeClassifier()\n",
    "X_new = clf2222.fit_transform(X, y)\n",
    "result_train = clf2222.score(X,y)\n",
    "print result_test\n",
    "\n",
    "with open(\"export2.dot\",\"wb\") as f:\n",
    "    f = export_graphviz(clf2222,out_file=f,feature_names=indices)\n",
    "'''"
   ]
  },
  {
   "cell_type": "code",
   "execution_count": 287,
   "metadata": {
    "collapsed": false
   },
   "outputs": [
    {
     "data": {
      "text/plain": [
       "True"
      ]
     },
     "execution_count": 287,
     "metadata": {},
     "output_type": "execute_result"
    }
   ],
   "source": [
    "'''from sklearn import tree\n",
    "import StringIO\n",
    "import pydot\n",
    "from sklearn.externals.six import StringIO  \n",
    "\n",
    "clf2222 = DecisionTreeClassifier()\n",
    "N = clf2222.fit_transform(X,y)\n",
    "\n",
    "X_333 = X[['latitude','longitude','gps_height','dry','population']]\n",
    "clf333 = DecisionTreeClassifier()\n",
    "transform = clf333.fit_transform(X_333,y)\n",
    "\n",
    "dot_data = StringIO()\n",
    "tree.export_graphviz(clf333, out_file=dot_data)\n",
    "graph = pydot.graph_from_dot_data(dot_data.getvalue())\n",
    "graph.write_pdf(\"DTF.pdf\")'''"
   ]
  },
  {
   "cell_type": "code",
   "execution_count": 264,
   "metadata": {
    "collapsed": false
   },
   "outputs": [],
   "source": [
    "'''\n",
    "with open(\"export1.dot\",\"wb\") as f:\n",
    "    f = export_graphviz(clf,out_file=f,feature_names=indices)\n",
    "'''    "
   ]
  },
  {
   "cell_type": "code",
   "execution_count": 47,
   "metadata": {
    "collapsed": false,
    "scrolled": true
   },
   "outputs": [
    {
     "data": {
      "image/png": "[encoded data removed]",
      "text/plain": [
       "<matplotlib.figure.Figure at 0x10bc39e50>"
      ]
     },
     "metadata": {},
     "output_type": "display_data"
    },
    {
     "name": "stdout",
     "output_type": "stream",
     "text": [
      "['amount_tsh' 'gps_height' 'longitude' 'latitude' 'region_code'\n",
      " 'district_code' 'population' 'Internal' 'Lake Nyasa' 'Lake Rukwa'\n",
      " 'Lake Tanganyika' 'Lake Victoria' 'Pangani' 'Rufiji'\n",
      " 'Ruvuma / Southern Coast' 'Wami / Ruvu' 'False' 'True' 'Company' 'None'\n",
      " 'Other' 'Parastatal' 'Private operator' 'SWC' 'Trust' 'VWC' 'WUA' 'WUG'\n",
      " 'Water Board' 'Water authority' False True 'afridev' 'gravity'\n",
      " 'india mark ii' 'india mark iii' 'mono' 'nira/tanira' 'other'\n",
      " 'other handpump' 'other motorpump' 'rope pump' 'submersible' 'swn 80'\n",
      " 'wind-powered' 'gravity' 'handpump' 'motorpump' 'other' 'rope pump'\n",
      " 'submersible' 'wind-powered' 'commercial' 'other' 'parastatal' 'unknown'\n",
      " 'user-group' 'annually' 'monthly' 'never pay' 'on failure' 'other'\n",
      " 'per bucket' 'unknown' 'colored' 'fluoride' 'good' 'milky' 'salty'\n",
      " 'unknown' 'dry' 'enough' 'insufficient' 'seasonal' 'unknown' 'borehole'\n",
      " 'dam' 'other' 'rainwater harvesting' 'river/lake' 'shallow well' 'spring'\n",
      " 'groundwater' 'surface' 'unknown' 'cattle trough' 'communal standpipe'\n",
      " 'dam' 'hand pump' 'improved spring' 'other']\n",
      "0  -  latitude\n",
      "1  -  longitude\n",
      "2  -  gps_height\n",
      "3  -  dry\n",
      "4  -  population\n",
      "5  -  enough\n",
      "6  -  district_code\n",
      "7  -  other\n",
      "8  -  other\n",
      "9  -  region_code\n",
      "10  -  other\n",
      "11  -  never pay\n",
      "12  -  insufficient\n",
      "13  -  amount_tsh\n",
      "14  -  VWC\n",
      "15  -  True\n",
      "16  -  False\n",
      "17  -  True\n",
      "18  -  unknown\n",
      "19  -  unknown\n",
      "20  -  communal standpipe\n",
      "21  -  good\n",
      "22  -  user-group\n",
      "23  -  False\n",
      "24  -  per bucket\n",
      "25  -  Lake Victoria\n",
      "26  -  seasonal\n",
      "27  -  spring\n",
      "28  -  borehole\n",
      "29  -  Internal\n",
      "30  -  monthly\n",
      "31  -  Pangani\n",
      "32  -  nira/tanira\n",
      "33  -  shallow well\n",
      "34  -  gravity\n",
      "35  -  handpump\n",
      "36  -  Lake Tanganyika\n",
      "37  -  WUG\n",
      "38  -  gravity\n",
      "39  -  hand pump\n",
      "40  -  Lake Rukwa\n",
      "41  -  Rufiji\n",
      "42  -  Lake Nyasa\n",
      "43  -  groundwater\n",
      "44  -  river/lake\n",
      "45  -  Wami / Ruvu\n",
      "46  -  commercial\n",
      "47  -  salty\n",
      "48  -  Company\n",
      "49  -  Water authority\n",
      "50  -  annually\n",
      "51  -  rainwater harvesting\n",
      "52  -  Ruvuma / Southern Coast\n",
      "53  -  on failure\n",
      "54  -  swn 80\n",
      "55  -  surface\n",
      "56  -  mono\n",
      "57  -  Water Board\n",
      "58  -  submersible\n",
      "59  -  india mark ii\n",
      "60  -  WUA\n",
      "61  -  submersible\n",
      "62  -  afridev\n",
      "63  -  motorpump\n",
      "64  -  unknown\n",
      "65  -  parastatal\n",
      "66  -  Private operator\n",
      "67  -  Parastatal\n",
      "68  -  improved spring\n",
      "69  -  other\n",
      "70  -  dam\n",
      "71  -  other\n",
      "72  -  milky\n",
      "73  -  colored\n",
      "74  -  other handpump\n",
      "75  -  Other\n",
      "76  -  unknown\n",
      "77  -  rope pump\n",
      "78  -  fluoride\n",
      "79  -  unknown\n",
      "80  -  other\n",
      "81  -  rope pump\n",
      "82  -  cattle trough\n",
      "83  -  india mark iii\n",
      "84  -  Trust\n",
      "85  -  wind-powered\n",
      "86  -  other motorpump\n",
      "87  -  SWC\n",
      "88  -  wind-powered\n",
      "89  -  dam\n",
      "90  -  None\n"
     ]
    }
   ],
   "source": [
    "# Plot the feature importances of the forest\n",
    "\n",
    "plt.figure(figsize=(14,8))\n",
    "plt.title(\"Feature importances\")\n",
    "plt.bar(range(len(indices)), importances[indices], color=\"r\", align=\"center\")\n",
    "plt.xticks(range(len(indices)), indices, rotation='vertical')\n",
    "plt.xlim([-1, 10])\n",
    "plt.show()\n",
    "\n",
    "print X.columns.values\n",
    "for a in range(len(X.columns.values)):\n",
    "    print a,\" - \", X.columns.values[indices[a]]\n",
    "\n",
    "\n",
    "\n"
   ]
  },
  {
   "cell_type": "code",
   "execution_count": 224,
   "metadata": {
    "collapsed": false
   },
   "outputs": [
    {
     "name": "stdout",
     "output_type": "stream",
     "text": [
      "        latitude  longitude  gps_height  dry  population\n",
      "37900  -4.053327  33.104711           0    0           0\n",
      "40527  -8.954532  32.569985           0    0           0\n",
      "26058  -8.439998  31.736616        1804    0         200\n",
      "6969   -9.123071  34.774402        1821    0         108\n",
      "41018 -10.923966  36.092962         767    0         400\n"
     ]
    }
   ],
   "source": [
    "'''X_2 = X[['latitude','longitude','gps_height','dry','population']]\n",
    "\n",
    "print X_2.head()'''"
   ]
  },
  {
   "cell_type": "code",
   "execution_count": 54,
   "metadata": {
    "collapsed": false,
    "scrolled": true
   },
   "outputs": [
    {
     "name": "stdout",
     "output_type": "stream",
     "text": [
      "       amount_tsh date_recorded                  funder  gps_height  \\\n",
      "id                                                                    \n",
      "50785           0    2013-02-04                    Dmdd        1996   \n",
      "51630           0    2013-02-04  Government Of Tanzania        1569   \n",
      "17168           0    2013-02-01                     NaN        1567   \n",
      "45559           0    2013-01-22              Finn Water         267   \n",
      "49871         500    2013-03-27                  Bruder        1260   \n",
      "\n",
      "        installer  longitude   latitude                 wpt_name  num_private  \\\n",
      "id                                                                              \n",
      "50785        DMDD  35.290799  -4.059696  Dinamu Secondary School            0   \n",
      "51630         DWE  36.656709  -3.309214                  Kimnyak            0   \n",
      "17168         NaN  34.767863  -5.004344           Puma Secondary            0   \n",
      "45559  FINN WATER  38.058046  -9.418672           Kwa Mzee Pange            0   \n",
      "49871      BRUDER  35.006123 -10.950412          Kwa Mzee Turuka            0   \n",
      "\n",
      "                         basin          ...          payment_type  \\\n",
      "id                                      ...                         \n",
      "50785                 Internal          ...             never pay   \n",
      "51630                  Pangani          ...             never pay   \n",
      "17168                 Internal          ...             never pay   \n",
      "45559  Ruvuma / Southern Coast          ...               unknown   \n",
      "49871  Ruvuma / Southern Coast          ...               monthly   \n",
      "\n",
      "      water_quality  quality_group      quantity quantity_group  \\\n",
      "id                                                                \n",
      "50785          soft           good      seasonal       seasonal   \n",
      "51630          soft           good  insufficient   insufficient   \n",
      "17168          soft           good  insufficient   insufficient   \n",
      "45559          soft           good           dry            dry   \n",
      "49871          soft           good        enough         enough   \n",
      "\n",
      "                     source           source_type source_class  \\\n",
      "id                                                               \n",
      "50785  rainwater harvesting  rainwater harvesting      surface   \n",
      "51630                spring                spring  groundwater   \n",
      "17168  rainwater harvesting  rainwater harvesting      surface   \n",
      "45559          shallow well          shallow well  groundwater   \n",
      "49871                spring                spring  groundwater   \n",
      "\n",
      "          waterpoint_type waterpoint_type_group  \n",
      "id                                               \n",
      "50785               other                 other  \n",
      "51630  communal standpipe    communal standpipe  \n",
      "17168               other                 other  \n",
      "45559               other                 other  \n",
      "49871  communal standpipe    communal standpipe  \n",
      "\n",
      "[5 rows x 39 columns]\n"
     ]
    },
    {
     "ename": "KeyError",
     "evalue": "\"['id'] not in index\"",
     "output_type": "error",
     "traceback": [
      "\u001b[0;31m---------------------------------------------------------------------------\u001b[0m",
      "\u001b[0;31mKeyError\u001b[0m                                  Traceback (most recent call last)",
      "\u001b[0;32m<ipython-input-54-123865d30b7f>\u001b[0m in \u001b[0;36m<module>\u001b[0;34m()\u001b[0m\n\u001b[1;32m      2\u001b[0m \u001b[0;32mprint\u001b[0m \u001b[0mtest\u001b[0m\u001b[0;34m.\u001b[0m\u001b[0mhead\u001b[0m\u001b[0;34m(\u001b[0m\u001b[0;34m)\u001b[0m\u001b[0;34m\u001b[0m\u001b[0m\n\u001b[1;32m      3\u001b[0m \u001b[0;34m\u001b[0m\u001b[0m\n\u001b[0;32m----> 4\u001b[0;31m \u001b[0mtest\u001b[0m \u001b[0;34m=\u001b[0m \u001b[0mtest\u001b[0m\u001b[0;34m[\u001b[0m\u001b[0;34m[\u001b[0m\u001b[0;34m'id'\u001b[0m\u001b[0;34m,\u001b[0m\u001b[0;34m'amount_tsh'\u001b[0m\u001b[0;34m,\u001b[0m\u001b[0;34m'gps_height'\u001b[0m\u001b[0;34m,\u001b[0m\u001b[0;34m'longitude'\u001b[0m\u001b[0;34m,\u001b[0m\u001b[0;34m'latitude'\u001b[0m\u001b[0;34m,\u001b[0m\u001b[0;34m'region_code'\u001b[0m\u001b[0;34m,\u001b[0m\u001b[0;34m'district_code'\u001b[0m\u001b[0;34m,\u001b[0m            \u001b[0;34m'population'\u001b[0m\u001b[0;34m,\u001b[0m\u001b[0;34m'basin'\u001b[0m\u001b[0;34m,\u001b[0m\u001b[0;34m'public_meeting'\u001b[0m\u001b[0;34m,\u001b[0m\u001b[0;34m'scheme_management'\u001b[0m\u001b[0;34m,\u001b[0m\u001b[0;34m'permit'\u001b[0m\u001b[0;34m,\u001b[0m            \u001b[0;34m'extraction_type_group'\u001b[0m\u001b[0;34m,\u001b[0m\u001b[0;34m'extraction_type_class'\u001b[0m\u001b[0;34m,\u001b[0m\u001b[0;34m'management_group'\u001b[0m\u001b[0;34m,\u001b[0m            \u001b[0;34m'payment_type'\u001b[0m\u001b[0;34m,\u001b[0m\u001b[0;34m'quality_group'\u001b[0m\u001b[0;34m,\u001b[0m\u001b[0;34m'quantity_group'\u001b[0m\u001b[0;34m,\u001b[0m            \u001b[0;34m'source_type'\u001b[0m\u001b[0;34m,\u001b[0m\u001b[0;34m'source_class'\u001b[0m\u001b[0;34m,\u001b[0m\u001b[0;34m'waterpoint_type_group'\u001b[0m\u001b[0;34m]\u001b[0m\u001b[0;34m]\u001b[0m\u001b[0;34m\u001b[0m\u001b[0m\n\u001b[0m\u001b[1;32m      5\u001b[0m \u001b[0;34m\u001b[0m\u001b[0m\n\u001b[1;32m      6\u001b[0m \u001b[0;32mprint\u001b[0m \u001b[0mtest\u001b[0m\u001b[0;34m.\u001b[0m\u001b[0mhead\u001b[0m\u001b[0;34m(\u001b[0m\u001b[0;34m)\u001b[0m\u001b[0;34m\u001b[0m\u001b[0m\n",
      "\u001b[0;32m//anaconda/lib/python2.7/site-packages/pandas/core/frame.pyc\u001b[0m in \u001b[0;36m__getitem__\u001b[0;34m(self, key)\u001b[0m\n\u001b[1;32m   1789\u001b[0m         \u001b[0;32mif\u001b[0m \u001b[0misinstance\u001b[0m\u001b[0;34m(\u001b[0m\u001b[0mkey\u001b[0m\u001b[0;34m,\u001b[0m \u001b[0;34m(\u001b[0m\u001b[0mSeries\u001b[0m\u001b[0;34m,\u001b[0m \u001b[0mnp\u001b[0m\u001b[0;34m.\u001b[0m\u001b[0mndarray\u001b[0m\u001b[0;34m,\u001b[0m \u001b[0mIndex\u001b[0m\u001b[0;34m,\u001b[0m \u001b[0mlist\u001b[0m\u001b[0;34m)\u001b[0m\u001b[0;34m)\u001b[0m\u001b[0;34m:\u001b[0m\u001b[0;34m\u001b[0m\u001b[0m\n\u001b[1;32m   1790\u001b[0m             \u001b[0;31m# either boolean or fancy integer index\u001b[0m\u001b[0;34m\u001b[0m\u001b[0;34m\u001b[0m\u001b[0m\n\u001b[0;32m-> 1791\u001b[0;31m             \u001b[0;32mreturn\u001b[0m \u001b[0mself\u001b[0m\u001b[0;34m.\u001b[0m\u001b[0m_getitem_array\u001b[0m\u001b[0;34m(\u001b[0m\u001b[0mkey\u001b[0m\u001b[0;34m)\u001b[0m\u001b[0;34m\u001b[0m\u001b[0m\n\u001b[0m\u001b[1;32m   1792\u001b[0m         \u001b[0;32melif\u001b[0m \u001b[0misinstance\u001b[0m\u001b[0;34m(\u001b[0m\u001b[0mkey\u001b[0m\u001b[0;34m,\u001b[0m \u001b[0mDataFrame\u001b[0m\u001b[0;34m)\u001b[0m\u001b[0;34m:\u001b[0m\u001b[0;34m\u001b[0m\u001b[0m\n\u001b[1;32m   1793\u001b[0m             \u001b[0;32mreturn\u001b[0m \u001b[0mself\u001b[0m\u001b[0;34m.\u001b[0m\u001b[0m_getitem_frame\u001b[0m\u001b[0;34m(\u001b[0m\u001b[0mkey\u001b[0m\u001b[0;34m)\u001b[0m\u001b[0;34m\u001b[0m\u001b[0m\n",
      "\u001b[0;32m//anaconda/lib/python2.7/site-packages/pandas/core/frame.pyc\u001b[0m in \u001b[0;36m_getitem_array\u001b[0;34m(self, key)\u001b[0m\n\u001b[1;32m   1833\u001b[0m             \u001b[0;32mreturn\u001b[0m \u001b[0mself\u001b[0m\u001b[0;34m.\u001b[0m\u001b[0mtake\u001b[0m\u001b[0;34m(\u001b[0m\u001b[0mindexer\u001b[0m\u001b[0;34m,\u001b[0m \u001b[0maxis\u001b[0m\u001b[0;34m=\u001b[0m\u001b[0;36m0\u001b[0m\u001b[0;34m,\u001b[0m \u001b[0mconvert\u001b[0m\u001b[0;34m=\u001b[0m\u001b[0mFalse\u001b[0m\u001b[0;34m)\u001b[0m\u001b[0;34m\u001b[0m\u001b[0m\n\u001b[1;32m   1834\u001b[0m         \u001b[0;32melse\u001b[0m\u001b[0;34m:\u001b[0m\u001b[0;34m\u001b[0m\u001b[0m\n\u001b[0;32m-> 1835\u001b[0;31m             \u001b[0mindexer\u001b[0m \u001b[0;34m=\u001b[0m \u001b[0mself\u001b[0m\u001b[0;34m.\u001b[0m\u001b[0mix\u001b[0m\u001b[0;34m.\u001b[0m\u001b[0m_convert_to_indexer\u001b[0m\u001b[0;34m(\u001b[0m\u001b[0mkey\u001b[0m\u001b[0;34m,\u001b[0m \u001b[0maxis\u001b[0m\u001b[0;34m=\u001b[0m\u001b[0;36m1\u001b[0m\u001b[0;34m)\u001b[0m\u001b[0;34m\u001b[0m\u001b[0m\n\u001b[0m\u001b[1;32m   1836\u001b[0m             \u001b[0;32mreturn\u001b[0m \u001b[0mself\u001b[0m\u001b[0;34m.\u001b[0m\u001b[0mtake\u001b[0m\u001b[0;34m(\u001b[0m\u001b[0mindexer\u001b[0m\u001b[0;34m,\u001b[0m \u001b[0maxis\u001b[0m\u001b[0;34m=\u001b[0m\u001b[0;36m1\u001b[0m\u001b[0;34m,\u001b[0m \u001b[0mconvert\u001b[0m\u001b[0;34m=\u001b[0m\u001b[0mTrue\u001b[0m\u001b[0;34m)\u001b[0m\u001b[0;34m\u001b[0m\u001b[0m\n\u001b[1;32m   1837\u001b[0m \u001b[0;34m\u001b[0m\u001b[0m\n",
      "\u001b[0;32m//anaconda/lib/python2.7/site-packages/pandas/core/indexing.pyc\u001b[0m in \u001b[0;36m_convert_to_indexer\u001b[0;34m(self, obj, axis, is_setter)\u001b[0m\n\u001b[1;32m   1110\u001b[0m                 \u001b[0mmask\u001b[0m \u001b[0;34m=\u001b[0m \u001b[0mcheck\u001b[0m \u001b[0;34m==\u001b[0m \u001b[0;34m-\u001b[0m\u001b[0;36m1\u001b[0m\u001b[0;34m\u001b[0m\u001b[0m\n\u001b[1;32m   1111\u001b[0m                 \u001b[0;32mif\u001b[0m \u001b[0mmask\u001b[0m\u001b[0;34m.\u001b[0m\u001b[0many\u001b[0m\u001b[0;34m(\u001b[0m\u001b[0;34m)\u001b[0m\u001b[0;34m:\u001b[0m\u001b[0;34m\u001b[0m\u001b[0m\n\u001b[0;32m-> 1112\u001b[0;31m                     \u001b[0;32mraise\u001b[0m \u001b[0mKeyError\u001b[0m\u001b[0;34m(\u001b[0m\u001b[0;34m'%s not in index'\u001b[0m \u001b[0;34m%\u001b[0m \u001b[0mobjarr\u001b[0m\u001b[0;34m[\u001b[0m\u001b[0mmask\u001b[0m\u001b[0;34m]\u001b[0m\u001b[0;34m)\u001b[0m\u001b[0;34m\u001b[0m\u001b[0m\n\u001b[0m\u001b[1;32m   1113\u001b[0m \u001b[0;34m\u001b[0m\u001b[0m\n\u001b[1;32m   1114\u001b[0m                 \u001b[0;32mreturn\u001b[0m \u001b[0m_values_from_object\u001b[0m\u001b[0;34m(\u001b[0m\u001b[0mindexer\u001b[0m\u001b[0;34m)\u001b[0m\u001b[0;34m\u001b[0m\u001b[0m\n",
      "\u001b[0;31mKeyError\u001b[0m: \"['id'] not in index\""
     ]
    }
   ],
   "source": [
    "test = pd.read_csv('/Users/martinrasumoff/Desktop/metis/mcnulty/Pumpitup/test.csv', index_col='id')\n",
    "print test.head()\n",
    "\n",
    "test = test[['id','amount_tsh','gps_height','longitude','latitude','region_code','district_code',\\\n",
    "            'population','basin','public_meeting','scheme_management','permit',\\\n",
    "            'extraction_type_group','extraction_type_class','management_group',\\\n",
    "            'payment_type','quality_group','quantity_group',\\\n",
    "            'source_type','source_class','waterpoint_type_group']]\n",
    "\n",
    "print test.head()"
   ]
  },
  {
   "cell_type": "code",
   "execution_count": 55,
   "metadata": {
    "collapsed": false
   },
   "outputs": [
    {
     "name": "stdout",
     "output_type": "stream",
     "text": [
      "basin: (14850, 9)\n",
      "Public Meeting: (14850, 2)\n",
      "Scheme Management: (14850, 11)\n",
      "permit: (14850, 2)\n",
      "Data Extraction: (14850, 13)\n",
      "Data Extr Type: (14850, 7)\n",
      "Management Group: (14850, 5)\n",
      "Payment Type: (14850, 7)\n",
      "Quality Group: (14850, 6)\n",
      "Quantity Group: (14850, 5)\n",
      "Source Type: (14850, 7)\n",
      "Source Class: (14850, 3)\n",
      "Waterpoint Type: (14850, 6)\n"
     ]
    }
   ],
   "source": [
    "tf_data_basin = pd.get_dummies(test['basin'])\n",
    "print 'basin:',tf_data_basin.shape\n",
    "tf_data_public_meeting = pd.get_dummies(test['public_meeting'])\n",
    "print 'Public Meeting:',tf_data_public_meeting.shape\n",
    "tf_data_scheme_mgmnt = pd.get_dummies(test['scheme_management'])\n",
    "print 'Scheme Management:',tf_data_scheme_mgmnt.shape\n",
    "tf_data_permit = pd.get_dummies(test['permit'])\n",
    "print 'permit:',tf_data_permit.shape\n",
    "tf_data_extraction_type_group = pd.get_dummies(test['extraction_type_group'])\n",
    "print 'Data Extraction:',tf_data_extraction_type_group.shape\n",
    "tf_data_extraction_type_class = pd.get_dummies(test['extraction_type_class'])\n",
    "print 'Data Extr Type:',tf_data_extraction_type_class.shape\n",
    "tf_data_management_group = pd.get_dummies(test['management_group'])\n",
    "print 'Management Group:',tf_data_management_group.shape\n",
    "tf_data_payment_type = pd.get_dummies(test['payment_type'])\n",
    "print 'Payment Type:',tf_data_payment_type.shape\n",
    "tf_data_quality_group = pd.get_dummies(test['quality_group'])\n",
    "print 'Quality Group:',tf_data_quality_group.shape\n",
    "tf_data_quantity_group = pd.get_dummies(test['quantity_group'])\n",
    "print 'Quantity Group:',tf_data_quantity_group.shape\n",
    "tf_data_source_type = pd.get_dummies(test['source_type'])\n",
    "print 'Source Type:',tf_data_source_type.shape\n",
    "tf_data_source_class = pd.get_dummies(test['source_class'])\n",
    "print 'Source Class:',tf_data_source_class.shape\n",
    "tf_data_waterpoint_type_group = pd.get_dummies(test['waterpoint_type_group'])\n",
    "print 'Waterpoint Type:',tf_data_waterpoint_type_group.shape"
   ]
  },
  {
   "cell_type": "code",
   "execution_count": 56,
   "metadata": {
    "collapsed": false
   },
   "outputs": [
    {
     "name": "stdout",
     "output_type": "stream",
     "text": [
      "(14850, 7)\n",
      "(14850, 90)\n",
      "<class 'pandas.core.frame.DataFrame'>\n"
     ]
    }
   ],
   "source": [
    "tf_data = test[['amount_tsh','gps_height','longitude','latitude','region_code','district_code','population']]\n",
    "\n",
    "tf_coded = pd.concat([tf_data,tf_data_basin,tf_data_public_meeting,tf_data_scheme_mgmnt,tf_data_permit,\\\n",
    "                      tf_data_extraction_type_group,tf_data_extraction_type_class,tf_data_management_group,\\\n",
    "                      tf_data_payment_type,tf_data_quality_group,tf_data_quantity_group,\\\n",
    "                      tf_data_source_type,tf_data_source_class,tf_data_waterpoint_type_group],axis=1)\n",
    "\n",
    "print tf_data.shape\n",
    "print tf_coded.shape\n",
    "print type(tf_coded)"
   ]
  },
  {
   "cell_type": "code",
   "execution_count": null,
   "metadata": {
    "collapsed": true
   },
   "outputs": [],
   "source": [
    "'''1. feature 3 (0.154770) latitude\n",
    "2. feature 2 (0.154396) longitude\n",
    "3. feature 1 (0.080339) gps_height\n",
    "4. feature 70 (0.075335) dry\n",
    "5. feature 6 (0.054576) population\n",
    "6. feature 71 (0.031172) enough\n",
    "7. feature 5 (0.024468) district_code\n",
    "8. feature 90 (0.021932) other\n",
    "9. feature 38 (0.020333) other\n",
    "10. feature 4 (0.019230) region_code\n",
    "11. feature 48 (0.018980) other\n",
    "12. feature 59 (0.017779) never pay\n",
    "13. feature 72 (0.016599) insufficient\n",
    "14. feature 0 (0.015377) amount_tsh'''"
   ]
  },
  {
   "cell_type": "code",
   "execution_count": 58,
   "metadata": {
    "collapsed": false,
    "scrolled": true
   },
   "outputs": [
    {
     "name": "stdout",
     "output_type": "stream",
     "text": [
      "       amount_tsh  gps_height  longitude   latitude  region_code  \\\n",
      "id                                                                 \n",
      "39307           0          34  38.852669  -6.582841            6   \n",
      "18990        1000           0  37.451633  -5.350428            4   \n",
      "28749           0        1476  34.739804  -4.585587           13   \n",
      "33492           0         998  35.432732 -10.584159           10   \n",
      "68707           0         481  34.765054 -11.226012           10   \n",
      "\n",
      "       district_code  population  Internal  Lake Nyasa  Lake Rukwa  ...    \\\n",
      "id                                                                  ...     \n",
      "39307              1          20         0           0           0  ...     \n",
      "18990              7        2960         0           0           0  ...     \n",
      "28749              2         200         1           0           0  ...     \n",
      "33492              2         150         0           1           0  ...     \n",
      "68707              3          40         0           1           0  ...     \n",
      "\n",
      "       spring  groundwater  surface  unknown  cattle trough  \\\n",
      "id                                                            \n",
      "39307       0            0        1        0              0   \n",
      "18990       0            1        0        0              0   \n",
      "28749       0            0        1        0              0   \n",
      "33492       0            0        1        0              0   \n",
      "68707       1            1        0        0              0   \n",
      "\n",
      "       communal standpipe  dam  hand pump  improved spring  other  \n",
      "id                                                                 \n",
      "39307                   1    0          0                0      0  \n",
      "18990                   0    0          1                0      0  \n",
      "28749                   1    0          0                0      0  \n",
      "33492                   1    0          0                0      0  \n",
      "68707                   1    0          0                0      0  \n",
      "\n",
      "[5 rows x 90 columns]\n",
      "       amount_tsh date_recorded                  funder  gps_height  \\\n",
      "id                                                                    \n",
      "39307           0    2011-02-24                  Danida          34   \n",
      "18990        1000    2011-03-21                    Hiap           0   \n",
      "28749           0    2013-03-04                     NaN        1476   \n",
      "33492           0    2013-02-18                 Germany         998   \n",
      "68707           0    2013-02-13  Government Of Tanzania         481   \n",
      "\n",
      "        installer  longitude   latitude          wpt_name  num_private  \\\n",
      "id                                                                       \n",
      "39307          Da  38.852669  -6.582841         Kwambwezi            0   \n",
      "18990        HIAP  37.451633  -5.350428  Bonde La Mkondoa            0   \n",
      "28749         NaN  34.739804  -4.585587           Bwawani            0   \n",
      "33492         DWE  35.432732 -10.584159          Kwa John            0   \n",
      "68707  Government  34.765054 -11.226012  Kwa Mzee Chagala            0   \n",
      "\n",
      "             basin          ...          payment_type water_quality  \\\n",
      "id                          ...                                       \n",
      "39307  Wami / Ruvu          ...             never pay          soft   \n",
      "18990      Pangani          ...              annually         salty   \n",
      "28749     Internal          ...             never pay          soft   \n",
      "33492   Lake Nyasa          ...             never pay          soft   \n",
      "68707   Lake Nyasa          ...             never pay          soft   \n",
      "\n",
      "       quality_group      quantity quantity_group        source   source_type  \\\n",
      "id                                                                              \n",
      "39307           good        enough         enough         river    river/lake   \n",
      "18990          salty  insufficient   insufficient  shallow well  shallow well   \n",
      "28749           good  insufficient   insufficient           dam           dam   \n",
      "33492           good  insufficient   insufficient         river    river/lake   \n",
      "68707           good           dry            dry        spring        spring   \n",
      "\n",
      "      source_class     waterpoint_type waterpoint_type_group  \n",
      "id                                                            \n",
      "39307      surface  communal standpipe    communal standpipe  \n",
      "18990  groundwater           hand pump             hand pump  \n",
      "28749      surface  communal standpipe    communal standpipe  \n",
      "33492      surface  communal standpipe    communal standpipe  \n",
      "68707  groundwater  communal standpipe    communal standpipe  \n",
      "\n",
      "[5 rows x 39 columns]\n"
     ]
    }
   ],
   "source": [
    "print tf_coded.tail()\n",
    "print test.tail()"
   ]
  },
  {
   "cell_type": "code",
   "execution_count": 59,
   "metadata": {
    "collapsed": false,
    "scrolled": false
   },
   "outputs": [
    {
     "name": "stdout",
     "output_type": "stream",
     "text": [
      "        latitude  longitude  gps_height  dry  population  enough  \\\n",
      "id                                                                 \n",
      "50785  -4.059696  35.290799        1996    0         321       0   \n",
      "51630  -3.309214  36.656709        1569    0         300       0   \n",
      "17168  -5.004344  34.767863        1567    0         500       0   \n",
      "45559  -9.418672  38.058046         267    1         250       0   \n",
      "49871 -10.950412  35.006123        1260    0          60       1   \n",
      "\n",
      "       district_code  region_code  never pay  insufficient  \n",
      "id                                                          \n",
      "50785              3           21          1             0  \n",
      "51630              2            2          1             1  \n",
      "17168              2           13          1             1  \n",
      "45559             43           80          0             0  \n",
      "49871              3           10          0             0  \n",
      "        latitude  longitude  gps_height  dry  population  enough  \\\n",
      "id                                                                 \n",
      "39307  -6.582841  38.852669          34    0          20       1   \n",
      "18990  -5.350428  37.451633           0    0        2960       0   \n",
      "28749  -4.585587  34.739804        1476    0         200       0   \n",
      "33492 -10.584159  35.432732         998    0         150       0   \n",
      "68707 -11.226012  34.765054         481    1          40       0   \n",
      "\n",
      "       district_code  region_code  never pay  insufficient  \n",
      "id                                                          \n",
      "39307              1            6          1             0  \n",
      "18990              7            4          0             1  \n",
      "28749              2           13          1             1  \n",
      "33492              2           10          1             1  \n",
      "68707              3           10          1             0  \n"
     ]
    }
   ],
   "source": [
    "'''1. feature 3 (0.154770) latitude\n",
    "2. feature 2 (0.154396) longitude\n",
    "3. feature 1 (0.080339) gps_height\n",
    "4. feature 70 (0.075335) dry\n",
    "5. feature 6 (0.054576) population\n",
    "6. feature 71 (0.031172) enough\n",
    "7. feature 5 (0.024468) district_code\n",
    "8. feature 90 (0.021932) other\n",
    "9. feature 38 (0.020333) other\n",
    "10. feature 4 (0.019230) region_code\n",
    "11. feature 48 (0.018980) other\n",
    "12. feature 59 (0.017779) never pay\n",
    "13. feature 72 (0.016599) insufficient\n",
    "14. feature 0 (0.015377) amount_tsh'''\n",
    "\n",
    "tf_coded_2 = tf_coded[['latitude','longitude','gps_height','dry','population','enough','district_code',\\\n",
    "                       'region_code','never pay','insufficient']]\n",
    "\n",
    "print tf_coded_2.head()\n",
    "print tf_coded_2.tail()\n"
   ]
  },
  {
   "cell_type": "code",
   "execution_count": 70,
   "metadata": {
    "collapsed": false
   },
   "outputs": [
    {
     "name": "stdout",
     "output_type": "stream",
     "text": [
      "        latitude  longitude  gps_height  dry  population  enough  \\\n",
      "id                                                                 \n",
      "50785  -4.059696  35.290799        1996    0         321       0   \n",
      "51630  -3.309214  36.656709        1569    0         300       0   \n",
      "17168  -5.004344  34.767863        1567    0         500       0   \n",
      "45559  -9.418672  38.058046         267    1         250       0   \n",
      "49871 -10.950412  35.006123        1260    0          60       1   \n",
      "\n",
      "       district_code  region_code  never pay  insufficient  \n",
      "id                                                          \n",
      "50785              3           21          1             0  \n",
      "51630              2            2          1             1  \n",
      "17168              2           13          1             1  \n",
      "45559             43           80          0             0  \n",
      "49871              3           10          0             0  \n",
      "        latitude  longitude  gps_height  dry  population  enough  \\\n",
      "id                                                                 \n",
      "39307  -6.582841  38.852669          34    0          20       1   \n",
      "18990  -5.350428  37.451633           0    0        2960       0   \n",
      "28749  -4.585587  34.739804        1476    0         200       0   \n",
      "33492 -10.584159  35.432732         998    0         150       0   \n",
      "68707 -11.226012  34.765054         481    1          40       0   \n",
      "\n",
      "       district_code  region_code  never pay  insufficient  \n",
      "id                                                          \n",
      "39307              1            6          1             0  \n",
      "18990              7            4          0             1  \n",
      "28749              2           13          1             1  \n",
      "33492              2           10          1             1  \n",
      "68707              3           10          1             0  \n",
      "['functional' 'functional' 'functional' ..., 'functional' 'functional'\n",
      " 'non functional']\n"
     ]
    },
    {
     "name": "stderr",
     "output_type": "stream",
     "text": [
      "/anaconda/lib/python2.7/site-packages/IPython/kernel/__main__.py:6: DataConversionWarning: A column-vector y was passed when a 1d array was expected. Please change the shape of y to (n_samples,), for example using ravel().\n"
     ]
    }
   ],
   "source": [
    "X_transformed = X_pumps_train[['latitude','longitude','gps_height','dry','population','enough','district_code',\\\n",
    "                       'region_code','never pay','insufficient']]\n",
    "\n",
    "y = y_pumps_train[['label']]\n",
    "\n",
    "clf_transformed = ExtraTreesClassifier()\n",
    "X_fit_n = clf_transformed.fit(X_transformed, y)\n",
    "result_transformed = clf_transformed.score(X_transformed,y)\n",
    "\n",
    "print tf_coded_2.head()\n",
    "print tf_coded_2.tail()\n",
    "a = clf_transformed.predict(tf_coded_2)\n",
    "\n",
    "print a\n"
   ]
  },
  {
   "cell_type": "code",
   "execution_count": 71,
   "metadata": {
    "collapsed": false
   },
   "outputs": [
    {
     "name": "stdout",
     "output_type": "stream",
     "text": [
      "['functional' 'functional' 'functional' ..., 'functional' 'functional'\n",
      " 'non functional']\n"
     ]
    }
   ],
   "source": [
    "print a"
   ]
  },
  {
   "cell_type": "code",
   "execution_count": 74,
   "metadata": {
    "collapsed": false,
    "scrolled": true
   },
   "outputs": [
    {
     "name": "stdout",
     "output_type": "stream",
     "text": [
      "14850\n",
      "      id    status_group\n",
      "0  50785      functional\n",
      "1  51630      functional\n",
      "2  17168      functional\n",
      "3  45559  non functional\n",
      "4  49871      functional\n",
      "          id    status_group\n",
      "14845  39307  non functional\n",
      "14846  18990      functional\n",
      "14847  28749      functional\n",
      "14848  33492      functional\n",
      "14849  68707  non functional\n"
     ]
    }
   ],
   "source": [
    "pred = a\n",
    "\n",
    "to_submit = []\n",
    "print len(tf_coded_2)\n",
    "for ind in range(len(tf_coded_2)):\n",
    "    ids = tf_coded_2.index[ind]\n",
    "    to_pred = pred[ind]\n",
    "    #print ids,' - ',to_pred\n",
    "    to_submit.append([ids,to_pred])\n",
    "    \n",
    "df_submit = pd.DataFrame(to_submit)\n",
    "df_submit.columns = ['id','status_group']\n",
    "print df_submit.head()\n",
    "print df_submit.tail()\n",
    "\n",
    "df_submit.to_csv('/Users/martinrasumoff/submission_7.csv', sep=',', index=False)\n"
   ]
  },
  {
   "cell_type": "code",
   "execution_count": 75,
   "metadata": {
    "collapsed": false
   },
   "outputs": [
    {
     "name": "stdout",
     "output_type": "stream",
     "text": [
      "['functional' 'non functional' 'functional needs repair']\n"
     ]
    }
   ],
   "source": [
    "print df_submit['status_group'].unique()"
   ]
  }
 ],
 "metadata": {
  "kernelspec": {
   "display_name": "Python 2",
   "language": "python",
   "name": "python2"
  },
  "language_info": {
   "codemirror_mode": {
    "name": "ipython",
    "version": 2
   },
   "file_extension": ".py",
   "mimetype": "text/x-python",
   "name": "python",
   "nbconvert_exporter": "python",
   "pygments_lexer": "ipython2",
   "version": "2.7.10"
  }
 },
 "nbformat": 4,
 "nbformat_minor": 0
}
