{
 "cells": [
  {
   "cell_type": "code",
   "execution_count": 1,
   "metadata": {
    "collapsed": false,
    "scrolled": true
   },
   "outputs": [
    {
     "name": "stdout",
     "output_type": "stream",
     "text": [
      "                label\n",
      "69572      functional\n",
      "8776       functional\n",
      "34310      functional\n",
      "67743  non functional\n",
      "19728      functional\n",
      "            label\n",
      "60739  functional\n",
      "27263  functional\n",
      "37057  functional\n",
      "31282  functional\n",
      "26348  functional\n"
     ]
    }
   ],
   "source": [
    "import psycopg2\n",
    "import pandas as pd\n",
    "from sklearn.cross_validation import train_test_split\n",
    "\n",
    "def load_labels():\n",
    "    db = psycopg2.connect(database='martinrasumoff')\n",
    "    cursor = db.cursor()\n",
    "\n",
    "    #Loading Labels\n",
    "    cursor.execute(\"select * from labels_water_pumps;\")\n",
    "    list_labels = cursor.fetchall()\n",
    "   \n",
    "    labels_id =[]\n",
    "    labels_class =[]\n",
    "    for each in list_labels:\n",
    "        labels_id.append(each[0])\n",
    "        labels_class.append(each[1])\n",
    "        \n",
    "    series_labels = pd.DataFrame(labels_class, index=labels_id)\n",
    "\n",
    "    return series_labels\n",
    "\n",
    "df_labels = load_labels()\n",
    "\n",
    "df_labels.columns = ['label']\n",
    "print df_labels.head()\n",
    "print df_labels.tail()"
   ]
  },
  {
   "cell_type": "code",
   "execution_count": 2,
   "metadata": {
    "collapsed": false,
    "scrolled": true
   },
   "outputs": [
    {
     "name": "stdout",
     "output_type": "stream",
     "text": [
      "          0     1           2             3     4             5          6   \\\n",
      "69572  69572  6000  2011-03-14         Roman  1390         Roman  34.938093   \n",
      "8776    8776     0  2013-03-06       Grumeti  1399       GRUMETI  34.698766   \n",
      "34310  34310    25  2013-02-25  Lottery Club   686  World vision  37.460664   \n",
      "67743  67743     0  2013-01-28        Unicef   263        UNICEF  38.486161   \n",
      "19728  19728     0  2011-07-13   Action In A     0       Artisan  31.130847   \n",
      "\n",
      "              7                     8  9          ...                  30  \\\n",
      "69572  -9.856322                  none  0         ...            annually   \n",
      "8776   -2.147466              Zahanati  0         ...           never pay   \n",
      "34310  -3.821329           Kwa Mahundi  0         ...          per bucket   \n",
      "67743 -11.155298  Zahanati Ya Nanyumbu  0         ...           never pay   \n",
      "19728  -1.825359               Shuleni  0         ...           never pay   \n",
      "\n",
      "         31    32            33            34                    35  \\\n",
      "69572  soft  good        enough        enough                spring   \n",
      "8776   soft  good  insufficient  insufficient  rainwater harvesting   \n",
      "34310  soft  good        enough        enough                   dam   \n",
      "67743  soft  good           dry           dry           machine dbh   \n",
      "19728  soft  good      seasonal      seasonal  rainwater harvesting   \n",
      "\n",
      "                         36           37                           38  \\\n",
      "69572                spring  groundwater           communal standpipe   \n",
      "8776   rainwater harvesting      surface           communal standpipe   \n",
      "34310                   dam      surface  communal standpipe multiple   \n",
      "67743              borehole  groundwater  communal standpipe multiple   \n",
      "19728  rainwater harvesting      surface           communal standpipe   \n",
      "\n",
      "                       39  \n",
      "69572  communal standpipe  \n",
      "8776   communal standpipe  \n",
      "34310  communal standpipe  \n",
      "67743  communal standpipe  \n",
      "19728  communal standpipe  \n",
      "\n",
      "[5 rows x 40 columns]\n",
      "          0     1           2                3     4      5          6   \\\n",
      "60739  60739    10  2013-05-03  Germany Republi  1210    CES  37.169807   \n",
      "27263  27263  4700  2011-05-07      Cefa-njombe  1212   Cefa  35.249991   \n",
      "37057  37057     0  2011-04-11             None     0   None  34.017087   \n",
      "31282  31282     0  2011-03-08            Malec     0   Musa  35.861315   \n",
      "26348  26348     0  2011-03-23       World Bank   191  World  38.104048   \n",
      "\n",
      "             7                    8  9          ...                  30  \\\n",
      "60739 -3.253847  Area Three Namba 27  0         ...          per bucket   \n",
      "27263 -9.070629    Kwa Yahona Kuvala  0         ...            annually   \n",
      "37057 -8.750434              Mashine  0         ...             monthly   \n",
      "31282 -6.378573               Mshoro  0         ...           never pay   \n",
      "26348 -6.747464      Kwa Mzee Lugawa  0         ...          on failure   \n",
      "\n",
      "             31        32            33            34            35  \\\n",
      "60739      soft      good        enough        enough        spring   \n",
      "27263      soft      good        enough        enough         river   \n",
      "37057  fluoride  fluoride        enough        enough   machine dbh   \n",
      "31282      soft      good  insufficient  insufficient  shallow well   \n",
      "26348     salty     salty        enough        enough  shallow well   \n",
      "\n",
      "                 36           37                  38                  39  \n",
      "60739        spring  groundwater  communal standpipe  communal standpipe  \n",
      "27263    river/lake      surface  communal standpipe  communal standpipe  \n",
      "37057      borehole  groundwater           hand pump           hand pump  \n",
      "31282  shallow well  groundwater           hand pump           hand pump  \n",
      "26348  shallow well  groundwater           hand pump           hand pump  \n",
      "\n",
      "[5 rows x 40 columns]\n"
     ]
    }
   ],
   "source": [
    "def load_wells():\n",
    "    db = psycopg2.connect(database='martinrasumoff')\n",
    "    cursor = db.cursor()\n",
    "\n",
    "    #Loading Pump Data\n",
    "    cursor.execute(\"select * from water_pumps;\")\n",
    "    list_pumps = cursor.fetchall()\n",
    "\n",
    "    list_pumps_id = []\n",
    "    list_pumps_fields = []\n",
    "    for each in list_pumps:\n",
    "        list_pumps_id.append(each[0])\n",
    "        list_pumps_fields.append(each)\n",
    "\n",
    "    #Converting wells data into a pandas Data Frame\n",
    "    df_pumps = pd.DataFrame(list_pumps_fields, index=list_pumps_id)\n",
    "\n",
    "    return df_pumps\n",
    "\n",
    "df_data = load_wells()\n",
    "\n",
    "print df_data.head()\n",
    "print df_data.tail()"
   ]
  },
  {
   "cell_type": "code",
   "execution_count": 3,
   "metadata": {
    "collapsed": false,
    "scrolled": true
   },
   "outputs": [
    {
     "name": "stdout",
     "output_type": "stream",
     "text": [
      "          id  amount_tsh date_recorded        funder  gps_height  \\\n",
      "69572  69572        6000    2011-03-14         Roman        1390   \n",
      "8776    8776           0    2013-03-06       Grumeti        1399   \n",
      "34310  34310          25    2013-02-25  Lottery Club         686   \n",
      "67743  67743           0    2013-01-28        Unicef         263   \n",
      "19728  19728           0    2011-07-13   Action In A           0   \n",
      "\n",
      "          installer  longitude   latitude              wpt_name num_private  \\\n",
      "69572         Roman  34.938093  -9.856322                  none           0   \n",
      "8776        GRUMETI  34.698766  -2.147466              Zahanati           0   \n",
      "34310  World vision  37.460664  -3.821329           Kwa Mahundi           0   \n",
      "67743        UNICEF  38.486161 -11.155298  Zahanati Ya Nanyumbu           0   \n",
      "19728       Artisan  31.130847  -1.825359               Shuleni           0   \n",
      "\n",
      "               ...          payment_type water_quality quality_group  \\\n",
      "69572          ...              annually          soft          good   \n",
      "8776           ...             never pay          soft          good   \n",
      "34310          ...            per bucket          soft          good   \n",
      "67743          ...             never pay          soft          good   \n",
      "19728          ...             never pay          soft          good   \n",
      "\n",
      "           quantity  quantity_group                source  \\\n",
      "69572        enough          enough                spring   \n",
      "8776   insufficient    insufficient  rainwater harvesting   \n",
      "34310        enough          enough                   dam   \n",
      "67743           dry             dry           machine dbh   \n",
      "19728      seasonal        seasonal  rainwater harvesting   \n",
      "\n",
      "                source_type  source_class              waterpoint_type  \\\n",
      "69572                spring   groundwater           communal standpipe   \n",
      "8776   rainwater harvesting       surface           communal standpipe   \n",
      "34310                   dam       surface  communal standpipe multiple   \n",
      "67743              borehole   groundwater  communal standpipe multiple   \n",
      "19728  rainwater harvesting       surface           communal standpipe   \n",
      "\n",
      "      waterpoint_type_group  \n",
      "69572    communal standpipe  \n",
      "8776     communal standpipe  \n",
      "34310    communal standpipe  \n",
      "67743    communal standpipe  \n",
      "19728    communal standpipe  \n",
      "\n",
      "[5 rows x 40 columns]\n",
      "          id  amount_tsh date_recorded           funder  gps_height installer  \\\n",
      "60739  60739          10    2013-05-03  Germany Republi        1210       CES   \n",
      "27263  27263        4700    2011-05-07      Cefa-njombe        1212      Cefa   \n",
      "37057  37057           0    2011-04-11             None           0      None   \n",
      "31282  31282           0    2011-03-08            Malec           0      Musa   \n",
      "26348  26348           0    2011-03-23       World Bank         191     World   \n",
      "\n",
      "       longitude  latitude             wpt_name num_private  \\\n",
      "60739  37.169807 -3.253847  Area Three Namba 27           0   \n",
      "27263  35.249991 -9.070629    Kwa Yahona Kuvala           0   \n",
      "37057  34.017087 -8.750434              Mashine           0   \n",
      "31282  35.861315 -6.378573               Mshoro           0   \n",
      "26348  38.104048 -6.747464      Kwa Mzee Lugawa           0   \n",
      "\n",
      "               ...          payment_type water_quality quality_group  \\\n",
      "60739          ...            per bucket          soft          good   \n",
      "27263          ...              annually          soft          good   \n",
      "37057          ...               monthly      fluoride      fluoride   \n",
      "31282          ...             never pay          soft          good   \n",
      "26348          ...            on failure         salty         salty   \n",
      "\n",
      "           quantity  quantity_group        source   source_type  source_class  \\\n",
      "60739        enough          enough        spring        spring   groundwater   \n",
      "27263        enough          enough         river    river/lake       surface   \n",
      "37057        enough          enough   machine dbh      borehole   groundwater   \n",
      "31282  insufficient    insufficient  shallow well  shallow well   groundwater   \n",
      "26348        enough          enough  shallow well  shallow well   groundwater   \n",
      "\n",
      "          waterpoint_type waterpoint_type_group  \n",
      "60739  communal standpipe    communal standpipe  \n",
      "27263  communal standpipe    communal standpipe  \n",
      "37057           hand pump             hand pump  \n",
      "31282           hand pump             hand pump  \n",
      "26348           hand pump             hand pump  \n",
      "\n",
      "[5 rows x 40 columns]\n"
     ]
    }
   ],
   "source": [
    "df_data.columns = ['id','amount_tsh',\n",
    "                    'date_recorded',\n",
    "                    'funder',\n",
    "                    'gps_height',\n",
    "                    'installer',\n",
    "                    'longitude',\n",
    "                    'latitude',\n",
    "                    'wpt_name',\n",
    "                    'num_private',\n",
    "                    'basin',\n",
    "                    'subvillage',\n",
    "                    'region',\n",
    "                    'region_code',\n",
    "                    'district_code',\n",
    "                    'lga',\n",
    "                    'ward',\n",
    "                    'population',\n",
    "                    'public_meeting',\n",
    "                    'recorded_by',\n",
    "                    'scheme_management',\n",
    "                    'scheme_name',\n",
    "                    'permit',\n",
    "                    'construction_year',\n",
    "                    'extraction_type',\n",
    "                    'extraction_type_group',\n",
    "                    'extraction_type_class',\n",
    "                    'management',\n",
    "                    'management_group',\n",
    "                    'payment',\n",
    "                    'payment_type',\n",
    "                    'water_quality',\n",
    "                    'quality_group',\n",
    "                    'quantity',\n",
    "                    'quantity_group',\n",
    "                    'source',\n",
    "                    'source_type',\n",
    "                    'source_class',\n",
    "                    'waterpoint_type',\n",
    "                    'waterpoint_type_group']\n",
    "\n",
    "print df_data.head()\n",
    "print df_data.tail()"
   ]
  },
  {
   "cell_type": "code",
   "execution_count": 4,
   "metadata": {
    "collapsed": false,
    "scrolled": true
   },
   "outputs": [
    {
     "name": "stdout",
     "output_type": "stream",
     "text": [
      "          id  amount_tsh date_recorded        funder  gps_height  \\\n",
      "69572  69572        6000    2011-03-14         Roman        1390   \n",
      "8776    8776           0    2013-03-06       Grumeti        1399   \n",
      "34310  34310          25    2013-02-25  Lottery Club         686   \n",
      "67743  67743           0    2013-01-28        Unicef         263   \n",
      "19728  19728           0    2011-07-13   Action In A           0   \n",
      "\n",
      "          installer  longitude   latitude              wpt_name num_private  \\\n",
      "69572         Roman  34.938093  -9.856322                  none           0   \n",
      "8776        GRUMETI  34.698766  -2.147466              Zahanati           0   \n",
      "34310  World vision  37.460664  -3.821329           Kwa Mahundi           0   \n",
      "67743        UNICEF  38.486161 -11.155298  Zahanati Ya Nanyumbu           0   \n",
      "19728       Artisan  31.130847  -1.825359               Shuleni           0   \n",
      "\n",
      "               ...          payment_type water_quality quality_group  \\\n",
      "69572          ...              annually          soft          good   \n",
      "8776           ...             never pay          soft          good   \n",
      "34310          ...            per bucket          soft          good   \n",
      "67743          ...             never pay          soft          good   \n",
      "19728          ...             never pay          soft          good   \n",
      "\n",
      "           quantity  quantity_group                source  \\\n",
      "69572        enough          enough                spring   \n",
      "8776   insufficient    insufficient  rainwater harvesting   \n",
      "34310        enough          enough                   dam   \n",
      "67743           dry             dry           machine dbh   \n",
      "19728      seasonal        seasonal  rainwater harvesting   \n",
      "\n",
      "                source_type  source_class              waterpoint_type  \\\n",
      "69572                spring   groundwater           communal standpipe   \n",
      "8776   rainwater harvesting       surface           communal standpipe   \n",
      "34310                   dam       surface  communal standpipe multiple   \n",
      "67743              borehole   groundwater  communal standpipe multiple   \n",
      "19728  rainwater harvesting       surface           communal standpipe   \n",
      "\n",
      "      waterpoint_type_group  \n",
      "69572    communal standpipe  \n",
      "8776     communal standpipe  \n",
      "34310    communal standpipe  \n",
      "67743    communal standpipe  \n",
      "19728    communal standpipe  \n",
      "\n",
      "[5 rows x 40 columns]\n",
      "                label\n",
      "69572      functional\n",
      "8776       functional\n",
      "34310      functional\n",
      "67743  non functional\n",
      "19728      functional\n",
      "          id  amount_tsh date_recorded           funder  gps_height installer  \\\n",
      "60739  60739          10    2013-05-03  Germany Republi        1210       CES   \n",
      "27263  27263        4700    2011-05-07      Cefa-njombe        1212      Cefa   \n",
      "37057  37057           0    2011-04-11             None           0      None   \n",
      "31282  31282           0    2011-03-08            Malec           0      Musa   \n",
      "26348  26348           0    2011-03-23       World Bank         191     World   \n",
      "\n",
      "       longitude  latitude             wpt_name num_private  \\\n",
      "60739  37.169807 -3.253847  Area Three Namba 27           0   \n",
      "27263  35.249991 -9.070629    Kwa Yahona Kuvala           0   \n",
      "37057  34.017087 -8.750434              Mashine           0   \n",
      "31282  35.861315 -6.378573               Mshoro           0   \n",
      "26348  38.104048 -6.747464      Kwa Mzee Lugawa           0   \n",
      "\n",
      "               ...          payment_type water_quality quality_group  \\\n",
      "60739          ...            per bucket          soft          good   \n",
      "27263          ...              annually          soft          good   \n",
      "37057          ...               monthly      fluoride      fluoride   \n",
      "31282          ...             never pay          soft          good   \n",
      "26348          ...            on failure         salty         salty   \n",
      "\n",
      "           quantity  quantity_group        source   source_type  source_class  \\\n",
      "60739        enough          enough        spring        spring   groundwater   \n",
      "27263        enough          enough         river    river/lake       surface   \n",
      "37057        enough          enough   machine dbh      borehole   groundwater   \n",
      "31282  insufficient    insufficient  shallow well  shallow well   groundwater   \n",
      "26348        enough          enough  shallow well  shallow well   groundwater   \n",
      "\n",
      "          waterpoint_type waterpoint_type_group  \n",
      "60739  communal standpipe    communal standpipe  \n",
      "27263  communal standpipe    communal standpipe  \n",
      "37057           hand pump             hand pump  \n",
      "31282           hand pump             hand pump  \n",
      "26348           hand pump             hand pump  \n",
      "\n",
      "[5 rows x 40 columns]\n",
      "            label\n",
      "60739  functional\n",
      "27263  functional\n",
      "37057  functional\n",
      "31282  functional\n",
      "26348  functional\n"
     ]
    }
   ],
   "source": [
    "print df_data.head()\n",
    "print df_labels.head()\n",
    "print df_data.tail()\n",
    "print df_labels.tail()"
   ]
  },
  {
   "cell_type": "code",
   "execution_count": 5,
   "metadata": {
    "collapsed": false,
    "scrolled": true
   },
   "outputs": [
    {
     "name": "stdout",
     "output_type": "stream",
     "text": [
      "          id  amount_tsh date_recorded        funder  gps_height  \\\n",
      "69572  69572        6000    2011-03-14         Roman        1390   \n",
      "8776    8776           0    2013-03-06       Grumeti        1399   \n",
      "34310  34310          25    2013-02-25  Lottery Club         686   \n",
      "67743  67743           0    2013-01-28        Unicef         263   \n",
      "19728  19728           0    2011-07-13   Action In A           0   \n",
      "\n",
      "          installer  longitude   latitude              wpt_name num_private  \\\n",
      "69572         Roman  34.938093  -9.856322                  none           0   \n",
      "8776        GRUMETI  34.698766  -2.147466              Zahanati           0   \n",
      "34310  World vision  37.460664  -3.821329           Kwa Mahundi           0   \n",
      "67743        UNICEF  38.486161 -11.155298  Zahanati Ya Nanyumbu           0   \n",
      "19728       Artisan  31.130847  -1.825359               Shuleni           0   \n",
      "\n",
      "               ...          payment_type water_quality quality_group  \\\n",
      "69572          ...              annually          soft          good   \n",
      "8776           ...             never pay          soft          good   \n",
      "34310          ...            per bucket          soft          good   \n",
      "67743          ...             never pay          soft          good   \n",
      "19728          ...             never pay          soft          good   \n",
      "\n",
      "           quantity  quantity_group                source  \\\n",
      "69572        enough          enough                spring   \n",
      "8776   insufficient    insufficient  rainwater harvesting   \n",
      "34310        enough          enough                   dam   \n",
      "67743           dry             dry           machine dbh   \n",
      "19728      seasonal        seasonal  rainwater harvesting   \n",
      "\n",
      "                source_type  source_class              waterpoint_type  \\\n",
      "69572                spring   groundwater           communal standpipe   \n",
      "8776   rainwater harvesting       surface           communal standpipe   \n",
      "34310                   dam       surface  communal standpipe multiple   \n",
      "67743              borehole   groundwater  communal standpipe multiple   \n",
      "19728  rainwater harvesting       surface           communal standpipe   \n",
      "\n",
      "      waterpoint_type_group  \n",
      "69572    communal standpipe  \n",
      "8776     communal standpipe  \n",
      "34310    communal standpipe  \n",
      "67743    communal standpipe  \n",
      "19728    communal standpipe  \n",
      "\n",
      "[5 rows x 40 columns]\n",
      "                label\n",
      "69572      functional\n",
      "8776       functional\n",
      "34310      functional\n",
      "67743  non functional\n",
      "19728      functional\n",
      "          id  amount_tsh date_recorded           funder  gps_height installer  \\\n",
      "60739  60739          10    2013-05-03  Germany Republi        1210       CES   \n",
      "27263  27263        4700    2011-05-07      Cefa-njombe        1212      Cefa   \n",
      "37057  37057           0    2011-04-11             None           0      None   \n",
      "31282  31282           0    2011-03-08            Malec           0      Musa   \n",
      "26348  26348           0    2011-03-23       World Bank         191     World   \n",
      "\n",
      "       longitude  latitude             wpt_name num_private  \\\n",
      "60739  37.169807 -3.253847  Area Three Namba 27           0   \n",
      "27263  35.249991 -9.070629    Kwa Yahona Kuvala           0   \n",
      "37057  34.017087 -8.750434              Mashine           0   \n",
      "31282  35.861315 -6.378573               Mshoro           0   \n",
      "26348  38.104048 -6.747464      Kwa Mzee Lugawa           0   \n",
      "\n",
      "               ...          payment_type water_quality quality_group  \\\n",
      "60739          ...            per bucket          soft          good   \n",
      "27263          ...              annually          soft          good   \n",
      "37057          ...               monthly      fluoride      fluoride   \n",
      "31282          ...             never pay          soft          good   \n",
      "26348          ...            on failure         salty         salty   \n",
      "\n",
      "           quantity  quantity_group        source   source_type  source_class  \\\n",
      "60739        enough          enough        spring        spring   groundwater   \n",
      "27263        enough          enough         river    river/lake       surface   \n",
      "37057        enough          enough   machine dbh      borehole   groundwater   \n",
      "31282  insufficient    insufficient  shallow well  shallow well   groundwater   \n",
      "26348        enough          enough  shallow well  shallow well   groundwater   \n",
      "\n",
      "          waterpoint_type waterpoint_type_group  \n",
      "60739  communal standpipe    communal standpipe  \n",
      "27263  communal standpipe    communal standpipe  \n",
      "37057           hand pump             hand pump  \n",
      "31282           hand pump             hand pump  \n",
      "26348           hand pump             hand pump  \n",
      "\n",
      "[5 rows x 40 columns]\n",
      "            label\n",
      "60739  functional\n",
      "27263  functional\n",
      "37057  functional\n",
      "31282  functional\n",
      "26348  functional\n",
      "(59400, 40)\n",
      "(59400, 1)\n",
      "(59400, 41)\n",
      "['id' 'amount_tsh' 'date_recorded' 'funder' 'gps_height' 'installer'\n",
      " 'longitude' 'latitude' 'wpt_name' 'num_private' 'basin' 'subvillage'\n",
      " 'region' 'region_code' 'district_code' 'lga' 'ward' 'population'\n",
      " 'public_meeting' 'recorded_by' 'scheme_management' 'scheme_name' 'permit'\n",
      " 'construction_year' 'extraction_type' 'extraction_type_group'\n",
      " 'extraction_type_class' 'management' 'management_group' 'payment'\n",
      " 'payment_type' 'water_quality' 'quality_group' 'quantity' 'quantity_group'\n",
      " 'source' 'source_type' 'source_class' 'waterpoint_type'\n",
      " 'waterpoint_type_group' 'label']\n"
     ]
    }
   ],
   "source": [
    "print df_data.head()\n",
    "print df_labels.head()\n",
    "print df_data.tail()\n",
    "print df_labels.tail()\n",
    "print df_data.shape\n",
    "print df_labels.shape\n",
    "\n",
    "df_complete = pd.concat([df_data,df_labels],axis=1)\n",
    "\n",
    "print df_complete.shape\n",
    "print df_complete.columns.values\n",
    "\n"
   ]
  },
  {
   "cell_type": "code",
   "execution_count": 6,
   "metadata": {
    "collapsed": true
   },
   "outputs": [],
   "source": [
    "df_complete.to_csv('/Users/martinrasumoff/map.csv', sep=',', index=False)"
   ]
  },
  {
   "cell_type": "code",
   "execution_count": 7,
   "metadata": {
    "collapsed": false,
    "scrolled": false
   },
   "outputs": [
    {
     "name": "stdout",
     "output_type": "stream",
     "text": [
      "basin: (59400, 9)\n",
      "Public Meeting: (59400, 2)\n",
      "Scheme Management: (59400, 12)\n",
      "permit: (59400, 2)\n",
      "Data Extraction: (59400, 13)\n",
      "Data Extr Type: (59400, 7)\n",
      "Management Group: (59400, 5)\n",
      "Payment Type: (59400, 7)\n",
      "Quality Group: (59400, 6)\n",
      "Quantity Group: (59400, 5)\n",
      "Source Type: (59400, 7)\n",
      "Source Class: (59400, 3)\n",
      "Waterpoint Type: (59400, 6)\n"
     ]
    }
   ],
   "source": [
    "df_data_basin = pd.get_dummies(df_data['basin'])\n",
    "print 'basin:',df_data_basin.shape\n",
    "df_data_public_meeting = pd.get_dummies(df_data['public_meeting'])\n",
    "print 'Public Meeting:',df_data_public_meeting.shape\n",
    "df_data_scheme_mgmnt = pd.get_dummies(df_data['scheme_management'])\n",
    "print 'Scheme Management:',df_data_scheme_mgmnt.shape\n",
    "df_data_permit = pd.get_dummies(df_data['permit'])\n",
    "print 'permit:',df_data_permit.shape\n",
    "df_data_extraction_type_group = pd.get_dummies(df_data['extraction_type_group'])\n",
    "print 'Data Extraction:',df_data_extraction_type_group.shape\n",
    "df_data_extraction_type_class = pd.get_dummies(df_data['extraction_type_class'])\n",
    "print 'Data Extr Type:',df_data_extraction_type_class.shape\n",
    "df_data_management_group = pd.get_dummies(df_data['management_group'])\n",
    "print 'Management Group:',df_data_management_group.shape\n",
    "df_data_payment_type = pd.get_dummies(df_data['payment_type'])\n",
    "print 'Payment Type:',df_data_payment_type.shape\n",
    "df_data_quality_group = pd.get_dummies(df_data['quality_group'])\n",
    "print 'Quality Group:',df_data_quality_group.shape\n",
    "df_data_quantity_group = pd.get_dummies(df_data['quantity_group'])\n",
    "print 'Quantity Group:',df_data_quantity_group.shape\n",
    "df_data_source_type = pd.get_dummies(df_data['source_type'])\n",
    "print 'Source Type:',df_data_source_type.shape\n",
    "df_data_source_class = pd.get_dummies(df_data['source_class'])\n",
    "print 'Source Class:',df_data_source_class.shape\n",
    "df_data_waterpoint_type_group = pd.get_dummies(df_data['waterpoint_type_group'])\n",
    "print 'Waterpoint Type:',df_data_waterpoint_type_group.shape"
   ]
  },
  {
   "cell_type": "code",
   "execution_count": 8,
   "metadata": {
    "collapsed": false
   },
   "outputs": [
    {
     "name": "stdout",
     "output_type": "stream",
     "text": [
      "(59400, 7)\n",
      "(59400, 91)\n"
     ]
    }
   ],
   "source": [
    "df_data = df_data[['amount_tsh','gps_height','longitude','latitude','region_code','district_code',\\\n",
    "                   'population']]\n",
    "\n",
    "df_coded = pd.concat([df_data,df_data_basin,df_data_public_meeting,df_data_scheme_mgmnt,df_data_permit,\\\n",
    "                      df_data_extraction_type_group,df_data_extraction_type_class,df_data_management_group,\\\n",
    "                      df_data_payment_type,df_data_quality_group,df_data_quantity_group,\\\n",
    "                      df_data_source_type,df_data_source_class,df_data_waterpoint_type_group],axis=1)\n",
    "\n",
    "print df_data.shape\n",
    "print df_coded.shape\n"
   ]
  },
  {
   "cell_type": "code",
   "execution_count": 9,
   "metadata": {
    "collapsed": false,
    "scrolled": true
   },
   "outputs": [
    {
     "name": "stdout",
     "output_type": "stream",
     "text": [
      "59400\n",
      "(59400, 91)\n",
      "59400\n",
      "59400\n"
     ]
    }
   ],
   "source": [
    "df_coded.sort_index(inplace=True)\n",
    "df_labels.sort_index(inplace=True)\n",
    "\n",
    "print (df_labels.index == df_coded.index).sum()\n",
    "print df_coded.shape\n",
    "\n",
    "print len(df_labels)\n",
    "print len(df_coded)"
   ]
  },
  {
   "cell_type": "code",
   "execution_count": 10,
   "metadata": {
    "collapsed": false,
    "scrolled": true
   },
   "outputs": [
    {
     "name": "stdout",
     "output_type": "stream",
     "text": [
      "       amount_tsh  gps_height  longitude   latitude  region_code  \\\n",
      "74240           0        1183  37.007726  -3.280868            2   \n",
      "74242           0           0  33.724987  -8.940758           12   \n",
      "74243           0        1188  33.963539  -1.429477           20   \n",
      "74246          50        1428  35.630481  -7.710549           11   \n",
      "74247          50         965  35.432998 -10.639270           10   \n",
      "\n",
      "       district_code  population  Internal  Lake Nyasa  Lake Rukwa  ...    \\\n",
      "74240              7         350         0           0           0  ...     \n",
      "74242              2           0         0           0           0  ...     \n",
      "74243              6          95         0           0           0  ...     \n",
      "74246              1           1         0           0           0  ...     \n",
      "74247              2         900         0           0           0  ...     \n",
      "\n",
      "       spring  groundwater  surface  unknown  cattle trough  \\\n",
      "74240       0            0        1        0              0   \n",
      "74242       0            0        1        0              0   \n",
      "74243       0            0        1        0              0   \n",
      "74246       1            1        0        0              0   \n",
      "74247       0            0        1        0              0   \n",
      "\n",
      "       communal standpipe  dam  hand pump  improved spring  other  \n",
      "74240                   1    0          0                0      0  \n",
      "74242                   1    0          0                0      0  \n",
      "74243                   1    0          0                0      0  \n",
      "74246                   1    0          0                0      0  \n",
      "74247                   1    0          0                0      0  \n",
      "\n",
      "[5 rows x 91 columns]\n",
      "                label\n",
      "74240      functional\n",
      "74242      functional\n",
      "74243  non functional\n",
      "74246  non functional\n",
      "74247  non functional\n"
     ]
    }
   ],
   "source": [
    "print df_coded.tail()\n",
    "print df_labels.tail()"
   ]
  },
  {
   "cell_type": "code",
   "execution_count": 11,
   "metadata": {
    "collapsed": false
   },
   "outputs": [
    {
     "name": "stdout",
     "output_type": "stream",
     "text": [
      "59400\n",
      "(59400, 91)\n"
     ]
    }
   ],
   "source": [
    "print (df_labels.index == df_coded.index).sum()\n",
    "print df_coded.shape\n",
    "\n"
   ]
  },
  {
   "cell_type": "code",
   "execution_count": 12,
   "metadata": {
    "collapsed": false,
    "scrolled": true
   },
   "outputs": [
    {
     "name": "stdout",
     "output_type": "stream",
     "text": [
      "   amount_tsh  gps_height  longitude  latitude  region_code  district_code  \\\n",
      "0           0           0  33.125828 -5.118154           14              3   \n",
      "1           0        1978  34.770717 -9.395642           11              4   \n",
      "2           0           0  36.115056 -6.279268            1              4   \n",
      "3          10        1639  37.147432 -3.187555            3              5   \n",
      "4           0           0  36.164893 -6.099289            1              4   \n",
      "\n",
      "   population  Internal  Lake Nyasa  Lake Rukwa  ...    spring  groundwater  \\\n",
      "0           0         0           0           0  ...         0            1   \n",
      "1          20         0           0           0  ...         0            1   \n",
      "2           0         0           0           0  ...         0            1   \n",
      "3          25         0           0           0  ...         1            1   \n",
      "4           0         0           0           0  ...         0            1   \n",
      "\n",
      "   surface  unknown  cattle trough  communal standpipe  dam  hand pump  \\\n",
      "0        0        0              0                   0    0          1   \n",
      "1        0        0              0                   0    0          1   \n",
      "2        0        0              0                   1    0          0   \n",
      "3        0        0              0                   1    0          0   \n",
      "4        0        0              0                   0    0          1   \n",
      "\n",
      "   improved spring  other  \n",
      "0                0      0  \n",
      "1                0      0  \n",
      "2                0      0  \n",
      "3                0      0  \n",
      "4                0      0  \n",
      "\n",
      "[5 rows x 91 columns]\n",
      "            label\n",
      "0  non functional\n",
      "1      functional\n",
      "2      functional\n",
      "3      functional\n",
      "4  non functional\n"
     ]
    }
   ],
   "source": [
    "print df_coded.head()\n",
    "print df_labels.head()"
   ]
  },
  {
   "cell_type": "code",
   "execution_count": 13,
   "metadata": {
    "collapsed": true
   },
   "outputs": [],
   "source": [
    "%matplotlib inline"
   ]
  },
  {
   "cell_type": "code",
   "execution_count": 14,
   "metadata": {
    "collapsed": false,
    "scrolled": true
   },
   "outputs": [
    {
     "name": "stdout",
     "output_type": "stream",
     "text": [
      "(59400, 91)\n",
      "(44550, 91)\n",
      "(44550, 1)\n",
      "       amount_tsh  gps_height  longitude   latitude  region_code  \\\n",
      "37900           0           0  33.104711  -4.053327           14   \n",
      "40527           0           0  32.569985  -8.954532           12   \n",
      "26058           0        1804  31.736616  -8.439998           15   \n",
      "6969          500        1821  34.774402  -9.123071           11   \n",
      "41018         500         767  36.092962 -10.923966           10   \n",
      "\n",
      "       district_code  population  Internal  Lake Nyasa  Lake Rukwa  ...    \\\n",
      "37900              1           0         1           0           0  ...     \n",
      "40527              6           0         0           0           1  ...     \n",
      "26058              2         200         0           0           1  ...     \n",
      "6969               4         108         0           0           0  ...     \n",
      "41018              5         400         0           0           0  ...     \n",
      "\n",
      "       spring  groundwater  surface  unknown  cattle trough  \\\n",
      "37900       0            1        0        0              0   \n",
      "40527       0            1        0        0              0   \n",
      "26058       0            0        1        0              0   \n",
      "6969        1            1        0        0              0   \n",
      "41018       0            1        0        0              0   \n",
      "\n",
      "       communal standpipe  dam  hand pump  improved spring  other  \n",
      "37900                   1    0          0                0      0  \n",
      "40527                   0    0          1                0      0  \n",
      "26058                   1    0          0                0      0  \n",
      "6969                    1    0          0                0      0  \n",
      "41018                   0    0          1                0      0  \n",
      "\n",
      "[5 rows x 91 columns]\n",
      "                label\n",
      "37900  non functional\n",
      "40527  non functional\n",
      "26058  non functional\n",
      "6969       functional\n",
      "41018      functional\n"
     ]
    }
   ],
   "source": [
    "from sklearn.ensemble import ExtraTreesClassifier\n",
    "from sklearn import metrics\n",
    "\n",
    "print df_coded.shape\n",
    "X_pumps_train, X_pumps_test, y_pumps_train, y_pumps_test = train_test_split(df_coded, df_labels, test_size=0.25, random_state=43)\n",
    "\n",
    "X = X_pumps_train\n",
    "y = y_pumps_train[['label']]\n",
    "\n",
    "print X.shape\n",
    "print y.shape\n",
    "\n",
    "print X.head()\n",
    "print y.head()\n",
    "\n"
   ]
  },
  {
   "cell_type": "code",
   "execution_count": null,
   "metadata": {
    "collapsed": true
   },
   "outputs": [],
   "source": [
    "'''max_features : int, float, string or None, optional (default=”auto”)\n",
    "The number of features to consider when looking for the best split:\n",
    "If int, then consider max_features features at each split.\n",
    "If float, then max_features is a percentage and int(max_features * n_features) features are considered at each split.\n",
    "If “auto”, then max_features=sqrt(n_features).\n",
    "If “sqrt”, then max_features=sqrt(n_features).\n",
    "If “log2”, then max_features=log2(n_features).\n",
    "If None, then max_features=n_features.\n",
    "Note: the search for a split does not stop until at least one valid partition of the node samples is found, even if it requires to effectively inspect more than max_features features. Note: this parameter is tree-specific.\n",
    "max_depth : integer or None, optional (default=None)\n",
    "The maximum depth of the tree. If None, then nodes are expanded until all leaves are pure or until all leaves contain less than min_samples_split samples. Ignored if max_leaf_nodes is not None. Note: this parameter is tree-specific.\n",
    "min_samples_split : integer, optional (default=2)\n",
    "The minimum number of samples required to split an internal node. Note: this parameter is tree-specific.\n",
    "min_samples_leaf : integer, optional (default=1)\n",
    "The minimum number of samples in newly created leaves. A split is discarded if after the split, one of the leaves would contain less then min_samples_leaf samples. Note: this parameter is tree-specific.\n",
    "min_weight_fraction_leaf : float, optional (default=0.)\n",
    "The minimum weighted fraction of the input samples required to be at a leaf node. Note: this parameter is tree-specific.\n",
    "max_leaf_nodes : int or None, optional (default=None)\n",
    "Grow trees with max_leaf_nodes in best-first fashion. Best nodes are defined as relative reduction in impurity. If None then unlimited number of leaf nodes. If not None then max_depth will be ignored. Note: this parameter is tree-specific.\n",
    "'''"
   ]
  },
  {
   "cell_type": "code",
   "execution_count": 19,
   "metadata": {
    "collapsed": false,
    "scrolled": false
   },
   "outputs": [
    {
     "name": "stderr",
     "output_type": "stream",
     "text": [
      "//anaconda/lib/python2.7/site-packages/sklearn/base.py:436: DataConversionWarning: A column-vector y was passed when a 1d array was expected. Please change the shape of y to (n_samples,), for example using ravel().\n",
      "  return self.fit(X, y, **fit_params).transform(X)\n",
      "[Parallel(n_jobs=1)]: Done   1 jobs       | elapsed:    0.0s\n",
      "[Parallel(n_jobs=1)]: Done  20 out of  20 | elapsed:    0.7s finished\n",
      "[Parallel(n_jobs=1)]: Done   1 jobs       | elapsed:    0.0s\n",
      "[Parallel(n_jobs=1)]: Done  20 out of  20 | elapsed:    0.1s finished\n",
      "[Parallel(n_jobs=1)]: Done   1 jobs       | elapsed:    0.0s\n",
      "[Parallel(n_jobs=1)]: Done  20 out of  20 | elapsed:    0.0s finished\n",
      "[Parallel(n_jobs=1)]: Done   1 jobs       | elapsed:    0.0s\n",
      "[Parallel(n_jobs=1)]: Done  20 out of  20 | elapsed:    0.0s finished\n",
      "//anaconda/lib/python2.7/site-packages/sklearn/base.py:436: DataConversionWarning: A column-vector y was passed when a 1d array was expected. Please change the shape of y to (n_samples,), for example using ravel().\n",
      "  return self.fit(X, y, **fit_params).transform(X)\n",
      "[Parallel(n_jobs=1)]: Done   1 jobs       | elapsed:    0.0s\n",
      "[Parallel(n_jobs=1)]: Done  20 out of  20 | elapsed:    0.7s finished\n",
      "[Parallel(n_jobs=1)]: Done   1 jobs       | elapsed:    0.0s\n",
      "[Parallel(n_jobs=1)]: Done  20 out of  20 | elapsed:    0.1s finished\n",
      "[Parallel(n_jobs=1)]: Done   1 jobs       | elapsed:    0.0s\n",
      "[Parallel(n_jobs=1)]: Done  20 out of  20 | elapsed:    0.0s finished\n",
      "[Parallel(n_jobs=1)]: Done   1 jobs       | elapsed:    0.0s\n",
      "[Parallel(n_jobs=1)]: Done  20 out of  20 | elapsed:    0.0s finished\n"
     ]
    },
    {
     "name": "stdout",
     "output_type": "stream",
     "text": [
      "+++++++++++++++++++\n",
      "Classes : ['functional' 'functional needs repair' 'non functional']\n",
      "Number of Estimators:  20\n",
      "Max Features:  auto\n",
      "+++++++++++++++++++\n",
      "Max_depth:  10\n",
      "Accuracy Score:  0.734343434343\n",
      "Precision Score: [ 0.68747773  1.          0.87939142]\n",
      "Recall Score: [ 0.95555831  0.00638104  0.56017621]\n",
      "Fl Score: [ 0.79964778  0.01268116  0.68439182]\n",
      "------------------\n",
      "+++++++++++++++++++"
     ]
    },
    {
     "name": "stderr",
     "output_type": "stream",
     "text": [
      "//anaconda/lib/python2.7/site-packages/sklearn/base.py:436: DataConversionWarning: A column-vector y was passed when a 1d array was expected. Please change the shape of y to (n_samples,), for example using ravel().\n",
      "  return self.fit(X, y, **fit_params).transform(X)\n",
      "[Parallel(n_jobs=1)]: Done   1 jobs       | elapsed:    0.0s\n",
      "[Parallel(n_jobs=1)]: Done  20 out of  20 | elapsed:    0.5s finished\n",
      "[Parallel(n_jobs=1)]: Done   1 jobs       | elapsed:    0.0s\n",
      "[Parallel(n_jobs=1)]: Done  20 out of  20 | elapsed:    0.1s finished\n",
      "[Parallel(n_jobs=1)]: Done   1 jobs       | elapsed:    0.0s\n",
      "[Parallel(n_jobs=1)]: Done  20 out of  20 | elapsed:    0.0s finished\n",
      "[Parallel(n_jobs=1)]: Done   1 jobs       | elapsed:    0.0s\n",
      "[Parallel(n_jobs=1)]: Done  20 out of  20 | elapsed:    0.0s finished\n"
     ]
    },
    {
     "name": "stdout",
     "output_type": "stream",
     "text": [
      "\n",
      "Classes : ['functional' 'functional needs repair' 'non functional']\n",
      "Number of Estimators:  20\n",
      "Max Features:  sqrt\n",
      "+++++++++++++++++++\n",
      "Max_depth:  10\n",
      "Accuracy Score:  0.737508417508\n",
      "Precision Score: [ 0.69065973  0.83333333  0.87914177]\n",
      "Recall Score: [ 0.9538252   0.00911577  0.57039648]\n",
      "Fl Score: [ 0.8011854   0.01803427  0.69188843]\n",
      "------------------\n",
      "+++++++++++++++++++"
     ]
    },
    {
     "name": "stderr",
     "output_type": "stream",
     "text": [
      "//anaconda/lib/python2.7/site-packages/sklearn/base.py:436: DataConversionWarning: A column-vector y was passed when a 1d array was expected. Please change the shape of y to (n_samples,), for example using ravel().\n",
      "  return self.fit(X, y, **fit_params).transform(X)\n",
      "[Parallel(n_jobs=1)]: Done   1 jobs       | elapsed:    0.0s\n",
      "[Parallel(n_jobs=1)]: Done  20 out of  20 | elapsed:    0.7s finished\n",
      "[Parallel(n_jobs=1)]: Done   1 jobs       | elapsed:    0.0s\n",
      "[Parallel(n_jobs=1)]: Done  20 out of  20 | elapsed:    0.1s finished\n",
      "[Parallel(n_jobs=1)]: Done   1 jobs       | elapsed:    0.0s\n",
      "[Parallel(n_jobs=1)]: Done  20 out of  20 | elapsed:    0.0s finished\n",
      "[Parallel(n_jobs=1)]: Done   1 jobs       | elapsed:    0.0s\n"
     ]
    },
    {
     "name": "stdout",
     "output_type": "stream",
     "text": [
      "\n",
      "Classes : ['functional' 'functional needs repair' 'non functional']\n",
      "Number of Estimators:  20\n",
      "Max Features:  log2\n",
      "+++++++++++++++++++\n",
      "Max_depth:  10\n",
      "Accuracy Score:  0.736094276094\n",
      "Precision Score: [ 0.68784947  1.          0.8877095 ]\n",
      "Recall Score: [ 0.95939589  0.00273473  0.56      ]\n",
      "Fl Score: [ 0.80124063  0.00545455  0.68676391]\n",
      "------------------\n",
      "+++++++++++++++++++"
     ]
    },
    {
     "name": "stderr",
     "output_type": "stream",
     "text": [
      "[Parallel(n_jobs=1)]: Done  20 out of  20 | elapsed:    0.0s finished\n",
      "//anaconda/lib/python2.7/site-packages/sklearn/base.py:436: DataConversionWarning: A column-vector y was passed when a 1d array was expected. Please change the shape of y to (n_samples,), for example using ravel().\n",
      "  return self.fit(X, y, **fit_params).transform(X)\n",
      "[Parallel(n_jobs=1)]: Done   1 jobs       | elapsed:    0.0s\n",
      "[Parallel(n_jobs=1)]: Done  20 out of  20 | elapsed:    0.7s finished\n",
      "[Parallel(n_jobs=1)]: Done   1 jobs       | elapsed:    0.0s\n",
      "[Parallel(n_jobs=1)]: Done  20 out of  20 | elapsed:    0.1s finished\n",
      "[Parallel(n_jobs=1)]: Done   1 jobs       | elapsed:    0.0s\n",
      "[Parallel(n_jobs=1)]: Done  20 out of  20 | elapsed:    0.0s finished\n",
      "[Parallel(n_jobs=1)]: Done   1 jobs       | elapsed:    0.0s\n",
      "[Parallel(n_jobs=1)]: Done  20 out of  20 | elapsed:    0.0s finished\n"
     ]
    },
    {
     "name": "stdout",
     "output_type": "stream",
     "text": [
      "\n",
      "Classes : ['functional' 'functional needs repair' 'non functional']\n",
      "Number of Estimators:  20\n",
      "Max Features:  auto\n",
      "+++++++++++++++++++\n",
      "Max_depth:  11\n",
      "Accuracy Score:  0.738922558923\n",
      "Precision Score: [ 0.69121459  1.          0.88438356]\n",
      "Recall Score: [ 0.9574152   0.01002735  0.56881057]\n",
      "Fl Score: [ 0.80282348  0.0198556   0.69233244]\n",
      "------------------\n",
      "+++++++++++++++++++"
     ]
    },
    {
     "name": "stderr",
     "output_type": "stream",
     "text": [
      "//anaconda/lib/python2.7/site-packages/sklearn/base.py:436: DataConversionWarning: A column-vector y was passed when a 1d array was expected. Please change the shape of y to (n_samples,), for example using ravel().\n",
      "  return self.fit(X, y, **fit_params).transform(X)\n",
      "[Parallel(n_jobs=1)]: Done   1 jobs       | elapsed:    0.0s\n",
      "[Parallel(n_jobs=1)]: Done  20 out of  20 | elapsed:    0.6s finished\n",
      "[Parallel(n_jobs=1)]: Done   1 jobs       | elapsed:    0.0s\n",
      "[Parallel(n_jobs=1)]: Done  20 out of  20 | elapsed:    0.1s finished\n",
      "[Parallel(n_jobs=1)]: Done   1 jobs       | elapsed:    0.0s\n",
      "[Parallel(n_jobs=1)]: Done  20 out of  20 | elapsed:    0.0s finished\n",
      "[Parallel(n_jobs=1)]: Done   1 jobs       | elapsed:    0.0s\n",
      "[Parallel(n_jobs=1)]: Done  20 out of  20 | elapsed:    0.0s finished\n"
     ]
    },
    {
     "name": "stdout",
     "output_type": "stream",
     "text": [
      "\n",
      "Classes : ['functional' 'functional needs repair' 'non functional']\n",
      "Number of Estimators:  20\n",
      "Max Features:  sqrt\n",
      "+++++++++++++++++++\n",
      "Max_depth:  11\n",
      "Accuracy Score:  0.739191919192\n",
      "Precision Score: [ 0.69241119  0.83333333  0.8802168 ]\n",
      "Recall Score: [ 0.95555831  0.00911577  0.5723348 ]\n",
      "Fl Score: [ 0.80297514  0.01803427  0.69364656]\n",
      "------------------\n",
      "+++++++++++++++++++"
     ]
    },
    {
     "name": "stderr",
     "output_type": "stream",
     "text": [
      "//anaconda/lib/python2.7/site-packages/sklearn/base.py:436: DataConversionWarning: A column-vector y was passed when a 1d array was expected. Please change the shape of y to (n_samples,), for example using ravel().\n",
      "  return self.fit(X, y, **fit_params).transform(X)\n",
      "[Parallel(n_jobs=1)]: Done   1 jobs       | elapsed:    0.0s\n",
      "[Parallel(n_jobs=1)]: Done  20 out of  20 | elapsed:    0.8s finished\n",
      "[Parallel(n_jobs=1)]: Done   1 jobs       | elapsed:    0.0s\n",
      "[Parallel(n_jobs=1)]: Done  20 out of  20 | elapsed:    0.1s finished\n",
      "[Parallel(n_jobs=1)]: Done   1 jobs       | elapsed:    0.0s\n",
      "[Parallel(n_jobs=1)]: Done  20 out of  20 | elapsed:    0.0s finished\n"
     ]
    },
    {
     "name": "stdout",
     "output_type": "stream",
     "text": [
      "\n",
      "Classes : ['functional' 'functional needs repair' 'non functional']\n",
      "Number of Estimators:  20\n",
      "Max Features:  log2\n",
      "+++++++++++++++++++\n",
      "Max_depth:  11\n",
      "Accuracy Score:  0.737373737374\n",
      "Precision Score: [ 0.69055928  0.6         0.88010899]\n",
      "Recall Score: [ 0.95531072  0.00273473  0.569163  ]\n",
      "Fl Score: [ 0.8016413   0.00544465  0.69127876]\n",
      "------------------\n",
      "+++++++++++++++++++"
     ]
    },
    {
     "name": "stderr",
     "output_type": "stream",
     "text": [
      "[Parallel(n_jobs=1)]: Done   1 jobs       | elapsed:    0.0s\n",
      "[Parallel(n_jobs=1)]: Done  20 out of  20 | elapsed:    0.0s finished\n",
      "//anaconda/lib/python2.7/site-packages/sklearn/base.py:436: DataConversionWarning: A column-vector y was passed when a 1d array was expected. Please change the shape of y to (n_samples,), for example using ravel().\n",
      "  return self.fit(X, y, **fit_params).transform(X)\n",
      "[Parallel(n_jobs=1)]: Done   1 jobs       | elapsed:    0.0s\n",
      "[Parallel(n_jobs=1)]: Done  20 out of  20 | elapsed:    0.8s finished\n",
      "[Parallel(n_jobs=1)]: Done   1 jobs       | elapsed:    0.0s\n",
      "[Parallel(n_jobs=1)]: Done  20 out of  20 | elapsed:    0.1s finished\n",
      "[Parallel(n_jobs=1)]: Done   1 jobs       | elapsed:    0.0s\n",
      "[Parallel(n_jobs=1)]: Done  20 out of  20 | elapsed:    0.0s finished\n",
      "[Parallel(n_jobs=1)]: Done   1 jobs       | elapsed:    0.0s\n"
     ]
    },
    {
     "name": "stdout",
     "output_type": "stream",
     "text": [
      "\n",
      "Classes : ['functional' 'functional needs repair' 'non functional']\n",
      "Number of Estimators:  20\n",
      "Max Features:  auto\n",
      "+++++++++++++++++++\n",
      "Max_depth:  12\n",
      "Accuracy Score:  0.747878787879\n",
      "Precision Score: [ 0.70215486  0.68518519  0.87903226]\n",
      "Recall Score: [ 0.95196831  0.03372835  0.5954185 ]\n",
      "Fl Score: [ 0.80819758  0.06429192  0.70994852]\n",
      "------------------\n",
      "+++++++++++++++++++"
     ]
    },
    {
     "name": "stderr",
     "output_type": "stream",
     "text": [
      "[Parallel(n_jobs=1)]: Done  20 out of  20 | elapsed:    0.0s finished\n",
      "//anaconda/lib/python2.7/site-packages/sklearn/base.py:436: DataConversionWarning: A column-vector y was passed when a 1d array was expected. Please change the shape of y to (n_samples,), for example using ravel().\n",
      "  return self.fit(X, y, **fit_params).transform(X)\n",
      "[Parallel(n_jobs=1)]: Done   1 jobs       | elapsed:    0.0s\n",
      "[Parallel(n_jobs=1)]: Done  20 out of  20 | elapsed:    0.6s finished\n",
      "[Parallel(n_jobs=1)]: Done   1 jobs       | elapsed:    0.0s\n",
      "[Parallel(n_jobs=1)]: Done  20 out of  20 | elapsed:    0.1s finished\n",
      "[Parallel(n_jobs=1)]: Done   1 jobs       | elapsed:    0.0s\n",
      "[Parallel(n_jobs=1)]: Done  20 out of  20 | elapsed:    0.0s finished\n",
      "[Parallel(n_jobs=1)]: Done   1 jobs       | elapsed:    0.0s\n"
     ]
    },
    {
     "name": "stdout",
     "output_type": "stream",
     "text": [
      "\n",
      "Classes : ['functional' 'functional needs repair' 'non functional']\n",
      "Number of Estimators:  20\n",
      "Max Features:  sqrt\n",
      "+++++++++++++++++++\n",
      "Max_depth:  12\n",
      "Accuracy Score:  0.747003367003\n",
      "Precision Score: [ 0.70093032  0.77142857  0.87795378]\n",
      "Recall Score: [ 0.95134934  0.02461258  0.59577093]\n",
      "Fl Score: [ 0.80716311  0.04770318  0.70984674]\n",
      "------------------\n",
      "+++++++++++++++++++"
     ]
    },
    {
     "name": "stderr",
     "output_type": "stream",
     "text": [
      "[Parallel(n_jobs=1)]: Done  20 out of  20 | elapsed:    0.0s finished\n",
      "//anaconda/lib/python2.7/site-packages/sklearn/base.py:436: DataConversionWarning: A column-vector y was passed when a 1d array was expected. Please change the shape of y to (n_samples,), for example using ravel().\n",
      "  return self.fit(X, y, **fit_params).transform(X)\n",
      "[Parallel(n_jobs=1)]: Done   1 jobs       | elapsed:    0.0s\n",
      "[Parallel(n_jobs=1)]: Done  20 out of  20 | elapsed:    0.8s finished\n",
      "[Parallel(n_jobs=1)]: Done   1 jobs       | elapsed:    0.0s\n",
      "[Parallel(n_jobs=1)]: Done  20 out of  20 | elapsed:    0.1s finished\n",
      "[Parallel(n_jobs=1)]: Done   1 jobs       | elapsed:    0.0s\n",
      "[Parallel(n_jobs=1)]: Done  20 out of  20 | elapsed:    0.0s finished\n",
      "[Parallel(n_jobs=1)]: Done   1 jobs       | elapsed:    0.0s\n"
     ]
    },
    {
     "name": "stdout",
     "output_type": "stream",
     "text": [
      "\n",
      "Classes : ['functional' 'functional needs repair' 'non functional']\n",
      "Number of Estimators:  20\n",
      "Max Features:  log2\n",
      "+++++++++++++++++++\n",
      "Max_depth:  12\n",
      "Accuracy Score:  0.744848484848\n",
      "Precision Score: [ 0.6986749  0.72       0.8786446]\n",
      "Recall Score: [ 0.95295865  0.01640839  0.58942731]\n",
      "Fl Score: [ 0.80624214  0.03208556  0.70554735]\n",
      "------------------\n",
      "+++++++++++++++++++"
     ]
    },
    {
     "name": "stderr",
     "output_type": "stream",
     "text": [
      "[Parallel(n_jobs=1)]: Done  20 out of  20 | elapsed:    0.0s finished\n",
      "//anaconda/lib/python2.7/site-packages/sklearn/base.py:436: DataConversionWarning: A column-vector y was passed when a 1d array was expected. Please change the shape of y to (n_samples,), for example using ravel().\n",
      "  return self.fit(X, y, **fit_params).transform(X)\n",
      "[Parallel(n_jobs=1)]: Done   1 jobs       | elapsed:    0.0s\n",
      "[Parallel(n_jobs=1)]: Done  20 out of  20 | elapsed:    0.9s finished\n",
      "[Parallel(n_jobs=1)]: Done   1 jobs       | elapsed:    0.0s\n",
      "[Parallel(n_jobs=1)]: Done  20 out of  20 | elapsed:    0.2s finished\n",
      "[Parallel(n_jobs=1)]: Done   1 jobs       | elapsed:    0.0s\n",
      "[Parallel(n_jobs=1)]: Done  20 out of  20 | elapsed:    0.0s finished\n",
      "[Parallel(n_jobs=1)]: Done   1 jobs       | elapsed:    0.0s\n"
     ]
    },
    {
     "name": "stdout",
     "output_type": "stream",
     "text": [
      "\n",
      "Classes : ['functional' 'functional needs repair' 'non functional']\n",
      "Number of Estimators:  20\n",
      "Max Features:  auto\n",
      "+++++++++++++++++++\n",
      "Max_depth:  13\n",
      "Accuracy Score:  0.753872053872\n",
      "Precision Score: [ 0.70891932  0.75        0.87657749]\n",
      "Recall Score: [ 0.9485021   0.05469462  0.61198238]\n",
      "Fl Score: [ 0.81139468  0.10195412  0.72076372]\n",
      "------------------\n",
      "+++++++++++++++++++"
     ]
    },
    {
     "name": "stderr",
     "output_type": "stream",
     "text": [
      "[Parallel(n_jobs=1)]: Done  20 out of  20 | elapsed:    0.0s finished\n",
      "//anaconda/lib/python2.7/site-packages/sklearn/base.py:436: DataConversionWarning: A column-vector y was passed when a 1d array was expected. Please change the shape of y to (n_samples,), for example using ravel().\n",
      "  return self.fit(X, y, **fit_params).transform(X)\n",
      "[Parallel(n_jobs=1)]: Done   1 jobs       | elapsed:    0.0s\n",
      "[Parallel(n_jobs=1)]: Done  20 out of  20 | elapsed:    0.7s finished\n",
      "[Parallel(n_jobs=1)]: Done   1 jobs       | elapsed:    0.0s\n",
      "[Parallel(n_jobs=1)]: Done  20 out of  20 | elapsed:    0.1s finished\n",
      "[Parallel(n_jobs=1)]: Done   1 jobs       | elapsed:    0.0s\n",
      "[Parallel(n_jobs=1)]: Done  20 out of  20 | elapsed:    0.0s finished\n",
      "[Parallel(n_jobs=1)]: Done   1 jobs       | elapsed:    0.0s\n"
     ]
    },
    {
     "name": "stdout",
     "output_type": "stream",
     "text": [
      "\n",
      "Classes : ['functional' 'functional needs repair' 'non functional']\n",
      "Number of Estimators:  20\n",
      "Max Features:  sqrt\n",
      "+++++++++++++++++++\n",
      "Max_depth:  13\n",
      "Accuracy Score:  0.755151515152\n",
      "Precision Score: [ 0.71035569  0.73333333  0.87819701]\n",
      "Recall Score: [ 0.94936866  0.07019143  0.61110132]\n",
      "Fl Score: [ 0.81265233  0.1281198   0.72069825]\n",
      "------------------\n",
      "+++++++++++++++++++"
     ]
    },
    {
     "name": "stderr",
     "output_type": "stream",
     "text": [
      "[Parallel(n_jobs=1)]: Done  20 out of  20 | elapsed:    0.0s finished\n",
      "//anaconda/lib/python2.7/site-packages/sklearn/base.py:436: DataConversionWarning: A column-vector y was passed when a 1d array was expected. Please change the shape of y to (n_samples,), for example using ravel().\n",
      "  return self.fit(X, y, **fit_params).transform(X)\n",
      "[Parallel(n_jobs=1)]: Done   1 jobs       | elapsed:    0.1s\n",
      "[Parallel(n_jobs=1)]: Done  20 out of  20 | elapsed:    1.0s finished\n",
      "[Parallel(n_jobs=1)]: Done   1 jobs       | elapsed:    0.0s\n",
      "[Parallel(n_jobs=1)]: Done  20 out of  20 | elapsed:    0.1s finished\n",
      "[Parallel(n_jobs=1)]: Done   1 jobs       | elapsed:    0.0s\n",
      "[Parallel(n_jobs=1)]: Done  20 out of  20 | elapsed:    0.0s finished\n",
      "[Parallel(n_jobs=1)]: Done   1 jobs       | elapsed:    0.0s\n"
     ]
    },
    {
     "name": "stdout",
     "output_type": "stream",
     "text": [
      "\n",
      "Classes : ['functional' 'functional needs repair' 'non functional']\n",
      "Number of Estimators:  20\n",
      "Max Features:  log2\n",
      "+++++++++++++++++++\n",
      "Max_depth:  13\n",
      "Accuracy Score:  0.750101010101\n",
      "Precision Score: [ 0.7063932   0.78688525  0.86885246]\n",
      "Recall Score: [ 0.94652142  0.0437557   0.60704846]\n",
      "Fl Score: [ 0.80901492  0.08290155  0.71473029]\n",
      "------------------\n",
      "+++++++++++++++++++"
     ]
    },
    {
     "name": "stderr",
     "output_type": "stream",
     "text": [
      "[Parallel(n_jobs=1)]: Done  20 out of  20 | elapsed:    0.0s finished\n",
      "//anaconda/lib/python2.7/site-packages/sklearn/base.py:436: DataConversionWarning: A column-vector y was passed when a 1d array was expected. Please change the shape of y to (n_samples,), for example using ravel().\n",
      "  return self.fit(X, y, **fit_params).transform(X)\n",
      "[Parallel(n_jobs=1)]: Done   1 jobs       | elapsed:    0.0s\n",
      "[Parallel(n_jobs=1)]: Done  20 out of  20 | elapsed:    0.9s finished\n",
      "[Parallel(n_jobs=1)]: Done   1 jobs       | elapsed:    0.0s\n",
      "[Parallel(n_jobs=1)]: Done  20 out of  20 | elapsed:    0.2s finished\n",
      "[Parallel(n_jobs=1)]: Done   1 jobs       | elapsed:    0.0s\n",
      "[Parallel(n_jobs=1)]: Done  20 out of  20 | elapsed:    0.0s finished\n",
      "[Parallel(n_jobs=1)]: Done   1 jobs       | elapsed:    0.0s\n"
     ]
    },
    {
     "name": "stdout",
     "output_type": "stream",
     "text": [
      "\n",
      "Classes : ['functional' 'functional needs repair' 'non functional']\n",
      "Number of Estimators:  20\n",
      "Max Features:  auto\n",
      "+++++++++++++++++++\n",
      "Max_depth:  14\n",
      "Accuracy Score:  0.7567003367\n",
      "Precision Score: [ 0.71300616  0.7         0.876002  ]\n",
      "Recall Score: [ 0.94602624  0.08933455  0.61621145]\n",
      "Fl Score: [ 0.81315173  0.15844786  0.72349229]\n",
      "------------------\n",
      "+++++++++++++++++++"
     ]
    },
    {
     "name": "stderr",
     "output_type": "stream",
     "text": [
      "[Parallel(n_jobs=1)]: Done  20 out of  20 | elapsed:    0.0s finished\n",
      "//anaconda/lib/python2.7/site-packages/sklearn/base.py:436: DataConversionWarning: A column-vector y was passed when a 1d array was expected. Please change the shape of y to (n_samples,), for example using ravel().\n",
      "  return self.fit(X, y, **fit_params).transform(X)\n",
      "[Parallel(n_jobs=1)]: Done   1 jobs       | elapsed:    0.0s\n",
      "[Parallel(n_jobs=1)]: Done  20 out of  20 | elapsed:    0.7s finished\n",
      "[Parallel(n_jobs=1)]: Done   1 jobs       | elapsed:    0.0s\n",
      "[Parallel(n_jobs=1)]: Done  20 out of  20 | elapsed:    0.2s finished\n",
      "[Parallel(n_jobs=1)]: Done   1 jobs       | elapsed:    0.0s\n",
      "[Parallel(n_jobs=1)]: Done  20 out of  20 | elapsed:    0.0s finished\n",
      "[Parallel(n_jobs=1)]: Done   1 jobs       | elapsed:    0.0s\n"
     ]
    },
    {
     "name": "stdout",
     "output_type": "stream",
     "text": [
      "\n",
      "Classes : ['functional' 'functional needs repair' 'non functional']\n",
      "Number of Estimators:  20\n",
      "Max Features:  sqrt\n",
      "+++++++++++++++++++\n",
      "Max_depth:  14\n",
      "Accuracy Score:  0.760404040404\n",
      "Precision Score: [ 0.71844935  0.69421488  0.87012358]\n",
      "Recall Score: [ 0.94293142  0.07657247  0.63277533]\n",
      "Fl Score: [ 0.81552463  0.13793103  0.73270761]\n",
      "------------------\n",
      "+++++++++++++++++++"
     ]
    },
    {
     "name": "stderr",
     "output_type": "stream",
     "text": [
      "[Parallel(n_jobs=1)]: Done  20 out of  20 | elapsed:    0.0s finished\n",
      "//anaconda/lib/python2.7/site-packages/sklearn/base.py:436: DataConversionWarning: A column-vector y was passed when a 1d array was expected. Please change the shape of y to (n_samples,), for example using ravel().\n",
      "  return self.fit(X, y, **fit_params).transform(X)\n",
      "[Parallel(n_jobs=1)]: Done   1 jobs       | elapsed:    0.1s\n",
      "[Parallel(n_jobs=1)]: Done  20 out of  20 | elapsed:    1.0s finished\n",
      "[Parallel(n_jobs=1)]: Done   1 jobs       | elapsed:    0.0s\n",
      "[Parallel(n_jobs=1)]: Done  20 out of  20 | elapsed:    0.2s finished\n",
      "[Parallel(n_jobs=1)]: Done   1 jobs       | elapsed:    0.0s\n",
      "[Parallel(n_jobs=1)]: Done  20 out of  20 | elapsed:    0.1s finished\n",
      "[Parallel(n_jobs=1)]: Done   1 jobs       | elapsed:    0.0s\n",
      "[Parallel(n_jobs=1)]: Done  20 out of  20 | elapsed:    0.1s finished\n"
     ]
    },
    {
     "name": "stdout",
     "output_type": "stream",
     "text": [
      "\n",
      "Classes : ['functional' 'functional needs repair' 'non functional']\n",
      "Number of Estimators:  20\n",
      "Max Features:  log2\n",
      "+++++++++++++++++++\n",
      "Max_depth:  14\n",
      "Accuracy Score:  0.752794612795\n",
      "Precision Score: [ 0.70635139  0.74        0.88326048]\n",
      "Recall Score: [ 0.95407279  0.03372835  0.60528634]\n",
      "Fl Score: [ 0.81173311  0.06451613  0.7183187 ]\n",
      "------------------\n",
      "+++++++++++++++++++"
     ]
    },
    {
     "name": "stderr",
     "output_type": "stream",
     "text": [
      "//anaconda/lib/python2.7/site-packages/sklearn/base.py:436: DataConversionWarning: A column-vector y was passed when a 1d array was expected. Please change the shape of y to (n_samples,), for example using ravel().\n",
      "  return self.fit(X, y, **fit_params).transform(X)\n",
      "[Parallel(n_jobs=1)]: Done   1 jobs       | elapsed:    0.0s\n",
      "[Parallel(n_jobs=1)]: Done  20 out of  20 | elapsed:    1.0s finished\n",
      "[Parallel(n_jobs=1)]: Done   1 jobs       | elapsed:    0.0s\n",
      "[Parallel(n_jobs=1)]: Done  20 out of  20 | elapsed:    0.2s finished\n",
      "[Parallel(n_jobs=1)]: Done   1 jobs       | elapsed:    0.0s\n",
      "[Parallel(n_jobs=1)]: Done  20 out of  20 | elapsed:    0.1s finished\n",
      "[Parallel(n_jobs=1)]: Done   1 jobs       | elapsed:    0.0s\n",
      "[Parallel(n_jobs=1)]: Done  20 out of  20 | elapsed:    0.1s finished\n"
     ]
    },
    {
     "name": "stdout",
     "output_type": "stream",
     "text": [
      "\n",
      "Classes : ['functional' 'functional needs repair' 'non functional']\n",
      "Number of Estimators:  20\n",
      "Max Features:  auto\n",
      "+++++++++++++++++++\n",
      "Max_depth:  15\n",
      "Accuracy Score:  0.766464646465\n",
      "Precision Score: [ 0.72674921  0.66666667  0.86946221]\n",
      "Recall Score: [ 0.93736073  0.12762078  0.64669604]\n",
      "Fl Score: [ 0.81872736  0.21423106  0.74171382]\n",
      "------------------\n",
      "+++++++++++++++++++"
     ]
    },
    {
     "name": "stderr",
     "output_type": "stream",
     "text": [
      "//anaconda/lib/python2.7/site-packages/sklearn/base.py:436: DataConversionWarning: A column-vector y was passed when a 1d array was expected. Please change the shape of y to (n_samples,), for example using ravel().\n",
      "  return self.fit(X, y, **fit_params).transform(X)\n",
      "[Parallel(n_jobs=1)]: Done   1 jobs       | elapsed:    0.0s\n"
     ]
    },
    {
     "name": "stdout",
     "output_type": "stream",
     "text": [
      "\n",
      "Classes : ['functional' 'functional needs repair' 'non functional']\n",
      "Number of Estimators:  20\n",
      "Max Features:  sqrt\n",
      "+++++++++++++++++++\n",
      "Max_depth:  15\n",
      "Accuracy Score:  0.76430976431\n",
      "Precision Score: [ 0.726005    0.65740741  0.86378659]\n",
      "Recall Score: [ 0.93451349  0.12944394  0.64475771]\n",
      "Fl Score: [ 0.81716822  0.21629855  0.73837151]\n",
      "------------------\n"
     ]
    },
    {
     "name": "stderr",
     "output_type": "stream",
     "text": [
      "[Parallel(n_jobs=1)]: Done  20 out of  20 | elapsed:    0.7s finished\n"
     ]
    },
    {
     "ename": "KeyboardInterrupt",
     "evalue": "",
     "output_type": "error",
     "traceback": [
      "\u001b[0;31m---------------------------------------------------------------------------\u001b[0m",
      "\u001b[0;31mKeyboardInterrupt\u001b[0m                         Traceback (most recent call last)",
      "\u001b[0;32m<ipython-input-19-1d7e16d65c18>\u001b[0m in \u001b[0;36m<module>\u001b[0;34m()\u001b[0m\n\u001b[1;32m     40\u001b[0m             \u001b[0mclf\u001b[0m \u001b[0;34m=\u001b[0m \u001b[0mExtraTreesClassifier\u001b[0m\u001b[0;34m(\u001b[0m\u001b[0mn_estimators\u001b[0m\u001b[0;34m=\u001b[0m\u001b[0mestim\u001b[0m\u001b[0;34m,\u001b[0m\u001b[0mmax_depth\u001b[0m\u001b[0;34m=\u001b[0m\u001b[0mdepths\u001b[0m\u001b[0;34m,\u001b[0m\u001b[0mmax_features\u001b[0m\u001b[0;34m=\u001b[0m\u001b[0mm_feat\u001b[0m\u001b[0;34m,\u001b[0m\u001b[0mverbose\u001b[0m\u001b[0;34m=\u001b[0m\u001b[0;36m1\u001b[0m\u001b[0;34m)\u001b[0m\u001b[0;34m\u001b[0m\u001b[0m\n\u001b[1;32m     41\u001b[0m \u001b[0;34m\u001b[0m\u001b[0m\n\u001b[0;32m---> 42\u001b[0;31m             \u001b[0mX_new_t\u001b[0m \u001b[0;34m=\u001b[0m \u001b[0mclf\u001b[0m\u001b[0;34m.\u001b[0m\u001b[0mfit_transform\u001b[0m\u001b[0;34m(\u001b[0m\u001b[0mX\u001b[0m\u001b[0;34m,\u001b[0m \u001b[0my\u001b[0m\u001b[0;34m)\u001b[0m\u001b[0;34m\u001b[0m\u001b[0m\n\u001b[0m\u001b[1;32m     43\u001b[0m \u001b[0;34m\u001b[0m\u001b[0m\n\u001b[1;32m     44\u001b[0m             \u001b[0mresult_train\u001b[0m \u001b[0;34m=\u001b[0m \u001b[0mclf\u001b[0m\u001b[0;34m.\u001b[0m\u001b[0mscore\u001b[0m\u001b[0;34m(\u001b[0m\u001b[0mX\u001b[0m\u001b[0;34m,\u001b[0m\u001b[0my\u001b[0m\u001b[0;34m)\u001b[0m\u001b[0;34m\u001b[0m\u001b[0m\n",
      "\u001b[0;32m//anaconda/lib/python2.7/site-packages/sklearn/base.pyc\u001b[0m in \u001b[0;36mfit_transform\u001b[0;34m(self, X, y, **fit_params)\u001b[0m\n\u001b[1;32m    434\u001b[0m         \u001b[0;32melse\u001b[0m\u001b[0;34m:\u001b[0m\u001b[0;34m\u001b[0m\u001b[0m\n\u001b[1;32m    435\u001b[0m             \u001b[0;31m# fit method of arity 2 (supervised transformation)\u001b[0m\u001b[0;34m\u001b[0m\u001b[0;34m\u001b[0m\u001b[0m\n\u001b[0;32m--> 436\u001b[0;31m             \u001b[0;32mreturn\u001b[0m \u001b[0mself\u001b[0m\u001b[0;34m.\u001b[0m\u001b[0mfit\u001b[0m\u001b[0;34m(\u001b[0m\u001b[0mX\u001b[0m\u001b[0;34m,\u001b[0m \u001b[0my\u001b[0m\u001b[0;34m,\u001b[0m \u001b[0;34m**\u001b[0m\u001b[0mfit_params\u001b[0m\u001b[0;34m)\u001b[0m\u001b[0;34m.\u001b[0m\u001b[0mtransform\u001b[0m\u001b[0;34m(\u001b[0m\u001b[0mX\u001b[0m\u001b[0;34m)\u001b[0m\u001b[0;34m\u001b[0m\u001b[0m\n\u001b[0m\u001b[1;32m    437\u001b[0m \u001b[0;34m\u001b[0m\u001b[0m\n\u001b[1;32m    438\u001b[0m \u001b[0;34m\u001b[0m\u001b[0m\n",
      "\u001b[0;32m//anaconda/lib/python2.7/site-packages/sklearn/feature_selection/from_model.pyc\u001b[0m in \u001b[0;36mtransform\u001b[0;34m(self, X, threshold)\u001b[0m\n\u001b[1;32m     48\u001b[0m                         all_or_any=any)\n\u001b[1;32m     49\u001b[0m \u001b[0;34m\u001b[0m\u001b[0m\n\u001b[0;32m---> 50\u001b[0;31m         \u001b[0mX\u001b[0m \u001b[0;34m=\u001b[0m \u001b[0mcheck_array\u001b[0m\u001b[0;34m(\u001b[0m\u001b[0mX\u001b[0m\u001b[0;34m,\u001b[0m \u001b[0;34m'csc'\u001b[0m\u001b[0;34m)\u001b[0m\u001b[0;34m\u001b[0m\u001b[0m\n\u001b[0m\u001b[1;32m     51\u001b[0m         \u001b[0;31m# Retrieve importance vector\u001b[0m\u001b[0;34m\u001b[0m\u001b[0;34m\u001b[0m\u001b[0m\n\u001b[1;32m     52\u001b[0m         \u001b[0;32mif\u001b[0m \u001b[0mhasattr\u001b[0m\u001b[0;34m(\u001b[0m\u001b[0mself\u001b[0m\u001b[0;34m,\u001b[0m \u001b[0;34m\"feature_importances_\"\u001b[0m\u001b[0;34m)\u001b[0m\u001b[0;34m:\u001b[0m\u001b[0;34m\u001b[0m\u001b[0m\n",
      "\u001b[0;32m//anaconda/lib/python2.7/site-packages/sklearn/utils/validation.pyc\u001b[0m in \u001b[0;36mcheck_array\u001b[0;34m(array, accept_sparse, dtype, order, copy, force_all_finite, ensure_2d, allow_nd, ensure_min_samples, ensure_min_features)\u001b[0m\n\u001b[1;32m    335\u001b[0m     \u001b[0;32melse\u001b[0m\u001b[0;34m:\u001b[0m\u001b[0;34m\u001b[0m\u001b[0m\n\u001b[1;32m    336\u001b[0m         \u001b[0;32mif\u001b[0m \u001b[0mensure_2d\u001b[0m\u001b[0;34m:\u001b[0m\u001b[0;34m\u001b[0m\u001b[0m\n\u001b[0;32m--> 337\u001b[0;31m             \u001b[0marray\u001b[0m \u001b[0;34m=\u001b[0m \u001b[0mnp\u001b[0m\u001b[0;34m.\u001b[0m\u001b[0matleast_2d\u001b[0m\u001b[0;34m(\u001b[0m\u001b[0marray\u001b[0m\u001b[0;34m)\u001b[0m\u001b[0;34m\u001b[0m\u001b[0m\n\u001b[0m\u001b[1;32m    338\u001b[0m         \u001b[0;32mif\u001b[0m \u001b[0mdtype_numeric\u001b[0m\u001b[0;34m:\u001b[0m\u001b[0;34m\u001b[0m\u001b[0m\n\u001b[1;32m    339\u001b[0m             \u001b[0;32mif\u001b[0m \u001b[0mhasattr\u001b[0m\u001b[0;34m(\u001b[0m\u001b[0marray\u001b[0m\u001b[0;34m,\u001b[0m \u001b[0;34m\"dtype\"\u001b[0m\u001b[0;34m)\u001b[0m \u001b[0;32mand\u001b[0m \u001b[0mgetattr\u001b[0m\u001b[0;34m(\u001b[0m\u001b[0marray\u001b[0m\u001b[0;34m.\u001b[0m\u001b[0mdtype\u001b[0m\u001b[0;34m,\u001b[0m \u001b[0;34m\"kind\"\u001b[0m\u001b[0;34m,\u001b[0m \u001b[0mNone\u001b[0m\u001b[0;34m)\u001b[0m \u001b[0;34m==\u001b[0m \u001b[0;34m\"O\"\u001b[0m\u001b[0;34m:\u001b[0m\u001b[0;34m\u001b[0m\u001b[0m\n",
      "\u001b[0;32m//anaconda/lib/python2.7/site-packages/numpy/core/shape_base.pyc\u001b[0m in \u001b[0;36matleast_2d\u001b[0;34m(*arys)\u001b[0m\n\u001b[1;32m     97\u001b[0m     \u001b[0mres\u001b[0m \u001b[0;34m=\u001b[0m \u001b[0;34m[\u001b[0m\u001b[0;34m]\u001b[0m\u001b[0;34m\u001b[0m\u001b[0m\n\u001b[1;32m     98\u001b[0m     \u001b[0;32mfor\u001b[0m \u001b[0mary\u001b[0m \u001b[0;32min\u001b[0m \u001b[0marys\u001b[0m\u001b[0;34m:\u001b[0m\u001b[0;34m\u001b[0m\u001b[0m\n\u001b[0;32m---> 99\u001b[0;31m         \u001b[0mary\u001b[0m \u001b[0;34m=\u001b[0m \u001b[0masanyarray\u001b[0m\u001b[0;34m(\u001b[0m\u001b[0mary\u001b[0m\u001b[0;34m)\u001b[0m\u001b[0;34m\u001b[0m\u001b[0m\n\u001b[0m\u001b[1;32m    100\u001b[0m         \u001b[0;32mif\u001b[0m \u001b[0mlen\u001b[0m\u001b[0;34m(\u001b[0m\u001b[0mary\u001b[0m\u001b[0;34m.\u001b[0m\u001b[0mshape\u001b[0m\u001b[0;34m)\u001b[0m \u001b[0;34m==\u001b[0m \u001b[0;36m0\u001b[0m \u001b[0;34m:\u001b[0m\u001b[0;34m\u001b[0m\u001b[0m\n\u001b[1;32m    101\u001b[0m             \u001b[0mresult\u001b[0m \u001b[0;34m=\u001b[0m \u001b[0mary\u001b[0m\u001b[0;34m.\u001b[0m\u001b[0mreshape\u001b[0m\u001b[0;34m(\u001b[0m\u001b[0;36m1\u001b[0m\u001b[0;34m,\u001b[0m \u001b[0;36m1\u001b[0m\u001b[0;34m)\u001b[0m\u001b[0;34m\u001b[0m\u001b[0m\n",
      "\u001b[0;32m//anaconda/lib/python2.7/site-packages/numpy/core/numeric.pyc\u001b[0m in \u001b[0;36masanyarray\u001b[0;34m(a, dtype, order)\u001b[0m\n\u001b[1;32m    512\u001b[0m \u001b[0;34m\u001b[0m\u001b[0m\n\u001b[1;32m    513\u001b[0m     \"\"\"\n\u001b[0;32m--> 514\u001b[0;31m     \u001b[0;32mreturn\u001b[0m \u001b[0marray\u001b[0m\u001b[0;34m(\u001b[0m\u001b[0ma\u001b[0m\u001b[0;34m,\u001b[0m \u001b[0mdtype\u001b[0m\u001b[0;34m,\u001b[0m \u001b[0mcopy\u001b[0m\u001b[0;34m=\u001b[0m\u001b[0mFalse\u001b[0m\u001b[0;34m,\u001b[0m \u001b[0morder\u001b[0m\u001b[0;34m=\u001b[0m\u001b[0morder\u001b[0m\u001b[0;34m,\u001b[0m \u001b[0msubok\u001b[0m\u001b[0;34m=\u001b[0m\u001b[0mTrue\u001b[0m\u001b[0;34m)\u001b[0m\u001b[0;34m\u001b[0m\u001b[0m\n\u001b[0m\u001b[1;32m    515\u001b[0m \u001b[0;34m\u001b[0m\u001b[0m\n\u001b[1;32m    516\u001b[0m \u001b[0;32mdef\u001b[0m \u001b[0mascontiguousarray\u001b[0m\u001b[0;34m(\u001b[0m\u001b[0ma\u001b[0m\u001b[0;34m,\u001b[0m \u001b[0mdtype\u001b[0m\u001b[0;34m=\u001b[0m\u001b[0mNone\u001b[0m\u001b[0;34m)\u001b[0m\u001b[0;34m:\u001b[0m\u001b[0;34m\u001b[0m\u001b[0m\n",
      "\u001b[0;32m//anaconda/lib/python2.7/site-packages/pandas/core/generic.pyc\u001b[0m in \u001b[0;36m__array__\u001b[0;34m(self, dtype)\u001b[0m\n\u001b[1;32m    738\u001b[0m \u001b[0;34m\u001b[0m\u001b[0m\n\u001b[1;32m    739\u001b[0m     \u001b[0;32mdef\u001b[0m \u001b[0m__array__\u001b[0m\u001b[0;34m(\u001b[0m\u001b[0mself\u001b[0m\u001b[0;34m,\u001b[0m \u001b[0mdtype\u001b[0m\u001b[0;34m=\u001b[0m\u001b[0mNone\u001b[0m\u001b[0;34m)\u001b[0m\u001b[0;34m:\u001b[0m\u001b[0;34m\u001b[0m\u001b[0m\n\u001b[0;32m--> 740\u001b[0;31m         \u001b[0;32mreturn\u001b[0m \u001b[0m_values_from_object\u001b[0m\u001b[0;34m(\u001b[0m\u001b[0mself\u001b[0m\u001b[0;34m)\u001b[0m\u001b[0;34m\u001b[0m\u001b[0m\n\u001b[0m\u001b[1;32m    741\u001b[0m \u001b[0;34m\u001b[0m\u001b[0m\n\u001b[1;32m    742\u001b[0m     \u001b[0;32mdef\u001b[0m \u001b[0m__array_wrap__\u001b[0m\u001b[0;34m(\u001b[0m\u001b[0mself\u001b[0m\u001b[0;34m,\u001b[0m \u001b[0mresult\u001b[0m\u001b[0;34m,\u001b[0m \u001b[0mcontext\u001b[0m\u001b[0;34m=\u001b[0m\u001b[0mNone\u001b[0m\u001b[0;34m)\u001b[0m\u001b[0;34m:\u001b[0m\u001b[0;34m\u001b[0m\u001b[0m\n",
      "\u001b[0;32mpandas/lib.pyx\u001b[0m in \u001b[0;36mpandas.lib.values_from_object (pandas/lib.c:4148)\u001b[0;34m()\u001b[0m\n",
      "\u001b[0;32m//anaconda/lib/python2.7/site-packages/pandas/core/generic.pyc\u001b[0m in \u001b[0;36mget_values\u001b[0;34m(self)\u001b[0m\n\u001b[1;32m   2331\u001b[0m     \u001b[0;32mdef\u001b[0m \u001b[0mget_values\u001b[0m\u001b[0;34m(\u001b[0m\u001b[0mself\u001b[0m\u001b[0;34m)\u001b[0m\u001b[0;34m:\u001b[0m\u001b[0;34m\u001b[0m\u001b[0m\n\u001b[1;32m   2332\u001b[0m         \u001b[0;34m\"\"\" same as values (but handles sparseness conversions) \"\"\"\u001b[0m\u001b[0;34m\u001b[0m\u001b[0m\n\u001b[0;32m-> 2333\u001b[0;31m         \u001b[0;32mreturn\u001b[0m \u001b[0mself\u001b[0m\u001b[0;34m.\u001b[0m\u001b[0mas_matrix\u001b[0m\u001b[0;34m(\u001b[0m\u001b[0;34m)\u001b[0m\u001b[0;34m\u001b[0m\u001b[0m\n\u001b[0m\u001b[1;32m   2334\u001b[0m \u001b[0;34m\u001b[0m\u001b[0m\n\u001b[1;32m   2335\u001b[0m     \u001b[0;32mdef\u001b[0m \u001b[0mget_dtype_counts\u001b[0m\u001b[0;34m(\u001b[0m\u001b[0mself\u001b[0m\u001b[0;34m)\u001b[0m\u001b[0;34m:\u001b[0m\u001b[0;34m\u001b[0m\u001b[0m\n",
      "\u001b[0;32m//anaconda/lib/python2.7/site-packages/pandas/core/generic.pyc\u001b[0m in \u001b[0;36mas_matrix\u001b[0;34m(self, columns)\u001b[0m\n\u001b[1;32m   2304\u001b[0m         \u001b[0mself\u001b[0m\u001b[0;34m.\u001b[0m\u001b[0m_consolidate_inplace\u001b[0m\u001b[0;34m(\u001b[0m\u001b[0;34m)\u001b[0m\u001b[0;34m\u001b[0m\u001b[0m\n\u001b[1;32m   2305\u001b[0m         \u001b[0;32mif\u001b[0m \u001b[0mself\u001b[0m\u001b[0;34m.\u001b[0m\u001b[0m_AXIS_REVERSED\u001b[0m\u001b[0;34m:\u001b[0m\u001b[0;34m\u001b[0m\u001b[0m\n\u001b[0;32m-> 2306\u001b[0;31m             \u001b[0;32mreturn\u001b[0m \u001b[0mself\u001b[0m\u001b[0;34m.\u001b[0m\u001b[0m_data\u001b[0m\u001b[0;34m.\u001b[0m\u001b[0mas_matrix\u001b[0m\u001b[0;34m(\u001b[0m\u001b[0mcolumns\u001b[0m\u001b[0;34m)\u001b[0m\u001b[0;34m.\u001b[0m\u001b[0mT\u001b[0m\u001b[0;34m\u001b[0m\u001b[0m\n\u001b[0m\u001b[1;32m   2307\u001b[0m         \u001b[0;32mreturn\u001b[0m \u001b[0mself\u001b[0m\u001b[0;34m.\u001b[0m\u001b[0m_data\u001b[0m\u001b[0;34m.\u001b[0m\u001b[0mas_matrix\u001b[0m\u001b[0;34m(\u001b[0m\u001b[0mcolumns\u001b[0m\u001b[0;34m)\u001b[0m\u001b[0;34m\u001b[0m\u001b[0m\n\u001b[1;32m   2308\u001b[0m \u001b[0;34m\u001b[0m\u001b[0m\n",
      "\u001b[0;32m//anaconda/lib/python2.7/site-packages/pandas/core/internals.pyc\u001b[0m in \u001b[0;36mas_matrix\u001b[0;34m(self, items)\u001b[0m\n\u001b[1;32m   2711\u001b[0m             \u001b[0;32mreturn\u001b[0m \u001b[0mmgr\u001b[0m\u001b[0;34m.\u001b[0m\u001b[0mblocks\u001b[0m\u001b[0;34m[\u001b[0m\u001b[0;36m0\u001b[0m\u001b[0;34m]\u001b[0m\u001b[0;34m.\u001b[0m\u001b[0mget_values\u001b[0m\u001b[0;34m(\u001b[0m\u001b[0;34m)\u001b[0m\u001b[0;34m\u001b[0m\u001b[0m\n\u001b[1;32m   2712\u001b[0m         \u001b[0;32melse\u001b[0m\u001b[0;34m:\u001b[0m\u001b[0;34m\u001b[0m\u001b[0m\n\u001b[0;32m-> 2713\u001b[0;31m             \u001b[0;32mreturn\u001b[0m \u001b[0mmgr\u001b[0m\u001b[0;34m.\u001b[0m\u001b[0m_interleave\u001b[0m\u001b[0;34m(\u001b[0m\u001b[0;34m)\u001b[0m\u001b[0;34m\u001b[0m\u001b[0m\n\u001b[0m\u001b[1;32m   2714\u001b[0m \u001b[0;34m\u001b[0m\u001b[0m\n\u001b[1;32m   2715\u001b[0m     \u001b[0;32mdef\u001b[0m \u001b[0m_interleave\u001b[0m\u001b[0;34m(\u001b[0m\u001b[0mself\u001b[0m\u001b[0;34m)\u001b[0m\u001b[0;34m:\u001b[0m\u001b[0;34m\u001b[0m\u001b[0m\n",
      "\u001b[0;32m//anaconda/lib/python2.7/site-packages/pandas/core/internals.pyc\u001b[0m in \u001b[0;36m_interleave\u001b[0;34m(self)\u001b[0m\n\u001b[1;32m   2738\u001b[0m         \u001b[0;32mfor\u001b[0m \u001b[0mblk\u001b[0m \u001b[0;32min\u001b[0m \u001b[0mself\u001b[0m\u001b[0;34m.\u001b[0m\u001b[0mblocks\u001b[0m\u001b[0;34m:\u001b[0m\u001b[0;34m\u001b[0m\u001b[0m\n\u001b[1;32m   2739\u001b[0m             \u001b[0mrl\u001b[0m \u001b[0;34m=\u001b[0m \u001b[0mblk\u001b[0m\u001b[0;34m.\u001b[0m\u001b[0mmgr_locs\u001b[0m\u001b[0;34m\u001b[0m\u001b[0m\n\u001b[0;32m-> 2740\u001b[0;31m             \u001b[0mresult\u001b[0m\u001b[0;34m[\u001b[0m\u001b[0mrl\u001b[0m\u001b[0;34m.\u001b[0m\u001b[0mindexer\u001b[0m\u001b[0;34m]\u001b[0m \u001b[0;34m=\u001b[0m \u001b[0mblk\u001b[0m\u001b[0;34m.\u001b[0m\u001b[0mget_values\u001b[0m\u001b[0;34m(\u001b[0m\u001b[0mdtype\u001b[0m\u001b[0;34m)\u001b[0m\u001b[0;34m\u001b[0m\u001b[0m\n\u001b[0m\u001b[1;32m   2741\u001b[0m             \u001b[0mitemmask\u001b[0m\u001b[0;34m[\u001b[0m\u001b[0mrl\u001b[0m\u001b[0;34m.\u001b[0m\u001b[0mindexer\u001b[0m\u001b[0;34m]\u001b[0m \u001b[0;34m=\u001b[0m \u001b[0;36m1\u001b[0m\u001b[0;34m\u001b[0m\u001b[0m\n\u001b[1;32m   2742\u001b[0m \u001b[0;34m\u001b[0m\u001b[0m\n",
      "\u001b[0;31mKeyboardInterrupt\u001b[0m: "
     ]
    }
   ],
   "source": [
    "import numpy as np\n",
    "from sklearn.metrics import accuracy_score\n",
    "from sklearn.metrics import precision_score\n",
    "from sklearn.metrics import recall_score\n",
    "from sklearn.metrics import f1_score\n",
    "from sklearn.metrics import precision_recall_fscore_support\n",
    "\n",
    "'''\n",
    "n_estimators increase start with 20, default is 10\n",
    "\n",
    "'''\n",
    "\n",
    "l_labels = ['functional' 'non functional' 'functional needs repair']\n",
    "#num_estimators = [10,11,12,13,14,15,16,17,18,19,20]\n",
    "num_estimators = [20]\n",
    "num_depths = [10,11,12,13,14,15,16,17,18,19,20]\n",
    "max_featur = ['auto','sqrt','log2']\n",
    "train_res = []\n",
    "test_res = []\n",
    "acc_score = []\n",
    "prec_score = []\n",
    "reca_score = []\n",
    "fll_score = []\n",
    "rec_fl_score = []\n",
    "\n",
    "df_accuracy = pd.DataFrame(acc_score,index=num_estimators,columns=num_depths)\n",
    "df_precision = pd.DataFrame(prec_score,index=num_estimators,columns=num_depths)\n",
    "df_recall = pd.DataFrame(reca_score,index=num_estimators,columns=num_depths)\n",
    "df_fl = pd.DataFrame(f1_score,index=num_estimators,columns=num_depths)\n",
    "\n",
    "for estim in num_estimators:\n",
    "    \n",
    "    for depths in num_depths:\n",
    "\n",
    "        for m_feat in max_featur:\n",
    "            \n",
    "            X = X_pumps_train\n",
    "            y = y_pumps_train[['label']]\n",
    "\n",
    "            clf = ExtraTreesClassifier(n_estimators=estim,max_depth=depths,max_features=m_feat)\n",
    "\n",
    "            X_new_t = clf.fit_transform(X, y)\n",
    "\n",
    "            result_train = clf.score(X,y)\n",
    "            result_test = clf.score(X_pumps_test,y_pumps_test)\n",
    "\n",
    "            result_pred = clf.predict(X_pumps_test)\n",
    "\n",
    "            acc_1 = accuracy_score(y_pumps_test, result_pred)\n",
    "            clf_precision, clf_recall, clf_f1, _ = precision_recall_fscore_support(y_pumps_test,result_pred, \\\n",
    "                                                                                   pos_label=None,\\\n",
    "                                                                                   average=None)\n",
    "            print \"+++++++++++++++++++\"\n",
    "            print \"Classes :\", clf.classes_\n",
    "            print \"Number of Estimators: \",estim\n",
    "            print \"Max Features: \",m_feat\n",
    "            print \"+++++++++++++++++++\"\n",
    "            print \"Max_depth: \", depths\n",
    " \n",
    "            print \"Accuracy Score: \",acc_1\n",
    "            print \"Precision Score:\",clf_precision\n",
    "            print \"Recall Score:\",clf_recall\n",
    "            print \"Fl Score:\",clf_f1\n",
    "            print \"------------------\"\n",
    "\n",
    "                \n"
   ]
  },
  {
   "cell_type": "code",
   "execution_count": 19,
   "metadata": {
    "collapsed": false
   },
   "outputs": [
    {
     "name": "stdout",
     "output_type": "stream",
     "text": [
      "(11, 4)\n",
      "(11, 4)\n",
      "(11, 4)\n",
      "(11, 4)\n"
     ]
    }
   ],
   "source": [
    "print df_accuracy.shape\n",
    "print df_precision.shape\n",
    "print df_recall.shape\n",
    "print df_fl.shape"
   ]
  },
  {
   "cell_type": "code",
   "execution_count": null,
   "metadata": {
    "collapsed": true
   },
   "outputs": [],
   "source": [
    "'''    P.figure()\n",
    "    ax = sns.heatmap(x1, cmap=\"RdBu\")\n",
    "    xlabel = 'Depth = ',str(depth)\n",
    "    ylabel = 'Nr Elem = ',str(elem)\n",
    "    ax.set_xticklabels(labels=['Functional','Needs Repair','Non Functioning'],rotation=0)\n",
    "    ax.set_yticklabels(labels=[10,11,12,13,14,15,16,17,18,19,20],rotation=0)\n",
    "    title = 'Depth = ',str(depth),' - ',str(elem)\n",
    "    ax.set_title(title)\n",
    "    \n",
    "    P.figure()\n",
    "    ax2 = sns.heatmap(x2, cmap=\"RdBu\")\n",
    "    xlabel = 'Depth = ',str(depth)\n",
    "    ylabel = 'Nr Elem = ',str(elem)\n",
    "    ax2.set_xticklabels(labels=['Functional','Needs Repair','Non Functioning'],rotation=0)\n",
    "    ax2.set_yticklabels(labels=[10,11,12,13,14,15,16,17,18,19,20],rotation=0)\n",
    "    title = 'Depth = ',str(depth),' - ',str(elem)\n",
    "    ax2.set_title(title)\n",
    "\n",
    "    P.figure()\n",
    "    ax3 = sns.heatmap(x3, cmap=\"RdBu\")\n",
    "    xlabel = 'Depth = ',str(depth)\n",
    "    ylabel = 'Nr Elem = ',str(elem)\n",
    "    ax3.set_xticklabels(labels=['Functional','Needs Repair','Non Functioning'],rotation=0)\n",
    "    ax3.set_yticklabels(labels=[10,11,12,13,14,15,16,17,18,19,20],rotation=0)\n",
    "    title = 'Depth = ',str(depth),' - ',str(elem)\n",
    "    ax3.set_title(title)\n",
    "\n",
    "\n",
    "    P.show()\n",
    "    \n",
    "    '''"
   ]
  },
  {
   "cell_type": "code",
   "execution_count": 63,
   "metadata": {
    "collapsed": false,
    "scrolled": false
   },
   "outputs": [
    {
     "name": "stdout",
     "output_type": "stream",
     "text": [
      "0.827120931017\n",
      "[ 0.82712093  0.32889481  0.76572856]\n",
      "[10 11 12 13 14 15 16 17 18 19 20]\n",
      "[array([ 0.82712093,  0.32889481,  0.76572856]), array([ 0.8260845 ,  0.32131148,  0.76761103]), array([ 0.82923536,  0.33244681,  0.76753334]), array([ 0.82615828,  0.32329843,  0.76646022]), array([ 0.82804693,  0.33066667,  0.76788293]), array([ 0.82799459,  0.32821881,  0.76836374]), array([ 0.82825094,  0.32296492,  0.76933384]), array([ 0.82783593,  0.34575835,  0.7681727 ]), array([ 0.82820426,  0.332893  ,  0.76713903]), array([ 0.82802476,  0.33156499,  0.76818269]), array([ 0.82886342,  0.32240803,  0.77206022])]\n",
      "[array([ 0.82378096,  0.39047619,  0.78191926]), array([ 0.827089  ,  0.3822563 ,  0.78506209]), array([ 0.82840237,  0.38449111,  0.78899753]), array([ 0.82778565,  0.39035088,  0.78576656]), array([ 0.82807972,  0.39672131,  0.78514734]), array([ 0.82747188,  0.39477977,  0.78698387]), array([ 0.82682493,  0.39082969,  0.78616809]), array([ 0.82794739,  0.39372634,  0.78747285]), array([ 0.82992471,  0.39847991,  0.78751479]), array([ 0.82860695,  0.38873849,  0.78890713]), array([ 0.82863752,  0.39784946,  0.78827065])]\n",
      "[array([ 0.82315036,  0.38      ,  0.78315217]), array([ 0.82201658,  0.3902439 ,  0.78447579]), array([ 0.82456768,  0.39252336,  0.78480553]), array([ 0.8212415 ,  0.39752832,  0.7841062 ]), array([ 0.82298713,  0.37947123,  0.78402313]), array([ 0.82307831,  0.37984085,  0.7856886 ]), array([ 0.82350129,  0.37611315,  0.78444846]), array([ 0.82238501,  0.38264506,  0.78577203]), array([ 0.82494464,  0.3866878 ,  0.78518652]), array([ 0.8235719 ,  0.39193382,  0.78866673]), array([ 0.82484591,  0.39270833,  0.78778571])]\n",
      "[array([ 0.82431307,  0.39187077,  0.78052339]), array([ 0.82213676,  0.40285569,  0.78471659]), array([ 0.82424604,  0.39313573,  0.78517041]), array([ 0.82206085,  0.39085239,  0.78574642]), array([ 0.82228466,  0.38760504,  0.78250655]), array([ 0.82162812,  0.38776568,  0.78446881]), array([ 0.824233  ,  0.40062435,  0.78574659]), array([ 0.82236487,  0.38993711,  0.7848602 ]), array([ 0.82502245,  0.40165631,  0.7878514 ]), array([ 0.82239057,  0.39835306,  0.78579775]), array([ 0.82486551,  0.38542767,  0.78692669])]\n"
     ]
    },
    {
     "data": {
      "image/png": "[encoded data removed]",
      "text/plain": [
       "<matplotlib.figure.Figure at 0x10bddca50>"
      ]
     },
     "metadata": {},
     "output_type": "display_data"
    },
    {
     "data": {
      "image/png": "[encoded data removed]",
      "text/plain": [
       "<matplotlib.figure.Figure at 0x111ee7fd0>"
      ]
     },
     "metadata": {},
     "output_type": "display_data"
    },
    {
     "data": {
      "image/png": "[encoded data removed]",
      "text/plain": [
       "<matplotlib.figure.Figure at 0x1112fec50>"
      ]
     },
     "metadata": {},
     "output_type": "display_data"
    },
    {
     "data": {
      "image/png": "[encoded data removed]",
      "text/plain": [
       "<matplotlib.figure.Figure at 0x114f68f50>"
      ]
     },
     "metadata": {},
     "output_type": "display_data"
    }
   ],
   "source": [
    "print df_accuracy[20][10][0]\n",
    "print df_accuracy[20][10]\n",
    "cols = df_accuracy.columns.values\n",
    "rows = df_accuracy.index.values\n",
    "print rows\n",
    "for depth in cols:\n",
    "    \n",
    "    x1 = []\n",
    "    \n",
    "    for elem in rows:\n",
    "        x1.append(df_accuracy[depth][elem])\n",
    "       \n",
    "    print x1\n",
    "    \n",
    "    P.figure()\n",
    "    ax = sns.heatmap(x1, cmap=\"RdBu\")\n",
    "    xlabel = 'Depth = ',str(depth)\n",
    "    ylabel = 'Nr Elem = ',str(elem)\n",
    "    ax.set_xticklabels(labels=['Functional','Needs Repair','Non Functioning'],rotation=0)\n",
    "    ax.set_yticklabels(labels=[10,11,12,13,14,15,16,17,18,19,20],rotation=0)\n",
    "    title = 'Depth = ',str(depth),' - ',str(elem)\n",
    "    ax.set_title(title)\n",
    "    "
   ]
  },
  {
   "cell_type": "code",
   "execution_count": 31,
   "metadata": {
    "collapsed": false
   },
   "outputs": [
    {
     "ename": "KeyError",
     "evalue": "10",
     "output_type": "error",
     "traceback": [
      "\u001b[0;31m---------------------------------------------------------------------------\u001b[0m",
      "\u001b[0;31mKeyError\u001b[0m                                  Traceback (most recent call last)",
      "\u001b[0;32m<ipython-input-31-630a2575849e>\u001b[0m in \u001b[0;36m<module>\u001b[0;34m()\u001b[0m\n\u001b[1;32m      7\u001b[0m \u001b[0;34m\u001b[0m\u001b[0m\n\u001b[1;32m      8\u001b[0m \u001b[0;32mfor\u001b[0m \u001b[0melement\u001b[0m \u001b[0;32min\u001b[0m \u001b[0mdf_accuracy\u001b[0m\u001b[0;34m.\u001b[0m\u001b[0mindex\u001b[0m\u001b[0;34m:\u001b[0m\u001b[0;34m\u001b[0m\u001b[0m\n\u001b[0;32m----> 9\u001b[0;31m     \u001b[0mx1\u001b[0m\u001b[0;34m.\u001b[0m\u001b[0mappend\u001b[0m\u001b[0;34m(\u001b[0m\u001b[0mdf_accuracy\u001b[0m\u001b[0;34m[\u001b[0m\u001b[0melement\u001b[0m\u001b[0;34m]\u001b[0m\u001b[0;34m[\u001b[0m\u001b[0;36m0\u001b[0m\u001b[0;34m]\u001b[0m\u001b[0;34m)\u001b[0m\u001b[0;34m\u001b[0m\u001b[0m\n\u001b[0m\u001b[1;32m     10\u001b[0m     \u001b[0mx2\u001b[0m\u001b[0;34m.\u001b[0m\u001b[0mappend\u001b[0m\u001b[0;34m(\u001b[0m\u001b[0mdf_accuracy\u001b[0m\u001b[0;34m[\u001b[0m\u001b[0melement\u001b[0m\u001b[0;34m]\u001b[0m\u001b[0;34m[\u001b[0m\u001b[0;36m1\u001b[0m\u001b[0;34m]\u001b[0m\u001b[0;34m)\u001b[0m\u001b[0;34m\u001b[0m\u001b[0m\n\u001b[1;32m     11\u001b[0m     \u001b[0mx3\u001b[0m\u001b[0;34m.\u001b[0m\u001b[0mappend\u001b[0m\u001b[0;34m(\u001b[0m\u001b[0mdf_accuracy\u001b[0m\u001b[0;34m[\u001b[0m\u001b[0melement\u001b[0m\u001b[0;34m]\u001b[0m\u001b[0;34m[\u001b[0m\u001b[0;36m2\u001b[0m\u001b[0;34m]\u001b[0m\u001b[0;34m)\u001b[0m\u001b[0;34m\u001b[0m\u001b[0m\n",
      "\u001b[0;32m//anaconda/lib/python2.7/site-packages/pandas/core/frame.pyc\u001b[0m in \u001b[0;36m__getitem__\u001b[0;34m(self, key)\u001b[0m\n\u001b[1;32m   1795\u001b[0m             \u001b[0;32mreturn\u001b[0m \u001b[0mself\u001b[0m\u001b[0;34m.\u001b[0m\u001b[0m_getitem_multilevel\u001b[0m\u001b[0;34m(\u001b[0m\u001b[0mkey\u001b[0m\u001b[0;34m)\u001b[0m\u001b[0;34m\u001b[0m\u001b[0m\n\u001b[1;32m   1796\u001b[0m         \u001b[0;32melse\u001b[0m\u001b[0;34m:\u001b[0m\u001b[0;34m\u001b[0m\u001b[0m\n\u001b[0;32m-> 1797\u001b[0;31m             \u001b[0;32mreturn\u001b[0m \u001b[0mself\u001b[0m\u001b[0;34m.\u001b[0m\u001b[0m_getitem_column\u001b[0m\u001b[0;34m(\u001b[0m\u001b[0mkey\u001b[0m\u001b[0;34m)\u001b[0m\u001b[0;34m\u001b[0m\u001b[0m\n\u001b[0m\u001b[1;32m   1798\u001b[0m \u001b[0;34m\u001b[0m\u001b[0m\n\u001b[1;32m   1799\u001b[0m     \u001b[0;32mdef\u001b[0m \u001b[0m_getitem_column\u001b[0m\u001b[0;34m(\u001b[0m\u001b[0mself\u001b[0m\u001b[0;34m,\u001b[0m \u001b[0mkey\u001b[0m\u001b[0;34m)\u001b[0m\u001b[0;34m:\u001b[0m\u001b[0;34m\u001b[0m\u001b[0m\n",
      "\u001b[0;32m//anaconda/lib/python2.7/site-packages/pandas/core/frame.pyc\u001b[0m in \u001b[0;36m_getitem_column\u001b[0;34m(self, key)\u001b[0m\n\u001b[1;32m   1802\u001b[0m         \u001b[0;31m# get column\u001b[0m\u001b[0;34m\u001b[0m\u001b[0;34m\u001b[0m\u001b[0m\n\u001b[1;32m   1803\u001b[0m         \u001b[0;32mif\u001b[0m \u001b[0mself\u001b[0m\u001b[0;34m.\u001b[0m\u001b[0mcolumns\u001b[0m\u001b[0;34m.\u001b[0m\u001b[0mis_unique\u001b[0m\u001b[0;34m:\u001b[0m\u001b[0;34m\u001b[0m\u001b[0m\n\u001b[0;32m-> 1804\u001b[0;31m             \u001b[0;32mreturn\u001b[0m \u001b[0mself\u001b[0m\u001b[0;34m.\u001b[0m\u001b[0m_get_item_cache\u001b[0m\u001b[0;34m(\u001b[0m\u001b[0mkey\u001b[0m\u001b[0;34m)\u001b[0m\u001b[0;34m\u001b[0m\u001b[0m\n\u001b[0m\u001b[1;32m   1805\u001b[0m \u001b[0;34m\u001b[0m\u001b[0m\n\u001b[1;32m   1806\u001b[0m         \u001b[0;31m# duplicate columns & possible reduce dimensionaility\u001b[0m\u001b[0;34m\u001b[0m\u001b[0;34m\u001b[0m\u001b[0m\n",
      "\u001b[0;32m//anaconda/lib/python2.7/site-packages/pandas/core/generic.pyc\u001b[0m in \u001b[0;36m_get_item_cache\u001b[0;34m(self, item)\u001b[0m\n\u001b[1;32m   1082\u001b[0m         \u001b[0mres\u001b[0m \u001b[0;34m=\u001b[0m \u001b[0mcache\u001b[0m\u001b[0;34m.\u001b[0m\u001b[0mget\u001b[0m\u001b[0;34m(\u001b[0m\u001b[0mitem\u001b[0m\u001b[0;34m)\u001b[0m\u001b[0;34m\u001b[0m\u001b[0m\n\u001b[1;32m   1083\u001b[0m         \u001b[0;32mif\u001b[0m \u001b[0mres\u001b[0m \u001b[0;32mis\u001b[0m \u001b[0mNone\u001b[0m\u001b[0;34m:\u001b[0m\u001b[0;34m\u001b[0m\u001b[0m\n\u001b[0;32m-> 1084\u001b[0;31m             \u001b[0mvalues\u001b[0m \u001b[0;34m=\u001b[0m \u001b[0mself\u001b[0m\u001b[0;34m.\u001b[0m\u001b[0m_data\u001b[0m\u001b[0;34m.\u001b[0m\u001b[0mget\u001b[0m\u001b[0;34m(\u001b[0m\u001b[0mitem\u001b[0m\u001b[0;34m)\u001b[0m\u001b[0;34m\u001b[0m\u001b[0m\n\u001b[0m\u001b[1;32m   1085\u001b[0m             \u001b[0mres\u001b[0m \u001b[0;34m=\u001b[0m \u001b[0mself\u001b[0m\u001b[0;34m.\u001b[0m\u001b[0m_box_item_values\u001b[0m\u001b[0;34m(\u001b[0m\u001b[0mitem\u001b[0m\u001b[0;34m,\u001b[0m \u001b[0mvalues\u001b[0m\u001b[0;34m)\u001b[0m\u001b[0;34m\u001b[0m\u001b[0m\n\u001b[1;32m   1086\u001b[0m             \u001b[0mcache\u001b[0m\u001b[0;34m[\u001b[0m\u001b[0mitem\u001b[0m\u001b[0;34m]\u001b[0m \u001b[0;34m=\u001b[0m \u001b[0mres\u001b[0m\u001b[0;34m\u001b[0m\u001b[0m\n",
      "\u001b[0;32m//anaconda/lib/python2.7/site-packages/pandas/core/internals.pyc\u001b[0m in \u001b[0;36mget\u001b[0;34m(self, item, fastpath)\u001b[0m\n\u001b[1;32m   2849\u001b[0m \u001b[0;34m\u001b[0m\u001b[0m\n\u001b[1;32m   2850\u001b[0m             \u001b[0;32mif\u001b[0m \u001b[0;32mnot\u001b[0m \u001b[0misnull\u001b[0m\u001b[0;34m(\u001b[0m\u001b[0mitem\u001b[0m\u001b[0;34m)\u001b[0m\u001b[0;34m:\u001b[0m\u001b[0;34m\u001b[0m\u001b[0m\n\u001b[0;32m-> 2851\u001b[0;31m                 \u001b[0mloc\u001b[0m \u001b[0;34m=\u001b[0m \u001b[0mself\u001b[0m\u001b[0;34m.\u001b[0m\u001b[0mitems\u001b[0m\u001b[0;34m.\u001b[0m\u001b[0mget_loc\u001b[0m\u001b[0;34m(\u001b[0m\u001b[0mitem\u001b[0m\u001b[0;34m)\u001b[0m\u001b[0;34m\u001b[0m\u001b[0m\n\u001b[0m\u001b[1;32m   2852\u001b[0m             \u001b[0;32melse\u001b[0m\u001b[0;34m:\u001b[0m\u001b[0;34m\u001b[0m\u001b[0m\n\u001b[1;32m   2853\u001b[0m                 \u001b[0mindexer\u001b[0m \u001b[0;34m=\u001b[0m \u001b[0mnp\u001b[0m\u001b[0;34m.\u001b[0m\u001b[0marange\u001b[0m\u001b[0;34m(\u001b[0m\u001b[0mlen\u001b[0m\u001b[0;34m(\u001b[0m\u001b[0mself\u001b[0m\u001b[0;34m.\u001b[0m\u001b[0mitems\u001b[0m\u001b[0;34m)\u001b[0m\u001b[0;34m)\u001b[0m\u001b[0;34m[\u001b[0m\u001b[0misnull\u001b[0m\u001b[0;34m(\u001b[0m\u001b[0mself\u001b[0m\u001b[0;34m.\u001b[0m\u001b[0mitems\u001b[0m\u001b[0;34m)\u001b[0m\u001b[0;34m]\u001b[0m\u001b[0;34m\u001b[0m\u001b[0m\n",
      "\u001b[0;32m//anaconda/lib/python2.7/site-packages/pandas/core/index.pyc\u001b[0m in \u001b[0;36mget_loc\u001b[0;34m(self, key, method)\u001b[0m\n\u001b[1;32m   1570\u001b[0m         \"\"\"\n\u001b[1;32m   1571\u001b[0m         \u001b[0;32mif\u001b[0m \u001b[0mmethod\u001b[0m \u001b[0;32mis\u001b[0m \u001b[0mNone\u001b[0m\u001b[0;34m:\u001b[0m\u001b[0;34m\u001b[0m\u001b[0m\n\u001b[0;32m-> 1572\u001b[0;31m             \u001b[0;32mreturn\u001b[0m \u001b[0mself\u001b[0m\u001b[0;34m.\u001b[0m\u001b[0m_engine\u001b[0m\u001b[0;34m.\u001b[0m\u001b[0mget_loc\u001b[0m\u001b[0;34m(\u001b[0m\u001b[0m_values_from_object\u001b[0m\u001b[0;34m(\u001b[0m\u001b[0mkey\u001b[0m\u001b[0;34m)\u001b[0m\u001b[0;34m)\u001b[0m\u001b[0;34m\u001b[0m\u001b[0m\n\u001b[0m\u001b[1;32m   1573\u001b[0m \u001b[0;34m\u001b[0m\u001b[0m\n\u001b[1;32m   1574\u001b[0m         \u001b[0mindexer\u001b[0m \u001b[0;34m=\u001b[0m \u001b[0mself\u001b[0m\u001b[0;34m.\u001b[0m\u001b[0mget_indexer\u001b[0m\u001b[0;34m(\u001b[0m\u001b[0;34m[\u001b[0m\u001b[0mkey\u001b[0m\u001b[0;34m]\u001b[0m\u001b[0;34m,\u001b[0m \u001b[0mmethod\u001b[0m\u001b[0;34m=\u001b[0m\u001b[0mmethod\u001b[0m\u001b[0;34m)\u001b[0m\u001b[0;34m\u001b[0m\u001b[0m\n",
      "\u001b[0;32mpandas/index.pyx\u001b[0m in \u001b[0;36mpandas.index.IndexEngine.get_loc (pandas/index.c:3824)\u001b[0;34m()\u001b[0m\n",
      "\u001b[0;32mpandas/index.pyx\u001b[0m in \u001b[0;36mpandas.index.IndexEngine.get_loc (pandas/index.c:3704)\u001b[0;34m()\u001b[0m\n",
      "\u001b[0;32mpandas/hashtable.pyx\u001b[0m in \u001b[0;36mpandas.hashtable.Int64HashTable.get_item (pandas/hashtable.c:7224)\u001b[0;34m()\u001b[0m\n",
      "\u001b[0;32mpandas/hashtable.pyx\u001b[0m in \u001b[0;36mpandas.hashtable.Int64HashTable.get_item (pandas/hashtable.c:7162)\u001b[0;34m()\u001b[0m\n",
      "\u001b[0;31mKeyError\u001b[0m: 10"
     ]
    }
   ],
   "source": [
    "import seaborn as sns\n",
    "import pylab as P\n",
    "\n",
    "    \n",
    "P.figure()\n",
    "ax = sns.heatmap(x1, cmap=\"RdBu\")\n",
    "ax.set_xticklabels(labels='Number of Estimators',rotation=45)\n",
    "ax.set_yticklabels(labels='Maximum Depth',rotation=0)\n",
    "P.show()\n",
    "\n",
    "P.figure()\n",
    "rsquared.hist()\n",
    "\n",
    "print \"hello\""
   ]
  },
  {
   "cell_type": "code",
   "execution_count": null,
   "metadata": {
    "collapsed": true
   },
   "outputs": [],
   "source": []
  },
  {
   "cell_type": "code",
   "execution_count": 137,
   "metadata": {
    "collapsed": false
   },
   "outputs": [
    {
     "data": {
      "image/png": "[encoded data removed]",
      "text/plain": [
       "<matplotlib.figure.Figure at 0x125bd2450>"
      ]
     },
     "metadata": {},
     "output_type": "display_data"
    }
   ],
   "source": [
    "import matplotlib.pyplot as plt\n",
    "\n",
    "fig, ((ax1,ax2),(ax3,ax4),(ax5,ax6),(ax7,ax8),(ax9,ax10)) = plt.subplots(5,2,figsize=(12,12))\n",
    "\n",
    "n_groups = 11\n",
    "bar_width = 0.50\n",
    "index = np.arange(n_groups)\n",
    "opacity = 0.4\n",
    "\n",
    "rects1 = ax1.bar(index, acc_score, bar_width,\n",
    "                 alpha=opacity,\n",
    "                 color='b',\n",
    "                 label='Accuracy')\n",
    "\n",
    "ax1.set_ylim([0.775,0.785])\n",
    "ax1.set_xlabel('n_estimators')\n",
    "ax1.set_ylabel('Accuracy Scores')\n",
    "\n",
    "ax1.set_title('Accuracy')\n",
    "ax1.legend()\n",
    "\n",
    "n_groups = 11\n",
    "bar_width = 0.40\n",
    "index = np.arange(n_groups)\n",
    "opacity = 0.4\n",
    "\n",
    "x1 = []\n",
    "x2 = []\n",
    "x3 = []\n",
    "\n",
    "for element in range(len(prec_score)):\n",
    "    x1.append(prec_score[element][0])\n",
    "    x2.append(prec_score[element][1])\n",
    "    x3.append(prec_score[element][2])\n",
    "\n",
    "rects1 = ax2.bar(index, x1, bar_width,\n",
    "                 alpha=opacity,\n",
    "                 color='c',\n",
    "                 label='Precision Score Functional')\n",
    "\n",
    "rects2 = ax3.bar(index, x2, bar_width,\n",
    "                 alpha=opacity,\n",
    "                 color='y',\n",
    "                 label='Precision Score Needs Repair')\n",
    "\n",
    "rects3 = ax4.bar(index, x3, bar_width,\n",
    "                 alpha=opacity,\n",
    "                 color='r',\n",
    "                 label='Precision Score Non-functional')\n",
    "\n",
    "ax2.legend(loc=8)\n",
    "ax2.set_ylim([0.78,0.815])\n",
    "ax2.set_xlim([0,11])\n",
    "ax2.set_xlabel('n_estimators')\n",
    "ax2.set_ylabel('Precision Scores')\n",
    "ax2.set_title('Functional')\n",
    "\n",
    "ax3.legend(loc=8)\n",
    "ax3.set_ylim([0.43,0.48])\n",
    "ax3.set_xlim([0,11])\n",
    "ax3.set_xlabel('n_estimators')\n",
    "ax3.set_ylabel('Precision Scores')\n",
    "ax3.set_title('Needs repair')\n",
    "\n",
    "ax4.legend(loc=8)\n",
    "ax4.set_ylim([0.78,0.82])\n",
    "ax4.set_xlim([0,11])\n",
    "ax4.set_xlabel('n_estimators')\n",
    "ax4.set_ylabel('Precision Scores')\n",
    "ax4.set_title('Non Functional')\n",
    "\n",
    "n_groups = 11\n",
    "bar_width = 0.40\n",
    "index = np.arange(n_groups)\n",
    "opacity = 0.4\n",
    "\n",
    "x1 = []\n",
    "x2 = []\n",
    "x3 = []\n",
    "\n",
    "for element in range(len(reca_score)):\n",
    "    x1.append(reca_score[element][0])\n",
    "    x2.append(reca_score[element][1])\n",
    "    x3.append(reca_score[element][2])\n",
    "\n",
    "rects1 = ax5.bar(index, x1, bar_width,\n",
    "                 alpha=opacity,\n",
    "                 color='c',\n",
    "                 label='Recall Functional')\n",
    "\n",
    "rects2 = ax6.bar(index, x2, bar_width,\n",
    "                 alpha=opacity,\n",
    "                 color='y',\n",
    "                 label='Recall Needs repair')\n",
    "\n",
    "rects3 = ax7.bar(index, x3, bar_width,\n",
    "                 alpha=opacity,\n",
    "                 color='r',\n",
    "                 label='Recall Non-functional')\n",
    "\n",
    "ax5.legend(loc=9)\n",
    "ax5.set_ylim([0.84,0.87])\n",
    "ax5.set_xlim([0,11])\n",
    "ax5.set_xlabel('n_estimators')\n",
    "ax5.set_ylabel('Recall Scores')\n",
    "ax5.set_title('Functional')\n",
    "\n",
    "ax6.legend(loc=9)\n",
    "ax6.set_ylim([0.32,0.36])\n",
    "ax6.set_xlim([0,11])\n",
    "ax6.set_xlabel('n_estimators')\n",
    "ax6.set_ylabel('Recall Scores')\n",
    "ax6.set_title('Needs Repair')\n",
    "\n",
    "ax7.legend(loc=9)\n",
    "ax7.set_ylim([0.75,0.80])\n",
    "ax7.set_xlim([0,11])\n",
    "ax7.set_xlabel('n_estimators')\n",
    "ax7.set_ylabel('Recall Scores')\n",
    "ax7.set_title('Non-Functional')\n",
    "\n",
    "x1 = []\n",
    "x2 = []\n",
    "x3 = []\n",
    "\n",
    "for element in range(len(fll_score)):\n",
    "    x1.append(fll_score[element][0])\n",
    "    x2.append(fll_score[element][1])\n",
    "    x3.append(fll_score[element][2])\n",
    "\n",
    "rects1 = ax8.bar(index, x1, bar_width,\n",
    "                 alpha=opacity,\n",
    "                 color='c',\n",
    "                 label='Fl Functional')\n",
    "\n",
    "rects2 = ax9.bar(index, x2, bar_width,\n",
    "                 alpha=opacity,\n",
    "                 color='y',\n",
    "                 label='Fl Needs Repair')\n",
    "\n",
    "rects3 = ax10.bar(index, x3, bar_width,\n",
    "                 alpha=opacity,\n",
    "                 color='r',\n",
    "                 label='Fl Non Functional')\n",
    "\n",
    "ax8.legend(loc=8)\n",
    "ax8.set_ylim([0.8,0.83])\n",
    "ax8.set_xlim([0,11])\n",
    "ax8.set_xlabel('n_estimators')\n",
    "ax8.set_ylabel('Fl Scores')\n",
    "ax8.set_title('Functional')\n",
    "\n",
    "ax9.legend(loc=8)\n",
    "ax9.set_ylim([0.36,0.40])\n",
    "ax9.set_xlim([0,11])\n",
    "ax9.set_xlabel('n_estimators')\n",
    "ax9.set_ylabel('Fl Scores')\n",
    "ax9.set_title('Needs repair')\n",
    "\n",
    "ax10.legend(loc=8)\n",
    "ax10.set_ylim([0.75,0.80])\n",
    "ax10.set_xlim([0,11])\n",
    "ax10.set_xlabel('n_estimators')\n",
    "ax10.set_ylabel('Fl Scores')\n",
    "ax10.set_title('Non Functional')\n",
    "\n",
    "\n",
    "plt.tight_layout()\n",
    "plt.show()\n",
    "\n",
    "\n"
   ]
  },
  {
   "cell_type": "code",
   "execution_count": 45,
   "metadata": {
    "collapsed": false,
    "scrolled": true
   },
   "outputs": [
    {
     "name": "stdout",
     "output_type": "stream",
     "text": [
      "(44550, 14)\n",
      "Train Score: 0.995061728395\n",
      "Test Score: 0.779057239057\n",
      "Feature ranking:\n",
      "1. feature 3 (0.154770) latitude\n",
      "2. feature 2 (0.154396) longitude\n",
      "3. feature 1 (0.080339) gps_height\n",
      "4. feature 70 (0.075335) dry\n",
      "5. feature 6 (0.054576) population\n",
      "6. feature 71 (0.031172) enough\n",
      "7. feature 5 (0.024468) district_code\n",
      "8. feature 90 (0.021932) other\n",
      "9. feature 38 (0.020333) other\n",
      "10. feature 4 (0.019230) region_code\n",
      "11. feature 48 (0.018980) other\n",
      "12. feature 59 (0.017779) never pay\n",
      "13. feature 72 (0.016599) insufficient\n",
      "14. feature 0 (0.015377) amount_tsh\n",
      "15. feature 25 (0.010126) VWC\n",
      "16. feature 31 (0.009989) True\n",
      "17. feature 30 (0.009214) False\n",
      "18. feature 17 (0.008781) True\n",
      "19. feature 69 (0.008713) unknown\n",
      "20. feature 63 (0.007745) unknown\n",
      "21. feature 86 (0.007675) communal standpipe\n",
      "22. feature 66 (0.007240) good\n",
      "23. feature 56 (0.007170) user-group\n",
      "24. feature 16 (0.007167) False\n",
      "25. feature 62 (0.007049) per bucket\n",
      "26. feature 11 (0.006857) Lake Victoria\n",
      "27. feature 73 (0.006853) seasonal\n",
      "28. feature 81 (0.006599) spring\n",
      "29. feature 75 (0.006450) borehole\n",
      "30. feature 7 (0.006212) Internal\n",
      "31. feature 58 (0.006187) monthly\n",
      "32. feature 12 (0.005927) Pangani\n",
      "33. feature 37 (0.005636) nira/tanira\n",
      "34. feature 80 (0.005622) shallow well\n",
      "35. feature 45 (0.005496) gravity\n",
      "36. feature 46 (0.005438) handpump\n",
      "37. feature 10 (0.005428) Lake Tanganyika\n",
      "38. feature 27 (0.005252) WUG\n",
      "39. feature 33 (0.005176) gravity\n",
      "40. feature 88 (0.005039) hand pump\n",
      "41. feature 9 (0.005003) Lake Rukwa\n",
      "42. feature 13 (0.004901) Rufiji\n",
      "43. feature 8 (0.004896) Lake Nyasa\n",
      "44. feature 82 (0.004594) groundwater\n",
      "45. feature 79 (0.004590) river/lake\n",
      "46. feature 15 (0.004553) Wami / Ruvu\n",
      "47. feature 52 (0.004413) commercial\n",
      "48. feature 68 (0.004310) salty\n",
      "49. feature 18 (0.004280) Company\n",
      "50. feature 29 (0.004139) Water authority\n",
      "51. feature 57 (0.004070) annually\n",
      "52. feature 78 (0.003991) rainwater harvesting\n",
      "53. feature 14 (0.003947) Ruvuma / Southern Coast\n",
      "54. feature 60 (0.003619) on failure\n",
      "55. feature 43 (0.003594) swn 80\n",
      "56. feature 83 (0.003456) surface\n",
      "57. feature 36 (0.003441) mono\n",
      "58. feature 28 (0.003283) Water Board\n",
      "59. feature 42 (0.002859) submersible\n",
      "60. feature 34 (0.002819) india mark ii\n",
      "61. feature 26 (0.002813) WUA\n",
      "62. feature 50 (0.002767) submersible\n",
      "63. feature 32 (0.002424) afridev\n",
      "64. feature 47 (0.002192) motorpump\n",
      "65. feature 74 (0.002117) unknown\n",
      "66. feature 54 (0.001944) parastatal\n",
      "67. feature 22 (0.001865) Private operator\n",
      "68. feature 21 (0.001820) Parastatal\n",
      "69. feature 89 (0.001665) improved spring\n",
      "70. feature 61 (0.001654) other\n",
      "71. feature 76 (0.001570) dam\n",
      "72. feature 53 (0.001423) other\n",
      "73. feature 67 (0.001384) milky\n",
      "74. feature 64 (0.001304) colored\n",
      "75. feature 39 (0.001115) other handpump\n",
      "76. feature 20 (0.001110) Other\n",
      "77. feature 55 (0.000991) unknown\n",
      "78. feature 49 (0.000820) rope pump\n",
      "79. feature 65 (0.000661) fluoride\n",
      "80. feature 84 (0.000504) unknown\n",
      "81. feature 77 (0.000480) other\n",
      "82. feature 41 (0.000446) rope pump\n",
      "83. feature 85 (0.000358) cattle trough\n",
      "84. feature 35 (0.000356) india mark iii\n",
      "85. feature 24 (0.000287) Trust\n",
      "86. feature 44 (0.000286) wind-powered\n",
      "87. feature 40 (0.000194) other motorpump\n",
      "88. feature 23 (0.000189) SWC\n",
      "89. feature 51 (0.000170) wind-powered\n",
      "90. feature 87 (0.000007) dam\n",
      "91. feature 19 (0.000000) None\n",
      "X_new_t 44550\n",
      "(44550, 14)\n"
     ]
    },
    {
     "name": "stderr",
     "output_type": "stream",
     "text": [
      "//anaconda/lib/python2.7/site-packages/sklearn/base.py:436: DataConversionWarning: A column-vector y was passed when a 1d array was expected. Please change the shape of y to (n_samples,), for example using ravel().\n",
      "  return self.fit(X, y, **fit_params).transform(X)\n"
     ]
    }
   ],
   "source": [
    "import numpy as np\n",
    "\n",
    "'''\n",
    "n_estimators increase start with 20, default is 10\n",
    "\n",
    "'''\n",
    "num_estimators = [10,11,12,13,14,15,16,17,18,19,20]\n",
    "train_res = []\n",
    "test_res\n",
    "for estim in num_estimators:\n",
    "    clf = ExtraTreesClassifier(num_estimators=estim)\n",
    "    X_new_t = clf.fit_transform(X, y)\n",
    "    result_train = clf.score(X,y)\n",
    "    result_test = clf.score(X_pumps_test,y_pumps_test)\n",
    "    print \"Number of Estimators: \",estim\n",
    "    print \"Train Score:\",result_train\n",
    "    print \"Test Score:\",result_test\n",
    "    \n",
    "\n",
    "importances = clf.feature_importances_\n",
    "\n",
    "indices = np.argsort(importances)[::-1]\n",
    "\n",
    "# Print the feature ranking\n",
    "print(\"Feature ranking:\")\n",
    "\n",
    "for f in range(len(indices)):\n",
    "    print(\"%d. feature %d (%f) %s\" % (f + 1, indices[f], importances[indices[f]],X.columns.values[indices[f]]))\n",
    "\n",
    "print \"X_new_t\",len(X_new_t)\n",
    "\n",
    "print X_new_t.shape\n"
   ]
  },
  {
   "cell_type": "code",
   "execution_count": 46,
   "metadata": {
    "collapsed": false,
    "scrolled": true
   },
   "outputs": [],
   "source": [
    "import matplotlib.pyplot as plt"
   ]
  },
  {
   "cell_type": "code",
   "execution_count": 280,
   "metadata": {
    "collapsed": false
   },
   "outputs": [
    {
     "name": "stdout",
     "output_type": "stream",
     "text": [
      "0.778181818182\n"
     ]
    }
   ],
   "source": [
    "'''from sklearn.tree import DecisionTreeClassifier\n",
    "clf2222 = DecisionTreeClassifier()\n",
    "X_new = clf2222.fit_transform(X, y)\n",
    "result_train = clf2222.score(X,y)\n",
    "print result_test\n",
    "\n",
    "with open(\"export2.dot\",\"wb\") as f:\n",
    "    f = export_graphviz(clf2222,out_file=f,feature_names=indices)\n",
    "'''"
   ]
  },
  {
   "cell_type": "code",
   "execution_count": 287,
   "metadata": {
    "collapsed": false
   },
   "outputs": [
    {
     "data": {
      "text/plain": [
       "True"
      ]
     },
     "execution_count": 287,
     "metadata": {},
     "output_type": "execute_result"
    }
   ],
   "source": [
    "'''from sklearn import tree\n",
    "import StringIO\n",
    "import pydot\n",
    "from sklearn.externals.six import StringIO  \n",
    "\n",
    "clf2222 = DecisionTreeClassifier()\n",
    "N = clf2222.fit_transform(X,y)\n",
    "\n",
    "X_333 = X[['latitude','longitude','gps_height','dry','population']]\n",
    "clf333 = DecisionTreeClassifier()\n",
    "transform = clf333.fit_transform(X_333,y)\n",
    "\n",
    "dot_data = StringIO()\n",
    "tree.export_graphviz(clf333, out_file=dot_data)\n",
    "graph = pydot.graph_from_dot_data(dot_data.getvalue())\n",
    "graph.write_pdf(\"DTF.pdf\")'''"
   ]
  },
  {
   "cell_type": "code",
   "execution_count": 264,
   "metadata": {
    "collapsed": false
   },
   "outputs": [],
   "source": [
    "'''\n",
    "with open(\"export1.dot\",\"wb\") as f:\n",
    "    f = export_graphviz(clf,out_file=f,feature_names=indices)\n",
    "'''    "
   ]
  },
  {
   "cell_type": "code",
   "execution_count": 47,
   "metadata": {
    "collapsed": false,
    "scrolled": true
   },
   "outputs": [
    {
     "data": {
      "image/png": "[encoded data removed]",
      "text/plain": [
       "<matplotlib.figure.Figure at 0x10bc39e50>"
      ]
     },
     "metadata": {},
     "output_type": "display_data"
    },
    {
     "name": "stdout",
     "output_type": "stream",
     "text": [
      "['amount_tsh' 'gps_height' 'longitude' 'latitude' 'region_code'\n",
      " 'district_code' 'population' 'Internal' 'Lake Nyasa' 'Lake Rukwa'\n",
      " 'Lake Tanganyika' 'Lake Victoria' 'Pangani' 'Rufiji'\n",
      " 'Ruvuma / Southern Coast' 'Wami / Ruvu' 'False' 'True' 'Company' 'None'\n",
      " 'Other' 'Parastatal' 'Private operator' 'SWC' 'Trust' 'VWC' 'WUA' 'WUG'\n",
      " 'Water Board' 'Water authority' False True 'afridev' 'gravity'\n",
      " 'india mark ii' 'india mark iii' 'mono' 'nira/tanira' 'other'\n",
      " 'other handpump' 'other motorpump' 'rope pump' 'submersible' 'swn 80'\n",
      " 'wind-powered' 'gravity' 'handpump' 'motorpump' 'other' 'rope pump'\n",
      " 'submersible' 'wind-powered' 'commercial' 'other' 'parastatal' 'unknown'\n",
      " 'user-group' 'annually' 'monthly' 'never pay' 'on failure' 'other'\n",
      " 'per bucket' 'unknown' 'colored' 'fluoride' 'good' 'milky' 'salty'\n",
      " 'unknown' 'dry' 'enough' 'insufficient' 'seasonal' 'unknown' 'borehole'\n",
      " 'dam' 'other' 'rainwater harvesting' 'river/lake' 'shallow well' 'spring'\n",
      " 'groundwater' 'surface' 'unknown' 'cattle trough' 'communal standpipe'\n",
      " 'dam' 'hand pump' 'improved spring' 'other']\n",
      "0  -  latitude\n",
      "1  -  longitude\n",
      "2  -  gps_height\n",
      "3  -  dry\n",
      "4  -  population\n",
      "5  -  enough\n",
      "6  -  district_code\n",
      "7  -  other\n",
      "8  -  other\n",
      "9  -  region_code\n",
      "10  -  other\n",
      "11  -  never pay\n",
      "12  -  insufficient\n",
      "13  -  amount_tsh\n",
      "14  -  VWC\n",
      "15  -  True\n",
      "16  -  False\n",
      "17  -  True\n",
      "18  -  unknown\n",
      "19  -  unknown\n",
      "20  -  communal standpipe\n",
      "21  -  good\n",
      "22  -  user-group\n",
      "23  -  False\n",
      "24  -  per bucket\n",
      "25  -  Lake Victoria\n",
      "26  -  seasonal\n",
      "27  -  spring\n",
      "28  -  borehole\n",
      "29  -  Internal\n",
      "30  -  monthly\n",
      "31  -  Pangani\n",
      "32  -  nira/tanira\n",
      "33  -  shallow well\n",
      "34  -  gravity\n",
      "35  -  handpump\n",
      "36  -  Lake Tanganyika\n",
      "37  -  WUG\n",
      "38  -  gravity\n",
      "39  -  hand pump\n",
      "40  -  Lake Rukwa\n",
      "41  -  Rufiji\n",
      "42  -  Lake Nyasa\n",
      "43  -  groundwater\n",
      "44  -  river/lake\n",
      "45  -  Wami / Ruvu\n",
      "46  -  commercial\n",
      "47  -  salty\n",
      "48  -  Company\n",
      "49  -  Water authority\n",
      "50  -  annually\n",
      "51  -  rainwater harvesting\n",
      "52  -  Ruvuma / Southern Coast\n",
      "53  -  on failure\n",
      "54  -  swn 80\n",
      "55  -  surface\n",
      "56  -  mono\n",
      "57  -  Water Board\n",
      "58  -  submersible\n",
      "59  -  india mark ii\n",
      "60  -  WUA\n",
      "61  -  submersible\n",
      "62  -  afridev\n",
      "63  -  motorpump\n",
      "64  -  unknown\n",
      "65  -  parastatal\n",
      "66  -  Private operator\n",
      "67  -  Parastatal\n",
      "68  -  improved spring\n",
      "69  -  other\n",
      "70  -  dam\n",
      "71  -  other\n",
      "72  -  milky\n",
      "73  -  colored\n",
      "74  -  other handpump\n",
      "75  -  Other\n",
      "76  -  unknown\n",
      "77  -  rope pump\n",
      "78  -  fluoride\n",
      "79  -  unknown\n",
      "80  -  other\n",
      "81  -  rope pump\n",
      "82  -  cattle trough\n",
      "83  -  india mark iii\n",
      "84  -  Trust\n",
      "85  -  wind-powered\n",
      "86  -  other motorpump\n",
      "87  -  SWC\n",
      "88  -  wind-powered\n",
      "89  -  dam\n",
      "90  -  None\n"
     ]
    }
   ],
   "source": [
    "# Plot the feature importances of the forest\n",
    "\n",
    "plt.figure(figsize=(14,8))\n",
    "plt.title(\"Feature importances\")\n",
    "plt.bar(range(len(indices)), importances[indices], color=\"r\", align=\"center\")\n",
    "plt.xticks(range(len(indices)), indices, rotation='vertical')\n",
    "plt.xlim([-1, 10])\n",
    "plt.show()\n",
    "\n",
    "print X.columns.values\n",
    "for a in range(len(X.columns.values)):\n",
    "    print a,\" - \", X.columns.values[indices[a]]\n",
    "\n",
    "\n",
    "\n"
   ]
  },
  {
   "cell_type": "code",
   "execution_count": 224,
   "metadata": {
    "collapsed": false
   },
   "outputs": [
    {
     "name": "stdout",
     "output_type": "stream",
     "text": [
      "        latitude  longitude  gps_height  dry  population\n",
      "37900  -4.053327  33.104711           0    0           0\n",
      "40527  -8.954532  32.569985           0    0           0\n",
      "26058  -8.439998  31.736616        1804    0         200\n",
      "6969   -9.123071  34.774402        1821    0         108\n",
      "41018 -10.923966  36.092962         767    0         400\n"
     ]
    }
   ],
   "source": [
    "'''X_2 = X[['latitude','longitude','gps_height','dry','population']]\n",
    "\n",
    "print X_2.head()'''"
   ]
  },
  {
   "cell_type": "code",
   "execution_count": 54,
   "metadata": {
    "collapsed": false,
    "scrolled": true
   },
   "outputs": [
    {
     "name": "stdout",
     "output_type": "stream",
     "text": [
      "       amount_tsh date_recorded                  funder  gps_height  \\\n",
      "id                                                                    \n",
      "50785           0    2013-02-04                    Dmdd        1996   \n",
      "51630           0    2013-02-04  Government Of Tanzania        1569   \n",
      "17168           0    2013-02-01                     NaN        1567   \n",
      "45559           0    2013-01-22              Finn Water         267   \n",
      "49871         500    2013-03-27                  Bruder        1260   \n",
      "\n",
      "        installer  longitude   latitude                 wpt_name  num_private  \\\n",
      "id                                                                              \n",
      "50785        DMDD  35.290799  -4.059696  Dinamu Secondary School            0   \n",
      "51630         DWE  36.656709  -3.309214                  Kimnyak            0   \n",
      "17168         NaN  34.767863  -5.004344           Puma Secondary            0   \n",
      "45559  FINN WATER  38.058046  -9.418672           Kwa Mzee Pange            0   \n",
      "49871      BRUDER  35.006123 -10.950412          Kwa Mzee Turuka            0   \n",
      "\n",
      "                         basin          ...          payment_type  \\\n",
      "id                                      ...                         \n",
      "50785                 Internal          ...             never pay   \n",
      "51630                  Pangani          ...             never pay   \n",
      "17168                 Internal          ...             never pay   \n",
      "45559  Ruvuma / Southern Coast          ...               unknown   \n",
      "49871  Ruvuma / Southern Coast          ...               monthly   \n",
      "\n",
      "      water_quality  quality_group      quantity quantity_group  \\\n",
      "id                                                                \n",
      "50785          soft           good      seasonal       seasonal   \n",
      "51630          soft           good  insufficient   insufficient   \n",
      "17168          soft           good  insufficient   insufficient   \n",
      "45559          soft           good           dry            dry   \n",
      "49871          soft           good        enough         enough   \n",
      "\n",
      "                     source           source_type source_class  \\\n",
      "id                                                               \n",
      "50785  rainwater harvesting  rainwater harvesting      surface   \n",
      "51630                spring                spring  groundwater   \n",
      "17168  rainwater harvesting  rainwater harvesting      surface   \n",
      "45559          shallow well          shallow well  groundwater   \n",
      "49871                spring                spring  groundwater   \n",
      "\n",
      "          waterpoint_type waterpoint_type_group  \n",
      "id                                               \n",
      "50785               other                 other  \n",
      "51630  communal standpipe    communal standpipe  \n",
      "17168               other                 other  \n",
      "45559               other                 other  \n",
      "49871  communal standpipe    communal standpipe  \n",
      "\n",
      "[5 rows x 39 columns]\n"
     ]
    },
    {
     "ename": "KeyError",
     "evalue": "\"['id'] not in index\"",
     "output_type": "error",
     "traceback": [
      "\u001b[0;31m---------------------------------------------------------------------------\u001b[0m",
      "\u001b[0;31mKeyError\u001b[0m                                  Traceback (most recent call last)",
      "\u001b[0;32m<ipython-input-54-123865d30b7f>\u001b[0m in \u001b[0;36m<module>\u001b[0;34m()\u001b[0m\n\u001b[1;32m      2\u001b[0m \u001b[0;32mprint\u001b[0m \u001b[0mtest\u001b[0m\u001b[0;34m.\u001b[0m\u001b[0mhead\u001b[0m\u001b[0;34m(\u001b[0m\u001b[0;34m)\u001b[0m\u001b[0;34m\u001b[0m\u001b[0m\n\u001b[1;32m      3\u001b[0m \u001b[0;34m\u001b[0m\u001b[0m\n\u001b[0;32m----> 4\u001b[0;31m \u001b[0mtest\u001b[0m \u001b[0;34m=\u001b[0m \u001b[0mtest\u001b[0m\u001b[0;34m[\u001b[0m\u001b[0;34m[\u001b[0m\u001b[0;34m'id'\u001b[0m\u001b[0;34m,\u001b[0m\u001b[0;34m'amount_tsh'\u001b[0m\u001b[0;34m,\u001b[0m\u001b[0;34m'gps_height'\u001b[0m\u001b[0;34m,\u001b[0m\u001b[0;34m'longitude'\u001b[0m\u001b[0;34m,\u001b[0m\u001b[0;34m'latitude'\u001b[0m\u001b[0;34m,\u001b[0m\u001b[0;34m'region_code'\u001b[0m\u001b[0;34m,\u001b[0m\u001b[0;34m'district_code'\u001b[0m\u001b[0;34m,\u001b[0m            \u001b[0;34m'population'\u001b[0m\u001b[0;34m,\u001b[0m\u001b[0;34m'basin'\u001b[0m\u001b[0;34m,\u001b[0m\u001b[0;34m'public_meeting'\u001b[0m\u001b[0;34m,\u001b[0m\u001b[0;34m'scheme_management'\u001b[0m\u001b[0;34m,\u001b[0m\u001b[0;34m'permit'\u001b[0m\u001b[0;34m,\u001b[0m            \u001b[0;34m'extraction_type_group'\u001b[0m\u001b[0;34m,\u001b[0m\u001b[0;34m'extraction_type_class'\u001b[0m\u001b[0;34m,\u001b[0m\u001b[0;34m'management_group'\u001b[0m\u001b[0;34m,\u001b[0m            \u001b[0;34m'payment_type'\u001b[0m\u001b[0;34m,\u001b[0m\u001b[0;34m'quality_group'\u001b[0m\u001b[0;34m,\u001b[0m\u001b[0;34m'quantity_group'\u001b[0m\u001b[0;34m,\u001b[0m            \u001b[0;34m'source_type'\u001b[0m\u001b[0;34m,\u001b[0m\u001b[0;34m'source_class'\u001b[0m\u001b[0;34m,\u001b[0m\u001b[0;34m'waterpoint_type_group'\u001b[0m\u001b[0;34m]\u001b[0m\u001b[0;34m]\u001b[0m\u001b[0;34m\u001b[0m\u001b[0m\n\u001b[0m\u001b[1;32m      5\u001b[0m \u001b[0;34m\u001b[0m\u001b[0m\n\u001b[1;32m      6\u001b[0m \u001b[0;32mprint\u001b[0m \u001b[0mtest\u001b[0m\u001b[0;34m.\u001b[0m\u001b[0mhead\u001b[0m\u001b[0;34m(\u001b[0m\u001b[0;34m)\u001b[0m\u001b[0;34m\u001b[0m\u001b[0m\n",
      "\u001b[0;32m//anaconda/lib/python2.7/site-packages/pandas/core/frame.pyc\u001b[0m in \u001b[0;36m__getitem__\u001b[0;34m(self, key)\u001b[0m\n\u001b[1;32m   1789\u001b[0m         \u001b[0;32mif\u001b[0m \u001b[0misinstance\u001b[0m\u001b[0;34m(\u001b[0m\u001b[0mkey\u001b[0m\u001b[0;34m,\u001b[0m \u001b[0;34m(\u001b[0m\u001b[0mSeries\u001b[0m\u001b[0;34m,\u001b[0m \u001b[0mnp\u001b[0m\u001b[0;34m.\u001b[0m\u001b[0mndarray\u001b[0m\u001b[0;34m,\u001b[0m \u001b[0mIndex\u001b[0m\u001b[0;34m,\u001b[0m \u001b[0mlist\u001b[0m\u001b[0;34m)\u001b[0m\u001b[0;34m)\u001b[0m\u001b[0;34m:\u001b[0m\u001b[0;34m\u001b[0m\u001b[0m\n\u001b[1;32m   1790\u001b[0m             \u001b[0;31m# either boolean or fancy integer index\u001b[0m\u001b[0;34m\u001b[0m\u001b[0;34m\u001b[0m\u001b[0m\n\u001b[0;32m-> 1791\u001b[0;31m             \u001b[0;32mreturn\u001b[0m \u001b[0mself\u001b[0m\u001b[0;34m.\u001b[0m\u001b[0m_getitem_array\u001b[0m\u001b[0;34m(\u001b[0m\u001b[0mkey\u001b[0m\u001b[0;34m)\u001b[0m\u001b[0;34m\u001b[0m\u001b[0m\n\u001b[0m\u001b[1;32m   1792\u001b[0m         \u001b[0;32melif\u001b[0m \u001b[0misinstance\u001b[0m\u001b[0;34m(\u001b[0m\u001b[0mkey\u001b[0m\u001b[0;34m,\u001b[0m \u001b[0mDataFrame\u001b[0m\u001b[0;34m)\u001b[0m\u001b[0;34m:\u001b[0m\u001b[0;34m\u001b[0m\u001b[0m\n\u001b[1;32m   1793\u001b[0m             \u001b[0;32mreturn\u001b[0m \u001b[0mself\u001b[0m\u001b[0;34m.\u001b[0m\u001b[0m_getitem_frame\u001b[0m\u001b[0;34m(\u001b[0m\u001b[0mkey\u001b[0m\u001b[0;34m)\u001b[0m\u001b[0;34m\u001b[0m\u001b[0m\n",
      "\u001b[0;32m//anaconda/lib/python2.7/site-packages/pandas/core/frame.pyc\u001b[0m in \u001b[0;36m_getitem_array\u001b[0;34m(self, key)\u001b[0m\n\u001b[1;32m   1833\u001b[0m             \u001b[0;32mreturn\u001b[0m \u001b[0mself\u001b[0m\u001b[0;34m.\u001b[0m\u001b[0mtake\u001b[0m\u001b[0;34m(\u001b[0m\u001b[0mindexer\u001b[0m\u001b[0;34m,\u001b[0m \u001b[0maxis\u001b[0m\u001b[0;34m=\u001b[0m\u001b[0;36m0\u001b[0m\u001b[0;34m,\u001b[0m \u001b[0mconvert\u001b[0m\u001b[0;34m=\u001b[0m\u001b[0mFalse\u001b[0m\u001b[0;34m)\u001b[0m\u001b[0;34m\u001b[0m\u001b[0m\n\u001b[1;32m   1834\u001b[0m         \u001b[0;32melse\u001b[0m\u001b[0;34m:\u001b[0m\u001b[0;34m\u001b[0m\u001b[0m\n\u001b[0;32m-> 1835\u001b[0;31m             \u001b[0mindexer\u001b[0m \u001b[0;34m=\u001b[0m \u001b[0mself\u001b[0m\u001b[0;34m.\u001b[0m\u001b[0mix\u001b[0m\u001b[0;34m.\u001b[0m\u001b[0m_convert_to_indexer\u001b[0m\u001b[0;34m(\u001b[0m\u001b[0mkey\u001b[0m\u001b[0;34m,\u001b[0m \u001b[0maxis\u001b[0m\u001b[0;34m=\u001b[0m\u001b[0;36m1\u001b[0m\u001b[0;34m)\u001b[0m\u001b[0;34m\u001b[0m\u001b[0m\n\u001b[0m\u001b[1;32m   1836\u001b[0m             \u001b[0;32mreturn\u001b[0m \u001b[0mself\u001b[0m\u001b[0;34m.\u001b[0m\u001b[0mtake\u001b[0m\u001b[0;34m(\u001b[0m\u001b[0mindexer\u001b[0m\u001b[0;34m,\u001b[0m \u001b[0maxis\u001b[0m\u001b[0;34m=\u001b[0m\u001b[0;36m1\u001b[0m\u001b[0;34m,\u001b[0m \u001b[0mconvert\u001b[0m\u001b[0;34m=\u001b[0m\u001b[0mTrue\u001b[0m\u001b[0;34m)\u001b[0m\u001b[0;34m\u001b[0m\u001b[0m\n\u001b[1;32m   1837\u001b[0m \u001b[0;34m\u001b[0m\u001b[0m\n",
      "\u001b[0;32m//anaconda/lib/python2.7/site-packages/pandas/core/indexing.pyc\u001b[0m in \u001b[0;36m_convert_to_indexer\u001b[0;34m(self, obj, axis, is_setter)\u001b[0m\n\u001b[1;32m   1110\u001b[0m                 \u001b[0mmask\u001b[0m \u001b[0;34m=\u001b[0m \u001b[0mcheck\u001b[0m \u001b[0;34m==\u001b[0m \u001b[0;34m-\u001b[0m\u001b[0;36m1\u001b[0m\u001b[0;34m\u001b[0m\u001b[0m\n\u001b[1;32m   1111\u001b[0m                 \u001b[0;32mif\u001b[0m \u001b[0mmask\u001b[0m\u001b[0;34m.\u001b[0m\u001b[0many\u001b[0m\u001b[0;34m(\u001b[0m\u001b[0;34m)\u001b[0m\u001b[0;34m:\u001b[0m\u001b[0;34m\u001b[0m\u001b[0m\n\u001b[0;32m-> 1112\u001b[0;31m                     \u001b[0;32mraise\u001b[0m \u001b[0mKeyError\u001b[0m\u001b[0;34m(\u001b[0m\u001b[0;34m'%s not in index'\u001b[0m \u001b[0;34m%\u001b[0m \u001b[0mobjarr\u001b[0m\u001b[0;34m[\u001b[0m\u001b[0mmask\u001b[0m\u001b[0;34m]\u001b[0m\u001b[0;34m)\u001b[0m\u001b[0;34m\u001b[0m\u001b[0m\n\u001b[0m\u001b[1;32m   1113\u001b[0m \u001b[0;34m\u001b[0m\u001b[0m\n\u001b[1;32m   1114\u001b[0m                 \u001b[0;32mreturn\u001b[0m \u001b[0m_values_from_object\u001b[0m\u001b[0;34m(\u001b[0m\u001b[0mindexer\u001b[0m\u001b[0;34m)\u001b[0m\u001b[0;34m\u001b[0m\u001b[0m\n",
      "\u001b[0;31mKeyError\u001b[0m: \"['id'] not in index\""
     ]
    }
   ],
   "source": [
    "test = pd.read_csv('/Users/martinrasumoff/Desktop/metis/mcnulty/Pumpitup/test.csv', index_col='id')\n",
    "print test.head()\n",
    "\n",
    "test = test[['id','amount_tsh','gps_height','longitude','latitude','region_code','district_code',\\\n",
    "            'population','basin','public_meeting','scheme_management','permit',\\\n",
    "            'extraction_type_group','extraction_type_class','management_group',\\\n",
    "            'payment_type','quality_group','quantity_group',\\\n",
    "            'source_type','source_class','waterpoint_type_group']]\n",
    "\n",
    "print test.head()"
   ]
  },
  {
   "cell_type": "code",
   "execution_count": 55,
   "metadata": {
    "collapsed": false
   },
   "outputs": [
    {
     "name": "stdout",
     "output_type": "stream",
     "text": [
      "basin: (14850, 9)\n",
      "Public Meeting: (14850, 2)\n",
      "Scheme Management: (14850, 11)\n",
      "permit: (14850, 2)\n",
      "Data Extraction: (14850, 13)\n",
      "Data Extr Type: (14850, 7)\n",
      "Management Group: (14850, 5)\n",
      "Payment Type: (14850, 7)\n",
      "Quality Group: (14850, 6)\n",
      "Quantity Group: (14850, 5)\n",
      "Source Type: (14850, 7)\n",
      "Source Class: (14850, 3)\n",
      "Waterpoint Type: (14850, 6)\n"
     ]
    }
   ],
   "source": [
    "tf_data_basin = pd.get_dummies(test['basin'])\n",
    "print 'basin:',tf_data_basin.shape\n",
    "tf_data_public_meeting = pd.get_dummies(test['public_meeting'])\n",
    "print 'Public Meeting:',tf_data_public_meeting.shape\n",
    "tf_data_scheme_mgmnt = pd.get_dummies(test['scheme_management'])\n",
    "print 'Scheme Management:',tf_data_scheme_mgmnt.shape\n",
    "tf_data_permit = pd.get_dummies(test['permit'])\n",
    "print 'permit:',tf_data_permit.shape\n",
    "tf_data_extraction_type_group = pd.get_dummies(test['extraction_type_group'])\n",
    "print 'Data Extraction:',tf_data_extraction_type_group.shape\n",
    "tf_data_extraction_type_class = pd.get_dummies(test['extraction_type_class'])\n",
    "print 'Data Extr Type:',tf_data_extraction_type_class.shape\n",
    "tf_data_management_group = pd.get_dummies(test['management_group'])\n",
    "print 'Management Group:',tf_data_management_group.shape\n",
    "tf_data_payment_type = pd.get_dummies(test['payment_type'])\n",
    "print 'Payment Type:',tf_data_payment_type.shape\n",
    "tf_data_quality_group = pd.get_dummies(test['quality_group'])\n",
    "print 'Quality Group:',tf_data_quality_group.shape\n",
    "tf_data_quantity_group = pd.get_dummies(test['quantity_group'])\n",
    "print 'Quantity Group:',tf_data_quantity_group.shape\n",
    "tf_data_source_type = pd.get_dummies(test['source_type'])\n",
    "print 'Source Type:',tf_data_source_type.shape\n",
    "tf_data_source_class = pd.get_dummies(test['source_class'])\n",
    "print 'Source Class:',tf_data_source_class.shape\n",
    "tf_data_waterpoint_type_group = pd.get_dummies(test['waterpoint_type_group'])\n",
    "print 'Waterpoint Type:',tf_data_waterpoint_type_group.shape"
   ]
  },
  {
   "cell_type": "code",
   "execution_count": 56,
   "metadata": {
    "collapsed": false
   },
   "outputs": [
    {
     "name": "stdout",
     "output_type": "stream",
     "text": [
      "(14850, 7)\n",
      "(14850, 90)\n",
      "<class 'pandas.core.frame.DataFrame'>\n"
     ]
    }
   ],
   "source": [
    "tf_data = test[['amount_tsh','gps_height','longitude','latitude','region_code','district_code','population']]\n",
    "\n",
    "tf_coded = pd.concat([tf_data,tf_data_basin,tf_data_public_meeting,tf_data_scheme_mgmnt,tf_data_permit,\\\n",
    "                      tf_data_extraction_type_group,tf_data_extraction_type_class,tf_data_management_group,\\\n",
    "                      tf_data_payment_type,tf_data_quality_group,tf_data_quantity_group,\\\n",
    "                      tf_data_source_type,tf_data_source_class,tf_data_waterpoint_type_group],axis=1)\n",
    "\n",
    "print tf_data.shape\n",
    "print tf_coded.shape\n",
    "print type(tf_coded)"
   ]
  },
  {
   "cell_type": "code",
   "execution_count": null,
   "metadata": {
    "collapsed": true
   },
   "outputs": [],
   "source": [
    "'''1. feature 3 (0.154770) latitude\n",
    "2. feature 2 (0.154396) longitude\n",
    "3. feature 1 (0.080339) gps_height\n",
    "4. feature 70 (0.075335) dry\n",
    "5. feature 6 (0.054576) population\n",
    "6. feature 71 (0.031172) enough\n",
    "7. feature 5 (0.024468) district_code\n",
    "8. feature 90 (0.021932) other\n",
    "9. feature 38 (0.020333) other\n",
    "10. feature 4 (0.019230) region_code\n",
    "11. feature 48 (0.018980) other\n",
    "12. feature 59 (0.017779) never pay\n",
    "13. feature 72 (0.016599) insufficient\n",
    "14. feature 0 (0.015377) amount_tsh'''"
   ]
  },
  {
   "cell_type": "code",
   "execution_count": 58,
   "metadata": {
    "collapsed": false,
    "scrolled": true
   },
   "outputs": [
    {
     "name": "stdout",
     "output_type": "stream",
     "text": [
      "       amount_tsh  gps_height  longitude   latitude  region_code  \\\n",
      "id                                                                 \n",
      "39307           0          34  38.852669  -6.582841            6   \n",
      "18990        1000           0  37.451633  -5.350428            4   \n",
      "28749           0        1476  34.739804  -4.585587           13   \n",
      "33492           0         998  35.432732 -10.584159           10   \n",
      "68707           0         481  34.765054 -11.226012           10   \n",
      "\n",
      "       district_code  population  Internal  Lake Nyasa  Lake Rukwa  ...    \\\n",
      "id                                                                  ...     \n",
      "39307              1          20         0           0           0  ...     \n",
      "18990              7        2960         0           0           0  ...     \n",
      "28749              2         200         1           0           0  ...     \n",
      "33492              2         150         0           1           0  ...     \n",
      "68707              3          40         0           1           0  ...     \n",
      "\n",
      "       spring  groundwater  surface  unknown  cattle trough  \\\n",
      "id                                                            \n",
      "39307       0            0        1        0              0   \n",
      "18990       0            1        0        0              0   \n",
      "28749       0            0        1        0              0   \n",
      "33492       0            0        1        0              0   \n",
      "68707       1            1        0        0              0   \n",
      "\n",
      "       communal standpipe  dam  hand pump  improved spring  other  \n",
      "id                                                                 \n",
      "39307                   1    0          0                0      0  \n",
      "18990                   0    0          1                0      0  \n",
      "28749                   1    0          0                0      0  \n",
      "33492                   1    0          0                0      0  \n",
      "68707                   1    0          0                0      0  \n",
      "\n",
      "[5 rows x 90 columns]\n",
      "       amount_tsh date_recorded                  funder  gps_height  \\\n",
      "id                                                                    \n",
      "39307           0    2011-02-24                  Danida          34   \n",
      "18990        1000    2011-03-21                    Hiap           0   \n",
      "28749           0    2013-03-04                     NaN        1476   \n",
      "33492           0    2013-02-18                 Germany         998   \n",
      "68707           0    2013-02-13  Government Of Tanzania         481   \n",
      "\n",
      "        installer  longitude   latitude          wpt_name  num_private  \\\n",
      "id                                                                       \n",
      "39307          Da  38.852669  -6.582841         Kwambwezi            0   \n",
      "18990        HIAP  37.451633  -5.350428  Bonde La Mkondoa            0   \n",
      "28749         NaN  34.739804  -4.585587           Bwawani            0   \n",
      "33492         DWE  35.432732 -10.584159          Kwa John            0   \n",
      "68707  Government  34.765054 -11.226012  Kwa Mzee Chagala            0   \n",
      "\n",
      "             basin          ...          payment_type water_quality  \\\n",
      "id                          ...                                       \n",
      "39307  Wami / Ruvu          ...             never pay          soft   \n",
      "18990      Pangani          ...              annually         salty   \n",
      "28749     Internal          ...             never pay          soft   \n",
      "33492   Lake Nyasa          ...             never pay          soft   \n",
      "68707   Lake Nyasa          ...             never pay          soft   \n",
      "\n",
      "       quality_group      quantity quantity_group        source   source_type  \\\n",
      "id                                                                              \n",
      "39307           good        enough         enough         river    river/lake   \n",
      "18990          salty  insufficient   insufficient  shallow well  shallow well   \n",
      "28749           good  insufficient   insufficient           dam           dam   \n",
      "33492           good  insufficient   insufficient         river    river/lake   \n",
      "68707           good           dry            dry        spring        spring   \n",
      "\n",
      "      source_class     waterpoint_type waterpoint_type_group  \n",
      "id                                                            \n",
      "39307      surface  communal standpipe    communal standpipe  \n",
      "18990  groundwater           hand pump             hand pump  \n",
      "28749      surface  communal standpipe    communal standpipe  \n",
      "33492      surface  communal standpipe    communal standpipe  \n",
      "68707  groundwater  communal standpipe    communal standpipe  \n",
      "\n",
      "[5 rows x 39 columns]\n"
     ]
    }
   ],
   "source": [
    "print tf_coded.tail()\n",
    "print test.tail()"
   ]
  },
  {
   "cell_type": "code",
   "execution_count": 59,
   "metadata": {
    "collapsed": false,
    "scrolled": false
   },
   "outputs": [
    {
     "name": "stdout",
     "output_type": "stream",
     "text": [
      "        latitude  longitude  gps_height  dry  population  enough  \\\n",
      "id                                                                 \n",
      "50785  -4.059696  35.290799        1996    0         321       0   \n",
      "51630  -3.309214  36.656709        1569    0         300       0   \n",
      "17168  -5.004344  34.767863        1567    0         500       0   \n",
      "45559  -9.418672  38.058046         267    1         250       0   \n",
      "49871 -10.950412  35.006123        1260    0          60       1   \n",
      "\n",
      "       district_code  region_code  never pay  insufficient  \n",
      "id                                                          \n",
      "50785              3           21          1             0  \n",
      "51630              2            2          1             1  \n",
      "17168              2           13          1             1  \n",
      "45559             43           80          0             0  \n",
      "49871              3           10          0             0  \n",
      "        latitude  longitude  gps_height  dry  population  enough  \\\n",
      "id                                                                 \n",
      "39307  -6.582841  38.852669          34    0          20       1   \n",
      "18990  -5.350428  37.451633           0    0        2960       0   \n",
      "28749  -4.585587  34.739804        1476    0         200       0   \n",
      "33492 -10.584159  35.432732         998    0         150       0   \n",
      "68707 -11.226012  34.765054         481    1          40       0   \n",
      "\n",
      "       district_code  region_code  never pay  insufficient  \n",
      "id                                                          \n",
      "39307              1            6          1             0  \n",
      "18990              7            4          0             1  \n",
      "28749              2           13          1             1  \n",
      "33492              2           10          1             1  \n",
      "68707              3           10          1             0  \n"
     ]
    }
   ],
   "source": [
    "'''1. feature 3 (0.154770) latitude\n",
    "2. feature 2 (0.154396) longitude\n",
    "3. feature 1 (0.080339) gps_height\n",
    "4. feature 70 (0.075335) dry\n",
    "5. feature 6 (0.054576) population\n",
    "6. feature 71 (0.031172) enough\n",
    "7. feature 5 (0.024468) district_code\n",
    "8. feature 90 (0.021932) other\n",
    "9. feature 38 (0.020333) other\n",
    "10. feature 4 (0.019230) region_code\n",
    "11. feature 48 (0.018980) other\n",
    "12. feature 59 (0.017779) never pay\n",
    "13. feature 72 (0.016599) insufficient\n",
    "14. feature 0 (0.015377) amount_tsh'''\n",
    "\n",
    "tf_coded_2 = tf_coded[['latitude','longitude','gps_height','dry','population','enough','district_code',\\\n",
    "                       'region_code','never pay','insufficient']]\n",
    "\n",
    "print tf_coded_2.head()\n",
    "print tf_coded_2.tail()\n"
   ]
  },
  {
   "cell_type": "code",
   "execution_count": 70,
   "metadata": {
    "collapsed": false
   },
   "outputs": [
    {
     "name": "stdout",
     "output_type": "stream",
     "text": [
      "        latitude  longitude  gps_height  dry  population  enough  \\\n",
      "id                                                                 \n",
      "50785  -4.059696  35.290799        1996    0         321       0   \n",
      "51630  -3.309214  36.656709        1569    0         300       0   \n",
      "17168  -5.004344  34.767863        1567    0         500       0   \n",
      "45559  -9.418672  38.058046         267    1         250       0   \n",
      "49871 -10.950412  35.006123        1260    0          60       1   \n",
      "\n",
      "       district_code  region_code  never pay  insufficient  \n",
      "id                                                          \n",
      "50785              3           21          1             0  \n",
      "51630              2            2          1             1  \n",
      "17168              2           13          1             1  \n",
      "45559             43           80          0             0  \n",
      "49871              3           10          0             0  \n",
      "        latitude  longitude  gps_height  dry  population  enough  \\\n",
      "id                                                                 \n",
      "39307  -6.582841  38.852669          34    0          20       1   \n",
      "18990  -5.350428  37.451633           0    0        2960       0   \n",
      "28749  -4.585587  34.739804        1476    0         200       0   \n",
      "33492 -10.584159  35.432732         998    0         150       0   \n",
      "68707 -11.226012  34.765054         481    1          40       0   \n",
      "\n",
      "       district_code  region_code  never pay  insufficient  \n",
      "id                                                          \n",
      "39307              1            6          1             0  \n",
      "18990              7            4          0             1  \n",
      "28749              2           13          1             1  \n",
      "33492              2           10          1             1  \n",
      "68707              3           10          1             0  \n",
      "['functional' 'functional' 'functional' ..., 'functional' 'functional'\n",
      " 'non functional']\n"
     ]
    },
    {
     "name": "stderr",
     "output_type": "stream",
     "text": [
      "/anaconda/lib/python2.7/site-packages/IPython/kernel/__main__.py:6: DataConversionWarning: A column-vector y was passed when a 1d array was expected. Please change the shape of y to (n_samples,), for example using ravel().\n"
     ]
    }
   ],
   "source": [
    "X_transformed = X_pumps_train[['latitude','longitude','gps_height','dry','population','enough','district_code',\\\n",
    "                       'region_code','never pay','insufficient']]\n",
    "\n",
    "y = y_pumps_train[['label']]\n",
    "\n",
    "clf_transformed = ExtraTreesClassifier()\n",
    "X_fit_n = clf_transformed.fit(X_transformed, y)\n",
    "result_transformed = clf_transformed.score(X_transformed,y)\n",
    "\n",
    "print tf_coded_2.head()\n",
    "print tf_coded_2.tail()\n",
    "a = clf_transformed.predict(tf_coded_2)\n",
    "\n",
    "print a\n"
   ]
  },
  {
   "cell_type": "code",
   "execution_count": 71,
   "metadata": {
    "collapsed": false
   },
   "outputs": [
    {
     "name": "stdout",
     "output_type": "stream",
     "text": [
      "['functional' 'functional' 'functional' ..., 'functional' 'functional'\n",
      " 'non functional']\n"
     ]
    }
   ],
   "source": [
    "print a"
   ]
  },
  {
   "cell_type": "code",
   "execution_count": 74,
   "metadata": {
    "collapsed": false
   },
   "outputs": [
    {
     "name": "stdout",
     "output_type": "stream",
     "text": [
      "14850\n",
      "      id    status_group\n",
      "0  50785      functional\n",
      "1  51630      functional\n",
      "2  17168      functional\n",
      "3  45559  non functional\n",
      "4  49871      functional\n",
      "          id    status_group\n",
      "14845  39307  non functional\n",
      "14846  18990      functional\n",
      "14847  28749      functional\n",
      "14848  33492      functional\n",
      "14849  68707  non functional\n"
     ]
    }
   ],
   "source": [
    "pred = a\n",
    "\n",
    "to_submit = []\n",
    "print len(tf_coded_2)\n",
    "for ind in range(len(tf_coded_2)):\n",
    "    ids = tf_coded_2.index[ind]\n",
    "    to_pred = pred[ind]\n",
    "    #print ids,' - ',to_pred\n",
    "    to_submit.append([ids,to_pred])\n",
    "    \n",
    "df_submit = pd.DataFrame(to_submit)\n",
    "df_submit.columns = ['id','status_group']\n",
    "print df_submit.head()\n",
    "print df_submit.tail()\n",
    "\n",
    "df_submit.to_csv('/Users/martinrasumoff/submission_7.csv', sep=',', index=False)\n"
   ]
  },
  {
   "cell_type": "code",
   "execution_count": 75,
   "metadata": {
    "collapsed": false
   },
   "outputs": [
    {
     "name": "stdout",
     "output_type": "stream",
     "text": [
      "['functional' 'non functional' 'functional needs repair']\n"
     ]
    }
   ],
   "source": [
    "print df_submit['status_group'].unique()"
   ]
  }
 ],
 "metadata": {
  "kernelspec": {
   "display_name": "Python 2",
   "language": "python",
   "name": "python2"
  },
  "language_info": {
   "codemirror_mode": {
    "name": "ipython",
    "version": 2
   },
   "file_extension": ".py",
   "mimetype": "text/x-python",
   "name": "python",
   "nbconvert_exporter": "python",
   "pygments_lexer": "ipython2",
   "version": "2.7.10"
  }
 },
 "nbformat": 4,
 "nbformat_minor": 0
}
