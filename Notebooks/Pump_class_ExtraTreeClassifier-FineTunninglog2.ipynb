{
 "cells": [
  {
   "cell_type": "code",
   "execution_count": 148,
   "metadata": {
    "collapsed": false,
    "scrolled": true
   },
   "outputs": [
    {
     "name": "stdout",
     "output_type": "stream",
     "text": [
      "                label\n",
      "69572      functional\n",
      "8776       functional\n",
      "34310      functional\n",
      "67743  non functional\n",
      "19728      functional\n",
      "            label\n",
      "60739  functional\n",
      "27263  functional\n",
      "37057  functional\n",
      "31282  functional\n",
      "26348  functional\n"
     ]
    }
   ],
   "source": [
    "import psycopg2\n",
    "import pandas as pd\n",
    "from sklearn.cross_validation import train_test_split\n",
    "\n",
    "def load_labels():\n",
    "    db = psycopg2.connect(database='martinrasumoff')\n",
    "    cursor = db.cursor()\n",
    "\n",
    "    #Loading Labels\n",
    "    cursor.execute(\"select * from labels_water_pumps;\")\n",
    "    list_labels = cursor.fetchall()\n",
    "   \n",
    "    labels_id =[]\n",
    "    labels_class =[]\n",
    "    for each in list_labels:\n",
    "        labels_id.append(each[0])\n",
    "        labels_class.append(each[1])\n",
    "        \n",
    "    series_labels = pd.DataFrame(labels_class, index=labels_id)\n",
    "\n",
    "    return series_labels\n",
    "\n",
    "df_labels = load_labels()\n",
    "\n",
    "df_labels.columns = ['label']\n",
    "print df_labels.head()\n",
    "print df_labels.tail()"
   ]
  },
  {
   "cell_type": "code",
   "execution_count": 149,
   "metadata": {
    "collapsed": false,
    "scrolled": true
   },
   "outputs": [
    {
     "name": "stdout",
     "output_type": "stream",
     "text": [
      "          0     1           2             3     4             5          6   \\\n",
      "69572  69572  6000  2011-03-14         Roman  1390         Roman  34.938093   \n",
      "8776    8776     0  2013-03-06       Grumeti  1399       GRUMETI  34.698766   \n",
      "34310  34310    25  2013-02-25  Lottery Club   686  World vision  37.460664   \n",
      "67743  67743     0  2013-01-28        Unicef   263        UNICEF  38.486161   \n",
      "19728  19728     0  2011-07-13   Action In A     0       Artisan  31.130847   \n",
      "\n",
      "              7                     8  9          ...                  30  \\\n",
      "69572  -9.856322                  none  0         ...            annually   \n",
      "8776   -2.147466              Zahanati  0         ...           never pay   \n",
      "34310  -3.821329           Kwa Mahundi  0         ...          per bucket   \n",
      "67743 -11.155298  Zahanati Ya Nanyumbu  0         ...           never pay   \n",
      "19728  -1.825359               Shuleni  0         ...           never pay   \n",
      "\n",
      "         31    32            33            34                    35  \\\n",
      "69572  soft  good        enough        enough                spring   \n",
      "8776   soft  good  insufficient  insufficient  rainwater harvesting   \n",
      "34310  soft  good        enough        enough                   dam   \n",
      "67743  soft  good           dry           dry           machine dbh   \n",
      "19728  soft  good      seasonal      seasonal  rainwater harvesting   \n",
      "\n",
      "                         36           37                           38  \\\n",
      "69572                spring  groundwater           communal standpipe   \n",
      "8776   rainwater harvesting      surface           communal standpipe   \n",
      "34310                   dam      surface  communal standpipe multiple   \n",
      "67743              borehole  groundwater  communal standpipe multiple   \n",
      "19728  rainwater harvesting      surface           communal standpipe   \n",
      "\n",
      "                       39  \n",
      "69572  communal standpipe  \n",
      "8776   communal standpipe  \n",
      "34310  communal standpipe  \n",
      "67743  communal standpipe  \n",
      "19728  communal standpipe  \n",
      "\n",
      "[5 rows x 40 columns]\n",
      "          0     1           2                3     4      5          6   \\\n",
      "60739  60739    10  2013-05-03  Germany Republi  1210    CES  37.169807   \n",
      "27263  27263  4700  2011-05-07      Cefa-njombe  1212   Cefa  35.249991   \n",
      "37057  37057     0  2011-04-11             None     0   None  34.017087   \n",
      "31282  31282     0  2011-03-08            Malec     0   Musa  35.861315   \n",
      "26348  26348     0  2011-03-23       World Bank   191  World  38.104048   \n",
      "\n",
      "             7                    8  9          ...                  30  \\\n",
      "60739 -3.253847  Area Three Namba 27  0         ...          per bucket   \n",
      "27263 -9.070629    Kwa Yahona Kuvala  0         ...            annually   \n",
      "37057 -8.750434              Mashine  0         ...             monthly   \n",
      "31282 -6.378573               Mshoro  0         ...           never pay   \n",
      "26348 -6.747464      Kwa Mzee Lugawa  0         ...          on failure   \n",
      "\n",
      "             31        32            33            34            35  \\\n",
      "60739      soft      good        enough        enough        spring   \n",
      "27263      soft      good        enough        enough         river   \n",
      "37057  fluoride  fluoride        enough        enough   machine dbh   \n",
      "31282      soft      good  insufficient  insufficient  shallow well   \n",
      "26348     salty     salty        enough        enough  shallow well   \n",
      "\n",
      "                 36           37                  38                  39  \n",
      "60739        spring  groundwater  communal standpipe  communal standpipe  \n",
      "27263    river/lake      surface  communal standpipe  communal standpipe  \n",
      "37057      borehole  groundwater           hand pump           hand pump  \n",
      "31282  shallow well  groundwater           hand pump           hand pump  \n",
      "26348  shallow well  groundwater           hand pump           hand pump  \n",
      "\n",
      "[5 rows x 40 columns]\n"
     ]
    }
   ],
   "source": [
    "def load_wells():\n",
    "    db = psycopg2.connect(database='martinrasumoff')\n",
    "    cursor = db.cursor()\n",
    "\n",
    "    #Loading Pump Data\n",
    "    cursor.execute(\"select * from water_pumps;\")\n",
    "    list_pumps = cursor.fetchall()\n",
    "\n",
    "    list_pumps_id = []\n",
    "    list_pumps_fields = []\n",
    "    for each in list_pumps:\n",
    "        list_pumps_id.append(each[0])\n",
    "        list_pumps_fields.append(each)\n",
    "\n",
    "    #Converting wells data into a pandas Data Frame\n",
    "    df_pumps = pd.DataFrame(list_pumps_fields, index=list_pumps_id)\n",
    "\n",
    "    return df_pumps\n",
    "\n",
    "df_data = load_wells()\n",
    "\n",
    "print df_data.head()\n",
    "print df_data.tail()"
   ]
  },
  {
   "cell_type": "code",
   "execution_count": 150,
   "metadata": {
    "collapsed": false,
    "scrolled": true
   },
   "outputs": [
    {
     "name": "stdout",
     "output_type": "stream",
     "text": [
      "          id  amount_tsh date_recorded        funder  gps_height  \\\n",
      "69572  69572        6000    2011-03-14         Roman        1390   \n",
      "8776    8776           0    2013-03-06       Grumeti        1399   \n",
      "34310  34310          25    2013-02-25  Lottery Club         686   \n",
      "67743  67743           0    2013-01-28        Unicef         263   \n",
      "19728  19728           0    2011-07-13   Action In A           0   \n",
      "\n",
      "          installer  longitude   latitude              wpt_name num_private  \\\n",
      "69572         Roman  34.938093  -9.856322                  none           0   \n",
      "8776        GRUMETI  34.698766  -2.147466              Zahanati           0   \n",
      "34310  World vision  37.460664  -3.821329           Kwa Mahundi           0   \n",
      "67743        UNICEF  38.486161 -11.155298  Zahanati Ya Nanyumbu           0   \n",
      "19728       Artisan  31.130847  -1.825359               Shuleni           0   \n",
      "\n",
      "               ...          payment_type water_quality quality_group  \\\n",
      "69572          ...              annually          soft          good   \n",
      "8776           ...             never pay          soft          good   \n",
      "34310          ...            per bucket          soft          good   \n",
      "67743          ...             never pay          soft          good   \n",
      "19728          ...             never pay          soft          good   \n",
      "\n",
      "           quantity  quantity_group                source  \\\n",
      "69572        enough          enough                spring   \n",
      "8776   insufficient    insufficient  rainwater harvesting   \n",
      "34310        enough          enough                   dam   \n",
      "67743           dry             dry           machine dbh   \n",
      "19728      seasonal        seasonal  rainwater harvesting   \n",
      "\n",
      "                source_type  source_class              waterpoint_type  \\\n",
      "69572                spring   groundwater           communal standpipe   \n",
      "8776   rainwater harvesting       surface           communal standpipe   \n",
      "34310                   dam       surface  communal standpipe multiple   \n",
      "67743              borehole   groundwater  communal standpipe multiple   \n",
      "19728  rainwater harvesting       surface           communal standpipe   \n",
      "\n",
      "      waterpoint_type_group  \n",
      "69572    communal standpipe  \n",
      "8776     communal standpipe  \n",
      "34310    communal standpipe  \n",
      "67743    communal standpipe  \n",
      "19728    communal standpipe  \n",
      "\n",
      "[5 rows x 40 columns]\n",
      "          id  amount_tsh date_recorded           funder  gps_height installer  \\\n",
      "60739  60739          10    2013-05-03  Germany Republi        1210       CES   \n",
      "27263  27263        4700    2011-05-07      Cefa-njombe        1212      Cefa   \n",
      "37057  37057           0    2011-04-11             None           0      None   \n",
      "31282  31282           0    2011-03-08            Malec           0      Musa   \n",
      "26348  26348           0    2011-03-23       World Bank         191     World   \n",
      "\n",
      "       longitude  latitude             wpt_name num_private  \\\n",
      "60739  37.169807 -3.253847  Area Three Namba 27           0   \n",
      "27263  35.249991 -9.070629    Kwa Yahona Kuvala           0   \n",
      "37057  34.017087 -8.750434              Mashine           0   \n",
      "31282  35.861315 -6.378573               Mshoro           0   \n",
      "26348  38.104048 -6.747464      Kwa Mzee Lugawa           0   \n",
      "\n",
      "               ...          payment_type water_quality quality_group  \\\n",
      "60739          ...            per bucket          soft          good   \n",
      "27263          ...              annually          soft          good   \n",
      "37057          ...               monthly      fluoride      fluoride   \n",
      "31282          ...             never pay          soft          good   \n",
      "26348          ...            on failure         salty         salty   \n",
      "\n",
      "           quantity  quantity_group        source   source_type  source_class  \\\n",
      "60739        enough          enough        spring        spring   groundwater   \n",
      "27263        enough          enough         river    river/lake       surface   \n",
      "37057        enough          enough   machine dbh      borehole   groundwater   \n",
      "31282  insufficient    insufficient  shallow well  shallow well   groundwater   \n",
      "26348        enough          enough  shallow well  shallow well   groundwater   \n",
      "\n",
      "          waterpoint_type waterpoint_type_group  \n",
      "60739  communal standpipe    communal standpipe  \n",
      "27263  communal standpipe    communal standpipe  \n",
      "37057           hand pump             hand pump  \n",
      "31282           hand pump             hand pump  \n",
      "26348           hand pump             hand pump  \n",
      "\n",
      "[5 rows x 40 columns]\n"
     ]
    }
   ],
   "source": [
    "df_data.columns = ['id','amount_tsh',\n",
    "                    'date_recorded',\n",
    "                    'funder',\n",
    "                    'gps_height',\n",
    "                    'installer',\n",
    "                    'longitude',\n",
    "                    'latitude',\n",
    "                    'wpt_name',\n",
    "                    'num_private',\n",
    "                    'basin',\n",
    "                    'subvillage',\n",
    "                    'region',\n",
    "                    'region_code',\n",
    "                    'district_code',\n",
    "                    'lga',\n",
    "                    'ward',\n",
    "                    'population',\n",
    "                    'public_meeting',\n",
    "                    'recorded_by',\n",
    "                    'scheme_management',\n",
    "                    'scheme_name',\n",
    "                    'permit',\n",
    "                    'construction_year',\n",
    "                    'extraction_type',\n",
    "                    'extraction_type_group',\n",
    "                    'extraction_type_class',\n",
    "                    'management',\n",
    "                    'management_group',\n",
    "                    'payment',\n",
    "                    'payment_type',\n",
    "                    'water_quality',\n",
    "                    'quality_group',\n",
    "                    'quantity',\n",
    "                    'quantity_group',\n",
    "                    'source',\n",
    "                    'source_type',\n",
    "                    'source_class',\n",
    "                    'waterpoint_type',\n",
    "                    'waterpoint_type_group']\n",
    "\n",
    "print df_data.head()\n",
    "print df_data.tail()"
   ]
  },
  {
   "cell_type": "code",
   "execution_count": 151,
   "metadata": {
    "collapsed": false,
    "scrolled": true
   },
   "outputs": [
    {
     "name": "stdout",
     "output_type": "stream",
     "text": [
      "          id  amount_tsh date_recorded        funder  gps_height  \\\n",
      "69572  69572        6000    2011-03-14         Roman        1390   \n",
      "8776    8776           0    2013-03-06       Grumeti        1399   \n",
      "34310  34310          25    2013-02-25  Lottery Club         686   \n",
      "67743  67743           0    2013-01-28        Unicef         263   \n",
      "19728  19728           0    2011-07-13   Action In A           0   \n",
      "\n",
      "          installer  longitude   latitude              wpt_name num_private  \\\n",
      "69572         Roman  34.938093  -9.856322                  none           0   \n",
      "8776        GRUMETI  34.698766  -2.147466              Zahanati           0   \n",
      "34310  World vision  37.460664  -3.821329           Kwa Mahundi           0   \n",
      "67743        UNICEF  38.486161 -11.155298  Zahanati Ya Nanyumbu           0   \n",
      "19728       Artisan  31.130847  -1.825359               Shuleni           0   \n",
      "\n",
      "               ...          payment_type water_quality quality_group  \\\n",
      "69572          ...              annually          soft          good   \n",
      "8776           ...             never pay          soft          good   \n",
      "34310          ...            per bucket          soft          good   \n",
      "67743          ...             never pay          soft          good   \n",
      "19728          ...             never pay          soft          good   \n",
      "\n",
      "           quantity  quantity_group                source  \\\n",
      "69572        enough          enough                spring   \n",
      "8776   insufficient    insufficient  rainwater harvesting   \n",
      "34310        enough          enough                   dam   \n",
      "67743           dry             dry           machine dbh   \n",
      "19728      seasonal        seasonal  rainwater harvesting   \n",
      "\n",
      "                source_type  source_class              waterpoint_type  \\\n",
      "69572                spring   groundwater           communal standpipe   \n",
      "8776   rainwater harvesting       surface           communal standpipe   \n",
      "34310                   dam       surface  communal standpipe multiple   \n",
      "67743              borehole   groundwater  communal standpipe multiple   \n",
      "19728  rainwater harvesting       surface           communal standpipe   \n",
      "\n",
      "      waterpoint_type_group  \n",
      "69572    communal standpipe  \n",
      "8776     communal standpipe  \n",
      "34310    communal standpipe  \n",
      "67743    communal standpipe  \n",
      "19728    communal standpipe  \n",
      "\n",
      "[5 rows x 40 columns]\n",
      "                label\n",
      "69572      functional\n",
      "8776       functional\n",
      "34310      functional\n",
      "67743  non functional\n",
      "19728      functional\n",
      "          id  amount_tsh date_recorded           funder  gps_height installer  \\\n",
      "60739  60739          10    2013-05-03  Germany Republi        1210       CES   \n",
      "27263  27263        4700    2011-05-07      Cefa-njombe        1212      Cefa   \n",
      "37057  37057           0    2011-04-11             None           0      None   \n",
      "31282  31282           0    2011-03-08            Malec           0      Musa   \n",
      "26348  26348           0    2011-03-23       World Bank         191     World   \n",
      "\n",
      "       longitude  latitude             wpt_name num_private  \\\n",
      "60739  37.169807 -3.253847  Area Three Namba 27           0   \n",
      "27263  35.249991 -9.070629    Kwa Yahona Kuvala           0   \n",
      "37057  34.017087 -8.750434              Mashine           0   \n",
      "31282  35.861315 -6.378573               Mshoro           0   \n",
      "26348  38.104048 -6.747464      Kwa Mzee Lugawa           0   \n",
      "\n",
      "               ...          payment_type water_quality quality_group  \\\n",
      "60739          ...            per bucket          soft          good   \n",
      "27263          ...              annually          soft          good   \n",
      "37057          ...               monthly      fluoride      fluoride   \n",
      "31282          ...             never pay          soft          good   \n",
      "26348          ...            on failure         salty         salty   \n",
      "\n",
      "           quantity  quantity_group        source   source_type  source_class  \\\n",
      "60739        enough          enough        spring        spring   groundwater   \n",
      "27263        enough          enough         river    river/lake       surface   \n",
      "37057        enough          enough   machine dbh      borehole   groundwater   \n",
      "31282  insufficient    insufficient  shallow well  shallow well   groundwater   \n",
      "26348        enough          enough  shallow well  shallow well   groundwater   \n",
      "\n",
      "          waterpoint_type waterpoint_type_group  \n",
      "60739  communal standpipe    communal standpipe  \n",
      "27263  communal standpipe    communal standpipe  \n",
      "37057           hand pump             hand pump  \n",
      "31282           hand pump             hand pump  \n",
      "26348           hand pump             hand pump  \n",
      "\n",
      "[5 rows x 40 columns]\n",
      "            label\n",
      "60739  functional\n",
      "27263  functional\n",
      "37057  functional\n",
      "31282  functional\n",
      "26348  functional\n"
     ]
    }
   ],
   "source": [
    "print df_data.head()\n",
    "print df_labels.head()\n",
    "print df_data.tail()\n",
    "print df_labels.tail()"
   ]
  },
  {
   "cell_type": "code",
   "execution_count": 152,
   "metadata": {
    "collapsed": false,
    "scrolled": true
   },
   "outputs": [
    {
     "name": "stdout",
     "output_type": "stream",
     "text": [
      "          id  amount_tsh date_recorded        funder  gps_height  \\\n",
      "69572  69572        6000    2011-03-14         Roman        1390   \n",
      "8776    8776           0    2013-03-06       Grumeti        1399   \n",
      "34310  34310          25    2013-02-25  Lottery Club         686   \n",
      "67743  67743           0    2013-01-28        Unicef         263   \n",
      "19728  19728           0    2011-07-13   Action In A           0   \n",
      "\n",
      "          installer  longitude   latitude              wpt_name num_private  \\\n",
      "69572         Roman  34.938093  -9.856322                  none           0   \n",
      "8776        GRUMETI  34.698766  -2.147466              Zahanati           0   \n",
      "34310  World vision  37.460664  -3.821329           Kwa Mahundi           0   \n",
      "67743        UNICEF  38.486161 -11.155298  Zahanati Ya Nanyumbu           0   \n",
      "19728       Artisan  31.130847  -1.825359               Shuleni           0   \n",
      "\n",
      "               ...          payment_type water_quality quality_group  \\\n",
      "69572          ...              annually          soft          good   \n",
      "8776           ...             never pay          soft          good   \n",
      "34310          ...            per bucket          soft          good   \n",
      "67743          ...             never pay          soft          good   \n",
      "19728          ...             never pay          soft          good   \n",
      "\n",
      "           quantity  quantity_group                source  \\\n",
      "69572        enough          enough                spring   \n",
      "8776   insufficient    insufficient  rainwater harvesting   \n",
      "34310        enough          enough                   dam   \n",
      "67743           dry             dry           machine dbh   \n",
      "19728      seasonal        seasonal  rainwater harvesting   \n",
      "\n",
      "                source_type  source_class              waterpoint_type  \\\n",
      "69572                spring   groundwater           communal standpipe   \n",
      "8776   rainwater harvesting       surface           communal standpipe   \n",
      "34310                   dam       surface  communal standpipe multiple   \n",
      "67743              borehole   groundwater  communal standpipe multiple   \n",
      "19728  rainwater harvesting       surface           communal standpipe   \n",
      "\n",
      "      waterpoint_type_group  \n",
      "69572    communal standpipe  \n",
      "8776     communal standpipe  \n",
      "34310    communal standpipe  \n",
      "67743    communal standpipe  \n",
      "19728    communal standpipe  \n",
      "\n",
      "[5 rows x 40 columns]\n",
      "                label\n",
      "69572      functional\n",
      "8776       functional\n",
      "34310      functional\n",
      "67743  non functional\n",
      "19728      functional\n",
      "          id  amount_tsh date_recorded           funder  gps_height installer  \\\n",
      "60739  60739          10    2013-05-03  Germany Republi        1210       CES   \n",
      "27263  27263        4700    2011-05-07      Cefa-njombe        1212      Cefa   \n",
      "37057  37057           0    2011-04-11             None           0      None   \n",
      "31282  31282           0    2011-03-08            Malec           0      Musa   \n",
      "26348  26348           0    2011-03-23       World Bank         191     World   \n",
      "\n",
      "       longitude  latitude             wpt_name num_private  \\\n",
      "60739  37.169807 -3.253847  Area Three Namba 27           0   \n",
      "27263  35.249991 -9.070629    Kwa Yahona Kuvala           0   \n",
      "37057  34.017087 -8.750434              Mashine           0   \n",
      "31282  35.861315 -6.378573               Mshoro           0   \n",
      "26348  38.104048 -6.747464      Kwa Mzee Lugawa           0   \n",
      "\n",
      "               ...          payment_type water_quality quality_group  \\\n",
      "60739          ...            per bucket          soft          good   \n",
      "27263          ...              annually          soft          good   \n",
      "37057          ...               monthly      fluoride      fluoride   \n",
      "31282          ...             never pay          soft          good   \n",
      "26348          ...            on failure         salty         salty   \n",
      "\n",
      "           quantity  quantity_group        source   source_type  source_class  \\\n",
      "60739        enough          enough        spring        spring   groundwater   \n",
      "27263        enough          enough         river    river/lake       surface   \n",
      "37057        enough          enough   machine dbh      borehole   groundwater   \n",
      "31282  insufficient    insufficient  shallow well  shallow well   groundwater   \n",
      "26348        enough          enough  shallow well  shallow well   groundwater   \n",
      "\n",
      "          waterpoint_type waterpoint_type_group  \n",
      "60739  communal standpipe    communal standpipe  \n",
      "27263  communal standpipe    communal standpipe  \n",
      "37057           hand pump             hand pump  \n",
      "31282           hand pump             hand pump  \n",
      "26348           hand pump             hand pump  \n",
      "\n",
      "[5 rows x 40 columns]\n",
      "            label\n",
      "60739  functional\n",
      "27263  functional\n",
      "37057  functional\n",
      "31282  functional\n",
      "26348  functional\n",
      "(59400, 40)\n",
      "(59400, 1)\n",
      "(59400, 41)\n",
      "['id' 'amount_tsh' 'date_recorded' 'funder' 'gps_height' 'installer'\n",
      " 'longitude' 'latitude' 'wpt_name' 'num_private' 'basin' 'subvillage'\n",
      " 'region' 'region_code' 'district_code' 'lga' 'ward' 'population'\n",
      " 'public_meeting' 'recorded_by' 'scheme_management' 'scheme_name' 'permit'\n",
      " 'construction_year' 'extraction_type' 'extraction_type_group'\n",
      " 'extraction_type_class' 'management' 'management_group' 'payment'\n",
      " 'payment_type' 'water_quality' 'quality_group' 'quantity' 'quantity_group'\n",
      " 'source' 'source_type' 'source_class' 'waterpoint_type'\n",
      " 'waterpoint_type_group' 'label']\n"
     ]
    }
   ],
   "source": [
    "print df_data.head()\n",
    "print df_labels.head()\n",
    "print df_data.tail()\n",
    "print df_labels.tail()\n",
    "print df_data.shape\n",
    "print df_labels.shape\n",
    "\n",
    "df_complete = pd.concat([df_data,df_labels],axis=1)\n",
    "\n",
    "print df_complete.shape\n",
    "print df_complete.columns.values\n",
    "\n"
   ]
  },
  {
   "cell_type": "code",
   "execution_count": 153,
   "metadata": {
    "collapsed": true
   },
   "outputs": [],
   "source": [
    "df_complete.to_csv('/Users/martinrasumoff/map.csv', sep=',', index=False)"
   ]
  },
  {
   "cell_type": "code",
   "execution_count": 154,
   "metadata": {
    "collapsed": false,
    "scrolled": false
   },
   "outputs": [
    {
     "name": "stdout",
     "output_type": "stream",
     "text": [
      "basin: (59400, 9)\n",
      "Public Meeting: (59400, 2)\n",
      "Scheme Management: (59400, 12)\n",
      "permit: (59400, 2)\n",
      "Data Extraction: (59400, 13)\n",
      "Data Extr Type: (59400, 7)\n",
      "Management Group: (59400, 5)\n",
      "Payment Type: (59400, 7)\n",
      "Quality Group: (59400, 6)\n",
      "Quantity Group: (59400, 5)\n",
      "Source Type: (59400, 7)\n",
      "Source Class: (59400, 3)\n",
      "Waterpoint Type: (59400, 6)\n"
     ]
    }
   ],
   "source": [
    "df_data_basin = pd.get_dummies(df_data['basin'])\n",
    "print 'basin:',df_data_basin.shape\n",
    "df_data_public_meeting = pd.get_dummies(df_data['public_meeting'])\n",
    "print 'Public Meeting:',df_data_public_meeting.shape\n",
    "df_data_scheme_mgmnt = pd.get_dummies(df_data['scheme_management'])\n",
    "print 'Scheme Management:',df_data_scheme_mgmnt.shape\n",
    "df_data_permit = pd.get_dummies(df_data['permit'])\n",
    "print 'permit:',df_data_permit.shape\n",
    "df_data_extraction_type_group = pd.get_dummies(df_data['extraction_type_group'])\n",
    "print 'Data Extraction:',df_data_extraction_type_group.shape\n",
    "df_data_extraction_type_class = pd.get_dummies(df_data['extraction_type_class'])\n",
    "print 'Data Extr Type:',df_data_extraction_type_class.shape\n",
    "df_data_management_group = pd.get_dummies(df_data['management_group'])\n",
    "print 'Management Group:',df_data_management_group.shape\n",
    "df_data_payment_type = pd.get_dummies(df_data['payment_type'])\n",
    "print 'Payment Type:',df_data_payment_type.shape\n",
    "df_data_quality_group = pd.get_dummies(df_data['quality_group'])\n",
    "print 'Quality Group:',df_data_quality_group.shape\n",
    "df_data_quantity_group = pd.get_dummies(df_data['quantity_group'])\n",
    "print 'Quantity Group:',df_data_quantity_group.shape\n",
    "df_data_source_type = pd.get_dummies(df_data['source_type'])\n",
    "print 'Source Type:',df_data_source_type.shape\n",
    "df_data_source_class = pd.get_dummies(df_data['source_class'])\n",
    "print 'Source Class:',df_data_source_class.shape\n",
    "df_data_waterpoint_type_group = pd.get_dummies(df_data['waterpoint_type_group'])\n",
    "print 'Waterpoint Type:',df_data_waterpoint_type_group.shape"
   ]
  },
  {
   "cell_type": "code",
   "execution_count": 155,
   "metadata": {
    "collapsed": false
   },
   "outputs": [
    {
     "name": "stdout",
     "output_type": "stream",
     "text": [
      "(59400, 7)\n",
      "(59400, 91)\n"
     ]
    }
   ],
   "source": [
    "df_data = df_data[['amount_tsh','gps_height','longitude','latitude','region_code','district_code',\\\n",
    "                   'population']]\n",
    "\n",
    "df_coded = pd.concat([df_data,df_data_basin,df_data_public_meeting,df_data_scheme_mgmnt,df_data_permit,\\\n",
    "                      df_data_extraction_type_group,df_data_extraction_type_class,df_data_management_group,\\\n",
    "                      df_data_payment_type,df_data_quality_group,df_data_quantity_group,\\\n",
    "                      df_data_source_type,df_data_source_class,df_data_waterpoint_type_group],axis=1)\n",
    "\n",
    "print df_data.shape\n",
    "print df_coded.shape\n"
   ]
  },
  {
   "cell_type": "code",
   "execution_count": 156,
   "metadata": {
    "collapsed": false,
    "scrolled": true
   },
   "outputs": [
    {
     "name": "stdout",
     "output_type": "stream",
     "text": [
      "59400\n",
      "(59400, 91)\n",
      "59400\n",
      "59400\n"
     ]
    }
   ],
   "source": [
    "df_coded.sort_index(inplace=True)\n",
    "df_labels.sort_index(inplace=True)\n",
    "\n",
    "print (df_labels.index == df_coded.index).sum()\n",
    "print df_coded.shape\n",
    "\n",
    "print len(df_labels)\n",
    "print len(df_coded)"
   ]
  },
  {
   "cell_type": "code",
   "execution_count": 157,
   "metadata": {
    "collapsed": false,
    "scrolled": true
   },
   "outputs": [
    {
     "name": "stdout",
     "output_type": "stream",
     "text": [
      "       amount_tsh  gps_height  longitude   latitude  region_code  \\\n",
      "74240           0        1183  37.007726  -3.280868            2   \n",
      "74242           0           0  33.724987  -8.940758           12   \n",
      "74243           0        1188  33.963539  -1.429477           20   \n",
      "74246          50        1428  35.630481  -7.710549           11   \n",
      "74247          50         965  35.432998 -10.639270           10   \n",
      "\n",
      "       district_code  population  Internal  Lake Nyasa  Lake Rukwa  ...    \\\n",
      "74240              7         350         0           0           0  ...     \n",
      "74242              2           0         0           0           0  ...     \n",
      "74243              6          95         0           0           0  ...     \n",
      "74246              1           1         0           0           0  ...     \n",
      "74247              2         900         0           0           0  ...     \n",
      "\n",
      "       spring  groundwater  surface  unknown  cattle trough  \\\n",
      "74240       0            0        1        0              0   \n",
      "74242       0            0        1        0              0   \n",
      "74243       0            0        1        0              0   \n",
      "74246       1            1        0        0              0   \n",
      "74247       0            0        1        0              0   \n",
      "\n",
      "       communal standpipe  dam  hand pump  improved spring  other  \n",
      "74240                   1    0          0                0      0  \n",
      "74242                   1    0          0                0      0  \n",
      "74243                   1    0          0                0      0  \n",
      "74246                   1    0          0                0      0  \n",
      "74247                   1    0          0                0      0  \n",
      "\n",
      "[5 rows x 91 columns]\n",
      "                label\n",
      "74240      functional\n",
      "74242      functional\n",
      "74243  non functional\n",
      "74246  non functional\n",
      "74247  non functional\n"
     ]
    }
   ],
   "source": [
    "print df_coded.tail()\n",
    "print df_labels.tail()"
   ]
  },
  {
   "cell_type": "code",
   "execution_count": 158,
   "metadata": {
    "collapsed": false
   },
   "outputs": [
    {
     "name": "stdout",
     "output_type": "stream",
     "text": [
      "59400\n",
      "(59400, 91)\n"
     ]
    }
   ],
   "source": [
    "print (df_labels.index == df_coded.index).sum()\n",
    "print df_coded.shape\n",
    "\n"
   ]
  },
  {
   "cell_type": "code",
   "execution_count": 159,
   "metadata": {
    "collapsed": false,
    "scrolled": true
   },
   "outputs": [
    {
     "name": "stdout",
     "output_type": "stream",
     "text": [
      "   amount_tsh  gps_height  longitude  latitude  region_code  district_code  \\\n",
      "0           0           0  33.125828 -5.118154           14              3   \n",
      "1           0        1978  34.770717 -9.395642           11              4   \n",
      "2           0           0  36.115056 -6.279268            1              4   \n",
      "3          10        1639  37.147432 -3.187555            3              5   \n",
      "4           0           0  36.164893 -6.099289            1              4   \n",
      "\n",
      "   population  Internal  Lake Nyasa  Lake Rukwa  ...    spring  groundwater  \\\n",
      "0           0         0           0           0  ...         0            1   \n",
      "1          20         0           0           0  ...         0            1   \n",
      "2           0         0           0           0  ...         0            1   \n",
      "3          25         0           0           0  ...         1            1   \n",
      "4           0         0           0           0  ...         0            1   \n",
      "\n",
      "   surface  unknown  cattle trough  communal standpipe  dam  hand pump  \\\n",
      "0        0        0              0                   0    0          1   \n",
      "1        0        0              0                   0    0          1   \n",
      "2        0        0              0                   1    0          0   \n",
      "3        0        0              0                   1    0          0   \n",
      "4        0        0              0                   0    0          1   \n",
      "\n",
      "   improved spring  other  \n",
      "0                0      0  \n",
      "1                0      0  \n",
      "2                0      0  \n",
      "3                0      0  \n",
      "4                0      0  \n",
      "\n",
      "[5 rows x 91 columns]\n",
      "            label\n",
      "0  non functional\n",
      "1      functional\n",
      "2      functional\n",
      "3      functional\n",
      "4  non functional\n"
     ]
    }
   ],
   "source": [
    "print df_coded.head()\n",
    "print df_labels.head()"
   ]
  },
  {
   "cell_type": "code",
   "execution_count": 160,
   "metadata": {
    "collapsed": true
   },
   "outputs": [],
   "source": [
    "%matplotlib inline"
   ]
  },
  {
   "cell_type": "code",
   "execution_count": 161,
   "metadata": {
    "collapsed": false,
    "scrolled": true
   },
   "outputs": [
    {
     "name": "stdout",
     "output_type": "stream",
     "text": [
      "(59400, 91)\n",
      "(44550, 91)\n",
      "(44550, 1)\n",
      "       amount_tsh  gps_height  longitude   latitude  region_code  \\\n",
      "37900           0           0  33.104711  -4.053327           14   \n",
      "40527           0           0  32.569985  -8.954532           12   \n",
      "26058           0        1804  31.736616  -8.439998           15   \n",
      "6969          500        1821  34.774402  -9.123071           11   \n",
      "41018         500         767  36.092962 -10.923966           10   \n",
      "\n",
      "       district_code  population  Internal  Lake Nyasa  Lake Rukwa  ...    \\\n",
      "37900              1           0         1           0           0  ...     \n",
      "40527              6           0         0           0           1  ...     \n",
      "26058              2         200         0           0           1  ...     \n",
      "6969               4         108         0           0           0  ...     \n",
      "41018              5         400         0           0           0  ...     \n",
      "\n",
      "       spring  groundwater  surface  unknown  cattle trough  \\\n",
      "37900       0            1        0        0              0   \n",
      "40527       0            1        0        0              0   \n",
      "26058       0            0        1        0              0   \n",
      "6969        1            1        0        0              0   \n",
      "41018       0            1        0        0              0   \n",
      "\n",
      "       communal standpipe  dam  hand pump  improved spring  other  \n",
      "37900                   1    0          0                0      0  \n",
      "40527                   0    0          1                0      0  \n",
      "26058                   1    0          0                0      0  \n",
      "6969                    1    0          0                0      0  \n",
      "41018                   0    0          1                0      0  \n",
      "\n",
      "[5 rows x 91 columns]\n",
      "                label\n",
      "37900  non functional\n",
      "40527  non functional\n",
      "26058  non functional\n",
      "6969       functional\n",
      "41018      functional\n"
     ]
    }
   ],
   "source": [
    "from sklearn.ensemble import ExtraTreesClassifier\n",
    "from sklearn import metrics\n",
    "\n",
    "print df_coded.shape\n",
    "X_pumps_train, X_pumps_test, y_pumps_train, y_pumps_test = train_test_split(df_coded, df_labels, test_size=0.25, random_state=43)\n",
    "\n",
    "X = X_pumps_train\n",
    "y = y_pumps_train[['label']]\n",
    "\n",
    "print X.shape\n",
    "print y.shape\n",
    "\n",
    "print X.head()\n",
    "print y.head()\n",
    "\n"
   ]
  },
  {
   "cell_type": "code",
   "execution_count": 162,
   "metadata": {
    "collapsed": false
   },
   "outputs": [
    {
     "data": {
      "text/plain": [
       "'max_features : int, float, string or None, optional (default=\\xe2\\x80\\x9dauto\\xe2\\x80\\x9d)\\nThe number of features to consider when looking for the best split:\\nIf int, then consider max_features features at each split.\\nIf float, then max_features is a percentage and int(max_features * n_features) features are considered at each split.\\nIf \\xe2\\x80\\x9cauto\\xe2\\x80\\x9d, then max_features=sqrt(n_features).\\nIf \\xe2\\x80\\x9csqrt\\xe2\\x80\\x9d, then max_features=sqrt(n_features).\\nIf \\xe2\\x80\\x9clog2\\xe2\\x80\\x9d, then max_features=log2(n_features).\\nIf None, then max_features=n_features.\\nNote: the search for a split does not stop until at least one valid partition of the node samples is found, even if it requires to effectively inspect more than max_features features. Note: this parameter is tree-specific.\\nmax_depth : integer or None, optional (default=None)\\nThe maximum depth of the tree. If None, then nodes are expanded until all leaves are pure or until all leaves contain less than min_samples_split samples. Ignored if max_leaf_nodes is not None. Note: this parameter is tree-specific.\\nmin_samples_split : integer, optional (default=2)\\nThe minimum number of samples required to split an internal node. Note: this parameter is tree-specific.\\nmin_samples_leaf : integer, optional (default=1)\\nThe minimum number of samples in newly created leaves. A split is discarded if after the split, one of the leaves would contain less then min_samples_leaf samples. Note: this parameter is tree-specific.\\nmin_weight_fraction_leaf : float, optional (default=0.)\\nThe minimum weighted fraction of the input samples required to be at a leaf node. Note: this parameter is tree-specific.\\nmax_leaf_nodes : int or None, optional (default=None)\\nGrow trees with max_leaf_nodes in best-first fashion. Best nodes are defined as relative reduction in impurity. If None then unlimited number of leaf nodes. If not None then max_depth will be ignored. Note: this parameter is tree-specific.\\n'"
      ]
     },
     "execution_count": 162,
     "metadata": {},
     "output_type": "execute_result"
    }
   ],
   "source": [
    "'''max_features : int, float, string or None, optional (default=”auto”)\n",
    "The number of features to consider when looking for the best split:\n",
    "If int, then consider max_features features at each split.\n",
    "If float, then max_features is a percentage and int(max_features * n_features) features are considered at each split.\n",
    "If “auto”, then max_features=sqrt(n_features).\n",
    "If “sqrt”, then max_features=sqrt(n_features).\n",
    "If “log2”, then max_features=log2(n_features).\n",
    "If None, then max_features=n_features.\n",
    "Note: the search for a split does not stop until at least one valid partition of the node samples is found, even if it requires to effectively inspect more than max_features features. Note: this parameter is tree-specific.\n",
    "max_depth : integer or None, optional (default=None)\n",
    "The maximum depth of the tree. If None, then nodes are expanded until all leaves are pure or until all leaves contain less than min_samples_split samples. Ignored if max_leaf_nodes is not None. Note: this parameter is tree-specific.\n",
    "min_samples_split : integer, optional (default=2)\n",
    "The minimum number of samples required to split an internal node. Note: this parameter is tree-specific.\n",
    "min_samples_leaf : integer, optional (default=1)\n",
    "The minimum number of samples in newly created leaves. A split is discarded if after the split, one of the leaves would contain less then min_samples_leaf samples. Note: this parameter is tree-specific.\n",
    "min_weight_fraction_leaf : float, optional (default=0.)\n",
    "The minimum weighted fraction of the input samples required to be at a leaf node. Note: this parameter is tree-specific.\n",
    "max_leaf_nodes : int or None, optional (default=None)\n",
    "Grow trees with max_leaf_nodes in best-first fashion. Best nodes are defined as relative reduction in impurity. If None then unlimited number of leaf nodes. If not None then max_depth will be ignored. Note: this parameter is tree-specific.\n",
    "'''"
   ]
  },
  {
   "cell_type": "code",
   "execution_count": 177,
   "metadata": {
    "collapsed": false,
    "scrolled": true
   },
   "outputs": [
    {
     "name": "stdout",
     "output_type": "stream",
     "text": [
      "(21, 11)\n",
      "(21, 11)\n",
      "(21, 11)\n",
      "(21, 11)\n",
      "+++++++++++++++++++"
     ]
    },
    {
     "name": "stderr",
     "output_type": "stream",
     "text": [
      "//anaconda/lib/python2.7/site-packages/sklearn/base.py:436: DataConversionWarning: A column-vector y was passed when a 1d array was expected. Please change the shape of y to (n_samples,), for example using ravel().\n",
      "  return self.fit(X, y, **fit_params).transform(X)\n",
      "//anaconda/lib/python2.7/site-packages/sklearn/base.py:436: DataConversionWarning: A column-vector y was passed when a 1d array was expected. Please change the shape of y to (n_samples,), for example using ravel().\n",
      "  return self.fit(X, y, **fit_params).transform(X)\n"
     ]
    },
    {
     "name": "stdout",
     "output_type": "stream",
     "text": [
      "\n",
      "Number of Estimators:  10\n",
      "Max Depth:  10\n",
      "+++++++++++++++++++\n",
      "Accuracy Score:  0.729764309764\n",
      "Precision Score: [ 0.68273799  0.875       0.88319908]\n",
      "Recall Score: [ 0.96063382  0.00638104  0.54096916]\n",
      "Fl Score: [ 0.79818967  0.01266968  0.67096492]\n",
      "------------------\n",
      "+++++++++++++++++++\n",
      "Number of Estimators:  10\n",
      "Max Depth:  11\n",
      "+++++++++++++++++++\n",
      "Accuracy Score:  0.740606060606\n",
      "Precision Score: [ 0.69504825  0.7         0.87529976]\n",
      "Recall Score: [ 0.953949    0.00638104  0.57885463]\n",
      "Fl Score: [ 0.80417428  0.01264679  0.69686042]\n",
      "------------------\n",
      "+++++++++++++++++++"
     ]
    },
    {
     "name": "stderr",
     "output_type": "stream",
     "text": [
      "//anaconda/lib/python2.7/site-packages/sklearn/base.py:436: DataConversionWarning: A column-vector y was passed when a 1d array was expected. Please change the shape of y to (n_samples,), for example using ravel().\n",
      "  return self.fit(X, y, **fit_params).transform(X)\n",
      "//anaconda/lib/python2.7/site-packages/sklearn/base.py:436: DataConversionWarning: A column-vector y was passed when a 1d array was expected. Please change the shape of y to (n_samples,), for example using ravel().\n",
      "  return self.fit(X, y, **fit_params).transform(X)\n"
     ]
    },
    {
     "name": "stdout",
     "output_type": "stream",
     "text": [
      "\n",
      "Number of Estimators:  10\n",
      "Max Depth:  12\n",
      "+++++++++++++++++++\n",
      "Accuracy Score:  0.741144781145\n",
      "Precision Score: [ 0.69577414  0.75        0.87443469]\n",
      "Recall Score: [ 0.95184452  0.02734731  0.57920705]\n",
      "Fl Score: [ 0.80391029  0.05277045  0.69684121]\n",
      "------------------\n",
      "+++++++++++++++++++\n",
      "Number of Estimators:  10\n",
      "Max Depth:  13\n",
      "+++++++++++++++++++\n",
      "Accuracy Score:  0.742087542088\n",
      "Precision Score: [ 0.69457197  0.75        0.8843354 ]\n",
      "Recall Score: [ 0.95518693  0.02187785  0.57797357]\n",
      "Fl Score: [ 0.80429457  0.0425155   0.69906223]\n",
      "------------------\n",
      "+++++++++++++++++++"
     ]
    },
    {
     "name": "stderr",
     "output_type": "stream",
     "text": [
      "//anaconda/lib/python2.7/site-packages/sklearn/base.py:436: DataConversionWarning: A column-vector y was passed when a 1d array was expected. Please change the shape of y to (n_samples,), for example using ravel().\n",
      "  return self.fit(X, y, **fit_params).transform(X)\n",
      "//anaconda/lib/python2.7/site-packages/sklearn/base.py:436: DataConversionWarning: A column-vector y was passed when a 1d array was expected. Please change the shape of y to (n_samples,), for example using ravel().\n",
      "  return self.fit(X, y, **fit_params).transform(X)\n"
     ]
    },
    {
     "name": "stdout",
     "output_type": "stream",
     "text": [
      "\n",
      "Number of Estimators:  10\n",
      "Max Depth:  14\n",
      "+++++++++++++++++++\n",
      "Accuracy Score:  0.754141414141\n",
      "Precision Score: [ 0.71270718  0.664       0.86628769]\n",
      "Recall Score: [ 0.94218866  0.07566089  0.61762115]\n",
      "Fl Score: [ 0.81153703  0.13584288  0.72111923]\n",
      "------------------\n",
      "+++++++++++++++++++\n",
      "Number of Estimators:  10\n",
      "Max Depth:  15\n",
      "+++++++++++++++++++\n",
      "Accuracy Score:  0.756835016835\n",
      "Precision Score: [ 0.71702047  0.67226891  0.85977507]\n",
      "Recall Score: [ 0.93661797  0.07292616  0.63312775]\n",
      "Fl Score: [ 0.81223833  0.13157895  0.72924701]\n",
      "------------------\n",
      "+++++++++++++++++++"
     ]
    },
    {
     "name": "stderr",
     "output_type": "stream",
     "text": [
      "//anaconda/lib/python2.7/site-packages/sklearn/base.py:436: DataConversionWarning: A column-vector y was passed when a 1d array was expected. Please change the shape of y to (n_samples,), for example using ravel().\n",
      "  return self.fit(X, y, **fit_params).transform(X)\n",
      "//anaconda/lib/python2.7/site-packages/sklearn/base.py:436: DataConversionWarning: A column-vector y was passed when a 1d array was expected. Please change the shape of y to (n_samples,), for example using ravel().\n",
      "  return self.fit(X, y, **fit_params).transform(X)\n"
     ]
    },
    {
     "name": "stdout",
     "output_type": "stream",
     "text": [
      "\n",
      "Number of Estimators:  10\n",
      "Max Depth:  16\n",
      "+++++++++++++++++++\n",
      "Accuracy Score:  0.760202020202\n",
      "Precision Score: [ 0.72225406  0.65333333  0.85791962]\n",
      "Recall Score: [ 0.9361228   0.08933455  0.63947137]\n",
      "Fl Score: [ 0.81539789  0.15717723  0.73276123]\n",
      "------------------\n",
      "+++++++++++++++++++\n",
      "Number of Estimators:  10\n",
      "Max Depth:  17\n",
      "+++++++++++++++++++\n",
      "Accuracy Score:  0.767474747475\n",
      "Precision Score: [ 0.73431662  0.6059322   0.85193519]\n",
      "Recall Score: [ 0.92448626  0.13035552  0.66713656]\n",
      "Fl Score: [ 0.81850066  0.21455364  0.74829529]\n",
      "------------------\n",
      "+++++++++++++++++++"
     ]
    },
    {
     "name": "stderr",
     "output_type": "stream",
     "text": [
      "//anaconda/lib/python2.7/site-packages/sklearn/base.py:436: DataConversionWarning: A column-vector y was passed when a 1d array was expected. Please change the shape of y to (n_samples,), for example using ravel().\n",
      "  return self.fit(X, y, **fit_params).transform(X)\n",
      "//anaconda/lib/python2.7/site-packages/sklearn/base.py:436: DataConversionWarning: A column-vector y was passed when a 1d array was expected. Please change the shape of y to (n_samples,), for example using ravel().\n",
      "  return self.fit(X, y, **fit_params).transform(X)\n"
     ]
    },
    {
     "name": "stdout",
     "output_type": "stream",
     "text": [
      "\n",
      "Number of Estimators:  10\n",
      "Max Depth:  18\n",
      "+++++++++++++++++++\n",
      "Accuracy Score:  0.771245791246\n",
      "Precision Score: [ 0.73795685  0.61458333  0.85808207]\n",
      "Recall Score: [ 0.9273335   0.16134913  0.66696035]\n",
      "Fl Score: [ 0.82187723  0.25559567  0.75054531]\n",
      "------------------\n",
      "+++++++++++++++++++\n",
      "Number of Estimators:  10\n",
      "Max Depth:  19\n",
      "+++++++++++++++++++\n",
      "Accuracy Score:  0.777575757576\n",
      "Precision Score: [ 0.75078417  0.61585366  0.84608752]\n",
      "Recall Score: [ 0.91854419  0.18413856  0.69162996]\n",
      "Fl Score: [ 0.82623462  0.28350877  0.76110142]\n",
      "------------------\n",
      "+++++++++++++++++++"
     ]
    },
    {
     "name": "stderr",
     "output_type": "stream",
     "text": [
      "//anaconda/lib/python2.7/site-packages/sklearn/base.py:436: DataConversionWarning: A column-vector y was passed when a 1d array was expected. Please change the shape of y to (n_samples,), for example using ravel().\n",
      "  return self.fit(X, y, **fit_params).transform(X)\n",
      "//anaconda/lib/python2.7/site-packages/sklearn/base.py:436: DataConversionWarning: A column-vector y was passed when a 1d array was expected. Please change the shape of y to (n_samples,), for example using ravel().\n",
      "  return self.fit(X, y, **fit_params).transform(X)\n"
     ]
    },
    {
     "name": "stdout",
     "output_type": "stream",
     "text": [
      "\n",
      "Number of Estimators:  10\n",
      "Max Depth:  20\n",
      "+++++++++++++++++++\n",
      "Accuracy Score:  0.775824915825\n",
      "Precision Score: [ 0.74870912  0.61185984  0.84724033]\n",
      "Recall Score: [ 0.91544937  0.20692799  0.68704846]\n",
      "Fl Score: [ 0.82372598  0.30926431  0.75878175]\n",
      "------------------\n",
      "+++++++++++++++++++\n",
      "Number of Estimators:  11\n",
      "Max Depth:  10\n",
      "+++++++++++++++++++\n",
      "Accuracy Score:  0.732929292929\n",
      "Precision Score: [ 0.68694336  0.5         0.87589829]\n",
      "Recall Score: [ 0.95481555  0.00182315  0.5584141 ]\n",
      "Fl Score: [ 0.79902621  0.00363306  0.68201872]\n",
      "------------------\n",
      "+++++++++++++++++++"
     ]
    },
    {
     "name": "stderr",
     "output_type": "stream",
     "text": [
      "//anaconda/lib/python2.7/site-packages/sklearn/base.py:436: DataConversionWarning: A column-vector y was passed when a 1d array was expected. Please change the shape of y to (n_samples,), for example using ravel().\n",
      "  return self.fit(X, y, **fit_params).transform(X)\n",
      "//anaconda/lib/python2.7/site-packages/sklearn/base.py:436: DataConversionWarning: A column-vector y was passed when a 1d array was expected. Please change the shape of y to (n_samples,), for example using ravel().\n",
      "  return self.fit(X, y, **fit_params).transform(X)\n"
     ]
    },
    {
     "name": "stdout",
     "output_type": "stream",
     "text": [
      "\n",
      "Number of Estimators:  11\n",
      "Max Depth:  11\n",
      "+++++++++++++++++++\n",
      "Accuracy Score:  0.73898989899\n",
      "Precision Score: [ 0.69261853  0.55555556  0.87881242]\n",
      "Recall Score: [ 0.95481555  0.00455789  0.57374449]\n",
      "Fl Score: [ 0.80285209  0.00904159  0.69424307]\n",
      "------------------\n",
      "+++++++++++++++++++\n",
      "Number of Estimators:  11\n",
      "Max Depth:  12\n",
      "+++++++++++++++++++\n",
      "Accuracy Score:  0.738451178451\n",
      "Precision Score: [ 0.69434613  0.68181818  0.86636913]\n",
      "Recall Score: [ 0.94714038  0.01367366  0.5814978 ]\n",
      "Fl Score: [ 0.80127769  0.02680965  0.6959089 ]\n",
      "------------------\n",
      "+++++++++++++++++++"
     ]
    },
    {
     "name": "stderr",
     "output_type": "stream",
     "text": [
      "//anaconda/lib/python2.7/site-packages/sklearn/base.py:436: DataConversionWarning: A column-vector y was passed when a 1d array was expected. Please change the shape of y to (n_samples,), for example using ravel().\n",
      "  return self.fit(X, y, **fit_params).transform(X)\n",
      "//anaconda/lib/python2.7/site-packages/sklearn/base.py:436: DataConversionWarning: A column-vector y was passed when a 1d array was expected. Please change the shape of y to (n_samples,), for example using ravel().\n",
      "  return self.fit(X, y, **fit_params).transform(X)\n"
     ]
    },
    {
     "name": "stdout",
     "output_type": "stream",
     "text": [
      "\n",
      "Number of Estimators:  11\n",
      "Max Depth:  13\n",
      "+++++++++++++++++++\n",
      "Accuracy Score:  0.746599326599\n",
      "Precision Score: [ 0.70171909  0.62162162  0.87438741]\n",
      "Recall Score: [ 0.94998762  0.02096627  0.59735683]\n",
      "Fl Score: [ 0.8071947   0.04056437  0.70979899]\n",
      "------------------\n",
      "+++++++++++++++++++\n",
      "Number of Estimators:  11\n",
      "Max Depth:  14\n",
      "+++++++++++++++++++\n",
      "Accuracy Score:  0.753468013468\n",
      "Precision Score: [ 0.71114849  0.67948718  0.86612626]\n",
      "Recall Score: [ 0.94206487  0.04831358  0.62132159]\n",
      "Fl Score: [ 0.81047979  0.09021277  0.7235789 ]\n",
      "------------------\n",
      "+++++++++++++++++++"
     ]
    },
    {
     "name": "stderr",
     "output_type": "stream",
     "text": [
      "//anaconda/lib/python2.7/site-packages/sklearn/base.py:436: DataConversionWarning: A column-vector y was passed when a 1d array was expected. Please change the shape of y to (n_samples,), for example using ravel().\n",
      "  return self.fit(X, y, **fit_params).transform(X)\n",
      "//anaconda/lib/python2.7/site-packages/sklearn/base.py:436: DataConversionWarning: A column-vector y was passed when a 1d array was expected. Please change the shape of y to (n_samples,), for example using ravel().\n",
      "  return self.fit(X, y, **fit_params).transform(X)\n"
     ]
    },
    {
     "name": "stdout",
     "output_type": "stream",
     "text": [
      "\n",
      "Number of Estimators:  11\n",
      "Max Depth:  15\n",
      "+++++++++++++++++++\n",
      "Accuracy Score:  0.753468013468\n",
      "Precision Score: [ 0.71028906  0.62376238  0.87318296]\n",
      "Recall Score: [ 0.94602624  0.05742935  0.6139207 ]\n",
      "Fl Score: [ 0.81138185  0.10517529  0.72095189]\n",
      "------------------\n",
      "+++++++++++++++++++\n",
      "Number of Estimators:  11\n",
      "Max Depth:  16\n",
      "+++++++++++++++++++\n",
      "Accuracy Score:  0.764781144781\n",
      "Precision Score: [ 0.7259316   0.65497076  0.86485849]\n",
      "Recall Score: [ 0.93810349  0.10209663  0.6461674 ]\n",
      "Fl Score: [ 0.81849112  0.17665615  0.73968734]\n",
      "------------------\n",
      "+++++++++++++++++++"
     ]
    },
    {
     "name": "stderr",
     "output_type": "stream",
     "text": [
      "//anaconda/lib/python2.7/site-packages/sklearn/base.py:436: DataConversionWarning: A column-vector y was passed when a 1d array was expected. Please change the shape of y to (n_samples,), for example using ravel().\n",
      "  return self.fit(X, y, **fit_params).transform(X)\n",
      "//anaconda/lib/python2.7/site-packages/sklearn/base.py:436: DataConversionWarning: A column-vector y was passed when a 1d array was expected. Please change the shape of y to (n_samples,), for example using ravel().\n",
      "  return self.fit(X, y, **fit_params).transform(X)\n"
     ]
    },
    {
     "name": "stdout",
     "output_type": "stream",
     "text": [
      "\n",
      "Number of Estimators:  11\n",
      "Max Depth:  17\n",
      "+++++++++++++++++++\n",
      "Accuracy Score:  0.766464646465\n",
      "Precision Score: [ 0.72863351  0.66836735  0.86206094]\n",
      "Recall Score: [ 0.93401832  0.11941659  0.65303965]\n",
      "Fl Score: [ 0.81864048  0.20262954  0.74313214]\n",
      "------------------\n",
      "+++++++++++++++++++\n",
      "Number of Estimators:  11\n",
      "Max Depth:  18\n",
      "+++++++++++++++++++\n",
      "Accuracy Score:  0.769696969697\n",
      "Precision Score: [ 0.73901834  0.62454874  0.84759358]\n",
      "Recall Score: [ 0.92262936  0.15770283  0.67030837]\n",
      "Fl Score: [ 0.8206794   0.25181951  0.74859785]\n",
      "------------------\n",
      "+++++++++++++++++++"
     ]
    },
    {
     "name": "stderr",
     "output_type": "stream",
     "text": [
      "//anaconda/lib/python2.7/site-packages/sklearn/base.py:436: DataConversionWarning: A column-vector y was passed when a 1d array was expected. Please change the shape of y to (n_samples,), for example using ravel().\n",
      "  return self.fit(X, y, **fit_params).transform(X)\n",
      "//anaconda/lib/python2.7/site-packages/sklearn/base.py:436: DataConversionWarning: A column-vector y was passed when a 1d array was expected. Please change the shape of y to (n_samples,), for example using ravel().\n",
      "  return self.fit(X, y, **fit_params).transform(X)\n"
     ]
    },
    {
     "name": "stdout",
     "output_type": "stream",
     "text": [
      "\n",
      "Number of Estimators:  11\n",
      "Max Depth:  19\n",
      "+++++++++++++++++++\n",
      "Accuracy Score:  0.772996632997\n",
      "Precision Score: [ 0.74567578  0.60882353  0.84472186]\n",
      "Recall Score: [ 0.91792523  0.18869644  0.67964758]\n",
      "Fl Score: [ 0.82288314  0.28810021  0.75324675]\n",
      "------------------\n",
      "+++++++++++++++++++\n",
      "Number of Estimators:  11\n",
      "Max Depth:  20\n",
      "+++++++++++++++++++\n",
      "Accuracy Score:  0.774410774411\n",
      "Precision Score: [ 0.74692106  0.58187135  0.84789222]\n",
      "Recall Score: [ 0.91594454  0.18140383  0.68757709]\n",
      "Fl Score: [ 0.82284253  0.27658096  0.75936557]\n",
      "------------------\n",
      "+++++++++++++++++++"
     ]
    },
    {
     "name": "stderr",
     "output_type": "stream",
     "text": [
      "//anaconda/lib/python2.7/site-packages/sklearn/base.py:436: DataConversionWarning: A column-vector y was passed when a 1d array was expected. Please change the shape of y to (n_samples,), for example using ravel().\n",
      "  return self.fit(X, y, **fit_params).transform(X)\n",
      "//anaconda/lib/python2.7/site-packages/sklearn/base.py:436: DataConversionWarning: A column-vector y was passed when a 1d array was expected. Please change the shape of y to (n_samples,), for example using ravel().\n",
      "  return self.fit(X, y, **fit_params).transform(X)\n"
     ]
    },
    {
     "name": "stdout",
     "output_type": "stream",
     "text": [
      "\n",
      "Number of Estimators:  12\n",
      "Max Depth:  10\n",
      "+++++++++++++++++++\n",
      "Accuracy Score:  0.73164983165\n",
      "Precision Score: [ 0.68488661  1.          0.87960619]\n",
      "Recall Score: [ 0.95704382  0.00638104  0.55101322]\n",
      "Fl Score: [ 0.79840958  0.01268116  0.67757313]\n",
      "------------------\n",
      "+++++++++++++++++++\n",
      "Number of Estimators:  12\n",
      "Max Depth:  11\n",
      "+++++++++++++++++++\n",
      "Accuracy Score:  0.739124579125\n",
      "Precision Score: [ 0.69597602  0.71428571  0.86361257]\n",
      "Recall Score: [ 0.9485021   0.01367366  0.58132159]\n",
      "Fl Score: [ 0.80285011  0.02683363  0.69489205]\n",
      "------------------\n",
      "+++++++++++++++++++"
     ]
    },
    {
     "name": "stderr",
     "output_type": "stream",
     "text": [
      "//anaconda/lib/python2.7/site-packages/sklearn/base.py:436: DataConversionWarning: A column-vector y was passed when a 1d array was expected. Please change the shape of y to (n_samples,), for example using ravel().\n",
      "  return self.fit(X, y, **fit_params).transform(X)\n",
      "//anaconda/lib/python2.7/site-packages/sklearn/base.py:436: DataConversionWarning: A column-vector y was passed when a 1d array was expected. Please change the shape of y to (n_samples,), for example using ravel().\n",
      "  return self.fit(X, y, **fit_params).transform(X)\n"
     ]
    },
    {
     "name": "stdout",
     "output_type": "stream",
     "text": [
      "\n",
      "Number of Estimators:  12\n",
      "Max Depth:  12\n",
      "+++++++++++++++++++\n",
      "Accuracy Score:  0.741750841751\n",
      "Precision Score: [ 0.69758322  0.78571429  0.86699507]\n",
      "Recall Score: [ 0.9468928   0.02005469  0.5892511 ]\n",
      "Fl Score: [ 0.80333981  0.03911111  0.70163659]\n",
      "------------------\n",
      "+++++++++++++++++++\n",
      "Number of Estimators:  12\n",
      "Max Depth:  13\n",
      "+++++++++++++++++++\n",
      "Accuracy Score:  0.746531986532\n",
      "Precision Score: [ 0.69861526  0.78787879  0.88667728]\n",
      "Recall Score: [ 0.95555831  0.023701    0.58872247]\n",
      "Fl Score: [ 0.80713128  0.0460177   0.70761411]\n",
      "------------------\n",
      "+++++++++++++++++++"
     ]
    },
    {
     "name": "stderr",
     "output_type": "stream",
     "text": [
      "//anaconda/lib/python2.7/site-packages/sklearn/base.py:436: DataConversionWarning: A column-vector y was passed when a 1d array was expected. Please change the shape of y to (n_samples,), for example using ravel().\n",
      "  return self.fit(X, y, **fit_params).transform(X)\n",
      "//anaconda/lib/python2.7/site-packages/sklearn/base.py:436: DataConversionWarning: A column-vector y was passed when a 1d array was expected. Please change the shape of y to (n_samples,), for example using ravel().\n",
      "  return self.fit(X, y, **fit_params).transform(X)\n"
     ]
    },
    {
     "name": "stdout",
     "output_type": "stream",
     "text": [
      "\n",
      "Number of Estimators:  12\n",
      "Max Depth:  14\n",
      "+++++++++++++++++++\n",
      "Accuracy Score:  0.755218855219\n",
      "Precision Score: [ 0.71104711  0.72289157  0.87462537]\n",
      "Recall Score: [ 0.94738797  0.05469462  0.61709251]\n",
      "Fl Score: [ 0.81237726  0.10169492  0.72362847]\n",
      "------------------\n",
      "+++++++++++++++++++\n",
      "Number of Estimators:  12\n",
      "Max Depth:  15\n",
      "+++++++++++++++++++\n",
      "Accuracy Score:  0.759124579125\n",
      "Precision Score: [ 0.71530182  0.68571429  0.87801242]\n",
      "Recall Score: [ 0.94615004  0.08751139  0.62273128]\n",
      "Fl Score: [ 0.81468848  0.15521423  0.72865979]\n",
      "------------------\n",
      "+++++++++++++++++++"
     ]
    },
    {
     "name": "stderr",
     "output_type": "stream",
     "text": [
      "//anaconda/lib/python2.7/site-packages/sklearn/base.py:436: DataConversionWarning: A column-vector y was passed when a 1d array was expected. Please change the shape of y to (n_samples,), for example using ravel().\n",
      "  return self.fit(X, y, **fit_params).transform(X)\n",
      "//anaconda/lib/python2.7/site-packages/sklearn/base.py:436: DataConversionWarning: A column-vector y was passed when a 1d array was expected. Please change the shape of y to (n_samples,), for example using ravel().\n",
      "  return self.fit(X, y, **fit_params).transform(X)\n"
     ]
    },
    {
     "name": "stdout",
     "output_type": "stream",
     "text": [
      "\n",
      "Number of Estimators:  12\n",
      "Max Depth:  16\n",
      "+++++++++++++++++++\n",
      "Accuracy Score:  0.763905723906\n",
      "Precision Score: [ 0.72617786  0.62886598  0.86158522]\n",
      "Recall Score: [ 0.93302798  0.1112124   0.64933921]\n",
      "Fl Score: [ 0.81670911  0.18900077  0.74055466]\n",
      "------------------\n",
      "+++++++++++++++++++\n",
      "Number of Estimators:  12\n",
      "Max Depth:  17\n",
      "+++++++++++++++++++\n",
      "Accuracy Score:  0.768552188552\n",
      "Precision Score: [ 0.73483808  0.64257028  0.85354795]\n",
      "Recall Score: [ 0.92696212  0.14585232  0.66343612]\n",
      "Fl Score: [ 0.81979418  0.23774146  0.74657942]\n",
      "------------------\n",
      "+++++++++++++++++++"
     ]
    },
    {
     "name": "stderr",
     "output_type": "stream",
     "text": [
      "//anaconda/lib/python2.7/site-packages/sklearn/base.py:436: DataConversionWarning: A column-vector y was passed when a 1d array was expected. Please change the shape of y to (n_samples,), for example using ravel().\n",
      "  return self.fit(X, y, **fit_params).transform(X)\n",
      "//anaconda/lib/python2.7/site-packages/sklearn/base.py:436: DataConversionWarning: A column-vector y was passed when a 1d array was expected. Please change the shape of y to (n_samples,), for example using ravel().\n",
      "  return self.fit(X, y, **fit_params).transform(X)\n"
     ]
    },
    {
     "name": "stdout",
     "output_type": "stream",
     "text": [
      "\n",
      "Number of Estimators:  12\n",
      "Max Depth:  18\n",
      "+++++++++++++++++++\n",
      "Accuracy Score:  0.77164983165\n",
      "Precision Score: [ 0.73835373  0.61016949  0.85869319]\n",
      "Recall Score: [ 0.92609557  0.16408387  0.6692511 ]\n",
      "Fl Score: [ 0.82163646  0.25862069  0.75222816]\n",
      "------------------\n",
      "+++++++++++++++++++\n",
      "Number of Estimators:  12\n",
      "Max Depth:  19\n",
      "+++++++++++++++++++\n",
      "Accuracy Score:  0.776296296296\n",
      "Precision Score: [ 0.74565087  0.6407767   0.85305133]\n",
      "Recall Score: [ 0.92324833  0.18049225  0.68229075]\n",
      "Fl Score: [ 0.825       0.28165007  0.75817505]\n",
      "------------------\n",
      "+++++++++++++++++++"
     ]
    },
    {
     "name": "stderr",
     "output_type": "stream",
     "text": [
      "//anaconda/lib/python2.7/site-packages/sklearn/base.py:436: DataConversionWarning: A column-vector y was passed when a 1d array was expected. Please change the shape of y to (n_samples,), for example using ravel().\n",
      "  return self.fit(X, y, **fit_params).transform(X)\n",
      "//anaconda/lib/python2.7/site-packages/sklearn/base.py:436: DataConversionWarning: A column-vector y was passed when a 1d array was expected. Please change the shape of y to (n_samples,), for example using ravel().\n",
      "  return self.fit(X, y, **fit_params).transform(X)\n"
     ]
    },
    {
     "name": "stdout",
     "output_type": "stream",
     "text": [
      "\n",
      "Number of Estimators:  12\n",
      "Max Depth:  20\n",
      "+++++++++++++++++++\n",
      "Accuracy Score:  0.779393939394\n",
      "Precision Score: [ 0.7570604   0.59424084  0.83969786]\n",
      "Recall Score: [ 0.90925972  0.20692799  0.70519824]\n",
      "Fl Score: [ 0.82620922  0.30696416  0.76659324]\n",
      "------------------\n",
      "+++++++++++++++++++\n",
      "Number of Estimators:  13\n",
      "Max Depth:  10\n",
      "+++++++++++++++++++\n",
      "Accuracy Score:  0.732794612795\n",
      "Precision Score: [ 0.68407654  0.          0.89380787]\n",
      "Recall Score: [ 0.96471899  0.          0.54431718]\n",
      "Fl Score: [ 0.80051361  0.          0.67659621]\n",
      "------------------\n",
      "+++++++++++++++++++"
     ]
    },
    {
     "name": "stderr",
     "output_type": "stream",
     "text": [
      "//anaconda/lib/python2.7/site-packages/sklearn/base.py:436: DataConversionWarning: A column-vector y was passed when a 1d array was expected. Please change the shape of y to (n_samples,), for example using ravel().\n",
      "  return self.fit(X, y, **fit_params).transform(X)\n",
      "//anaconda/lib/python2.7/site-packages/sklearn/base.py:436: DataConversionWarning: A column-vector y was passed when a 1d array was expected. Please change the shape of y to (n_samples,), for example using ravel().\n",
      "  return self.fit(X, y, **fit_params).transform(X)\n"
     ]
    },
    {
     "name": "stdout",
     "output_type": "stream",
     "text": [
      "\n",
      "Number of Estimators:  13\n",
      "Max Depth:  11\n",
      "+++++++++++++++++++\n",
      "Accuracy Score:  0.739595959596\n",
      "Precision Score: [ 0.6947635   1.          0.87011616]\n",
      "Recall Score: [ 0.95097796  0.00455789  0.58079295]\n",
      "Fl Score: [ 0.80292657  0.00907441  0.69660784]\n",
      "------------------\n",
      "+++++++++++++++++++\n",
      "Number of Estimators:  13\n",
      "Max Depth:  12\n",
      "+++++++++++++++++++\n",
      "Accuracy Score:  0.741750841751\n",
      "Precision Score: [ 0.69644477  0.78571429  0.87302424]\n",
      "Recall Score: [ 0.95060659  0.02005469  0.58396476]\n",
      "Fl Score: [ 0.80391541  0.03911111  0.6998205 ]\n",
      "------------------\n",
      "+++++++++++++++++++"
     ]
    },
    {
     "name": "stderr",
     "output_type": "stream",
     "text": [
      "//anaconda/lib/python2.7/site-packages/sklearn/base.py:436: DataConversionWarning: A column-vector y was passed when a 1d array was expected. Please change the shape of y to (n_samples,), for example using ravel().\n",
      "  return self.fit(X, y, **fit_params).transform(X)\n",
      "//anaconda/lib/python2.7/site-packages/sklearn/base.py:436: DataConversionWarning: A column-vector y was passed when a 1d array was expected. Please change the shape of y to (n_samples,), for example using ravel().\n",
      "  return self.fit(X, y, **fit_params).transform(X)\n"
     ]
    },
    {
     "name": "stdout",
     "output_type": "stream",
     "text": [
      "\n",
      "Number of Estimators:  13\n",
      "Max Depth:  13\n",
      "+++++++++++++++++++\n",
      "Accuracy Score:  0.752794612795\n",
      "Precision Score: [ 0.71209988  0.73076923  0.85846079]\n",
      "Recall Score: [ 0.93909384  0.05195989  0.6230837 ]\n",
      "Fl Score: [ 0.80999413  0.09702128  0.72207474]\n",
      "------------------\n",
      "+++++++++++++++++++\n",
      "Number of Estimators:  13\n",
      "Max Depth:  14\n",
      "+++++++++++++++++++\n",
      "Accuracy Score:  0.751717171717\n",
      "Precision Score: [ 0.70736434  0.75714286  0.8734787 ]\n",
      "Recall Score: [ 0.94887348  0.04831358  0.60704846]\n",
      "Fl Score: [ 0.81051073  0.09083119  0.71629067]\n",
      "------------------\n",
      "+++++++++++++++++++"
     ]
    },
    {
     "name": "stderr",
     "output_type": "stream",
     "text": [
      "//anaconda/lib/python2.7/site-packages/sklearn/base.py:436: DataConversionWarning: A column-vector y was passed when a 1d array was expected. Please change the shape of y to (n_samples,), for example using ravel().\n",
      "  return self.fit(X, y, **fit_params).transform(X)\n",
      "//anaconda/lib/python2.7/site-packages/sklearn/base.py:436: DataConversionWarning: A column-vector y was passed when a 1d array was expected. Please change the shape of y to (n_samples,), for example using ravel().\n",
      "  return self.fit(X, y, **fit_params).transform(X)\n"
     ]
    },
    {
     "name": "stdout",
     "output_type": "stream",
     "text": [
      "\n",
      "Number of Estimators:  13\n",
      "Max Depth:  15\n",
      "+++++++++++++++++++\n",
      "Accuracy Score:  0.759124579125\n",
      "Precision Score: [ 0.71674668  0.68503937  0.87121951]\n",
      "Recall Score: [ 0.94256004  0.0793072   0.62942731]\n",
      "Fl Score: [ 0.81428801  0.14215686  0.73084399]\n",
      "------------------\n",
      "+++++++++++++++++++\n",
      "Number of Estimators:  13\n",
      "Max Depth:  16\n",
      "+++++++++++++++++++\n",
      "Accuracy Score:  0.763434343434\n",
      "Precision Score: [ 0.7234164   0.62926829  0.87194384]\n",
      "Recall Score: [ 0.9415697   0.11759344  0.63471366]\n",
      "Fl Score: [ 0.81820138  0.19815668  0.73465225]\n",
      "------------------\n",
      "+++++++++++++++++++"
     ]
    },
    {
     "name": "stderr",
     "output_type": "stream",
     "text": [
      "//anaconda/lib/python2.7/site-packages/sklearn/base.py:436: DataConversionWarning: A column-vector y was passed when a 1d array was expected. Please change the shape of y to (n_samples,), for example using ravel().\n",
      "  return self.fit(X, y, **fit_params).transform(X)\n",
      "//anaconda/lib/python2.7/site-packages/sklearn/base.py:436: DataConversionWarning: A column-vector y was passed when a 1d array was expected. Please change the shape of y to (n_samples,), for example using ravel().\n",
      "  return self.fit(X, y, **fit_params).transform(X)\n"
     ]
    },
    {
     "name": "stdout",
     "output_type": "stream",
     "text": [
      "\n",
      "Number of Estimators:  13\n",
      "Max Depth:  17\n",
      "+++++++++++++++++++\n",
      "Accuracy Score:  0.765858585859\n",
      "Precision Score: [ 0.72730773  0.61244019  0.86759172]\n",
      "Recall Score: [ 0.93538004  0.11668186  0.65004405]\n",
      "Fl Score: [ 0.81832458  0.19601838  0.74322555]\n",
      "------------------\n",
      "+++++++++++++++++++\n",
      "Number of Estimators:  13\n",
      "Max Depth:  18\n",
      "+++++++++++++++++++\n",
      "Accuracy Score:  0.772929292929\n",
      "Precision Score: [ 0.74316776  0.62251656  0.84896064]\n",
      "Recall Score: [ 0.92238178  0.17137648  0.67647577]\n",
      "Fl Score: [ 0.82313301  0.2687634   0.75296656]\n",
      "------------------\n",
      "+++++++++++++++++++"
     ]
    },
    {
     "name": "stderr",
     "output_type": "stream",
     "text": [
      "//anaconda/lib/python2.7/site-packages/sklearn/base.py:436: DataConversionWarning: A column-vector y was passed when a 1d array was expected. Please change the shape of y to (n_samples,), for example using ravel().\n",
      "  return self.fit(X, y, **fit_params).transform(X)\n",
      "//anaconda/lib/python2.7/site-packages/sklearn/base.py:436: DataConversionWarning: A column-vector y was passed when a 1d array was expected. Please change the shape of y to (n_samples,), for example using ravel().\n",
      "  return self.fit(X, y, **fit_params).transform(X)\n"
     ]
    },
    {
     "name": "stdout",
     "output_type": "stream",
     "text": [
      "\n",
      "Number of Estimators:  13\n",
      "Max Depth:  19\n",
      "+++++++++++++++++++\n",
      "Accuracy Score:  0.775016835017\n",
      "Precision Score: [ 0.74705349  0.6097561   0.84722524]\n",
      "Recall Score: [ 0.91804902  0.18231541  0.68599119]\n",
      "Fl Score: [ 0.82377117  0.28070175  0.75813048]\n",
      "------------------\n",
      "+++++++++++++++++++\n",
      "Number of Estimators:  13\n",
      "Max Depth:  20\n",
      "+++++++++++++++++++\n",
      "Accuracy Score:  0.779057239057\n",
      "Precision Score: [ 0.75453149  0.60881543  0.84286319]\n",
      "Recall Score: [ 0.91210696  0.20145852  0.70132159]\n",
      "Fl Score: [ 0.82587009  0.30273973  0.76560546]\n",
      "------------------\n",
      "+++++++++++++++++++"
     ]
    },
    {
     "name": "stderr",
     "output_type": "stream",
     "text": [
      "//anaconda/lib/python2.7/site-packages/sklearn/base.py:436: DataConversionWarning: A column-vector y was passed when a 1d array was expected. Please change the shape of y to (n_samples,), for example using ravel().\n",
      "  return self.fit(X, y, **fit_params).transform(X)\n",
      "//anaconda/lib/python2.7/site-packages/sklearn/base.py:436: DataConversionWarning: A column-vector y was passed when a 1d array was expected. Please change the shape of y to (n_samples,), for example using ravel().\n",
      "  return self.fit(X, y, **fit_params).transform(X)\n"
     ]
    },
    {
     "name": "stdout",
     "output_type": "stream",
     "text": [
      "\n",
      "Number of Estimators:  14\n",
      "Max Depth:  10\n",
      "+++++++++++++++++++\n",
      "Accuracy Score:  0.728821548822\n",
      "Precision Score: [ 0.68226275  0.          0.87974864]\n",
      "Recall Score: [ 0.95852934  0.          0.54273128]\n",
      "Fl Score: [ 0.797138    0.          0.67131648]\n",
      "------------------\n",
      "+++++++++++++++++++\n",
      "Number of Estimators:  14\n",
      "Max Depth:  11\n",
      "+++++++++++++++++++\n",
      "Accuracy Score:  0.739259259259\n",
      "Precision Score: [ 0.69317262  0.81818182  0.8766792 ]\n",
      "Recall Score: [ 0.953949    0.00820419  0.57497797]\n",
      "Fl Score: [ 0.80291743  0.01624549  0.69447696]\n",
      "------------------\n",
      "+++++++++++++++++++"
     ]
    },
    {
     "name": "stderr",
     "output_type": "stream",
     "text": [
      "//anaconda/lib/python2.7/site-packages/sklearn/base.py:436: DataConversionWarning: A column-vector y was passed when a 1d array was expected. Please change the shape of y to (n_samples,), for example using ravel().\n",
      "  return self.fit(X, y, **fit_params).transform(X)\n",
      "//anaconda/lib/python2.7/site-packages/sklearn/base.py:436: DataConversionWarning: A column-vector y was passed when a 1d array was expected. Please change the shape of y to (n_samples,), for example using ravel().\n",
      "  return self.fit(X, y, **fit_params).transform(X)\n"
     ]
    },
    {
     "name": "stdout",
     "output_type": "stream",
     "text": [
      "\n",
      "Number of Estimators:  14\n",
      "Max Depth:  12\n",
      "+++++++++++++++++++\n",
      "Accuracy Score:  0.744377104377\n",
      "Precision Score: [ 0.70152266  0.63636364  0.86462324]\n",
      "Recall Score: [ 0.946769    0.01914312  0.59647577]\n",
      "Fl Score: [ 0.80590095  0.03716814  0.70594369]\n",
      "------------------\n",
      "+++++++++++++++++++\n",
      "Number of Estimators:  14\n",
      "Max Depth:  13\n",
      "+++++++++++++++++++\n",
      "Accuracy Score:  0.749898989899\n",
      "Precision Score: [ 0.70717464  0.66666667  0.86557132]\n",
      "Recall Score: [ 0.94441693  0.02734731  0.61268722]\n",
      "Fl Score: [ 0.80875649  0.0525394   0.71749897]\n",
      "------------------\n",
      "+++++++++++++++++++"
     ]
    },
    {
     "name": "stderr",
     "output_type": "stream",
     "text": [
      "//anaconda/lib/python2.7/site-packages/sklearn/base.py:436: DataConversionWarning: A column-vector y was passed when a 1d array was expected. Please change the shape of y to (n_samples,), for example using ravel().\n",
      "  return self.fit(X, y, **fit_params).transform(X)\n",
      "//anaconda/lib/python2.7/site-packages/sklearn/base.py:436: DataConversionWarning: A column-vector y was passed when a 1d array was expected. Please change the shape of y to (n_samples,), for example using ravel().\n",
      "  return self.fit(X, y, **fit_params).transform(X)\n"
     ]
    },
    {
     "name": "stdout",
     "output_type": "stream",
     "text": [
      "\n",
      "Number of Estimators:  14\n",
      "Max Depth:  14\n",
      "+++++++++++++++++++\n",
      "Accuracy Score:  0.754276094276\n",
      "Precision Score: [ 0.71030641  0.68518519  0.87282663]\n",
      "Recall Score: [ 0.94701659  0.03372835  0.61920705]\n",
      "Fl Score: [ 0.81175722  0.06429192  0.7244614 ]\n",
      "------------------\n",
      "+++++++++++++++++++\n",
      "Number of Estimators:  14\n",
      "Max Depth:  15\n",
      "+++++++++++++++++++\n",
      "Accuracy Score:  0.761885521886\n",
      "Precision Score: [ 0.72071645  0.65151515  0.86965915]\n",
      "Recall Score: [ 0.9414459   0.07839562  0.6384141 ]\n",
      "Fl Score: [ 0.81642512  0.13995118  0.73630729]\n",
      "------------------\n",
      "+++++++++++++++++++"
     ]
    },
    {
     "name": "stderr",
     "output_type": "stream",
     "text": [
      "//anaconda/lib/python2.7/site-packages/sklearn/base.py:436: DataConversionWarning: A column-vector y was passed when a 1d array was expected. Please change the shape of y to (n_samples,), for example using ravel().\n",
      "  return self.fit(X, y, **fit_params).transform(X)\n",
      "//anaconda/lib/python2.7/site-packages/sklearn/base.py:436: DataConversionWarning: A column-vector y was passed when a 1d array was expected. Please change the shape of y to (n_samples,), for example using ravel().\n",
      "  return self.fit(X, y, **fit_params).transform(X)\n"
     ]
    },
    {
     "name": "stdout",
     "output_type": "stream",
     "text": [
      "\n",
      "Number of Estimators:  14\n",
      "Max Depth:  16\n",
      "+++++++++++++++++++\n",
      "Accuracy Score:  0.763434343434\n",
      "Precision Score: [ 0.72488038  0.67088608  0.86185761]\n",
      "Recall Score: [ 0.93773211  0.09662716  0.64422907]\n",
      "Fl Score: [ 0.81768135  0.1689243   0.73731975]\n",
      "------------------\n",
      "+++++++++++++++++++\n",
      "Number of Estimators:  14\n",
      "Max Depth:  17\n",
      "+++++++++++++++++++\n",
      "Accuracy Score:  0.768754208754\n",
      "Precision Score: [ 0.73333985  0.6614786   0.85822436]\n",
      "Recall Score: [ 0.9290666   0.15496809  0.65920705]\n",
      "Fl Score: [ 0.81968108  0.25110783  0.74566474]\n",
      "------------------\n",
      "+++++++++++++++++++"
     ]
    },
    {
     "name": "stderr",
     "output_type": "stream",
     "text": [
      "//anaconda/lib/python2.7/site-packages/sklearn/base.py:436: DataConversionWarning: A column-vector y was passed when a 1d array was expected. Please change the shape of y to (n_samples,), for example using ravel().\n",
      "  return self.fit(X, y, **fit_params).transform(X)\n",
      "//anaconda/lib/python2.7/site-packages/sklearn/base.py:436: DataConversionWarning: A column-vector y was passed when a 1d array was expected. Please change the shape of y to (n_samples,), for example using ravel().\n",
      "  return self.fit(X, y, **fit_params).transform(X)\n"
     ]
    },
    {
     "name": "stdout",
     "output_type": "stream",
     "text": [
      "\n",
      "Number of Estimators:  14\n",
      "Max Depth:  18\n",
      "+++++++++++++++++++\n",
      "Accuracy Score:  0.770572390572\n",
      "Precision Score: [ 0.73514149  0.62548263  0.86180905]\n",
      "Recall Score: [ 0.92943798  0.14767548  0.66484581]\n",
      "Fl Score: [ 0.82095019  0.23893805  0.7506217 ]\n",
      "------------------\n",
      "+++++++++++++++++++\n",
      "Number of Estimators:  14\n",
      "Max Depth:  19\n",
      "+++++++++++++++++++\n",
      "Accuracy Score:  0.775218855219\n",
      "Precision Score: [ 0.74670424  0.60501567  0.84871572]\n",
      "Recall Score: [ 0.91854419  0.17593437  0.68704846]\n",
      "Fl Score: [ 0.82375798  0.27259887  0.75937287]\n",
      "------------------\n",
      "+++++++++++++++++++"
     ]
    },
    {
     "name": "stderr",
     "output_type": "stream",
     "text": [
      "//anaconda/lib/python2.7/site-packages/sklearn/base.py:436: DataConversionWarning: A column-vector y was passed when a 1d array was expected. Please change the shape of y to (n_samples,), for example using ravel().\n",
      "  return self.fit(X, y, **fit_params).transform(X)\n",
      "//anaconda/lib/python2.7/site-packages/sklearn/base.py:436: DataConversionWarning: A column-vector y was passed when a 1d array was expected. Please change the shape of y to (n_samples,), for example using ravel().\n",
      "  return self.fit(X, y, **fit_params).transform(X)\n"
     ]
    },
    {
     "name": "stdout",
     "output_type": "stream",
     "text": [
      "\n",
      "Number of Estimators:  14\n",
      "Max Depth:  20\n",
      "+++++++++++++++++++\n",
      "Accuracy Score:  0.77771043771\n",
      "Precision Score: [ 0.75353122  0.59424084  0.84291188]\n",
      "Recall Score: [ 0.9113642   0.20692799  0.69779736]\n",
      "Fl Score: [ 0.82496638  0.30696416  0.76352068]\n",
      "------------------\n",
      "+++++++++++++++++++\n",
      "Number of Estimators:  15\n",
      "Max Depth:  10\n",
      "+++++++++++++++++++\n",
      "Accuracy Score:  0.733872053872\n",
      "Precision Score: [ 0.68838704  0.          0.87359474]\n",
      "Recall Score: [ 0.95469176  0.          0.56140969]\n",
      "Fl Score: [ 0.79995851  0.          0.6835443 ]\n",
      "------------------\n",
      "+++++++++++++++++++"
     ]
    },
    {
     "name": "stderr",
     "output_type": "stream",
     "text": [
      "//anaconda/lib/python2.7/site-packages/sklearn/base.py:436: DataConversionWarning: A column-vector y was passed when a 1d array was expected. Please change the shape of y to (n_samples,), for example using ravel().\n",
      "  return self.fit(X, y, **fit_params).transform(X)\n",
      "//anaconda/lib/python2.7/site-packages/sklearn/base.py:436: DataConversionWarning: A column-vector y was passed when a 1d array was expected. Please change the shape of y to (n_samples,), for example using ravel().\n",
      "  return self.fit(X, y, **fit_params).transform(X)\n"
     ]
    },
    {
     "name": "stdout",
     "output_type": "stream",
     "text": [
      "\n",
      "Number of Estimators:  15\n",
      "Max Depth:  11\n",
      "+++++++++++++++++++\n",
      "Accuracy Score:  0.739259259259\n",
      "Precision Score: [ 0.69222491  1.          0.8808234 ]\n",
      "Recall Score: [ 0.95555831  0.00638104  0.57303965]\n",
      "Fl Score: [ 0.80284986  0.01268116  0.69435251]\n",
      "------------------\n",
      "+++++++++++++++++++\n",
      "Number of Estimators:  15\n",
      "Max Depth:  12\n",
      "+++++++++++++++++++\n",
      "Accuracy Score:  0.743636363636\n",
      "Precision Score: [ 0.69881711  0.71428571  0.87267974]\n",
      "Recall Score: [ 0.95073038  0.02278943  0.58819383]\n",
      "Fl Score: [ 0.80553807  0.04416961  0.70273684]\n",
      "------------------\n",
      "+++++++++++++++++++"
     ]
    },
    {
     "name": "stderr",
     "output_type": "stream",
     "text": [
      "//anaconda/lib/python2.7/site-packages/sklearn/base.py:436: DataConversionWarning: A column-vector y was passed when a 1d array was expected. Please change the shape of y to (n_samples,), for example using ravel().\n",
      "  return self.fit(X, y, **fit_params).transform(X)\n",
      "//anaconda/lib/python2.7/site-packages/sklearn/base.py:436: DataConversionWarning: A column-vector y was passed when a 1d array was expected. Please change the shape of y to (n_samples,), for example using ravel().\n",
      "  return self.fit(X, y, **fit_params).transform(X)\n"
     ]
    },
    {
     "name": "stdout",
     "output_type": "stream",
     "text": [
      "\n",
      "Number of Estimators:  15\n",
      "Max Depth:  13\n",
      "+++++++++++++++++++\n",
      "Accuracy Score:  0.748417508418\n",
      "Precision Score: [ 0.70260155  0.65116279  0.8798027 ]\n",
      "Recall Score: [ 0.95283486  0.02552416  0.59718062]\n",
      "Fl Score: [ 0.80880576  0.04912281  0.71145166]\n",
      "------------------\n",
      "+++++++++++++++++++\n",
      "Number of Estimators:  15\n",
      "Max Depth:  14\n",
      "+++++++++++++++++++\n",
      "Accuracy Score:  0.754074074074\n",
      "Precision Score: [ 0.70830644  0.72289157  0.88137755]\n",
      "Recall Score: [ 0.95110176  0.05469462  0.60881057]\n",
      "Fl Score: [ 0.81194188  0.10169492  0.72016675]\n",
      "------------------\n",
      "+++++++++++++++++++"
     ]
    },
    {
     "name": "stderr",
     "output_type": "stream",
     "text": [
      "//anaconda/lib/python2.7/site-packages/sklearn/base.py:436: DataConversionWarning: A column-vector y was passed when a 1d array was expected. Please change the shape of y to (n_samples,), for example using ravel().\n",
      "  return self.fit(X, y, **fit_params).transform(X)\n",
      "//anaconda/lib/python2.7/site-packages/sklearn/base.py:436: DataConversionWarning: A column-vector y was passed when a 1d array was expected. Please change the shape of y to (n_samples,), for example using ravel().\n",
      "  return self.fit(X, y, **fit_params).transform(X)\n"
     ]
    },
    {
     "name": "stdout",
     "output_type": "stream",
     "text": [
      "\n",
      "Number of Estimators:  15\n",
      "Max Depth:  15\n",
      "+++++++++++++++++++\n",
      "Accuracy Score:  0.766060606061\n",
      "Precision Score: [ 0.72879066  0.65258216  0.86202058]\n",
      "Recall Score: [ 0.93476108  0.12670921  0.64951542]\n",
      "Fl Score: [ 0.81902489  0.21221374  0.74083007]\n",
      "------------------\n",
      "+++++++++++++++++++\n",
      "Number of Estimators:  15\n",
      "Max Depth:  16\n",
      "+++++++++++++++++++\n",
      "Accuracy Score:  0.766397306397\n",
      "Precision Score: [ 0.72565865  0.68361582  0.87157493]\n",
      "Recall Score: [ 0.94107452  0.11030082  0.6445815 ]\n",
      "Fl Score: [ 0.81944594  0.1899529   0.7410859 ]\n",
      "------------------\n",
      "+++++++++++++++++++"
     ]
    },
    {
     "name": "stderr",
     "output_type": "stream",
     "text": [
      "//anaconda/lib/python2.7/site-packages/sklearn/base.py:436: DataConversionWarning: A column-vector y was passed when a 1d array was expected. Please change the shape of y to (n_samples,), for example using ravel().\n",
      "  return self.fit(X, y, **fit_params).transform(X)\n",
      "//anaconda/lib/python2.7/site-packages/sklearn/base.py:436: DataConversionWarning: A column-vector y was passed when a 1d array was expected. Please change the shape of y to (n_samples,), for example using ravel().\n",
      "  return self.fit(X, y, **fit_params).transform(X)\n"
     ]
    },
    {
     "name": "stdout",
     "output_type": "stream",
     "text": [
      "\n",
      "Number of Estimators:  15\n",
      "Max Depth:  17\n",
      "+++++++++++++++++++\n",
      "Accuracy Score:  0.767878787879\n",
      "Precision Score: [ 0.73294233  0.67226891  0.85463259]\n",
      "Recall Score: [ 0.92820005  0.14585232  0.65991189]\n",
      "Fl Score: [ 0.81909548  0.23970037  0.7447549 ]\n",
      "------------------\n",
      "+++++++++++++++++++\n",
      "Number of Estimators:  15\n",
      "Max Depth:  18\n",
      "+++++++++++++++++++\n",
      "Accuracy Score:  0.772861952862\n",
      "Precision Score: [ 0.74147502  0.62413793  0.85330948]\n",
      "Recall Score: [ 0.92597178  0.16499544  0.67242291]\n",
      "Fl Score: [ 0.82351646  0.26099495  0.75214349]\n",
      "------------------\n",
      "+++++++++++++++++++"
     ]
    },
    {
     "name": "stderr",
     "output_type": "stream",
     "text": [
      "//anaconda/lib/python2.7/site-packages/sklearn/base.py:436: DataConversionWarning: A column-vector y was passed when a 1d array was expected. Please change the shape of y to (n_samples,), for example using ravel().\n",
      "  return self.fit(X, y, **fit_params).transform(X)\n",
      "//anaconda/lib/python2.7/site-packages/sklearn/base.py:436: DataConversionWarning: A column-vector y was passed when a 1d array was expected. Please change the shape of y to (n_samples,), for example using ravel().\n",
      "  return self.fit(X, y, **fit_params).transform(X)\n"
     ]
    },
    {
     "name": "stdout",
     "output_type": "stream",
     "text": [
      "\n",
      "Number of Estimators:  15\n",
      "Max Depth:  19\n",
      "+++++++++++++++++++\n",
      "Accuracy Score:  0.776565656566\n",
      "Precision Score: [ 0.74815861  0.59567901  0.85027086]\n",
      "Recall Score: [ 0.91792523  0.17593437  0.69145374]\n",
      "Fl Score: [ 0.82439268  0.27163969  0.76268222]\n",
      "------------------\n",
      "+++++++++++++++++++\n",
      "Number of Estimators:  15\n",
      "Max Depth:  20\n",
      "+++++++++++++++++++\n",
      "Accuracy Score:  0.780202020202\n",
      "Precision Score: [ 0.75521686  0.62278481  0.84569352]\n",
      "Recall Score: [ 0.91396385  0.22424795  0.69726872]\n",
      "Fl Score: [ 0.82704156  0.32975871  0.76434228]\n",
      "------------------\n",
      "+++++++++++++++++++"
     ]
    },
    {
     "name": "stderr",
     "output_type": "stream",
     "text": [
      "//anaconda/lib/python2.7/site-packages/sklearn/base.py:436: DataConversionWarning: A column-vector y was passed when a 1d array was expected. Please change the shape of y to (n_samples,), for example using ravel().\n",
      "  return self.fit(X, y, **fit_params).transform(X)\n",
      "//anaconda/lib/python2.7/site-packages/sklearn/base.py:436: DataConversionWarning: A column-vector y was passed when a 1d array was expected. Please change the shape of y to (n_samples,), for example using ravel().\n",
      "  return self.fit(X, y, **fit_params).transform(X)\n"
     ]
    },
    {
     "name": "stdout",
     "output_type": "stream",
     "text": [
      "\n",
      "Number of Estimators:  16\n",
      "Max Depth:  10\n",
      "+++++++++++++++++++\n",
      "Accuracy Score:  0.735218855219\n",
      "Precision Score: [ 0.68939869  0.8         0.87384699]\n",
      "Recall Score: [ 0.95233969  0.00364631  0.56757709]\n",
      "Fl Score: [ 0.79981286  0.00725953  0.68817434]\n",
      "------------------\n",
      "+++++++++++++++++++\n",
      "Number of Estimators:  16\n",
      "Max Depth:  11\n",
      "+++++++++++++++++++\n",
      "Accuracy Score:  0.736767676768\n",
      "Precision Score: [ 0.68884748  1.          0.88726865]\n",
      "Recall Score: [ 0.96112899  0.0118505   0.55753304]\n",
      "Fl Score: [ 0.80252209  0.02342342  0.68477438]\n",
      "------------------\n",
      "+++++++++++++++++++"
     ]
    },
    {
     "name": "stderr",
     "output_type": "stream",
     "text": [
      "//anaconda/lib/python2.7/site-packages/sklearn/base.py:436: DataConversionWarning: A column-vector y was passed when a 1d array was expected. Please change the shape of y to (n_samples,), for example using ravel().\n",
      "  return self.fit(X, y, **fit_params).transform(X)\n",
      "//anaconda/lib/python2.7/site-packages/sklearn/base.py:436: DataConversionWarning: A column-vector y was passed when a 1d array was expected. Please change the shape of y to (n_samples,), for example using ravel().\n",
      "  return self.fit(X, y, **fit_params).transform(X)\n"
     ]
    },
    {
     "name": "stdout",
     "output_type": "stream",
     "text": [
      "\n",
      "Number of Estimators:  16\n",
      "Max Depth:  12\n",
      "+++++++++++++++++++\n",
      "Accuracy Score:  0.744781144781\n",
      "Precision Score: [ 0.70009124  0.86363636  0.87073423]\n",
      "Recall Score: [ 0.94986383  0.01731996  0.59348018]\n",
      "Fl Score: [ 0.80607207  0.03395889  0.7058577 ]\n",
      "------------------\n",
      "+++++++++++++++++++\n",
      "Number of Estimators:  16\n",
      "Max Depth:  13\n",
      "+++++++++++++++++++\n",
      "Accuracy Score:  0.749562289562\n",
      "Precision Score: [ 0.70565446  0.65384615  0.86969621]\n",
      "Recall Score: [ 0.94701659  0.01549681  0.61039648]\n",
      "Fl Score: [ 0.80871082  0.03027605  0.71733278]\n",
      "------------------\n",
      "+++++++++++++++++++"
     ]
    },
    {
     "name": "stderr",
     "output_type": "stream",
     "text": [
      "//anaconda/lib/python2.7/site-packages/sklearn/base.py:436: DataConversionWarning: A column-vector y was passed when a 1d array was expected. Please change the shape of y to (n_samples,), for example using ravel().\n",
      "  return self.fit(X, y, **fit_params).transform(X)\n",
      "//anaconda/lib/python2.7/site-packages/sklearn/base.py:436: DataConversionWarning: A column-vector y was passed when a 1d array was expected. Please change the shape of y to (n_samples,), for example using ravel().\n",
      "  return self.fit(X, y, **fit_params).transform(X)\n"
     ]
    },
    {
     "name": "stdout",
     "output_type": "stream",
     "text": [
      "\n",
      "Number of Estimators:  16\n",
      "Max Depth:  14\n",
      "+++++++++++++++++++\n",
      "Accuracy Score:  0.753468013468\n",
      "Precision Score: [ 0.7081291   0.70588235  0.87854251]\n",
      "Recall Score: [ 0.94788314  0.05469462  0.61180617]\n",
      "Fl Score: [ 0.81065057  0.10152284  0.72130466]\n",
      "------------------\n",
      "+++++++++++++++++++\n",
      "Number of Estimators:  16\n",
      "Max Depth:  15\n",
      "+++++++++++++++++++\n",
      "Accuracy Score:  0.758451178451\n",
      "Precision Score: [ 0.7163448   0.67123288  0.87087307]\n",
      "Recall Score: [ 0.94132211  0.08933455  0.62748899]\n",
      "Fl Score: [ 0.81356658  0.15768302  0.72941417]\n",
      "------------------\n",
      "+++++++++++++++++++"
     ]
    },
    {
     "name": "stderr",
     "output_type": "stream",
     "text": [
      "//anaconda/lib/python2.7/site-packages/sklearn/base.py:436: DataConversionWarning: A column-vector y was passed when a 1d array was expected. Please change the shape of y to (n_samples,), for example using ravel().\n",
      "  return self.fit(X, y, **fit_params).transform(X)\n",
      "//anaconda/lib/python2.7/site-packages/sklearn/base.py:436: DataConversionWarning: A column-vector y was passed when a 1d array was expected. Please change the shape of y to (n_samples,), for example using ravel().\n",
      "  return self.fit(X, y, **fit_params).transform(X)\n"
     ]
    },
    {
     "name": "stdout",
     "output_type": "stream",
     "text": [
      "\n",
      "Number of Estimators:  16\n",
      "Max Depth:  16\n",
      "+++++++++++++++++++\n",
      "Accuracy Score:  0.765656565657\n",
      "Precision Score: [ 0.72455204  0.71186441  0.87108347]\n",
      "Recall Score: [ 0.94107452  0.11485871  0.64176211]\n",
      "Fl Score: [ 0.8187399   0.1978022   0.73904221]\n",
      "------------------\n",
      "+++++++++++++++++++\n",
      "Number of Estimators:  16\n",
      "Max Depth:  17\n",
      "+++++++++++++++++++\n",
      "Accuracy Score:  0.769023569024\n",
      "Precision Score: [ 0.73203883  0.636       0.86534884]\n",
      "Recall Score: [ 0.93339936  0.14494075  0.65568282]\n",
      "Fl Score: [ 0.82054631  0.23608018  0.74606516]\n",
      "------------------\n",
      "+++++++++++++++++++"
     ]
    },
    {
     "name": "stderr",
     "output_type": "stream",
     "text": [
      "//anaconda/lib/python2.7/site-packages/sklearn/base.py:436: DataConversionWarning: A column-vector y was passed when a 1d array was expected. Please change the shape of y to (n_samples,), for example using ravel().\n",
      "  return self.fit(X, y, **fit_params).transform(X)\n",
      "//anaconda/lib/python2.7/site-packages/sklearn/base.py:436: DataConversionWarning: A column-vector y was passed when a 1d array was expected. Please change the shape of y to (n_samples,), for example using ravel().\n",
      "  return self.fit(X, y, **fit_params).transform(X)\n"
     ]
    },
    {
     "name": "stdout",
     "output_type": "stream",
     "text": [
      "\n",
      "Number of Estimators:  16\n",
      "Max Depth:  18\n",
      "+++++++++++++++++++\n",
      "Accuracy Score:  0.771582491582\n",
      "Precision Score: [ 0.73723059  0.64495114  0.86010954]\n",
      "Recall Score: [ 0.9273335   0.18049225  0.66414097]\n",
      "Fl Score: [ 0.82142661  0.28205128  0.74952769]\n",
      "------------------\n",
      "+++++++++++++++++++\n",
      "Number of Estimators:  16\n",
      "Max Depth:  19\n",
      "+++++++++++++++++++\n",
      "Accuracy Score:  0.775622895623\n",
      "Precision Score: [ 0.74447886  0.64309764  0.85283766]\n",
      "Recall Score: [ 0.92225798  0.17411121  0.68317181]\n",
      "Fl Score: [ 0.8238872   0.27403156  0.75863418]\n",
      "------------------\n",
      "+++++++++++++++++++"
     ]
    },
    {
     "name": "stderr",
     "output_type": "stream",
     "text": [
      "//anaconda/lib/python2.7/site-packages/sklearn/base.py:436: DataConversionWarning: A column-vector y was passed when a 1d array was expected. Please change the shape of y to (n_samples,), for example using ravel().\n",
      "  return self.fit(X, y, **fit_params).transform(X)\n",
      "//anaconda/lib/python2.7/site-packages/sklearn/base.py:436: DataConversionWarning: A column-vector y was passed when a 1d array was expected. Please change the shape of y to (n_samples,), for example using ravel().\n",
      "  return self.fit(X, y, **fit_params).transform(X)\n"
     ]
    },
    {
     "name": "stdout",
     "output_type": "stream",
     "text": [
      "\n",
      "Number of Estimators:  16\n",
      "Max Depth:  20\n",
      "+++++++++++++++++++\n",
      "Accuracy Score:  0.774545454545\n",
      "Precision Score: [ 0.74752475  0.60660661  0.8445551 ]\n",
      "Recall Score: [ 0.91594454  0.18413856  0.68740088]\n",
      "Fl Score: [ 0.82320872  0.28251748  0.75791723]\n",
      "------------------\n",
      "+++++++++++++++++++\n",
      "Number of Estimators:  17\n",
      "Max Depth:  10\n",
      "+++++++++++++++++++\n",
      "Accuracy Score:  0.728888888889\n",
      "Precision Score: [ 0.68267612  1.          0.875     ]\n",
      "Recall Score: [ 0.95370141  0.00455789  0.54889868]\n",
      "Fl Score: [ 0.79574446  0.00907441  0.67460747]\n",
      "------------------\n",
      "+++++++++++++++++++"
     ]
    },
    {
     "name": "stderr",
     "output_type": "stream",
     "text": [
      "//anaconda/lib/python2.7/site-packages/sklearn/base.py:436: DataConversionWarning: A column-vector y was passed when a 1d array was expected. Please change the shape of y to (n_samples,), for example using ravel().\n",
      "  return self.fit(X, y, **fit_params).transform(X)\n",
      "//anaconda/lib/python2.7/site-packages/sklearn/base.py:436: DataConversionWarning: A column-vector y was passed when a 1d array was expected. Please change the shape of y to (n_samples,), for example using ravel().\n",
      "  return self.fit(X, y, **fit_params).transform(X)\n"
     ]
    },
    {
     "name": "stdout",
     "output_type": "stream",
     "text": [
      "\n",
      "Number of Estimators:  17\n",
      "Max Depth:  11\n",
      "+++++++++++++++++++\n",
      "Accuracy Score:  0.739528619529\n",
      "Precision Score: [ 0.69278462  0.85714286  0.87937534]\n",
      "Recall Score: [ 0.95444417  0.00546946  0.57550661]\n",
      "Fl Score: [ 0.8028323   0.01086957  0.69570774]\n",
      "------------------\n",
      "+++++++++++++++++++\n",
      "Number of Estimators:  17\n",
      "Max Depth:  12\n",
      "+++++++++++++++++++\n",
      "Accuracy Score:  0.74404040404\n",
      "Precision Score: [ 0.69700534  0.88235294  0.88095238]\n",
      "Recall Score: [ 0.95370141  0.01367366  0.58678414]\n",
      "Fl Score: [ 0.80539439  0.02692998  0.70438921]\n",
      "------------------\n",
      "+++++++++++++++++++"
     ]
    },
    {
     "name": "stderr",
     "output_type": "stream",
     "text": [
      "//anaconda/lib/python2.7/site-packages/sklearn/base.py:436: DataConversionWarning: A column-vector y was passed when a 1d array was expected. Please change the shape of y to (n_samples,), for example using ravel().\n",
      "  return self.fit(X, y, **fit_params).transform(X)\n",
      "//anaconda/lib/python2.7/site-packages/sklearn/base.py:436: DataConversionWarning: A column-vector y was passed when a 1d array was expected. Please change the shape of y to (n_samples,), for example using ravel().\n",
      "  return self.fit(X, y, **fit_params).transform(X)\n"
     ]
    },
    {
     "name": "stdout",
     "output_type": "stream",
     "text": [
      "\n",
      "Number of Estimators:  17\n",
      "Max Depth:  13\n",
      "+++++++++++++++++++\n",
      "Accuracy Score:  0.750505050505\n",
      "Precision Score: [ 0.70454545  0.74074074  0.87880338]\n",
      "Recall Score: [ 0.95172072  0.01823154  0.60563877]\n",
      "Fl Score: [ 0.80968931  0.03558719  0.71708742]\n",
      "------------------\n",
      "+++++++++++++++++++\n",
      "Number of Estimators:  17\n",
      "Max Depth:  14\n",
      "+++++++++++++++++++\n",
      "Accuracy Score:  0.756767676768\n",
      "Precision Score: [ 0.71165986  0.67058824  0.88029051]\n",
      "Recall Score: [ 0.94899728  0.05195989  0.61938326]\n",
      "Fl Score: [ 0.8133687   0.0964467   0.72714108]\n",
      "------------------\n",
      "+++++++++++++++++++"
     ]
    },
    {
     "name": "stderr",
     "output_type": "stream",
     "text": [
      "//anaconda/lib/python2.7/site-packages/sklearn/base.py:436: DataConversionWarning: A column-vector y was passed when a 1d array was expected. Please change the shape of y to (n_samples,), for example using ravel().\n",
      "  return self.fit(X, y, **fit_params).transform(X)\n",
      "//anaconda/lib/python2.7/site-packages/sklearn/base.py:436: DataConversionWarning: A column-vector y was passed when a 1d array was expected. Please change the shape of y to (n_samples,), for example using ravel().\n",
      "  return self.fit(X, y, **fit_params).transform(X)\n"
     ]
    },
    {
     "name": "stdout",
     "output_type": "stream",
     "text": [
      "\n",
      "Number of Estimators:  17\n",
      "Max Depth:  15\n",
      "+++++++++++++++++++\n",
      "Accuracy Score:  0.75696969697\n",
      "Precision Score: [ 0.71376473  0.6509434   0.87382716]\n",
      "Recall Score: [ 0.94491211  0.06289881  0.62361233]\n",
      "Fl Score: [ 0.81323247  0.11471322  0.72781491]\n",
      "------------------\n",
      "+++++++++++++++++++\n",
      "Number of Estimators:  17\n",
      "Max Depth:  16\n",
      "+++++++++++++++++++\n",
      "Accuracy Score:  0.762895622896\n",
      "Precision Score: [ 0.72164753  0.66901408  0.87029489]\n",
      "Recall Score: [ 0.94132211  0.08659982  0.63964758]\n",
      "Fl Score: [ 0.81697556  0.15334948  0.73735527]\n",
      "------------------\n",
      "+++++++++++++++++++"
     ]
    },
    {
     "name": "stderr",
     "output_type": "stream",
     "text": [
      "//anaconda/lib/python2.7/site-packages/sklearn/base.py:436: DataConversionWarning: A column-vector y was passed when a 1d array was expected. Please change the shape of y to (n_samples,), for example using ravel().\n",
      "  return self.fit(X, y, **fit_params).transform(X)\n",
      "//anaconda/lib/python2.7/site-packages/sklearn/base.py:436: DataConversionWarning: A column-vector y was passed when a 1d array was expected. Please change the shape of y to (n_samples,), for example using ravel().\n",
      "  return self.fit(X, y, **fit_params).transform(X)\n"
     ]
    },
    {
     "name": "stdout",
     "output_type": "stream",
     "text": [
      "\n",
      "Number of Estimators:  17\n",
      "Max Depth:  17\n",
      "+++++++++++++++++++\n",
      "Accuracy Score:  0.771717171717\n",
      "Precision Score: [ 0.73499854  0.67896679  0.86443418]\n",
      "Recall Score: [ 0.93253281  0.16773017  0.65955947]\n",
      "Fl Score: [ 0.8220658   0.26900585  0.74822589]\n",
      "------------------\n",
      "+++++++++++++++++++\n",
      "Number of Estimators:  17\n",
      "Max Depth:  18\n",
      "+++++++++++++++++++\n",
      "Accuracy Score:  0.772390572391\n",
      "Precision Score: [ 0.73948667  0.61889251  0.85859959]\n",
      "Recall Score: [ 0.9273335   0.17319964  0.6676652 ]\n",
      "Fl Score: [ 0.82282513  0.27065527  0.75118953]\n",
      "------------------\n",
      "+++++++++++++++++++"
     ]
    },
    {
     "name": "stderr",
     "output_type": "stream",
     "text": [
      "//anaconda/lib/python2.7/site-packages/sklearn/base.py:436: DataConversionWarning: A column-vector y was passed when a 1d array was expected. Please change the shape of y to (n_samples,), for example using ravel().\n",
      "  return self.fit(X, y, **fit_params).transform(X)\n",
      "//anaconda/lib/python2.7/site-packages/sklearn/base.py:436: DataConversionWarning: A column-vector y was passed when a 1d array was expected. Please change the shape of y to (n_samples,), for example using ravel().\n",
      "  return self.fit(X, y, **fit_params).transform(X)\n"
     ]
    },
    {
     "name": "stdout",
     "output_type": "stream",
     "text": [
      "\n",
      "Number of Estimators:  17\n",
      "Max Depth:  19\n",
      "+++++++++++++++++++\n",
      "Accuracy Score:  0.774343434343\n",
      "Precision Score: [ 0.74432557  0.6163522   0.85168837]\n",
      "Recall Score: [ 0.92151523  0.1786691   0.68      ]\n",
      "Fl Score: [ 0.82349687  0.2770318   0.75622183]\n",
      "------------------\n",
      "+++++++++++++++++++\n",
      "Number of Estimators:  17\n",
      "Max Depth:  20\n",
      "+++++++++++++++++++\n",
      "Accuracy Score:  0.777845117845\n",
      "Precision Score: [ 0.75134477  0.60614525  0.8473809 ]\n",
      "Recall Score: [ 0.91643971  0.19781222  0.69268722]\n",
      "Fl Score: [ 0.82572082  0.29828179  0.76226488]\n",
      "------------------\n",
      "+++++++++++++++++++"
     ]
    },
    {
     "name": "stderr",
     "output_type": "stream",
     "text": [
      "//anaconda/lib/python2.7/site-packages/sklearn/base.py:436: DataConversionWarning: A column-vector y was passed when a 1d array was expected. Please change the shape of y to (n_samples,), for example using ravel().\n",
      "  return self.fit(X, y, **fit_params).transform(X)\n",
      "//anaconda/lib/python2.7/site-packages/sklearn/base.py:436: DataConversionWarning: A column-vector y was passed when a 1d array was expected. Please change the shape of y to (n_samples,), for example using ravel().\n",
      "  return self.fit(X, y, **fit_params).transform(X)\n"
     ]
    },
    {
     "name": "stdout",
     "output_type": "stream",
     "text": [
      "\n",
      "Number of Estimators:  18\n",
      "Max Depth:  10\n",
      "+++++++++++++++++++\n",
      "Accuracy Score:  0.730707070707\n",
      "Precision Score: [ 0.68351862  1.          0.88262108]\n",
      "Recall Score: [ 0.95902451  0.00546946  0.54590308]\n",
      "Fl Score: [ 0.79816608  0.01087942  0.67457812]\n",
      "------------------\n",
      "+++++++++++++++++++\n",
      "Number of Estimators:  18\n",
      "Max Depth:  11\n",
      "+++++++++++++++++++\n",
      "Accuracy Score:  0.735555555556\n",
      "Precision Score: [ 0.68847491  0.82142857  0.88148765]\n",
      "Recall Score: [ 0.95617727  0.02096627  0.55964758]\n",
      "Fl Score: [ 0.80053894  0.04088889  0.68463031]\n",
      "------------------\n",
      "+++++++++++++++++++"
     ]
    },
    {
     "name": "stderr",
     "output_type": "stream",
     "text": [
      "//anaconda/lib/python2.7/site-packages/sklearn/base.py:436: DataConversionWarning: A column-vector y was passed when a 1d array was expected. Please change the shape of y to (n_samples,), for example using ravel().\n",
      "  return self.fit(X, y, **fit_params).transform(X)\n",
      "//anaconda/lib/python2.7/site-packages/sklearn/base.py:436: DataConversionWarning: A column-vector y was passed when a 1d array was expected. Please change the shape of y to (n_samples,), for example using ravel().\n",
      "  return self.fit(X, y, **fit_params).transform(X)\n"
     ]
    },
    {
     "name": "stdout",
     "output_type": "stream",
     "text": [
      "\n",
      "Number of Estimators:  18\n",
      "Max Depth:  12\n",
      "+++++++++++++++++++\n",
      "Accuracy Score:  0.744915824916\n",
      "Precision Score: [ 0.6987919   0.70588235  0.87787657]\n",
      "Recall Score: [ 0.95233969  0.01093892  0.59154185]\n",
      "Fl Score: [ 0.80609839  0.02154399  0.70681124]\n",
      "------------------\n",
      "+++++++++++++++++++\n",
      "Number of Estimators:  18\n",
      "Max Depth:  13\n",
      "+++++++++++++++++++\n",
      "Accuracy Score:  0.747474747475\n",
      "Precision Score: [ 0.70094563  0.78723404  0.88147175]\n",
      "Recall Score: [ 0.95432038  0.03372835  0.59101322]\n",
      "Fl Score: [ 0.80824072  0.06468531  0.70759494]\n",
      "------------------\n",
      "+++++++++++++++++++"
     ]
    },
    {
     "name": "stderr",
     "output_type": "stream",
     "text": [
      "//anaconda/lib/python2.7/site-packages/sklearn/base.py:436: DataConversionWarning: A column-vector y was passed when a 1d array was expected. Please change the shape of y to (n_samples,), for example using ravel().\n",
      "  return self.fit(X, y, **fit_params).transform(X)\n",
      "//anaconda/lib/python2.7/site-packages/sklearn/base.py:436: DataConversionWarning: A column-vector y was passed when a 1d array was expected. Please change the shape of y to (n_samples,), for example using ravel().\n",
      "  return self.fit(X, y, **fit_params).transform(X)\n"
     ]
    },
    {
     "name": "stdout",
     "output_type": "stream",
     "text": [
      "\n",
      "Number of Estimators:  18\n",
      "Max Depth:  14\n",
      "+++++++++++++++++++\n",
      "Accuracy Score:  0.75569023569\n",
      "Precision Score: [ 0.71241952  0.66346154  0.87316952]\n",
      "Recall Score: [ 0.94515969  0.06289881  0.61991189]\n",
      "Fl Score: [ 0.81245012  0.11490425  0.72506183]\n",
      "------------------\n",
      "+++++++++++++++++++\n",
      "Number of Estimators:  18\n",
      "Max Depth:  15\n",
      "+++++++++++++++++++\n",
      "Accuracy Score:  0.758316498316\n",
      "Precision Score: [ 0.71555847  0.61445783  0.87231969]\n",
      "Recall Score: [ 0.94454073  0.04649043  0.630837  ]\n",
      "Fl Score: [ 0.81425751  0.08644068  0.7321812 ]\n",
      "------------------\n",
      "+++++++++++++++++++"
     ]
    },
    {
     "name": "stderr",
     "output_type": "stream",
     "text": [
      "//anaconda/lib/python2.7/site-packages/sklearn/base.py:436: DataConversionWarning: A column-vector y was passed when a 1d array was expected. Please change the shape of y to (n_samples,), for example using ravel().\n",
      "  return self.fit(X, y, **fit_params).transform(X)\n",
      "//anaconda/lib/python2.7/site-packages/sklearn/base.py:436: DataConversionWarning: A column-vector y was passed when a 1d array was expected. Please change the shape of y to (n_samples,), for example using ravel().\n",
      "  return self.fit(X, y, **fit_params).transform(X)\n"
     ]
    },
    {
     "name": "stdout",
     "output_type": "stream",
     "text": [
      "\n",
      "Number of Estimators:  18\n",
      "Max Depth:  16\n",
      "+++++++++++++++++++\n",
      "Accuracy Score:  0.769494949495\n",
      "Precision Score: [ 0.73276281  0.65402844  0.86179982]\n",
      "Recall Score: [ 0.93278039  0.12579763  0.6614978 ]\n",
      "Fl Score: [ 0.8207614   0.21100917  0.74847971]\n",
      "------------------\n",
      "+++++++++++++++++++\n",
      "Number of Estimators:  18\n",
      "Max Depth:  17\n",
      "+++++++++++++++++++\n",
      "Accuracy Score:  0.772121212121\n",
      "Precision Score: [ 0.73555252  0.66244726  0.86381323]\n",
      "Recall Score: [ 0.93278039  0.14311759  0.66502203]\n",
      "Fl Score: [ 0.82250846  0.23538231  0.75149343]\n",
      "------------------\n",
      "+++++++++++++++++++"
     ]
    },
    {
     "name": "stderr",
     "output_type": "stream",
     "text": [
      "//anaconda/lib/python2.7/site-packages/sklearn/base.py:436: DataConversionWarning: A column-vector y was passed when a 1d array was expected. Please change the shape of y to (n_samples,), for example using ravel().\n",
      "  return self.fit(X, y, **fit_params).transform(X)\n",
      "//anaconda/lib/python2.7/site-packages/sklearn/base.py:436: DataConversionWarning: A column-vector y was passed when a 1d array was expected. Please change the shape of y to (n_samples,), for example using ravel().\n",
      "  return self.fit(X, y, **fit_params).transform(X)\n"
     ]
    },
    {
     "name": "stdout",
     "output_type": "stream",
     "text": [
      "\n",
      "Number of Estimators:  18\n",
      "Max Depth:  18\n",
      "+++++++++++++++++++\n",
      "Accuracy Score:  0.774747474747\n",
      "Precision Score: [ 0.7398406   0.68265683  0.8607337 ]\n",
      "Recall Score: [ 0.9307997   0.16864175  0.66977974]\n",
      "Fl Score: [ 0.82440656  0.27046784  0.75334456]\n",
      "------------------\n",
      "+++++++++++++++++++\n",
      "Number of Estimators:  18\n",
      "Max Depth:  19\n",
      "+++++++++++++++++++\n",
      "Accuracy Score:  0.775286195286\n",
      "Precision Score: [ 0.74888619  0.62171053  0.84111349]\n",
      "Recall Score: [ 0.91557316  0.17228806  0.69215859]\n",
      "Fl Score: [ 0.82388326  0.26980728  0.75940068]\n",
      "------------------\n",
      "+++++++++++++++++++"
     ]
    },
    {
     "name": "stderr",
     "output_type": "stream",
     "text": [
      "//anaconda/lib/python2.7/site-packages/sklearn/base.py:436: DataConversionWarning: A column-vector y was passed when a 1d array was expected. Please change the shape of y to (n_samples,), for example using ravel().\n",
      "  return self.fit(X, y, **fit_params).transform(X)\n",
      "//anaconda/lib/python2.7/site-packages/sklearn/base.py:436: DataConversionWarning: A column-vector y was passed when a 1d array was expected. Please change the shape of y to (n_samples,), for example using ravel().\n",
      "  return self.fit(X, y, **fit_params).transform(X)\n"
     ]
    },
    {
     "name": "stdout",
     "output_type": "stream",
     "text": [
      "\n",
      "Number of Estimators:  18\n",
      "Max Depth:  20\n",
      "+++++++++++++++++++\n",
      "Accuracy Score:  0.779528619529\n",
      "Precision Score: [ 0.75192542  0.61016949  0.85133967]\n",
      "Recall Score: [ 0.91854419  0.19690064  0.69427313]\n",
      "Fl Score: [ 0.82692522  0.29772571  0.76482578]\n",
      "------------------\n",
      "+++++++++++++++++++\n",
      "Number of Estimators:  19\n",
      "Max Depth:  10\n",
      "+++++++++++++++++++\n",
      "Accuracy Score:  0.733737373737\n",
      "Precision Score: [ 0.68729961  1.          0.87765811]\n",
      "Recall Score: [  9.55310720e-01   9.11577028e-04   5.60000000e-01]\n",
      "Fl Score: [ 0.79944059  0.00182149  0.68373494]\n",
      "------------------\n",
      "+++++++++++++++++++"
     ]
    },
    {
     "name": "stderr",
     "output_type": "stream",
     "text": [
      "//anaconda/lib/python2.7/site-packages/sklearn/base.py:436: DataConversionWarning: A column-vector y was passed when a 1d array was expected. Please change the shape of y to (n_samples,), for example using ravel().\n",
      "  return self.fit(X, y, **fit_params).transform(X)\n",
      "//anaconda/lib/python2.7/site-packages/sklearn/base.py:436: DataConversionWarning: A column-vector y was passed when a 1d array was expected. Please change the shape of y to (n_samples,), for example using ravel().\n",
      "  return self.fit(X, y, **fit_params).transform(X)\n"
     ]
    },
    {
     "name": "stdout",
     "output_type": "stream",
     "text": [
      "\n",
      "Number of Estimators:  19\n",
      "Max Depth:  11\n",
      "+++++++++++++++++++\n",
      "Accuracy Score:  0.738922558923\n",
      "Precision Score: [ 0.6908346   0.77777778  0.88821251]\n",
      "Recall Score: [ 0.96013865  0.00638104  0.56563877]\n",
      "Fl Score: [ 0.8035224   0.01265823  0.69114006]\n",
      "------------------\n",
      "+++++++++++++++++++\n",
      "Number of Estimators:  19\n",
      "Max Depth:  12\n",
      "+++++++++++++++++++\n",
      "Accuracy Score:  0.745387205387\n",
      "Precision Score: [ 0.69949977  0.71428571  0.87685499]\n",
      "Recall Score: [ 0.9520921   0.00911577  0.59348018]\n",
      "Fl Score: [ 0.80648036  0.0180018   0.70786045]\n",
      "------------------\n",
      "+++++++++++++++++++"
     ]
    },
    {
     "name": "stderr",
     "output_type": "stream",
     "text": [
      "//anaconda/lib/python2.7/site-packages/sklearn/base.py:436: DataConversionWarning: A column-vector y was passed when a 1d array was expected. Please change the shape of y to (n_samples,), for example using ravel().\n",
      "  return self.fit(X, y, **fit_params).transform(X)\n",
      "//anaconda/lib/python2.7/site-packages/sklearn/base.py:436: DataConversionWarning: A column-vector y was passed when a 1d array was expected. Please change the shape of y to (n_samples,), for example using ravel().\n",
      "  return self.fit(X, y, **fit_params).transform(X)\n"
     ]
    },
    {
     "name": "stdout",
     "output_type": "stream",
     "text": [
      "\n",
      "Number of Estimators:  19\n",
      "Max Depth:  13\n",
      "+++++++++++++++++++\n",
      "Accuracy Score:  0.751717171717\n",
      "Precision Score: [ 0.70672679  0.74285714  0.87563323]\n",
      "Recall Score: [ 0.95073038  0.023701    0.609163  ]\n",
      "Fl Score: [ 0.81076801  0.0459364   0.71848696]\n",
      "------------------\n",
      "+++++++++++++++++++\n",
      "Number of Estimators:  19\n",
      "Max Depth:  14\n",
      "+++++++++++++++++++\n",
      "Accuracy Score:  0.753804713805\n",
      "Precision Score: [ 0.70799152  0.64285714  0.88221827]\n",
      "Recall Score: [ 0.95085417  0.04102097  0.61110132]\n",
      "Fl Score: [ 0.81164474  0.07712082  0.72204872]\n",
      "------------------\n",
      "+++++++++++++++++++"
     ]
    },
    {
     "name": "stderr",
     "output_type": "stream",
     "text": [
      "//anaconda/lib/python2.7/site-packages/sklearn/base.py:436: DataConversionWarning: A column-vector y was passed when a 1d array was expected. Please change the shape of y to (n_samples,), for example using ravel().\n",
      "  return self.fit(X, y, **fit_params).transform(X)\n",
      "//anaconda/lib/python2.7/site-packages/sklearn/base.py:436: DataConversionWarning: A column-vector y was passed when a 1d array was expected. Please change the shape of y to (n_samples,), for example using ravel().\n",
      "  return self.fit(X, y, **fit_params).transform(X)\n"
     ]
    },
    {
     "name": "stdout",
     "output_type": "stream",
     "text": [
      "\n",
      "Number of Estimators:  19\n",
      "Max Depth:  15\n",
      "+++++++++++++++++++\n",
      "Accuracy Score:  0.761346801347\n",
      "Precision Score: [ 0.72266184  0.66666667  0.85956645]\n",
      "Recall Score: [ 0.93835108  0.07110301  0.64281938]\n",
      "Fl Score: [ 0.8165024   0.12850082  0.73555802]\n",
      "------------------\n",
      "+++++++++++++++++++\n",
      "Number of Estimators:  19\n",
      "Max Depth:  16\n",
      "+++++++++++++++++++\n",
      "Accuracy Score:  0.76632996633\n",
      "Precision Score: [ 0.72532926  0.6576087   0.87368672]\n",
      "Recall Score: [ 0.94082694  0.11030082  0.64475771]\n",
      "Fl Score: [ 0.81914206  0.18891491  0.74196492]\n",
      "------------------\n",
      "+++++++++++++++++++"
     ]
    },
    {
     "name": "stderr",
     "output_type": "stream",
     "text": [
      "//anaconda/lib/python2.7/site-packages/sklearn/base.py:436: DataConversionWarning: A column-vector y was passed when a 1d array was expected. Please change the shape of y to (n_samples,), for example using ravel().\n",
      "  return self.fit(X, y, **fit_params).transform(X)\n",
      "//anaconda/lib/python2.7/site-packages/sklearn/base.py:436: DataConversionWarning: A column-vector y was passed when a 1d array was expected. Please change the shape of y to (n_samples,), for example using ravel().\n",
      "  return self.fit(X, y, **fit_params).transform(X)\n"
     ]
    },
    {
     "name": "stdout",
     "output_type": "stream",
     "text": [
      "\n",
      "Number of Estimators:  19\n",
      "Max Depth:  17\n",
      "+++++++++++++++++++\n",
      "Accuracy Score:  0.767003367003\n",
      "Precision Score: [ 0.72783287  0.65816327  0.86735411]\n",
      "Recall Score: [ 0.93587522  0.11759344  0.65215859]\n",
      "Fl Score: [ 0.81884647  0.19953596  0.74451821]\n",
      "------------------\n",
      "+++++++++++++++++++\n",
      "Number of Estimators:  19\n",
      "Max Depth:  18\n",
      "+++++++++++++++++++\n",
      "Accuracy Score:  0.773602693603\n",
      "Precision Score: [ 0.7422496   0.61355932  0.85437542]\n",
      "Recall Score: [ 0.92473385  0.16499544  0.67612335]\n",
      "Fl Score: [ 0.82350347  0.26005747  0.75486917]\n",
      "------------------\n",
      "+++++++++++++++++++"
     ]
    },
    {
     "name": "stderr",
     "output_type": "stream",
     "text": [
      "//anaconda/lib/python2.7/site-packages/sklearn/base.py:436: DataConversionWarning: A column-vector y was passed when a 1d array was expected. Please change the shape of y to (n_samples,), for example using ravel().\n",
      "  return self.fit(X, y, **fit_params).transform(X)\n",
      "//anaconda/lib/python2.7/site-packages/sklearn/base.py:436: DataConversionWarning: A column-vector y was passed when a 1d array was expected. Please change the shape of y to (n_samples,), for example using ravel().\n",
      "  return self.fit(X, y, **fit_params).transform(X)\n"
     ]
    },
    {
     "name": "stdout",
     "output_type": "stream",
     "text": [
      "\n",
      "Number of Estimators:  19\n",
      "Max Depth:  19\n",
      "+++++++++++++++++++\n",
      "Accuracy Score:  0.775488215488\n",
      "Precision Score: [ 0.74613842  0.62886598  0.84855088]\n",
      "Recall Score: [ 0.92089626  0.1668186   0.6861674 ]\n",
      "Fl Score: [ 0.82435727  0.26368876  0.75876851]\n",
      "------------------\n",
      "+++++++++++++++++++\n",
      "Number of Estimators:  19\n",
      "Max Depth:  20\n",
      "+++++++++++++++++++\n",
      "Accuracy Score:  0.781077441077\n",
      "Precision Score: [ 0.7554309   0.61741425  0.84826404]\n",
      "Recall Score: [ 0.91693488  0.21330902  0.69744493]\n",
      "Fl Score: [ 0.8283845   0.31707317  0.76549657]\n",
      "------------------\n",
      "+++++++++++++++++++"
     ]
    },
    {
     "name": "stderr",
     "output_type": "stream",
     "text": [
      "//anaconda/lib/python2.7/site-packages/sklearn/base.py:436: DataConversionWarning: A column-vector y was passed when a 1d array was expected. Please change the shape of y to (n_samples,), for example using ravel().\n",
      "  return self.fit(X, y, **fit_params).transform(X)\n",
      "//anaconda/lib/python2.7/site-packages/sklearn/base.py:436: DataConversionWarning: A column-vector y was passed when a 1d array was expected. Please change the shape of y to (n_samples,), for example using ravel().\n",
      "  return self.fit(X, y, **fit_params).transform(X)\n"
     ]
    },
    {
     "name": "stdout",
     "output_type": "stream",
     "text": [
      "\n",
      "Number of Estimators:  20\n",
      "Max Depth:  10\n",
      "+++++++++++++++++++\n",
      "Accuracy Score:  0.733535353535\n",
      "Precision Score: [ 0.6884058   1.          0.87073902]\n",
      "Recall Score: [ 0.95258727  0.00455789  0.56264317]\n",
      "Fl Score: [ 0.79923141  0.00907441  0.68357953]\n",
      "------------------\n",
      "+++++++++++++++++++\n",
      "Number of Estimators:  20\n",
      "Max Depth:  11\n",
      "+++++++++++++++++++\n",
      "Accuracy Score:  0.737575757576\n",
      "Precision Score: [ 0.69160977  1.          0.87503367]\n",
      "Recall Score: [ 0.95308245  0.00455789  0.57251101]\n",
      "Fl Score: [ 0.80156169  0.00907441  0.6921602 ]\n",
      "------------------\n",
      "+++++++++++++++++++"
     ]
    },
    {
     "name": "stderr",
     "output_type": "stream",
     "text": [
      "//anaconda/lib/python2.7/site-packages/sklearn/base.py:436: DataConversionWarning: A column-vector y was passed when a 1d array was expected. Please change the shape of y to (n_samples,), for example using ravel().\n",
      "  return self.fit(X, y, **fit_params).transform(X)\n",
      "//anaconda/lib/python2.7/site-packages/sklearn/base.py:436: DataConversionWarning: A column-vector y was passed when a 1d array was expected. Please change the shape of y to (n_samples,), for example using ravel().\n",
      "  return self.fit(X, y, **fit_params).transform(X)\n"
     ]
    },
    {
     "name": "stdout",
     "output_type": "stream",
     "text": [
      "\n",
      "Number of Estimators:  20\n",
      "Max Depth:  12\n",
      "+++++++++++++++++++\n",
      "Accuracy Score:  0.743164983165\n",
      "Precision Score: [ 0.69803422  0.70833333  0.87258989]\n",
      "Recall Score: [ 0.94949245  0.01549681  0.59013216]\n",
      "Fl Score: [ 0.80457359  0.03033006  0.70408914]\n",
      "------------------\n",
      "+++++++++++++++++++\n",
      "Number of Estimators:  20\n",
      "Max Depth:  13\n",
      "+++++++++++++++++++\n",
      "Accuracy Score:  0.751515151515\n",
      "Precision Score: [ 0.70546689  0.77586207  0.88020566]\n",
      "Recall Score: [ 0.9520921   0.04102097  0.60334802]\n",
      "Fl Score: [ 0.81043203  0.07792208  0.71594354]\n",
      "------------------\n",
      "+++++++++++++++++++"
     ]
    },
    {
     "name": "stderr",
     "output_type": "stream",
     "text": [
      "//anaconda/lib/python2.7/site-packages/sklearn/base.py:436: DataConversionWarning: A column-vector y was passed when a 1d array was expected. Please change the shape of y to (n_samples,), for example using ravel().\n",
      "  return self.fit(X, y, **fit_params).transform(X)\n",
      "//anaconda/lib/python2.7/site-packages/sklearn/base.py:436: DataConversionWarning: A column-vector y was passed when a 1d array was expected. Please change the shape of y to (n_samples,), for example using ravel().\n",
      "  return self.fit(X, y, **fit_params).transform(X)\n"
     ]
    },
    {
     "name": "stdout",
     "output_type": "stream",
     "text": [
      "\n",
      "Number of Estimators:  20\n",
      "Max Depth:  14\n",
      "+++++++++++++++++++\n",
      "Accuracy Score:  0.757441077441\n",
      "Precision Score: [ 0.71460632  0.65079365  0.87099927]\n",
      "Recall Score: [ 0.94602624  0.03737466  0.62819383]\n",
      "Fl Score: [ 0.81419135  0.07068966  0.72993448]\n",
      "------------------\n",
      "+++++++++++++++++++\n",
      "Number of Estimators:  20\n",
      "Max Depth:  15\n",
      "+++++++++++++++++++\n",
      "Accuracy Score:  0.761548821549\n",
      "Precision Score: [ 0.72005307  0.67010309  0.8678886 ]\n",
      "Recall Score: [ 0.94057935  0.05925251  0.64246696]\n",
      "Fl Score: [ 0.81567364  0.10887772  0.73835561]\n",
      "------------------\n",
      "+++++++++++++++++++"
     ]
    },
    {
     "name": "stderr",
     "output_type": "stream",
     "text": [
      "//anaconda/lib/python2.7/site-packages/sklearn/base.py:436: DataConversionWarning: A column-vector y was passed when a 1d array was expected. Please change the shape of y to (n_samples,), for example using ravel().\n",
      "  return self.fit(X, y, **fit_params).transform(X)\n",
      "//anaconda/lib/python2.7/site-packages/sklearn/base.py:436: DataConversionWarning: A column-vector y was passed when a 1d array was expected. Please change the shape of y to (n_samples,), for example using ravel().\n",
      "  return self.fit(X, y, **fit_params).transform(X)\n"
     ]
    },
    {
     "name": "stdout",
     "output_type": "stream",
     "text": [
      "\n",
      "Number of Estimators:  20\n",
      "Max Depth:  16\n",
      "+++++++++++++++++++\n",
      "Accuracy Score:  0.768417508418\n",
      "Precision Score: [ 0.7295082   0.65853659  0.86807018]\n",
      "Recall Score: [ 0.93649418  0.1230629   0.6539207 ]\n",
      "Fl Score: [ 0.8201431   0.20737327  0.74592965]\n",
      "------------------\n",
      "+++++++++++++++++++\n",
      "Number of Estimators:  20\n",
      "Max Depth:  17\n",
      "+++++++++++++++++++\n",
      "Accuracy Score:  0.767676767677\n",
      "Precision Score: [ 0.72887561  0.66169154  0.86697892]\n",
      "Recall Score: [ 0.93649418  0.12123974  0.6523348 ]\n",
      "Fl Score: [ 0.81974319  0.20493066  0.74449472]\n",
      "------------------\n",
      "+++++++++++++++++++"
     ]
    },
    {
     "name": "stderr",
     "output_type": "stream",
     "text": [
      "//anaconda/lib/python2.7/site-packages/sklearn/base.py:436: DataConversionWarning: A column-vector y was passed when a 1d array was expected. Please change the shape of y to (n_samples,), for example using ravel().\n",
      "  return self.fit(X, y, **fit_params).transform(X)\n",
      "//anaconda/lib/python2.7/site-packages/sklearn/base.py:436: DataConversionWarning: A column-vector y was passed when a 1d array was expected. Please change the shape of y to (n_samples,), for example using ravel().\n",
      "  return self.fit(X, y, **fit_params).transform(X)\n"
     ]
    },
    {
     "name": "stdout",
     "output_type": "stream",
     "text": [
      "\n",
      "Number of Estimators:  20\n",
      "Max Depth:  18\n",
      "+++++++++++++++++++\n",
      "Accuracy Score:  0.774410774411\n",
      "Precision Score: [ 0.73879276  0.68951613  0.86094808]\n",
      "Recall Score: [ 0.93030453  0.15587967  0.67207048]\n",
      "Fl Score: [ 0.82356164  0.25427509  0.75487382]\n",
      "------------------\n",
      "+++++++++++++++++++\n",
      "Number of Estimators:  20\n",
      "Max Depth:  19\n",
      "+++++++++++++++++++\n",
      "Accuracy Score:  0.777239057239\n",
      "Precision Score: [ 0.74643503  0.64590164  0.852845  ]\n",
      "Recall Score: [ 0.9201535   0.17958067  0.68933921]\n",
      "Fl Score: [ 0.82424041  0.2810271   0.76242448]\n",
      "------------------\n",
      "+++++++++++++++++++"
     ]
    },
    {
     "name": "stderr",
     "output_type": "stream",
     "text": [
      "//anaconda/lib/python2.7/site-packages/sklearn/base.py:436: DataConversionWarning: A column-vector y was passed when a 1d array was expected. Please change the shape of y to (n_samples,), for example using ravel().\n",
      "  return self.fit(X, y, **fit_params).transform(X)\n",
      "//anaconda/lib/python2.7/site-packages/sklearn/base.py:436: DataConversionWarning: A column-vector y was passed when a 1d array was expected. Please change the shape of y to (n_samples,), for example using ravel().\n",
      "  return self.fit(X, y, **fit_params).transform(X)\n"
     ]
    },
    {
     "name": "stdout",
     "output_type": "stream",
     "text": [
      "\n",
      "Number of Estimators:  20\n",
      "Max Depth:  20\n",
      "+++++++++++++++++++\n",
      "Accuracy Score:  0.779595959596\n",
      "Precision Score: [ 0.75576509  0.61452514  0.84118268]\n",
      "Recall Score: [ 0.91284972  0.20054695  0.70185022]\n",
      "Fl Score: [ 0.82691337  0.3024055   0.76522574]\n",
      "------------------\n",
      "+++++++++++++++++++\n",
      "Number of Estimators:  21\n",
      "Max Depth:  10\n",
      "+++++++++++++++++++\n",
      "Accuracy Score:  0.734814814815\n",
      "Precision Score: [ 0.68826308  0.          0.87875448]\n",
      "Recall Score: [ 0.95605348  0.          0.56193833]\n",
      "Fl Score: [ 0.80035235  0.          0.68551161]\n",
      "------------------\n",
      "+++++++++++++++++++"
     ]
    },
    {
     "name": "stderr",
     "output_type": "stream",
     "text": [
      "//anaconda/lib/python2.7/site-packages/sklearn/base.py:436: DataConversionWarning: A column-vector y was passed when a 1d array was expected. Please change the shape of y to (n_samples,), for example using ravel().\n",
      "  return self.fit(X, y, **fit_params).transform(X)\n",
      "//anaconda/lib/python2.7/site-packages/sklearn/base.py:436: DataConversionWarning: A column-vector y was passed when a 1d array was expected. Please change the shape of y to (n_samples,), for example using ravel().\n",
      "  return self.fit(X, y, **fit_params).transform(X)\n"
     ]
    },
    {
     "name": "stdout",
     "output_type": "stream",
     "text": [
      "\n",
      "Number of Estimators:  21\n",
      "Max Depth:  11\n",
      "+++++++++++++++++++\n",
      "Accuracy Score:  0.734074074074\n",
      "Precision Score: [ 0.68775656  0.9         0.87644469]\n",
      "Recall Score: [ 0.95407279  0.00820419  0.56123348]\n",
      "Fl Score: [ 0.79931549  0.01626016  0.68428403]\n",
      "------------------\n",
      "+++++++++++++++++++\n",
      "Number of Estimators:  21\n",
      "Max Depth:  12\n",
      "+++++++++++++++++++\n",
      "Accuracy Score:  0.744781144781\n",
      "Precision Score: [ 0.69776491  0.8         0.881763  ]\n",
      "Recall Score: [ 0.95456796  0.00729262  0.58872247]\n",
      "Fl Score: [ 0.80621047  0.01445348  0.70604396]\n",
      "------------------\n",
      "+++++++++++++++++++"
     ]
    },
    {
     "name": "stderr",
     "output_type": "stream",
     "text": [
      "//anaconda/lib/python2.7/site-packages/sklearn/base.py:436: DataConversionWarning: A column-vector y was passed when a 1d array was expected. Please change the shape of y to (n_samples,), for example using ravel().\n",
      "  return self.fit(X, y, **fit_params).transform(X)\n",
      "//anaconda/lib/python2.7/site-packages/sklearn/base.py:436: DataConversionWarning: A column-vector y was passed when a 1d array was expected. Please change the shape of y to (n_samples,), for example using ravel().\n",
      "  return self.fit(X, y, **fit_params).transform(X)\n"
     ]
    },
    {
     "name": "stdout",
     "output_type": "stream",
     "text": [
      "\n",
      "Number of Estimators:  21\n",
      "Max Depth:  13\n",
      "+++++++++++++++++++\n",
      "Accuracy Score:  0.752525252525\n",
      "Precision Score: [ 0.707715    0.67088608  0.87812341]\n",
      "Recall Score: [ 0.95048279  0.04831358  0.60687225]\n",
      "Fl Score: [ 0.81132773  0.09013605  0.71772429]\n",
      "------------------\n",
      "+++++++++++++++++++\n",
      "Number of Estimators:  21\n",
      "Max Depth:  14\n",
      "+++++++++++++++++++\n",
      "Accuracy Score:  0.755555555556\n",
      "Precision Score: [ 0.71360225  0.69230769  0.86551556]\n",
      "Recall Score: [ 0.94169349  0.04922516  0.62713656]\n",
      "Fl Score: [ 0.81193297  0.09191489  0.7272913 ]\n",
      "------------------\n",
      "+++++++++++++++++++"
     ]
    },
    {
     "name": "stderr",
     "output_type": "stream",
     "text": [
      "//anaconda/lib/python2.7/site-packages/sklearn/base.py:436: DataConversionWarning: A column-vector y was passed when a 1d array was expected. Please change the shape of y to (n_samples,), for example using ravel().\n",
      "  return self.fit(X, y, **fit_params).transform(X)\n",
      "//anaconda/lib/python2.7/site-packages/sklearn/base.py:436: DataConversionWarning: A column-vector y was passed when a 1d array was expected. Please change the shape of y to (n_samples,), for example using ravel().\n",
      "  return self.fit(X, y, **fit_params).transform(X)\n"
     ]
    },
    {
     "name": "stdout",
     "output_type": "stream",
     "text": [
      "\n",
      "Number of Estimators:  21\n",
      "Max Depth:  15\n",
      "+++++++++++++++++++\n",
      "Accuracy Score:  0.7632996633\n",
      "Precision Score: [ 0.72156937  0.68965517  0.87189983]\n",
      "Recall Score: [ 0.94256004  0.0911577   0.63806167]\n",
      "Fl Score: [ 0.8173913   0.1610306   0.73687424]\n",
      "------------------\n",
      "+++++++++++++++++++\n",
      "Number of Estimators:  21\n",
      "Max Depth:  16\n",
      "+++++++++++++++++++\n",
      "Accuracy Score:  0.76404040404\n",
      "Precision Score: [ 0.72307254  0.67883212  0.86957558]\n",
      "Recall Score: [ 0.9415697   0.08477666  0.64264317]\n",
      "Fl Score: [ 0.81798139  0.15072934  0.73908197]\n",
      "------------------\n",
      "+++++++++++++++++++"
     ]
    },
    {
     "name": "stderr",
     "output_type": "stream",
     "text": [
      "//anaconda/lib/python2.7/site-packages/sklearn/base.py:436: DataConversionWarning: A column-vector y was passed when a 1d array was expected. Please change the shape of y to (n_samples,), for example using ravel().\n",
      "  return self.fit(X, y, **fit_params).transform(X)\n",
      "//anaconda/lib/python2.7/site-packages/sklearn/base.py:436: DataConversionWarning: A column-vector y was passed when a 1d array was expected. Please change the shape of y to (n_samples,), for example using ravel().\n",
      "  return self.fit(X, y, **fit_params).transform(X)\n"
     ]
    },
    {
     "name": "stdout",
     "output_type": "stream",
     "text": [
      "\n",
      "Number of Estimators:  21\n",
      "Max Depth:  17\n",
      "+++++++++++++++++++\n",
      "Accuracy Score:  0.769158249158\n",
      "Precision Score: [ 0.73232323  0.67980296  0.86049184]\n",
      "Recall Score: [ 0.93339936  0.12579763  0.65973568]\n",
      "Fl Score: [ 0.82072494  0.21230769  0.74685817]\n",
      "------------------\n",
      "+++++++++++++++++++\n",
      "Number of Estimators:  21\n",
      "Max Depth:  18\n",
      "+++++++++++++++++++\n",
      "Accuracy Score:  0.774276094276\n",
      "Precision Score: [ 0.74066021  0.65505226  0.85849269]\n",
      "Recall Score: [ 0.92770488  0.17137648  0.67242291]\n",
      "Fl Score: [ 0.82369752  0.2716763   0.7541502 ]\n",
      "------------------\n",
      "+++++++++++++++++++"
     ]
    },
    {
     "name": "stderr",
     "output_type": "stream",
     "text": [
      "//anaconda/lib/python2.7/site-packages/sklearn/base.py:436: DataConversionWarning: A column-vector y was passed when a 1d array was expected. Please change the shape of y to (n_samples,), for example using ravel().\n",
      "  return self.fit(X, y, **fit_params).transform(X)\n",
      "//anaconda/lib/python2.7/site-packages/sklearn/base.py:436: DataConversionWarning: A column-vector y was passed when a 1d array was expected. Please change the shape of y to (n_samples,), for example using ravel().\n",
      "  return self.fit(X, y, **fit_params).transform(X)\n"
     ]
    },
    {
     "name": "stdout",
     "output_type": "stream",
     "text": [
      "\n",
      "Number of Estimators:  21\n",
      "Max Depth:  19\n",
      "+++++++++++++++++++\n",
      "Accuracy Score:  0.773939393939\n",
      "Precision Score: [ 0.74299671  0.6179402   0.85303232]\n",
      "Recall Score: [ 0.92262936  0.16955333  0.67911894]\n",
      "Fl Score: [ 0.82312662  0.26609442  0.75620524]\n",
      "------------------\n",
      "+++++++++++++++++++\n",
      "Number of Estimators:  21\n",
      "Max Depth:  20\n",
      "+++++++++++++++++++\n",
      "Accuracy Score:  0.780202020202\n",
      "Precision Score: [ 0.75430376  0.62603878  0.84653253]\n",
      "Recall Score: [ 0.9166873   0.20601641  0.6969163 ]\n",
      "Fl Score: [ 0.82760548  0.31001372  0.76447279]\n",
      "------------------\n",
      "+++++++++++++++++++"
     ]
    },
    {
     "name": "stderr",
     "output_type": "stream",
     "text": [
      "//anaconda/lib/python2.7/site-packages/sklearn/base.py:436: DataConversionWarning: A column-vector y was passed when a 1d array was expected. Please change the shape of y to (n_samples,), for example using ravel().\n",
      "  return self.fit(X, y, **fit_params).transform(X)\n",
      "//anaconda/lib/python2.7/site-packages/sklearn/base.py:436: DataConversionWarning: A column-vector y was passed when a 1d array was expected. Please change the shape of y to (n_samples,), for example using ravel().\n",
      "  return self.fit(X, y, **fit_params).transform(X)\n"
     ]
    },
    {
     "name": "stdout",
     "output_type": "stream",
     "text": [
      "\n",
      "Number of Estimators:  22\n",
      "Max Depth:  10\n",
      "+++++++++++++++++++\n",
      "Accuracy Score:  0.73063973064\n",
      "Precision Score: [ 0.68293755  0.75        0.88665132]\n",
      "Recall Score: [ 0.96125279  0.00273473  0.5430837 ]\n",
      "Fl Score: [ 0.7985397   0.00544959  0.67358759]\n",
      "------------------\n",
      "+++++++++++++++++++\n",
      "Number of Estimators:  22\n",
      "Max Depth:  11\n",
      "+++++++++++++++++++\n",
      "Accuracy Score:  0.737575757576\n",
      "Precision Score: [ 0.68965825  0.88888889  0.88497523]\n",
      "Recall Score: [ 0.95679624  0.00729262  0.56669604]\n",
      "Fl Score: [ 0.80155561  0.01446655  0.69094425]\n",
      "------------------\n",
      "+++++++++++++++++++"
     ]
    },
    {
     "name": "stderr",
     "output_type": "stream",
     "text": [
      "//anaconda/lib/python2.7/site-packages/sklearn/base.py:436: DataConversionWarning: A column-vector y was passed when a 1d array was expected. Please change the shape of y to (n_samples,), for example using ravel().\n",
      "  return self.fit(X, y, **fit_params).transform(X)\n",
      "//anaconda/lib/python2.7/site-packages/sklearn/base.py:436: DataConversionWarning: A column-vector y was passed when a 1d array was expected. Please change the shape of y to (n_samples,), for example using ravel().\n",
      "  return self.fit(X, y, **fit_params).transform(X)\n"
     ]
    },
    {
     "name": "stdout",
     "output_type": "stream",
     "text": [
      "\n",
      "Number of Estimators:  22\n",
      "Max Depth:  12\n",
      "+++++++++++++++++++\n",
      "Accuracy Score:  0.744713804714\n",
      "Precision Score: [ 0.69892669  0.875       0.87526042]\n",
      "Recall Score: [ 0.95122555  0.01276208  0.5922467 ]\n",
      "Fl Score: [ 0.80578859  0.02515723  0.70646348]\n",
      "------------------\n",
      "+++++++++++++++++++\n",
      "Number of Estimators:  22\n",
      "Max Depth:  13\n",
      "+++++++++++++++++++\n",
      "Accuracy Score:  0.751111111111\n",
      "Precision Score: [ 0.70406578  0.79487179  0.88385929]\n",
      "Recall Score: [ 0.953949    0.02825889  0.60211454]\n",
      "Fl Score: [ 0.81017715  0.05457746  0.71627712]\n",
      "------------------\n",
      "+++++++++++++++++++"
     ]
    },
    {
     "name": "stderr",
     "output_type": "stream",
     "text": [
      "//anaconda/lib/python2.7/site-packages/sklearn/base.py:436: DataConversionWarning: A column-vector y was passed when a 1d array was expected. Please change the shape of y to (n_samples,), for example using ravel().\n",
      "  return self.fit(X, y, **fit_params).transform(X)\n",
      "//anaconda/lib/python2.7/site-packages/sklearn/base.py:436: DataConversionWarning: A column-vector y was passed when a 1d array was expected. Please change the shape of y to (n_samples,), for example using ravel().\n",
      "  return self.fit(X, y, **fit_params).transform(X)\n"
     ]
    },
    {
     "name": "stdout",
     "output_type": "stream",
     "text": [
      "\n",
      "Number of Estimators:  22\n",
      "Max Depth:  14\n",
      "+++++++++++++++++++\n",
      "Accuracy Score:  0.7567003367\n",
      "Precision Score: [ 0.71118933  0.71212121  0.88064193]\n",
      "Recall Score: [ 0.95048279  0.04284412  0.61885463]\n",
      "Fl Score: [ 0.81360602  0.08082545  0.72689641]\n",
      "------------------\n",
      "+++++++++++++++++++\n",
      "Number of Estimators:  22\n",
      "Max Depth:  15\n",
      "+++++++++++++++++++\n",
      "Accuracy Score:  0.760269360269\n",
      "Precision Score: [ 0.71756731  0.67096774  0.87503069]\n",
      "Recall Score: [ 0.94355038  0.09480401  0.62801762]\n",
      "Fl Score: [ 0.81518717  0.16613419  0.73122692]\n",
      "------------------\n",
      "+++++++++++++++++++"
     ]
    },
    {
     "name": "stderr",
     "output_type": "stream",
     "text": [
      "//anaconda/lib/python2.7/site-packages/sklearn/base.py:436: DataConversionWarning: A column-vector y was passed when a 1d array was expected. Please change the shape of y to (n_samples,), for example using ravel().\n",
      "  return self.fit(X, y, **fit_params).transform(X)\n",
      "//anaconda/lib/python2.7/site-packages/sklearn/base.py:436: DataConversionWarning: A column-vector y was passed when a 1d array was expected. Please change the shape of y to (n_samples,), for example using ravel().\n",
      "  return self.fit(X, y, **fit_params).transform(X)\n"
     ]
    },
    {
     "name": "stdout",
     "output_type": "stream",
     "text": [
      "\n",
      "Number of Estimators:  22\n",
      "Max Depth:  16\n",
      "+++++++++++++++++++\n",
      "Accuracy Score:  0.76632996633\n",
      "Precision Score: [ 0.72569843  0.6954023   0.86979167]\n",
      "Recall Score: [ 0.93897004  0.11030082  0.64740088]\n",
      "Fl Score: [ 0.81867242  0.19040126  0.7422972 ]\n",
      "------------------\n",
      "+++++++++++++++++++\n",
      "Number of Estimators:  22\n",
      "Max Depth:  17\n",
      "+++++++++++++++++++\n",
      "Accuracy Score:  0.766464646465\n",
      "Precision Score: [ 0.72832593  0.64840183  0.86496607]\n",
      "Recall Score: [ 0.93389453  0.12944394  0.65127753]\n",
      "Fl Score: [ 0.81839878  0.21580547  0.74306393]\n",
      "------------------\n",
      "+++++++++++++++++++"
     ]
    },
    {
     "name": "stderr",
     "output_type": "stream",
     "text": [
      "//anaconda/lib/python2.7/site-packages/sklearn/base.py:436: DataConversionWarning: A column-vector y was passed when a 1d array was expected. Please change the shape of y to (n_samples,), for example using ravel().\n",
      "  return self.fit(X, y, **fit_params).transform(X)\n",
      "//anaconda/lib/python2.7/site-packages/sklearn/base.py:436: DataConversionWarning: A column-vector y was passed when a 1d array was expected. Please change the shape of y to (n_samples,), for example using ravel().\n",
      "  return self.fit(X, y, **fit_params).transform(X)\n"
     ]
    },
    {
     "name": "stdout",
     "output_type": "stream",
     "text": [
      "\n",
      "Number of Estimators:  22\n",
      "Max Depth:  18\n",
      "+++++++++++++++++++\n",
      "Accuracy Score:  0.77164983165\n",
      "Precision Score: [ 0.73854208  0.640625    0.8541387 ]\n",
      "Recall Score: [ 0.9256004   0.14949863  0.67277533]\n",
      "Fl Score: [ 0.82155807  0.24242424  0.75268605]\n",
      "------------------\n",
      "+++++++++++++++++++\n",
      "Number of Estimators:  22\n",
      "Max Depth:  19\n",
      "+++++++++++++++++++\n",
      "Accuracy Score:  0.777912457912\n",
      "Precision Score: [ 0.74803941  0.63987138  0.85194862]\n",
      "Recall Score: [ 0.92102005  0.18140383  0.68951542]\n",
      "Fl Score: [ 0.82556591  0.28267045  0.76217374]\n",
      "------------------\n",
      "+++++++++++++++++++"
     ]
    },
    {
     "name": "stderr",
     "output_type": "stream",
     "text": [
      "//anaconda/lib/python2.7/site-packages/sklearn/base.py:436: DataConversionWarning: A column-vector y was passed when a 1d array was expected. Please change the shape of y to (n_samples,), for example using ravel().\n",
      "  return self.fit(X, y, **fit_params).transform(X)\n",
      "//anaconda/lib/python2.7/site-packages/sklearn/base.py:436: DataConversionWarning: A column-vector y was passed when a 1d array was expected. Please change the shape of y to (n_samples,), for example using ravel().\n",
      "  return self.fit(X, y, **fit_params).transform(X)\n"
     ]
    },
    {
     "name": "stdout",
     "output_type": "stream",
     "text": [
      "\n",
      "Number of Estimators:  22\n",
      "Max Depth:  20\n",
      "+++++++++++++++++++\n",
      "Accuracy Score:  0.779663299663\n",
      "Precision Score: [ 0.75413687  0.63414634  0.84438286]\n",
      "Recall Score: [ 0.91396385  0.21330902  0.69797357]\n",
      "Fl Score: [ 0.82639355  0.31923602  0.76422921]\n",
      "------------------\n",
      "+++++++++++++++++++\n",
      "Number of Estimators:  23\n",
      "Max Depth:  10\n",
      "+++++++++++++++++++\n",
      "Accuracy Score:  0.730437710438\n",
      "Precision Score: [ 0.68231364  0.          0.88802533]\n",
      "Recall Score: [ 0.96088141  0.          0.54361233]\n",
      "Fl Score: [ 0.79798499  0.          0.67439064]\n",
      "------------------\n",
      "+++++++++++++++++++"
     ]
    },
    {
     "name": "stderr",
     "output_type": "stream",
     "text": [
      "//anaconda/lib/python2.7/site-packages/sklearn/base.py:436: DataConversionWarning: A column-vector y was passed when a 1d array was expected. Please change the shape of y to (n_samples,), for example using ravel().\n",
      "  return self.fit(X, y, **fit_params).transform(X)\n",
      "//anaconda/lib/python2.7/site-packages/sklearn/base.py:436: DataConversionWarning: A column-vector y was passed when a 1d array was expected. Please change the shape of y to (n_samples,), for example using ravel().\n",
      "  return self.fit(X, y, **fit_params).transform(X)\n"
     ]
    },
    {
     "name": "stdout",
     "output_type": "stream",
     "text": [
      "\n",
      "Number of Estimators:  23\n",
      "Max Depth:  11\n",
      "+++++++++++++++++++\n",
      "Accuracy Score:  0.739057239057\n",
      "Precision Score: [ 0.69223875  0.          0.88055255]\n",
      "Recall Score: [ 0.95617727  0.          0.57286344]\n",
      "Fl Score: [ 0.80307756  0.          0.694139  ]\n",
      "------------------\n",
      "+++++++++++++++++++\n",
      "Number of Estimators:  23\n",
      "Max Depth:  12\n",
      "+++++++++++++++++++\n",
      "Accuracy Score:  0.740404040404\n",
      "Precision Score: [ 0.69436175  1.          0.87556621]\n",
      "Recall Score: [ 0.95283486  0.01093892  0.57903084]\n",
      "Fl Score: [ 0.8033189   0.02164112  0.69707255]\n",
      "------------------\n",
      "+++++++++++++++++++"
     ]
    },
    {
     "name": "stderr",
     "output_type": "stream",
     "text": [
      "//anaconda/lib/python2.7/site-packages/sklearn/base.py:436: DataConversionWarning: A column-vector y was passed when a 1d array was expected. Please change the shape of y to (n_samples,), for example using ravel().\n",
      "  return self.fit(X, y, **fit_params).transform(X)\n",
      "//anaconda/lib/python2.7/site-packages/sklearn/base.py:436: DataConversionWarning: A column-vector y was passed when a 1d array was expected. Please change the shape of y to (n_samples,), for example using ravel().\n",
      "  return self.fit(X, y, **fit_params).transform(X)\n"
     ]
    },
    {
     "name": "stdout",
     "output_type": "stream",
     "text": [
      "\n",
      "Number of Estimators:  23\n",
      "Max Depth:  13\n",
      "+++++++++++++++++++\n",
      "Accuracy Score:  0.749494949495\n",
      "Precision Score: [ 0.70450368  0.71698113  0.87490426]\n",
      "Recall Score: [ 0.94887348  0.03463993  0.60387665]\n",
      "Fl Score: [ 0.8086296   0.06608696  0.71455379]\n",
      "------------------\n",
      "+++++++++++++++++++\n",
      "Number of Estimators:  23\n",
      "Max Depth:  14\n",
      "+++++++++++++++++++\n",
      "Accuracy Score:  0.756363636364\n",
      "Precision Score: [ 0.71403164  0.68888889  0.86877606]\n",
      "Recall Score: [ 0.94429314  0.05651778  0.62414097]\n",
      "Fl Score: [ 0.81317627  0.10446504  0.72641509]\n",
      "------------------\n",
      "+++++++++++++++++++"
     ]
    },
    {
     "name": "stderr",
     "output_type": "stream",
     "text": [
      "//anaconda/lib/python2.7/site-packages/sklearn/base.py:436: DataConversionWarning: A column-vector y was passed when a 1d array was expected. Please change the shape of y to (n_samples,), for example using ravel().\n",
      "  return self.fit(X, y, **fit_params).transform(X)\n",
      "//anaconda/lib/python2.7/site-packages/sklearn/base.py:436: DataConversionWarning: A column-vector y was passed when a 1d array was expected. Please change the shape of y to (n_samples,), for example using ravel().\n",
      "  return self.fit(X, y, **fit_params).transform(X)\n"
     ]
    },
    {
     "name": "stdout",
     "output_type": "stream",
     "text": [
      "\n",
      "Number of Estimators:  23\n",
      "Max Depth:  15\n",
      "+++++++++++++++++++\n",
      "Accuracy Score:  0.761212121212\n",
      "Precision Score: [ 0.72035985  0.65359477  0.86947063]\n",
      "Recall Score: [ 0.94169349  0.0911577   0.6338326 ]\n",
      "Fl Score: [ 0.8162893   0.16        0.73318386]\n",
      "------------------\n",
      "+++++++++++++++++++\n",
      "Number of Estimators:  23\n",
      "Max Depth:  16\n",
      "+++++++++++++++++++\n",
      "Accuracy Score:  0.767744107744\n",
      "Precision Score: [ 0.72897377  0.67788462  0.86616752]\n",
      "Recall Score: [ 0.93562763  0.12853236  0.6523348 ]\n",
      "Fl Score: [ 0.81947306  0.21609195  0.7441954 ]\n",
      "------------------\n",
      "+++++++++++++++++++"
     ]
    },
    {
     "name": "stderr",
     "output_type": "stream",
     "text": [
      "//anaconda/lib/python2.7/site-packages/sklearn/base.py:436: DataConversionWarning: A column-vector y was passed when a 1d array was expected. Please change the shape of y to (n_samples,), for example using ravel().\n",
      "  return self.fit(X, y, **fit_params).transform(X)\n",
      "//anaconda/lib/python2.7/site-packages/sklearn/base.py:436: DataConversionWarning: A column-vector y was passed when a 1d array was expected. Please change the shape of y to (n_samples,), for example using ravel().\n",
      "  return self.fit(X, y, **fit_params).transform(X)\n"
     ]
    },
    {
     "name": "stdout",
     "output_type": "stream",
     "text": [
      "\n",
      "Number of Estimators:  23\n",
      "Max Depth:  17\n",
      "+++++++++++++++++++\n",
      "Accuracy Score:  0.771515151515\n",
      "Precision Score: [ 0.73433243  0.68446602  0.86309524]\n",
      "Recall Score: [ 0.93414211  0.12853236  0.66431718]\n",
      "Fl Score: [ 0.82227307  0.21642364  0.75077168]\n",
      "------------------\n",
      "+++++++++++++++++++\n",
      "Number of Estimators:  23\n",
      "Max Depth:  18\n",
      "+++++++++++++++++++\n",
      "Accuracy Score:  0.773468013468\n",
      "Precision Score: [ 0.74170475  0.63103448  0.85380507]\n",
      "Recall Score: [ 0.92423867  0.1668186   0.67612335]\n",
      "Fl Score: [ 0.82297178  0.26387888  0.75464647]\n",
      "------------------\n",
      "+++++++++++++++++++"
     ]
    },
    {
     "name": "stderr",
     "output_type": "stream",
     "text": [
      "//anaconda/lib/python2.7/site-packages/sklearn/base.py:436: DataConversionWarning: A column-vector y was passed when a 1d array was expected. Please change the shape of y to (n_samples,), for example using ravel().\n",
      "  return self.fit(X, y, **fit_params).transform(X)\n",
      "//anaconda/lib/python2.7/site-packages/sklearn/base.py:436: DataConversionWarning: A column-vector y was passed when a 1d array was expected. Please change the shape of y to (n_samples,), for example using ravel().\n",
      "  return self.fit(X, y, **fit_params).transform(X)\n"
     ]
    },
    {
     "name": "stdout",
     "output_type": "stream",
     "text": [
      "\n",
      "Number of Estimators:  23\n",
      "Max Depth:  19\n",
      "+++++++++++++++++++\n",
      "Accuracy Score:  0.775555555556\n",
      "Precision Score: [ 0.74578313  0.63492063  0.85005464]\n",
      "Recall Score: [ 0.91953454  0.18231541  0.68528634]\n",
      "Fl Score: [ 0.82359463  0.28328612  0.75882927]\n",
      "------------------\n",
      "+++++++++++++++++++\n",
      "Number of Estimators:  23\n",
      "Max Depth:  20\n",
      "+++++++++++++++++++\n",
      "Accuracy Score:  0.778855218855\n",
      "Precision Score: [ 0.75480769  0.60674157  0.8416702 ]\n",
      "Recall Score: [ 0.91346868  0.19690064  0.69973568]\n",
      "Fl Score: [ 0.82659348  0.2973159   0.76416819]\n",
      "------------------\n",
      "+++++++++++++++++++"
     ]
    },
    {
     "name": "stderr",
     "output_type": "stream",
     "text": [
      "//anaconda/lib/python2.7/site-packages/sklearn/base.py:436: DataConversionWarning: A column-vector y was passed when a 1d array was expected. Please change the shape of y to (n_samples,), for example using ravel().\n",
      "  return self.fit(X, y, **fit_params).transform(X)\n",
      "//anaconda/lib/python2.7/site-packages/sklearn/base.py:436: DataConversionWarning: A column-vector y was passed when a 1d array was expected. Please change the shape of y to (n_samples,), for example using ravel().\n",
      "  return self.fit(X, y, **fit_params).transform(X)\n"
     ]
    },
    {
     "name": "stdout",
     "output_type": "stream",
     "text": [
      "\n",
      "Number of Estimators:  24\n",
      "Max Depth:  10\n",
      "+++++++++++++++++++\n",
      "Accuracy Score:  0.730841750842\n",
      "Precision Score: [ 0.68284305  1.          0.88666285]\n",
      "Recall Score: [ 0.95976727  0.00182315  0.54590308]\n",
      "Fl Score: [ 0.79796212  0.00363967  0.67575526]\n",
      "------------------\n",
      "+++++++++++++++++++\n",
      "Number of Estimators:  24\n",
      "Max Depth:  11\n",
      "+++++++++++++++++++\n",
      "Accuracy Score:  0.736835016835\n",
      "Precision Score: [ 0.68993217  1.          0.88090011]\n",
      "Recall Score: [ 0.95692003  0.00182315  0.56563877]\n",
      "Fl Score: [ 0.80178405  0.00363967  0.68891512]\n",
      "------------------\n",
      "+++++++++++++++++++"
     ]
    },
    {
     "name": "stderr",
     "output_type": "stream",
     "text": [
      "//anaconda/lib/python2.7/site-packages/sklearn/base.py:436: DataConversionWarning: A column-vector y was passed when a 1d array was expected. Please change the shape of y to (n_samples,), for example using ravel().\n",
      "  return self.fit(X, y, **fit_params).transform(X)\n",
      "//anaconda/lib/python2.7/site-packages/sklearn/base.py:436: DataConversionWarning: A column-vector y was passed when a 1d array was expected. Please change the shape of y to (n_samples,), for example using ravel().\n",
      "  return self.fit(X, y, **fit_params).transform(X)\n"
     ]
    },
    {
     "name": "stdout",
     "output_type": "stream",
     "text": [
      "\n",
      "Number of Estimators:  24\n",
      "Max Depth:  12\n",
      "+++++++++++++++++++\n",
      "Accuracy Score:  0.744983164983\n",
      "Precision Score: [ 0.6977396   0.83333333  0.88300688]\n",
      "Recall Score: [ 0.95531072  0.00911577  0.58784141]\n",
      "Fl Score: [ 0.80645836  0.01803427  0.70580768]\n",
      "------------------\n",
      "+++++++++++++++++++\n",
      "Number of Estimators:  24\n",
      "Max Depth:  13\n",
      "+++++++++++++++++++\n",
      "Accuracy Score:  0.74962962963\n",
      "Precision Score: [ 0.70502208  0.82758621  0.8718663 ]\n",
      "Recall Score: [ 0.94887348  0.02187785  0.60669604]\n",
      "Fl Score: [ 0.80897098  0.04262877  0.71550291]\n",
      "------------------\n",
      "+++++++++++++++++++"
     ]
    },
    {
     "name": "stderr",
     "output_type": "stream",
     "text": [
      "//anaconda/lib/python2.7/site-packages/sklearn/base.py:436: DataConversionWarning: A column-vector y was passed when a 1d array was expected. Please change the shape of y to (n_samples,), for example using ravel().\n",
      "  return self.fit(X, y, **fit_params).transform(X)\n",
      "//anaconda/lib/python2.7/site-packages/sklearn/base.py:436: DataConversionWarning: A column-vector y was passed when a 1d array was expected. Please change the shape of y to (n_samples,), for example using ravel().\n",
      "  return self.fit(X, y, **fit_params).transform(X)\n"
     ]
    },
    {
     "name": "stdout",
     "output_type": "stream",
     "text": [
      "\n",
      "Number of Estimators:  24\n",
      "Max Depth:  14\n",
      "+++++++++++++++++++\n",
      "Accuracy Score:  0.75595959596\n",
      "Precision Score: [ 0.71073844  0.71232877  0.87926707]\n",
      "Recall Score: [ 0.94961624  0.04740201  0.61726872]\n",
      "Fl Score: [ 0.81299348  0.08888889  0.72533389]\n",
      "------------------\n",
      "+++++++++++++++++++\n",
      "Number of Estimators:  24\n",
      "Max Depth:  15\n",
      "+++++++++++++++++++\n",
      "Accuracy Score:  0.761414141414\n",
      "Precision Score: [ 0.71943736  0.67567568  0.87095996]\n",
      "Recall Score: [ 0.94342659  0.06836828  0.63629956]\n",
      "Fl Score: [ 0.81634621  0.12417219  0.735363  ]\n",
      "------------------\n",
      "+++++++++++++++++++"
     ]
    },
    {
     "name": "stderr",
     "output_type": "stream",
     "text": [
      "//anaconda/lib/python2.7/site-packages/sklearn/base.py:436: DataConversionWarning: A column-vector y was passed when a 1d array was expected. Please change the shape of y to (n_samples,), for example using ravel().\n",
      "  return self.fit(X, y, **fit_params).transform(X)\n",
      "//anaconda/lib/python2.7/site-packages/sklearn/base.py:436: DataConversionWarning: A column-vector y was passed when a 1d array was expected. Please change the shape of y to (n_samples,), for example using ravel().\n",
      "  return self.fit(X, y, **fit_params).transform(X)\n"
     ]
    },
    {
     "name": "stdout",
     "output_type": "stream",
     "text": [
      "\n",
      "Number of Estimators:  24\n",
      "Max Depth:  16\n",
      "+++++++++++++++++++\n",
      "Accuracy Score:  0.76734006734\n",
      "Precision Score: [ 0.72856868  0.68674699  0.86401674]\n",
      "Recall Score: [ 0.93637039  0.10391978  0.65497797]\n",
      "Fl Score: [ 0.81950163  0.18052257  0.74511376]\n",
      "------------------\n",
      "+++++++++++++++++++\n",
      "Number of Estimators:  24\n",
      "Max Depth:  17\n",
      "+++++++++++++++++++\n",
      "Accuracy Score:  0.770437710438\n",
      "Precision Score: [ 0.73308781  0.64363636  0.86915668]\n",
      "Recall Score: [ 0.93637039  0.16134913  0.65198238]\n",
      "Fl Score: [ 0.82235269  0.25801749  0.74506645]\n",
      "------------------\n",
      "+++++++++++++++++++"
     ]
    },
    {
     "name": "stderr",
     "output_type": "stream",
     "text": [
      "//anaconda/lib/python2.7/site-packages/sklearn/base.py:436: DataConversionWarning: A column-vector y was passed when a 1d array was expected. Please change the shape of y to (n_samples,), for example using ravel().\n",
      "  return self.fit(X, y, **fit_params).transform(X)\n",
      "//anaconda/lib/python2.7/site-packages/sklearn/base.py:436: DataConversionWarning: A column-vector y was passed when a 1d array was expected. Please change the shape of y to (n_samples,), for example using ravel().\n",
      "  return self.fit(X, y, **fit_params).transform(X)\n"
     ]
    },
    {
     "name": "stdout",
     "output_type": "stream",
     "text": [
      "\n",
      "Number of Estimators:  24\n",
      "Max Depth:  18\n",
      "+++++++++++++++++++\n",
      "Accuracy Score:  0.768956228956\n",
      "Precision Score: [ 0.73494449  0.608       0.85636734]\n",
      "Recall Score: [ 0.92609557  0.13855971  0.66713656]\n",
      "Fl Score: [ 0.81952128  0.22568671  0.75      ]\n",
      "------------------\n",
      "+++++++++++++++++++\n",
      "Number of Estimators:  24\n",
      "Max Depth:  19\n",
      "+++++++++++++++++++\n",
      "Accuracy Score:  0.77595959596\n",
      "Precision Score: [ 0.7474118   0.61736334  0.84858388]\n",
      "Recall Score: [ 0.92052488  0.17502279  0.68634361]\n",
      "Fl Score: [ 0.82498475  0.27272727  0.75888943]\n",
      "------------------\n",
      "+++++++++++++++++++"
     ]
    },
    {
     "name": "stderr",
     "output_type": "stream",
     "text": [
      "//anaconda/lib/python2.7/site-packages/sklearn/base.py:436: DataConversionWarning: A column-vector y was passed when a 1d array was expected. Please change the shape of y to (n_samples,), for example using ravel().\n",
      "  return self.fit(X, y, **fit_params).transform(X)\n",
      "//anaconda/lib/python2.7/site-packages/sklearn/base.py:436: DataConversionWarning: A column-vector y was passed when a 1d array was expected. Please change the shape of y to (n_samples,), for example using ravel().\n",
      "  return self.fit(X, y, **fit_params).transform(X)\n"
     ]
    },
    {
     "name": "stdout",
     "output_type": "stream",
     "text": [
      "\n",
      "Number of Estimators:  24\n",
      "Max Depth:  20\n",
      "+++++++++++++++++++\n",
      "Accuracy Score:  0.781144781145\n",
      "Precision Score: [ 0.75593533  0.61049724  0.84648007]\n",
      "Recall Score: [ 0.91445902  0.20145852  0.70343612]\n",
      "Fl Score: [ 0.82767507  0.30294722  0.76835723]\n",
      "------------------\n",
      "+++++++++++++++++++\n",
      "Number of Estimators:  25\n",
      "Max Depth:  10\n",
      "+++++++++++++++++++\n",
      "Accuracy Score:  0.733333333333\n",
      "Precision Score: [ 0.68464584  1.          0.89204709]\n",
      "Recall Score: [ 0.96323347  0.00182315  0.54748899]\n",
      "Fl Score: [ 0.80039089  0.00363967  0.67853243]\n",
      "------------------\n",
      "+++++++++++++++++++"
     ]
    },
    {
     "name": "stderr",
     "output_type": "stream",
     "text": [
      "//anaconda/lib/python2.7/site-packages/sklearn/base.py:436: DataConversionWarning: A column-vector y was passed when a 1d array was expected. Please change the shape of y to (n_samples,), for example using ravel().\n",
      "  return self.fit(X, y, **fit_params).transform(X)\n",
      "//anaconda/lib/python2.7/site-packages/sklearn/base.py:436: DataConversionWarning: A column-vector y was passed when a 1d array was expected. Please change the shape of y to (n_samples,), for example using ravel().\n",
      "  return self.fit(X, y, **fit_params).transform(X)\n"
     ]
    },
    {
     "name": "stdout",
     "output_type": "stream",
     "text": [
      "\n",
      "Number of Estimators:  25\n",
      "Max Depth:  11\n",
      "+++++++++++++++++++\n",
      "Accuracy Score:  0.738855218855\n",
      "Precision Score: [ 0.69093345  0.5         0.88605861]\n",
      "Recall Score: [ 0.95753899  0.00182315  0.57004405]\n",
      "Fl Score: [ 0.80267732  0.00363306  0.69375938]\n",
      "------------------\n",
      "+++++++++++++++++++\n",
      "Number of Estimators:  25\n",
      "Max Depth:  12\n",
      "+++++++++++++++++++\n",
      "Accuracy Score:  0.743636363636\n",
      "Precision Score: [ 0.69644469  0.44444444  0.88347965]\n",
      "Recall Score: [ 0.95543451  0.00364631  0.58519824]\n",
      "Fl Score: [ 0.80563674  0.00723327  0.70404918]\n",
      "------------------\n",
      "+++++++++++++++++++"
     ]
    },
    {
     "name": "stderr",
     "output_type": "stream",
     "text": [
      "//anaconda/lib/python2.7/site-packages/sklearn/base.py:436: DataConversionWarning: A column-vector y was passed when a 1d array was expected. Please change the shape of y to (n_samples,), for example using ravel().\n",
      "  return self.fit(X, y, **fit_params).transform(X)\n",
      "//anaconda/lib/python2.7/site-packages/sklearn/base.py:436: DataConversionWarning: A column-vector y was passed when a 1d array was expected. Please change the shape of y to (n_samples,), for example using ravel().\n",
      "  return self.fit(X, y, **fit_params).transform(X)\n"
     ]
    },
    {
     "name": "stdout",
     "output_type": "stream",
     "text": [
      "\n",
      "Number of Estimators:  25\n",
      "Max Depth:  13\n",
      "+++++++++++++++++++\n",
      "Accuracy Score:  0.746666666667\n",
      "Precision Score: [ 0.70007275  0.76        0.88038652]\n",
      "Recall Score: [ 0.95295865  0.01731996  0.59400881]\n",
      "Fl Score: [ 0.80717207  0.03386809  0.70938552]\n",
      "------------------\n",
      "+++++++++++++++++++\n",
      "Number of Estimators:  25\n",
      "Max Depth:  14\n",
      "+++++++++++++++++++\n",
      "Accuracy Score:  0.757037037037\n",
      "Precision Score: [ 0.71239885  0.76        0.87624254]\n",
      "Recall Score: [ 0.94813073  0.05195989  0.62132159]\n",
      "Fl Score: [ 0.81353232  0.09726962  0.72708527]\n",
      "------------------\n",
      "+++++++++++++++++++"
     ]
    },
    {
     "name": "stderr",
     "output_type": "stream",
     "text": [
      "//anaconda/lib/python2.7/site-packages/sklearn/base.py:436: DataConversionWarning: A column-vector y was passed when a 1d array was expected. Please change the shape of y to (n_samples,), for example using ravel().\n",
      "  return self.fit(X, y, **fit_params).transform(X)\n",
      "//anaconda/lib/python2.7/site-packages/sklearn/base.py:436: DataConversionWarning: A column-vector y was passed when a 1d array was expected. Please change the shape of y to (n_samples,), for example using ravel().\n",
      "  return self.fit(X, y, **fit_params).transform(X)\n"
     ]
    },
    {
     "name": "stdout",
     "output_type": "stream",
     "text": [
      "\n",
      "Number of Estimators:  25\n",
      "Max Depth:  15\n",
      "+++++++++++++++++++\n",
      "Accuracy Score:  0.761346801347\n",
      "Precision Score: [ 0.7182066   0.68867925  0.87503045]\n",
      "Recall Score: [ 0.94590245  0.06654512  0.63295154]\n",
      "Fl Score: [ 0.816477    0.12136326  0.73456033]\n",
      "------------------\n",
      "+++++++++++++++++++\n",
      "Number of Estimators:  25\n",
      "Max Depth:  16\n",
      "+++++++++++++++++++\n",
      "Accuracy Score:  0.766666666667\n",
      "Precision Score: [ 0.72537427  0.69318182  0.87317889]\n",
      "Recall Score: [ 0.94169349  0.1112124   0.64422907]\n",
      "Fl Score: [ 0.81949906  0.19167321  0.74143176]\n",
      "------------------\n",
      "+++++++++++++++++++"
     ]
    },
    {
     "name": "stderr",
     "output_type": "stream",
     "text": [
      "//anaconda/lib/python2.7/site-packages/sklearn/base.py:436: DataConversionWarning: A column-vector y was passed when a 1d array was expected. Please change the shape of y to (n_samples,), for example using ravel().\n",
      "  return self.fit(X, y, **fit_params).transform(X)\n",
      "//anaconda/lib/python2.7/site-packages/sklearn/base.py:436: DataConversionWarning: A column-vector y was passed when a 1d array was expected. Please change the shape of y to (n_samples,), for example using ravel().\n",
      "  return self.fit(X, y, **fit_params).transform(X)\n"
     ]
    },
    {
     "name": "stdout",
     "output_type": "stream",
     "text": [
      "\n",
      "Number of Estimators:  25\n",
      "Max Depth:  17\n",
      "+++++++++++++++++++\n",
      "Accuracy Score:  0.772525252525\n",
      "Precision Score: [ 0.73587667  0.66932271  0.86482759]\n",
      "Recall Score: [ 0.93364694  0.15314494  0.66290749]\n",
      "Fl Score: [ 0.82304796  0.24925816  0.75052369]\n",
      "------------------\n",
      "+++++++++++++++++++\n",
      "Number of Estimators:  25\n",
      "Max Depth:  18\n",
      "+++++++++++++++++++\n",
      "Accuracy Score:  0.771851851852\n",
      "Precision Score: [ 0.7397098   0.64655172  0.85090261]\n",
      "Recall Score: [ 0.92770488  0.13673655  0.67277533]\n",
      "Fl Score: [ 0.82310945  0.22573363  0.75142688]\n",
      "------------------\n",
      "+++++++++++++++++++"
     ]
    },
    {
     "name": "stderr",
     "output_type": "stream",
     "text": [
      "//anaconda/lib/python2.7/site-packages/sklearn/base.py:436: DataConversionWarning: A column-vector y was passed when a 1d array was expected. Please change the shape of y to (n_samples,), for example using ravel().\n",
      "  return self.fit(X, y, **fit_params).transform(X)\n",
      "//anaconda/lib/python2.7/site-packages/sklearn/base.py:436: DataConversionWarning: A column-vector y was passed when a 1d array was expected. Please change the shape of y to (n_samples,), for example using ravel().\n",
      "  return self.fit(X, y, **fit_params).transform(X)\n"
     ]
    },
    {
     "name": "stdout",
     "output_type": "stream",
     "text": [
      "\n",
      "Number of Estimators:  25\n",
      "Max Depth:  19\n",
      "+++++++++++++++++++\n",
      "Accuracy Score:  0.775286195286\n",
      "Precision Score: [ 0.74687626  0.63529412  0.84714348]\n",
      "Recall Score: [ 0.91755385  0.19690064  0.6845815 ]\n",
      "Fl Score: [ 0.82346406  0.3006263   0.75723614]\n",
      "------------------\n",
      "+++++++++++++++++++\n",
      "Number of Estimators:  25\n",
      "Max Depth:  20\n",
      "+++++++++++++++++++\n",
      "Accuracy Score:  0.778047138047\n",
      "Precision Score: [ 0.75147328  0.62573099  0.84526361]\n",
      "Recall Score: [ 0.91557316  0.19507748  0.69497797]\n",
      "Fl Score: [ 0.82544643  0.29742877  0.7627889 ]\n",
      "------------------\n",
      "+++++++++++++++++++"
     ]
    },
    {
     "name": "stderr",
     "output_type": "stream",
     "text": [
      "//anaconda/lib/python2.7/site-packages/sklearn/base.py:436: DataConversionWarning: A column-vector y was passed when a 1d array was expected. Please change the shape of y to (n_samples,), for example using ravel().\n",
      "  return self.fit(X, y, **fit_params).transform(X)\n",
      "//anaconda/lib/python2.7/site-packages/sklearn/base.py:436: DataConversionWarning: A column-vector y was passed when a 1d array was expected. Please change the shape of y to (n_samples,), for example using ravel().\n",
      "  return self.fit(X, y, **fit_params).transform(X)\n"
     ]
    },
    {
     "name": "stdout",
     "output_type": "stream",
     "text": [
      "\n",
      "Number of Estimators:  26\n",
      "Max Depth:  10\n",
      "+++++++++++++++++++\n",
      "Accuracy Score:  0.732188552189\n",
      "Precision Score: [ 0.68313622  0.5         0.89542674]\n",
      "Recall Score: [  9.65337955e-01   9.11577028e-04   5.41674009e-01]\n",
      "Fl Score: [ 0.80008208  0.00181984  0.67501098]\n",
      "------------------\n",
      "+++++++++++++++++++\n",
      "Number of Estimators:  26\n",
      "Max Depth:  11\n",
      "+++++++++++++++++++\n",
      "Accuracy Score:  0.736902356902\n",
      "Precision Score: [ 0.68980903  0.83333333  0.8819636 ]\n",
      "Recall Score: [ 0.95692003  0.01367366  0.56352423]\n",
      "Fl Score: [ 0.80170089  0.02690583  0.68766799]\n",
      "------------------\n",
      "+++++++++++++++++++"
     ]
    },
    {
     "name": "stderr",
     "output_type": "stream",
     "text": [
      "//anaconda/lib/python2.7/site-packages/sklearn/base.py:436: DataConversionWarning: A column-vector y was passed when a 1d array was expected. Please change the shape of y to (n_samples,), for example using ravel().\n",
      "  return self.fit(X, y, **fit_params).transform(X)\n",
      "//anaconda/lib/python2.7/site-packages/sklearn/base.py:436: DataConversionWarning: A column-vector y was passed when a 1d array was expected. Please change the shape of y to (n_samples,), for example using ravel().\n",
      "  return self.fit(X, y, **fit_params).transform(X)\n"
     ]
    },
    {
     "name": "stdout",
     "output_type": "stream",
     "text": [
      "\n",
      "Number of Estimators:  26\n",
      "Max Depth:  12\n",
      "+++++++++++++++++++\n",
      "Accuracy Score:  0.742356902357\n",
      "Precision Score: [ 0.6945618   0.875       0.88514424]\n",
      "Recall Score: [ 0.95654865  0.01276208  0.5785022 ]\n",
      "Fl Score: [ 0.80477009  0.02515723  0.69970162]\n",
      "------------------\n",
      "+++++++++++++++++++\n",
      "Number of Estimators:  26\n",
      "Max Depth:  13\n",
      "+++++++++++++++++++\n",
      "Accuracy Score:  0.748013468013\n",
      "Precision Score: [ 0.70119123  0.7         0.88259849]\n",
      "Recall Score: [ 0.95456796  0.01276208  0.59612335]\n",
      "Fl Score: [ 0.80849279  0.02506714  0.71161127]\n",
      "------------------\n",
      "+++++++++++++++++++"
     ]
    },
    {
     "name": "stderr",
     "output_type": "stream",
     "text": [
      "//anaconda/lib/python2.7/site-packages/sklearn/base.py:436: DataConversionWarning: A column-vector y was passed when a 1d array was expected. Please change the shape of y to (n_samples,), for example using ravel().\n",
      "  return self.fit(X, y, **fit_params).transform(X)\n",
      "//anaconda/lib/python2.7/site-packages/sklearn/base.py:436: DataConversionWarning: A column-vector y was passed when a 1d array was expected. Please change the shape of y to (n_samples,), for example using ravel().\n",
      "  return self.fit(X, y, **fit_params).transform(X)\n"
     ]
    },
    {
     "name": "stdout",
     "output_type": "stream",
     "text": [
      "\n",
      "Number of Estimators:  26\n",
      "Max Depth:  14\n",
      "+++++++++++++++++++\n",
      "Accuracy Score:  0.754006734007\n",
      "Precision Score: [ 0.70900693  0.67241379  0.87799345]\n",
      "Recall Score: [ 0.95011141  0.0355515   0.61374449]\n",
      "Fl Score: [ 0.81204042  0.06753247  0.72246422]\n",
      "------------------\n",
      "+++++++++++++++++++\n",
      "Number of Estimators:  26\n",
      "Max Depth:  15\n",
      "+++++++++++++++++++\n",
      "Accuracy Score:  0.760606060606\n",
      "Precision Score: [ 0.71762827  0.68627451  0.87620222]\n",
      "Recall Score: [ 0.94540728  0.09571559  0.6260793 ]\n",
      "Fl Score: [ 0.8159188  0.168      0.7303186]\n",
      "------------------\n",
      "+++++++++++++++++++"
     ]
    },
    {
     "name": "stderr",
     "output_type": "stream",
     "text": [
      "//anaconda/lib/python2.7/site-packages/sklearn/base.py:436: DataConversionWarning: A column-vector y was passed when a 1d array was expected. Please change the shape of y to (n_samples,), for example using ravel().\n",
      "  return self.fit(X, y, **fit_params).transform(X)\n",
      "//anaconda/lib/python2.7/site-packages/sklearn/base.py:436: DataConversionWarning: A column-vector y was passed when a 1d array was expected. Please change the shape of y to (n_samples,), for example using ravel().\n",
      "  return self.fit(X, y, **fit_params).transform(X)\n"
     ]
    },
    {
     "name": "stdout",
     "output_type": "stream",
     "text": [
      "\n",
      "Number of Estimators:  26\n",
      "Max Depth:  16\n",
      "+++++++++++++++++++\n",
      "Accuracy Score:  0.765723905724\n",
      "Precision Score: [ 0.72461142  0.68794326  0.87044055]\n",
      "Recall Score: [ 0.94070314  0.08842297  0.64757709]\n",
      "Fl Score: [ 0.81863722  0.15670436  0.74264929]\n",
      "------------------\n",
      "+++++++++++++++++++\n",
      "Number of Estimators:  26\n",
      "Max Depth:  17\n",
      "+++++++++++++++++++\n",
      "Accuracy Score:  0.771313131313\n",
      "Precision Score: [ 0.73582133  0.65648855  0.86092715]\n",
      "Recall Score: [ 0.92993315  0.15679125  0.66431718]\n",
      "Fl Score: [ 0.82156723  0.2531273   0.74995027]\n",
      "------------------\n",
      "+++++++++++++++++++"
     ]
    },
    {
     "name": "stderr",
     "output_type": "stream",
     "text": [
      "//anaconda/lib/python2.7/site-packages/sklearn/base.py:436: DataConversionWarning: A column-vector y was passed when a 1d array was expected. Please change the shape of y to (n_samples,), for example using ravel().\n",
      "  return self.fit(X, y, **fit_params).transform(X)\n",
      "//anaconda/lib/python2.7/site-packages/sklearn/base.py:436: DataConversionWarning: A column-vector y was passed when a 1d array was expected. Please change the shape of y to (n_samples,), for example using ravel().\n",
      "  return self.fit(X, y, **fit_params).transform(X)\n"
     ]
    },
    {
     "name": "stdout",
     "output_type": "stream",
     "text": [
      "\n",
      "Number of Estimators:  26\n",
      "Max Depth:  18\n",
      "+++++++++++++++++++\n",
      "Accuracy Score:  0.77696969697\n",
      "Precision Score: [ 0.74387462  0.66796875  0.85707955]\n",
      "Recall Score: [ 0.92832384  0.15587967  0.6815859 ]\n",
      "Fl Score: [ 0.82592654  0.25277162  0.7593247 ]\n",
      "------------------\n",
      "+++++++++++++++++++\n",
      "Number of Estimators:  26\n",
      "Max Depth:  19\n",
      "+++++++++++++++++++\n",
      "Accuracy Score:  0.775353535354\n",
      "Precision Score: [ 0.7451803   0.64214047  0.85066079]\n",
      "Recall Score: [ 0.92349591  0.17502279  0.68052863]\n",
      "Fl Score: [ 0.82481066  0.27507163  0.75614293]\n",
      "------------------\n",
      "+++++++++++++++++++"
     ]
    },
    {
     "name": "stderr",
     "output_type": "stream",
     "text": [
      "//anaconda/lib/python2.7/site-packages/sklearn/base.py:436: DataConversionWarning: A column-vector y was passed when a 1d array was expected. Please change the shape of y to (n_samples,), for example using ravel().\n",
      "  return self.fit(X, y, **fit_params).transform(X)\n",
      "//anaconda/lib/python2.7/site-packages/sklearn/base.py:436: DataConversionWarning: A column-vector y was passed when a 1d array was expected. Please change the shape of y to (n_samples,), for example using ravel().\n",
      "  return self.fit(X, y, **fit_params).transform(X)\n"
     ]
    },
    {
     "name": "stdout",
     "output_type": "stream",
     "text": [
      "\n",
      "Number of Estimators:  26\n",
      "Max Depth:  20\n",
      "+++++++++++++++++++\n",
      "Accuracy Score:  0.780067340067\n",
      "Precision Score: [ 0.75563063  0.6091954   0.84305027]\n",
      "Recall Score: [ 0.91371627  0.19325433  0.70325991]\n",
      "Fl Score: [ 0.82718817  0.29342561  0.76683639]\n",
      "------------------\n",
      "+++++++++++++++++++\n",
      "Number of Estimators:  27\n",
      "Max Depth:  10\n",
      "+++++++++++++++++++\n",
      "Accuracy Score:  0.734006734007\n",
      "Precision Score: [ 0.68581767  1.          0.88914156]\n",
      "Recall Score: [  9.61995543e-01   9.11577028e-04   5.51189427e-01]\n",
      "Fl Score: [ 0.80076253  0.00182149  0.68051779]\n",
      "------------------\n",
      "+++++++++++++++++++"
     ]
    },
    {
     "name": "stderr",
     "output_type": "stream",
     "text": [
      "//anaconda/lib/python2.7/site-packages/sklearn/base.py:436: DataConversionWarning: A column-vector y was passed when a 1d array was expected. Please change the shape of y to (n_samples,), for example using ravel().\n",
      "  return self.fit(X, y, **fit_params).transform(X)\n",
      "//anaconda/lib/python2.7/site-packages/sklearn/base.py:436: DataConversionWarning: A column-vector y was passed when a 1d array was expected. Please change the shape of y to (n_samples,), for example using ravel().\n",
      "  return self.fit(X, y, **fit_params).transform(X)\n"
     ]
    },
    {
     "name": "stdout",
     "output_type": "stream",
     "text": [
      "\n",
      "Number of Estimators:  27\n",
      "Max Depth:  11\n",
      "+++++++++++++++++++\n",
      "Accuracy Score:  0.736026936027\n",
      "Precision Score: [ 0.68807176  1.          0.88622421]\n",
      "Recall Score: [ 0.95902451  0.00455789  0.56      ]\n",
      "Fl Score: [ 0.80126183  0.00907441  0.68631897]\n",
      "------------------\n",
      "+++++++++++++++++++\n",
      "Number of Estimators:  27\n",
      "Max Depth:  12\n",
      "+++++++++++++++++++\n",
      "Accuracy Score:  0.743164983165\n",
      "Precision Score: [ 0.69549987  0.94117647  0.88567568]\n",
      "Recall Score: [ 0.95852934  0.01458523  0.57744493]\n",
      "Fl Score: [ 0.80610067  0.02872531  0.69909333]\n",
      "------------------\n",
      "+++++++++++++++++++"
     ]
    },
    {
     "name": "stderr",
     "output_type": "stream",
     "text": [
      "//anaconda/lib/python2.7/site-packages/sklearn/base.py:436: DataConversionWarning: A column-vector y was passed when a 1d array was expected. Please change the shape of y to (n_samples,), for example using ravel().\n",
      "  return self.fit(X, y, **fit_params).transform(X)\n",
      "//anaconda/lib/python2.7/site-packages/sklearn/base.py:436: DataConversionWarning: A column-vector y was passed when a 1d array was expected. Please change the shape of y to (n_samples,), for example using ravel().\n",
      "  return self.fit(X, y, **fit_params).transform(X)\n"
     ]
    },
    {
     "name": "stdout",
     "output_type": "stream",
     "text": [
      "\n",
      "Number of Estimators:  27\n",
      "Max Depth:  13\n",
      "+++++++++++++++++++\n",
      "Accuracy Score:  0.751111111111\n",
      "Precision Score: [ 0.70657688  0.76744186  0.87266768]\n",
      "Recall Score: [ 0.94825452  0.03008204  0.60986784]\n",
      "Fl Score: [ 0.80976796  0.05789474  0.71797531]\n",
      "------------------\n",
      "+++++++++++++++++++\n",
      "Number of Estimators:  27\n",
      "Max Depth:  14\n",
      "+++++++++++++++++++\n",
      "Accuracy Score:  0.756094276094\n",
      "Precision Score: [ 0.71231472  0.725       0.87286668]\n",
      "Recall Score: [ 0.94590245  0.05287147  0.62185022]\n",
      "Fl Score: [ 0.81265621  0.09855565  0.72628113]\n",
      "------------------\n",
      "+++++++++++++++++++"
     ]
    },
    {
     "name": "stderr",
     "output_type": "stream",
     "text": [
      "//anaconda/lib/python2.7/site-packages/sklearn/base.py:436: DataConversionWarning: A column-vector y was passed when a 1d array was expected. Please change the shape of y to (n_samples,), for example using ravel().\n",
      "  return self.fit(X, y, **fit_params).transform(X)\n",
      "//anaconda/lib/python2.7/site-packages/sklearn/base.py:436: DataConversionWarning: A column-vector y was passed when a 1d array was expected. Please change the shape of y to (n_samples,), for example using ravel().\n",
      "  return self.fit(X, y, **fit_params).transform(X)\n"
     ]
    },
    {
     "name": "stdout",
     "output_type": "stream",
     "text": [
      "\n",
      "Number of Estimators:  27\n",
      "Max Depth:  15\n",
      "+++++++++++++++++++\n",
      "Accuracy Score:  0.762491582492\n",
      "Precision Score: [ 0.71970555  0.67692308  0.87512124]\n",
      "Recall Score: [ 0.94404556  0.08021878  0.63594714]\n",
      "Fl Score: [ 0.81675056  0.14343928  0.73660578]\n",
      "------------------\n",
      "+++++++++++++++++++\n",
      "Number of Estimators:  27\n",
      "Max Depth:  16\n",
      "+++++++++++++++++++\n",
      "Accuracy Score:  0.766801346801\n",
      "Precision Score: [ 0.72745606  0.66359447  0.86919431]\n",
      "Recall Score: [ 0.93773211  0.13126709  0.64634361]\n",
      "Fl Score: [ 0.81931751  0.21917808  0.74138454]\n",
      "------------------\n",
      "+++++++++++++++++++"
     ]
    },
    {
     "name": "stderr",
     "output_type": "stream",
     "text": [
      "//anaconda/lib/python2.7/site-packages/sklearn/base.py:436: DataConversionWarning: A column-vector y was passed when a 1d array was expected. Please change the shape of y to (n_samples,), for example using ravel().\n",
      "  return self.fit(X, y, **fit_params).transform(X)\n",
      "//anaconda/lib/python2.7/site-packages/sklearn/base.py:436: DataConversionWarning: A column-vector y was passed when a 1d array was expected. Please change the shape of y to (n_samples,), for example using ravel().\n",
      "  return self.fit(X, y, **fit_params).transform(X)\n"
     ]
    },
    {
     "name": "stdout",
     "output_type": "stream",
     "text": [
      "\n",
      "Number of Estimators:  27\n",
      "Max Depth:  17\n",
      "+++++++++++++++++++\n",
      "Accuracy Score:  0.768282828283\n",
      "Precision Score: [ 0.73271575  0.64757709  0.85805861]\n",
      "Recall Score: [ 0.93018074  0.13400182  0.66044053]\n",
      "Fl Score: [ 0.81972399  0.22205438  0.74639052]\n",
      "------------------\n",
      "+++++++++++++++++++\n",
      "Number of Estimators:  27\n",
      "Max Depth:  18\n",
      "+++++++++++++++++++\n",
      "Accuracy Score:  0.774478114478\n",
      "Precision Score: [ 0.74038937  0.65187713  0.86029743]\n",
      "Recall Score: [ 0.92745729  0.17411121  0.67277533]\n",
      "Fl Score: [ 0.82343243  0.27482014  0.75506773]\n",
      "------------------\n",
      "+++++++++++++++++++"
     ]
    },
    {
     "name": "stderr",
     "output_type": "stream",
     "text": [
      "//anaconda/lib/python2.7/site-packages/sklearn/base.py:436: DataConversionWarning: A column-vector y was passed when a 1d array was expected. Please change the shape of y to (n_samples,), for example using ravel().\n",
      "  return self.fit(X, y, **fit_params).transform(X)\n",
      "//anaconda/lib/python2.7/site-packages/sklearn/base.py:436: DataConversionWarning: A column-vector y was passed when a 1d array was expected. Please change the shape of y to (n_samples,), for example using ravel().\n",
      "  return self.fit(X, y, **fit_params).transform(X)\n"
     ]
    },
    {
     "name": "stdout",
     "output_type": "stream",
     "text": [
      "\n",
      "Number of Estimators:  27\n",
      "Max Depth:  19\n",
      "+++++++++++++++++++\n",
      "Accuracy Score:  0.775218855219\n",
      "Precision Score: [ 0.74289406  0.62328767  0.85742883]\n",
      "Recall Score: [ 0.92535281  0.16590702  0.67929515]\n",
      "Fl Score: [ 0.82414553  0.26205904  0.75803756]\n",
      "------------------\n",
      "+++++++++++++++++++\n",
      "Number of Estimators:  27\n",
      "Max Depth:  20\n",
      "+++++++++++++++++++\n",
      "Accuracy Score:  0.780471380471\n",
      "Precision Score: [ 0.75128905  0.61971831  0.85556038]\n",
      "Recall Score: [ 0.91990592  0.20054695  0.69409692]\n",
      "Fl Score: [ 0.8270911   0.3030303   0.76641697]\n",
      "------------------\n",
      "+++++++++++++++++++"
     ]
    },
    {
     "name": "stderr",
     "output_type": "stream",
     "text": [
      "//anaconda/lib/python2.7/site-packages/sklearn/base.py:436: DataConversionWarning: A column-vector y was passed when a 1d array was expected. Please change the shape of y to (n_samples,), for example using ravel().\n",
      "  return self.fit(X, y, **fit_params).transform(X)\n",
      "//anaconda/lib/python2.7/site-packages/sklearn/base.py:436: DataConversionWarning: A column-vector y was passed when a 1d array was expected. Please change the shape of y to (n_samples,), for example using ravel().\n",
      "  return self.fit(X, y, **fit_params).transform(X)\n"
     ]
    },
    {
     "name": "stdout",
     "output_type": "stream",
     "text": [
      "\n",
      "Number of Estimators:  28\n",
      "Max Depth:  10\n",
      "+++++++++++++++++++\n",
      "Accuracy Score:  0.734410774411\n",
      "Precision Score: [ 0.68712256  0.          0.88272981]\n",
      "Recall Score: [ 0.95778658  0.          0.5584141 ]\n",
      "Fl Score: [ 0.80018616  0.          0.68407987]\n",
      "------------------\n",
      "+++++++++++++++++++\n",
      "Number of Estimators:  28\n",
      "Max Depth:  11\n",
      "+++++++++++++++++++\n",
      "Accuracy Score:  0.741212121212\n",
      "Precision Score: [ 0.69434947  1.          0.88033271]\n",
      "Recall Score: [ 0.95531072  0.00820419  0.57814978]\n",
      "Fl Score: [ 0.80418925  0.01627486  0.69793661]\n",
      "------------------\n",
      "+++++++++++++++++++"
     ]
    },
    {
     "name": "stderr",
     "output_type": "stream",
     "text": [
      "//anaconda/lib/python2.7/site-packages/sklearn/base.py:436: DataConversionWarning: A column-vector y was passed when a 1d array was expected. Please change the shape of y to (n_samples,), for example using ravel().\n",
      "  return self.fit(X, y, **fit_params).transform(X)\n",
      "//anaconda/lib/python2.7/site-packages/sklearn/base.py:436: DataConversionWarning: A column-vector y was passed when a 1d array was expected. Please change the shape of y to (n_samples,), for example using ravel().\n",
      "  return self.fit(X, y, **fit_params).transform(X)\n"
     ]
    },
    {
     "name": "stdout",
     "output_type": "stream",
     "text": [
      "\n",
      "Number of Estimators:  28\n",
      "Max Depth:  12\n",
      "+++++++++++++++++++\n",
      "Accuracy Score:  0.746464646465\n",
      "Precision Score: [ 0.70031833  0.72727273  0.87851197]\n",
      "Recall Score: [ 0.95320624  0.00729262  0.59506608]\n",
      "Fl Score: [ 0.80742411  0.01444043  0.70952831]\n",
      "------------------\n",
      "+++++++++++++++++++\n",
      "Number of Estimators:  28\n",
      "Max Depth:  13\n",
      "+++++++++++++++++++\n",
      "Accuracy Score:  0.748484848485\n",
      "Precision Score: [ 0.70152783  0.72222222  0.88397067]\n",
      "Recall Score: [ 0.95493934  0.023701    0.59471366]\n",
      "Fl Score: [ 0.80884974  0.04589585  0.71105025]\n",
      "------------------\n",
      "+++++++++++++++++++"
     ]
    },
    {
     "name": "stderr",
     "output_type": "stream",
     "text": [
      "//anaconda/lib/python2.7/site-packages/sklearn/base.py:436: DataConversionWarning: A column-vector y was passed when a 1d array was expected. Please change the shape of y to (n_samples,), for example using ravel().\n",
      "  return self.fit(X, y, **fit_params).transform(X)\n",
      "//anaconda/lib/python2.7/site-packages/sklearn/base.py:436: DataConversionWarning: A column-vector y was passed when a 1d array was expected. Please change the shape of y to (n_samples,), for example using ravel().\n",
      "  return self.fit(X, y, **fit_params).transform(X)\n"
     ]
    },
    {
     "name": "stdout",
     "output_type": "stream",
     "text": [
      "\n",
      "Number of Estimators:  28\n",
      "Max Depth:  14\n",
      "+++++++++++++++++++\n",
      "Accuracy Score:  0.75468013468\n",
      "Precision Score: [ 0.71058255  0.75555556  0.87209302]\n",
      "Recall Score: [ 0.946769    0.03099362  0.62114537]\n",
      "Fl Score: [ 0.8118465   0.05954466  0.72553257]\n",
      "------------------\n",
      "+++++++++++++++++++\n",
      "Number of Estimators:  28\n",
      "Max Depth:  15\n",
      "+++++++++++++++++++\n",
      "Accuracy Score:  0.760269360269\n",
      "Precision Score: [ 0.71750563  0.6744186   0.87269193]\n",
      "Recall Score: [ 0.94577866  0.05287147  0.63295154]\n",
      "Fl Score: [ 0.81597778  0.09805579  0.73373506]\n",
      "------------------\n",
      "+++++++++++++++++++"
     ]
    },
    {
     "name": "stderr",
     "output_type": "stream",
     "text": [
      "//anaconda/lib/python2.7/site-packages/sklearn/base.py:436: DataConversionWarning: A column-vector y was passed when a 1d array was expected. Please change the shape of y to (n_samples,), for example using ravel().\n",
      "  return self.fit(X, y, **fit_params).transform(X)\n",
      "//anaconda/lib/python2.7/site-packages/sklearn/base.py:436: DataConversionWarning: A column-vector y was passed when a 1d array was expected. Please change the shape of y to (n_samples,), for example using ravel().\n",
      "  return self.fit(X, y, **fit_params).transform(X)\n"
     ]
    },
    {
     "name": "stdout",
     "output_type": "stream",
     "text": [
      "\n",
      "Number of Estimators:  28\n",
      "Max Depth:  16\n",
      "+++++++++++++++++++\n",
      "Accuracy Score:  0.766195286195\n",
      "Precision Score: [ 0.72819375  0.66666667  0.86250291]\n",
      "Recall Score: [ 0.93426591  0.11850501  0.65215859]\n",
      "Fl Score: [ 0.81845787  0.20123839  0.74272527]\n",
      "------------------\n",
      "+++++++++++++++++++\n",
      "Number of Estimators:  28\n",
      "Max Depth:  17\n",
      "+++++++++++++++++++\n",
      "Accuracy Score:  0.77367003367\n",
      "Precision Score: [ 0.73715628  0.6547619   0.86572277]\n",
      "Recall Score: [ 0.93253281  0.15041021  0.66801762]\n",
      "Fl Score: [ 0.82341367  0.24462565  0.75412771]\n",
      "------------------\n",
      "+++++++++++++++++++"
     ]
    },
    {
     "name": "stderr",
     "output_type": "stream",
     "text": [
      "//anaconda/lib/python2.7/site-packages/sklearn/base.py:436: DataConversionWarning: A column-vector y was passed when a 1d array was expected. Please change the shape of y to (n_samples,), for example using ravel().\n",
      "  return self.fit(X, y, **fit_params).transform(X)\n",
      "//anaconda/lib/python2.7/site-packages/sklearn/base.py:436: DataConversionWarning: A column-vector y was passed when a 1d array was expected. Please change the shape of y to (n_samples,), for example using ravel().\n",
      "  return self.fit(X, y, **fit_params).transform(X)\n"
     ]
    },
    {
     "name": "stdout",
     "output_type": "stream",
     "text": [
      "\n",
      "Number of Estimators:  28\n",
      "Max Depth:  18\n",
      "+++++++++++++++++++\n",
      "Accuracy Score:  0.769831649832\n",
      "Precision Score: [ 0.73506366  0.63636364  0.85844541]\n",
      "Recall Score: [ 0.9290666   0.1467639   0.66361233]\n",
      "Fl Score: [ 0.82075678  0.23851852  0.74855893]\n",
      "------------------\n",
      "+++++++++++++++++++\n",
      "Number of Estimators:  28\n",
      "Max Depth:  19\n",
      "+++++++++++++++++++\n",
      "Accuracy Score:  0.777845117845\n",
      "Precision Score: [ 0.7475183   0.64516129  0.85307642]\n",
      "Recall Score: [ 0.92287695  0.18231541  0.68651982]\n",
      "Fl Score: [ 0.82599302  0.28429282  0.76078891]\n",
      "------------------\n",
      "+++++++++++++++++++"
     ]
    },
    {
     "name": "stderr",
     "output_type": "stream",
     "text": [
      "//anaconda/lib/python2.7/site-packages/sklearn/base.py:436: DataConversionWarning: A column-vector y was passed when a 1d array was expected. Please change the shape of y to (n_samples,), for example using ravel().\n",
      "  return self.fit(X, y, **fit_params).transform(X)\n",
      "//anaconda/lib/python2.7/site-packages/sklearn/base.py:436: DataConversionWarning: A column-vector y was passed when a 1d array was expected. Please change the shape of y to (n_samples,), for example using ravel().\n",
      "  return self.fit(X, y, **fit_params).transform(X)\n"
     ]
    },
    {
     "name": "stdout",
     "output_type": "stream",
     "text": [
      "\n",
      "Number of Estimators:  28\n",
      "Max Depth:  20\n",
      "+++++++++++++++++++\n",
      "Accuracy Score:  0.778249158249\n",
      "Precision Score: [ 0.75371918  0.6167147   0.84154404]\n",
      "Recall Score: [ 0.91569695  0.19507748  0.6953304 ]\n",
      "Fl Score: [ 0.82684999  0.29639889  0.76148205]\n",
      "------------------\n",
      "+++++++++++++++++++\n",
      "Number of Estimators:  29\n",
      "Max Depth:  10\n",
      "+++++++++++++++++++\n",
      "Accuracy Score:  0.735016835017\n",
      "Precision Score: [ 0.6879338   0.          0.88150609]\n",
      "Recall Score: [ 0.95704382  0.          0.56105727]\n",
      "Fl Score: [ 0.80047629  0.          0.68568967]\n",
      "------------------\n",
      "+++++++++++++++++++"
     ]
    },
    {
     "name": "stderr",
     "output_type": "stream",
     "text": [
      "//anaconda/lib/python2.7/site-packages/sklearn/base.py:436: DataConversionWarning: A column-vector y was passed when a 1d array was expected. Please change the shape of y to (n_samples,), for example using ravel().\n",
      "  return self.fit(X, y, **fit_params).transform(X)\n",
      "//anaconda/lib/python2.7/site-packages/sklearn/base.py:436: DataConversionWarning: A column-vector y was passed when a 1d array was expected. Please change the shape of y to (n_samples,), for example using ravel().\n",
      "  return self.fit(X, y, **fit_params).transform(X)\n"
     ]
    },
    {
     "name": "stdout",
     "output_type": "stream",
     "text": [
      "\n",
      "Number of Estimators:  29\n",
      "Max Depth:  11\n",
      "+++++++++++++++++++\n",
      "Accuracy Score:  0.739191919192\n",
      "Precision Score: [ 0.69318693  1.          0.87583623]\n",
      "Recall Score: [ 0.95345383  0.00182315  0.57674009]\n",
      "Fl Score: [ 0.80275158  0.00363967  0.69549511]\n",
      "------------------\n",
      "+++++++++++++++++++\n",
      "Number of Estimators:  29\n",
      "Max Depth:  12\n",
      "+++++++++++++++++++\n",
      "Accuracy Score:  0.745521885522\n",
      "Precision Score: [ 0.6979684   0.625       0.88558535]\n",
      "Recall Score: [ 0.95692003  0.00455789  0.58784141]\n",
      "Fl Score: [ 0.80718425  0.00904977  0.70662995]\n",
      "------------------\n",
      "+++++++++++++++++++"
     ]
    },
    {
     "name": "stderr",
     "output_type": "stream",
     "text": [
      "//anaconda/lib/python2.7/site-packages/sklearn/base.py:436: DataConversionWarning: A column-vector y was passed when a 1d array was expected. Please change the shape of y to (n_samples,), for example using ravel().\n",
      "  return self.fit(X, y, **fit_params).transform(X)\n",
      "//anaconda/lib/python2.7/site-packages/sklearn/base.py:436: DataConversionWarning: A column-vector y was passed when a 1d array was expected. Please change the shape of y to (n_samples,), for example using ravel().\n",
      "  return self.fit(X, y, **fit_params).transform(X)\n"
     ]
    },
    {
     "name": "stdout",
     "output_type": "stream",
     "text": [
      "\n",
      "Number of Estimators:  29\n",
      "Max Depth:  13\n",
      "+++++++++++++++++++\n",
      "Accuracy Score:  0.751447811448\n",
      "Precision Score: [ 0.70651574  0.80392157  0.87490465]\n",
      "Recall Score: [ 0.950359    0.03737466  0.60634361]\n",
      "Fl Score: [ 0.81049409  0.07142857  0.7162781 ]\n",
      "------------------\n",
      "+++++++++++++++++++\n",
      "Number of Estimators:  29\n",
      "Max Depth:  14\n",
      "+++++++++++++++++++\n",
      "Accuracy Score:  0.752323232323\n",
      "Precision Score: [ 0.70658572  0.65151515  0.88113497]\n",
      "Recall Score: [ 0.95097796  0.03919781  0.60740088]\n",
      "Fl Score: [ 0.81076517  0.07394669  0.71909878]\n",
      "------------------\n",
      "+++++++++++++++++++"
     ]
    },
    {
     "name": "stderr",
     "output_type": "stream",
     "text": [
      "//anaconda/lib/python2.7/site-packages/sklearn/base.py:436: DataConversionWarning: A column-vector y was passed when a 1d array was expected. Please change the shape of y to (n_samples,), for example using ravel().\n",
      "  return self.fit(X, y, **fit_params).transform(X)\n",
      "//anaconda/lib/python2.7/site-packages/sklearn/base.py:436: DataConversionWarning: A column-vector y was passed when a 1d array was expected. Please change the shape of y to (n_samples,), for example using ravel().\n",
      "  return self.fit(X, y, **fit_params).transform(X)\n"
     ]
    },
    {
     "name": "stdout",
     "output_type": "stream",
     "text": [
      "\n",
      "Number of Estimators:  29\n",
      "Max Depth:  15\n",
      "+++++++++++++++++++\n",
      "Accuracy Score:  0.760673400673\n",
      "Precision Score: [ 0.71805255  0.67826087  0.87293489]\n",
      "Recall Score: [ 0.94392176  0.07110301  0.63312775]\n",
      "Fl Score: [ 0.81563887  0.12871287  0.73393933]\n",
      "------------------\n",
      "+++++++++++++++++++\n",
      "Number of Estimators:  29\n",
      "Max Depth:  16\n",
      "+++++++++++++++++++\n",
      "Accuracy Score:  0.763434343434\n",
      "Precision Score: [ 0.72308573  0.66442953  0.86734694]\n",
      "Recall Score: [ 0.93872246  0.09024613  0.64405286]\n",
      "Fl Score: [ 0.81691355  0.15890851  0.73920518]\n",
      "------------------\n",
      "+++++++++++++++++++"
     ]
    },
    {
     "name": "stderr",
     "output_type": "stream",
     "text": [
      "//anaconda/lib/python2.7/site-packages/sklearn/base.py:436: DataConversionWarning: A column-vector y was passed when a 1d array was expected. Please change the shape of y to (n_samples,), for example using ravel().\n",
      "  return self.fit(X, y, **fit_params).transform(X)\n",
      "//anaconda/lib/python2.7/site-packages/sklearn/base.py:436: DataConversionWarning: A column-vector y was passed when a 1d array was expected. Please change the shape of y to (n_samples,), for example using ravel().\n",
      "  return self.fit(X, y, **fit_params).transform(X)\n"
     ]
    },
    {
     "name": "stdout",
     "output_type": "stream",
     "text": [
      "\n",
      "Number of Estimators:  29\n",
      "Max Depth:  17\n",
      "+++++++++++++++++++\n",
      "Accuracy Score:  0.772121212121\n",
      "Precision Score: [ 0.73416983  0.67857143  0.86674338]\n",
      "Recall Score: [ 0.9343897   0.13855971  0.66361233]\n",
      "Fl Score: [ 0.82226701  0.23012869  0.75169661]\n",
      "------------------\n",
      "+++++++++++++++++++\n",
      "Number of Estimators:  29\n",
      "Max Depth:  18\n",
      "+++++++++++++++++++\n",
      "Accuracy Score:  0.772457912458\n",
      "Precision Score: [ 0.73923776  0.63138686  0.85678957]\n",
      "Recall Score: [ 0.92683833  0.15770283  0.67154185]\n",
      "Fl Score: [ 0.82247611  0.25237053  0.75293885]\n",
      "------------------\n",
      "+++++++++++++++++++"
     ]
    },
    {
     "name": "stderr",
     "output_type": "stream",
     "text": [
      "//anaconda/lib/python2.7/site-packages/sklearn/base.py:436: DataConversionWarning: A column-vector y was passed when a 1d array was expected. Please change the shape of y to (n_samples,), for example using ravel().\n",
      "  return self.fit(X, y, **fit_params).transform(X)\n",
      "//anaconda/lib/python2.7/site-packages/sklearn/base.py:436: DataConversionWarning: A column-vector y was passed when a 1d array was expected. Please change the shape of y to (n_samples,), for example using ravel().\n",
      "  return self.fit(X, y, **fit_params).transform(X)\n"
     ]
    },
    {
     "name": "stdout",
     "output_type": "stream",
     "text": [
      "\n",
      "Number of Estimators:  29\n",
      "Max Depth:  19\n",
      "+++++++++++++++++++\n",
      "Accuracy Score:  0.773265993266\n",
      "Precision Score: [ 0.74149254  0.63071895  0.85402759]\n",
      "Recall Score: [ 0.92250557  0.17593437  0.67629956]\n",
      "Fl Score: [ 0.82215357  0.27512473  0.75484315]\n",
      "------------------\n",
      "+++++++++++++++++++\n",
      "Number of Estimators:  29\n",
      "Max Depth:  20\n",
      "+++++++++++++++++++\n",
      "Accuracy Score:  0.782491582492\n",
      "Precision Score: [ 0.75708875  0.64032698  0.8462028 ]\n",
      "Recall Score: [ 0.91557316  0.2142206   0.70290749]\n",
      "Fl Score: [ 0.82882277  0.32103825  0.76792762]\n",
      "------------------\n",
      "+++++++++++++++++++"
     ]
    },
    {
     "name": "stderr",
     "output_type": "stream",
     "text": [
      "//anaconda/lib/python2.7/site-packages/sklearn/base.py:436: DataConversionWarning: A column-vector y was passed when a 1d array was expected. Please change the shape of y to (n_samples,), for example using ravel().\n",
      "  return self.fit(X, y, **fit_params).transform(X)\n",
      "//anaconda/lib/python2.7/site-packages/sklearn/base.py:436: DataConversionWarning: A column-vector y was passed when a 1d array was expected. Please change the shape of y to (n_samples,), for example using ravel().\n",
      "  return self.fit(X, y, **fit_params).transform(X)\n"
     ]
    },
    {
     "name": "stdout",
     "output_type": "stream",
     "text": [
      "\n",
      "Number of Estimators:  30\n",
      "Max Depth:  10\n",
      "+++++++++++++++++++\n",
      "Accuracy Score:  0.73063973064\n",
      "Precision Score: [ 0.68107211  0.          0.89782097]\n",
      "Recall Score: [ 0.96570933  0.          0.53726872]\n",
      "Fl Score: [ 0.79879173  0.          0.67225223]\n",
      "------------------\n",
      "+++++++++++++++++++\n",
      "Number of Estimators:  30\n",
      "Max Depth:  11\n",
      "+++++++++++++++++++\n",
      "Accuracy Score:  0.74\n",
      "Precision Score: [ 0.69152452  0.875       0.88861454]\n",
      "Recall Score: [ 0.95852934  0.00638104  0.5707489 ]\n",
      "Fl Score: [ 0.80342412  0.01266968  0.69506438]\n",
      "------------------\n",
      "+++++++++++++++++++"
     ]
    },
    {
     "name": "stderr",
     "output_type": "stream",
     "text": [
      "//anaconda/lib/python2.7/site-packages/sklearn/base.py:436: DataConversionWarning: A column-vector y was passed when a 1d array was expected. Please change the shape of y to (n_samples,), for example using ravel().\n",
      "  return self.fit(X, y, **fit_params).transform(X)\n",
      "//anaconda/lib/python2.7/site-packages/sklearn/base.py:436: DataConversionWarning: A column-vector y was passed when a 1d array was expected. Please change the shape of y to (n_samples,), for example using ravel().\n",
      "  return self.fit(X, y, **fit_params).transform(X)\n"
     ]
    },
    {
     "name": "stdout",
     "output_type": "stream",
     "text": [
      "\n",
      "Number of Estimators:  30\n",
      "Max Depth:  12\n",
      "+++++++++++++++++++\n",
      "Accuracy Score:  0.742222222222\n",
      "Precision Score: [ 0.69681044  0.77272727  0.87420886]\n",
      "Recall Score: [ 0.95196831  0.01549681  0.58414097]\n",
      "Fl Score: [ 0.80464581  0.03038427  0.70032745]\n",
      "------------------\n",
      "+++++++++++++++++++\n",
      "Number of Estimators:  30\n",
      "Max Depth:  13\n",
      "+++++++++++++++++++\n",
      "Accuracy Score:  0.75468013468\n",
      "Precision Score: [ 0.70783215  0.74626866  0.88591984]\n",
      "Recall Score: [ 0.95432038  0.04557885  0.60757709]\n",
      "Fl Score: [ 0.81279983  0.08591065  0.72081112]\n",
      "------------------\n",
      "+++++++++++++++++++"
     ]
    },
    {
     "name": "stderr",
     "output_type": "stream",
     "text": [
      "//anaconda/lib/python2.7/site-packages/sklearn/base.py:436: DataConversionWarning: A column-vector y was passed when a 1d array was expected. Please change the shape of y to (n_samples,), for example using ravel().\n",
      "  return self.fit(X, y, **fit_params).transform(X)\n",
      "//anaconda/lib/python2.7/site-packages/sklearn/base.py:436: DataConversionWarning: A column-vector y was passed when a 1d array was expected. Please change the shape of y to (n_samples,), for example using ravel().\n",
      "  return self.fit(X, y, **fit_params).transform(X)\n"
     ]
    },
    {
     "name": "stdout",
     "output_type": "stream",
     "text": [
      "\n",
      "Number of Estimators:  30\n",
      "Max Depth:  14\n",
      "+++++++++++++++++++\n",
      "Accuracy Score:  0.755757575758\n",
      "Precision Score: [ 0.71222687  0.6875      0.87298437]\n",
      "Recall Score: [ 0.94825452  0.04010939  0.62008811]\n",
      "Fl Score: [ 0.81346573  0.07579673  0.72511848]\n",
      "------------------\n",
      "+++++++++++++++++++\n",
      "Number of Estimators:  30\n",
      "Max Depth:  15\n",
      "+++++++++++++++++++\n",
      "Accuracy Score:  0.762895622896\n",
      "Precision Score: [ 0.72016616  0.72826087  0.87229957]\n",
      "Recall Score: [ 0.94429314  0.06107566  0.64035242]\n",
      "Fl Score: [ 0.8171398   0.11269975  0.73854283]\n",
      "------------------\n",
      "+++++++++++++++++++"
     ]
    },
    {
     "name": "stderr",
     "output_type": "stream",
     "text": [
      "//anaconda/lib/python2.7/site-packages/sklearn/base.py:436: DataConversionWarning: A column-vector y was passed when a 1d array was expected. Please change the shape of y to (n_samples,), for example using ravel().\n",
      "  return self.fit(X, y, **fit_params).transform(X)\n",
      "//anaconda/lib/python2.7/site-packages/sklearn/base.py:436: DataConversionWarning: A column-vector y was passed when a 1d array was expected. Please change the shape of y to (n_samples,), for example using ravel().\n",
      "  return self.fit(X, y, **fit_params).transform(X)\n"
     ]
    },
    {
     "name": "stdout",
     "output_type": "stream",
     "text": [
      "\n",
      "Number of Estimators:  30\n",
      "Max Depth:  16\n",
      "+++++++++++++++++++\n",
      "Accuracy Score:  0.767003367003\n",
      "Precision Score: [ 0.72701149  0.70552147  0.8676713 ]\n",
      "Recall Score: [ 0.93958901  0.10483136  0.64933921]\n",
      "Fl Score: [ 0.81974295  0.18253968  0.74279379]\n",
      "------------------\n",
      "+++++++++++++++++++\n",
      "Number of Estimators:  30\n",
      "Max Depth:  17\n",
      "+++++++++++++++++++\n",
      "Accuracy Score:  0.769225589226\n",
      "Precision Score: [ 0.73187494  0.67475728  0.86320427]\n",
      "Recall Score: [ 0.93599901  0.12670921  0.65603524]\n",
      "Fl Score: [ 0.82144603  0.2133538   0.74549459]\n",
      "------------------\n",
      "+++++++++++++++++++"
     ]
    },
    {
     "name": "stderr",
     "output_type": "stream",
     "text": [
      "//anaconda/lib/python2.7/site-packages/sklearn/base.py:436: DataConversionWarning: A column-vector y was passed when a 1d array was expected. Please change the shape of y to (n_samples,), for example using ravel().\n",
      "  return self.fit(X, y, **fit_params).transform(X)\n",
      "//anaconda/lib/python2.7/site-packages/sklearn/base.py:436: DataConversionWarning: A column-vector y was passed when a 1d array was expected. Please change the shape of y to (n_samples,), for example using ravel().\n",
      "  return self.fit(X, y, **fit_params).transform(X)\n"
     ]
    },
    {
     "name": "stdout",
     "output_type": "stream",
     "text": [
      "\n",
      "Number of Estimators:  30\n",
      "Max Depth:  18\n",
      "+++++++++++++++++++\n",
      "Accuracy Score:  0.774208754209\n",
      "Precision Score: [ 0.741446    0.65423729  0.85599284]\n",
      "Recall Score: [ 0.9254766   0.17593437  0.67453744]\n",
      "Fl Score: [ 0.82330268  0.27729885  0.75450872]\n",
      "------------------\n",
      "+++++++++++++++++++\n",
      "Number of Estimators:  30\n",
      "Max Depth:  19\n",
      "+++++++++++++++++++\n",
      "Accuracy Score:  0.775757575758\n",
      "Precision Score: [ 0.74510196  0.63694268  0.85304501]\n",
      "Recall Score: [ 0.92275316  0.18231541  0.68123348]\n",
      "Fl Score: [ 0.82446632  0.28348689  0.75751935]\n",
      "------------------\n",
      "+++++++++++++++++++\n",
      "Number of Estimators:  30\n",
      "Max Depth:  20\n",
      "+++++++++++++++++++\n",
      "Accuracy Score:  0.778922558923\n",
      "Precision Score: [ 0.7530525   0.60773481  0.84678112]\n",
      "Recall Score: [ 0.91619213  0.20054695  0.6953304 ]\n",
      "Fl Score: [ 0.82665028  0.30157642  0.76361877]\n",
      "------------------\n"
     ]
    },
    {
     "name": "stderr",
     "output_type": "stream",
     "text": [
      "//anaconda/lib/python2.7/site-packages/sklearn/base.py:436: DataConversionWarning: A column-vector y was passed when a 1d array was expected. Please change the shape of y to (n_samples,), for example using ravel().\n",
      "  return self.fit(X, y, **fit_params).transform(X)\n"
     ]
    }
   ],
   "source": [
    "import numpy as np\n",
    "from sklearn.metrics import accuracy_score\n",
    "from sklearn.metrics import precision_score\n",
    "from sklearn.metrics import recall_score\n",
    "from sklearn.metrics import f1_score\n",
    "from sklearn.metrics import precision_recall_fscore_support\n",
    "\n",
    "'''\n",
    "n_estimators increase start with 20, default is 10\n",
    "\n",
    "'''\n",
    "\n",
    "l_labels = ['functional' 'non functional' 'functional needs repair']\n",
    "num_estimators = [10,11,12,13,14,15,16,17,18,19,20,21,22,23,24,25,26,27,28,29,30]\n",
    "num_depths = [10,11,12,13,14,15,16,17,18,19,20]\n",
    "train_res = []\n",
    "test_res = []\n",
    "acc_score = []\n",
    "prec_score = []\n",
    "reca_score = []\n",
    "fll_score = []\n",
    "rec_fl_score = []\n",
    "\n",
    "df_accuracy = pd.DataFrame(acc_score,index=num_estimators,columns=num_depths)\n",
    "df_precision = pd.DataFrame(prec_score,index=num_estimators,columns=num_depths)\n",
    "df_recall = pd.DataFrame(reca_score,index=num_estimators,columns=num_depths)\n",
    "df_fl = pd.DataFrame(f1_score,index=num_estimators,columns=num_depths)\n",
    "\n",
    "print df_accuracy.shape\n",
    "print df_precision.shape\n",
    "print df_recall.shape\n",
    "print df_fl.shape\n",
    "\n",
    "for estim in num_estimators:\n",
    "\n",
    "    for depths in num_depths:\n",
    "\n",
    "        X = X_pumps_train\n",
    "        y = y_pumps_train[['label']]\n",
    "\n",
    "        clf = ExtraTreesClassifier(n_estimators=estim,max_depth=depths,max_features='log2')\n",
    "        X_new_t = clf.fit_transform(X, y)\n",
    "\n",
    "        result_train = clf.score(X,y)\n",
    "        result_test = clf.score(X_pumps_test,y_pumps_test)\n",
    "\n",
    "        result_pred = clf.predict(X_pumps_test)\n",
    "\n",
    "        acc_1 = accuracy_score(y_pumps_test, result_pred)\n",
    "        clf_precision, clf_recall, clf_f1, _ = precision_recall_fscore_support(y_pumps_test,result_pred, \\\n",
    "                                                                               pos_label=None,\\\n",
    "                                                                               average=None)\n",
    "\n",
    "        print \"+++++++++++++++++++\"\n",
    "        print \"Number of Estimators: \", estim\n",
    "        print \"Max Depth: \", depths\n",
    "        print \"+++++++++++++++++++\"\n",
    "        print \"Accuracy Score: \",acc_1\n",
    "        print \"Precision Score:\",clf_precision\n",
    "        print \"Recall Score:\",clf_recall\n",
    "        print \"Fl Score:\",clf_f1\n",
    "        print \"------------------\"\n",
    "\n",
    "        df_accuracy.ix[estim,depths] = acc_1\n",
    "        df_precision.ix[estim,depths] = clf_precision\n",
    "        df_recall.ix[estim,depths] = clf_recall\n",
    "        df_fl.ix[estim,depths] = clf_f1\n"
   ]
  },
  {
   "cell_type": "code",
   "execution_count": null,
   "metadata": {
    "collapsed": true
   },
   "outputs": [],
   "source": [
    "'''        df_accuracy.ix[estim,depths] = acc_1\n",
    "        df_precision.ix[estim,depths] = clf_precision\n",
    "        df_accuracy.ix[estim,depths] = clf_recall\n",
    "        df_accuracy.ix[estim,depths] = clf_f1'''"
   ]
  },
  {
   "cell_type": "code",
   "execution_count": 178,
   "metadata": {
    "collapsed": false
   },
   "outputs": [
    {
     "name": "stdout",
     "output_type": "stream",
     "text": [
      "           10         11         12         13         14         15  \\\n",
      "10  0.7297643  0.7406061  0.7411448  0.7420875  0.7541414   0.756835   \n",
      "11  0.7329293  0.7389899  0.7384512  0.7465993   0.753468   0.753468   \n",
      "12  0.7316498  0.7391246  0.7417508   0.746532  0.7552189  0.7591246   \n",
      "13  0.7327946   0.739596  0.7417508  0.7527946  0.7517172  0.7591246   \n",
      "14  0.7288215  0.7392593  0.7443771   0.749899  0.7542761  0.7618855   \n",
      "\n",
      "           16         17         18         19         20  \n",
      "10   0.760202  0.7674747  0.7712458  0.7775758  0.7758249  \n",
      "11  0.7647811  0.7664646   0.769697  0.7729966  0.7744108  \n",
      "12  0.7639057  0.7685522  0.7716498  0.7762963  0.7793939  \n",
      "13  0.7634343  0.7658586  0.7729293  0.7750168  0.7790572  \n",
      "14  0.7634343  0.7687542  0.7705724  0.7752189  0.7777104  \n",
      "           10         11         12         13         14         15  \\\n",
      "26  0.7321886  0.7369024  0.7423569  0.7480135  0.7540067  0.7606061   \n",
      "27  0.7340067  0.7360269   0.743165  0.7511111  0.7560943  0.7624916   \n",
      "28  0.7344108  0.7412121  0.7464646  0.7484848  0.7546801  0.7602694   \n",
      "29  0.7350168  0.7391919  0.7455219  0.7514478  0.7523232  0.7606734   \n",
      "30  0.7306397       0.74  0.7422222  0.7546801  0.7557576  0.7628956   \n",
      "\n",
      "           16         17         18         19         20  \n",
      "26  0.7657239  0.7713131  0.7769697  0.7753535  0.7800673  \n",
      "27  0.7668013  0.7682828  0.7744781  0.7752189  0.7804714  \n",
      "28  0.7661953    0.77367  0.7698316  0.7778451  0.7782492  \n",
      "29  0.7634343  0.7721212  0.7724579   0.773266  0.7824916  \n",
      "30  0.7670034  0.7692256  0.7742088  0.7757576  0.7789226  \n"
     ]
    }
   ],
   "source": [
    "print df_accuracy.head()\n",
    "print df_accuracy.tail()"
   ]
  },
  {
   "cell_type": "code",
   "execution_count": 217,
   "metadata": {
    "collapsed": false,
    "scrolled": false
   },
   "outputs": [
    {
     "data": {
      "text/plain": [
       "<matplotlib.text.Text at 0x1134b2990>"
      ]
     },
     "execution_count": 217,
     "metadata": {},
     "output_type": "execute_result"
    },
    {
     "data": {
      "image/png": "[encoded data removed]",
      "text/plain": [
       "<matplotlib.figure.Figure at 0x112c57590>"
      ]
     },
     "metadata": {},
     "output_type": "display_data"
    }
   ],
   "source": [
    "import seaborn as sns\n",
    "import pylab as P\n",
    "\n",
    "df_accuracy = df_accuracy[df_accuracy.columns].astype(float)\n",
    "\n",
    "fig, ax = plt.subplots(figsize=(10,12))\n",
    "\n",
    "#RdBu_r\n",
    "ax = sns.heatmap(df_accuracy, cmap=\"YlGnBu\",xticklabels=True,\\\n",
    "                 yticklabels=True,annot=True, ax=ax)\n",
    "ax.set_title(\"Accuracy Scores\", size='xx-large')\n",
    "ax.set_xlabel('Number of Estimators', size='x-large', labelpad=15)\n",
    "ax.set_ylabel('Maximum Depth', size='x-large',labelpad=15)\n",
    "\n"
   ]
  },
  {
   "cell_type": "code",
   "execution_count": null,
   "metadata": {
    "collapsed": false
   },
   "outputs": [],
   "source": [
    "print df_precision.head()"
   ]
  },
  {
   "cell_type": "code",
   "execution_count": 147,
   "metadata": {
    "collapsed": false
   },
   "outputs": [
    {
     "data": {
      "image/png": "[encoded data removed]",
      "text/plain": [
       "<matplotlib.figure.Figure at 0x11139dd90>"
      ]
     },
     "metadata": {},
     "output_type": "display_data"
    }
   ],
   "source": [
    "import matplotlib.pyplot as plt\n",
    "\n",
    "fig, ((ax1,ax2),(ax3,ax4),(ax5,ax6),(ax7,ax8),(ax9,ax10)) = plt.subplots(5,2,figsize=(12,12))\n",
    "\n",
    "n_groups = 21\n",
    "bar_width = 0.50\n",
    "index = np.arange(n_groups)\n",
    "opacity = 0.4\n",
    "\n",
    "rects1 = ax1.bar(index, acc_score, bar_width,\n",
    "                 alpha=opacity,\n",
    "                 color='b',\n",
    "                 label='Accuracy')\n",
    "\n",
    "ax1.set_ylim([0.775,0.785])\n",
    "ax1.set_xlabel('n_estimators')\n",
    "ax1.set_ylabel('Accuracy Scores')\n",
    "\n",
    "ax1.set_title('Accuracy')\n",
    "ax1.legend()\n",
    "\n",
    "\n",
    "bar_width = 0.40\n",
    "index = np.arange(n_groups)\n",
    "opacity = 0.4\n",
    "\n",
    "x1 = []\n",
    "x2 = []\n",
    "x3 = []\n",
    "\n",
    "for element in range(len(prec_score)):\n",
    "    x1.append(prec_score[element][0])\n",
    "    x2.append(prec_score[element][1])\n",
    "    x3.append(prec_score[element][2])\n",
    "\n",
    "rects1 = ax2.bar(index, x1, bar_width,\n",
    "                 alpha=opacity,\n",
    "                 color='c',\n",
    "                 label='Precision Score Functional')\n",
    "\n",
    "rects2 = ax3.bar(index, x2, bar_width,\n",
    "                 alpha=opacity,\n",
    "                 color='y',\n",
    "                 label='Precision Score Needs Repair')\n",
    "\n",
    "rects3 = ax4.bar(index, x3, bar_width,\n",
    "                 alpha=opacity,\n",
    "                 color='r',\n",
    "                 label='Precision Score Non-functional')\n",
    "\n",
    "ax2.legend(loc=8)\n",
    "ax2.set_ylim([0.78,0.815])\n",
    "ax2.set_xlim([0,21])\n",
    "ax2.set_xlabel('n_estimators')\n",
    "ax2.set_ylabel('Precision Scores')\n",
    "ax2.set_title('Functional')\n",
    "\n",
    "ax3.legend(loc=8)\n",
    "ax3.set_ylim([0.43,0.48])\n",
    "ax3.set_xlim([0,21])\n",
    "ax3.set_xlabel('n_estimators')\n",
    "ax3.set_ylabel('Precision Scores')\n",
    "ax3.set_title('Needs repair')\n",
    "\n",
    "ax4.legend(loc=8)\n",
    "ax4.set_ylim([0.78,0.82])\n",
    "ax4.set_xlim([0,21])\n",
    "ax4.set_xlabel('n_estimators')\n",
    "ax4.set_ylabel('Precision Scores')\n",
    "ax4.set_title('Non Functional')\n",
    "\n",
    "\n",
    "bar_width = 0.40\n",
    "index = np.arange(n_groups)\n",
    "opacity = 0.4\n",
    "\n",
    "x1 = []\n",
    "x2 = []\n",
    "x3 = []\n",
    "\n",
    "for element in range(len(reca_score)):\n",
    "    x1.append(reca_score[element][0])\n",
    "    x2.append(reca_score[element][1])\n",
    "    x3.append(reca_score[element][2])\n",
    "\n",
    "rects1 = ax5.bar(index, x1, bar_width,\n",
    "                 alpha=opacity,\n",
    "                 color='c',\n",
    "                 label='Recall Functional')\n",
    "\n",
    "rects2 = ax6.bar(index, x2, bar_width,\n",
    "                 alpha=opacity,\n",
    "                 color='y',\n",
    "                 label='Recall Needs repair')\n",
    "\n",
    "rects3 = ax7.bar(index, x3, bar_width,\n",
    "                 alpha=opacity,\n",
    "                 color='r',\n",
    "                 label='Recall Non-functional')\n",
    "\n",
    "ax5.legend(loc=9)\n",
    "ax5.set_ylim([0.84,0.87])\n",
    "ax5.set_xlim([0,21])\n",
    "ax5.set_xlabel('n_estimators')\n",
    "ax5.set_ylabel('Recall Scores')\n",
    "ax5.set_title('Functional')\n",
    "\n",
    "ax6.legend(loc=9)\n",
    "ax6.set_ylim([0.32,0.36])\n",
    "ax6.set_xlim([0,21])\n",
    "ax6.set_xlabel('n_estimators')\n",
    "ax6.set_ylabel('Recall Scores')\n",
    "ax6.set_title('Needs Repair')\n",
    "\n",
    "ax7.legend(loc=9)\n",
    "ax7.set_ylim([0.75,0.80])\n",
    "ax7.set_xlim([0,21])\n",
    "ax7.set_xlabel('n_estimators')\n",
    "ax7.set_ylabel('Recall Scores')\n",
    "ax7.set_title('Non-Functional')\n",
    "\n",
    "x1 = []\n",
    "x2 = []\n",
    "x3 = []\n",
    "\n",
    "for element in range(len(fll_score)):\n",
    "    x1.append(fll_score[element][0])\n",
    "    x2.append(fll_score[element][1])\n",
    "    x3.append(fll_score[element][2])\n",
    "\n",
    "rects1 = ax8.bar(index, x1, bar_width,\n",
    "                 alpha=opacity,\n",
    "                 color='c',\n",
    "                 label='Fl Functional')\n",
    "\n",
    "rects2 = ax9.bar(index, x2, bar_width,\n",
    "                 alpha=opacity,\n",
    "                 color='y',\n",
    "                 label='Fl Needs Repair')\n",
    "\n",
    "rects3 = ax10.bar(index, x3, bar_width,\n",
    "                 alpha=opacity,\n",
    "                 color='r',\n",
    "                 label='Fl Non Functional')\n",
    "\n",
    "ax8.legend(loc=8)\n",
    "ax8.set_ylim([0.8,0.83])\n",
    "ax8.set_xlim([0,21])\n",
    "ax8.set_xlabel('n_estimators')\n",
    "ax8.set_ylabel('Fl Scores')\n",
    "ax8.set_title('Functional')\n",
    "\n",
    "ax9.legend(loc=8)\n",
    "ax9.set_ylim([0.36,0.40])\n",
    "ax9.set_xlim([0,21])\n",
    "ax9.set_xlabel('n_estimators')\n",
    "ax9.set_ylabel('Fl Scores')\n",
    "ax9.set_title('Needs repair')\n",
    "\n",
    "ax10.legend(loc=8)\n",
    "ax10.set_ylim([0.75,0.80])\n",
    "ax10.set_xlim([0,21])\n",
    "ax10.set_xlabel('n_estimators')\n",
    "ax10.set_ylabel('Fl Scores')\n",
    "ax10.set_title('Non Functional')\n",
    "\n",
    "\n",
    "plt.tight_layout()\n",
    "plt.show()\n",
    "\n",
    "\n"
   ]
  },
  {
   "cell_type": "code",
   "execution_count": 45,
   "metadata": {
    "collapsed": false,
    "scrolled": true
   },
   "outputs": [
    {
     "name": "stdout",
     "output_type": "stream",
     "text": [
      "(44550, 14)\n",
      "Train Score: 0.995061728395\n",
      "Test Score: 0.779057239057\n",
      "Feature ranking:\n",
      "1. feature 3 (0.154770) latitude\n",
      "2. feature 2 (0.154396) longitude\n",
      "3. feature 1 (0.080339) gps_height\n",
      "4. feature 70 (0.075335) dry\n",
      "5. feature 6 (0.054576) population\n",
      "6. feature 71 (0.031172) enough\n",
      "7. feature 5 (0.024468) district_code\n",
      "8. feature 90 (0.021932) other\n",
      "9. feature 38 (0.020333) other\n",
      "10. feature 4 (0.019230) region_code\n",
      "11. feature 48 (0.018980) other\n",
      "12. feature 59 (0.017779) never pay\n",
      "13. feature 72 (0.016599) insufficient\n",
      "14. feature 0 (0.015377) amount_tsh\n",
      "15. feature 25 (0.010126) VWC\n",
      "16. feature 31 (0.009989) True\n",
      "17. feature 30 (0.009214) False\n",
      "18. feature 17 (0.008781) True\n",
      "19. feature 69 (0.008713) unknown\n",
      "20. feature 63 (0.007745) unknown\n",
      "21. feature 86 (0.007675) communal standpipe\n",
      "22. feature 66 (0.007240) good\n",
      "23. feature 56 (0.007170) user-group\n",
      "24. feature 16 (0.007167) False\n",
      "25. feature 62 (0.007049) per bucket\n",
      "26. feature 11 (0.006857) Lake Victoria\n",
      "27. feature 73 (0.006853) seasonal\n",
      "28. feature 81 (0.006599) spring\n",
      "29. feature 75 (0.006450) borehole\n",
      "30. feature 7 (0.006212) Internal\n",
      "31. feature 58 (0.006187) monthly\n",
      "32. feature 12 (0.005927) Pangani\n",
      "33. feature 37 (0.005636) nira/tanira\n",
      "34. feature 80 (0.005622) shallow well\n",
      "35. feature 45 (0.005496) gravity\n",
      "36. feature 46 (0.005438) handpump\n",
      "37. feature 10 (0.005428) Lake Tanganyika\n",
      "38. feature 27 (0.005252) WUG\n",
      "39. feature 33 (0.005176) gravity\n",
      "40. feature 88 (0.005039) hand pump\n",
      "41. feature 9 (0.005003) Lake Rukwa\n",
      "42. feature 13 (0.004901) Rufiji\n",
      "43. feature 8 (0.004896) Lake Nyasa\n",
      "44. feature 82 (0.004594) groundwater\n",
      "45. feature 79 (0.004590) river/lake\n",
      "46. feature 15 (0.004553) Wami / Ruvu\n",
      "47. feature 52 (0.004413) commercial\n",
      "48. feature 68 (0.004310) salty\n",
      "49. feature 18 (0.004280) Company\n",
      "50. feature 29 (0.004139) Water authority\n",
      "51. feature 57 (0.004070) annually\n",
      "52. feature 78 (0.003991) rainwater harvesting\n",
      "53. feature 14 (0.003947) Ruvuma / Southern Coast\n",
      "54. feature 60 (0.003619) on failure\n",
      "55. feature 43 (0.003594) swn 80\n",
      "56. feature 83 (0.003456) surface\n",
      "57. feature 36 (0.003441) mono\n",
      "58. feature 28 (0.003283) Water Board\n",
      "59. feature 42 (0.002859) submersible\n",
      "60. feature 34 (0.002819) india mark ii\n",
      "61. feature 26 (0.002813) WUA\n",
      "62. feature 50 (0.002767) submersible\n",
      "63. feature 32 (0.002424) afridev\n",
      "64. feature 47 (0.002192) motorpump\n",
      "65. feature 74 (0.002117) unknown\n",
      "66. feature 54 (0.001944) parastatal\n",
      "67. feature 22 (0.001865) Private operator\n",
      "68. feature 21 (0.001820) Parastatal\n",
      "69. feature 89 (0.001665) improved spring\n",
      "70. feature 61 (0.001654) other\n",
      "71. feature 76 (0.001570) dam\n",
      "72. feature 53 (0.001423) other\n",
      "73. feature 67 (0.001384) milky\n",
      "74. feature 64 (0.001304) colored\n",
      "75. feature 39 (0.001115) other handpump\n",
      "76. feature 20 (0.001110) Other\n",
      "77. feature 55 (0.000991) unknown\n",
      "78. feature 49 (0.000820) rope pump\n",
      "79. feature 65 (0.000661) fluoride\n",
      "80. feature 84 (0.000504) unknown\n",
      "81. feature 77 (0.000480) other\n",
      "82. feature 41 (0.000446) rope pump\n",
      "83. feature 85 (0.000358) cattle trough\n",
      "84. feature 35 (0.000356) india mark iii\n",
      "85. feature 24 (0.000287) Trust\n",
      "86. feature 44 (0.000286) wind-powered\n",
      "87. feature 40 (0.000194) other motorpump\n",
      "88. feature 23 (0.000189) SWC\n",
      "89. feature 51 (0.000170) wind-powered\n",
      "90. feature 87 (0.000007) dam\n",
      "91. feature 19 (0.000000) None\n",
      "X_new_t 44550\n",
      "(44550, 14)\n"
     ]
    },
    {
     "name": "stderr",
     "output_type": "stream",
     "text": [
      "//anaconda/lib/python2.7/site-packages/sklearn/base.py:436: DataConversionWarning: A column-vector y was passed when a 1d array was expected. Please change the shape of y to (n_samples,), for example using ravel().\n",
      "  return self.fit(X, y, **fit_params).transform(X)\n"
     ]
    }
   ],
   "source": [
    "import numpy as np\n",
    "\n",
    "'''\n",
    "n_estimators increase start with 20, default is 10\n",
    "\n",
    "'''\n",
    "num_estimators = [10,11,12,13,14,15,16,17,18,19,20]\n",
    "train_res = []\n",
    "test_res\n",
    "for estim in num_estimators:\n",
    "    clf = ExtraTreesClassifier(num_estimators=estim)\n",
    "    X_new_t = clf.fit_transform(X, y)\n",
    "    result_train = clf.score(X,y)\n",
    "    result_test = clf.score(X_pumps_test,y_pumps_test)\n",
    "    print \"Number of Estimators: \",estim\n",
    "    print \"Train Score:\",result_train\n",
    "    print \"Test Score:\",result_test\n",
    "    \n",
    "\n",
    "importances = clf.feature_importances_\n",
    "\n",
    "indices = np.argsort(importances)[::-1]\n",
    "\n",
    "# Print the feature ranking\n",
    "print(\"Feature ranking:\")\n",
    "\n",
    "for f in range(len(indices)):\n",
    "    print(\"%d. feature %d (%f) %s\" % (f + 1, indices[f], importances[indices[f]],X.columns.values[indices[f]]))\n",
    "\n",
    "print \"X_new_t\",len(X_new_t)\n",
    "\n",
    "print X_new_t.shape\n"
   ]
  },
  {
   "cell_type": "code",
   "execution_count": 46,
   "metadata": {
    "collapsed": false,
    "scrolled": true
   },
   "outputs": [],
   "source": [
    "import matplotlib.pyplot as plt"
   ]
  },
  {
   "cell_type": "code",
   "execution_count": 280,
   "metadata": {
    "collapsed": false
   },
   "outputs": [
    {
     "name": "stdout",
     "output_type": "stream",
     "text": [
      "0.778181818182\n"
     ]
    }
   ],
   "source": [
    "'''from sklearn.tree import DecisionTreeClassifier\n",
    "clf2222 = DecisionTreeClassifier()\n",
    "X_new = clf2222.fit_transform(X, y)\n",
    "result_train = clf2222.score(X,y)\n",
    "print result_test\n",
    "\n",
    "with open(\"export2.dot\",\"wb\") as f:\n",
    "    f = export_graphviz(clf2222,out_file=f,feature_names=indices)\n",
    "'''"
   ]
  },
  {
   "cell_type": "code",
   "execution_count": 287,
   "metadata": {
    "collapsed": false
   },
   "outputs": [
    {
     "data": {
      "text/plain": [
       "True"
      ]
     },
     "execution_count": 287,
     "metadata": {},
     "output_type": "execute_result"
    }
   ],
   "source": [
    "'''from sklearn import tree\n",
    "import StringIO\n",
    "import pydot\n",
    "from sklearn.externals.six import StringIO  \n",
    "\n",
    "clf2222 = DecisionTreeClassifier()\n",
    "N = clf2222.fit_transform(X,y)\n",
    "\n",
    "X_333 = X[['latitude','longitude','gps_height','dry','population']]\n",
    "clf333 = DecisionTreeClassifier()\n",
    "transform = clf333.fit_transform(X_333,y)\n",
    "\n",
    "dot_data = StringIO()\n",
    "tree.export_graphviz(clf333, out_file=dot_data)\n",
    "graph = pydot.graph_from_dot_data(dot_data.getvalue())\n",
    "graph.write_pdf(\"DTF.pdf\")'''"
   ]
  },
  {
   "cell_type": "code",
   "execution_count": 264,
   "metadata": {
    "collapsed": false
   },
   "outputs": [],
   "source": [
    "'''\n",
    "with open(\"export1.dot\",\"wb\") as f:\n",
    "    f = export_graphviz(clf,out_file=f,feature_names=indices)\n",
    "'''    "
   ]
  },
  {
   "cell_type": "code",
   "execution_count": 47,
   "metadata": {
    "collapsed": false,
    "scrolled": true
   },
   "outputs": [
    {
     "data": {
      "image/png": "[encoded data removed]",
      "text/plain": [
       "<matplotlib.figure.Figure at 0x10bc39e50>"
      ]
     },
     "metadata": {},
     "output_type": "display_data"
    },
    {
     "name": "stdout",
     "output_type": "stream",
     "text": [
      "['amount_tsh' 'gps_height' 'longitude' 'latitude' 'region_code'\n",
      " 'district_code' 'population' 'Internal' 'Lake Nyasa' 'Lake Rukwa'\n",
      " 'Lake Tanganyika' 'Lake Victoria' 'Pangani' 'Rufiji'\n",
      " 'Ruvuma / Southern Coast' 'Wami / Ruvu' 'False' 'True' 'Company' 'None'\n",
      " 'Other' 'Parastatal' 'Private operator' 'SWC' 'Trust' 'VWC' 'WUA' 'WUG'\n",
      " 'Water Board' 'Water authority' False True 'afridev' 'gravity'\n",
      " 'india mark ii' 'india mark iii' 'mono' 'nira/tanira' 'other'\n",
      " 'other handpump' 'other motorpump' 'rope pump' 'submersible' 'swn 80'\n",
      " 'wind-powered' 'gravity' 'handpump' 'motorpump' 'other' 'rope pump'\n",
      " 'submersible' 'wind-powered' 'commercial' 'other' 'parastatal' 'unknown'\n",
      " 'user-group' 'annually' 'monthly' 'never pay' 'on failure' 'other'\n",
      " 'per bucket' 'unknown' 'colored' 'fluoride' 'good' 'milky' 'salty'\n",
      " 'unknown' 'dry' 'enough' 'insufficient' 'seasonal' 'unknown' 'borehole'\n",
      " 'dam' 'other' 'rainwater harvesting' 'river/lake' 'shallow well' 'spring'\n",
      " 'groundwater' 'surface' 'unknown' 'cattle trough' 'communal standpipe'\n",
      " 'dam' 'hand pump' 'improved spring' 'other']\n",
      "0  -  latitude\n",
      "1  -  longitude\n",
      "2  -  gps_height\n",
      "3  -  dry\n",
      "4  -  population\n",
      "5  -  enough\n",
      "6  -  district_code\n",
      "7  -  other\n",
      "8  -  other\n",
      "9  -  region_code\n",
      "10  -  other\n",
      "11  -  never pay\n",
      "12  -  insufficient\n",
      "13  -  amount_tsh\n",
      "14  -  VWC\n",
      "15  -  True\n",
      "16  -  False\n",
      "17  -  True\n",
      "18  -  unknown\n",
      "19  -  unknown\n",
      "20  -  communal standpipe\n",
      "21  -  good\n",
      "22  -  user-group\n",
      "23  -  False\n",
      "24  -  per bucket\n",
      "25  -  Lake Victoria\n",
      "26  -  seasonal\n",
      "27  -  spring\n",
      "28  -  borehole\n",
      "29  -  Internal\n",
      "30  -  monthly\n",
      "31  -  Pangani\n",
      "32  -  nira/tanira\n",
      "33  -  shallow well\n",
      "34  -  gravity\n",
      "35  -  handpump\n",
      "36  -  Lake Tanganyika\n",
      "37  -  WUG\n",
      "38  -  gravity\n",
      "39  -  hand pump\n",
      "40  -  Lake Rukwa\n",
      "41  -  Rufiji\n",
      "42  -  Lake Nyasa\n",
      "43  -  groundwater\n",
      "44  -  river/lake\n",
      "45  -  Wami / Ruvu\n",
      "46  -  commercial\n",
      "47  -  salty\n",
      "48  -  Company\n",
      "49  -  Water authority\n",
      "50  -  annually\n",
      "51  -  rainwater harvesting\n",
      "52  -  Ruvuma / Southern Coast\n",
      "53  -  on failure\n",
      "54  -  swn 80\n",
      "55  -  surface\n",
      "56  -  mono\n",
      "57  -  Water Board\n",
      "58  -  submersible\n",
      "59  -  india mark ii\n",
      "60  -  WUA\n",
      "61  -  submersible\n",
      "62  -  afridev\n",
      "63  -  motorpump\n",
      "64  -  unknown\n",
      "65  -  parastatal\n",
      "66  -  Private operator\n",
      "67  -  Parastatal\n",
      "68  -  improved spring\n",
      "69  -  other\n",
      "70  -  dam\n",
      "71  -  other\n",
      "72  -  milky\n",
      "73  -  colored\n",
      "74  -  other handpump\n",
      "75  -  Other\n",
      "76  -  unknown\n",
      "77  -  rope pump\n",
      "78  -  fluoride\n",
      "79  -  unknown\n",
      "80  -  other\n",
      "81  -  rope pump\n",
      "82  -  cattle trough\n",
      "83  -  india mark iii\n",
      "84  -  Trust\n",
      "85  -  wind-powered\n",
      "86  -  other motorpump\n",
      "87  -  SWC\n",
      "88  -  wind-powered\n",
      "89  -  dam\n",
      "90  -  None\n"
     ]
    }
   ],
   "source": [
    "# Plot the feature importances of the forest\n",
    "\n",
    "plt.figure(figsize=(14,8))\n",
    "plt.title(\"Feature importances\")\n",
    "plt.bar(range(len(indices)), importances[indices], color=\"r\", align=\"center\")\n",
    "plt.xticks(range(len(indices)), indices, rotation='vertical')\n",
    "plt.xlim([-1, 10])\n",
    "plt.show()\n",
    "\n",
    "print X.columns.values\n",
    "for a in range(len(X.columns.values)):\n",
    "    print a,\" - \", X.columns.values[indices[a]]\n",
    "\n",
    "\n",
    "\n"
   ]
  },
  {
   "cell_type": "code",
   "execution_count": 224,
   "metadata": {
    "collapsed": false
   },
   "outputs": [
    {
     "name": "stdout",
     "output_type": "stream",
     "text": [
      "        latitude  longitude  gps_height  dry  population\n",
      "37900  -4.053327  33.104711           0    0           0\n",
      "40527  -8.954532  32.569985           0    0           0\n",
      "26058  -8.439998  31.736616        1804    0         200\n",
      "6969   -9.123071  34.774402        1821    0         108\n",
      "41018 -10.923966  36.092962         767    0         400\n"
     ]
    }
   ],
   "source": [
    "'''X_2 = X[['latitude','longitude','gps_height','dry','population']]\n",
    "\n",
    "print X_2.head()'''"
   ]
  },
  {
   "cell_type": "code",
   "execution_count": 54,
   "metadata": {
    "collapsed": false,
    "scrolled": true
   },
   "outputs": [
    {
     "name": "stdout",
     "output_type": "stream",
     "text": [
      "       amount_tsh date_recorded                  funder  gps_height  \\\n",
      "id                                                                    \n",
      "50785           0    2013-02-04                    Dmdd        1996   \n",
      "51630           0    2013-02-04  Government Of Tanzania        1569   \n",
      "17168           0    2013-02-01                     NaN        1567   \n",
      "45559           0    2013-01-22              Finn Water         267   \n",
      "49871         500    2013-03-27                  Bruder        1260   \n",
      "\n",
      "        installer  longitude   latitude                 wpt_name  num_private  \\\n",
      "id                                                                              \n",
      "50785        DMDD  35.290799  -4.059696  Dinamu Secondary School            0   \n",
      "51630         DWE  36.656709  -3.309214                  Kimnyak            0   \n",
      "17168         NaN  34.767863  -5.004344           Puma Secondary            0   \n",
      "45559  FINN WATER  38.058046  -9.418672           Kwa Mzee Pange            0   \n",
      "49871      BRUDER  35.006123 -10.950412          Kwa Mzee Turuka            0   \n",
      "\n",
      "                         basin          ...          payment_type  \\\n",
      "id                                      ...                         \n",
      "50785                 Internal          ...             never pay   \n",
      "51630                  Pangani          ...             never pay   \n",
      "17168                 Internal          ...             never pay   \n",
      "45559  Ruvuma / Southern Coast          ...               unknown   \n",
      "49871  Ruvuma / Southern Coast          ...               monthly   \n",
      "\n",
      "      water_quality  quality_group      quantity quantity_group  \\\n",
      "id                                                                \n",
      "50785          soft           good      seasonal       seasonal   \n",
      "51630          soft           good  insufficient   insufficient   \n",
      "17168          soft           good  insufficient   insufficient   \n",
      "45559          soft           good           dry            dry   \n",
      "49871          soft           good        enough         enough   \n",
      "\n",
      "                     source           source_type source_class  \\\n",
      "id                                                               \n",
      "50785  rainwater harvesting  rainwater harvesting      surface   \n",
      "51630                spring                spring  groundwater   \n",
      "17168  rainwater harvesting  rainwater harvesting      surface   \n",
      "45559          shallow well          shallow well  groundwater   \n",
      "49871                spring                spring  groundwater   \n",
      "\n",
      "          waterpoint_type waterpoint_type_group  \n",
      "id                                               \n",
      "50785               other                 other  \n",
      "51630  communal standpipe    communal standpipe  \n",
      "17168               other                 other  \n",
      "45559               other                 other  \n",
      "49871  communal standpipe    communal standpipe  \n",
      "\n",
      "[5 rows x 39 columns]\n"
     ]
    },
    {
     "ename": "KeyError",
     "evalue": "\"['id'] not in index\"",
     "output_type": "error",
     "traceback": [
      "\u001b[0;31m---------------------------------------------------------------------------\u001b[0m",
      "\u001b[0;31mKeyError\u001b[0m                                  Traceback (most recent call last)",
      "\u001b[0;32m<ipython-input-54-123865d30b7f>\u001b[0m in \u001b[0;36m<module>\u001b[0;34m()\u001b[0m\n\u001b[1;32m      2\u001b[0m \u001b[0;32mprint\u001b[0m \u001b[0mtest\u001b[0m\u001b[0;34m.\u001b[0m\u001b[0mhead\u001b[0m\u001b[0;34m(\u001b[0m\u001b[0;34m)\u001b[0m\u001b[0;34m\u001b[0m\u001b[0m\n\u001b[1;32m      3\u001b[0m \u001b[0;34m\u001b[0m\u001b[0m\n\u001b[0;32m----> 4\u001b[0;31m \u001b[0mtest\u001b[0m \u001b[0;34m=\u001b[0m \u001b[0mtest\u001b[0m\u001b[0;34m[\u001b[0m\u001b[0;34m[\u001b[0m\u001b[0;34m'id'\u001b[0m\u001b[0;34m,\u001b[0m\u001b[0;34m'amount_tsh'\u001b[0m\u001b[0;34m,\u001b[0m\u001b[0;34m'gps_height'\u001b[0m\u001b[0;34m,\u001b[0m\u001b[0;34m'longitude'\u001b[0m\u001b[0;34m,\u001b[0m\u001b[0;34m'latitude'\u001b[0m\u001b[0;34m,\u001b[0m\u001b[0;34m'region_code'\u001b[0m\u001b[0;34m,\u001b[0m\u001b[0;34m'district_code'\u001b[0m\u001b[0;34m,\u001b[0m            \u001b[0;34m'population'\u001b[0m\u001b[0;34m,\u001b[0m\u001b[0;34m'basin'\u001b[0m\u001b[0;34m,\u001b[0m\u001b[0;34m'public_meeting'\u001b[0m\u001b[0;34m,\u001b[0m\u001b[0;34m'scheme_management'\u001b[0m\u001b[0;34m,\u001b[0m\u001b[0;34m'permit'\u001b[0m\u001b[0;34m,\u001b[0m            \u001b[0;34m'extraction_type_group'\u001b[0m\u001b[0;34m,\u001b[0m\u001b[0;34m'extraction_type_class'\u001b[0m\u001b[0;34m,\u001b[0m\u001b[0;34m'management_group'\u001b[0m\u001b[0;34m,\u001b[0m            \u001b[0;34m'payment_type'\u001b[0m\u001b[0;34m,\u001b[0m\u001b[0;34m'quality_group'\u001b[0m\u001b[0;34m,\u001b[0m\u001b[0;34m'quantity_group'\u001b[0m\u001b[0;34m,\u001b[0m            \u001b[0;34m'source_type'\u001b[0m\u001b[0;34m,\u001b[0m\u001b[0;34m'source_class'\u001b[0m\u001b[0;34m,\u001b[0m\u001b[0;34m'waterpoint_type_group'\u001b[0m\u001b[0;34m]\u001b[0m\u001b[0;34m]\u001b[0m\u001b[0;34m\u001b[0m\u001b[0m\n\u001b[0m\u001b[1;32m      5\u001b[0m \u001b[0;34m\u001b[0m\u001b[0m\n\u001b[1;32m      6\u001b[0m \u001b[0;32mprint\u001b[0m \u001b[0mtest\u001b[0m\u001b[0;34m.\u001b[0m\u001b[0mhead\u001b[0m\u001b[0;34m(\u001b[0m\u001b[0;34m)\u001b[0m\u001b[0;34m\u001b[0m\u001b[0m\n",
      "\u001b[0;32m//anaconda/lib/python2.7/site-packages/pandas/core/frame.pyc\u001b[0m in \u001b[0;36m__getitem__\u001b[0;34m(self, key)\u001b[0m\n\u001b[1;32m   1789\u001b[0m         \u001b[0;32mif\u001b[0m \u001b[0misinstance\u001b[0m\u001b[0;34m(\u001b[0m\u001b[0mkey\u001b[0m\u001b[0;34m,\u001b[0m \u001b[0;34m(\u001b[0m\u001b[0mSeries\u001b[0m\u001b[0;34m,\u001b[0m \u001b[0mnp\u001b[0m\u001b[0;34m.\u001b[0m\u001b[0mndarray\u001b[0m\u001b[0;34m,\u001b[0m \u001b[0mIndex\u001b[0m\u001b[0;34m,\u001b[0m \u001b[0mlist\u001b[0m\u001b[0;34m)\u001b[0m\u001b[0;34m)\u001b[0m\u001b[0;34m:\u001b[0m\u001b[0;34m\u001b[0m\u001b[0m\n\u001b[1;32m   1790\u001b[0m             \u001b[0;31m# either boolean or fancy integer index\u001b[0m\u001b[0;34m\u001b[0m\u001b[0;34m\u001b[0m\u001b[0m\n\u001b[0;32m-> 1791\u001b[0;31m             \u001b[0;32mreturn\u001b[0m \u001b[0mself\u001b[0m\u001b[0;34m.\u001b[0m\u001b[0m_getitem_array\u001b[0m\u001b[0;34m(\u001b[0m\u001b[0mkey\u001b[0m\u001b[0;34m)\u001b[0m\u001b[0;34m\u001b[0m\u001b[0m\n\u001b[0m\u001b[1;32m   1792\u001b[0m         \u001b[0;32melif\u001b[0m \u001b[0misinstance\u001b[0m\u001b[0;34m(\u001b[0m\u001b[0mkey\u001b[0m\u001b[0;34m,\u001b[0m \u001b[0mDataFrame\u001b[0m\u001b[0;34m)\u001b[0m\u001b[0;34m:\u001b[0m\u001b[0;34m\u001b[0m\u001b[0m\n\u001b[1;32m   1793\u001b[0m             \u001b[0;32mreturn\u001b[0m \u001b[0mself\u001b[0m\u001b[0;34m.\u001b[0m\u001b[0m_getitem_frame\u001b[0m\u001b[0;34m(\u001b[0m\u001b[0mkey\u001b[0m\u001b[0;34m)\u001b[0m\u001b[0;34m\u001b[0m\u001b[0m\n",
      "\u001b[0;32m//anaconda/lib/python2.7/site-packages/pandas/core/frame.pyc\u001b[0m in \u001b[0;36m_getitem_array\u001b[0;34m(self, key)\u001b[0m\n\u001b[1;32m   1833\u001b[0m             \u001b[0;32mreturn\u001b[0m \u001b[0mself\u001b[0m\u001b[0;34m.\u001b[0m\u001b[0mtake\u001b[0m\u001b[0;34m(\u001b[0m\u001b[0mindexer\u001b[0m\u001b[0;34m,\u001b[0m \u001b[0maxis\u001b[0m\u001b[0;34m=\u001b[0m\u001b[0;36m0\u001b[0m\u001b[0;34m,\u001b[0m \u001b[0mconvert\u001b[0m\u001b[0;34m=\u001b[0m\u001b[0mFalse\u001b[0m\u001b[0;34m)\u001b[0m\u001b[0;34m\u001b[0m\u001b[0m\n\u001b[1;32m   1834\u001b[0m         \u001b[0;32melse\u001b[0m\u001b[0;34m:\u001b[0m\u001b[0;34m\u001b[0m\u001b[0m\n\u001b[0;32m-> 1835\u001b[0;31m             \u001b[0mindexer\u001b[0m \u001b[0;34m=\u001b[0m \u001b[0mself\u001b[0m\u001b[0;34m.\u001b[0m\u001b[0mix\u001b[0m\u001b[0;34m.\u001b[0m\u001b[0m_convert_to_indexer\u001b[0m\u001b[0;34m(\u001b[0m\u001b[0mkey\u001b[0m\u001b[0;34m,\u001b[0m \u001b[0maxis\u001b[0m\u001b[0;34m=\u001b[0m\u001b[0;36m1\u001b[0m\u001b[0;34m)\u001b[0m\u001b[0;34m\u001b[0m\u001b[0m\n\u001b[0m\u001b[1;32m   1836\u001b[0m             \u001b[0;32mreturn\u001b[0m \u001b[0mself\u001b[0m\u001b[0;34m.\u001b[0m\u001b[0mtake\u001b[0m\u001b[0;34m(\u001b[0m\u001b[0mindexer\u001b[0m\u001b[0;34m,\u001b[0m \u001b[0maxis\u001b[0m\u001b[0;34m=\u001b[0m\u001b[0;36m1\u001b[0m\u001b[0;34m,\u001b[0m \u001b[0mconvert\u001b[0m\u001b[0;34m=\u001b[0m\u001b[0mTrue\u001b[0m\u001b[0;34m)\u001b[0m\u001b[0;34m\u001b[0m\u001b[0m\n\u001b[1;32m   1837\u001b[0m \u001b[0;34m\u001b[0m\u001b[0m\n",
      "\u001b[0;32m//anaconda/lib/python2.7/site-packages/pandas/core/indexing.pyc\u001b[0m in \u001b[0;36m_convert_to_indexer\u001b[0;34m(self, obj, axis, is_setter)\u001b[0m\n\u001b[1;32m   1110\u001b[0m                 \u001b[0mmask\u001b[0m \u001b[0;34m=\u001b[0m \u001b[0mcheck\u001b[0m \u001b[0;34m==\u001b[0m \u001b[0;34m-\u001b[0m\u001b[0;36m1\u001b[0m\u001b[0;34m\u001b[0m\u001b[0m\n\u001b[1;32m   1111\u001b[0m                 \u001b[0;32mif\u001b[0m \u001b[0mmask\u001b[0m\u001b[0;34m.\u001b[0m\u001b[0many\u001b[0m\u001b[0;34m(\u001b[0m\u001b[0;34m)\u001b[0m\u001b[0;34m:\u001b[0m\u001b[0;34m\u001b[0m\u001b[0m\n\u001b[0;32m-> 1112\u001b[0;31m                     \u001b[0;32mraise\u001b[0m \u001b[0mKeyError\u001b[0m\u001b[0;34m(\u001b[0m\u001b[0;34m'%s not in index'\u001b[0m \u001b[0;34m%\u001b[0m \u001b[0mobjarr\u001b[0m\u001b[0;34m[\u001b[0m\u001b[0mmask\u001b[0m\u001b[0;34m]\u001b[0m\u001b[0;34m)\u001b[0m\u001b[0;34m\u001b[0m\u001b[0m\n\u001b[0m\u001b[1;32m   1113\u001b[0m \u001b[0;34m\u001b[0m\u001b[0m\n\u001b[1;32m   1114\u001b[0m                 \u001b[0;32mreturn\u001b[0m \u001b[0m_values_from_object\u001b[0m\u001b[0;34m(\u001b[0m\u001b[0mindexer\u001b[0m\u001b[0;34m)\u001b[0m\u001b[0;34m\u001b[0m\u001b[0m\n",
      "\u001b[0;31mKeyError\u001b[0m: \"['id'] not in index\""
     ]
    }
   ],
   "source": [
    "test = pd.read_csv('/Users/martinrasumoff/Desktop/metis/mcnulty/Pumpitup/test.csv', index_col='id')\n",
    "print test.head()\n",
    "\n",
    "test = test[['id','amount_tsh','gps_height','longitude','latitude','region_code','district_code',\\\n",
    "            'population','basin','public_meeting','scheme_management','permit',\\\n",
    "            'extraction_type_group','extraction_type_class','management_group',\\\n",
    "            'payment_type','quality_group','quantity_group',\\\n",
    "            'source_type','source_class','waterpoint_type_group']]\n",
    "\n",
    "print test.head()"
   ]
  },
  {
   "cell_type": "code",
   "execution_count": 55,
   "metadata": {
    "collapsed": false
   },
   "outputs": [
    {
     "name": "stdout",
     "output_type": "stream",
     "text": [
      "basin: (14850, 9)\n",
      "Public Meeting: (14850, 2)\n",
      "Scheme Management: (14850, 11)\n",
      "permit: (14850, 2)\n",
      "Data Extraction: (14850, 13)\n",
      "Data Extr Type: (14850, 7)\n",
      "Management Group: (14850, 5)\n",
      "Payment Type: (14850, 7)\n",
      "Quality Group: (14850, 6)\n",
      "Quantity Group: (14850, 5)\n",
      "Source Type: (14850, 7)\n",
      "Source Class: (14850, 3)\n",
      "Waterpoint Type: (14850, 6)\n"
     ]
    }
   ],
   "source": [
    "tf_data_basin = pd.get_dummies(test['basin'])\n",
    "print 'basin:',tf_data_basin.shape\n",
    "tf_data_public_meeting = pd.get_dummies(test['public_meeting'])\n",
    "print 'Public Meeting:',tf_data_public_meeting.shape\n",
    "tf_data_scheme_mgmnt = pd.get_dummies(test['scheme_management'])\n",
    "print 'Scheme Management:',tf_data_scheme_mgmnt.shape\n",
    "tf_data_permit = pd.get_dummies(test['permit'])\n",
    "print 'permit:',tf_data_permit.shape\n",
    "tf_data_extraction_type_group = pd.get_dummies(test['extraction_type_group'])\n",
    "print 'Data Extraction:',tf_data_extraction_type_group.shape\n",
    "tf_data_extraction_type_class = pd.get_dummies(test['extraction_type_class'])\n",
    "print 'Data Extr Type:',tf_data_extraction_type_class.shape\n",
    "tf_data_management_group = pd.get_dummies(test['management_group'])\n",
    "print 'Management Group:',tf_data_management_group.shape\n",
    "tf_data_payment_type = pd.get_dummies(test['payment_type'])\n",
    "print 'Payment Type:',tf_data_payment_type.shape\n",
    "tf_data_quality_group = pd.get_dummies(test['quality_group'])\n",
    "print 'Quality Group:',tf_data_quality_group.shape\n",
    "tf_data_quantity_group = pd.get_dummies(test['quantity_group'])\n",
    "print 'Quantity Group:',tf_data_quantity_group.shape\n",
    "tf_data_source_type = pd.get_dummies(test['source_type'])\n",
    "print 'Source Type:',tf_data_source_type.shape\n",
    "tf_data_source_class = pd.get_dummies(test['source_class'])\n",
    "print 'Source Class:',tf_data_source_class.shape\n",
    "tf_data_waterpoint_type_group = pd.get_dummies(test['waterpoint_type_group'])\n",
    "print 'Waterpoint Type:',tf_data_waterpoint_type_group.shape"
   ]
  },
  {
   "cell_type": "code",
   "execution_count": 56,
   "metadata": {
    "collapsed": false
   },
   "outputs": [
    {
     "name": "stdout",
     "output_type": "stream",
     "text": [
      "(14850, 7)\n",
      "(14850, 90)\n",
      "<class 'pandas.core.frame.DataFrame'>\n"
     ]
    }
   ],
   "source": [
    "tf_data = test[['amount_tsh','gps_height','longitude','latitude','region_code','district_code','population']]\n",
    "\n",
    "tf_coded = pd.concat([tf_data,tf_data_basin,tf_data_public_meeting,tf_data_scheme_mgmnt,tf_data_permit,\\\n",
    "                      tf_data_extraction_type_group,tf_data_extraction_type_class,tf_data_management_group,\\\n",
    "                      tf_data_payment_type,tf_data_quality_group,tf_data_quantity_group,\\\n",
    "                      tf_data_source_type,tf_data_source_class,tf_data_waterpoint_type_group],axis=1)\n",
    "\n",
    "print tf_data.shape\n",
    "print tf_coded.shape\n",
    "print type(tf_coded)"
   ]
  },
  {
   "cell_type": "code",
   "execution_count": null,
   "metadata": {
    "collapsed": true
   },
   "outputs": [],
   "source": [
    "'''1. feature 3 (0.154770) latitude\n",
    "2. feature 2 (0.154396) longitude\n",
    "3. feature 1 (0.080339) gps_height\n",
    "4. feature 70 (0.075335) dry\n",
    "5. feature 6 (0.054576) population\n",
    "6. feature 71 (0.031172) enough\n",
    "7. feature 5 (0.024468) district_code\n",
    "8. feature 90 (0.021932) other\n",
    "9. feature 38 (0.020333) other\n",
    "10. feature 4 (0.019230) region_code\n",
    "11. feature 48 (0.018980) other\n",
    "12. feature 59 (0.017779) never pay\n",
    "13. feature 72 (0.016599) insufficient\n",
    "14. feature 0 (0.015377) amount_tsh'''"
   ]
  },
  {
   "cell_type": "code",
   "execution_count": 58,
   "metadata": {
    "collapsed": false,
    "scrolled": true
   },
   "outputs": [
    {
     "name": "stdout",
     "output_type": "stream",
     "text": [
      "       amount_tsh  gps_height  longitude   latitude  region_code  \\\n",
      "id                                                                 \n",
      "39307           0          34  38.852669  -6.582841            6   \n",
      "18990        1000           0  37.451633  -5.350428            4   \n",
      "28749           0        1476  34.739804  -4.585587           13   \n",
      "33492           0         998  35.432732 -10.584159           10   \n",
      "68707           0         481  34.765054 -11.226012           10   \n",
      "\n",
      "       district_code  population  Internal  Lake Nyasa  Lake Rukwa  ...    \\\n",
      "id                                                                  ...     \n",
      "39307              1          20         0           0           0  ...     \n",
      "18990              7        2960         0           0           0  ...     \n",
      "28749              2         200         1           0           0  ...     \n",
      "33492              2         150         0           1           0  ...     \n",
      "68707              3          40         0           1           0  ...     \n",
      "\n",
      "       spring  groundwater  surface  unknown  cattle trough  \\\n",
      "id                                                            \n",
      "39307       0            0        1        0              0   \n",
      "18990       0            1        0        0              0   \n",
      "28749       0            0        1        0              0   \n",
      "33492       0            0        1        0              0   \n",
      "68707       1            1        0        0              0   \n",
      "\n",
      "       communal standpipe  dam  hand pump  improved spring  other  \n",
      "id                                                                 \n",
      "39307                   1    0          0                0      0  \n",
      "18990                   0    0          1                0      0  \n",
      "28749                   1    0          0                0      0  \n",
      "33492                   1    0          0                0      0  \n",
      "68707                   1    0          0                0      0  \n",
      "\n",
      "[5 rows x 90 columns]\n",
      "       amount_tsh date_recorded                  funder  gps_height  \\\n",
      "id                                                                    \n",
      "39307           0    2011-02-24                  Danida          34   \n",
      "18990        1000    2011-03-21                    Hiap           0   \n",
      "28749           0    2013-03-04                     NaN        1476   \n",
      "33492           0    2013-02-18                 Germany         998   \n",
      "68707           0    2013-02-13  Government Of Tanzania         481   \n",
      "\n",
      "        installer  longitude   latitude          wpt_name  num_private  \\\n",
      "id                                                                       \n",
      "39307          Da  38.852669  -6.582841         Kwambwezi            0   \n",
      "18990        HIAP  37.451633  -5.350428  Bonde La Mkondoa            0   \n",
      "28749         NaN  34.739804  -4.585587           Bwawani            0   \n",
      "33492         DWE  35.432732 -10.584159          Kwa John            0   \n",
      "68707  Government  34.765054 -11.226012  Kwa Mzee Chagala            0   \n",
      "\n",
      "             basin          ...          payment_type water_quality  \\\n",
      "id                          ...                                       \n",
      "39307  Wami / Ruvu          ...             never pay          soft   \n",
      "18990      Pangani          ...              annually         salty   \n",
      "28749     Internal          ...             never pay          soft   \n",
      "33492   Lake Nyasa          ...             never pay          soft   \n",
      "68707   Lake Nyasa          ...             never pay          soft   \n",
      "\n",
      "       quality_group      quantity quantity_group        source   source_type  \\\n",
      "id                                                                              \n",
      "39307           good        enough         enough         river    river/lake   \n",
      "18990          salty  insufficient   insufficient  shallow well  shallow well   \n",
      "28749           good  insufficient   insufficient           dam           dam   \n",
      "33492           good  insufficient   insufficient         river    river/lake   \n",
      "68707           good           dry            dry        spring        spring   \n",
      "\n",
      "      source_class     waterpoint_type waterpoint_type_group  \n",
      "id                                                            \n",
      "39307      surface  communal standpipe    communal standpipe  \n",
      "18990  groundwater           hand pump             hand pump  \n",
      "28749      surface  communal standpipe    communal standpipe  \n",
      "33492      surface  communal standpipe    communal standpipe  \n",
      "68707  groundwater  communal standpipe    communal standpipe  \n",
      "\n",
      "[5 rows x 39 columns]\n"
     ]
    }
   ],
   "source": [
    "print tf_coded.tail()\n",
    "print test.tail()"
   ]
  },
  {
   "cell_type": "code",
   "execution_count": 59,
   "metadata": {
    "collapsed": false,
    "scrolled": false
   },
   "outputs": [
    {
     "name": "stdout",
     "output_type": "stream",
     "text": [
      "        latitude  longitude  gps_height  dry  population  enough  \\\n",
      "id                                                                 \n",
      "50785  -4.059696  35.290799        1996    0         321       0   \n",
      "51630  -3.309214  36.656709        1569    0         300       0   \n",
      "17168  -5.004344  34.767863        1567    0         500       0   \n",
      "45559  -9.418672  38.058046         267    1         250       0   \n",
      "49871 -10.950412  35.006123        1260    0          60       1   \n",
      "\n",
      "       district_code  region_code  never pay  insufficient  \n",
      "id                                                          \n",
      "50785              3           21          1             0  \n",
      "51630              2            2          1             1  \n",
      "17168              2           13          1             1  \n",
      "45559             43           80          0             0  \n",
      "49871              3           10          0             0  \n",
      "        latitude  longitude  gps_height  dry  population  enough  \\\n",
      "id                                                                 \n",
      "39307  -6.582841  38.852669          34    0          20       1   \n",
      "18990  -5.350428  37.451633           0    0        2960       0   \n",
      "28749  -4.585587  34.739804        1476    0         200       0   \n",
      "33492 -10.584159  35.432732         998    0         150       0   \n",
      "68707 -11.226012  34.765054         481    1          40       0   \n",
      "\n",
      "       district_code  region_code  never pay  insufficient  \n",
      "id                                                          \n",
      "39307              1            6          1             0  \n",
      "18990              7            4          0             1  \n",
      "28749              2           13          1             1  \n",
      "33492              2           10          1             1  \n",
      "68707              3           10          1             0  \n"
     ]
    }
   ],
   "source": [
    "'''1. feature 3 (0.154770) latitude\n",
    "2. feature 2 (0.154396) longitude\n",
    "3. feature 1 (0.080339) gps_height\n",
    "4. feature 70 (0.075335) dry\n",
    "5. feature 6 (0.054576) population\n",
    "6. feature 71 (0.031172) enough\n",
    "7. feature 5 (0.024468) district_code\n",
    "8. feature 90 (0.021932) other\n",
    "9. feature 38 (0.020333) other\n",
    "10. feature 4 (0.019230) region_code\n",
    "11. feature 48 (0.018980) other\n",
    "12. feature 59 (0.017779) never pay\n",
    "13. feature 72 (0.016599) insufficient\n",
    "14. feature 0 (0.015377) amount_tsh'''\n",
    "\n",
    "tf_coded_2 = tf_coded[['latitude','longitude','gps_height','dry','population','enough','district_code',\\\n",
    "                       'region_code','never pay','insufficient']]\n",
    "\n",
    "print tf_coded_2.head()\n",
    "print tf_coded_2.tail()\n"
   ]
  },
  {
   "cell_type": "code",
   "execution_count": 70,
   "metadata": {
    "collapsed": false
   },
   "outputs": [
    {
     "name": "stdout",
     "output_type": "stream",
     "text": [
      "        latitude  longitude  gps_height  dry  population  enough  \\\n",
      "id                                                                 \n",
      "50785  -4.059696  35.290799        1996    0         321       0   \n",
      "51630  -3.309214  36.656709        1569    0         300       0   \n",
      "17168  -5.004344  34.767863        1567    0         500       0   \n",
      "45559  -9.418672  38.058046         267    1         250       0   \n",
      "49871 -10.950412  35.006123        1260    0          60       1   \n",
      "\n",
      "       district_code  region_code  never pay  insufficient  \n",
      "id                                                          \n",
      "50785              3           21          1             0  \n",
      "51630              2            2          1             1  \n",
      "17168              2           13          1             1  \n",
      "45559             43           80          0             0  \n",
      "49871              3           10          0             0  \n",
      "        latitude  longitude  gps_height  dry  population  enough  \\\n",
      "id                                                                 \n",
      "39307  -6.582841  38.852669          34    0          20       1   \n",
      "18990  -5.350428  37.451633           0    0        2960       0   \n",
      "28749  -4.585587  34.739804        1476    0         200       0   \n",
      "33492 -10.584159  35.432732         998    0         150       0   \n",
      "68707 -11.226012  34.765054         481    1          40       0   \n",
      "\n",
      "       district_code  region_code  never pay  insufficient  \n",
      "id                                                          \n",
      "39307              1            6          1             0  \n",
      "18990              7            4          0             1  \n",
      "28749              2           13          1             1  \n",
      "33492              2           10          1             1  \n",
      "68707              3           10          1             0  \n",
      "['functional' 'functional' 'functional' ..., 'functional' 'functional'\n",
      " 'non functional']\n"
     ]
    },
    {
     "name": "stderr",
     "output_type": "stream",
     "text": [
      "/anaconda/lib/python2.7/site-packages/IPython/kernel/__main__.py:6: DataConversionWarning: A column-vector y was passed when a 1d array was expected. Please change the shape of y to (n_samples,), for example using ravel().\n"
     ]
    }
   ],
   "source": [
    "X_transformed = X_pumps_train[['latitude','longitude','gps_height','dry','population','enough','district_code',\\\n",
    "                       'region_code','never pay','insufficient']]\n",
    "\n",
    "y = y_pumps_train[['label']]\n",
    "\n",
    "clf_transformed = ExtraTreesClassifier()\n",
    "X_fit_n = clf_transformed.fit(X_transformed, y)\n",
    "result_transformed = clf_transformed.score(X_transformed,y)\n",
    "\n",
    "print tf_coded_2.head()\n",
    "print tf_coded_2.tail()\n",
    "a = clf_transformed.predict(tf_coded_2)\n",
    "\n",
    "print a\n"
   ]
  },
  {
   "cell_type": "code",
   "execution_count": 71,
   "metadata": {
    "collapsed": false
   },
   "outputs": [
    {
     "name": "stdout",
     "output_type": "stream",
     "text": [
      "['functional' 'functional' 'functional' ..., 'functional' 'functional'\n",
      " 'non functional']\n"
     ]
    }
   ],
   "source": [
    "print a"
   ]
  },
  {
   "cell_type": "code",
   "execution_count": 74,
   "metadata": {
    "collapsed": false
   },
   "outputs": [
    {
     "name": "stdout",
     "output_type": "stream",
     "text": [
      "14850\n",
      "      id    status_group\n",
      "0  50785      functional\n",
      "1  51630      functional\n",
      "2  17168      functional\n",
      "3  45559  non functional\n",
      "4  49871      functional\n",
      "          id    status_group\n",
      "14845  39307  non functional\n",
      "14846  18990      functional\n",
      "14847  28749      functional\n",
      "14848  33492      functional\n",
      "14849  68707  non functional\n"
     ]
    }
   ],
   "source": [
    "pred = a\n",
    "\n",
    "to_submit = []\n",
    "print len(tf_coded_2)\n",
    "for ind in range(len(tf_coded_2)):\n",
    "    ids = tf_coded_2.index[ind]\n",
    "    to_pred = pred[ind]\n",
    "    #print ids,' - ',to_pred\n",
    "    to_submit.append([ids,to_pred])\n",
    "    \n",
    "df_submit = pd.DataFrame(to_submit)\n",
    "df_submit.columns = ['id','status_group']\n",
    "print df_submit.head()\n",
    "print df_submit.tail()\n",
    "\n",
    "df_submit.to_csv('/Users/martinrasumoff/submission_7.csv', sep=',', index=False)\n"
   ]
  },
  {
   "cell_type": "code",
   "execution_count": 75,
   "metadata": {
    "collapsed": false
   },
   "outputs": [
    {
     "name": "stdout",
     "output_type": "stream",
     "text": [
      "['functional' 'non functional' 'functional needs repair']\n"
     ]
    }
   ],
   "source": [
    "print df_submit['status_group'].unique()"
   ]
  }
 ],
 "metadata": {
  "kernelspec": {
   "display_name": "Python 2",
   "language": "python",
   "name": "python2"
  },
  "language_info": {
   "codemirror_mode": {
    "name": "ipython",
    "version": 2
   },
   "file_extension": ".py",
   "mimetype": "text/x-python",
   "name": "python",
   "nbconvert_exporter": "python",
   "pygments_lexer": "ipython2",
   "version": "2.7.10"
  }
 },
 "nbformat": 4,
 "nbformat_minor": 0
}
