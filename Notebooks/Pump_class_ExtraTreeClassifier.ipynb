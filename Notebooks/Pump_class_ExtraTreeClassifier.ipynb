{
 "cells": [
  {
   "cell_type": "code",
   "execution_count": 1,
   "metadata": {
    "collapsed": false,
    "scrolled": true
   },
   "outputs": [
    {
     "name": "stdout",
     "output_type": "stream",
     "text": [
      "                label\n",
      "69572      functional\n",
      "8776       functional\n",
      "34310      functional\n",
      "67743  non functional\n",
      "19728      functional\n",
      "            label\n",
      "60739  functional\n",
      "27263  functional\n",
      "37057  functional\n",
      "31282  functional\n",
      "26348  functional\n"
     ]
    }
   ],
   "source": [
    "import psycopg2\n",
    "import pandas as pd\n",
    "from sklearn.cross_validation import train_test_split\n",
    "\n",
    "def load_labels():\n",
    "    db = psycopg2.connect(database='martinrasumoff')\n",
    "    cursor = db.cursor()\n",
    "\n",
    "    #Loading Labels\n",
    "    cursor.execute(\"select * from labels_water_pumps;\")\n",
    "    list_labels = cursor.fetchall()\n",
    "   \n",
    "    labels_id =[]\n",
    "    labels_class =[]\n",
    "    for each in list_labels:\n",
    "        labels_id.append(each[0])\n",
    "        labels_class.append(each[1])\n",
    "        \n",
    "    series_labels = pd.DataFrame(labels_class, index=labels_id)\n",
    "\n",
    "    return series_labels\n",
    "\n",
    "df_labels = load_labels()\n",
    "\n",
    "df_labels.columns = ['label']\n",
    "print df_labels.head()\n",
    "print df_labels.tail()"
   ]
  },
  {
   "cell_type": "code",
   "execution_count": 2,
   "metadata": {
    "collapsed": false,
    "scrolled": true
   },
   "outputs": [
    {
     "name": "stdout",
     "output_type": "stream",
     "text": [
      "          0     1           2             3     4             5          6   \\\n",
      "69572  69572  6000  2011-03-14         Roman  1390         Roman  34.938093   \n",
      "8776    8776     0  2013-03-06       Grumeti  1399       GRUMETI  34.698766   \n",
      "34310  34310    25  2013-02-25  Lottery Club   686  World vision  37.460664   \n",
      "67743  67743     0  2013-01-28        Unicef   263        UNICEF  38.486161   \n",
      "19728  19728     0  2011-07-13   Action In A     0       Artisan  31.130847   \n",
      "\n",
      "              7                     8  9          ...                  30  \\\n",
      "69572  -9.856322                  none  0         ...            annually   \n",
      "8776   -2.147466              Zahanati  0         ...           never pay   \n",
      "34310  -3.821329           Kwa Mahundi  0         ...          per bucket   \n",
      "67743 -11.155298  Zahanati Ya Nanyumbu  0         ...           never pay   \n",
      "19728  -1.825359               Shuleni  0         ...           never pay   \n",
      "\n",
      "         31    32            33            34                    35  \\\n",
      "69572  soft  good        enough        enough                spring   \n",
      "8776   soft  good  insufficient  insufficient  rainwater harvesting   \n",
      "34310  soft  good        enough        enough                   dam   \n",
      "67743  soft  good           dry           dry           machine dbh   \n",
      "19728  soft  good      seasonal      seasonal  rainwater harvesting   \n",
      "\n",
      "                         36           37                           38  \\\n",
      "69572                spring  groundwater           communal standpipe   \n",
      "8776   rainwater harvesting      surface           communal standpipe   \n",
      "34310                   dam      surface  communal standpipe multiple   \n",
      "67743              borehole  groundwater  communal standpipe multiple   \n",
      "19728  rainwater harvesting      surface           communal standpipe   \n",
      "\n",
      "                       39  \n",
      "69572  communal standpipe  \n",
      "8776   communal standpipe  \n",
      "34310  communal standpipe  \n",
      "67743  communal standpipe  \n",
      "19728  communal standpipe  \n",
      "\n",
      "[5 rows x 40 columns]\n",
      "          0     1           2                3     4      5          6   \\\n",
      "60739  60739    10  2013-05-03  Germany Republi  1210    CES  37.169807   \n",
      "27263  27263  4700  2011-05-07      Cefa-njombe  1212   Cefa  35.249991   \n",
      "37057  37057     0  2011-04-11             None     0   None  34.017087   \n",
      "31282  31282     0  2011-03-08            Malec     0   Musa  35.861315   \n",
      "26348  26348     0  2011-03-23       World Bank   191  World  38.104048   \n",
      "\n",
      "             7                    8  9          ...                  30  \\\n",
      "60739 -3.253847  Area Three Namba 27  0         ...          per bucket   \n",
      "27263 -9.070629    Kwa Yahona Kuvala  0         ...            annually   \n",
      "37057 -8.750434              Mashine  0         ...             monthly   \n",
      "31282 -6.378573               Mshoro  0         ...           never pay   \n",
      "26348 -6.747464      Kwa Mzee Lugawa  0         ...          on failure   \n",
      "\n",
      "             31        32            33            34            35  \\\n",
      "60739      soft      good        enough        enough        spring   \n",
      "27263      soft      good        enough        enough         river   \n",
      "37057  fluoride  fluoride        enough        enough   machine dbh   \n",
      "31282      soft      good  insufficient  insufficient  shallow well   \n",
      "26348     salty     salty        enough        enough  shallow well   \n",
      "\n",
      "                 36           37                  38                  39  \n",
      "60739        spring  groundwater  communal standpipe  communal standpipe  \n",
      "27263    river/lake      surface  communal standpipe  communal standpipe  \n",
      "37057      borehole  groundwater           hand pump           hand pump  \n",
      "31282  shallow well  groundwater           hand pump           hand pump  \n",
      "26348  shallow well  groundwater           hand pump           hand pump  \n",
      "\n",
      "[5 rows x 40 columns]\n"
     ]
    }
   ],
   "source": [
    "def load_wells():\n",
    "    db = psycopg2.connect(database='martinrasumoff')\n",
    "    cursor = db.cursor()\n",
    "\n",
    "    #Loading Pump Data\n",
    "    cursor.execute(\"select * from water_pumps;\")\n",
    "    list_pumps = cursor.fetchall()\n",
    "\n",
    "    list_pumps_id = []\n",
    "    list_pumps_fields = []\n",
    "    for each in list_pumps:\n",
    "        list_pumps_id.append(each[0])\n",
    "        list_pumps_fields.append(each)\n",
    "\n",
    "    #Converting wells data into a pandas Data Frame\n",
    "    df_pumps = pd.DataFrame(list_pumps_fields, index=list_pumps_id)\n",
    "\n",
    "    return df_pumps\n",
    "\n",
    "df_data = load_wells()\n",
    "\n",
    "print df_data.head()\n",
    "print df_data.tail()"
   ]
  },
  {
   "cell_type": "code",
   "execution_count": 3,
   "metadata": {
    "collapsed": false,
    "scrolled": true
   },
   "outputs": [
    {
     "name": "stdout",
     "output_type": "stream",
     "text": [
      "          id  amount_tsh date_recorded        funder  gps_height  \\\n",
      "69572  69572        6000    2011-03-14         Roman        1390   \n",
      "8776    8776           0    2013-03-06       Grumeti        1399   \n",
      "34310  34310          25    2013-02-25  Lottery Club         686   \n",
      "67743  67743           0    2013-01-28        Unicef         263   \n",
      "19728  19728           0    2011-07-13   Action In A           0   \n",
      "\n",
      "          installer  longitude   latitude              wpt_name num_private  \\\n",
      "69572         Roman  34.938093  -9.856322                  none           0   \n",
      "8776        GRUMETI  34.698766  -2.147466              Zahanati           0   \n",
      "34310  World vision  37.460664  -3.821329           Kwa Mahundi           0   \n",
      "67743        UNICEF  38.486161 -11.155298  Zahanati Ya Nanyumbu           0   \n",
      "19728       Artisan  31.130847  -1.825359               Shuleni           0   \n",
      "\n",
      "               ...          payment_type water_quality quality_group  \\\n",
      "69572          ...              annually          soft          good   \n",
      "8776           ...             never pay          soft          good   \n",
      "34310          ...            per bucket          soft          good   \n",
      "67743          ...             never pay          soft          good   \n",
      "19728          ...             never pay          soft          good   \n",
      "\n",
      "           quantity  quantity_group                source  \\\n",
      "69572        enough          enough                spring   \n",
      "8776   insufficient    insufficient  rainwater harvesting   \n",
      "34310        enough          enough                   dam   \n",
      "67743           dry             dry           machine dbh   \n",
      "19728      seasonal        seasonal  rainwater harvesting   \n",
      "\n",
      "                source_type  source_class              waterpoint_type  \\\n",
      "69572                spring   groundwater           communal standpipe   \n",
      "8776   rainwater harvesting       surface           communal standpipe   \n",
      "34310                   dam       surface  communal standpipe multiple   \n",
      "67743              borehole   groundwater  communal standpipe multiple   \n",
      "19728  rainwater harvesting       surface           communal standpipe   \n",
      "\n",
      "      waterpoint_type_group  \n",
      "69572    communal standpipe  \n",
      "8776     communal standpipe  \n",
      "34310    communal standpipe  \n",
      "67743    communal standpipe  \n",
      "19728    communal standpipe  \n",
      "\n",
      "[5 rows x 40 columns]\n",
      "          id  amount_tsh date_recorded           funder  gps_height installer  \\\n",
      "60739  60739          10    2013-05-03  Germany Republi        1210       CES   \n",
      "27263  27263        4700    2011-05-07      Cefa-njombe        1212      Cefa   \n",
      "37057  37057           0    2011-04-11             None           0      None   \n",
      "31282  31282           0    2011-03-08            Malec           0      Musa   \n",
      "26348  26348           0    2011-03-23       World Bank         191     World   \n",
      "\n",
      "       longitude  latitude             wpt_name num_private  \\\n",
      "60739  37.169807 -3.253847  Area Three Namba 27           0   \n",
      "27263  35.249991 -9.070629    Kwa Yahona Kuvala           0   \n",
      "37057  34.017087 -8.750434              Mashine           0   \n",
      "31282  35.861315 -6.378573               Mshoro           0   \n",
      "26348  38.104048 -6.747464      Kwa Mzee Lugawa           0   \n",
      "\n",
      "               ...          payment_type water_quality quality_group  \\\n",
      "60739          ...            per bucket          soft          good   \n",
      "27263          ...              annually          soft          good   \n",
      "37057          ...               monthly      fluoride      fluoride   \n",
      "31282          ...             never pay          soft          good   \n",
      "26348          ...            on failure         salty         salty   \n",
      "\n",
      "           quantity  quantity_group        source   source_type  source_class  \\\n",
      "60739        enough          enough        spring        spring   groundwater   \n",
      "27263        enough          enough         river    river/lake       surface   \n",
      "37057        enough          enough   machine dbh      borehole   groundwater   \n",
      "31282  insufficient    insufficient  shallow well  shallow well   groundwater   \n",
      "26348        enough          enough  shallow well  shallow well   groundwater   \n",
      "\n",
      "          waterpoint_type waterpoint_type_group  \n",
      "60739  communal standpipe    communal standpipe  \n",
      "27263  communal standpipe    communal standpipe  \n",
      "37057           hand pump             hand pump  \n",
      "31282           hand pump             hand pump  \n",
      "26348           hand pump             hand pump  \n",
      "\n",
      "[5 rows x 40 columns]\n"
     ]
    }
   ],
   "source": [
    "df_data.columns = ['id','amount_tsh',\n",
    "                    'date_recorded',\n",
    "                    'funder',\n",
    "                    'gps_height',\n",
    "                    'installer',\n",
    "                    'longitude',\n",
    "                    'latitude',\n",
    "                    'wpt_name',\n",
    "                    'num_private',\n",
    "                    'basin',\n",
    "                    'subvillage',\n",
    "                    'region',\n",
    "                    'region_code',\n",
    "                    'district_code',\n",
    "                    'lga',\n",
    "                    'ward',\n",
    "                    'population',\n",
    "                    'public_meeting',\n",
    "                    'recorded_by',\n",
    "                    'scheme_management',\n",
    "                    'scheme_name',\n",
    "                    'permit',\n",
    "                    'construction_year',\n",
    "                    'extraction_type',\n",
    "                    'extraction_type_group',\n",
    "                    'extraction_type_class',\n",
    "                    'management',\n",
    "                    'management_group',\n",
    "                    'payment',\n",
    "                    'payment_type',\n",
    "                    'water_quality',\n",
    "                    'quality_group',\n",
    "                    'quantity',\n",
    "                    'quantity_group',\n",
    "                    'source',\n",
    "                    'source_type',\n",
    "                    'source_class',\n",
    "                    'waterpoint_type',\n",
    "                    'waterpoint_type_group']\n",
    "\n",
    "print df_data.head()\n",
    "print df_data.tail()"
   ]
  },
  {
   "cell_type": "code",
   "execution_count": 4,
   "metadata": {
    "collapsed": false,
    "scrolled": true
   },
   "outputs": [
    {
     "name": "stdout",
     "output_type": "stream",
     "text": [
      "          id  amount_tsh date_recorded        funder  gps_height  \\\n",
      "69572  69572        6000    2011-03-14         Roman        1390   \n",
      "8776    8776           0    2013-03-06       Grumeti        1399   \n",
      "34310  34310          25    2013-02-25  Lottery Club         686   \n",
      "67743  67743           0    2013-01-28        Unicef         263   \n",
      "19728  19728           0    2011-07-13   Action In A           0   \n",
      "\n",
      "          installer  longitude   latitude              wpt_name num_private  \\\n",
      "69572         Roman  34.938093  -9.856322                  none           0   \n",
      "8776        GRUMETI  34.698766  -2.147466              Zahanati           0   \n",
      "34310  World vision  37.460664  -3.821329           Kwa Mahundi           0   \n",
      "67743        UNICEF  38.486161 -11.155298  Zahanati Ya Nanyumbu           0   \n",
      "19728       Artisan  31.130847  -1.825359               Shuleni           0   \n",
      "\n",
      "               ...          payment_type water_quality quality_group  \\\n",
      "69572          ...              annually          soft          good   \n",
      "8776           ...             never pay          soft          good   \n",
      "34310          ...            per bucket          soft          good   \n",
      "67743          ...             never pay          soft          good   \n",
      "19728          ...             never pay          soft          good   \n",
      "\n",
      "           quantity  quantity_group                source  \\\n",
      "69572        enough          enough                spring   \n",
      "8776   insufficient    insufficient  rainwater harvesting   \n",
      "34310        enough          enough                   dam   \n",
      "67743           dry             dry           machine dbh   \n",
      "19728      seasonal        seasonal  rainwater harvesting   \n",
      "\n",
      "                source_type  source_class              waterpoint_type  \\\n",
      "69572                spring   groundwater           communal standpipe   \n",
      "8776   rainwater harvesting       surface           communal standpipe   \n",
      "34310                   dam       surface  communal standpipe multiple   \n",
      "67743              borehole   groundwater  communal standpipe multiple   \n",
      "19728  rainwater harvesting       surface           communal standpipe   \n",
      "\n",
      "      waterpoint_type_group  \n",
      "69572    communal standpipe  \n",
      "8776     communal standpipe  \n",
      "34310    communal standpipe  \n",
      "67743    communal standpipe  \n",
      "19728    communal standpipe  \n",
      "\n",
      "[5 rows x 40 columns]\n",
      "                label\n",
      "69572      functional\n",
      "8776       functional\n",
      "34310      functional\n",
      "67743  non functional\n",
      "19728      functional\n",
      "          id  amount_tsh date_recorded           funder  gps_height installer  \\\n",
      "60739  60739          10    2013-05-03  Germany Republi        1210       CES   \n",
      "27263  27263        4700    2011-05-07      Cefa-njombe        1212      Cefa   \n",
      "37057  37057           0    2011-04-11             None           0      None   \n",
      "31282  31282           0    2011-03-08            Malec           0      Musa   \n",
      "26348  26348           0    2011-03-23       World Bank         191     World   \n",
      "\n",
      "       longitude  latitude             wpt_name num_private  \\\n",
      "60739  37.169807 -3.253847  Area Three Namba 27           0   \n",
      "27263  35.249991 -9.070629    Kwa Yahona Kuvala           0   \n",
      "37057  34.017087 -8.750434              Mashine           0   \n",
      "31282  35.861315 -6.378573               Mshoro           0   \n",
      "26348  38.104048 -6.747464      Kwa Mzee Lugawa           0   \n",
      "\n",
      "               ...          payment_type water_quality quality_group  \\\n",
      "60739          ...            per bucket          soft          good   \n",
      "27263          ...              annually          soft          good   \n",
      "37057          ...               monthly      fluoride      fluoride   \n",
      "31282          ...             never pay          soft          good   \n",
      "26348          ...            on failure         salty         salty   \n",
      "\n",
      "           quantity  quantity_group        source   source_type  source_class  \\\n",
      "60739        enough          enough        spring        spring   groundwater   \n",
      "27263        enough          enough         river    river/lake       surface   \n",
      "37057        enough          enough   machine dbh      borehole   groundwater   \n",
      "31282  insufficient    insufficient  shallow well  shallow well   groundwater   \n",
      "26348        enough          enough  shallow well  shallow well   groundwater   \n",
      "\n",
      "          waterpoint_type waterpoint_type_group  \n",
      "60739  communal standpipe    communal standpipe  \n",
      "27263  communal standpipe    communal standpipe  \n",
      "37057           hand pump             hand pump  \n",
      "31282           hand pump             hand pump  \n",
      "26348           hand pump             hand pump  \n",
      "\n",
      "[5 rows x 40 columns]\n",
      "            label\n",
      "60739  functional\n",
      "27263  functional\n",
      "37057  functional\n",
      "31282  functional\n",
      "26348  functional\n"
     ]
    }
   ],
   "source": [
    "print df_data.head()\n",
    "print df_labels.head()\n",
    "print df_data.tail()\n",
    "print df_labels.tail()"
   ]
  },
  {
   "cell_type": "code",
   "execution_count": 5,
   "metadata": {
    "collapsed": false,
    "scrolled": true
   },
   "outputs": [
    {
     "name": "stdout",
     "output_type": "stream",
     "text": [
      "          id  amount_tsh date_recorded        funder  gps_height  \\\n",
      "69572  69572        6000    2011-03-14         Roman        1390   \n",
      "8776    8776           0    2013-03-06       Grumeti        1399   \n",
      "34310  34310          25    2013-02-25  Lottery Club         686   \n",
      "67743  67743           0    2013-01-28        Unicef         263   \n",
      "19728  19728           0    2011-07-13   Action In A           0   \n",
      "\n",
      "          installer  longitude   latitude              wpt_name num_private  \\\n",
      "69572         Roman  34.938093  -9.856322                  none           0   \n",
      "8776        GRUMETI  34.698766  -2.147466              Zahanati           0   \n",
      "34310  World vision  37.460664  -3.821329           Kwa Mahundi           0   \n",
      "67743        UNICEF  38.486161 -11.155298  Zahanati Ya Nanyumbu           0   \n",
      "19728       Artisan  31.130847  -1.825359               Shuleni           0   \n",
      "\n",
      "               ...          payment_type water_quality quality_group  \\\n",
      "69572          ...              annually          soft          good   \n",
      "8776           ...             never pay          soft          good   \n",
      "34310          ...            per bucket          soft          good   \n",
      "67743          ...             never pay          soft          good   \n",
      "19728          ...             never pay          soft          good   \n",
      "\n",
      "           quantity  quantity_group                source  \\\n",
      "69572        enough          enough                spring   \n",
      "8776   insufficient    insufficient  rainwater harvesting   \n",
      "34310        enough          enough                   dam   \n",
      "67743           dry             dry           machine dbh   \n",
      "19728      seasonal        seasonal  rainwater harvesting   \n",
      "\n",
      "                source_type  source_class              waterpoint_type  \\\n",
      "69572                spring   groundwater           communal standpipe   \n",
      "8776   rainwater harvesting       surface           communal standpipe   \n",
      "34310                   dam       surface  communal standpipe multiple   \n",
      "67743              borehole   groundwater  communal standpipe multiple   \n",
      "19728  rainwater harvesting       surface           communal standpipe   \n",
      "\n",
      "      waterpoint_type_group  \n",
      "69572    communal standpipe  \n",
      "8776     communal standpipe  \n",
      "34310    communal standpipe  \n",
      "67743    communal standpipe  \n",
      "19728    communal standpipe  \n",
      "\n",
      "[5 rows x 40 columns]\n",
      "                label\n",
      "69572      functional\n",
      "8776       functional\n",
      "34310      functional\n",
      "67743  non functional\n",
      "19728      functional\n",
      "          id  amount_tsh date_recorded           funder  gps_height installer  \\\n",
      "60739  60739          10    2013-05-03  Germany Republi        1210       CES   \n",
      "27263  27263        4700    2011-05-07      Cefa-njombe        1212      Cefa   \n",
      "37057  37057           0    2011-04-11             None           0      None   \n",
      "31282  31282           0    2011-03-08            Malec           0      Musa   \n",
      "26348  26348           0    2011-03-23       World Bank         191     World   \n",
      "\n",
      "       longitude  latitude             wpt_name num_private  \\\n",
      "60739  37.169807 -3.253847  Area Three Namba 27           0   \n",
      "27263  35.249991 -9.070629    Kwa Yahona Kuvala           0   \n",
      "37057  34.017087 -8.750434              Mashine           0   \n",
      "31282  35.861315 -6.378573               Mshoro           0   \n",
      "26348  38.104048 -6.747464      Kwa Mzee Lugawa           0   \n",
      "\n",
      "               ...          payment_type water_quality quality_group  \\\n",
      "60739          ...            per bucket          soft          good   \n",
      "27263          ...              annually          soft          good   \n",
      "37057          ...               monthly      fluoride      fluoride   \n",
      "31282          ...             never pay          soft          good   \n",
      "26348          ...            on failure         salty         salty   \n",
      "\n",
      "           quantity  quantity_group        source   source_type  source_class  \\\n",
      "60739        enough          enough        spring        spring   groundwater   \n",
      "27263        enough          enough         river    river/lake       surface   \n",
      "37057        enough          enough   machine dbh      borehole   groundwater   \n",
      "31282  insufficient    insufficient  shallow well  shallow well   groundwater   \n",
      "26348        enough          enough  shallow well  shallow well   groundwater   \n",
      "\n",
      "          waterpoint_type waterpoint_type_group  \n",
      "60739  communal standpipe    communal standpipe  \n",
      "27263  communal standpipe    communal standpipe  \n",
      "37057           hand pump             hand pump  \n",
      "31282           hand pump             hand pump  \n",
      "26348           hand pump             hand pump  \n",
      "\n",
      "[5 rows x 40 columns]\n",
      "            label\n",
      "60739  functional\n",
      "27263  functional\n",
      "37057  functional\n",
      "31282  functional\n",
      "26348  functional\n",
      "(59400, 40)\n",
      "(59400, 1)\n",
      "(59400, 41)\n",
      "['id' 'amount_tsh' 'date_recorded' 'funder' 'gps_height' 'installer'\n",
      " 'longitude' 'latitude' 'wpt_name' 'num_private' 'basin' 'subvillage'\n",
      " 'region' 'region_code' 'district_code' 'lga' 'ward' 'population'\n",
      " 'public_meeting' 'recorded_by' 'scheme_management' 'scheme_name' 'permit'\n",
      " 'construction_year' 'extraction_type' 'extraction_type_group'\n",
      " 'extraction_type_class' 'management' 'management_group' 'payment'\n",
      " 'payment_type' 'water_quality' 'quality_group' 'quantity' 'quantity_group'\n",
      " 'source' 'source_type' 'source_class' 'waterpoint_type'\n",
      " 'waterpoint_type_group' 'label']\n"
     ]
    }
   ],
   "source": [
    "print df_data.head()\n",
    "print df_labels.head()\n",
    "print df_data.tail()\n",
    "print df_labels.tail()\n",
    "print df_data.shape\n",
    "print df_labels.shape\n",
    "\n",
    "df_complete = pd.concat([df_data,df_labels],axis=1)\n",
    "\n",
    "print df_complete.shape\n",
    "print df_complete.columns.values\n",
    "\n"
   ]
  },
  {
   "cell_type": "code",
   "execution_count": 6,
   "metadata": {
    "collapsed": true
   },
   "outputs": [],
   "source": [
    "df_complete.to_csv('/Users/martinrasumoff/map.csv', sep=',', index=False)"
   ]
  },
  {
   "cell_type": "code",
   "execution_count": 7,
   "metadata": {
    "collapsed": false,
    "scrolled": false
   },
   "outputs": [
    {
     "name": "stdout",
     "output_type": "stream",
     "text": [
      "basin: (59400, 9)\n",
      "Public Meeting: (59400, 2)\n",
      "Scheme Management: (59400, 12)\n",
      "permit: (59400, 2)\n",
      "Data Extraction: (59400, 13)\n",
      "Data Extr Type: (59400, 7)\n",
      "Management Group: (59400, 5)\n",
      "Payment Type: (59400, 7)\n",
      "Quality Group: (59400, 6)\n",
      "Quantity Group: (59400, 5)\n",
      "Source Type: (59400, 7)\n",
      "Source Class: (59400, 3)\n",
      "Waterpoint Type: (59400, 6)\n"
     ]
    }
   ],
   "source": [
    "df_data_basin = pd.get_dummies(df_data['basin'])\n",
    "print 'basin:',df_data_basin.shape\n",
    "df_data_public_meeting = pd.get_dummies(df_data['public_meeting'])\n",
    "print 'Public Meeting:',df_data_public_meeting.shape\n",
    "df_data_scheme_mgmnt = pd.get_dummies(df_data['scheme_management'])\n",
    "print 'Scheme Management:',df_data_scheme_mgmnt.shape\n",
    "df_data_permit = pd.get_dummies(df_data['permit'])\n",
    "print 'permit:',df_data_permit.shape\n",
    "df_data_extraction_type_group = pd.get_dummies(df_data['extraction_type_group'])\n",
    "print 'Data Extraction:',df_data_extraction_type_group.shape\n",
    "df_data_extraction_type_class = pd.get_dummies(df_data['extraction_type_class'])\n",
    "print 'Data Extr Type:',df_data_extraction_type_class.shape\n",
    "df_data_management_group = pd.get_dummies(df_data['management_group'])\n",
    "print 'Management Group:',df_data_management_group.shape\n",
    "df_data_payment_type = pd.get_dummies(df_data['payment_type'])\n",
    "print 'Payment Type:',df_data_payment_type.shape\n",
    "df_data_quality_group = pd.get_dummies(df_data['quality_group'])\n",
    "print 'Quality Group:',df_data_quality_group.shape\n",
    "df_data_quantity_group = pd.get_dummies(df_data['quantity_group'])\n",
    "print 'Quantity Group:',df_data_quantity_group.shape\n",
    "df_data_source_type = pd.get_dummies(df_data['source_type'])\n",
    "print 'Source Type:',df_data_source_type.shape\n",
    "df_data_source_class = pd.get_dummies(df_data['source_class'])\n",
    "print 'Source Class:',df_data_source_class.shape\n",
    "df_data_waterpoint_type_group = pd.get_dummies(df_data['waterpoint_type_group'])\n",
    "print 'Waterpoint Type:',df_data_waterpoint_type_group.shape"
   ]
  },
  {
   "cell_type": "code",
   "execution_count": 8,
   "metadata": {
    "collapsed": false
   },
   "outputs": [
    {
     "name": "stdout",
     "output_type": "stream",
     "text": [
      "(59400, 7)\n",
      "(59400, 91)\n"
     ]
    }
   ],
   "source": [
    "df_data = df_data[['amount_tsh','gps_height','longitude','latitude','region_code','district_code',\\\n",
    "                   'population']]\n",
    "\n",
    "df_coded = pd.concat([df_data,df_data_basin,df_data_public_meeting,df_data_scheme_mgmnt,df_data_permit,\\\n",
    "                      df_data_extraction_type_group,df_data_extraction_type_class,df_data_management_group,\\\n",
    "                      df_data_payment_type,df_data_quality_group,df_data_quantity_group,\\\n",
    "                      df_data_source_type,df_data_source_class,df_data_waterpoint_type_group],axis=1)\n",
    "\n",
    "print df_data.shape\n",
    "print df_coded.shape\n"
   ]
  },
  {
   "cell_type": "code",
   "execution_count": 9,
   "metadata": {
    "collapsed": false,
    "scrolled": true
   },
   "outputs": [
    {
     "name": "stdout",
     "output_type": "stream",
     "text": [
      "59400\n",
      "(59400, 91)\n",
      "59400\n",
      "59400\n"
     ]
    }
   ],
   "source": [
    "df_coded.sort_index(inplace=True)\n",
    "df_labels.sort_index(inplace=True)\n",
    "\n",
    "print (df_labels.index == df_coded.index).sum()\n",
    "print df_coded.shape\n",
    "\n",
    "print len(df_labels)\n",
    "print len(df_coded)"
   ]
  },
  {
   "cell_type": "code",
   "execution_count": 10,
   "metadata": {
    "collapsed": false,
    "scrolled": true
   },
   "outputs": [
    {
     "name": "stdout",
     "output_type": "stream",
     "text": [
      "       amount_tsh  gps_height  longitude   latitude  region_code  \\\n",
      "74240           0        1183  37.007726  -3.280868            2   \n",
      "74242           0           0  33.724987  -8.940758           12   \n",
      "74243           0        1188  33.963539  -1.429477           20   \n",
      "74246          50        1428  35.630481  -7.710549           11   \n",
      "74247          50         965  35.432998 -10.639270           10   \n",
      "\n",
      "       district_code  population  Internal  Lake Nyasa  Lake Rukwa  ...    \\\n",
      "74240              7         350         0           0           0  ...     \n",
      "74242              2           0         0           0           0  ...     \n",
      "74243              6          95         0           0           0  ...     \n",
      "74246              1           1         0           0           0  ...     \n",
      "74247              2         900         0           0           0  ...     \n",
      "\n",
      "       spring  groundwater  surface  unknown  cattle trough  \\\n",
      "74240       0            0        1        0              0   \n",
      "74242       0            0        1        0              0   \n",
      "74243       0            0        1        0              0   \n",
      "74246       1            1        0        0              0   \n",
      "74247       0            0        1        0              0   \n",
      "\n",
      "       communal standpipe  dam  hand pump  improved spring  other  \n",
      "74240                   1    0          0                0      0  \n",
      "74242                   1    0          0                0      0  \n",
      "74243                   1    0          0                0      0  \n",
      "74246                   1    0          0                0      0  \n",
      "74247                   1    0          0                0      0  \n",
      "\n",
      "[5 rows x 91 columns]\n",
      "                label\n",
      "74240      functional\n",
      "74242      functional\n",
      "74243  non functional\n",
      "74246  non functional\n",
      "74247  non functional\n"
     ]
    }
   ],
   "source": [
    "print df_coded.tail()\n",
    "print df_labels.tail()"
   ]
  },
  {
   "cell_type": "code",
   "execution_count": 11,
   "metadata": {
    "collapsed": false
   },
   "outputs": [
    {
     "name": "stdout",
     "output_type": "stream",
     "text": [
      "59400\n",
      "(59400, 91)\n"
     ]
    }
   ],
   "source": [
    "print (df_labels.index == df_coded.index).sum()\n",
    "print df_coded.shape\n",
    "\n"
   ]
  },
  {
   "cell_type": "code",
   "execution_count": 12,
   "metadata": {
    "collapsed": false,
    "scrolled": true
   },
   "outputs": [
    {
     "name": "stdout",
     "output_type": "stream",
     "text": [
      "   amount_tsh  gps_height  longitude  latitude  region_code  district_code  \\\n",
      "0           0           0  33.125828 -5.118154           14              3   \n",
      "1           0        1978  34.770717 -9.395642           11              4   \n",
      "2           0           0  36.115056 -6.279268            1              4   \n",
      "3          10        1639  37.147432 -3.187555            3              5   \n",
      "4           0           0  36.164893 -6.099289            1              4   \n",
      "\n",
      "   population  Internal  Lake Nyasa  Lake Rukwa  ...    spring  groundwater  \\\n",
      "0           0         0           0           0  ...         0            1   \n",
      "1          20         0           0           0  ...         0            1   \n",
      "2           0         0           0           0  ...         0            1   \n",
      "3          25         0           0           0  ...         1            1   \n",
      "4           0         0           0           0  ...         0            1   \n",
      "\n",
      "   surface  unknown  cattle trough  communal standpipe  dam  hand pump  \\\n",
      "0        0        0              0                   0    0          1   \n",
      "1        0        0              0                   0    0          1   \n",
      "2        0        0              0                   1    0          0   \n",
      "3        0        0              0                   1    0          0   \n",
      "4        0        0              0                   0    0          1   \n",
      "\n",
      "   improved spring  other  \n",
      "0                0      0  \n",
      "1                0      0  \n",
      "2                0      0  \n",
      "3                0      0  \n",
      "4                0      0  \n",
      "\n",
      "[5 rows x 91 columns]\n",
      "            label\n",
      "0  non functional\n",
      "1      functional\n",
      "2      functional\n",
      "3      functional\n",
      "4  non functional\n"
     ]
    }
   ],
   "source": [
    "print df_coded.head()\n",
    "print df_labels.head()"
   ]
  },
  {
   "cell_type": "code",
   "execution_count": 13,
   "metadata": {
    "collapsed": true
   },
   "outputs": [],
   "source": [
    "%matplotlib inline"
   ]
  },
  {
   "cell_type": "code",
   "execution_count": 14,
   "metadata": {
    "collapsed": false,
    "scrolled": true
   },
   "outputs": [
    {
     "name": "stdout",
     "output_type": "stream",
     "text": [
      "(59400, 91)\n",
      "(44550, 91)\n",
      "(44550, 1)\n",
      "       amount_tsh  gps_height  longitude   latitude  region_code  \\\n",
      "37900           0           0  33.104711  -4.053327           14   \n",
      "40527           0           0  32.569985  -8.954532           12   \n",
      "26058           0        1804  31.736616  -8.439998           15   \n",
      "6969          500        1821  34.774402  -9.123071           11   \n",
      "41018         500         767  36.092962 -10.923966           10   \n",
      "\n",
      "       district_code  population  Internal  Lake Nyasa  Lake Rukwa  ...    \\\n",
      "37900              1           0         1           0           0  ...     \n",
      "40527              6           0         0           0           1  ...     \n",
      "26058              2         200         0           0           1  ...     \n",
      "6969               4         108         0           0           0  ...     \n",
      "41018              5         400         0           0           0  ...     \n",
      "\n",
      "       spring  groundwater  surface  unknown  cattle trough  \\\n",
      "37900       0            1        0        0              0   \n",
      "40527       0            1        0        0              0   \n",
      "26058       0            0        1        0              0   \n",
      "6969        1            1        0        0              0   \n",
      "41018       0            1        0        0              0   \n",
      "\n",
      "       communal standpipe  dam  hand pump  improved spring  other  \n",
      "37900                   1    0          0                0      0  \n",
      "40527                   0    0          1                0      0  \n",
      "26058                   1    0          0                0      0  \n",
      "6969                    1    0          0                0      0  \n",
      "41018                   0    0          1                0      0  \n",
      "\n",
      "[5 rows x 91 columns]\n",
      "                label\n",
      "37900  non functional\n",
      "40527  non functional\n",
      "26058  non functional\n",
      "6969       functional\n",
      "41018      functional\n"
     ]
    }
   ],
   "source": [
    "from sklearn.ensemble import ExtraTreesClassifier\n",
    "from sklearn import metrics\n",
    "\n",
    "print df_coded.shape\n",
    "X_pumps_train, X_pumps_test, y_pumps_train, y_pumps_test = train_test_split(df_coded, df_labels, test_size=0.25, random_state=43)\n",
    "\n",
    "X = X_pumps_train\n",
    "y = y_pumps_train[['label']]\n",
    "\n",
    "print X.shape\n",
    "print y.shape\n",
    "\n",
    "print X.head()\n",
    "print y.head()\n",
    "\n"
   ]
  },
  {
   "cell_type": "code",
   "execution_count": 15,
   "metadata": {
    "collapsed": false,
    "scrolled": true
   },
   "outputs": [
    {
     "name": "stdout",
     "output_type": "stream",
     "text": [
      "(44550, 14)\n",
      "Train Score: 0.995061728395\n",
      "Test Score: 0.781144781145\n",
      "Feature ranking:\n",
      "1. feature 2 (0.157506) longitude\n",
      "2. feature 3 (0.153823) latitude\n",
      "3. feature 1 (0.080067) gps_height\n",
      "4. feature 70 (0.074950) dry\n",
      "5. feature 6 (0.053664) population\n",
      "6. feature 71 (0.030992) enough\n",
      "7. feature 48 (0.028890) other\n",
      "8. feature 5 (0.025170) district_code\n",
      "9. feature 90 (0.022606) other\n",
      "10. feature 4 (0.016280) region_code\n",
      "11. feature 72 (0.016191) insufficient\n",
      "12. feature 0 (0.015752) amount_tsh\n",
      "13. feature 59 (0.015147) never pay\n",
      "14. feature 38 (0.012235) other\n",
      "15. feature 25 (0.010472) VWC\n",
      "16. feature 62 (0.010350) per bucket\n",
      "17. feature 30 (0.009806) False\n",
      "18. feature 31 (0.009460) True\n",
      "19. feature 86 (0.009283) communal standpipe\n",
      "20. feature 17 (0.009078) True\n",
      "21. feature 63 (0.007804) unknown\n",
      "22. feature 11 (0.007660) Lake Victoria\n",
      "23. feature 66 (0.007250) good\n",
      "24. feature 58 (0.006998) monthly\n",
      "25. feature 73 (0.006931) seasonal\n",
      "26. feature 7 (0.006775) Internal\n",
      "27. feature 16 (0.006666) False\n",
      "28. feature 52 (0.006383) commercial\n",
      "29. feature 56 (0.006144) user-group\n",
      "30. feature 12 (0.006111) Pangani\n",
      "31. feature 69 (0.005997) unknown\n",
      "32. feature 81 (0.005906) spring\n",
      "33. feature 10 (0.005758) Lake Tanganyika\n",
      "34. feature 33 (0.005644) gravity\n",
      "35. feature 57 (0.005609) annually\n",
      "36. feature 37 (0.005527) nira/tanira\n",
      "37. feature 83 (0.005355) surface\n",
      "38. feature 15 (0.005097) Wami / Ruvu\n",
      "39. feature 75 (0.005094) borehole\n",
      "40. feature 27 (0.005073) WUG\n",
      "41. feature 8 (0.005049) Lake Nyasa\n",
      "42. feature 9 (0.005026) Lake Rukwa\n",
      "43. feature 68 (0.005015) salty\n",
      "44. feature 13 (0.004643) Rufiji\n",
      "45. feature 46 (0.004522) handpump\n",
      "46. feature 79 (0.004496) river/lake\n",
      "47. feature 45 (0.004264) gravity\n",
      "48. feature 88 (0.004191) hand pump\n",
      "49. feature 78 (0.004188) rainwater harvesting\n",
      "50. feature 29 (0.004176) Water authority\n",
      "51. feature 80 (0.004003) shallow well\n",
      "52. feature 82 (0.003769) groundwater\n",
      "53. feature 14 (0.003676) Ruvuma / Southern Coast\n",
      "54. feature 60 (0.003664) on failure\n",
      "55. feature 42 (0.003522) submersible\n",
      "56. feature 28 (0.003395) Water Board\n",
      "57. feature 43 (0.003279) swn 80\n",
      "58. feature 50 (0.003163) submersible\n",
      "59. feature 47 (0.002799) motorpump\n",
      "60. feature 36 (0.002620) mono\n",
      "61. feature 26 (0.002474) WUA\n",
      "62. feature 74 (0.002439) unknown\n",
      "63. feature 34 (0.002401) india mark ii\n",
      "64. feature 32 (0.002355) afridev\n",
      "65. feature 18 (0.002125) Company\n",
      "66. feature 54 (0.002097) parastatal\n",
      "67. feature 89 (0.002080) improved spring\n",
      "68. feature 76 (0.002011) dam\n",
      "69. feature 67 (0.001655) milky\n",
      "70. feature 61 (0.001571) other\n",
      "71. feature 21 (0.001526) Parastatal\n",
      "72. feature 53 (0.001516) other\n",
      "73. feature 22 (0.001385) Private operator\n",
      "74. feature 64 (0.001316) colored\n",
      "75. feature 39 (0.001144) other handpump\n",
      "76. feature 55 (0.001049) unknown\n",
      "77. feature 20 (0.001015) Other\n",
      "78. feature 65 (0.000791) fluoride\n",
      "79. feature 41 (0.000791) rope pump\n",
      "80. feature 49 (0.000618) rope pump\n",
      "81. feature 84 (0.000540) unknown\n",
      "82. feature 77 (0.000484) other\n",
      "83. feature 85 (0.000305) cattle trough\n",
      "84. feature 35 (0.000304) india mark iii\n",
      "85. feature 24 (0.000284) Trust\n",
      "86. feature 44 (0.000241) wind-powered\n",
      "87. feature 51 (0.000210) wind-powered\n",
      "88. feature 40 (0.000203) other motorpump\n",
      "89. feature 23 (0.000074) SWC\n",
      "90. feature 87 (0.000029) dam\n",
      "91. feature 19 (0.000000) None\n",
      "X_new_t 44550\n",
      "(44550, 14)\n"
     ]
    },
    {
     "name": "stderr",
     "output_type": "stream",
     "text": [
      "//anaconda/lib/python2.7/site-packages/sklearn/base.py:436: DataConversionWarning: A column-vector y was passed when a 1d array was expected. Please change the shape of y to (n_samples,), for example using ravel().\n",
      "  return self.fit(X, y, **fit_params).transform(X)\n"
     ]
    }
   ],
   "source": [
    "import numpy as np\n",
    "\n",
    "clf = ExtraTreesClassifier(n_estimators=14)\n",
    "\n",
    "X_new_t = clf.fit_transform(X, y)\n",
    "\n",
    "result_train = clf.score(X,y)\n",
    "result_test = clf.score(X_pumps_test,y_pumps_test)\n",
    "\n",
    "print X_new_t.shape\n",
    "           \n",
    "print \"Train Score:\",result_train\n",
    "print \"Test Score:\",result_test\n",
    "\n",
    "importances = clf.feature_importances_\n",
    "\n",
    "indices = np.argsort(importances)[::-1]\n",
    "\n",
    "# Print the feature ranking\n",
    "print(\"Feature ranking:\")\n",
    "\n",
    "for f in range(len(indices)):\n",
    "    print(\"%d. feature %d (%f) %s\" % (f + 1, indices[f], importances[indices[f]],X.columns.values[indices[f]]))\n",
    "\n",
    "print \"X_new_t\",len(X_new_t)\n",
    "\n",
    "print X_new_t.shape\n"
   ]
  },
  {
   "cell_type": "code",
   "execution_count": 16,
   "metadata": {
    "collapsed": false,
    "scrolled": true
   },
   "outputs": [],
   "source": [
    "import matplotlib.pyplot as plt"
   ]
  },
  {
   "cell_type": "code",
   "execution_count": 17,
   "metadata": {
    "collapsed": false
   },
   "outputs": [
    {
     "data": {
      "text/plain": [
       "'from sklearn.tree import DecisionTreeClassifier\\nclf2222 = DecisionTreeClassifier()\\nX_new = clf2222.fit_transform(X, y)\\nresult_train = clf2222.score(X,y)\\nprint result_test\\n\\nwith open(\"export2.dot\",\"wb\") as f:\\n    f = export_graphviz(clf2222,out_file=f,feature_names=indices)\\n'"
      ]
     },
     "execution_count": 17,
     "metadata": {},
     "output_type": "execute_result"
    }
   ],
   "source": [
    "'''from sklearn.tree import DecisionTreeClassifier\n",
    "clf2222 = DecisionTreeClassifier()\n",
    "X_new = clf2222.fit_transform(X, y)\n",
    "result_train = clf2222.score(X,y)\n",
    "print result_test\n",
    "\n",
    "with open(\"export2.dot\",\"wb\") as f:\n",
    "    f = export_graphviz(clf2222,out_file=f,feature_names=indices)\n",
    "'''"
   ]
  },
  {
   "cell_type": "code",
   "execution_count": 18,
   "metadata": {
    "collapsed": false
   },
   "outputs": [
    {
     "data": {
      "text/plain": [
       "'from sklearn import tree\\nimport StringIO\\nimport pydot\\nfrom sklearn.externals.six import StringIO  \\n\\nclf2222 = DecisionTreeClassifier()\\nN = clf2222.fit_transform(X,y)\\n\\nX_333 = X[[\\'latitude\\',\\'longitude\\',\\'gps_height\\',\\'dry\\',\\'population\\']]\\nclf333 = DecisionTreeClassifier()\\ntransform = clf333.fit_transform(X_333,y)\\n\\ndot_data = StringIO()\\ntree.export_graphviz(clf333, out_file=dot_data)\\ngraph = pydot.graph_from_dot_data(dot_data.getvalue())\\ngraph.write_pdf(\"DTF.pdf\")'"
      ]
     },
     "execution_count": 18,
     "metadata": {},
     "output_type": "execute_result"
    }
   ],
   "source": [
    "'''from sklearn import tree\n",
    "import StringIO\n",
    "import pydot\n",
    "from sklearn.externals.six import StringIO  \n",
    "\n",
    "clf2222 = DecisionTreeClassifier()\n",
    "N = clf2222.fit_transform(X,y)\n",
    "\n",
    "X_333 = X[['latitude','longitude','gps_height','dry','population']]\n",
    "clf333 = DecisionTreeClassifier()\n",
    "transform = clf333.fit_transform(X_333,y)\n",
    "\n",
    "dot_data = StringIO()\n",
    "tree.export_graphviz(clf333, out_file=dot_data)\n",
    "graph = pydot.graph_from_dot_data(dot_data.getvalue())\n",
    "graph.write_pdf(\"DTF.pdf\")'''"
   ]
  },
  {
   "cell_type": "code",
   "execution_count": 19,
   "metadata": {
    "collapsed": false
   },
   "outputs": [
    {
     "data": {
      "text/plain": [
       "'\\nwith open(\"export1.dot\",\"wb\") as f:\\n    f = export_graphviz(clf,out_file=f,feature_names=indices)\\n'"
      ]
     },
     "execution_count": 19,
     "metadata": {},
     "output_type": "execute_result"
    }
   ],
   "source": [
    "'''\n",
    "with open(\"export1.dot\",\"wb\") as f:\n",
    "    f = export_graphviz(clf,out_file=f,feature_names=indices)\n",
    "'''    "
   ]
  },
  {
   "cell_type": "code",
   "execution_count": 20,
   "metadata": {
    "collapsed": false,
    "scrolled": true
   },
   "outputs": [
    {
     "data": {
      "image/png": "[encoded data removed]",
      "text/plain": [
       "<matplotlib.figure.Figure at 0x104c7da90>"
      ]
     },
     "metadata": {},
     "output_type": "display_data"
    },
    {
     "name": "stdout",
     "output_type": "stream",
     "text": [
      "['amount_tsh' 'gps_height' 'longitude' 'latitude' 'region_code'\n",
      " 'district_code' 'population' 'Internal' 'Lake Nyasa' 'Lake Rukwa'\n",
      " 'Lake Tanganyika' 'Lake Victoria' 'Pangani' 'Rufiji'\n",
      " 'Ruvuma / Southern Coast' 'Wami / Ruvu' 'False' 'True' 'Company' 'None'\n",
      " 'Other' 'Parastatal' 'Private operator' 'SWC' 'Trust' 'VWC' 'WUA' 'WUG'\n",
      " 'Water Board' 'Water authority' False True 'afridev' 'gravity'\n",
      " 'india mark ii' 'india mark iii' 'mono' 'nira/tanira' 'other'\n",
      " 'other handpump' 'other motorpump' 'rope pump' 'submersible' 'swn 80'\n",
      " 'wind-powered' 'gravity' 'handpump' 'motorpump' 'other' 'rope pump'\n",
      " 'submersible' 'wind-powered' 'commercial' 'other' 'parastatal' 'unknown'\n",
      " 'user-group' 'annually' 'monthly' 'never pay' 'on failure' 'other'\n",
      " 'per bucket' 'unknown' 'colored' 'fluoride' 'good' 'milky' 'salty'\n",
      " 'unknown' 'dry' 'enough' 'insufficient' 'seasonal' 'unknown' 'borehole'\n",
      " 'dam' 'other' 'rainwater harvesting' 'river/lake' 'shallow well' 'spring'\n",
      " 'groundwater' 'surface' 'unknown' 'cattle trough' 'communal standpipe'\n",
      " 'dam' 'hand pump' 'improved spring' 'other']\n",
      "0  -  longitude\n",
      "1  -  latitude\n",
      "2  -  gps_height\n",
      "3  -  dry\n",
      "4  -  population\n",
      "5  -  enough\n",
      "6  -  other\n",
      "7  -  district_code\n",
      "8  -  other\n",
      "9  -  region_code\n",
      "10  -  insufficient\n",
      "11  -  amount_tsh\n",
      "12  -  never pay\n",
      "13  -  other\n",
      "14  -  VWC\n",
      "15  -  per bucket\n",
      "16  -  False\n",
      "17  -  True\n",
      "18  -  communal standpipe\n",
      "19  -  True\n",
      "20  -  unknown\n",
      "21  -  Lake Victoria\n",
      "22  -  good\n",
      "23  -  monthly\n",
      "24  -  seasonal\n",
      "25  -  Internal\n",
      "26  -  False\n",
      "27  -  commercial\n",
      "28  -  user-group\n",
      "29  -  Pangani\n",
      "30  -  unknown\n",
      "31  -  spring\n",
      "32  -  Lake Tanganyika\n",
      "33  -  gravity\n",
      "34  -  annually\n",
      "35  -  nira/tanira\n",
      "36  -  surface\n",
      "37  -  Wami / Ruvu\n",
      "38  -  borehole\n",
      "39  -  WUG\n",
      "40  -  Lake Nyasa\n",
      "41  -  Lake Rukwa\n",
      "42  -  salty\n",
      "43  -  Rufiji\n",
      "44  -  handpump\n",
      "45  -  river/lake\n",
      "46  -  gravity\n",
      "47  -  hand pump\n",
      "48  -  rainwater harvesting\n",
      "49  -  Water authority\n",
      "50  -  shallow well\n",
      "51  -  groundwater\n",
      "52  -  Ruvuma / Southern Coast\n",
      "53  -  on failure\n",
      "54  -  submersible\n",
      "55  -  Water Board\n",
      "56  -  swn 80\n",
      "57  -  submersible\n",
      "58  -  motorpump\n",
      "59  -  mono\n",
      "60  -  WUA\n",
      "61  -  unknown\n",
      "62  -  india mark ii\n",
      "63  -  afridev\n",
      "64  -  Company\n",
      "65  -  parastatal\n",
      "66  -  improved spring\n",
      "67  -  dam\n",
      "68  -  milky\n",
      "69  -  other\n",
      "70  -  Parastatal\n",
      "71  -  other\n",
      "72  -  Private operator\n",
      "73  -  colored\n",
      "74  -  other handpump\n",
      "75  -  unknown\n",
      "76  -  Other\n",
      "77  -  fluoride\n",
      "78  -  rope pump\n",
      "79  -  rope pump\n",
      "80  -  unknown\n",
      "81  -  other\n",
      "82  -  cattle trough\n",
      "83  -  india mark iii\n",
      "84  -  Trust\n",
      "85  -  wind-powered\n",
      "86  -  wind-powered\n",
      "87  -  other motorpump\n",
      "88  -  SWC\n",
      "89  -  dam\n",
      "90  -  None\n"
     ]
    }
   ],
   "source": [
    "# Plot the feature importances of the forest\n",
    "\n",
    "plt.figure(figsize=(14,8))\n",
    "plt.title(\"Feature importances\")\n",
    "plt.bar(range(len(indices)), importances[indices], color=\"r\", align=\"center\")\n",
    "plt.xticks(range(len(indices)), indices, rotation='vertical')\n",
    "plt.xlim([-1, 10])\n",
    "plt.show()\n",
    "\n",
    "print X.columns.values\n",
    "for a in range(len(X.columns.values)):\n",
    "    print a,\" - \", X.columns.values[indices[a]]\n",
    "\n",
    "\n",
    "\n"
   ]
  },
  {
   "cell_type": "code",
   "execution_count": 21,
   "metadata": {
    "collapsed": false
   },
   "outputs": [
    {
     "data": {
      "text/plain": [
       "\"X_2 = X[['latitude','longitude','gps_height','dry','population']]\\n\\nprint X_2.head()\""
      ]
     },
     "execution_count": 21,
     "metadata": {},
     "output_type": "execute_result"
    }
   ],
   "source": [
    "'''X_2 = X[['latitude','longitude','gps_height','dry','population']]\n",
    "\n",
    "print X_2.head()'''"
   ]
  },
  {
   "cell_type": "code",
   "execution_count": 22,
   "metadata": {
    "collapsed": false,
    "scrolled": true
   },
   "outputs": [
    {
     "name": "stdout",
     "output_type": "stream",
     "text": [
      "       amount_tsh date_recorded                  funder  gps_height  \\\n",
      "id                                                                    \n",
      "50785           0    2013-02-04                    Dmdd        1996   \n",
      "51630           0    2013-02-04  Government Of Tanzania        1569   \n",
      "17168           0    2013-02-01                     NaN        1567   \n",
      "45559           0    2013-01-22              Finn Water         267   \n",
      "49871         500    2013-03-27                  Bruder        1260   \n",
      "\n",
      "        installer  longitude   latitude                 wpt_name  num_private  \\\n",
      "id                                                                              \n",
      "50785        DMDD  35.290799  -4.059696  Dinamu Secondary School            0   \n",
      "51630         DWE  36.656709  -3.309214                  Kimnyak            0   \n",
      "17168         NaN  34.767863  -5.004344           Puma Secondary            0   \n",
      "45559  FINN WATER  38.058046  -9.418672           Kwa Mzee Pange            0   \n",
      "49871      BRUDER  35.006123 -10.950412          Kwa Mzee Turuka            0   \n",
      "\n",
      "                         basin          ...          payment_type  \\\n",
      "id                                      ...                         \n",
      "50785                 Internal          ...             never pay   \n",
      "51630                  Pangani          ...             never pay   \n",
      "17168                 Internal          ...             never pay   \n",
      "45559  Ruvuma / Southern Coast          ...               unknown   \n",
      "49871  Ruvuma / Southern Coast          ...               monthly   \n",
      "\n",
      "      water_quality  quality_group      quantity quantity_group  \\\n",
      "id                                                                \n",
      "50785          soft           good      seasonal       seasonal   \n",
      "51630          soft           good  insufficient   insufficient   \n",
      "17168          soft           good  insufficient   insufficient   \n",
      "45559          soft           good           dry            dry   \n",
      "49871          soft           good        enough         enough   \n",
      "\n",
      "                     source           source_type source_class  \\\n",
      "id                                                               \n",
      "50785  rainwater harvesting  rainwater harvesting      surface   \n",
      "51630                spring                spring  groundwater   \n",
      "17168  rainwater harvesting  rainwater harvesting      surface   \n",
      "45559          shallow well          shallow well  groundwater   \n",
      "49871                spring                spring  groundwater   \n",
      "\n",
      "          waterpoint_type waterpoint_type_group  \n",
      "id                                               \n",
      "50785               other                 other  \n",
      "51630  communal standpipe    communal standpipe  \n",
      "17168               other                 other  \n",
      "45559               other                 other  \n",
      "49871  communal standpipe    communal standpipe  \n",
      "\n",
      "[5 rows x 39 columns]\n"
     ]
    },
    {
     "ename": "KeyError",
     "evalue": "\"['id'] not in index\"",
     "output_type": "error",
     "traceback": [
      "\u001b[0;31m---------------------------------------------------------------------------\u001b[0m",
      "\u001b[0;31mKeyError\u001b[0m                                  Traceback (most recent call last)",
      "\u001b[0;32m<ipython-input-22-123865d30b7f>\u001b[0m in \u001b[0;36m<module>\u001b[0;34m()\u001b[0m\n\u001b[1;32m      2\u001b[0m \u001b[0;32mprint\u001b[0m \u001b[0mtest\u001b[0m\u001b[0;34m.\u001b[0m\u001b[0mhead\u001b[0m\u001b[0;34m(\u001b[0m\u001b[0;34m)\u001b[0m\u001b[0;34m\u001b[0m\u001b[0m\n\u001b[1;32m      3\u001b[0m \u001b[0;34m\u001b[0m\u001b[0m\n\u001b[0;32m----> 4\u001b[0;31m \u001b[0mtest\u001b[0m \u001b[0;34m=\u001b[0m \u001b[0mtest\u001b[0m\u001b[0;34m[\u001b[0m\u001b[0;34m[\u001b[0m\u001b[0;34m'id'\u001b[0m\u001b[0;34m,\u001b[0m\u001b[0;34m'amount_tsh'\u001b[0m\u001b[0;34m,\u001b[0m\u001b[0;34m'gps_height'\u001b[0m\u001b[0;34m,\u001b[0m\u001b[0;34m'longitude'\u001b[0m\u001b[0;34m,\u001b[0m\u001b[0;34m'latitude'\u001b[0m\u001b[0;34m,\u001b[0m\u001b[0;34m'region_code'\u001b[0m\u001b[0;34m,\u001b[0m\u001b[0;34m'district_code'\u001b[0m\u001b[0;34m,\u001b[0m            \u001b[0;34m'population'\u001b[0m\u001b[0;34m,\u001b[0m\u001b[0;34m'basin'\u001b[0m\u001b[0;34m,\u001b[0m\u001b[0;34m'public_meeting'\u001b[0m\u001b[0;34m,\u001b[0m\u001b[0;34m'scheme_management'\u001b[0m\u001b[0;34m,\u001b[0m\u001b[0;34m'permit'\u001b[0m\u001b[0;34m,\u001b[0m            \u001b[0;34m'extraction_type_group'\u001b[0m\u001b[0;34m,\u001b[0m\u001b[0;34m'extraction_type_class'\u001b[0m\u001b[0;34m,\u001b[0m\u001b[0;34m'management_group'\u001b[0m\u001b[0;34m,\u001b[0m            \u001b[0;34m'payment_type'\u001b[0m\u001b[0;34m,\u001b[0m\u001b[0;34m'quality_group'\u001b[0m\u001b[0;34m,\u001b[0m\u001b[0;34m'quantity_group'\u001b[0m\u001b[0;34m,\u001b[0m            \u001b[0;34m'source_type'\u001b[0m\u001b[0;34m,\u001b[0m\u001b[0;34m'source_class'\u001b[0m\u001b[0;34m,\u001b[0m\u001b[0;34m'waterpoint_type_group'\u001b[0m\u001b[0;34m]\u001b[0m\u001b[0;34m]\u001b[0m\u001b[0;34m\u001b[0m\u001b[0m\n\u001b[0m\u001b[1;32m      5\u001b[0m \u001b[0;34m\u001b[0m\u001b[0m\n\u001b[1;32m      6\u001b[0m \u001b[0;32mprint\u001b[0m \u001b[0mtest\u001b[0m\u001b[0;34m.\u001b[0m\u001b[0mhead\u001b[0m\u001b[0;34m(\u001b[0m\u001b[0;34m)\u001b[0m\u001b[0;34m\u001b[0m\u001b[0m\n",
      "\u001b[0;32m//anaconda/lib/python2.7/site-packages/pandas/core/frame.pyc\u001b[0m in \u001b[0;36m__getitem__\u001b[0;34m(self, key)\u001b[0m\n\u001b[1;32m   1789\u001b[0m         \u001b[0;32mif\u001b[0m \u001b[0misinstance\u001b[0m\u001b[0;34m(\u001b[0m\u001b[0mkey\u001b[0m\u001b[0;34m,\u001b[0m \u001b[0;34m(\u001b[0m\u001b[0mSeries\u001b[0m\u001b[0;34m,\u001b[0m \u001b[0mnp\u001b[0m\u001b[0;34m.\u001b[0m\u001b[0mndarray\u001b[0m\u001b[0;34m,\u001b[0m \u001b[0mIndex\u001b[0m\u001b[0;34m,\u001b[0m \u001b[0mlist\u001b[0m\u001b[0;34m)\u001b[0m\u001b[0;34m)\u001b[0m\u001b[0;34m:\u001b[0m\u001b[0;34m\u001b[0m\u001b[0m\n\u001b[1;32m   1790\u001b[0m             \u001b[0;31m# either boolean or fancy integer index\u001b[0m\u001b[0;34m\u001b[0m\u001b[0;34m\u001b[0m\u001b[0m\n\u001b[0;32m-> 1791\u001b[0;31m             \u001b[0;32mreturn\u001b[0m \u001b[0mself\u001b[0m\u001b[0;34m.\u001b[0m\u001b[0m_getitem_array\u001b[0m\u001b[0;34m(\u001b[0m\u001b[0mkey\u001b[0m\u001b[0;34m)\u001b[0m\u001b[0;34m\u001b[0m\u001b[0m\n\u001b[0m\u001b[1;32m   1792\u001b[0m         \u001b[0;32melif\u001b[0m \u001b[0misinstance\u001b[0m\u001b[0;34m(\u001b[0m\u001b[0mkey\u001b[0m\u001b[0;34m,\u001b[0m \u001b[0mDataFrame\u001b[0m\u001b[0;34m)\u001b[0m\u001b[0;34m:\u001b[0m\u001b[0;34m\u001b[0m\u001b[0m\n\u001b[1;32m   1793\u001b[0m             \u001b[0;32mreturn\u001b[0m \u001b[0mself\u001b[0m\u001b[0;34m.\u001b[0m\u001b[0m_getitem_frame\u001b[0m\u001b[0;34m(\u001b[0m\u001b[0mkey\u001b[0m\u001b[0;34m)\u001b[0m\u001b[0;34m\u001b[0m\u001b[0m\n",
      "\u001b[0;32m//anaconda/lib/python2.7/site-packages/pandas/core/frame.pyc\u001b[0m in \u001b[0;36m_getitem_array\u001b[0;34m(self, key)\u001b[0m\n\u001b[1;32m   1833\u001b[0m             \u001b[0;32mreturn\u001b[0m \u001b[0mself\u001b[0m\u001b[0;34m.\u001b[0m\u001b[0mtake\u001b[0m\u001b[0;34m(\u001b[0m\u001b[0mindexer\u001b[0m\u001b[0;34m,\u001b[0m \u001b[0maxis\u001b[0m\u001b[0;34m=\u001b[0m\u001b[0;36m0\u001b[0m\u001b[0;34m,\u001b[0m \u001b[0mconvert\u001b[0m\u001b[0;34m=\u001b[0m\u001b[0mFalse\u001b[0m\u001b[0;34m)\u001b[0m\u001b[0;34m\u001b[0m\u001b[0m\n\u001b[1;32m   1834\u001b[0m         \u001b[0;32melse\u001b[0m\u001b[0;34m:\u001b[0m\u001b[0;34m\u001b[0m\u001b[0m\n\u001b[0;32m-> 1835\u001b[0;31m             \u001b[0mindexer\u001b[0m \u001b[0;34m=\u001b[0m \u001b[0mself\u001b[0m\u001b[0;34m.\u001b[0m\u001b[0mix\u001b[0m\u001b[0;34m.\u001b[0m\u001b[0m_convert_to_indexer\u001b[0m\u001b[0;34m(\u001b[0m\u001b[0mkey\u001b[0m\u001b[0;34m,\u001b[0m \u001b[0maxis\u001b[0m\u001b[0;34m=\u001b[0m\u001b[0;36m1\u001b[0m\u001b[0;34m)\u001b[0m\u001b[0;34m\u001b[0m\u001b[0m\n\u001b[0m\u001b[1;32m   1836\u001b[0m             \u001b[0;32mreturn\u001b[0m \u001b[0mself\u001b[0m\u001b[0;34m.\u001b[0m\u001b[0mtake\u001b[0m\u001b[0;34m(\u001b[0m\u001b[0mindexer\u001b[0m\u001b[0;34m,\u001b[0m \u001b[0maxis\u001b[0m\u001b[0;34m=\u001b[0m\u001b[0;36m1\u001b[0m\u001b[0;34m,\u001b[0m \u001b[0mconvert\u001b[0m\u001b[0;34m=\u001b[0m\u001b[0mTrue\u001b[0m\u001b[0;34m)\u001b[0m\u001b[0;34m\u001b[0m\u001b[0m\n\u001b[1;32m   1837\u001b[0m \u001b[0;34m\u001b[0m\u001b[0m\n",
      "\u001b[0;32m//anaconda/lib/python2.7/site-packages/pandas/core/indexing.pyc\u001b[0m in \u001b[0;36m_convert_to_indexer\u001b[0;34m(self, obj, axis, is_setter)\u001b[0m\n\u001b[1;32m   1110\u001b[0m                 \u001b[0mmask\u001b[0m \u001b[0;34m=\u001b[0m \u001b[0mcheck\u001b[0m \u001b[0;34m==\u001b[0m \u001b[0;34m-\u001b[0m\u001b[0;36m1\u001b[0m\u001b[0;34m\u001b[0m\u001b[0m\n\u001b[1;32m   1111\u001b[0m                 \u001b[0;32mif\u001b[0m \u001b[0mmask\u001b[0m\u001b[0;34m.\u001b[0m\u001b[0many\u001b[0m\u001b[0;34m(\u001b[0m\u001b[0;34m)\u001b[0m\u001b[0;34m:\u001b[0m\u001b[0;34m\u001b[0m\u001b[0m\n\u001b[0;32m-> 1112\u001b[0;31m                     \u001b[0;32mraise\u001b[0m \u001b[0mKeyError\u001b[0m\u001b[0;34m(\u001b[0m\u001b[0;34m'%s not in index'\u001b[0m \u001b[0;34m%\u001b[0m \u001b[0mobjarr\u001b[0m\u001b[0;34m[\u001b[0m\u001b[0mmask\u001b[0m\u001b[0;34m]\u001b[0m\u001b[0;34m)\u001b[0m\u001b[0;34m\u001b[0m\u001b[0m\n\u001b[0m\u001b[1;32m   1113\u001b[0m \u001b[0;34m\u001b[0m\u001b[0m\n\u001b[1;32m   1114\u001b[0m                 \u001b[0;32mreturn\u001b[0m \u001b[0m_values_from_object\u001b[0m\u001b[0;34m(\u001b[0m\u001b[0mindexer\u001b[0m\u001b[0;34m)\u001b[0m\u001b[0;34m\u001b[0m\u001b[0m\n",
      "\u001b[0;31mKeyError\u001b[0m: \"['id'] not in index\""
     ]
    }
   ],
   "source": [
    "test = pd.read_csv('/Users/martinrasumoff/Desktop/metis/mcnulty/Pumpitup/test.csv', index_col='id')\n",
    "print test.head()\n",
    "\n",
    "test = test[['id','amount_tsh','gps_height','longitude','latitude','region_code','district_code',\\\n",
    "            'population','basin','public_meeting','scheme_management','permit',\\\n",
    "            'extraction_type_group','extraction_type_class','management_group',\\\n",
    "            'payment_type','quality_group','quantity_group',\\\n",
    "            'source_type','source_class','waterpoint_type_group']]\n",
    "\n",
    "print test.head()"
   ]
  },
  {
   "cell_type": "code",
   "execution_count": 23,
   "metadata": {
    "collapsed": false
   },
   "outputs": [
    {
     "name": "stdout",
     "output_type": "stream",
     "text": [
      "basin: (14850, 9)\n",
      "Public Meeting: (14850, 2)\n",
      "Scheme Management: (14850, 11)\n",
      "permit: (14850, 2)\n",
      "Data Extraction: (14850, 13)\n",
      "Data Extr Type: (14850, 7)\n",
      "Management Group: (14850, 5)\n",
      "Payment Type: (14850, 7)\n",
      "Quality Group: (14850, 6)\n",
      "Quantity Group: (14850, 5)\n",
      "Source Type: (14850, 7)\n",
      "Source Class: (14850, 3)\n",
      "Waterpoint Type: (14850, 6)\n"
     ]
    }
   ],
   "source": [
    "tf_data_basin = pd.get_dummies(test['basin'])\n",
    "print 'basin:',tf_data_basin.shape\n",
    "tf_data_public_meeting = pd.get_dummies(test['public_meeting'])\n",
    "print 'Public Meeting:',tf_data_public_meeting.shape\n",
    "tf_data_scheme_mgmnt = pd.get_dummies(test['scheme_management'])\n",
    "print 'Scheme Management:',tf_data_scheme_mgmnt.shape\n",
    "tf_data_permit = pd.get_dummies(test['permit'])\n",
    "print 'permit:',tf_data_permit.shape\n",
    "tf_data_extraction_type_group = pd.get_dummies(test['extraction_type_group'])\n",
    "print 'Data Extraction:',tf_data_extraction_type_group.shape\n",
    "tf_data_extraction_type_class = pd.get_dummies(test['extraction_type_class'])\n",
    "print 'Data Extr Type:',tf_data_extraction_type_class.shape\n",
    "tf_data_management_group = pd.get_dummies(test['management_group'])\n",
    "print 'Management Group:',tf_data_management_group.shape\n",
    "tf_data_payment_type = pd.get_dummies(test['payment_type'])\n",
    "print 'Payment Type:',tf_data_payment_type.shape\n",
    "tf_data_quality_group = pd.get_dummies(test['quality_group'])\n",
    "print 'Quality Group:',tf_data_quality_group.shape\n",
    "tf_data_quantity_group = pd.get_dummies(test['quantity_group'])\n",
    "print 'Quantity Group:',tf_data_quantity_group.shape\n",
    "tf_data_source_type = pd.get_dummies(test['source_type'])\n",
    "print 'Source Type:',tf_data_source_type.shape\n",
    "tf_data_source_class = pd.get_dummies(test['source_class'])\n",
    "print 'Source Class:',tf_data_source_class.shape\n",
    "tf_data_waterpoint_type_group = pd.get_dummies(test['waterpoint_type_group'])\n",
    "print 'Waterpoint Type:',tf_data_waterpoint_type_group.shape"
   ]
  },
  {
   "cell_type": "code",
   "execution_count": 24,
   "metadata": {
    "collapsed": false
   },
   "outputs": [
    {
     "name": "stdout",
     "output_type": "stream",
     "text": [
      "(14850, 7)\n",
      "(14850, 90)\n",
      "<class 'pandas.core.frame.DataFrame'>\n"
     ]
    }
   ],
   "source": [
    "tf_data = test[['amount_tsh','gps_height','longitude','latitude','region_code','district_code','population']]\n",
    "\n",
    "tf_coded = pd.concat([tf_data,tf_data_basin,tf_data_public_meeting,tf_data_scheme_mgmnt,tf_data_permit,\\\n",
    "                      tf_data_extraction_type_group,tf_data_extraction_type_class,tf_data_management_group,\\\n",
    "                      tf_data_payment_type,tf_data_quality_group,tf_data_quantity_group,\\\n",
    "                      tf_data_source_type,tf_data_source_class,tf_data_waterpoint_type_group],axis=1)\n",
    "\n",
    "print tf_data.shape\n",
    "print tf_coded.shape\n",
    "print type(tf_coded)"
   ]
  },
  {
   "cell_type": "code",
   "execution_count": null,
   "metadata": {
    "collapsed": true
   },
   "outputs": [],
   "source": [
    "'''1. feature 3 (0.154770) latitude\n",
    "2. feature 2 (0.154396) longitude\n",
    "3. feature 1 (0.080339) gps_height\n",
    "4. feature 70 (0.075335) dry\n",
    "5. feature 6 (0.054576) population\n",
    "6. feature 71 (0.031172) enough\n",
    "7. feature 5 (0.024468) district_code\n",
    "8. feature 90 (0.021932) other\n",
    "9. feature 38 (0.020333) other\n",
    "10. feature 4 (0.019230) region_code\n",
    "11. feature 48 (0.018980) other\n",
    "12. feature 59 (0.017779) never pay\n",
    "13. feature 72 (0.016599) insufficient\n",
    "14. feature 0 (0.015377) amount_tsh'''"
   ]
  },
  {
   "cell_type": "code",
   "execution_count": 25,
   "metadata": {
    "collapsed": false,
    "scrolled": true
   },
   "outputs": [
    {
     "name": "stdout",
     "output_type": "stream",
     "text": [
      "       amount_tsh  gps_height  longitude   latitude  region_code  \\\n",
      "id                                                                 \n",
      "39307           0          34  38.852669  -6.582841            6   \n",
      "18990        1000           0  37.451633  -5.350428            4   \n",
      "28749           0        1476  34.739804  -4.585587           13   \n",
      "33492           0         998  35.432732 -10.584159           10   \n",
      "68707           0         481  34.765054 -11.226012           10   \n",
      "\n",
      "       district_code  population  Internal  Lake Nyasa  Lake Rukwa  ...    \\\n",
      "id                                                                  ...     \n",
      "39307              1          20         0           0           0  ...     \n",
      "18990              7        2960         0           0           0  ...     \n",
      "28749              2         200         1           0           0  ...     \n",
      "33492              2         150         0           1           0  ...     \n",
      "68707              3          40         0           1           0  ...     \n",
      "\n",
      "       spring  groundwater  surface  unknown  cattle trough  \\\n",
      "id                                                            \n",
      "39307       0            0        1        0              0   \n",
      "18990       0            1        0        0              0   \n",
      "28749       0            0        1        0              0   \n",
      "33492       0            0        1        0              0   \n",
      "68707       1            1        0        0              0   \n",
      "\n",
      "       communal standpipe  dam  hand pump  improved spring  other  \n",
      "id                                                                 \n",
      "39307                   1    0          0                0      0  \n",
      "18990                   0    0          1                0      0  \n",
      "28749                   1    0          0                0      0  \n",
      "33492                   1    0          0                0      0  \n",
      "68707                   1    0          0                0      0  \n",
      "\n",
      "[5 rows x 90 columns]\n",
      "       amount_tsh date_recorded                  funder  gps_height  \\\n",
      "id                                                                    \n",
      "39307           0    2011-02-24                  Danida          34   \n",
      "18990        1000    2011-03-21                    Hiap           0   \n",
      "28749           0    2013-03-04                     NaN        1476   \n",
      "33492           0    2013-02-18                 Germany         998   \n",
      "68707           0    2013-02-13  Government Of Tanzania         481   \n",
      "\n",
      "        installer  longitude   latitude          wpt_name  num_private  \\\n",
      "id                                                                       \n",
      "39307          Da  38.852669  -6.582841         Kwambwezi            0   \n",
      "18990        HIAP  37.451633  -5.350428  Bonde La Mkondoa            0   \n",
      "28749         NaN  34.739804  -4.585587           Bwawani            0   \n",
      "33492         DWE  35.432732 -10.584159          Kwa John            0   \n",
      "68707  Government  34.765054 -11.226012  Kwa Mzee Chagala            0   \n",
      "\n",
      "             basin          ...          payment_type water_quality  \\\n",
      "id                          ...                                       \n",
      "39307  Wami / Ruvu          ...             never pay          soft   \n",
      "18990      Pangani          ...              annually         salty   \n",
      "28749     Internal          ...             never pay          soft   \n",
      "33492   Lake Nyasa          ...             never pay          soft   \n",
      "68707   Lake Nyasa          ...             never pay          soft   \n",
      "\n",
      "       quality_group      quantity quantity_group        source   source_type  \\\n",
      "id                                                                              \n",
      "39307           good        enough         enough         river    river/lake   \n",
      "18990          salty  insufficient   insufficient  shallow well  shallow well   \n",
      "28749           good  insufficient   insufficient           dam           dam   \n",
      "33492           good  insufficient   insufficient         river    river/lake   \n",
      "68707           good           dry            dry        spring        spring   \n",
      "\n",
      "      source_class     waterpoint_type waterpoint_type_group  \n",
      "id                                                            \n",
      "39307      surface  communal standpipe    communal standpipe  \n",
      "18990  groundwater           hand pump             hand pump  \n",
      "28749      surface  communal standpipe    communal standpipe  \n",
      "33492      surface  communal standpipe    communal standpipe  \n",
      "68707  groundwater  communal standpipe    communal standpipe  \n",
      "\n",
      "[5 rows x 39 columns]\n"
     ]
    }
   ],
   "source": [
    "print tf_coded.tail()\n",
    "print test.tail()"
   ]
  },
  {
   "cell_type": "code",
   "execution_count": 26,
   "metadata": {
    "collapsed": false,
    "scrolled": false
   },
   "outputs": [
    {
     "name": "stdout",
     "output_type": "stream",
     "text": [
      "        latitude  longitude  gps_height  dry  population  enough  \\\n",
      "id                                                                 \n",
      "50785  -4.059696  35.290799        1996    0         321       0   \n",
      "51630  -3.309214  36.656709        1569    0         300       0   \n",
      "17168  -5.004344  34.767863        1567    0         500       0   \n",
      "45559  -9.418672  38.058046         267    1         250       0   \n",
      "49871 -10.950412  35.006123        1260    0          60       1   \n",
      "\n",
      "       district_code  region_code  never pay  insufficient  \n",
      "id                                                          \n",
      "50785              3           21          1             0  \n",
      "51630              2            2          1             1  \n",
      "17168              2           13          1             1  \n",
      "45559             43           80          0             0  \n",
      "49871              3           10          0             0  \n",
      "        latitude  longitude  gps_height  dry  population  enough  \\\n",
      "id                                                                 \n",
      "39307  -6.582841  38.852669          34    0          20       1   \n",
      "18990  -5.350428  37.451633           0    0        2960       0   \n",
      "28749  -4.585587  34.739804        1476    0         200       0   \n",
      "33492 -10.584159  35.432732         998    0         150       0   \n",
      "68707 -11.226012  34.765054         481    1          40       0   \n",
      "\n",
      "       district_code  region_code  never pay  insufficient  \n",
      "id                                                          \n",
      "39307              1            6          1             0  \n",
      "18990              7            4          0             1  \n",
      "28749              2           13          1             1  \n",
      "33492              2           10          1             1  \n",
      "68707              3           10          1             0  \n"
     ]
    }
   ],
   "source": [
    "'''1. feature 3 (0.154770) latitude\n",
    "2. feature 2 (0.154396) longitude\n",
    "3. feature 1 (0.080339) gps_height\n",
    "4. feature 70 (0.075335) dry\n",
    "5. feature 6 (0.054576) population\n",
    "6. feature 71 (0.031172) enough\n",
    "7. feature 5 (0.024468) district_code\n",
    "8. feature 90 (0.021932) other\n",
    "9. feature 38 (0.020333) other\n",
    "10. feature 4 (0.019230) region_code\n",
    "11. feature 48 (0.018980) other\n",
    "12. feature 59 (0.017779) never pay\n",
    "13. feature 72 (0.016599) insufficient\n",
    "14. feature 0 (0.015377) amount_tsh'''\n",
    "\n",
    "tf_coded_2 = tf_coded[['latitude','longitude','gps_height','dry','population','enough','district_code',\\\n",
    "                       'region_code','never pay','insufficient']]\n",
    "\n",
    "print tf_coded_2.head()\n",
    "print tf_coded_2.tail()\n"
   ]
  },
  {
   "cell_type": "code",
   "execution_count": 27,
   "metadata": {
    "collapsed": false
   },
   "outputs": [
    {
     "name": "stdout",
     "output_type": "stream",
     "text": [
      "        latitude  longitude  gps_height  dry  population  enough  \\\n",
      "id                                                                 \n",
      "50785  -4.059696  35.290799        1996    0         321       0   \n",
      "51630  -3.309214  36.656709        1569    0         300       0   \n",
      "17168  -5.004344  34.767863        1567    0         500       0   \n",
      "45559  -9.418672  38.058046         267    1         250       0   \n",
      "49871 -10.950412  35.006123        1260    0          60       1   \n",
      "\n",
      "       district_code  region_code  never pay  insufficient  \n",
      "id                                                          \n",
      "50785              3           21          1             0  \n",
      "51630              2            2          1             1  \n",
      "17168              2           13          1             1  \n",
      "45559             43           80          0             0  \n",
      "49871              3           10          0             0  \n",
      "        latitude  longitude  gps_height  dry  population  enough  \\\n",
      "id                                                                 \n",
      "39307  -6.582841  38.852669          34    0          20       1   \n",
      "18990  -5.350428  37.451633           0    0        2960       0   \n",
      "28749  -4.585587  34.739804        1476    0         200       0   \n",
      "33492 -10.584159  35.432732         998    0         150       0   \n",
      "68707 -11.226012  34.765054         481    1          40       0   \n",
      "\n",
      "       district_code  region_code  never pay  insufficient  \n",
      "id                                                          \n",
      "39307              1            6          1             0  \n",
      "18990              7            4          0             1  \n",
      "28749              2           13          1             1  \n",
      "33492              2           10          1             1  \n",
      "68707              3           10          1             0  \n",
      "['functional' 'functional needs repair' 'functional' ..., 'functional'\n",
      " 'functional' 'non functional']\n"
     ]
    },
    {
     "name": "stderr",
     "output_type": "stream",
     "text": [
      "/anaconda/lib/python2.7/site-packages/IPython/kernel/__main__.py:6: DataConversionWarning: A column-vector y was passed when a 1d array was expected. Please change the shape of y to (n_samples,), for example using ravel().\n"
     ]
    }
   ],
   "source": [
    "X_transformed = X_pumps_train[['latitude','longitude','gps_height','dry','population','enough','district_code',\\\n",
    "                       'region_code','never pay','insufficient']]\n",
    "\n",
    "y = y_pumps_train[['label']]\n",
    "\n",
    "clf_transformed = ExtraTreesClassifier()\n",
    "X_fit_n = clf_transformed.fit(X_transformed, y)\n",
    "result_transformed = clf_transformed.score(X_transformed,y)\n",
    "\n",
    "print tf_coded_2.head()\n",
    "print tf_coded_2.tail()\n",
    "a = clf_transformed.predict(tf_coded_2)\n",
    "\n",
    "print a\n"
   ]
  },
  {
   "cell_type": "code",
   "execution_count": 28,
   "metadata": {
    "collapsed": false
   },
   "outputs": [
    {
     "name": "stdout",
     "output_type": "stream",
     "text": [
      "['functional' 'functional needs repair' 'functional' ..., 'functional'\n",
      " 'functional' 'non functional']\n"
     ]
    }
   ],
   "source": [
    "print a"
   ]
  },
  {
   "cell_type": "code",
   "execution_count": 29,
   "metadata": {
    "collapsed": false
   },
   "outputs": [
    {
     "name": "stdout",
     "output_type": "stream",
     "text": [
      "14850\n",
      "      id             status_group\n",
      "0  50785               functional\n",
      "1  51630  functional needs repair\n",
      "2  17168               functional\n",
      "3  45559           non functional\n",
      "4  49871               functional\n",
      "          id    status_group\n",
      "14845  39307  non functional\n",
      "14846  18990      functional\n",
      "14847  28749      functional\n",
      "14848  33492      functional\n",
      "14849  68707  non functional\n"
     ]
    }
   ],
   "source": [
    "pred = a\n",
    "\n",
    "to_submit = []\n",
    "print len(tf_coded_2)\n",
    "for ind in range(len(tf_coded_2)):\n",
    "    ids = tf_coded_2.index[ind]\n",
    "    to_pred = pred[ind]\n",
    "    #print ids,' - ',to_pred\n",
    "    to_submit.append([ids,to_pred])\n",
    "    \n",
    "df_submit = pd.DataFrame(to_submit)\n",
    "df_submit.columns = ['id','status_group']\n",
    "print df_submit.head()\n",
    "print df_submit.tail()\n",
    "\n",
    "df_submit.to_csv('/Users/martinrasumoff/submission_10_n_est_14.csv', sep=',', index=False)\n"
   ]
  },
  {
   "cell_type": "code",
   "execution_count": 30,
   "metadata": {
    "collapsed": false
   },
   "outputs": [
    {
     "name": "stdout",
     "output_type": "stream",
     "text": [
      "['functional' 'functional needs repair' 'non functional']\n"
     ]
    }
   ],
   "source": [
    "print df_submit['status_group'].unique()"
   ]
  },
  {
   "cell_type": "code",
   "execution_count": null,
   "metadata": {
    "collapsed": true
   },
   "outputs": [],
   "source": []
  }
 ],
 "metadata": {
  "kernelspec": {
   "display_name": "Python 2",
   "language": "python",
   "name": "python2"
  },
  "language_info": {
   "codemirror_mode": {
    "name": "ipython",
    "version": 2
   },
   "file_extension": ".py",
   "mimetype": "text/x-python",
   "name": "python",
   "nbconvert_exporter": "python",
   "pygments_lexer": "ipython2",
   "version": "2.7.10"
  }
 },
 "nbformat": 4,
 "nbformat_minor": 0
}
