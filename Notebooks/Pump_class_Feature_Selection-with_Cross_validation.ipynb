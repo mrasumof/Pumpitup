{
 "cells": [
  {
   "cell_type": "code",
   "execution_count": 2,
   "metadata": {
    "collapsed": false,
    "scrolled": true
   },
   "outputs": [
    {
     "name": "stdout",
     "output_type": "stream",
     "text": [
      "                label\n",
      "69572      functional\n",
      "8776       functional\n",
      "34310      functional\n",
      "67743  non functional\n",
      "19728      functional\n",
      "            label\n",
      "60739  functional\n",
      "27263  functional\n",
      "37057  functional\n",
      "31282  functional\n",
      "26348  functional\n"
     ]
    }
   ],
   "source": [
    "import psycopg2\n",
    "import pandas as pd\n",
    "from sklearn.cross_validation import train_test_split\n",
    "\n",
    "def load_labels():\n",
    "    db = psycopg2.connect(database='martinrasumoff')\n",
    "    cursor = db.cursor()\n",
    "\n",
    "    #Loading Labels\n",
    "    cursor.execute(\"select * from labels_water_pumps;\")\n",
    "    list_labels = cursor.fetchall()\n",
    "   \n",
    "    labels_id =[]\n",
    "    labels_class =[]\n",
    "    for each in list_labels:\n",
    "        labels_id.append(each[0])\n",
    "        labels_class.append(each[1])\n",
    "        \n",
    "    series_labels = pd.DataFrame(labels_class, index=labels_id)\n",
    "\n",
    "    return series_labels\n",
    "\n",
    "df_labels = load_labels()\n",
    "\n",
    "df_labels.columns = ['label']\n",
    "print df_labels.head()\n",
    "print df_labels.tail()"
   ]
  },
  {
   "cell_type": "code",
   "execution_count": 3,
   "metadata": {
    "collapsed": false,
    "scrolled": true
   },
   "outputs": [
    {
     "name": "stdout",
     "output_type": "stream",
     "text": [
      "          0     1           2             3     4             5          6   \\\n",
      "69572  69572  6000  2011-03-14         Roman  1390         Roman  34.938093   \n",
      "8776    8776     0  2013-03-06       Grumeti  1399       GRUMETI  34.698766   \n",
      "34310  34310    25  2013-02-25  Lottery Club   686  World vision  37.460664   \n",
      "67743  67743     0  2013-01-28        Unicef   263        UNICEF  38.486161   \n",
      "19728  19728     0  2011-07-13   Action In A     0       Artisan  31.130847   \n",
      "\n",
      "              7                     8  9          ...                  30  \\\n",
      "69572  -9.856322                  none  0         ...            annually   \n",
      "8776   -2.147466              Zahanati  0         ...           never pay   \n",
      "34310  -3.821329           Kwa Mahundi  0         ...          per bucket   \n",
      "67743 -11.155298  Zahanati Ya Nanyumbu  0         ...           never pay   \n",
      "19728  -1.825359               Shuleni  0         ...           never pay   \n",
      "\n",
      "         31    32            33            34                    35  \\\n",
      "69572  soft  good        enough        enough                spring   \n",
      "8776   soft  good  insufficient  insufficient  rainwater harvesting   \n",
      "34310  soft  good        enough        enough                   dam   \n",
      "67743  soft  good           dry           dry           machine dbh   \n",
      "19728  soft  good      seasonal      seasonal  rainwater harvesting   \n",
      "\n",
      "                         36           37                           38  \\\n",
      "69572                spring  groundwater           communal standpipe   \n",
      "8776   rainwater harvesting      surface           communal standpipe   \n",
      "34310                   dam      surface  communal standpipe multiple   \n",
      "67743              borehole  groundwater  communal standpipe multiple   \n",
      "19728  rainwater harvesting      surface           communal standpipe   \n",
      "\n",
      "                       39  \n",
      "69572  communal standpipe  \n",
      "8776   communal standpipe  \n",
      "34310  communal standpipe  \n",
      "67743  communal standpipe  \n",
      "19728  communal standpipe  \n",
      "\n",
      "[5 rows x 40 columns]\n",
      "          0     1           2                3     4      5          6   \\\n",
      "60739  60739    10  2013-05-03  Germany Republi  1210    CES  37.169807   \n",
      "27263  27263  4700  2011-05-07      Cefa-njombe  1212   Cefa  35.249991   \n",
      "37057  37057     0  2011-04-11             None     0   None  34.017087   \n",
      "31282  31282     0  2011-03-08            Malec     0   Musa  35.861315   \n",
      "26348  26348     0  2011-03-23       World Bank   191  World  38.104048   \n",
      "\n",
      "             7                    8  9          ...                  30  \\\n",
      "60739 -3.253847  Area Three Namba 27  0         ...          per bucket   \n",
      "27263 -9.070629    Kwa Yahona Kuvala  0         ...            annually   \n",
      "37057 -8.750434              Mashine  0         ...             monthly   \n",
      "31282 -6.378573               Mshoro  0         ...           never pay   \n",
      "26348 -6.747464      Kwa Mzee Lugawa  0         ...          on failure   \n",
      "\n",
      "             31        32            33            34            35  \\\n",
      "60739      soft      good        enough        enough        spring   \n",
      "27263      soft      good        enough        enough         river   \n",
      "37057  fluoride  fluoride        enough        enough   machine dbh   \n",
      "31282      soft      good  insufficient  insufficient  shallow well   \n",
      "26348     salty     salty        enough        enough  shallow well   \n",
      "\n",
      "                 36           37                  38                  39  \n",
      "60739        spring  groundwater  communal standpipe  communal standpipe  \n",
      "27263    river/lake      surface  communal standpipe  communal standpipe  \n",
      "37057      borehole  groundwater           hand pump           hand pump  \n",
      "31282  shallow well  groundwater           hand pump           hand pump  \n",
      "26348  shallow well  groundwater           hand pump           hand pump  \n",
      "\n",
      "[5 rows x 40 columns]\n"
     ]
    }
   ],
   "source": [
    "def load_wells():\n",
    "    db = psycopg2.connect(database='martinrasumoff')\n",
    "    cursor = db.cursor()\n",
    "\n",
    "    #Loading Pump Data\n",
    "    cursor.execute(\"select * from water_pumps;\")\n",
    "    list_pumps = cursor.fetchall()\n",
    "\n",
    "    list_pumps_id = []\n",
    "    list_pumps_fields = []\n",
    "    for each in list_pumps:\n",
    "        list_pumps_id.append(each[0])\n",
    "        list_pumps_fields.append(each)\n",
    "\n",
    "    #Converting wells data into a pandas Data Frame\n",
    "    df_pumps = pd.DataFrame(list_pumps_fields, index=list_pumps_id)\n",
    "\n",
    "    return df_pumps\n",
    "\n",
    "df_data = load_wells()\n",
    "\n",
    "print df_data.head()\n",
    "print df_data.tail()"
   ]
  },
  {
   "cell_type": "code",
   "execution_count": 4,
   "metadata": {
    "collapsed": false,
    "scrolled": true
   },
   "outputs": [
    {
     "name": "stdout",
     "output_type": "stream",
     "text": [
      "          id  amount_tsh date_recorded        funder  gps_height  \\\n",
      "69572  69572        6000    2011-03-14         Roman        1390   \n",
      "8776    8776           0    2013-03-06       Grumeti        1399   \n",
      "34310  34310          25    2013-02-25  Lottery Club         686   \n",
      "67743  67743           0    2013-01-28        Unicef         263   \n",
      "19728  19728           0    2011-07-13   Action In A           0   \n",
      "\n",
      "          installer  longitude   latitude              wpt_name num_private  \\\n",
      "69572         Roman  34.938093  -9.856322                  none           0   \n",
      "8776        GRUMETI  34.698766  -2.147466              Zahanati           0   \n",
      "34310  World vision  37.460664  -3.821329           Kwa Mahundi           0   \n",
      "67743        UNICEF  38.486161 -11.155298  Zahanati Ya Nanyumbu           0   \n",
      "19728       Artisan  31.130847  -1.825359               Shuleni           0   \n",
      "\n",
      "               ...          payment_type water_quality quality_group  \\\n",
      "69572          ...              annually          soft          good   \n",
      "8776           ...             never pay          soft          good   \n",
      "34310          ...            per bucket          soft          good   \n",
      "67743          ...             never pay          soft          good   \n",
      "19728          ...             never pay          soft          good   \n",
      "\n",
      "           quantity  quantity_group                source  \\\n",
      "69572        enough          enough                spring   \n",
      "8776   insufficient    insufficient  rainwater harvesting   \n",
      "34310        enough          enough                   dam   \n",
      "67743           dry             dry           machine dbh   \n",
      "19728      seasonal        seasonal  rainwater harvesting   \n",
      "\n",
      "                source_type  source_class              waterpoint_type  \\\n",
      "69572                spring   groundwater           communal standpipe   \n",
      "8776   rainwater harvesting       surface           communal standpipe   \n",
      "34310                   dam       surface  communal standpipe multiple   \n",
      "67743              borehole   groundwater  communal standpipe multiple   \n",
      "19728  rainwater harvesting       surface           communal standpipe   \n",
      "\n",
      "      waterpoint_type_group  \n",
      "69572    communal standpipe  \n",
      "8776     communal standpipe  \n",
      "34310    communal standpipe  \n",
      "67743    communal standpipe  \n",
      "19728    communal standpipe  \n",
      "\n",
      "[5 rows x 40 columns]\n",
      "          id  amount_tsh date_recorded           funder  gps_height installer  \\\n",
      "60739  60739          10    2013-05-03  Germany Republi        1210       CES   \n",
      "27263  27263        4700    2011-05-07      Cefa-njombe        1212      Cefa   \n",
      "37057  37057           0    2011-04-11             None           0      None   \n",
      "31282  31282           0    2011-03-08            Malec           0      Musa   \n",
      "26348  26348           0    2011-03-23       World Bank         191     World   \n",
      "\n",
      "       longitude  latitude             wpt_name num_private  \\\n",
      "60739  37.169807 -3.253847  Area Three Namba 27           0   \n",
      "27263  35.249991 -9.070629    Kwa Yahona Kuvala           0   \n",
      "37057  34.017087 -8.750434              Mashine           0   \n",
      "31282  35.861315 -6.378573               Mshoro           0   \n",
      "26348  38.104048 -6.747464      Kwa Mzee Lugawa           0   \n",
      "\n",
      "               ...          payment_type water_quality quality_group  \\\n",
      "60739          ...            per bucket          soft          good   \n",
      "27263          ...              annually          soft          good   \n",
      "37057          ...               monthly      fluoride      fluoride   \n",
      "31282          ...             never pay          soft          good   \n",
      "26348          ...            on failure         salty         salty   \n",
      "\n",
      "           quantity  quantity_group        source   source_type  source_class  \\\n",
      "60739        enough          enough        spring        spring   groundwater   \n",
      "27263        enough          enough         river    river/lake       surface   \n",
      "37057        enough          enough   machine dbh      borehole   groundwater   \n",
      "31282  insufficient    insufficient  shallow well  shallow well   groundwater   \n",
      "26348        enough          enough  shallow well  shallow well   groundwater   \n",
      "\n",
      "          waterpoint_type waterpoint_type_group  \n",
      "60739  communal standpipe    communal standpipe  \n",
      "27263  communal standpipe    communal standpipe  \n",
      "37057           hand pump             hand pump  \n",
      "31282           hand pump             hand pump  \n",
      "26348           hand pump             hand pump  \n",
      "\n",
      "[5 rows x 40 columns]\n"
     ]
    }
   ],
   "source": [
    "df_data.columns = ['id','amount_tsh',\n",
    "                    'date_recorded',\n",
    "                    'funder',\n",
    "                    'gps_height',\n",
    "                    'installer',\n",
    "                    'longitude',\n",
    "                    'latitude',\n",
    "                    'wpt_name',\n",
    "                    'num_private',\n",
    "                    'basin',\n",
    "                    'subvillage',\n",
    "                    'region',\n",
    "                    'region_code',\n",
    "                    'district_code',\n",
    "                    'lga',\n",
    "                    'ward',\n",
    "                    'population',\n",
    "                    'public_meeting',\n",
    "                    'recorded_by',\n",
    "                    'scheme_management',\n",
    "                    'scheme_name',\n",
    "                    'permit',\n",
    "                    'construction_year',\n",
    "                    'extraction_type',\n",
    "                    'extraction_type_group',\n",
    "                    'extraction_type_class',\n",
    "                    'management',\n",
    "                    'management_group',\n",
    "                    'payment',\n",
    "                    'payment_type',\n",
    "                    'water_quality',\n",
    "                    'quality_group',\n",
    "                    'quantity',\n",
    "                    'quantity_group',\n",
    "                    'source',\n",
    "                    'source_type',\n",
    "                    'source_class',\n",
    "                    'waterpoint_type',\n",
    "                    'waterpoint_type_group']\n",
    "\n",
    "print df_data.head()\n",
    "print df_data.tail()"
   ]
  },
  {
   "cell_type": "code",
   "execution_count": 5,
   "metadata": {
    "collapsed": false,
    "scrolled": true
   },
   "outputs": [
    {
     "name": "stdout",
     "output_type": "stream",
     "text": [
      "          id  amount_tsh date_recorded        funder  gps_height  \\\n",
      "69572  69572        6000    2011-03-14         Roman        1390   \n",
      "8776    8776           0    2013-03-06       Grumeti        1399   \n",
      "34310  34310          25    2013-02-25  Lottery Club         686   \n",
      "67743  67743           0    2013-01-28        Unicef         263   \n",
      "19728  19728           0    2011-07-13   Action In A           0   \n",
      "\n",
      "          installer  longitude   latitude              wpt_name num_private  \\\n",
      "69572         Roman  34.938093  -9.856322                  none           0   \n",
      "8776        GRUMETI  34.698766  -2.147466              Zahanati           0   \n",
      "34310  World vision  37.460664  -3.821329           Kwa Mahundi           0   \n",
      "67743        UNICEF  38.486161 -11.155298  Zahanati Ya Nanyumbu           0   \n",
      "19728       Artisan  31.130847  -1.825359               Shuleni           0   \n",
      "\n",
      "               ...          payment_type water_quality quality_group  \\\n",
      "69572          ...              annually          soft          good   \n",
      "8776           ...             never pay          soft          good   \n",
      "34310          ...            per bucket          soft          good   \n",
      "67743          ...             never pay          soft          good   \n",
      "19728          ...             never pay          soft          good   \n",
      "\n",
      "           quantity  quantity_group                source  \\\n",
      "69572        enough          enough                spring   \n",
      "8776   insufficient    insufficient  rainwater harvesting   \n",
      "34310        enough          enough                   dam   \n",
      "67743           dry             dry           machine dbh   \n",
      "19728      seasonal        seasonal  rainwater harvesting   \n",
      "\n",
      "                source_type  source_class              waterpoint_type  \\\n",
      "69572                spring   groundwater           communal standpipe   \n",
      "8776   rainwater harvesting       surface           communal standpipe   \n",
      "34310                   dam       surface  communal standpipe multiple   \n",
      "67743              borehole   groundwater  communal standpipe multiple   \n",
      "19728  rainwater harvesting       surface           communal standpipe   \n",
      "\n",
      "      waterpoint_type_group  \n",
      "69572    communal standpipe  \n",
      "8776     communal standpipe  \n",
      "34310    communal standpipe  \n",
      "67743    communal standpipe  \n",
      "19728    communal standpipe  \n",
      "\n",
      "[5 rows x 40 columns]\n",
      "                label\n",
      "69572      functional\n",
      "8776       functional\n",
      "34310      functional\n",
      "67743  non functional\n",
      "19728      functional\n",
      "          id  amount_tsh date_recorded           funder  gps_height installer  \\\n",
      "60739  60739          10    2013-05-03  Germany Republi        1210       CES   \n",
      "27263  27263        4700    2011-05-07      Cefa-njombe        1212      Cefa   \n",
      "37057  37057           0    2011-04-11             None           0      None   \n",
      "31282  31282           0    2011-03-08            Malec           0      Musa   \n",
      "26348  26348           0    2011-03-23       World Bank         191     World   \n",
      "\n",
      "       longitude  latitude             wpt_name num_private  \\\n",
      "60739  37.169807 -3.253847  Area Three Namba 27           0   \n",
      "27263  35.249991 -9.070629    Kwa Yahona Kuvala           0   \n",
      "37057  34.017087 -8.750434              Mashine           0   \n",
      "31282  35.861315 -6.378573               Mshoro           0   \n",
      "26348  38.104048 -6.747464      Kwa Mzee Lugawa           0   \n",
      "\n",
      "               ...          payment_type water_quality quality_group  \\\n",
      "60739          ...            per bucket          soft          good   \n",
      "27263          ...              annually          soft          good   \n",
      "37057          ...               monthly      fluoride      fluoride   \n",
      "31282          ...             never pay          soft          good   \n",
      "26348          ...            on failure         salty         salty   \n",
      "\n",
      "           quantity  quantity_group        source   source_type  source_class  \\\n",
      "60739        enough          enough        spring        spring   groundwater   \n",
      "27263        enough          enough         river    river/lake       surface   \n",
      "37057        enough          enough   machine dbh      borehole   groundwater   \n",
      "31282  insufficient    insufficient  shallow well  shallow well   groundwater   \n",
      "26348        enough          enough  shallow well  shallow well   groundwater   \n",
      "\n",
      "          waterpoint_type waterpoint_type_group  \n",
      "60739  communal standpipe    communal standpipe  \n",
      "27263  communal standpipe    communal standpipe  \n",
      "37057           hand pump             hand pump  \n",
      "31282           hand pump             hand pump  \n",
      "26348           hand pump             hand pump  \n",
      "\n",
      "[5 rows x 40 columns]\n",
      "            label\n",
      "60739  functional\n",
      "27263  functional\n",
      "37057  functional\n",
      "31282  functional\n",
      "26348  functional\n"
     ]
    }
   ],
   "source": [
    "print df_data.head()\n",
    "print df_labels.head()\n",
    "print df_data.tail()\n",
    "print df_labels.tail()"
   ]
  },
  {
   "cell_type": "code",
   "execution_count": 6,
   "metadata": {
    "collapsed": false,
    "scrolled": true
   },
   "outputs": [
    {
     "name": "stdout",
     "output_type": "stream",
     "text": [
      "          id  amount_tsh date_recorded        funder  gps_height  \\\n",
      "69572  69572        6000    2011-03-14         Roman        1390   \n",
      "8776    8776           0    2013-03-06       Grumeti        1399   \n",
      "34310  34310          25    2013-02-25  Lottery Club         686   \n",
      "67743  67743           0    2013-01-28        Unicef         263   \n",
      "19728  19728           0    2011-07-13   Action In A           0   \n",
      "\n",
      "          installer  longitude   latitude              wpt_name num_private  \\\n",
      "69572         Roman  34.938093  -9.856322                  none           0   \n",
      "8776        GRUMETI  34.698766  -2.147466              Zahanati           0   \n",
      "34310  World vision  37.460664  -3.821329           Kwa Mahundi           0   \n",
      "67743        UNICEF  38.486161 -11.155298  Zahanati Ya Nanyumbu           0   \n",
      "19728       Artisan  31.130847  -1.825359               Shuleni           0   \n",
      "\n",
      "               ...          payment_type water_quality quality_group  \\\n",
      "69572          ...              annually          soft          good   \n",
      "8776           ...             never pay          soft          good   \n",
      "34310          ...            per bucket          soft          good   \n",
      "67743          ...             never pay          soft          good   \n",
      "19728          ...             never pay          soft          good   \n",
      "\n",
      "           quantity  quantity_group                source  \\\n",
      "69572        enough          enough                spring   \n",
      "8776   insufficient    insufficient  rainwater harvesting   \n",
      "34310        enough          enough                   dam   \n",
      "67743           dry             dry           machine dbh   \n",
      "19728      seasonal        seasonal  rainwater harvesting   \n",
      "\n",
      "                source_type  source_class              waterpoint_type  \\\n",
      "69572                spring   groundwater           communal standpipe   \n",
      "8776   rainwater harvesting       surface           communal standpipe   \n",
      "34310                   dam       surface  communal standpipe multiple   \n",
      "67743              borehole   groundwater  communal standpipe multiple   \n",
      "19728  rainwater harvesting       surface           communal standpipe   \n",
      "\n",
      "      waterpoint_type_group  \n",
      "69572    communal standpipe  \n",
      "8776     communal standpipe  \n",
      "34310    communal standpipe  \n",
      "67743    communal standpipe  \n",
      "19728    communal standpipe  \n",
      "\n",
      "[5 rows x 40 columns]\n",
      "                label\n",
      "69572      functional\n",
      "8776       functional\n",
      "34310      functional\n",
      "67743  non functional\n",
      "19728      functional\n",
      "          id  amount_tsh date_recorded           funder  gps_height installer  \\\n",
      "60739  60739          10    2013-05-03  Germany Republi        1210       CES   \n",
      "27263  27263        4700    2011-05-07      Cefa-njombe        1212      Cefa   \n",
      "37057  37057           0    2011-04-11             None           0      None   \n",
      "31282  31282           0    2011-03-08            Malec           0      Musa   \n",
      "26348  26348           0    2011-03-23       World Bank         191     World   \n",
      "\n",
      "       longitude  latitude             wpt_name num_private  \\\n",
      "60739  37.169807 -3.253847  Area Three Namba 27           0   \n",
      "27263  35.249991 -9.070629    Kwa Yahona Kuvala           0   \n",
      "37057  34.017087 -8.750434              Mashine           0   \n",
      "31282  35.861315 -6.378573               Mshoro           0   \n",
      "26348  38.104048 -6.747464      Kwa Mzee Lugawa           0   \n",
      "\n",
      "               ...          payment_type water_quality quality_group  \\\n",
      "60739          ...            per bucket          soft          good   \n",
      "27263          ...              annually          soft          good   \n",
      "37057          ...               monthly      fluoride      fluoride   \n",
      "31282          ...             never pay          soft          good   \n",
      "26348          ...            on failure         salty         salty   \n",
      "\n",
      "           quantity  quantity_group        source   source_type  source_class  \\\n",
      "60739        enough          enough        spring        spring   groundwater   \n",
      "27263        enough          enough         river    river/lake       surface   \n",
      "37057        enough          enough   machine dbh      borehole   groundwater   \n",
      "31282  insufficient    insufficient  shallow well  shallow well   groundwater   \n",
      "26348        enough          enough  shallow well  shallow well   groundwater   \n",
      "\n",
      "          waterpoint_type waterpoint_type_group  \n",
      "60739  communal standpipe    communal standpipe  \n",
      "27263  communal standpipe    communal standpipe  \n",
      "37057           hand pump             hand pump  \n",
      "31282           hand pump             hand pump  \n",
      "26348           hand pump             hand pump  \n",
      "\n",
      "[5 rows x 40 columns]\n",
      "            label\n",
      "60739  functional\n",
      "27263  functional\n",
      "37057  functional\n",
      "31282  functional\n",
      "26348  functional\n",
      "(59400, 40)\n",
      "(59400, 1)\n",
      "(59400, 41)\n",
      "['id' 'amount_tsh' 'date_recorded' 'funder' 'gps_height' 'installer'\n",
      " 'longitude' 'latitude' 'wpt_name' 'num_private' 'basin' 'subvillage'\n",
      " 'region' 'region_code' 'district_code' 'lga' 'ward' 'population'\n",
      " 'public_meeting' 'recorded_by' 'scheme_management' 'scheme_name' 'permit'\n",
      " 'construction_year' 'extraction_type' 'extraction_type_group'\n",
      " 'extraction_type_class' 'management' 'management_group' 'payment'\n",
      " 'payment_type' 'water_quality' 'quality_group' 'quantity' 'quantity_group'\n",
      " 'source' 'source_type' 'source_class' 'waterpoint_type'\n",
      " 'waterpoint_type_group' 'label']\n"
     ]
    }
   ],
   "source": [
    "print df_data.head()\n",
    "print df_labels.head()\n",
    "print df_data.tail()\n",
    "print df_labels.tail()\n",
    "print df_data.shape\n",
    "print df_labels.shape\n",
    "\n",
    "df_complete = pd.concat([df_data,df_labels],axis=1)\n",
    "\n",
    "#print df_complete.label.head()\n",
    "#print df_complete.label.tail()\n",
    "\n",
    "print df_complete.shape\n",
    "print df_complete.columns.values\n",
    "\n"
   ]
  },
  {
   "cell_type": "code",
   "execution_count": 7,
   "metadata": {
    "collapsed": true
   },
   "outputs": [],
   "source": [
    "df_complete.to_csv('/Users/martinrasumoff/map.csv', sep=',', index=False)"
   ]
  },
  {
   "cell_type": "code",
   "execution_count": 8,
   "metadata": {
    "collapsed": false,
    "scrolled": false
   },
   "outputs": [
    {
     "name": "stdout",
     "output_type": "stream",
     "text": [
      "basin: (59400, 9)\n",
      "Public Meeting: (59400, 2)\n",
      "Scheme Management: (59400, 12)\n",
      "permit: (59400, 2)\n",
      "Data Extraction: (59400, 13)\n",
      "Data Extr Type: (59400, 7)\n",
      "Management Group: (59400, 5)\n",
      "Payment Type: (59400, 7)\n",
      "Quality Group: (59400, 6)\n",
      "Quantity Group: (59400, 5)\n",
      "Source Type: (59400, 7)\n",
      "Source Class: (59400, 3)\n",
      "Waterpoint Type: (59400, 6)\n"
     ]
    }
   ],
   "source": [
    "df_data_basin = pd.get_dummies(df_data['basin'])\n",
    "print 'basin:',df_data_basin.shape\n",
    "df_data_public_meeting = pd.get_dummies(df_data['public_meeting'])\n",
    "print 'Public Meeting:',df_data_public_meeting.shape\n",
    "df_data_scheme_mgmnt = pd.get_dummies(df_data['scheme_management'])\n",
    "print 'Scheme Management:',df_data_scheme_mgmnt.shape\n",
    "df_data_permit = pd.get_dummies(df_data['permit'])\n",
    "print 'permit:',df_data_permit.shape\n",
    "df_data_extraction_type_group = pd.get_dummies(df_data['extraction_type_group'])\n",
    "print 'Data Extraction:',df_data_extraction_type_group.shape\n",
    "df_data_extraction_type_class = pd.get_dummies(df_data['extraction_type_class'])\n",
    "print 'Data Extr Type:',df_data_extraction_type_class.shape\n",
    "df_data_management_group = pd.get_dummies(df_data['management_group'])\n",
    "print 'Management Group:',df_data_management_group.shape\n",
    "df_data_payment_type = pd.get_dummies(df_data['payment_type'])\n",
    "print 'Payment Type:',df_data_payment_type.shape\n",
    "df_data_quality_group = pd.get_dummies(df_data['quality_group'])\n",
    "print 'Quality Group:',df_data_quality_group.shape\n",
    "df_data_quantity_group = pd.get_dummies(df_data['quantity_group'])\n",
    "print 'Quantity Group:',df_data_quantity_group.shape\n",
    "df_data_source_type = pd.get_dummies(df_data['source_type'])\n",
    "print 'Source Type:',df_data_source_type.shape\n",
    "df_data_source_class = pd.get_dummies(df_data['source_class'])\n",
    "print 'Source Class:',df_data_source_class.shape\n",
    "df_data_waterpoint_type_group = pd.get_dummies(df_data['waterpoint_type_group'])\n",
    "print 'Waterpoint Type:',df_data_waterpoint_type_group.shape"
   ]
  },
  {
   "cell_type": "code",
   "execution_count": 9,
   "metadata": {
    "collapsed": false
   },
   "outputs": [
    {
     "name": "stdout",
     "output_type": "stream",
     "text": [
      "(59400, 7)\n",
      "(59400, 91)\n"
     ]
    }
   ],
   "source": [
    "df_data = df_data[['amount_tsh','gps_height','longitude','latitude','region_code','district_code',\\\n",
    "                   'population']]\n",
    "\n",
    "df_coded = pd.concat([df_data,df_data_basin,df_data_public_meeting,df_data_scheme_mgmnt,df_data_permit,\\\n",
    "                      df_data_extraction_type_group,df_data_extraction_type_class,df_data_management_group,\\\n",
    "                      df_data_payment_type,df_data_quality_group,df_data_quantity_group,\\\n",
    "                      df_data_source_type,df_data_source_class,df_data_waterpoint_type_group],axis=1)\n",
    "\n",
    "print df_data.shape\n",
    "print df_coded.shape\n"
   ]
  },
  {
   "cell_type": "code",
   "execution_count": 10,
   "metadata": {
    "collapsed": false,
    "scrolled": true
   },
   "outputs": [
    {
     "name": "stdout",
     "output_type": "stream",
     "text": [
      "59400\n",
      "(59400, 91)\n",
      "59400\n",
      "59400\n"
     ]
    }
   ],
   "source": [
    "df_coded.sort_index(inplace=True)\n",
    "df_labels.sort_index(inplace=True)\n",
    "\n",
    "print (df_labels.index == df_coded.index).sum()\n",
    "print df_coded.shape\n",
    "\n",
    "print len(df_labels)\n",
    "print len(df_coded)"
   ]
  },
  {
   "cell_type": "code",
   "execution_count": 11,
   "metadata": {
    "collapsed": false,
    "scrolled": true
   },
   "outputs": [
    {
     "name": "stdout",
     "output_type": "stream",
     "text": [
      "       amount_tsh  gps_height  longitude   latitude  region_code  \\\n",
      "74240           0        1183  37.007726  -3.280868            2   \n",
      "74242           0           0  33.724987  -8.940758           12   \n",
      "74243           0        1188  33.963539  -1.429477           20   \n",
      "74246          50        1428  35.630481  -7.710549           11   \n",
      "74247          50         965  35.432998 -10.639270           10   \n",
      "\n",
      "       district_code  population  Internal  Lake Nyasa  Lake Rukwa  ...    \\\n",
      "74240              7         350         0           0           0  ...     \n",
      "74242              2           0         0           0           0  ...     \n",
      "74243              6          95         0           0           0  ...     \n",
      "74246              1           1         0           0           0  ...     \n",
      "74247              2         900         0           0           0  ...     \n",
      "\n",
      "       spring  groundwater  surface  unknown  cattle trough  \\\n",
      "74240       0            0        1        0              0   \n",
      "74242       0            0        1        0              0   \n",
      "74243       0            0        1        0              0   \n",
      "74246       1            1        0        0              0   \n",
      "74247       0            0        1        0              0   \n",
      "\n",
      "       communal standpipe  dam  hand pump  improved spring  other  \n",
      "74240                   1    0          0                0      0  \n",
      "74242                   1    0          0                0      0  \n",
      "74243                   1    0          0                0      0  \n",
      "74246                   1    0          0                0      0  \n",
      "74247                   1    0          0                0      0  \n",
      "\n",
      "[5 rows x 91 columns]\n",
      "                label\n",
      "74240      functional\n",
      "74242      functional\n",
      "74243  non functional\n",
      "74246  non functional\n",
      "74247  non functional\n"
     ]
    }
   ],
   "source": [
    "print df_coded.tail()\n",
    "print df_labels.tail()"
   ]
  },
  {
   "cell_type": "code",
   "execution_count": 12,
   "metadata": {
    "collapsed": false
   },
   "outputs": [
    {
     "name": "stdout",
     "output_type": "stream",
     "text": [
      "59400\n",
      "(59400, 91)\n"
     ]
    }
   ],
   "source": [
    "print (df_labels.index == df_coded.index).sum()\n",
    "print df_coded.shape\n",
    "\n"
   ]
  },
  {
   "cell_type": "code",
   "execution_count": 13,
   "metadata": {
    "collapsed": false,
    "scrolled": true
   },
   "outputs": [
    {
     "name": "stdout",
     "output_type": "stream",
     "text": [
      "   amount_tsh  gps_height  longitude  latitude  region_code  district_code  \\\n",
      "0           0           0  33.125828 -5.118154           14              3   \n",
      "1           0        1978  34.770717 -9.395642           11              4   \n",
      "2           0           0  36.115056 -6.279268            1              4   \n",
      "3          10        1639  37.147432 -3.187555            3              5   \n",
      "4           0           0  36.164893 -6.099289            1              4   \n",
      "\n",
      "   population  Internal  Lake Nyasa  Lake Rukwa  ...    spring  groundwater  \\\n",
      "0           0         0           0           0  ...         0            1   \n",
      "1          20         0           0           0  ...         0            1   \n",
      "2           0         0           0           0  ...         0            1   \n",
      "3          25         0           0           0  ...         1            1   \n",
      "4           0         0           0           0  ...         0            1   \n",
      "\n",
      "   surface  unknown  cattle trough  communal standpipe  dam  hand pump  \\\n",
      "0        0        0              0                   0    0          1   \n",
      "1        0        0              0                   0    0          1   \n",
      "2        0        0              0                   1    0          0   \n",
      "3        0        0              0                   1    0          0   \n",
      "4        0        0              0                   0    0          1   \n",
      "\n",
      "   improved spring  other  \n",
      "0                0      0  \n",
      "1                0      0  \n",
      "2                0      0  \n",
      "3                0      0  \n",
      "4                0      0  \n",
      "\n",
      "[5 rows x 91 columns]\n",
      "            label\n",
      "0  non functional\n",
      "1      functional\n",
      "2      functional\n",
      "3      functional\n",
      "4  non functional\n"
     ]
    }
   ],
   "source": [
    "print df_coded.head()\n",
    "print df_labels.head()"
   ]
  },
  {
   "cell_type": "code",
   "execution_count": 16,
   "metadata": {
    "collapsed": true
   },
   "outputs": [],
   "source": [
    "%matplotlib inline"
   ]
  },
  {
   "cell_type": "code",
   "execution_count": null,
   "metadata": {
    "collapsed": false
   },
   "outputs": [],
   "source": [
    "from sklearn.cross_validation import StratifiedKFold\n",
    "\n",
    "X_pumps = df_coded\n",
    "y_pumps = df_labels[['label']]\n",
    "\n",
    "print len(y_pumps)\n",
    "\n",
    "svc = SVC(kernel=\"linear\")\n",
    "rfecv = RFECV(estimator=svc, step=1,scoring='accuracy')\n",
    "#cv=StratifiedKFold(y_pumps, 3)\n",
    "rfecv.fit(X_pumps, y_pumps)\n",
    "\n",
    "print(\"Optimal number of features : %d\" % rfecv.n_features_)\n",
    "\n",
    "# Plot number of features VS. cross-validation scores\n",
    "plt.figure()\n",
    "plt.xlabel(\"Number of features selected\")\n",
    "plt.ylabel(\"Cross validation score (nb of correct classifications)\")\n",
    "plt.plot(range(1, len(rfecv.grid_scores_) + 1), rfecv.grid_scores_)\n",
    "plt.show()"
   ]
  },
  {
   "cell_type": "code",
   "execution_count": 75,
   "metadata": {
    "collapsed": false,
    "scrolled": true
   },
   "outputs": [
    {
     "name": "stdout",
     "output_type": "stream",
     "text": [
      "Feature ranking:\n",
      "1. feature 0 (0.247085) amount_tsh\n",
      "2. feature 1 (0.221539) gps_height\n",
      "3. feature 2 (0.148429) longitude\n",
      "4. feature 5 (0.059561) district_code\n",
      "5. feature 7 (0.057889) Internal\n",
      "6. feature 8 (0.056793) Lake Nyasa\n",
      "7. feature 9 (0.054276) Lake Rukwa\n",
      "8. feature 3 (0.053001) latitude\n",
      "9. feature 4 (0.052121) region_code\n",
      "10. feature 6 (0.049304) population\n"
     ]
    }
   ],
   "source": [
    "import numpy as np\n",
    "import matplotlib.pyplot as plt\n",
    "\n",
    "importances = clf.feature_importances_\n",
    "\n",
    "std = np.std([clf.feature_importances_ for tree in clf.estimators_], axis=0)\n",
    "indices = np.argsort(importances)[::-1]\n",
    "\n",
    "# Print the feature ranking\n",
    "print(\"Feature ranking:\")\n",
    "\n",
    "for f in range(len(indices)):\n",
    "    print(\"%d. feature %d (%f) %s\" % (f + 1, indices[f], importances[indices[f]],df_coded.columns.values[indices[f]]))\n"
   ]
  },
  {
   "cell_type": "code",
   "execution_count": 78,
   "metadata": {
    "collapsed": false
   },
   "outputs": [
    {
     "data": {
      "image/png": "[encoded data removed]",
      "text/plain": [
       "<matplotlib.figure.Figure at 0x12cb6e750>"
      ]
     },
     "metadata": {},
     "output_type": "display_data"
    },
    {
     "name": "stdout",
     "output_type": "stream",
     "text": [
      "   amount_tsh  gps_height  longitude  district_code  Internal  Lake Nyasa  \\\n",
      "0           0           0  33.125828              3         0           0   \n",
      "1           0        1978  34.770717              4         0           0   \n",
      "2           0           0  36.115056              4         0           0   \n",
      "3          10        1639  37.147432              5         0           0   \n",
      "4           0           0  36.164893              4         0           0   \n",
      "\n",
      "   Lake Rukwa  latitude  region_code  population  \n",
      "0           0 -5.118154           14           0  \n",
      "1           0 -9.395642           11          20  \n",
      "2           0 -6.279268            1           0  \n",
      "3           0 -3.187555            3          25  \n",
      "4           0 -6.099289            1           0  \n"
     ]
    }
   ],
   "source": [
    "# Plot the feature importances of the forest\n",
    "plt.figure(figsize=(14,8))\n",
    "plt.title(\"Feature importances\")\n",
    "plt.bar(range(len(indices)), importances[indices], color=\"r\", yerr=std[indices],align=\"center\")\n",
    "plt.xticks(range(len(indices)), df_coded.columns.values, rotation='vertical')\n",
    "plt.xlim([-1, 10])\n",
    "plt.show()\n",
    "#df_coded.columns.values,\n",
    "\n",
    "df_coded_2 = df_coded[['amount_tsh','gps_height','longitude','district_code','Internal','Lake Nyasa','Lake Rukwa',\\\n",
    "                       'latitude','region_code','population']]\n",
    "\n",
    "print df_coded_2.head()\n",
    "#print std"
   ]
  },
  {
   "cell_type": "code",
   "execution_count": 14,
   "metadata": {
    "collapsed": false
   },
   "outputs": [
    {
     "name": "stdout",
     "output_type": "stream",
     "text": [
      "['amount_tsh' 'gps_height' 'longitude' 'latitude' 'region_code'\n",
      " 'district_code' 'population' 'Internal' 'Lake Nyasa' 'Lake Rukwa'\n",
      " 'Lake Tanganyika' 'Lake Victoria' 'Pangani' 'Rufiji'\n",
      " 'Ruvuma / Southern Coast' 'Wami / Ruvu' 'False' 'True' 'Company' 'None'\n",
      " 'Other' 'Parastatal' 'Private operator' 'SWC' 'Trust' 'VWC' 'WUA' 'WUG'\n",
      " 'Water Board' 'Water authority' False True 'afridev' 'gravity'\n",
      " 'india mark ii' 'india mark iii' 'mono' 'nira/tanira' 'other'\n",
      " 'other handpump' 'other motorpump' 'rope pump' 'submersible' 'swn 80'\n",
      " 'wind-powered' 'gravity' 'handpump' 'motorpump' 'other' 'rope pump'\n",
      " 'submersible' 'wind-powered' 'commercial' 'other' 'parastatal' 'unknown'\n",
      " 'user-group' 'annually' 'monthly' 'never pay' 'on failure' 'other'\n",
      " 'per bucket' 'unknown' 'colored' 'fluoride' 'good' 'milky' 'salty'\n",
      " 'unknown' 'dry' 'enough' 'insufficient' 'seasonal' 'unknown' 'borehole'\n",
      " 'dam' 'other' 'rainwater harvesting' 'river/lake' 'shallow well' 'spring'\n",
      " 'groundwater' 'surface' 'unknown' 'cattle trough' 'communal standpipe'\n",
      " 'dam' 'hand pump' 'improved spring' 'other']\n"
     ]
    }
   ],
   "source": [
    "print df_coded.columns.values"
   ]
  },
  {
   "cell_type": "code",
   "execution_count": 79,
   "metadata": {
    "collapsed": false
   },
   "outputs": [
    {
     "name": "stdout",
     "output_type": "stream",
     "text": [
      "   amount_tsh  gps_height  longitude  district_code  Internal  Lake Nyasa  \\\n",
      "0           0           0  33.125828              3         0           0   \n",
      "1           0        1978  34.770717              4         0           0   \n",
      "2           0           0  36.115056              4         0           0   \n",
      "3          10        1639  37.147432              5         0           0   \n",
      "4           0           0  36.164893              4         0           0   \n",
      "\n",
      "   Lake Rukwa  latitude  region_code  population  \n",
      "0           0 -5.118154           14           0  \n",
      "1           0 -9.395642           11          20  \n",
      "2           0 -6.279268            1           0  \n",
      "3           0 -3.187555            3          25  \n",
      "4           0 -6.099289            1           0  \n",
      "            label\n",
      "0  non functional\n",
      "1      functional\n",
      "2      functional\n",
      "3      functional\n",
      "4  non functional\n",
      "       amount_tsh  gps_height  longitude  district_code  Internal  Lake Nyasa  \\\n",
      "74240           0        1183  37.007726              7         0           0   \n",
      "74242           0           0  33.724987              2         0           0   \n",
      "74243           0        1188  33.963539              6         0           0   \n",
      "74246          50        1428  35.630481              1         0           0   \n",
      "74247          50         965  35.432998              2         0           0   \n",
      "\n",
      "       Lake Rukwa   latitude  region_code  population  \n",
      "74240           0  -3.280868            2         350  \n",
      "74242           0  -8.940758           12           0  \n",
      "74243           0  -1.429477           20          95  \n",
      "74246           0  -7.710549           11           1  \n",
      "74247           0 -10.639270           10         900  \n",
      "                label\n",
      "74240      functional\n",
      "74242      functional\n",
      "74243  non functional\n",
      "74246  non functional\n",
      "74247  non functional\n"
     ]
    }
   ],
   "source": [
    "print df_coded_2.head()\n",
    "print df_labels.head()\n",
    "print df_coded_2.tail()\n",
    "print df_labels.tail()"
   ]
  },
  {
   "cell_type": "code",
   "execution_count": 80,
   "metadata": {
    "collapsed": false
   },
   "outputs": [],
   "source": [
    "import pylab as pl\n",
    "import numpy as np\n",
    "import statsmodels.api as sm\n",
    "from sklearn.neighbors import KNeighborsClassifier\n",
    "from sklearn.metrics import accuracy_score\n",
    "from sklearn.cross_validation import train_test_split\n",
    "from sklearn.linear_model import LogisticRegression\n",
    "from sklearn.metrics import precision_score\n",
    "from sklearn.metrics import recall_score\n",
    "from sklearn.metrics import f1_score\n",
    "from sklearn.metrics import precision_recall_fscore_support"
   ]
  },
  {
   "cell_type": "code",
   "execution_count": 81,
   "metadata": {
    "collapsed": false,
    "scrolled": true
   },
   "outputs": [
    {
     "name": "stdout",
     "output_type": "stream",
     "text": [
      "DTC Regression Score: 0.648540965208\n"
     ]
    }
   ],
   "source": [
    "from sklearn.tree import DecisionTreeClassifier\n",
    "\n",
    "X_pumps_train, X_pumps_test, y_pumps_train, y_pumps_test = train_test_split(df_coded_2, df_labels, test_size=0.30, random_state=79)\n",
    "y_pumps_train_lbl = y_pumps_train[['label']]\n",
    "y_pumps_test_lbl = y_pumps_test[['label']]\n",
    "\n",
    "dtc = DecisionTreeClassifier()\n",
    "dtc.fit(X_pumps_train, y_pumps_train_lbl)\n",
    "a = dtc.predict(X_pumps_test)\n",
    "result = dtc.score(X_pumps_test, y_pumps_test_lbl)\n",
    "\n",
    "print 'DTC Regression Score:',str(result)\n"
   ]
  },
  {
   "cell_type": "code",
   "execution_count": 82,
   "metadata": {
    "collapsed": false
   },
   "outputs": [
    {
     "name": "stdout",
     "output_type": "stream",
     "text": [
      "RFC Regression Score: 0.692031425365\n"
     ]
    },
    {
     "name": "stderr",
     "output_type": "stream",
     "text": [
      "/anaconda/lib/python2.7/site-packages/IPython/kernel/__main__.py:9: DataConversionWarning: A column-vector y was passed when a 1d array was expected. Please change the shape of y to (n_samples,), for example using ravel().\n"
     ]
    }
   ],
   "source": [
    "from sklearn.ensemble import RandomForestClassifier\n",
    "from numpy import genfromtxt, savetxt\n",
    "\n",
    "X_pumps_train, X_pumps_test, y_pumps_train, y_pumps_test = train_test_split(df_coded_2, df_labels, test_size=0.30, random_state=79)\n",
    "y_pumps_train_lbl = y_pumps_train[['label']]\n",
    "y_pumps_test_lbl = y_pumps_test[['label']]\n",
    "    \n",
    "rfc = RandomForestClassifier()\n",
    "x = rfc.fit(X_pumps_train, y_pumps_train_lbl)\n",
    "a = rfc.predict(X_pumps_test)\n",
    "\n",
    "result = rfc.score(X_pumps_test, y_pumps_test_lbl)\n",
    "\n",
    "print 'RFC Regression Score:',str(result)\n"
   ]
  },
  {
   "cell_type": "code",
   "execution_count": 19,
   "metadata": {
    "collapsed": false,
    "scrolled": true
   },
   "outputs": [
    {
     "name": "stdout",
     "output_type": "stream",
     "text": [
      "      id  amount_tsh date_recorded                  funder  gps_height  \\\n",
      "0  50785           0    2013-02-04                    Dmdd        1996   \n",
      "1  51630           0    2013-02-04  Government Of Tanzania        1569   \n",
      "2  17168           0    2013-02-01                     NaN        1567   \n",
      "3  45559           0    2013-01-22              Finn Water         267   \n",
      "4  49871         500    2013-03-27                  Bruder        1260   \n",
      "\n",
      "    installer  longitude   latitude                 wpt_name  num_private  \\\n",
      "0        DMDD  35.290799  -4.059696  Dinamu Secondary School            0   \n",
      "1         DWE  36.656709  -3.309214                  Kimnyak            0   \n",
      "2         NaN  34.767863  -5.004344           Puma Secondary            0   \n",
      "3  FINN WATER  38.058046  -9.418672           Kwa Mzee Pange            0   \n",
      "4      BRUDER  35.006123 -10.950412          Kwa Mzee Turuka            0   \n",
      "\n",
      "           ...          payment_type water_quality quality_group  \\\n",
      "0          ...             never pay          soft          good   \n",
      "1          ...             never pay          soft          good   \n",
      "2          ...             never pay          soft          good   \n",
      "3          ...               unknown          soft          good   \n",
      "4          ...               monthly          soft          good   \n",
      "\n",
      "       quantity  quantity_group                source           source_type  \\\n",
      "0      seasonal        seasonal  rainwater harvesting  rainwater harvesting   \n",
      "1  insufficient    insufficient                spring                spring   \n",
      "2  insufficient    insufficient  rainwater harvesting  rainwater harvesting   \n",
      "3           dry             dry          shallow well          shallow well   \n",
      "4        enough          enough                spring                spring   \n",
      "\n",
      "   source_class     waterpoint_type waterpoint_type_group  \n",
      "0       surface               other                 other  \n",
      "1   groundwater  communal standpipe    communal standpipe  \n",
      "2       surface               other                 other  \n",
      "3   groundwater               other                 other  \n",
      "4   groundwater  communal standpipe    communal standpipe  \n",
      "\n",
      "[5 rows x 40 columns]\n",
      "      id  amount_tsh  gps_height  longitude   latitude  region_code  \\\n",
      "0  50785           0        1996  35.290799  -4.059696           21   \n",
      "1  51630           0        1569  36.656709  -3.309214            2   \n",
      "2  17168           0        1567  34.767863  -5.004344           13   \n",
      "3  45559           0         267  38.058046  -9.418672           80   \n",
      "4  49871         500        1260  35.006123 -10.950412           10   \n",
      "\n",
      "   district_code  population                    basin public_meeting  \\\n",
      "0              3         321                 Internal           True   \n",
      "1              2         300                  Pangani           True   \n",
      "2              2         500                 Internal           True   \n",
      "3             43         250  Ruvuma / Southern Coast            NaN   \n",
      "4              3          60  Ruvuma / Southern Coast            NaN   \n",
      "\n",
      "           ...          permit extraction_type_group extraction_type_class  \\\n",
      "0          ...            True                 other                 other   \n",
      "1          ...            True               gravity               gravity   \n",
      "2          ...             NaN                 other                 other   \n",
      "3          ...            True                 other                 other   \n",
      "4          ...            True               gravity               gravity   \n",
      "\n",
      "  management_group payment_type quality_group quantity_group  \\\n",
      "0       parastatal    never pay          good       seasonal   \n",
      "1       user-group    never pay          good   insufficient   \n",
      "2       user-group    never pay          good   insufficient   \n",
      "3       user-group      unknown          good            dry   \n",
      "4       user-group      monthly          good         enough   \n",
      "\n",
      "            source_type source_class waterpoint_type_group  \n",
      "0  rainwater harvesting      surface                 other  \n",
      "1                spring  groundwater    communal standpipe  \n",
      "2  rainwater harvesting      surface                 other  \n",
      "3          shallow well  groundwater                 other  \n",
      "4                spring  groundwater    communal standpipe  \n",
      "\n",
      "[5 rows x 21 columns]\n"
     ]
    }
   ],
   "source": [
    "test = pd.read_csv('/Users/martinrasumoff/Desktop/metis/mcnulty/Pumpitup/test.csv')\n",
    "print test.head()\n",
    "\n",
    "test = test[['id','amount_tsh','gps_height','longitude','latitude','region_code','district_code',\\\n",
    "            'population','basin','public_meeting','scheme_management','permit',\\\n",
    "            'extraction_type_group','extraction_type_class','management_group',\\\n",
    "            'payment_type','quality_group','quantity_group',\\\n",
    "            'source_type','source_class','waterpoint_type_group']]\n",
    "\n",
    "print test.head()"
   ]
  },
  {
   "cell_type": "code",
   "execution_count": 20,
   "metadata": {
    "collapsed": false
   },
   "outputs": [
    {
     "name": "stdout",
     "output_type": "stream",
     "text": [
      "basin: (14850, 9)\n",
      "Public Meeting: (14850, 2)\n",
      "Scheme Management: (14850, 11)\n",
      "permit: (14850, 2)\n",
      "Data Extraction: (14850, 13)\n",
      "Data Extr Type: (14850, 7)\n",
      "Management Group: (14850, 5)\n",
      "Payment Type: (14850, 7)\n",
      "Quality Group: (14850, 6)\n",
      "Quantity Group: (14850, 5)\n",
      "Source Type: (14850, 7)\n",
      "Source Class: (14850, 3)\n",
      "Waterpoint Type: (14850, 6)\n"
     ]
    }
   ],
   "source": [
    "tf_data_basin = pd.get_dummies(test['basin'])\n",
    "print 'basin:',tf_data_basin.shape\n",
    "tf_data_public_meeting = pd.get_dummies(test['public_meeting'])\n",
    "print 'Public Meeting:',tf_data_public_meeting.shape\n",
    "tf_data_scheme_mgmnt = pd.get_dummies(test['scheme_management'])\n",
    "print 'Scheme Management:',tf_data_scheme_mgmnt.shape\n",
    "tf_data_permit = pd.get_dummies(test['permit'])\n",
    "print 'permit:',tf_data_permit.shape\n",
    "tf_data_extraction_type_group = pd.get_dummies(test['extraction_type_group'])\n",
    "print 'Data Extraction:',tf_data_extraction_type_group.shape\n",
    "tf_data_extraction_type_class = pd.get_dummies(test['extraction_type_class'])\n",
    "print 'Data Extr Type:',tf_data_extraction_type_class.shape\n",
    "tf_data_management_group = pd.get_dummies(test['management_group'])\n",
    "print 'Management Group:',tf_data_management_group.shape\n",
    "tf_data_payment_type = pd.get_dummies(test['payment_type'])\n",
    "print 'Payment Type:',tf_data_payment_type.shape\n",
    "tf_data_quality_group = pd.get_dummies(test['quality_group'])\n",
    "print 'Quality Group:',tf_data_quality_group.shape\n",
    "tf_data_quantity_group = pd.get_dummies(test['quantity_group'])\n",
    "print 'Quantity Group:',tf_data_quantity_group.shape\n",
    "tf_data_source_type = pd.get_dummies(test['source_type'])\n",
    "print 'Source Type:',tf_data_source_type.shape\n",
    "tf_data_source_class = pd.get_dummies(test['source_class'])\n",
    "print 'Source Class:',tf_data_source_class.shape\n",
    "tf_data_waterpoint_type_group = pd.get_dummies(test['waterpoint_type_group'])\n",
    "print 'Waterpoint Type:',tf_data_waterpoint_type_group.shape"
   ]
  },
  {
   "cell_type": "code",
   "execution_count": 23,
   "metadata": {
    "collapsed": false
   },
   "outputs": [
    {
     "name": "stdout",
     "output_type": "stream",
     "text": [
      "(14850, 8)\n",
      "(14850, 91)\n",
      "<class 'pandas.core.frame.DataFrame'>\n"
     ]
    }
   ],
   "source": [
    "tf_data = test[['id','amount_tsh','gps_height','longitude','latitude','region_code','district_code',\\\n",
    "                   'population']]\n",
    "\n",
    "tf_coded = pd.concat([tf_data,tf_data_basin,tf_data_public_meeting,tf_data_scheme_mgmnt,tf_data_permit,\\\n",
    "                      tf_data_extraction_type_group,tf_data_extraction_type_class,tf_data_management_group,\\\n",
    "                      tf_data_payment_type,tf_data_quality_group,tf_data_quantity_group,\\\n",
    "                      tf_data_source_type,tf_data_source_class,tf_data_waterpoint_type_group],axis=1)\n",
    "\n",
    "print tf_data.shape\n",
    "print tf_coded.shape\n",
    "print type(tf_coded)"
   ]
  },
  {
   "cell_type": "code",
   "execution_count": 27,
   "metadata": {
    "collapsed": false,
    "scrolled": true
   },
   "outputs": [
    {
     "name": "stdout",
     "output_type": "stream",
     "text": [
      "   amount_tsh  gps_height  longitude   latitude  region_code  district_code  \\\n",
      "0           0        1996  35.290799  -4.059696           21              3   \n",
      "1           0        1569  36.656709  -3.309214            2              2   \n",
      "2           0        1567  34.767863  -5.004344           13              2   \n",
      "3           0         267  38.058046  -9.418672           80             43   \n",
      "4         500        1260  35.006123 -10.950412           10              3   \n",
      "\n",
      "   population  Internal  Lake Nyasa  Lake Rukwa  \n",
      "0         321         1           0           0  \n",
      "1         300         0           0           0  \n",
      "2         500         1           0           0  \n",
      "3         250         0           0           0  \n",
      "4          60         0           0           0  \n",
      "       amount_tsh  gps_height  longitude   latitude  region_code  \\\n",
      "14845           0          34  38.852669  -6.582841            6   \n",
      "14846        1000           0  37.451633  -5.350428            4   \n",
      "14847           0        1476  34.739804  -4.585587           13   \n",
      "14848           0         998  35.432732 -10.584159           10   \n",
      "14849           0         481  34.765054 -11.226012           10   \n",
      "\n",
      "       district_code  population  Internal  Lake Nyasa  Lake Rukwa  \n",
      "14845              1          20         0           0           0  \n",
      "14846              7        2960         0           0           0  \n",
      "14847              2         200         1           0           0  \n",
      "14848              2         150         0           1           0  \n",
      "14849              3          40         0           1           0  \n",
      "      id\n",
      "0  50785\n",
      "1  51630\n",
      "2  17168\n",
      "3  45559\n",
      "4  49871\n",
      "          id\n",
      "14845  39307\n",
      "14846  18990\n",
      "14847  28749\n",
      "14848  33492\n",
      "14849  68707\n"
     ]
    }
   ],
   "source": [
    "tf_ids = tf_coded[['id']]\n",
    "\n",
    "tf_coded_2 = tf_coded[['amount_tsh','gps_height','longitude','latitude','region_code','district_code',\\\n",
    "                       'population','Internal','Lake Nyasa','Lake Rukwa']]\n",
    "\n",
    "print tf_coded_2.head()\n",
    "print tf_coded_2.tail()\n",
    "print tf_ids.head()\n",
    "print tf_ids.tail()"
   ]
  },
  {
   "cell_type": "code",
   "execution_count": 29,
   "metadata": {
    "collapsed": false
   },
   "outputs": [],
   "source": [
    "a = rfc.predict(tf_coded_2)"
   ]
  },
  {
   "cell_type": "code",
   "execution_count": 30,
   "metadata": {
    "collapsed": false
   },
   "outputs": [
    {
     "name": "stdout",
     "output_type": "stream",
     "text": [
      "['non functional' 'functional' 'functional' ..., 'functional' 'functional'\n",
      " 'non functional']\n"
     ]
    }
   ],
   "source": [
    "print a"
   ]
  },
  {
   "cell_type": "code",
   "execution_count": 31,
   "metadata": {
    "collapsed": false
   },
   "outputs": [
    {
     "name": "stdout",
     "output_type": "stream",
     "text": [
      "14850\n",
      "      id    status_group\n",
      "0  50785  non functional\n",
      "1  51630      functional\n",
      "2  17168      functional\n",
      "3  45559  non functional\n",
      "4  49871      functional\n",
      "          id    status_group\n",
      "14845  39307  non functional\n",
      "14846  18990      functional\n",
      "14847  28749      functional\n",
      "14848  33492      functional\n",
      "14849  68707  non functional\n"
     ]
    }
   ],
   "source": [
    "pred = a\n",
    "\n",
    "to_submit = []\n",
    "print len(tf_coded)\n",
    "for ind in range(len(tf_coded)):\n",
    "    ids = tf_coded.id[ind]\n",
    "    to_pred = pred[ind]\n",
    "    #print ids,' - ',to_pred\n",
    "    to_submit.append([ids,to_pred])\n",
    "    \n",
    "df_submit = pd.DataFrame(to_submit)\n",
    "df_submit.columns = ['id','status_group']\n",
    "print df_submit.head()\n",
    "print df_submit.tail()\n",
    "\n",
    "df_submit.to_csv('/Users/martinrasumoff/submission_6.csv', sep=',', index=False)\n"
   ]
  },
  {
   "cell_type": "raw",
   "metadata": {},
   "source": []
  },
  {
   "cell_type": "code",
   "execution_count": 32,
   "metadata": {
    "collapsed": false
   },
   "outputs": [
    {
     "name": "stdout",
     "output_type": "stream",
     "text": [
      "['non functional' 'functional' 'functional needs repair']\n"
     ]
    }
   ],
   "source": [
    "print df_submit['status_group'].unique()"
   ]
  },
  {
   "cell_type": "code",
   "execution_count": 33,
   "metadata": {
    "collapsed": false
   },
   "outputs": [
    {
     "name": "stdout",
     "output_type": "stream",
     "text": [
      "14850\n",
      "      id             status_group\n",
      "0  50785               functional\n",
      "1  51630  functional needs repair\n",
      "2  17168               functional\n",
      "3  45559           non functional\n",
      "4  49871               functional\n",
      "          id    status_group\n",
      "14845  39307  non functional\n",
      "14846  18990      functional\n",
      "14847  28749      functional\n",
      "14848  33492      functional\n",
      "14849  68707  non functional\n"
     ]
    }
   ],
   "source": [
    "'''\n",
    "sklearn.featureselection.VarianceThresholds\n",
    "'''\n",
    "\n",
    "a = dtc.predict(tf_coded_2)\n",
    "\n",
    "pred = a\n",
    "\n",
    "to_submit = []\n",
    "print len(tf_coded)\n",
    "for ind in range(len(tf_coded)):\n",
    "    ids = tf_coded.id[ind]\n",
    "    to_pred = pred[ind]\n",
    "    #print ids,' - ',to_pred\n",
    "    to_submit.append([ids,to_pred])\n",
    "    \n",
    "df_submit = pd.DataFrame(to_submit)\n",
    "df_submit.columns = ['id','status_group']\n",
    "print df_submit.head()\n",
    "print df_submit.tail()\n",
    "\n",
    "df_submit.to_csv('/Users/martinrasumoff/submission_7.csv', sep=',', index=False)\n",
    "\n"
   ]
  },
  {
   "cell_type": "code",
   "execution_count": null,
   "metadata": {
    "collapsed": true
   },
   "outputs": [],
   "source": [
    "print df_submit['status_group'].unique()"
   ]
  }
 ],
 "metadata": {
  "kernelspec": {
   "display_name": "Python 2",
   "language": "python",
   "name": "python2"
  },
  "language_info": {
   "codemirror_mode": {
    "name": "ipython",
    "version": 2
   },
   "file_extension": ".py",
   "mimetype": "text/x-python",
   "name": "python",
   "nbconvert_exporter": "python",
   "pygments_lexer": "ipython2",
   "version": "2.7.10"
  }
 },
 "nbformat": 4,
 "nbformat_minor": 0
}
